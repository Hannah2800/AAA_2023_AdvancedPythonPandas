{
 "cells": [
  {
   "cell_type": "code",
   "execution_count": 6,
   "id": "e1add5e7",
   "metadata": {},
   "outputs": [],
   "source": [
    "# import all necessary packages\n",
    "import pandas as pd\n",
    "import numpy as np\n",
    "import json\n",
    "import datetime\n",
    "import warnings\n",
    "from pandas.core.common import SettingWithCopyWarning\n",
    "\n",
    "#warnings.simplefilter(action=\"ignore\", category=SettingWithCopyWarning)\n",
    "#import seaborn as sns\n",
    "#import matplotlib as mlp\n",
    "import matplotlib.pyplot as plt\n",
    "#from datetime import datetime\n",
    "from sklearn.pipeline import Pipeline\n",
    "from sklearn.compose import ColumnTransformer\n",
    "from sklearn.preprocessing import OneHotEncoder, StandardScaler\n",
    "from sklearn.linear_model import LinearRegression\n",
    "from sklearn import metrics\n",
    "from sklearn.svm import SVR\n",
    "import math\n",
    "from sklearn import datasets\n",
    "from sklearn.metrics import mean_squared_error\n",
    "from scipy.stats import loguniform"
   ]
  },
  {
   "cell_type": "code",
   "execution_count": 7,
   "id": "b638a27a",
   "metadata": {},
   "outputs": [],
   "source": [
    "# import datasets\n",
    "df_2h_comar = pd.read_csv(\"data/datasets/df_2h_comar.csv\")\n",
    "df_2h_hexlow = pd.read_csv(\"data/datasets/df_2h_hexlow.csv\")\n",
    "df_2h_hexmed = pd.read_csv(\"data/datasets/df_2h_hexmed.csv\")\n",
    "df_2h_hexhig = pd.read_csv(\"data/datasets/df_2h_hexhig.csv\")"
   ]
  },
  {
   "cell_type": "code",
   "execution_count": 8,
   "id": "e328533b",
   "metadata": {},
   "outputs": [],
   "source": [
    "df_2h_comar.drop(columns = ['date_start'],inplace = True)\n",
    "df_2h_hexlow.drop(columns = ['date_start'],inplace = True)\n",
    "df_2h_hexmed.drop(columns = ['date_start'],inplace = True)\n",
    "df_2h_hexhig.drop(columns = ['date_start'],inplace = True)"
   ]
  },
  {
   "cell_type": "code",
   "execution_count": 24,
   "id": "98b316a2",
   "metadata": {},
   "outputs": [],
   "source": []
  },
  {
   "cell_type": "code",
   "execution_count": null,
   "id": "cf1f7960",
   "metadata": {},
   "outputs": [],
   "source": []
  }
 ],
 "metadata": {
  "kernelspec": {
   "display_name": "Python 3 (ipykernel)",
   "language": "python",
   "name": "python3"
  },
  "language_info": {
   "codemirror_mode": {
    "name": "ipython",
    "version": 3
   },
   "file_extension": ".py",
   "mimetype": "text/x-python",
   "name": "python",
   "nbconvert_exporter": "python",
   "pygments_lexer": "ipython3",
   "version": "3.9.12"
  }
 },
 "nbformat": 4,
 "nbformat_minor": 5
}
