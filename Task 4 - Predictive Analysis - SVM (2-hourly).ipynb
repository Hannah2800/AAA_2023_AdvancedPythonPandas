{
 "cells": [
  {
   "cell_type": "markdown",
   "id": "29624273",
   "metadata": {},
   "source": [
    "# Support Vector Machine - 2 Hourly Taxi Demand Prediction\n",
    "\n",
    "In this section we predict the 2-hourly demand of taxi trips in Chicago. \n",
    "The prediciton we perform by building a model are based on data from 2013, provided from Chicago (website: https://data.cityofchicago.org/Transportation/Taxi-Trips/wrvz-psew).\n",
    "\n",
    "We split the prediction into spatial units:\n",
    "- Community Areas\n",
    "- hexagons with low resolution\n",
    "- hexagons with medium resolution\n",
    "- hexagons with high resolution\n",
    "\n",
    "For each of the units we perform a seperate prediction based on data we have aggregeated in our preparation.\n",
    "\n",
    "For that we proceed as follows:\n",
    "\n",
    "- Build SVM model with different kernels to find out which performs best. We do this based on Community areas.\n",
    "- Hyperparameter tuning to find the best ones\n",
    "- Build the model with found kernel and hyperparameters: make predictions for all spatial units\n",
    "- Evaluation\n",
    "\n",
    "<hr style=\"border: 1px solid #8888;\">"
   ]
  },
  {
   "cell_type": "code",
   "execution_count": 1,
   "id": "e1add5e7",
   "metadata": {},
   "outputs": [],
   "source": [
    "# import all necessary packages\n",
    "import pandas as pd\n",
    "import numpy as np\n",
    "import json\n",
    "import datetime\n",
    "import warnings\n",
    "from pandas.core.common import SettingWithCopyWarning\n",
    "\n",
    "#warnings.simplefilter(action=\"ignore\", category=SettingWithCopyWarning)\n",
    "#import seaborn as sns\n",
    "#import matplotlib as mlp\n",
    "import matplotlib.pyplot as plt\n",
    "#from datetime import datetime\n",
    "\n",
    "from sklearn.linear_model import LinearRegression\n",
    "\n",
    "from sklearn.svm import SVR\n",
    "from sklearn import datasets\n",
    "\n",
    "from scipy.stats import loguniform\n",
    "\n",
    "import predictive as pred"
   ]
  },
  {
   "cell_type": "code",
   "execution_count": 2,
   "id": "b638a27a",
   "metadata": {},
   "outputs": [],
   "source": [
    "# import datasets\n",
    "df_2h_comar = pd.read_csv(\"data/datasets/df_2h_comar.csv\")\n",
    "df_2h_hexlow = pd.read_csv(\"data/datasets/df_2h_hexlow.csv\")\n",
    "df_2h_hexmed = pd.read_csv(\"data/datasets/df_2h_hexmed.csv\")\n",
    "df_2h_hexhig = pd.read_csv(\"data/datasets/df_2h_hexhig.csv\")"
   ]
  },
  {
   "cell_type": "code",
   "execution_count": 3,
   "id": "73e80c49",
   "metadata": {},
   "outputs": [],
   "source": [
    "df_2h_comar.drop(columns = ['date_start'],inplace = True)\n",
    "df_2h_hexlow.drop(columns = ['date_start'],inplace = True)\n",
    "df_2h_hexmed.drop(columns = ['date_start'],inplace = True)\n",
    "df_2h_hexhig.drop(columns = ['date_start'],inplace = True)"
   ]
  },
  {
   "cell_type": "code",
   "execution_count": 4,
   "id": "cf1f7960",
   "metadata": {},
   "outputs": [],
   "source": [
    "df_2h_comar = pred.dayandseas_to_int(df_2h_comar)\n",
    "df_2h_hexlow = pred.dayandseas_to_int(df_2h_hexlow)\n",
    "df_2h_hexmed = pred.dayandseas_to_int(df_2h_hexmed)\n",
    "df_2h_hexhig = pred.dayandseas_to_int(df_2h_hexhig)"
   ]
  },
  {
   "cell_type": "markdown",
   "id": "ab942a47",
   "metadata": {},
   "source": [
    "<hr style=\"border: 1px solid #8888;\">\n",
    "\n",
    "## 2 Hourly Demand - Community Area"
   ]
  },
  {
   "cell_type": "code",
   "execution_count": 5,
   "id": "a5976277",
   "metadata": {},
   "outputs": [],
   "source": [
    "x_train_val, y_train_val, x_train, y_train, x_val, y_val, x_test, y_test = pred.train_val_test(df_2h_comar,\n",
    "                                                                                        testsize=0.3,\n",
    "                                                                                        valsize=0.2)"
   ]
  },
  {
   "cell_type": "code",
   "execution_count": 6,
   "id": "5e76eaea",
   "metadata": {},
   "outputs": [],
   "source": [
    "categoric, numeric = pred.cat_and_num('Pickup_Community_Area')"
   ]
  },
  {
   "cell_type": "markdown",
   "id": "5c2222d8",
   "metadata": {},
   "source": [
    "### Building the model: Checking for the best kernel"
   ]
  },
  {
   "cell_type": "markdown",
   "id": "ba51e804",
   "metadata": {},
   "source": [
    "#### SVR KERNEL: LINEAR"
   ]
  },
  {
   "cell_type": "code",
   "execution_count": 7,
   "id": "ec807ac1",
   "metadata": {},
   "outputs": [],
   "source": [
    "svr_lin = SVR(kernel = 'linear',verbose = 10,cache_size=15000, max_iter=50000)"
   ]
  },
  {
   "cell_type": "code",
   "execution_count": 8,
   "id": "4938d726",
   "metadata": {},
   "outputs": [
    {
     "name": "stdout",
     "output_type": "stream",
     "text": [
      "[LibSVM].................................................WARN: libsvm Solver reached max_iter\n",
      "optimization finished, #iter = 50000\n",
      "obj = -3557289.274868, rho = -22.790468\n",
      "nSV = 79162, nBSV = 75865\n"
     ]
    },
    {
     "name": "stderr",
     "output_type": "stream",
     "text": [
      "/opt/anaconda3/lib/python3.9/site-packages/sklearn/svm/_base.py:299: ConvergenceWarning: Solver terminated early (max_iter=50000).  Consider pre-processing your data with StandardScaler or MinMaxScaler.\n",
      "  warnings.warn(\n"
     ]
    },
    {
     "name": "stdout",
     "output_type": "stream",
     "text": [
      "MODEL SCORES:\n",
      "MAE:  37.282\n",
      "MSE:  13478.358\n",
      "RMSE:  116.096\n",
      "Accuracy: 43.31 %\n",
      "R2:  60.875 %\n",
      "Max Residual Error:  1994.164\n"
     ]
    }
   ],
   "source": [
    "pipeline = pred.pipeline_fit_predict(svr_lin, categoric, numeric, x_train_val, y_train_val, x_test, y_test,\n",
    "                               df_2h_comar, 'numOfTaxis_area')"
   ]
  },
  {
   "cell_type": "markdown",
   "id": "41f345e3",
   "metadata": {},
   "source": [
    "#### SVR KERNEL: POLYNOMIAL WITH DEGREE 2"
   ]
  },
  {
   "cell_type": "code",
   "execution_count": 11,
   "id": "4c2ff44d",
   "metadata": {},
   "outputs": [],
   "source": [
    "svr_poly2 = SVR(kernel = 'poly',degree = 2, verbose = 10,cache_size=15000, max_iter=50000)"
   ]
  },
  {
   "cell_type": "code",
   "execution_count": 13,
   "id": "8de7437a",
   "metadata": {},
   "outputs": [
    {
     "name": "stdout",
     "output_type": "stream",
     "text": [
      "[LibSVM].................................................WARN: libsvm Solver reached max_iter\n",
      "optimization finished, #iter = 50000\n",
      "obj = -5359909.670669, rho = -10.815140\n",
      "nSV = 92121, nBSV = 90207\n"
     ]
    },
    {
     "name": "stderr",
     "output_type": "stream",
     "text": [
      "/opt/anaconda3/lib/python3.9/site-packages/sklearn/svm/_base.py:299: ConvergenceWarning: Solver terminated early (max_iter=50000).  Consider pre-processing your data with StandardScaler or MinMaxScaler.\n",
      "  warnings.warn(\n"
     ]
    },
    {
     "name": "stdout",
     "output_type": "stream",
     "text": [
      "MODEL SCORES:\n",
      "MAE:  51.410\n",
      "MSE:  30873.496\n",
      "RMSE:  175.709\n",
      "Accuracy: 21.83 %\n",
      "R2:  10.381 %\n",
      "Max Residual Error:  2488.999\n"
     ]
    }
   ],
   "source": [
    "pipeline = pred.pipeline_fit_predict(svr_poly2, categoric, numeric, x_train_val, y_train_val, x_test, y_test,\n",
    "                                df_2h_comar, 'numOfTaxis_area')"
   ]
  },
  {
   "cell_type": "markdown",
   "id": "daba3fe2",
   "metadata": {},
   "source": [
    "#### SVR KERNEL: POLYNOMIAL WITH DEGREE 3"
   ]
  },
  {
   "cell_type": "code",
   "execution_count": 14,
   "id": "cc73e48f",
   "metadata": {},
   "outputs": [],
   "source": [
    "svr_poly3 = SVR(kernel = 'poly',verbose = 10,cache_size=15000, max_iter=50000)"
   ]
  },
  {
   "cell_type": "code",
   "execution_count": 15,
   "id": "18bb26dc",
   "metadata": {},
   "outputs": [
    {
     "name": "stdout",
     "output_type": "stream",
     "text": [
      "[LibSVM].................................................WARN: libsvm Solver reached max_iter\n",
      "optimization finished, #iter = 50000\n",
      "obj = -5567326.040863, rho = -8.122697\n",
      "nSV = 92283, nBSV = 88934\n"
     ]
    },
    {
     "name": "stderr",
     "output_type": "stream",
     "text": [
      "/opt/anaconda3/lib/python3.9/site-packages/sklearn/svm/_base.py:299: ConvergenceWarning: Solver terminated early (max_iter=50000).  Consider pre-processing your data with StandardScaler or MinMaxScaler.\n",
      "  warnings.warn(\n"
     ]
    },
    {
     "name": "stdout",
     "output_type": "stream",
     "text": [
      "MODEL SCORES:\n",
      "MAE:  54.792\n",
      "MSE:  33231.783\n",
      "RMSE:  182.296\n",
      "Accuracy: 16.69 %\n",
      "R2:  3.535 %\n",
      "Max Residual Error:  2522.856\n"
     ]
    }
   ],
   "source": [
    "pipeline = pred.pipeline_fit_predict(svr_poly3, categoric, numeric, x_train_val, y_train_val, x_test, y_test,\n",
    "                                df_2h_comar, 'numOfTaxis_area')"
   ]
  },
  {
   "cell_type": "markdown",
   "id": "46c78898",
   "metadata": {},
   "source": [
    "#### SVR KERNEL: RBF"
   ]
  },
  {
   "cell_type": "code",
   "execution_count": 16,
   "id": "9e3432ea",
   "metadata": {},
   "outputs": [],
   "source": [
    "svr_rbf = SVR(kernel = 'rbf',verbose = 10,cache_size=15000, max_iter=50000)"
   ]
  },
  {
   "cell_type": "code",
   "execution_count": 17,
   "id": "fee9dc37",
   "metadata": {
    "scrolled": true
   },
   "outputs": [
    {
     "name": "stdout",
     "output_type": "stream",
     "text": [
      "[LibSVM].................................................WARN: libsvm Solver reached max_iter\n",
      "optimization finished, #iter = 50000\n",
      "obj = -5389678.757735, rho = -7.296987\n",
      "nSV = 92888, nBSV = 90262\n"
     ]
    },
    {
     "name": "stderr",
     "output_type": "stream",
     "text": [
      "/opt/anaconda3/lib/python3.9/site-packages/sklearn/svm/_base.py:299: ConvergenceWarning: Solver terminated early (max_iter=50000).  Consider pre-processing your data with StandardScaler or MinMaxScaler.\n",
      "  warnings.warn(\n"
     ]
    },
    {
     "name": "stdout",
     "output_type": "stream",
     "text": [
      "MODEL SCORES:\n",
      "MAE:  51.597\n",
      "MSE:  30760.551\n",
      "RMSE:  175.387\n",
      "Accuracy: 21.55 %\n",
      "R2:  10.709 %\n",
      "Max Residual Error:  2493.539\n"
     ]
    }
   ],
   "source": [
    "pipeline =pred.pipeline_fit_predict(svr_rbf, categoric, numeric, x_train_val, y_train_val, x_test, y_test,\n",
    "                                df_2h_comar, 'numOfTaxis_area')"
   ]
  },
  {
   "cell_type": "markdown",
   "id": "c2dd0bcb",
   "metadata": {},
   "source": [
    "<hr style=\"border: 0.5px solid #8888;\">\n",
    "\n",
    "### Hyperparameter Tuning for the best model"
   ]
  },
  {
   "cell_type": "markdown",
   "id": "01860d8d",
   "metadata": {},
   "source": [
    "#### Sampling data for tuning:"
   ]
  },
  {
   "cell_type": "code",
   "execution_count": 6,
   "id": "452b01eb",
   "metadata": {},
   "outputs": [],
   "source": [
    "x_val, y_val = pred.sampling_already_splitted(x_val, y_val, 'numOfTaxis_area', 5000)"
   ]
  },
  {
   "cell_type": "code",
   "execution_count": 7,
   "id": "fb4bcae6",
   "metadata": {},
   "outputs": [],
   "source": [
    "# creating the ranges for model parameter to use in find_best_hyperparameters\n",
    "\n",
    "model_para = {'model__C':loguniform(1e-1, 1e2),        \n",
    "                'model__epsilon':loguniform(1e-1, 1e2)}               "
   ]
  },
  {
   "cell_type": "code",
   "execution_count": 8,
   "id": "37f3abd8",
   "metadata": {},
   "outputs": [],
   "source": [
    "svr_lin = SVR(kernel = 'linear',cache_size=15000, max_iter=50000)"
   ]
  },
  {
   "cell_type": "code",
   "execution_count": 9,
   "id": "8c370ac4",
   "metadata": {},
   "outputs": [],
   "source": [
    "pipeline = pred.pipeline_for_prediction(categoric, numeric, svr_lin)"
   ]
  },
  {
   "cell_type": "code",
   "execution_count": 10,
   "id": "c9d802c2",
   "metadata": {
    "scrolled": true
   },
   "outputs": [
    {
     "name": "stdout",
     "output_type": "stream",
     "text": [
      "Running grid search for the model based on neg_mean_absolute_error\n",
      "Fitting 15 folds for each of 50 candidates, totalling 750 fits\n",
      "[CV 1/15; 1/50] START model__C=1.3292918943162166, model__epsilon=71.14476009343416\n"
     ]
    },
    {
     "name": "stderr",
     "output_type": "stream",
     "text": [
      "/opt/anaconda3/lib/python3.9/site-packages/sklearn/model_selection/_split.py:700: UserWarning: The least populated class in y has only 1 members, which is less than n_splits=5.\n",
      "  warnings.warn(\n",
      "/opt/anaconda3/lib/python3.9/site-packages/sklearn/model_selection/_split.py:700: UserWarning: The least populated class in y has only 1 members, which is less than n_splits=5.\n",
      "  warnings.warn(\n",
      "/opt/anaconda3/lib/python3.9/site-packages/sklearn/model_selection/_split.py:700: UserWarning: The least populated class in y has only 1 members, which is less than n_splits=5.\n",
      "  warnings.warn(\n"
     ]
    },
    {
     "name": "stdout",
     "output_type": "stream",
     "text": [
      "[CV 1/15; 1/50] END model__C=1.3292918943162166, model__epsilon=71.14476009343416;, score=-72.789 total time=   0.3s\n",
      "[CV 2/15; 1/50] START model__C=1.3292918943162166, model__epsilon=71.14476009343416\n",
      "[CV 2/15; 1/50] END model__C=1.3292918943162166, model__epsilon=71.14476009343416;, score=-71.923 total time=   0.3s\n",
      "[CV 3/15; 1/50] START model__C=1.3292918943162166, model__epsilon=71.14476009343416\n",
      "[CV 3/15; 1/50] END model__C=1.3292918943162166, model__epsilon=71.14476009343416;, score=-67.398 total time=   0.3s\n",
      "[CV 4/15; 1/50] START model__C=1.3292918943162166, model__epsilon=71.14476009343416\n",
      "[CV 4/15; 1/50] END model__C=1.3292918943162166, model__epsilon=71.14476009343416;, score=-67.518 total time=   0.3s\n",
      "[CV 5/15; 1/50] START model__C=1.3292918943162166, model__epsilon=71.14476009343416\n",
      "[CV 5/15; 1/50] END model__C=1.3292918943162166, model__epsilon=71.14476009343416;, score=-69.516 total time=   0.3s\n",
      "[CV 6/15; 1/50] START model__C=1.3292918943162166, model__epsilon=71.14476009343416\n",
      "[CV 6/15; 1/50] END model__C=1.3292918943162166, model__epsilon=71.14476009343416;, score=-72.666 total time=   0.3s\n",
      "[CV 7/15; 1/50] START model__C=1.3292918943162166, model__epsilon=71.14476009343416\n",
      "[CV 7/15; 1/50] END model__C=1.3292918943162166, model__epsilon=71.14476009343416;, score=-71.474 total time=   0.3s\n",
      "[CV 8/15; 1/50] START model__C=1.3292918943162166, model__epsilon=71.14476009343416\n",
      "[CV 8/15; 1/50] END model__C=1.3292918943162166, model__epsilon=71.14476009343416;, score=-68.320 total time=   0.3s\n",
      "[CV 9/15; 1/50] START model__C=1.3292918943162166, model__epsilon=71.14476009343416\n",
      "[CV 9/15; 1/50] END model__C=1.3292918943162166, model__epsilon=71.14476009343416;, score=-67.813 total time=   0.3s\n",
      "[CV 10/15; 1/50] START model__C=1.3292918943162166, model__epsilon=71.14476009343416\n",
      "[CV 10/15; 1/50] END model__C=1.3292918943162166, model__epsilon=71.14476009343416;, score=-69.197 total time=   0.3s\n",
      "[CV 11/15; 1/50] START model__C=1.3292918943162166, model__epsilon=71.14476009343416\n",
      "[CV 11/15; 1/50] END model__C=1.3292918943162166, model__epsilon=71.14476009343416;, score=-73.413 total time=   0.3s\n",
      "[CV 12/15; 1/50] START model__C=1.3292918943162166, model__epsilon=71.14476009343416\n",
      "[CV 12/15; 1/50] END model__C=1.3292918943162166, model__epsilon=71.14476009343416;, score=-71.341 total time=   0.3s\n",
      "[CV 13/15; 1/50] START model__C=1.3292918943162166, model__epsilon=71.14476009343416\n",
      "[CV 13/15; 1/50] END model__C=1.3292918943162166, model__epsilon=71.14476009343416;, score=-67.678 total time=   0.3s\n",
      "[CV 14/15; 1/50] START model__C=1.3292918943162166, model__epsilon=71.14476009343416\n",
      "[CV 14/15; 1/50] END model__C=1.3292918943162166, model__epsilon=71.14476009343416;, score=-67.977 total time=   0.3s\n",
      "[CV 15/15; 1/50] START model__C=1.3292918943162166, model__epsilon=71.14476009343416\n",
      "[CV 15/15; 1/50] END model__C=1.3292918943162166, model__epsilon=71.14476009343416;, score=-68.887 total time=   0.3s\n",
      "[CV 1/15; 2/50] START model__C=15.702970884055382, model__epsilon=6.2513735745217485\n"
     ]
    },
    {
     "name": "stderr",
     "output_type": "stream",
     "text": [
      "/opt/anaconda3/lib/python3.9/site-packages/sklearn/svm/_base.py:299: ConvergenceWarning: Solver terminated early (max_iter=50000).  Consider pre-processing your data with StandardScaler or MinMaxScaler.\n",
      "  warnings.warn(\n"
     ]
    },
    {
     "name": "stdout",
     "output_type": "stream",
     "text": [
      "[CV 1/15; 2/50] END model__C=15.702970884055382, model__epsilon=6.2513735745217485;, score=-26.993 total time=   1.1s\n",
      "[CV 2/15; 2/50] START model__C=15.702970884055382, model__epsilon=6.2513735745217485\n"
     ]
    },
    {
     "name": "stderr",
     "output_type": "stream",
     "text": [
      "/opt/anaconda3/lib/python3.9/site-packages/sklearn/svm/_base.py:299: ConvergenceWarning: Solver terminated early (max_iter=50000).  Consider pre-processing your data with StandardScaler or MinMaxScaler.\n",
      "  warnings.warn(\n"
     ]
    },
    {
     "name": "stdout",
     "output_type": "stream",
     "text": [
      "[CV 2/15; 2/50] END model__C=15.702970884055382, model__epsilon=6.2513735745217485;, score=-25.743 total time=   1.0s\n",
      "[CV 3/15; 2/50] START model__C=15.702970884055382, model__epsilon=6.2513735745217485\n"
     ]
    },
    {
     "name": "stderr",
     "output_type": "stream",
     "text": [
      "/opt/anaconda3/lib/python3.9/site-packages/sklearn/svm/_base.py:299: ConvergenceWarning: Solver terminated early (max_iter=50000).  Consider pre-processing your data with StandardScaler or MinMaxScaler.\n",
      "  warnings.warn(\n"
     ]
    },
    {
     "name": "stdout",
     "output_type": "stream",
     "text": [
      "[CV 3/15; 2/50] END model__C=15.702970884055382, model__epsilon=6.2513735745217485;, score=-22.138 total time=   1.1s\n",
      "[CV 4/15; 2/50] START model__C=15.702970884055382, model__epsilon=6.2513735745217485\n"
     ]
    },
    {
     "name": "stderr",
     "output_type": "stream",
     "text": [
      "/opt/anaconda3/lib/python3.9/site-packages/sklearn/svm/_base.py:299: ConvergenceWarning: Solver terminated early (max_iter=50000).  Consider pre-processing your data with StandardScaler or MinMaxScaler.\n",
      "  warnings.warn(\n"
     ]
    },
    {
     "name": "stdout",
     "output_type": "stream",
     "text": [
      "[CV 4/15; 2/50] END model__C=15.702970884055382, model__epsilon=6.2513735745217485;, score=-21.438 total time=   1.1s\n",
      "[CV 5/15; 2/50] START model__C=15.702970884055382, model__epsilon=6.2513735745217485\n"
     ]
    },
    {
     "name": "stderr",
     "output_type": "stream",
     "text": [
      "/opt/anaconda3/lib/python3.9/site-packages/sklearn/svm/_base.py:299: ConvergenceWarning: Solver terminated early (max_iter=50000).  Consider pre-processing your data with StandardScaler or MinMaxScaler.\n",
      "  warnings.warn(\n"
     ]
    },
    {
     "name": "stdout",
     "output_type": "stream",
     "text": [
      "[CV 5/15; 2/50] END model__C=15.702970884055382, model__epsilon=6.2513735745217485;, score=-24.055 total time=   1.0s\n",
      "[CV 6/15; 2/50] START model__C=15.702970884055382, model__epsilon=6.2513735745217485\n"
     ]
    },
    {
     "name": "stderr",
     "output_type": "stream",
     "text": [
      "/opt/anaconda3/lib/python3.9/site-packages/sklearn/svm/_base.py:299: ConvergenceWarning: Solver terminated early (max_iter=50000).  Consider pre-processing your data with StandardScaler or MinMaxScaler.\n",
      "  warnings.warn(\n"
     ]
    },
    {
     "name": "stdout",
     "output_type": "stream",
     "text": [
      "[CV 6/15; 2/50] END model__C=15.702970884055382, model__epsilon=6.2513735745217485;, score=-26.615 total time=   1.0s\n",
      "[CV 7/15; 2/50] START model__C=15.702970884055382, model__epsilon=6.2513735745217485\n"
     ]
    },
    {
     "name": "stderr",
     "output_type": "stream",
     "text": [
      "/opt/anaconda3/lib/python3.9/site-packages/sklearn/svm/_base.py:299: ConvergenceWarning: Solver terminated early (max_iter=50000).  Consider pre-processing your data with StandardScaler or MinMaxScaler.\n",
      "  warnings.warn(\n"
     ]
    },
    {
     "name": "stdout",
     "output_type": "stream",
     "text": [
      "[CV 7/15; 2/50] END model__C=15.702970884055382, model__epsilon=6.2513735745217485;, score=-25.166 total time=   1.1s\n",
      "[CV 8/15; 2/50] START model__C=15.702970884055382, model__epsilon=6.2513735745217485\n"
     ]
    },
    {
     "name": "stderr",
     "output_type": "stream",
     "text": [
      "/opt/anaconda3/lib/python3.9/site-packages/sklearn/svm/_base.py:299: ConvergenceWarning: Solver terminated early (max_iter=50000).  Consider pre-processing your data with StandardScaler or MinMaxScaler.\n",
      "  warnings.warn(\n"
     ]
    },
    {
     "name": "stdout",
     "output_type": "stream",
     "text": [
      "[CV 8/15; 2/50] END model__C=15.702970884055382, model__epsilon=6.2513735745217485;, score=-22.717 total time=   1.0s\n",
      "[CV 9/15; 2/50] START model__C=15.702970884055382, model__epsilon=6.2513735745217485\n"
     ]
    },
    {
     "name": "stderr",
     "output_type": "stream",
     "text": [
      "/opt/anaconda3/lib/python3.9/site-packages/sklearn/svm/_base.py:299: ConvergenceWarning: Solver terminated early (max_iter=50000).  Consider pre-processing your data with StandardScaler or MinMaxScaler.\n",
      "  warnings.warn(\n"
     ]
    },
    {
     "name": "stdout",
     "output_type": "stream",
     "text": [
      "[CV 9/15; 2/50] END model__C=15.702970884055382, model__epsilon=6.2513735745217485;, score=-22.338 total time=   1.0s\n",
      "[CV 10/15; 2/50] START model__C=15.702970884055382, model__epsilon=6.2513735745217485\n"
     ]
    },
    {
     "name": "stderr",
     "output_type": "stream",
     "text": [
      "/opt/anaconda3/lib/python3.9/site-packages/sklearn/svm/_base.py:299: ConvergenceWarning: Solver terminated early (max_iter=50000).  Consider pre-processing your data with StandardScaler or MinMaxScaler.\n",
      "  warnings.warn(\n"
     ]
    },
    {
     "name": "stdout",
     "output_type": "stream",
     "text": [
      "[CV 10/15; 2/50] END model__C=15.702970884055382, model__epsilon=6.2513735745217485;, score=-23.756 total time=   1.0s\n",
      "[CV 11/15; 2/50] START model__C=15.702970884055382, model__epsilon=6.2513735745217485\n"
     ]
    },
    {
     "name": "stderr",
     "output_type": "stream",
     "text": [
      "/opt/anaconda3/lib/python3.9/site-packages/sklearn/svm/_base.py:299: ConvergenceWarning: Solver terminated early (max_iter=50000).  Consider pre-processing your data with StandardScaler or MinMaxScaler.\n",
      "  warnings.warn(\n"
     ]
    },
    {
     "name": "stdout",
     "output_type": "stream",
     "text": [
      "[CV 11/15; 2/50] END model__C=15.702970884055382, model__epsilon=6.2513735745217485;, score=-26.962 total time=   1.0s\n",
      "[CV 12/15; 2/50] START model__C=15.702970884055382, model__epsilon=6.2513735745217485\n"
     ]
    },
    {
     "name": "stderr",
     "output_type": "stream",
     "text": [
      "/opt/anaconda3/lib/python3.9/site-packages/sklearn/svm/_base.py:299: ConvergenceWarning: Solver terminated early (max_iter=50000).  Consider pre-processing your data with StandardScaler or MinMaxScaler.\n",
      "  warnings.warn(\n"
     ]
    },
    {
     "name": "stdout",
     "output_type": "stream",
     "text": [
      "[CV 12/15; 2/50] END model__C=15.702970884055382, model__epsilon=6.2513735745217485;, score=-25.289 total time=   1.0s\n",
      "[CV 13/15; 2/50] START model__C=15.702970884055382, model__epsilon=6.2513735745217485\n"
     ]
    },
    {
     "name": "stderr",
     "output_type": "stream",
     "text": [
      "/opt/anaconda3/lib/python3.9/site-packages/sklearn/svm/_base.py:299: ConvergenceWarning: Solver terminated early (max_iter=50000).  Consider pre-processing your data with StandardScaler or MinMaxScaler.\n",
      "  warnings.warn(\n"
     ]
    },
    {
     "name": "stdout",
     "output_type": "stream",
     "text": [
      "[CV 13/15; 2/50] END model__C=15.702970884055382, model__epsilon=6.2513735745217485;, score=-23.225 total time=   1.0s\n",
      "[CV 14/15; 2/50] START model__C=15.702970884055382, model__epsilon=6.2513735745217485\n"
     ]
    },
    {
     "name": "stderr",
     "output_type": "stream",
     "text": [
      "/opt/anaconda3/lib/python3.9/site-packages/sklearn/svm/_base.py:299: ConvergenceWarning: Solver terminated early (max_iter=50000).  Consider pre-processing your data with StandardScaler or MinMaxScaler.\n",
      "  warnings.warn(\n"
     ]
    },
    {
     "name": "stdout",
     "output_type": "stream",
     "text": [
      "[CV 14/15; 2/50] END model__C=15.702970884055382, model__epsilon=6.2513735745217485;, score=-22.528 total time=   1.1s\n",
      "[CV 15/15; 2/50] START model__C=15.702970884055382, model__epsilon=6.2513735745217485\n"
     ]
    },
    {
     "name": "stderr",
     "output_type": "stream",
     "text": [
      "/opt/anaconda3/lib/python3.9/site-packages/sklearn/svm/_base.py:299: ConvergenceWarning: Solver terminated early (max_iter=50000).  Consider pre-processing your data with StandardScaler or MinMaxScaler.\n",
      "  warnings.warn(\n"
     ]
    },
    {
     "name": "stdout",
     "output_type": "stream",
     "text": [
      "[CV 15/15; 2/50] END model__C=15.702970884055382, model__epsilon=6.2513735745217485;, score=-22.585 total time=   1.0s\n",
      "[CV 1/15; 3/50] START model__C=0.2938027938703535, model__epsilon=0.2937538457632829\n",
      "[CV 1/15; 3/50] END model__C=0.2938027938703535, model__epsilon=0.2937538457632829;, score=-33.953 total time=   1.2s\n",
      "[CV 2/15; 3/50] START model__C=0.2938027938703535, model__epsilon=0.2937538457632829\n",
      "[CV 2/15; 3/50] END model__C=0.2938027938703535, model__epsilon=0.2937538457632829;, score=-32.710 total time=   1.2s\n",
      "[CV 3/15; 3/50] START model__C=0.2938027938703535, model__epsilon=0.2937538457632829\n",
      "[CV 3/15; 3/50] END model__C=0.2938027938703535, model__epsilon=0.2937538457632829;, score=-29.230 total time=   1.2s\n",
      "[CV 4/15; 3/50] START model__C=0.2938027938703535, model__epsilon=0.2937538457632829\n",
      "[CV 4/15; 3/50] END model__C=0.2938027938703535, model__epsilon=0.2937538457632829;, score=-28.637 total time=   1.2s\n",
      "[CV 5/15; 3/50] START model__C=0.2938027938703535, model__epsilon=0.2937538457632829\n",
      "[CV 5/15; 3/50] END model__C=0.2938027938703535, model__epsilon=0.2937538457632829;, score=-29.277 total time=   1.2s\n",
      "[CV 6/15; 3/50] START model__C=0.2938027938703535, model__epsilon=0.2937538457632829\n",
      "[CV 6/15; 3/50] END model__C=0.2938027938703535, model__epsilon=0.2937538457632829;, score=-33.799 total time=   1.2s\n",
      "[CV 7/15; 3/50] START model__C=0.2938027938703535, model__epsilon=0.2937538457632829\n",
      "[CV 7/15; 3/50] END model__C=0.2938027938703535, model__epsilon=0.2937538457632829;, score=-32.843 total time=   1.2s\n",
      "[CV 8/15; 3/50] START model__C=0.2938027938703535, model__epsilon=0.2937538457632829\n",
      "[CV 8/15; 3/50] END model__C=0.2938027938703535, model__epsilon=0.2937538457632829;, score=-29.146 total time=   1.2s\n",
      "[CV 9/15; 3/50] START model__C=0.2938027938703535, model__epsilon=0.2937538457632829\n",
      "[CV 9/15; 3/50] END model__C=0.2938027938703535, model__epsilon=0.2937538457632829;, score=-28.522 total time=   1.2s\n",
      "[CV 10/15; 3/50] START model__C=0.2938027938703535, model__epsilon=0.2937538457632829\n",
      "[CV 10/15; 3/50] END model__C=0.2938027938703535, model__epsilon=0.2937538457632829;, score=-29.401 total time=   1.2s\n",
      "[CV 11/15; 3/50] START model__C=0.2938027938703535, model__epsilon=0.2937538457632829\n",
      "[CV 11/15; 3/50] END model__C=0.2938027938703535, model__epsilon=0.2937538457632829;, score=-33.827 total time=   1.2s\n",
      "[CV 12/15; 3/50] START model__C=0.2938027938703535, model__epsilon=0.2937538457632829\n",
      "[CV 12/15; 3/50] END model__C=0.2938027938703535, model__epsilon=0.2937538457632829;, score=-32.856 total time=   1.2s\n",
      "[CV 13/15; 3/50] START model__C=0.2938027938703535, model__epsilon=0.2937538457632829\n",
      "[CV 13/15; 3/50] END model__C=0.2938027938703535, model__epsilon=0.2937538457632829;, score=-29.252 total time=   1.2s\n",
      "[CV 14/15; 3/50] START model__C=0.2938027938703535, model__epsilon=0.2937538457632829\n",
      "[CV 14/15; 3/50] END model__C=0.2938027938703535, model__epsilon=0.2937538457632829;, score=-28.693 total time=   1.2s\n",
      "[CV 15/15; 3/50] START model__C=0.2938027938703535, model__epsilon=0.2937538457632829\n",
      "[CV 15/15; 3/50] END model__C=0.2938027938703535, model__epsilon=0.2937538457632829;, score=-29.215 total time=   1.2s\n",
      "[CV 1/15; 4/50] START model__C=0.14936568554617632, model__epsilon=39.67605077052987\n",
      "[CV 1/15; 4/50] END model__C=0.14936568554617632, model__epsilon=39.67605077052987;, score=-55.538 total time=   0.4s\n",
      "[CV 2/15; 4/50] START model__C=0.14936568554617632, model__epsilon=39.67605077052987\n",
      "[CV 2/15; 4/50] END model__C=0.14936568554617632, model__epsilon=39.67605077052987;, score=-54.458 total time=   0.4s\n",
      "[CV 3/15; 4/50] START model__C=0.14936568554617632, model__epsilon=39.67605077052987\n",
      "[CV 3/15; 4/50] END model__C=0.14936568554617632, model__epsilon=39.67605077052987;, score=-50.910 total time=   0.4s\n",
      "[CV 4/15; 4/50] START model__C=0.14936568554617632, model__epsilon=39.67605077052987\n",
      "[CV 4/15; 4/50] END model__C=0.14936568554617632, model__epsilon=39.67605077052987;, score=-50.422 total time=   0.4s\n",
      "[CV 5/15; 4/50] START model__C=0.14936568554617632, model__epsilon=39.67605077052987\n",
      "[CV 5/15; 4/50] END model__C=0.14936568554617632, model__epsilon=39.67605077052987;, score=-51.095 total time=   0.4s\n",
      "[CV 6/15; 4/50] START model__C=0.14936568554617632, model__epsilon=39.67605077052987\n",
      "[CV 6/15; 4/50] END model__C=0.14936568554617632, model__epsilon=39.67605077052987;, score=-55.565 total time=   0.4s\n",
      "[CV 7/15; 4/50] START model__C=0.14936568554617632, model__epsilon=39.67605077052987\n",
      "[CV 7/15; 4/50] END model__C=0.14936568554617632, model__epsilon=39.67605077052987;, score=-54.502 total time=   0.4s\n",
      "[CV 8/15; 4/50] START model__C=0.14936568554617632, model__epsilon=39.67605077052987\n",
      "[CV 8/15; 4/50] END model__C=0.14936568554617632, model__epsilon=39.67605077052987;, score=-50.998 total time=   0.4s\n",
      "[CV 9/15; 4/50] START model__C=0.14936568554617632, model__epsilon=39.67605077052987\n",
      "[CV 9/15; 4/50] END model__C=0.14936568554617632, model__epsilon=39.67605077052987;, score=-50.311 total time=   0.4s\n",
      "[CV 10/15; 4/50] START model__C=0.14936568554617632, model__epsilon=39.67605077052987\n",
      "[CV 10/15; 4/50] END model__C=0.14936568554617632, model__epsilon=39.67605077052987;, score=-51.044 total time=   0.4s\n",
      "[CV 11/15; 4/50] START model__C=0.14936568554617632, model__epsilon=39.67605077052987\n",
      "[CV 11/15; 4/50] END model__C=0.14936568554617632, model__epsilon=39.67605077052987;, score=-55.541 total time=   0.4s\n",
      "[CV 12/15; 4/50] START model__C=0.14936568554617632, model__epsilon=39.67605077052987\n",
      "[CV 12/15; 4/50] END model__C=0.14936568554617632, model__epsilon=39.67605077052987;, score=-54.574 total time=   0.4s\n",
      "[CV 13/15; 4/50] START model__C=0.14936568554617632, model__epsilon=39.67605077052987\n",
      "[CV 13/15; 4/50] END model__C=0.14936568554617632, model__epsilon=39.67605077052987;, score=-50.876 total time=   0.4s\n",
      "[CV 14/15; 4/50] START model__C=0.14936568554617632, model__epsilon=39.67605077052987\n",
      "[CV 14/15; 4/50] END model__C=0.14936568554617632, model__epsilon=39.67605077052987;, score=-50.361 total time=   0.4s\n",
      "[CV 15/15; 4/50] START model__C=0.14936568554617632, model__epsilon=39.67605077052987\n",
      "[CV 15/15; 4/50] END model__C=0.14936568554617632, model__epsilon=39.67605077052987;, score=-51.094 total time=   0.4s\n",
      "[CV 1/15; 5/50] START model__C=6.358358856676251, model__epsilon=13.311216080736884\n"
     ]
    },
    {
     "name": "stderr",
     "output_type": "stream",
     "text": [
      "/opt/anaconda3/lib/python3.9/site-packages/sklearn/svm/_base.py:299: ConvergenceWarning: Solver terminated early (max_iter=50000).  Consider pre-processing your data with StandardScaler or MinMaxScaler.\n",
      "  warnings.warn(\n"
     ]
    },
    {
     "name": "stdout",
     "output_type": "stream",
     "text": [
      "[CV 1/15; 5/50] END model__C=6.358358856676251, model__epsilon=13.311216080736884;, score=-29.406 total time=   0.6s\n",
      "[CV 2/15; 5/50] START model__C=6.358358856676251, model__epsilon=13.311216080736884\n"
     ]
    },
    {
     "name": "stderr",
     "output_type": "stream",
     "text": [
      "/opt/anaconda3/lib/python3.9/site-packages/sklearn/svm/_base.py:299: ConvergenceWarning: Solver terminated early (max_iter=50000).  Consider pre-processing your data with StandardScaler or MinMaxScaler.\n",
      "  warnings.warn(\n"
     ]
    },
    {
     "name": "stdout",
     "output_type": "stream",
     "text": [
      "[CV 2/15; 5/50] END model__C=6.358358856676251, model__epsilon=13.311216080736884;, score=-27.864 total time=   0.6s\n",
      "[CV 3/15; 5/50] START model__C=6.358358856676251, model__epsilon=13.311216080736884\n"
     ]
    },
    {
     "name": "stderr",
     "output_type": "stream",
     "text": [
      "/opt/anaconda3/lib/python3.9/site-packages/sklearn/svm/_base.py:299: ConvergenceWarning: Solver terminated early (max_iter=50000).  Consider pre-processing your data with StandardScaler or MinMaxScaler.\n",
      "  warnings.warn(\n"
     ]
    },
    {
     "name": "stdout",
     "output_type": "stream",
     "text": [
      "[CV 3/15; 5/50] END model__C=6.358358856676251, model__epsilon=13.311216080736884;, score=-24.197 total time=   0.6s\n",
      "[CV 4/15; 5/50] START model__C=6.358358856676251, model__epsilon=13.311216080736884\n"
     ]
    },
    {
     "name": "stderr",
     "output_type": "stream",
     "text": [
      "/opt/anaconda3/lib/python3.9/site-packages/sklearn/svm/_base.py:299: ConvergenceWarning: Solver terminated early (max_iter=50000).  Consider pre-processing your data with StandardScaler or MinMaxScaler.\n",
      "  warnings.warn(\n"
     ]
    },
    {
     "name": "stdout",
     "output_type": "stream",
     "text": [
      "[CV 4/15; 5/50] END model__C=6.358358856676251, model__epsilon=13.311216080736884;, score=-23.840 total time=   0.6s\n",
      "[CV 5/15; 5/50] START model__C=6.358358856676251, model__epsilon=13.311216080736884\n"
     ]
    },
    {
     "name": "stderr",
     "output_type": "stream",
     "text": [
      "/opt/anaconda3/lib/python3.9/site-packages/sklearn/svm/_base.py:299: ConvergenceWarning: Solver terminated early (max_iter=50000).  Consider pre-processing your data with StandardScaler or MinMaxScaler.\n",
      "  warnings.warn(\n"
     ]
    },
    {
     "name": "stdout",
     "output_type": "stream",
     "text": [
      "[CV 5/15; 5/50] END model__C=6.358358856676251, model__epsilon=13.311216080736884;, score=-25.985 total time=   0.6s\n",
      "[CV 6/15; 5/50] START model__C=6.358358856676251, model__epsilon=13.311216080736884\n"
     ]
    },
    {
     "name": "stderr",
     "output_type": "stream",
     "text": [
      "/opt/anaconda3/lib/python3.9/site-packages/sklearn/svm/_base.py:299: ConvergenceWarning: Solver terminated early (max_iter=50000).  Consider pre-processing your data with StandardScaler or MinMaxScaler.\n",
      "  warnings.warn(\n"
     ]
    },
    {
     "name": "stdout",
     "output_type": "stream",
     "text": [
      "[CV 6/15; 5/50] END model__C=6.358358856676251, model__epsilon=13.311216080736884;, score=-29.191 total time=   0.6s\n",
      "[CV 7/15; 5/50] START model__C=6.358358856676251, model__epsilon=13.311216080736884\n"
     ]
    },
    {
     "name": "stderr",
     "output_type": "stream",
     "text": [
      "/opt/anaconda3/lib/python3.9/site-packages/sklearn/svm/_base.py:299: ConvergenceWarning: Solver terminated early (max_iter=50000).  Consider pre-processing your data with StandardScaler or MinMaxScaler.\n",
      "  warnings.warn(\n"
     ]
    },
    {
     "name": "stdout",
     "output_type": "stream",
     "text": [
      "[CV 7/15; 5/50] END model__C=6.358358856676251, model__epsilon=13.311216080736884;, score=-27.607 total time=   0.6s\n",
      "[CV 8/15; 5/50] START model__C=6.358358856676251, model__epsilon=13.311216080736884\n"
     ]
    },
    {
     "name": "stderr",
     "output_type": "stream",
     "text": [
      "/opt/anaconda3/lib/python3.9/site-packages/sklearn/svm/_base.py:299: ConvergenceWarning: Solver terminated early (max_iter=50000).  Consider pre-processing your data with StandardScaler or MinMaxScaler.\n",
      "  warnings.warn(\n"
     ]
    },
    {
     "name": "stdout",
     "output_type": "stream",
     "text": [
      "[CV 8/15; 5/50] END model__C=6.358358856676251, model__epsilon=13.311216080736884;, score=-24.582 total time=   0.6s\n",
      "[CV 9/15; 5/50] START model__C=6.358358856676251, model__epsilon=13.311216080736884\n"
     ]
    },
    {
     "name": "stderr",
     "output_type": "stream",
     "text": [
      "/opt/anaconda3/lib/python3.9/site-packages/sklearn/svm/_base.py:299: ConvergenceWarning: Solver terminated early (max_iter=50000).  Consider pre-processing your data with StandardScaler or MinMaxScaler.\n",
      "  warnings.warn(\n"
     ]
    },
    {
     "name": "stdout",
     "output_type": "stream",
     "text": [
      "[CV 9/15; 5/50] END model__C=6.358358856676251, model__epsilon=13.311216080736884;, score=-24.532 total time=   0.6s\n",
      "[CV 10/15; 5/50] START model__C=6.358358856676251, model__epsilon=13.311216080736884\n"
     ]
    },
    {
     "name": "stderr",
     "output_type": "stream",
     "text": [
      "/opt/anaconda3/lib/python3.9/site-packages/sklearn/svm/_base.py:299: ConvergenceWarning: Solver terminated early (max_iter=50000).  Consider pre-processing your data with StandardScaler or MinMaxScaler.\n",
      "  warnings.warn(\n"
     ]
    },
    {
     "name": "stdout",
     "output_type": "stream",
     "text": [
      "[CV 10/15; 5/50] END model__C=6.358358856676251, model__epsilon=13.311216080736884;, score=-25.709 total time=   0.7s\n",
      "[CV 11/15; 5/50] START model__C=6.358358856676251, model__epsilon=13.311216080736884\n"
     ]
    },
    {
     "name": "stderr",
     "output_type": "stream",
     "text": [
      "/opt/anaconda3/lib/python3.9/site-packages/sklearn/svm/_base.py:299: ConvergenceWarning: Solver terminated early (max_iter=50000).  Consider pre-processing your data with StandardScaler or MinMaxScaler.\n",
      "  warnings.warn(\n"
     ]
    },
    {
     "name": "stdout",
     "output_type": "stream",
     "text": [
      "[CV 11/15; 5/50] END model__C=6.358358856676251, model__epsilon=13.311216080736884;, score=-29.335 total time=   0.6s\n",
      "[CV 12/15; 5/50] START model__C=6.358358856676251, model__epsilon=13.311216080736884\n"
     ]
    },
    {
     "name": "stderr",
     "output_type": "stream",
     "text": [
      "/opt/anaconda3/lib/python3.9/site-packages/sklearn/svm/_base.py:299: ConvergenceWarning: Solver terminated early (max_iter=50000).  Consider pre-processing your data with StandardScaler or MinMaxScaler.\n",
      "  warnings.warn(\n"
     ]
    },
    {
     "name": "stdout",
     "output_type": "stream",
     "text": [
      "[CV 12/15; 5/50] END model__C=6.358358856676251, model__epsilon=13.311216080736884;, score=-27.794 total time=   0.6s\n",
      "[CV 13/15; 5/50] START model__C=6.358358856676251, model__epsilon=13.311216080736884\n"
     ]
    },
    {
     "name": "stderr",
     "output_type": "stream",
     "text": [
      "/opt/anaconda3/lib/python3.9/site-packages/sklearn/svm/_base.py:299: ConvergenceWarning: Solver terminated early (max_iter=50000).  Consider pre-processing your data with StandardScaler or MinMaxScaler.\n",
      "  warnings.warn(\n"
     ]
    },
    {
     "name": "stdout",
     "output_type": "stream",
     "text": [
      "[CV 13/15; 5/50] END model__C=6.358358856676251, model__epsilon=13.311216080736884;, score=-24.882 total time=   0.6s\n",
      "[CV 14/15; 5/50] START model__C=6.358358856676251, model__epsilon=13.311216080736884\n"
     ]
    },
    {
     "name": "stderr",
     "output_type": "stream",
     "text": [
      "/opt/anaconda3/lib/python3.9/site-packages/sklearn/svm/_base.py:299: ConvergenceWarning: Solver terminated early (max_iter=50000).  Consider pre-processing your data with StandardScaler or MinMaxScaler.\n",
      "  warnings.warn(\n"
     ]
    },
    {
     "name": "stdout",
     "output_type": "stream",
     "text": [
      "[CV 14/15; 5/50] END model__C=6.358358856676251, model__epsilon=13.311216080736884;, score=-24.867 total time=   0.6s\n",
      "[CV 15/15; 5/50] START model__C=6.358358856676251, model__epsilon=13.311216080736884\n"
     ]
    },
    {
     "name": "stderr",
     "output_type": "stream",
     "text": [
      "/opt/anaconda3/lib/python3.9/site-packages/sklearn/svm/_base.py:299: ConvergenceWarning: Solver terminated early (max_iter=50000).  Consider pre-processing your data with StandardScaler or MinMaxScaler.\n",
      "  warnings.warn(\n"
     ]
    },
    {
     "name": "stdout",
     "output_type": "stream",
     "text": [
      "[CV 15/15; 5/50] END model__C=6.358358856676251, model__epsilon=13.311216080736884;, score=-24.766 total time=   0.6s\n",
      "[CV 1/15; 6/50] START model__C=0.115279871282324, model__epsilon=81.23245085588688\n",
      "[CV 1/15; 6/50] END model__C=0.115279871282324, model__epsilon=81.23245085588688;, score=-86.155 total time=   0.3s\n",
      "[CV 2/15; 6/50] START model__C=0.115279871282324, model__epsilon=81.23245085588688\n",
      "[CV 2/15; 6/50] END model__C=0.115279871282324, model__epsilon=81.23245085588688;, score=-84.983 total time=   0.3s\n",
      "[CV 3/15; 6/50] START model__C=0.115279871282324, model__epsilon=81.23245085588688\n",
      "[CV 3/15; 6/50] END model__C=0.115279871282324, model__epsilon=81.23245085588688;, score=-81.267 total time=   0.3s\n",
      "[CV 4/15; 6/50] START model__C=0.115279871282324, model__epsilon=81.23245085588688\n",
      "[CV 4/15; 6/50] END model__C=0.115279871282324, model__epsilon=81.23245085588688;, score=-81.035 total time=   0.3s\n",
      "[CV 5/15; 6/50] START model__C=0.115279871282324, model__epsilon=81.23245085588688\n",
      "[CV 5/15; 6/50] END model__C=0.115279871282324, model__epsilon=81.23245085588688;, score=-82.038 total time=   0.3s\n",
      "[CV 6/15; 6/50] START model__C=0.115279871282324, model__epsilon=81.23245085588688\n",
      "[CV 6/15; 6/50] END model__C=0.115279871282324, model__epsilon=81.23245085588688;, score=-86.124 total time=   0.3s\n",
      "[CV 7/15; 6/50] START model__C=0.115279871282324, model__epsilon=81.23245085588688\n",
      "[CV 7/15; 6/50] END model__C=0.115279871282324, model__epsilon=81.23245085588688;, score=-84.985 total time=   0.3s\n",
      "[CV 8/15; 6/50] START model__C=0.115279871282324, model__epsilon=81.23245085588688\n",
      "[CV 8/15; 6/50] END model__C=0.115279871282324, model__epsilon=81.23245085588688;, score=-81.374 total time=   0.3s\n",
      "[CV 9/15; 6/50] START model__C=0.115279871282324, model__epsilon=81.23245085588688\n",
      "[CV 9/15; 6/50] END model__C=0.115279871282324, model__epsilon=81.23245085588688;, score=-81.075 total time=   0.3s\n",
      "[CV 10/15; 6/50] START model__C=0.115279871282324, model__epsilon=81.23245085588688\n",
      "[CV 10/15; 6/50] END model__C=0.115279871282324, model__epsilon=81.23245085588688;, score=-81.947 total time=   0.3s\n",
      "[CV 11/15; 6/50] START model__C=0.115279871282324, model__epsilon=81.23245085588688\n",
      "[CV 11/15; 6/50] END model__C=0.115279871282324, model__epsilon=81.23245085588688;, score=-86.170 total time=   0.3s\n",
      "[CV 12/15; 6/50] START model__C=0.115279871282324, model__epsilon=81.23245085588688\n",
      "[CV 12/15; 6/50] END model__C=0.115279871282324, model__epsilon=81.23245085588688;, score=-84.992 total time=   0.3s\n",
      "[CV 13/15; 6/50] START model__C=0.115279871282324, model__epsilon=81.23245085588688\n",
      "[CV 13/15; 6/50] END model__C=0.115279871282324, model__epsilon=81.23245085588688;, score=-81.349 total time=   0.3s\n",
      "[CV 14/15; 6/50] START model__C=0.115279871282324, model__epsilon=81.23245085588688\n",
      "[CV 14/15; 6/50] END model__C=0.115279871282324, model__epsilon=81.23245085588688;, score=-81.054 total time=   0.3s\n",
      "[CV 15/15; 6/50] START model__C=0.115279871282324, model__epsilon=81.23245085588688\n",
      "[CV 15/15; 6/50] END model__C=0.115279871282324, model__epsilon=81.23245085588688;, score=-81.921 total time=   0.3s\n",
      "[CV 1/15; 7/50] START model__C=31.428808908401084, model__epsilon=0.4335281794951565\n"
     ]
    },
    {
     "name": "stderr",
     "output_type": "stream",
     "text": [
      "/opt/anaconda3/lib/python3.9/site-packages/sklearn/svm/_base.py:299: ConvergenceWarning: Solver terminated early (max_iter=50000).  Consider pre-processing your data with StandardScaler or MinMaxScaler.\n",
      "  warnings.warn(\n"
     ]
    },
    {
     "name": "stdout",
     "output_type": "stream",
     "text": [
      "[CV 1/15; 7/50] END model__C=31.428808908401084, model__epsilon=0.4335281794951565;, score=-26.086 total time=   2.6s\n",
      "[CV 2/15; 7/50] START model__C=31.428808908401084, model__epsilon=0.4335281794951565\n"
     ]
    },
    {
     "name": "stderr",
     "output_type": "stream",
     "text": [
      "/opt/anaconda3/lib/python3.9/site-packages/sklearn/svm/_base.py:299: ConvergenceWarning: Solver terminated early (max_iter=50000).  Consider pre-processing your data with StandardScaler or MinMaxScaler.\n",
      "  warnings.warn(\n"
     ]
    },
    {
     "name": "stdout",
     "output_type": "stream",
     "text": [
      "[CV 2/15; 7/50] END model__C=31.428808908401084, model__epsilon=0.4335281794951565;, score=-24.997 total time=   2.7s\n",
      "[CV 3/15; 7/50] START model__C=31.428808908401084, model__epsilon=0.4335281794951565\n"
     ]
    },
    {
     "name": "stderr",
     "output_type": "stream",
     "text": [
      "/opt/anaconda3/lib/python3.9/site-packages/sklearn/svm/_base.py:299: ConvergenceWarning: Solver terminated early (max_iter=50000).  Consider pre-processing your data with StandardScaler or MinMaxScaler.\n",
      "  warnings.warn(\n"
     ]
    },
    {
     "name": "stdout",
     "output_type": "stream",
     "text": [
      "[CV 3/15; 7/50] END model__C=31.428808908401084, model__epsilon=0.4335281794951565;, score=-21.531 total time=   2.7s\n",
      "[CV 4/15; 7/50] START model__C=31.428808908401084, model__epsilon=0.4335281794951565\n"
     ]
    },
    {
     "name": "stderr",
     "output_type": "stream",
     "text": [
      "/opt/anaconda3/lib/python3.9/site-packages/sklearn/svm/_base.py:299: ConvergenceWarning: Solver terminated early (max_iter=50000).  Consider pre-processing your data with StandardScaler or MinMaxScaler.\n",
      "  warnings.warn(\n"
     ]
    },
    {
     "name": "stdout",
     "output_type": "stream",
     "text": [
      "[CV 4/15; 7/50] END model__C=31.428808908401084, model__epsilon=0.4335281794951565;, score=-20.901 total time=   2.6s\n",
      "[CV 5/15; 7/50] START model__C=31.428808908401084, model__epsilon=0.4335281794951565\n"
     ]
    },
    {
     "name": "stderr",
     "output_type": "stream",
     "text": [
      "/opt/anaconda3/lib/python3.9/site-packages/sklearn/svm/_base.py:299: ConvergenceWarning: Solver terminated early (max_iter=50000).  Consider pre-processing your data with StandardScaler or MinMaxScaler.\n",
      "  warnings.warn(\n"
     ]
    },
    {
     "name": "stdout",
     "output_type": "stream",
     "text": [
      "[CV 5/15; 7/50] END model__C=31.428808908401084, model__epsilon=0.4335281794951565;, score=-23.457 total time=   2.6s\n",
      "[CV 6/15; 7/50] START model__C=31.428808908401084, model__epsilon=0.4335281794951565\n"
     ]
    },
    {
     "name": "stderr",
     "output_type": "stream",
     "text": [
      "/opt/anaconda3/lib/python3.9/site-packages/sklearn/svm/_base.py:299: ConvergenceWarning: Solver terminated early (max_iter=50000).  Consider pre-processing your data with StandardScaler or MinMaxScaler.\n",
      "  warnings.warn(\n"
     ]
    },
    {
     "name": "stdout",
     "output_type": "stream",
     "text": [
      "[CV 6/15; 7/50] END model__C=31.428808908401084, model__epsilon=0.4335281794951565;, score=-25.844 total time=   2.6s\n",
      "[CV 7/15; 7/50] START model__C=31.428808908401084, model__epsilon=0.4335281794951565\n"
     ]
    },
    {
     "name": "stderr",
     "output_type": "stream",
     "text": [
      "/opt/anaconda3/lib/python3.9/site-packages/sklearn/svm/_base.py:299: ConvergenceWarning: Solver terminated early (max_iter=50000).  Consider pre-processing your data with StandardScaler or MinMaxScaler.\n",
      "  warnings.warn(\n"
     ]
    },
    {
     "name": "stdout",
     "output_type": "stream",
     "text": [
      "[CV 7/15; 7/50] END model__C=31.428808908401084, model__epsilon=0.4335281794951565;, score=-24.367 total time=   2.7s\n",
      "[CV 8/15; 7/50] START model__C=31.428808908401084, model__epsilon=0.4335281794951565\n"
     ]
    },
    {
     "name": "stderr",
     "output_type": "stream",
     "text": [
      "/opt/anaconda3/lib/python3.9/site-packages/sklearn/svm/_base.py:299: ConvergenceWarning: Solver terminated early (max_iter=50000).  Consider pre-processing your data with StandardScaler or MinMaxScaler.\n",
      "  warnings.warn(\n"
     ]
    },
    {
     "name": "stdout",
     "output_type": "stream",
     "text": [
      "[CV 8/15; 7/50] END model__C=31.428808908401084, model__epsilon=0.4335281794951565;, score=-22.126 total time=   2.6s\n",
      "[CV 9/15; 7/50] START model__C=31.428808908401084, model__epsilon=0.4335281794951565\n"
     ]
    },
    {
     "name": "stderr",
     "output_type": "stream",
     "text": [
      "/opt/anaconda3/lib/python3.9/site-packages/sklearn/svm/_base.py:299: ConvergenceWarning: Solver terminated early (max_iter=50000).  Consider pre-processing your data with StandardScaler or MinMaxScaler.\n",
      "  warnings.warn(\n"
     ]
    },
    {
     "name": "stdout",
     "output_type": "stream",
     "text": [
      "[CV 9/15; 7/50] END model__C=31.428808908401084, model__epsilon=0.4335281794951565;, score=-21.729 total time=   2.7s\n",
      "[CV 10/15; 7/50] START model__C=31.428808908401084, model__epsilon=0.4335281794951565\n"
     ]
    },
    {
     "name": "stderr",
     "output_type": "stream",
     "text": [
      "/opt/anaconda3/lib/python3.9/site-packages/sklearn/svm/_base.py:299: ConvergenceWarning: Solver terminated early (max_iter=50000).  Consider pre-processing your data with StandardScaler or MinMaxScaler.\n",
      "  warnings.warn(\n"
     ]
    },
    {
     "name": "stdout",
     "output_type": "stream",
     "text": [
      "[CV 10/15; 7/50] END model__C=31.428808908401084, model__epsilon=0.4335281794951565;, score=-23.029 total time=   2.6s\n",
      "[CV 11/15; 7/50] START model__C=31.428808908401084, model__epsilon=0.4335281794951565\n"
     ]
    },
    {
     "name": "stderr",
     "output_type": "stream",
     "text": [
      "/opt/anaconda3/lib/python3.9/site-packages/sklearn/svm/_base.py:299: ConvergenceWarning: Solver terminated early (max_iter=50000).  Consider pre-processing your data with StandardScaler or MinMaxScaler.\n",
      "  warnings.warn(\n"
     ]
    },
    {
     "name": "stdout",
     "output_type": "stream",
     "text": [
      "[CV 11/15; 7/50] END model__C=31.428808908401084, model__epsilon=0.4335281794951565;, score=-26.092 total time=   2.7s\n",
      "[CV 12/15; 7/50] START model__C=31.428808908401084, model__epsilon=0.4335281794951565\n"
     ]
    },
    {
     "name": "stderr",
     "output_type": "stream",
     "text": [
      "/opt/anaconda3/lib/python3.9/site-packages/sklearn/svm/_base.py:299: ConvergenceWarning: Solver terminated early (max_iter=50000).  Consider pre-processing your data with StandardScaler or MinMaxScaler.\n",
      "  warnings.warn(\n"
     ]
    },
    {
     "name": "stdout",
     "output_type": "stream",
     "text": [
      "[CV 12/15; 7/50] END model__C=31.428808908401084, model__epsilon=0.4335281794951565;, score=-24.519 total time=   2.7s\n",
      "[CV 13/15; 7/50] START model__C=31.428808908401084, model__epsilon=0.4335281794951565\n"
     ]
    },
    {
     "name": "stderr",
     "output_type": "stream",
     "text": [
      "/opt/anaconda3/lib/python3.9/site-packages/sklearn/svm/_base.py:299: ConvergenceWarning: Solver terminated early (max_iter=50000).  Consider pre-processing your data with StandardScaler or MinMaxScaler.\n",
      "  warnings.warn(\n"
     ]
    },
    {
     "name": "stdout",
     "output_type": "stream",
     "text": [
      "[CV 13/15; 7/50] END model__C=31.428808908401084, model__epsilon=0.4335281794951565;, score=-22.600 total time=   2.7s\n",
      "[CV 14/15; 7/50] START model__C=31.428808908401084, model__epsilon=0.4335281794951565\n"
     ]
    },
    {
     "name": "stderr",
     "output_type": "stream",
     "text": [
      "/opt/anaconda3/lib/python3.9/site-packages/sklearn/svm/_base.py:299: ConvergenceWarning: Solver terminated early (max_iter=50000).  Consider pre-processing your data with StandardScaler or MinMaxScaler.\n",
      "  warnings.warn(\n"
     ]
    },
    {
     "name": "stdout",
     "output_type": "stream",
     "text": [
      "[CV 14/15; 7/50] END model__C=31.428808908401084, model__epsilon=0.4335281794951565;, score=-22.070 total time=   2.7s\n",
      "[CV 15/15; 7/50] START model__C=31.428808908401084, model__epsilon=0.4335281794951565\n"
     ]
    },
    {
     "name": "stderr",
     "output_type": "stream",
     "text": [
      "/opt/anaconda3/lib/python3.9/site-packages/sklearn/svm/_base.py:299: ConvergenceWarning: Solver terminated early (max_iter=50000).  Consider pre-processing your data with StandardScaler or MinMaxScaler.\n",
      "  warnings.warn(\n"
     ]
    },
    {
     "name": "stdout",
     "output_type": "stream",
     "text": [
      "[CV 15/15; 7/50] END model__C=31.428808908401084, model__epsilon=0.4335281794951565;, score=-21.967 total time=   2.6s\n",
      "[CV 1/15; 8/50] START model__C=0.3511356313970407, model__epsilon=0.35498788321965025\n",
      "[CV 1/15; 8/50] END model__C=0.3511356313970407, model__epsilon=0.35498788321965025;, score=-33.446 total time=   1.2s\n",
      "[CV 2/15; 8/50] START model__C=0.3511356313970407, model__epsilon=0.35498788321965025\n",
      "[CV 2/15; 8/50] END model__C=0.3511356313970407, model__epsilon=0.35498788321965025;, score=-32.169 total time=   1.2s\n",
      "[CV 3/15; 8/50] START model__C=0.3511356313970407, model__epsilon=0.35498788321965025\n",
      "[CV 3/15; 8/50] END model__C=0.3511356313970407, model__epsilon=0.35498788321965025;, score=-28.721 total time=   1.2s\n",
      "[CV 4/15; 8/50] START model__C=0.3511356313970407, model__epsilon=0.35498788321965025\n",
      "[CV 4/15; 8/50] END model__C=0.3511356313970407, model__epsilon=0.35498788321965025;, score=-28.131 total time=   1.2s\n",
      "[CV 5/15; 8/50] START model__C=0.3511356313970407, model__epsilon=0.35498788321965025\n",
      "[CV 5/15; 8/50] END model__C=0.3511356313970407, model__epsilon=0.35498788321965025;, score=-28.811 total time=   1.2s\n",
      "[CV 6/15; 8/50] START model__C=0.3511356313970407, model__epsilon=0.35498788321965025\n",
      "[CV 6/15; 8/50] END model__C=0.3511356313970407, model__epsilon=0.35498788321965025;, score=-33.261 total time=   1.2s\n",
      "[CV 7/15; 8/50] START model__C=0.3511356313970407, model__epsilon=0.35498788321965025\n",
      "[CV 7/15; 8/50] END model__C=0.3511356313970407, model__epsilon=0.35498788321965025;, score=-32.327 total time=   1.2s\n",
      "[CV 8/15; 8/50] START model__C=0.3511356313970407, model__epsilon=0.35498788321965025\n",
      "[CV 8/15; 8/50] END model__C=0.3511356313970407, model__epsilon=0.35498788321965025;, score=-28.650 total time=   1.2s\n",
      "[CV 9/15; 8/50] START model__C=0.3511356313970407, model__epsilon=0.35498788321965025\n",
      "[CV 9/15; 8/50] END model__C=0.3511356313970407, model__epsilon=0.35498788321965025;, score=-28.013 total time=   1.2s\n",
      "[CV 10/15; 8/50] START model__C=0.3511356313970407, model__epsilon=0.35498788321965025\n",
      "[CV 10/15; 8/50] END model__C=0.3511356313970407, model__epsilon=0.35498788321965025;, score=-28.878 total time=   1.2s\n",
      "[CV 11/15; 8/50] START model__C=0.3511356313970407, model__epsilon=0.35498788321965025\n",
      "[CV 11/15; 8/50] END model__C=0.3511356313970407, model__epsilon=0.35498788321965025;, score=-33.279 total time=   1.2s\n",
      "[CV 12/15; 8/50] START model__C=0.3511356313970407, model__epsilon=0.35498788321965025\n",
      "[CV 12/15; 8/50] END model__C=0.3511356313970407, model__epsilon=0.35498788321965025;, score=-32.356 total time=   1.2s\n",
      "[CV 13/15; 8/50] START model__C=0.3511356313970407, model__epsilon=0.35498788321965025\n",
      "[CV 13/15; 8/50] END model__C=0.3511356313970407, model__epsilon=0.35498788321965025;, score=-28.694 total time=   1.2s\n",
      "[CV 14/15; 8/50] START model__C=0.3511356313970407, model__epsilon=0.35498788321965025\n",
      "[CV 14/15; 8/50] END model__C=0.3511356313970407, model__epsilon=0.35498788321965025;, score=-28.159 total time=   1.2s\n",
      "[CV 15/15; 8/50] START model__C=0.3511356313970407, model__epsilon=0.35498788321965025\n",
      "[CV 15/15; 8/50] END model__C=0.3511356313970407, model__epsilon=0.35498788321965025;, score=-28.732 total time=   1.2s\n",
      "[CV 1/15; 9/50] START model__C=0.8179499475211672, model__epsilon=3.752055855124281\n",
      "[CV 1/15; 9/50] END model__C=0.8179499475211672, model__epsilon=3.752055855124281;, score=-31.050 total time=   0.8s\n",
      "[CV 2/15; 9/50] START model__C=0.8179499475211672, model__epsilon=3.752055855124281\n",
      "[CV 2/15; 9/50] END model__C=0.8179499475211672, model__epsilon=3.752055855124281;, score=-29.812 total time=   0.8s\n",
      "[CV 3/15; 9/50] START model__C=0.8179499475211672, model__epsilon=3.752055855124281\n",
      "[CV 3/15; 9/50] END model__C=0.8179499475211672, model__epsilon=3.752055855124281;, score=-26.394 total time=   0.9s\n",
      "[CV 4/15; 9/50] START model__C=0.8179499475211672, model__epsilon=3.752055855124281\n",
      "[CV 4/15; 9/50] END model__C=0.8179499475211672, model__epsilon=3.752055855124281;, score=-25.995 total time=   0.8s\n",
      "[CV 5/15; 9/50] START model__C=0.8179499475211672, model__epsilon=3.752055855124281\n",
      "[CV 5/15; 9/50] END model__C=0.8179499475211672, model__epsilon=3.752055855124281;, score=-26.890 total time=   0.8s\n",
      "[CV 6/15; 9/50] START model__C=0.8179499475211672, model__epsilon=3.752055855124281\n",
      "[CV 6/15; 9/50] END model__C=0.8179499475211672, model__epsilon=3.752055855124281;, score=-30.932 total time=   0.8s\n",
      "[CV 7/15; 9/50] START model__C=0.8179499475211672, model__epsilon=3.752055855124281\n",
      "[CV 7/15; 9/50] END model__C=0.8179499475211672, model__epsilon=3.752055855124281;, score=-30.056 total time=   0.8s\n",
      "[CV 8/15; 9/50] START model__C=0.8179499475211672, model__epsilon=3.752055855124281\n",
      "[CV 8/15; 9/50] END model__C=0.8179499475211672, model__epsilon=3.752055855124281;, score=-26.471 total time=   0.8s\n",
      "[CV 9/15; 9/50] START model__C=0.8179499475211672, model__epsilon=3.752055855124281\n",
      "[CV 9/15; 9/50] END model__C=0.8179499475211672, model__epsilon=3.752055855124281;, score=-25.710 total time=   0.8s\n",
      "[CV 10/15; 9/50] START model__C=0.8179499475211672, model__epsilon=3.752055855124281\n",
      "[CV 10/15; 9/50] END model__C=0.8179499475211672, model__epsilon=3.752055855124281;, score=-26.860 total time=   0.8s\n",
      "[CV 11/15; 9/50] START model__C=0.8179499475211672, model__epsilon=3.752055855124281\n",
      "[CV 11/15; 9/50] END model__C=0.8179499475211672, model__epsilon=3.752055855124281;, score=-30.879 total time=   0.8s\n",
      "[CV 12/15; 9/50] START model__C=0.8179499475211672, model__epsilon=3.752055855124281\n",
      "[CV 12/15; 9/50] END model__C=0.8179499475211672, model__epsilon=3.752055855124281;, score=-30.206 total time=   0.8s\n",
      "[CV 13/15; 9/50] START model__C=0.8179499475211672, model__epsilon=3.752055855124281\n",
      "[CV 13/15; 9/50] END model__C=0.8179499475211672, model__epsilon=3.752055855124281;, score=-26.351 total time=   0.8s\n",
      "[CV 14/15; 9/50] START model__C=0.8179499475211672, model__epsilon=3.752055855124281\n",
      "[CV 14/15; 9/50] END model__C=0.8179499475211672, model__epsilon=3.752055855124281;, score=-25.929 total time=   0.8s\n",
      "[CV 15/15; 9/50] START model__C=0.8179499475211672, model__epsilon=3.752055855124281\n",
      "[CV 15/15; 9/50] END model__C=0.8179499475211672, model__epsilon=3.752055855124281;, score=-26.594 total time=   0.8s\n",
      "[CV 1/15; 10/50] START model__C=1.976218934028007, model__epsilon=0.7476312062252299\n"
     ]
    },
    {
     "name": "stderr",
     "output_type": "stream",
     "text": [
      "/opt/anaconda3/lib/python3.9/site-packages/sklearn/svm/_base.py:299: ConvergenceWarning: Solver terminated early (max_iter=50000).  Consider pre-processing your data with StandardScaler or MinMaxScaler.\n",
      "  warnings.warn(\n"
     ]
    },
    {
     "name": "stdout",
     "output_type": "stream",
     "text": [
      "[CV 1/15; 10/50] END model__C=1.976218934028007, model__epsilon=0.7476312062252299;, score=-28.692 total time=   1.3s\n",
      "[CV 2/15; 10/50] START model__C=1.976218934028007, model__epsilon=0.7476312062252299\n"
     ]
    },
    {
     "name": "stderr",
     "output_type": "stream",
     "text": [
      "/opt/anaconda3/lib/python3.9/site-packages/sklearn/svm/_base.py:299: ConvergenceWarning: Solver terminated early (max_iter=50000).  Consider pre-processing your data with StandardScaler or MinMaxScaler.\n",
      "  warnings.warn(\n"
     ]
    },
    {
     "name": "stdout",
     "output_type": "stream",
     "text": [
      "[CV 2/15; 10/50] END model__C=1.976218934028007, model__epsilon=0.7476312062252299;, score=-27.267 total time=   1.3s\n",
      "[CV 3/15; 10/50] START model__C=1.976218934028007, model__epsilon=0.7476312062252299\n"
     ]
    },
    {
     "name": "stderr",
     "output_type": "stream",
     "text": [
      "/opt/anaconda3/lib/python3.9/site-packages/sklearn/svm/_base.py:299: ConvergenceWarning: Solver terminated early (max_iter=50000).  Consider pre-processing your data with StandardScaler or MinMaxScaler.\n",
      "  warnings.warn(\n"
     ]
    },
    {
     "name": "stdout",
     "output_type": "stream",
     "text": [
      "[CV 3/15; 10/50] END model__C=1.976218934028007, model__epsilon=0.7476312062252299;, score=-23.674 total time=   1.3s\n",
      "[CV 4/15; 10/50] START model__C=1.976218934028007, model__epsilon=0.7476312062252299\n"
     ]
    },
    {
     "name": "stderr",
     "output_type": "stream",
     "text": [
      "/opt/anaconda3/lib/python3.9/site-packages/sklearn/svm/_base.py:299: ConvergenceWarning: Solver terminated early (max_iter=50000).  Consider pre-processing your data with StandardScaler or MinMaxScaler.\n",
      "  warnings.warn(\n"
     ]
    },
    {
     "name": "stdout",
     "output_type": "stream",
     "text": [
      "[CV 4/15; 10/50] END model__C=1.976218934028007, model__epsilon=0.7476312062252299;, score=-23.266 total time=   1.3s\n",
      "[CV 5/15; 10/50] START model__C=1.976218934028007, model__epsilon=0.7476312062252299\n"
     ]
    },
    {
     "name": "stderr",
     "output_type": "stream",
     "text": [
      "/opt/anaconda3/lib/python3.9/site-packages/sklearn/svm/_base.py:299: ConvergenceWarning: Solver terminated early (max_iter=50000).  Consider pre-processing your data with StandardScaler or MinMaxScaler.\n",
      "  warnings.warn(\n"
     ]
    },
    {
     "name": "stdout",
     "output_type": "stream",
     "text": [
      "[CV 5/15; 10/50] END model__C=1.976218934028007, model__epsilon=0.7476312062252299;, score=-25.001 total time=   1.3s\n",
      "[CV 6/15; 10/50] START model__C=1.976218934028007, model__epsilon=0.7476312062252299\n"
     ]
    },
    {
     "name": "stderr",
     "output_type": "stream",
     "text": [
      "/opt/anaconda3/lib/python3.9/site-packages/sklearn/svm/_base.py:299: ConvergenceWarning: Solver terminated early (max_iter=50000).  Consider pre-processing your data with StandardScaler or MinMaxScaler.\n",
      "  warnings.warn(\n"
     ]
    },
    {
     "name": "stdout",
     "output_type": "stream",
     "text": [
      "[CV 6/15; 10/50] END model__C=1.976218934028007, model__epsilon=0.7476312062252299;, score=-28.327 total time=   1.3s\n",
      "[CV 7/15; 10/50] START model__C=1.976218934028007, model__epsilon=0.7476312062252299\n"
     ]
    },
    {
     "name": "stderr",
     "output_type": "stream",
     "text": [
      "/opt/anaconda3/lib/python3.9/site-packages/sklearn/svm/_base.py:299: ConvergenceWarning: Solver terminated early (max_iter=50000).  Consider pre-processing your data with StandardScaler or MinMaxScaler.\n",
      "  warnings.warn(\n"
     ]
    },
    {
     "name": "stdout",
     "output_type": "stream",
     "text": [
      "[CV 7/15; 10/50] END model__C=1.976218934028007, model__epsilon=0.7476312062252299;, score=-27.335 total time=   1.3s\n",
      "[CV 8/15; 10/50] START model__C=1.976218934028007, model__epsilon=0.7476312062252299\n"
     ]
    },
    {
     "name": "stderr",
     "output_type": "stream",
     "text": [
      "/opt/anaconda3/lib/python3.9/site-packages/sklearn/svm/_base.py:299: ConvergenceWarning: Solver terminated early (max_iter=50000).  Consider pre-processing your data with StandardScaler or MinMaxScaler.\n",
      "  warnings.warn(\n"
     ]
    },
    {
     "name": "stdout",
     "output_type": "stream",
     "text": [
      "[CV 8/15; 10/50] END model__C=1.976218934028007, model__epsilon=0.7476312062252299;, score=-24.042 total time=   1.3s\n",
      "[CV 9/15; 10/50] START model__C=1.976218934028007, model__epsilon=0.7476312062252299\n"
     ]
    },
    {
     "name": "stderr",
     "output_type": "stream",
     "text": [
      "/opt/anaconda3/lib/python3.9/site-packages/sklearn/svm/_base.py:299: ConvergenceWarning: Solver terminated early (max_iter=50000).  Consider pre-processing your data with StandardScaler or MinMaxScaler.\n",
      "  warnings.warn(\n"
     ]
    },
    {
     "name": "stdout",
     "output_type": "stream",
     "text": [
      "[CV 9/15; 10/50] END model__C=1.976218934028007, model__epsilon=0.7476312062252299;, score=-23.348 total time=   1.3s\n",
      "[CV 10/15; 10/50] START model__C=1.976218934028007, model__epsilon=0.7476312062252299\n"
     ]
    },
    {
     "name": "stderr",
     "output_type": "stream",
     "text": [
      "/opt/anaconda3/lib/python3.9/site-packages/sklearn/svm/_base.py:299: ConvergenceWarning: Solver terminated early (max_iter=50000).  Consider pre-processing your data with StandardScaler or MinMaxScaler.\n",
      "  warnings.warn(\n"
     ]
    },
    {
     "name": "stdout",
     "output_type": "stream",
     "text": [
      "[CV 10/15; 10/50] END model__C=1.976218934028007, model__epsilon=0.7476312062252299;, score=-24.835 total time=   1.3s\n",
      "[CV 11/15; 10/50] START model__C=1.976218934028007, model__epsilon=0.7476312062252299\n"
     ]
    },
    {
     "name": "stderr",
     "output_type": "stream",
     "text": [
      "/opt/anaconda3/lib/python3.9/site-packages/sklearn/svm/_base.py:299: ConvergenceWarning: Solver terminated early (max_iter=50000).  Consider pre-processing your data with StandardScaler or MinMaxScaler.\n",
      "  warnings.warn(\n"
     ]
    },
    {
     "name": "stdout",
     "output_type": "stream",
     "text": [
      "[CV 11/15; 10/50] END model__C=1.976218934028007, model__epsilon=0.7476312062252299;, score=-28.698 total time=   1.3s\n",
      "[CV 12/15; 10/50] START model__C=1.976218934028007, model__epsilon=0.7476312062252299\n"
     ]
    },
    {
     "name": "stderr",
     "output_type": "stream",
     "text": [
      "/opt/anaconda3/lib/python3.9/site-packages/sklearn/svm/_base.py:299: ConvergenceWarning: Solver terminated early (max_iter=50000).  Consider pre-processing your data with StandardScaler or MinMaxScaler.\n",
      "  warnings.warn(\n"
     ]
    },
    {
     "name": "stdout",
     "output_type": "stream",
     "text": [
      "[CV 12/15; 10/50] END model__C=1.976218934028007, model__epsilon=0.7476312062252299;, score=-27.705 total time=   1.3s\n",
      "[CV 13/15; 10/50] START model__C=1.976218934028007, model__epsilon=0.7476312062252299\n"
     ]
    },
    {
     "name": "stderr",
     "output_type": "stream",
     "text": [
      "/opt/anaconda3/lib/python3.9/site-packages/sklearn/svm/_base.py:299: ConvergenceWarning: Solver terminated early (max_iter=50000).  Consider pre-processing your data with StandardScaler or MinMaxScaler.\n",
      "  warnings.warn(\n"
     ]
    },
    {
     "name": "stdout",
     "output_type": "stream",
     "text": [
      "[CV 13/15; 10/50] END model__C=1.976218934028007, model__epsilon=0.7476312062252299;, score=-23.702 total time=   1.4s\n",
      "[CV 14/15; 10/50] START model__C=1.976218934028007, model__epsilon=0.7476312062252299\n"
     ]
    },
    {
     "name": "stderr",
     "output_type": "stream",
     "text": [
      "/opt/anaconda3/lib/python3.9/site-packages/sklearn/svm/_base.py:299: ConvergenceWarning: Solver terminated early (max_iter=50000).  Consider pre-processing your data with StandardScaler or MinMaxScaler.\n",
      "  warnings.warn(\n"
     ]
    },
    {
     "name": "stdout",
     "output_type": "stream",
     "text": [
      "[CV 14/15; 10/50] END model__C=1.976218934028007, model__epsilon=0.7476312062252299;, score=-23.369 total time=   1.3s\n",
      "[CV 15/15; 10/50] START model__C=1.976218934028007, model__epsilon=0.7476312062252299\n"
     ]
    },
    {
     "name": "stderr",
     "output_type": "stream",
     "text": [
      "/opt/anaconda3/lib/python3.9/site-packages/sklearn/svm/_base.py:299: ConvergenceWarning: Solver terminated early (max_iter=50000).  Consider pre-processing your data with StandardScaler or MinMaxScaler.\n",
      "  warnings.warn(\n"
     ]
    },
    {
     "name": "stdout",
     "output_type": "stream",
     "text": [
      "[CV 15/15; 10/50] END model__C=1.976218934028007, model__epsilon=0.7476312062252299;, score=-24.280 total time=   1.3s\n",
      "[CV 1/15; 11/50] START model__C=6.847920095574778, model__epsilon=0.262108787826544\n"
     ]
    },
    {
     "name": "stderr",
     "output_type": "stream",
     "text": [
      "/opt/anaconda3/lib/python3.9/site-packages/sklearn/svm/_base.py:299: ConvergenceWarning: Solver terminated early (max_iter=50000).  Consider pre-processing your data with StandardScaler or MinMaxScaler.\n",
      "  warnings.warn(\n"
     ]
    },
    {
     "name": "stdout",
     "output_type": "stream",
     "text": [
      "[CV 1/15; 11/50] END model__C=6.847920095574778, model__epsilon=0.262108787826544;, score=-26.532 total time=   1.8s\n",
      "[CV 2/15; 11/50] START model__C=6.847920095574778, model__epsilon=0.262108787826544\n"
     ]
    },
    {
     "name": "stderr",
     "output_type": "stream",
     "text": [
      "/opt/anaconda3/lib/python3.9/site-packages/sklearn/svm/_base.py:299: ConvergenceWarning: Solver terminated early (max_iter=50000).  Consider pre-processing your data with StandardScaler or MinMaxScaler.\n",
      "  warnings.warn(\n"
     ]
    },
    {
     "name": "stdout",
     "output_type": "stream",
     "text": [
      "[CV 2/15; 11/50] END model__C=6.847920095574778, model__epsilon=0.262108787826544;, score=-25.232 total time=   1.9s\n",
      "[CV 3/15; 11/50] START model__C=6.847920095574778, model__epsilon=0.262108787826544\n"
     ]
    },
    {
     "name": "stderr",
     "output_type": "stream",
     "text": [
      "/opt/anaconda3/lib/python3.9/site-packages/sklearn/svm/_base.py:299: ConvergenceWarning: Solver terminated early (max_iter=50000).  Consider pre-processing your data with StandardScaler or MinMaxScaler.\n",
      "  warnings.warn(\n"
     ]
    },
    {
     "name": "stdout",
     "output_type": "stream",
     "text": [
      "[CV 3/15; 11/50] END model__C=6.847920095574778, model__epsilon=0.262108787826544;, score=-21.554 total time=   1.8s\n",
      "[CV 4/15; 11/50] START model__C=6.847920095574778, model__epsilon=0.262108787826544\n"
     ]
    },
    {
     "name": "stderr",
     "output_type": "stream",
     "text": [
      "/opt/anaconda3/lib/python3.9/site-packages/sklearn/svm/_base.py:299: ConvergenceWarning: Solver terminated early (max_iter=50000).  Consider pre-processing your data with StandardScaler or MinMaxScaler.\n",
      "  warnings.warn(\n"
     ]
    },
    {
     "name": "stdout",
     "output_type": "stream",
     "text": [
      "[CV 4/15; 11/50] END model__C=6.847920095574778, model__epsilon=0.262108787826544;, score=-20.990 total time=   1.8s\n",
      "[CV 5/15; 11/50] START model__C=6.847920095574778, model__epsilon=0.262108787826544\n"
     ]
    },
    {
     "name": "stderr",
     "output_type": "stream",
     "text": [
      "/opt/anaconda3/lib/python3.9/site-packages/sklearn/svm/_base.py:299: ConvergenceWarning: Solver terminated early (max_iter=50000).  Consider pre-processing your data with StandardScaler or MinMaxScaler.\n",
      "  warnings.warn(\n"
     ]
    },
    {
     "name": "stdout",
     "output_type": "stream",
     "text": [
      "[CV 5/15; 11/50] END model__C=6.847920095574778, model__epsilon=0.262108787826544;, score=-23.576 total time=   1.8s\n",
      "[CV 6/15; 11/50] START model__C=6.847920095574778, model__epsilon=0.262108787826544\n"
     ]
    },
    {
     "name": "stderr",
     "output_type": "stream",
     "text": [
      "/opt/anaconda3/lib/python3.9/site-packages/sklearn/svm/_base.py:299: ConvergenceWarning: Solver terminated early (max_iter=50000).  Consider pre-processing your data with StandardScaler or MinMaxScaler.\n",
      "  warnings.warn(\n"
     ]
    },
    {
     "name": "stdout",
     "output_type": "stream",
     "text": [
      "[CV 6/15; 11/50] END model__C=6.847920095574778, model__epsilon=0.262108787826544;, score=-26.543 total time=   1.8s\n",
      "[CV 7/15; 11/50] START model__C=6.847920095574778, model__epsilon=0.262108787826544\n"
     ]
    },
    {
     "name": "stderr",
     "output_type": "stream",
     "text": [
      "/opt/anaconda3/lib/python3.9/site-packages/sklearn/svm/_base.py:299: ConvergenceWarning: Solver terminated early (max_iter=50000).  Consider pre-processing your data with StandardScaler or MinMaxScaler.\n",
      "  warnings.warn(\n"
     ]
    },
    {
     "name": "stdout",
     "output_type": "stream",
     "text": [
      "[CV 7/15; 11/50] END model__C=6.847920095574778, model__epsilon=0.262108787826544;, score=-24.770 total time=   1.8s\n",
      "[CV 8/15; 11/50] START model__C=6.847920095574778, model__epsilon=0.262108787826544\n"
     ]
    },
    {
     "name": "stderr",
     "output_type": "stream",
     "text": [
      "/opt/anaconda3/lib/python3.9/site-packages/sklearn/svm/_base.py:299: ConvergenceWarning: Solver terminated early (max_iter=50000).  Consider pre-processing your data with StandardScaler or MinMaxScaler.\n",
      "  warnings.warn(\n"
     ]
    },
    {
     "name": "stdout",
     "output_type": "stream",
     "text": [
      "[CV 8/15; 11/50] END model__C=6.847920095574778, model__epsilon=0.262108787826544;, score=-22.138 total time=   1.8s\n",
      "[CV 9/15; 11/50] START model__C=6.847920095574778, model__epsilon=0.262108787826544\n"
     ]
    },
    {
     "name": "stderr",
     "output_type": "stream",
     "text": [
      "/opt/anaconda3/lib/python3.9/site-packages/sklearn/svm/_base.py:299: ConvergenceWarning: Solver terminated early (max_iter=50000).  Consider pre-processing your data with StandardScaler or MinMaxScaler.\n",
      "  warnings.warn(\n"
     ]
    },
    {
     "name": "stdout",
     "output_type": "stream",
     "text": [
      "[CV 9/15; 11/50] END model__C=6.847920095574778, model__epsilon=0.262108787826544;, score=-21.622 total time=   1.8s\n",
      "[CV 10/15; 11/50] START model__C=6.847920095574778, model__epsilon=0.262108787826544\n"
     ]
    },
    {
     "name": "stderr",
     "output_type": "stream",
     "text": [
      "/opt/anaconda3/lib/python3.9/site-packages/sklearn/svm/_base.py:299: ConvergenceWarning: Solver terminated early (max_iter=50000).  Consider pre-processing your data with StandardScaler or MinMaxScaler.\n",
      "  warnings.warn(\n"
     ]
    },
    {
     "name": "stdout",
     "output_type": "stream",
     "text": [
      "[CV 10/15; 11/50] END model__C=6.847920095574778, model__epsilon=0.262108787826544;, score=-23.141 total time=   1.8s\n",
      "[CV 11/15; 11/50] START model__C=6.847920095574778, model__epsilon=0.262108787826544\n"
     ]
    },
    {
     "name": "stderr",
     "output_type": "stream",
     "text": [
      "/opt/anaconda3/lib/python3.9/site-packages/sklearn/svm/_base.py:299: ConvergenceWarning: Solver terminated early (max_iter=50000).  Consider pre-processing your data with StandardScaler or MinMaxScaler.\n",
      "  warnings.warn(\n"
     ]
    },
    {
     "name": "stdout",
     "output_type": "stream",
     "text": [
      "[CV 11/15; 11/50] END model__C=6.847920095574778, model__epsilon=0.262108787826544;, score=-26.644 total time=   1.8s\n",
      "[CV 12/15; 11/50] START model__C=6.847920095574778, model__epsilon=0.262108787826544\n"
     ]
    },
    {
     "name": "stderr",
     "output_type": "stream",
     "text": [
      "/opt/anaconda3/lib/python3.9/site-packages/sklearn/svm/_base.py:299: ConvergenceWarning: Solver terminated early (max_iter=50000).  Consider pre-processing your data with StandardScaler or MinMaxScaler.\n",
      "  warnings.warn(\n"
     ]
    },
    {
     "name": "stdout",
     "output_type": "stream",
     "text": [
      "[CV 12/15; 11/50] END model__C=6.847920095574778, model__epsilon=0.262108787826544;, score=-25.339 total time=   1.8s\n",
      "[CV 13/15; 11/50] START model__C=6.847920095574778, model__epsilon=0.262108787826544\n"
     ]
    },
    {
     "name": "stderr",
     "output_type": "stream",
     "text": [
      "/opt/anaconda3/lib/python3.9/site-packages/sklearn/svm/_base.py:299: ConvergenceWarning: Solver terminated early (max_iter=50000).  Consider pre-processing your data with StandardScaler or MinMaxScaler.\n",
      "  warnings.warn(\n"
     ]
    },
    {
     "name": "stdout",
     "output_type": "stream",
     "text": [
      "[CV 13/15; 11/50] END model__C=6.847920095574778, model__epsilon=0.262108787826544;, score=-22.278 total time=   1.8s\n",
      "[CV 14/15; 11/50] START model__C=6.847920095574778, model__epsilon=0.262108787826544\n"
     ]
    },
    {
     "name": "stderr",
     "output_type": "stream",
     "text": [
      "/opt/anaconda3/lib/python3.9/site-packages/sklearn/svm/_base.py:299: ConvergenceWarning: Solver terminated early (max_iter=50000).  Consider pre-processing your data with StandardScaler or MinMaxScaler.\n",
      "  warnings.warn(\n"
     ]
    },
    {
     "name": "stdout",
     "output_type": "stream",
     "text": [
      "[CV 14/15; 11/50] END model__C=6.847920095574778, model__epsilon=0.262108787826544;, score=-21.892 total time=   1.8s\n",
      "[CV 15/15; 11/50] START model__C=6.847920095574778, model__epsilon=0.262108787826544\n"
     ]
    },
    {
     "name": "stderr",
     "output_type": "stream",
     "text": [
      "/opt/anaconda3/lib/python3.9/site-packages/sklearn/svm/_base.py:299: ConvergenceWarning: Solver terminated early (max_iter=50000).  Consider pre-processing your data with StandardScaler or MinMaxScaler.\n",
      "  warnings.warn(\n"
     ]
    },
    {
     "name": "stdout",
     "output_type": "stream",
     "text": [
      "[CV 15/15; 11/50] END model__C=6.847920095574778, model__epsilon=0.262108787826544;, score=-22.167 total time=   1.8s\n",
      "[CV 1/15; 12/50] START model__C=0.7523742884534856, model__epsilon=1.2562773503807025\n",
      "[CV 1/15; 12/50] END model__C=0.7523742884534856, model__epsilon=1.2562773503807025;, score=-31.112 total time=   1.1s\n",
      "[CV 2/15; 12/50] START model__C=0.7523742884534856, model__epsilon=1.2562773503807025\n",
      "[CV 2/15; 12/50] END model__C=0.7523742884534856, model__epsilon=1.2562773503807025;, score=-29.901 total time=   1.1s\n",
      "[CV 3/15; 12/50] START model__C=0.7523742884534856, model__epsilon=1.2562773503807025\n",
      "[CV 3/15; 12/50] END model__C=0.7523742884534856, model__epsilon=1.2562773503807025;, score=-26.420 total time=   1.1s\n",
      "[CV 4/15; 12/50] START model__C=0.7523742884534856, model__epsilon=1.2562773503807025\n",
      "[CV 4/15; 12/50] END model__C=0.7523742884534856, model__epsilon=1.2562773503807025;, score=-25.991 total time=   1.1s\n",
      "[CV 5/15; 12/50] START model__C=0.7523742884534856, model__epsilon=1.2562773503807025\n",
      "[CV 5/15; 12/50] END model__C=0.7523742884534856, model__epsilon=1.2562773503807025;, score=-26.868 total time=   1.1s\n",
      "[CV 6/15; 12/50] START model__C=0.7523742884534856, model__epsilon=1.2562773503807025\n",
      "[CV 6/15; 12/50] END model__C=0.7523742884534856, model__epsilon=1.2562773503807025;, score=-31.035 total time=   1.1s\n",
      "[CV 7/15; 12/50] START model__C=0.7523742884534856, model__epsilon=1.2562773503807025\n",
      "[CV 7/15; 12/50] END model__C=0.7523742884534856, model__epsilon=1.2562773503807025;, score=-30.127 total time=   1.1s\n",
      "[CV 8/15; 12/50] START model__C=0.7523742884534856, model__epsilon=1.2562773503807025\n",
      "[CV 8/15; 12/50] END model__C=0.7523742884534856, model__epsilon=1.2562773503807025;, score=-26.473 total time=   1.1s\n",
      "[CV 9/15; 12/50] START model__C=0.7523742884534856, model__epsilon=1.2562773503807025\n",
      "[CV 9/15; 12/50] END model__C=0.7523742884534856, model__epsilon=1.2562773503807025;, score=-25.710 total time=   1.1s\n",
      "[CV 10/15; 12/50] START model__C=0.7523742884534856, model__epsilon=1.2562773503807025\n",
      "[CV 10/15; 12/50] END model__C=0.7523742884534856, model__epsilon=1.2562773503807025;, score=-26.920 total time=   1.1s\n",
      "[CV 11/15; 12/50] START model__C=0.7523742884534856, model__epsilon=1.2562773503807025\n",
      "[CV 11/15; 12/50] END model__C=0.7523742884534856, model__epsilon=1.2562773503807025;, score=-30.925 total time=   1.1s\n",
      "[CV 12/15; 12/50] START model__C=0.7523742884534856, model__epsilon=1.2562773503807025\n",
      "[CV 12/15; 12/50] END model__C=0.7523742884534856, model__epsilon=1.2562773503807025;, score=-30.238 total time=   1.1s\n",
      "[CV 13/15; 12/50] START model__C=0.7523742884534856, model__epsilon=1.2562773503807025\n",
      "[CV 13/15; 12/50] END model__C=0.7523742884534856, model__epsilon=1.2562773503807025;, score=-26.394 total time=   1.1s\n",
      "[CV 14/15; 12/50] START model__C=0.7523742884534856, model__epsilon=1.2562773503807025\n",
      "[CV 14/15; 12/50] END model__C=0.7523742884534856, model__epsilon=1.2562773503807025;, score=-25.934 total time=   1.1s\n",
      "[CV 15/15; 12/50] START model__C=0.7523742884534856, model__epsilon=1.2562773503807025\n",
      "[CV 15/15; 12/50] END model__C=0.7523742884534856, model__epsilon=1.2562773503807025;, score=-26.615 total time=   1.1s\n",
      "[CV 1/15; 13/50] START model__C=2.334586407601624, model__epsilon=22.673986523780385\n",
      "[CV 1/15; 13/50] END model__C=2.334586407601624, model__epsilon=22.673986523780385;, score=-34.629 total time=   0.4s\n",
      "[CV 2/15; 13/50] START model__C=2.334586407601624, model__epsilon=22.673986523780385\n",
      "[CV 2/15; 13/50] END model__C=2.334586407601624, model__epsilon=22.673986523780385;, score=-33.297 total time=   0.4s\n",
      "[CV 3/15; 13/50] START model__C=2.334586407601624, model__epsilon=22.673986523780385\n",
      "[CV 3/15; 13/50] END model__C=2.334586407601624, model__epsilon=22.673986523780385;, score=-29.629 total time=   0.4s\n",
      "[CV 4/15; 13/50] START model__C=2.334586407601624, model__epsilon=22.673986523780385\n",
      "[CV 4/15; 13/50] END model__C=2.334586407601624, model__epsilon=22.673986523780385;, score=-29.352 total time=   0.4s\n",
      "[CV 5/15; 13/50] START model__C=2.334586407601624, model__epsilon=22.673986523780385\n",
      "[CV 5/15; 13/50] END model__C=2.334586407601624, model__epsilon=22.673986523780385;, score=-31.280 total time=   0.4s\n",
      "[CV 6/15; 13/50] START model__C=2.334586407601624, model__epsilon=22.673986523780385\n",
      "[CV 6/15; 13/50] END model__C=2.334586407601624, model__epsilon=22.673986523780385;, score=-34.688 total time=   0.4s\n",
      "[CV 7/15; 13/50] START model__C=2.334586407601624, model__epsilon=22.673986523780385\n",
      "[CV 7/15; 13/50] END model__C=2.334586407601624, model__epsilon=22.673986523780385;, score=-33.469 total time=   0.4s\n",
      "[CV 8/15; 13/50] START model__C=2.334586407601624, model__epsilon=22.673986523780385\n",
      "[CV 8/15; 13/50] END model__C=2.334586407601624, model__epsilon=22.673986523780385;, score=-29.818 total time=   0.4s\n",
      "[CV 9/15; 13/50] START model__C=2.334586407601624, model__epsilon=22.673986523780385\n",
      "[CV 9/15; 13/50] END model__C=2.334586407601624, model__epsilon=22.673986523780385;, score=-29.804 total time=   0.4s\n",
      "[CV 10/15; 13/50] START model__C=2.334586407601624, model__epsilon=22.673986523780385\n",
      "[CV 10/15; 13/50] END model__C=2.334586407601624, model__epsilon=22.673986523780385;, score=-30.745 total time=   0.4s\n",
      "[CV 11/15; 13/50] START model__C=2.334586407601624, model__epsilon=22.673986523780385\n",
      "[CV 11/15; 13/50] END model__C=2.334586407601624, model__epsilon=22.673986523780385;, score=-34.673 total time=   0.4s\n",
      "[CV 12/15; 13/50] START model__C=2.334586407601624, model__epsilon=22.673986523780385\n",
      "[CV 12/15; 13/50] END model__C=2.334586407601624, model__epsilon=22.673986523780385;, score=-33.333 total time=   0.4s\n",
      "[CV 13/15; 13/50] START model__C=2.334586407601624, model__epsilon=22.673986523780385\n",
      "[CV 13/15; 13/50] END model__C=2.334586407601624, model__epsilon=22.673986523780385;, score=-29.697 total time=   0.4s\n",
      "[CV 14/15; 13/50] START model__C=2.334586407601624, model__epsilon=22.673986523780385\n",
      "[CV 14/15; 13/50] END model__C=2.334586407601624, model__epsilon=22.673986523780385;, score=-30.323 total time=   0.5s\n",
      "[CV 15/15; 13/50] START model__C=2.334586407601624, model__epsilon=22.673986523780385\n",
      "[CV 15/15; 13/50] END model__C=2.334586407601624, model__epsilon=22.673986523780385;, score=-30.499 total time=   0.4s\n",
      "[CV 1/15; 14/50] START model__C=0.3972110727381912, model__epsilon=3.4890188454913864\n",
      "[CV 1/15; 14/50] END model__C=0.3972110727381912, model__epsilon=3.4890188454913864;, score=-33.194 total time=   0.8s\n",
      "[CV 2/15; 14/50] START model__C=0.3972110727381912, model__epsilon=3.4890188454913864\n",
      "[CV 2/15; 14/50] END model__C=0.3972110727381912, model__epsilon=3.4890188454913864;, score=-32.016 total time=   0.8s\n",
      "[CV 3/15; 14/50] START model__C=0.3972110727381912, model__epsilon=3.4890188454913864\n",
      "[CV 3/15; 14/50] END model__C=0.3972110727381912, model__epsilon=3.4890188454913864;, score=-28.585 total time=   0.8s\n",
      "[CV 4/15; 14/50] START model__C=0.3972110727381912, model__epsilon=3.4890188454913864\n",
      "[CV 4/15; 14/50] END model__C=0.3972110727381912, model__epsilon=3.4890188454913864;, score=-28.057 total time=   0.8s\n",
      "[CV 5/15; 14/50] START model__C=0.3972110727381912, model__epsilon=3.4890188454913864\n",
      "[CV 5/15; 14/50] END model__C=0.3972110727381912, model__epsilon=3.4890188454913864;, score=-28.730 total time=   0.8s\n",
      "[CV 6/15; 14/50] START model__C=0.3972110727381912, model__epsilon=3.4890188454913864\n",
      "[CV 6/15; 14/50] END model__C=0.3972110727381912, model__epsilon=3.4890188454913864;, score=-33.168 total time=   0.8s\n",
      "[CV 7/15; 14/50] START model__C=0.3972110727381912, model__epsilon=3.4890188454913864\n",
      "[CV 7/15; 14/50] END model__C=0.3972110727381912, model__epsilon=3.4890188454913864;, score=-32.224 total time=   0.8s\n",
      "[CV 8/15; 14/50] START model__C=0.3972110727381912, model__epsilon=3.4890188454913864\n",
      "[CV 8/15; 14/50] END model__C=0.3972110727381912, model__epsilon=3.4890188454913864;, score=-28.515 total time=   0.8s\n",
      "[CV 9/15; 14/50] START model__C=0.3972110727381912, model__epsilon=3.4890188454913864\n",
      "[CV 9/15; 14/50] END model__C=0.3972110727381912, model__epsilon=3.4890188454913864;, score=-27.873 total time=   0.8s\n",
      "[CV 10/15; 14/50] START model__C=0.3972110727381912, model__epsilon=3.4890188454913864\n"
     ]
    },
    {
     "name": "stdout",
     "output_type": "stream",
     "text": [
      "[CV 10/15; 14/50] END model__C=0.3972110727381912, model__epsilon=3.4890188454913864;, score=-28.712 total time=   0.8s\n",
      "[CV 11/15; 14/50] START model__C=0.3972110727381912, model__epsilon=3.4890188454913864\n",
      "[CV 11/15; 14/50] END model__C=0.3972110727381912, model__epsilon=3.4890188454913864;, score=-33.089 total time=   0.8s\n",
      "[CV 12/15; 14/50] START model__C=0.3972110727381912, model__epsilon=3.4890188454913864\n",
      "[CV 12/15; 14/50] END model__C=0.3972110727381912, model__epsilon=3.4890188454913864;, score=-32.225 total time=   0.8s\n",
      "[CV 13/15; 14/50] START model__C=0.3972110727381912, model__epsilon=3.4890188454913864\n",
      "[CV 13/15; 14/50] END model__C=0.3972110727381912, model__epsilon=3.4890188454913864;, score=-28.548 total time=   0.8s\n",
      "[CV 14/15; 14/50] START model__C=0.3972110727381912, model__epsilon=3.4890188454913864\n",
      "[CV 14/15; 14/50] END model__C=0.3972110727381912, model__epsilon=3.4890188454913864;, score=-28.047 total time=   0.8s\n",
      "[CV 15/15; 14/50] START model__C=0.3972110727381912, model__epsilon=3.4890188454913864\n",
      "[CV 15/15; 14/50] END model__C=0.3972110727381912, model__epsilon=3.4890188454913864;, score=-28.644 total time=   0.8s\n",
      "[CV 1/15; 15/50] START model__C=5.9874749104613985, model__epsilon=0.13783237455007183\n"
     ]
    },
    {
     "name": "stderr",
     "output_type": "stream",
     "text": [
      "/opt/anaconda3/lib/python3.9/site-packages/sklearn/svm/_base.py:299: ConvergenceWarning: Solver terminated early (max_iter=50000).  Consider pre-processing your data with StandardScaler or MinMaxScaler.\n",
      "  warnings.warn(\n"
     ]
    },
    {
     "name": "stdout",
     "output_type": "stream",
     "text": [
      "[CV 1/15; 15/50] END model__C=5.9874749104613985, model__epsilon=0.13783237455007183;, score=-26.671 total time=   1.8s\n",
      "[CV 2/15; 15/50] START model__C=5.9874749104613985, model__epsilon=0.13783237455007183\n"
     ]
    },
    {
     "name": "stderr",
     "output_type": "stream",
     "text": [
      "/opt/anaconda3/lib/python3.9/site-packages/sklearn/svm/_base.py:299: ConvergenceWarning: Solver terminated early (max_iter=50000).  Consider pre-processing your data with StandardScaler or MinMaxScaler.\n",
      "  warnings.warn(\n"
     ]
    },
    {
     "name": "stdout",
     "output_type": "stream",
     "text": [
      "[CV 2/15; 15/50] END model__C=5.9874749104613985, model__epsilon=0.13783237455007183;, score=-25.322 total time=   1.8s\n",
      "[CV 3/15; 15/50] START model__C=5.9874749104613985, model__epsilon=0.13783237455007183\n"
     ]
    },
    {
     "name": "stderr",
     "output_type": "stream",
     "text": [
      "/opt/anaconda3/lib/python3.9/site-packages/sklearn/svm/_base.py:299: ConvergenceWarning: Solver terminated early (max_iter=50000).  Consider pre-processing your data with StandardScaler or MinMaxScaler.\n",
      "  warnings.warn(\n"
     ]
    },
    {
     "name": "stdout",
     "output_type": "stream",
     "text": [
      "[CV 3/15; 15/50] END model__C=5.9874749104613985, model__epsilon=0.13783237455007183;, score=-21.663 total time=   1.8s\n",
      "[CV 4/15; 15/50] START model__C=5.9874749104613985, model__epsilon=0.13783237455007183\n"
     ]
    },
    {
     "name": "stderr",
     "output_type": "stream",
     "text": [
      "/opt/anaconda3/lib/python3.9/site-packages/sklearn/svm/_base.py:299: ConvergenceWarning: Solver terminated early (max_iter=50000).  Consider pre-processing your data with StandardScaler or MinMaxScaler.\n",
      "  warnings.warn(\n"
     ]
    },
    {
     "name": "stdout",
     "output_type": "stream",
     "text": [
      "[CV 4/15; 15/50] END model__C=5.9874749104613985, model__epsilon=0.13783237455007183;, score=-21.225 total time=   1.8s\n",
      "[CV 5/15; 15/50] START model__C=5.9874749104613985, model__epsilon=0.13783237455007183\n"
     ]
    },
    {
     "name": "stderr",
     "output_type": "stream",
     "text": [
      "/opt/anaconda3/lib/python3.9/site-packages/sklearn/svm/_base.py:299: ConvergenceWarning: Solver terminated early (max_iter=50000).  Consider pre-processing your data with StandardScaler or MinMaxScaler.\n",
      "  warnings.warn(\n"
     ]
    },
    {
     "name": "stdout",
     "output_type": "stream",
     "text": [
      "[CV 5/15; 15/50] END model__C=5.9874749104613985, model__epsilon=0.13783237455007183;, score=-23.679 total time=   1.8s\n",
      "[CV 6/15; 15/50] START model__C=5.9874749104613985, model__epsilon=0.13783237455007183\n"
     ]
    },
    {
     "name": "stderr",
     "output_type": "stream",
     "text": [
      "/opt/anaconda3/lib/python3.9/site-packages/sklearn/svm/_base.py:299: ConvergenceWarning: Solver terminated early (max_iter=50000).  Consider pre-processing your data with StandardScaler or MinMaxScaler.\n",
      "  warnings.warn(\n"
     ]
    },
    {
     "name": "stdout",
     "output_type": "stream",
     "text": [
      "[CV 6/15; 15/50] END model__C=5.9874749104613985, model__epsilon=0.13783237455007183;, score=-26.684 total time=   1.8s\n",
      "[CV 7/15; 15/50] START model__C=5.9874749104613985, model__epsilon=0.13783237455007183\n"
     ]
    },
    {
     "name": "stderr",
     "output_type": "stream",
     "text": [
      "/opt/anaconda3/lib/python3.9/site-packages/sklearn/svm/_base.py:299: ConvergenceWarning: Solver terminated early (max_iter=50000).  Consider pre-processing your data with StandardScaler or MinMaxScaler.\n",
      "  warnings.warn(\n"
     ]
    },
    {
     "name": "stdout",
     "output_type": "stream",
     "text": [
      "[CV 7/15; 15/50] END model__C=5.9874749104613985, model__epsilon=0.13783237455007183;, score=-24.915 total time=   1.8s\n",
      "[CV 8/15; 15/50] START model__C=5.9874749104613985, model__epsilon=0.13783237455007183\n"
     ]
    },
    {
     "name": "stderr",
     "output_type": "stream",
     "text": [
      "/opt/anaconda3/lib/python3.9/site-packages/sklearn/svm/_base.py:299: ConvergenceWarning: Solver terminated early (max_iter=50000).  Consider pre-processing your data with StandardScaler or MinMaxScaler.\n",
      "  warnings.warn(\n"
     ]
    },
    {
     "name": "stdout",
     "output_type": "stream",
     "text": [
      "[CV 8/15; 15/50] END model__C=5.9874749104613985, model__epsilon=0.13783237455007183;, score=-22.161 total time=   1.8s\n",
      "[CV 9/15; 15/50] START model__C=5.9874749104613985, model__epsilon=0.13783237455007183\n"
     ]
    },
    {
     "name": "stderr",
     "output_type": "stream",
     "text": [
      "/opt/anaconda3/lib/python3.9/site-packages/sklearn/svm/_base.py:299: ConvergenceWarning: Solver terminated early (max_iter=50000).  Consider pre-processing your data with StandardScaler or MinMaxScaler.\n",
      "  warnings.warn(\n"
     ]
    },
    {
     "name": "stdout",
     "output_type": "stream",
     "text": [
      "[CV 9/15; 15/50] END model__C=5.9874749104613985, model__epsilon=0.13783237455007183;, score=-21.731 total time=   1.8s\n",
      "[CV 10/15; 15/50] START model__C=5.9874749104613985, model__epsilon=0.13783237455007183\n"
     ]
    },
    {
     "name": "stderr",
     "output_type": "stream",
     "text": [
      "/opt/anaconda3/lib/python3.9/site-packages/sklearn/svm/_base.py:299: ConvergenceWarning: Solver terminated early (max_iter=50000).  Consider pre-processing your data with StandardScaler or MinMaxScaler.\n",
      "  warnings.warn(\n"
     ]
    },
    {
     "name": "stdout",
     "output_type": "stream",
     "text": [
      "[CV 10/15; 15/50] END model__C=5.9874749104613985, model__epsilon=0.13783237455007183;, score=-23.188 total time=   1.8s\n",
      "[CV 11/15; 15/50] START model__C=5.9874749104613985, model__epsilon=0.13783237455007183\n"
     ]
    },
    {
     "name": "stderr",
     "output_type": "stream",
     "text": [
      "/opt/anaconda3/lib/python3.9/site-packages/sklearn/svm/_base.py:299: ConvergenceWarning: Solver terminated early (max_iter=50000).  Consider pre-processing your data with StandardScaler or MinMaxScaler.\n",
      "  warnings.warn(\n"
     ]
    },
    {
     "name": "stdout",
     "output_type": "stream",
     "text": [
      "[CV 11/15; 15/50] END model__C=5.9874749104613985, model__epsilon=0.13783237455007183;, score=-26.867 total time=   1.8s\n",
      "[CV 12/15; 15/50] START model__C=5.9874749104613985, model__epsilon=0.13783237455007183\n"
     ]
    },
    {
     "name": "stderr",
     "output_type": "stream",
     "text": [
      "/opt/anaconda3/lib/python3.9/site-packages/sklearn/svm/_base.py:299: ConvergenceWarning: Solver terminated early (max_iter=50000).  Consider pre-processing your data with StandardScaler or MinMaxScaler.\n",
      "  warnings.warn(\n"
     ]
    },
    {
     "name": "stdout",
     "output_type": "stream",
     "text": [
      "[CV 12/15; 15/50] END model__C=5.9874749104613985, model__epsilon=0.13783237455007183;, score=-25.471 total time=   1.8s\n",
      "[CV 13/15; 15/50] START model__C=5.9874749104613985, model__epsilon=0.13783237455007183\n"
     ]
    },
    {
     "name": "stderr",
     "output_type": "stream",
     "text": [
      "/opt/anaconda3/lib/python3.9/site-packages/sklearn/svm/_base.py:299: ConvergenceWarning: Solver terminated early (max_iter=50000).  Consider pre-processing your data with StandardScaler or MinMaxScaler.\n",
      "  warnings.warn(\n"
     ]
    },
    {
     "name": "stdout",
     "output_type": "stream",
     "text": [
      "[CV 13/15; 15/50] END model__C=5.9874749104613985, model__epsilon=0.13783237455007183;, score=-22.337 total time=   1.8s\n",
      "[CV 14/15; 15/50] START model__C=5.9874749104613985, model__epsilon=0.13783237455007183\n"
     ]
    },
    {
     "name": "stderr",
     "output_type": "stream",
     "text": [
      "/opt/anaconda3/lib/python3.9/site-packages/sklearn/svm/_base.py:299: ConvergenceWarning: Solver terminated early (max_iter=50000).  Consider pre-processing your data with StandardScaler or MinMaxScaler.\n",
      "  warnings.warn(\n"
     ]
    },
    {
     "name": "stdout",
     "output_type": "stream",
     "text": [
      "[CV 14/15; 15/50] END model__C=5.9874749104613985, model__epsilon=0.13783237455007183;, score=-21.924 total time=   1.8s\n",
      "[CV 15/15; 15/50] START model__C=5.9874749104613985, model__epsilon=0.13783237455007183\n"
     ]
    },
    {
     "name": "stderr",
     "output_type": "stream",
     "text": [
      "/opt/anaconda3/lib/python3.9/site-packages/sklearn/svm/_base.py:299: ConvergenceWarning: Solver terminated early (max_iter=50000).  Consider pre-processing your data with StandardScaler or MinMaxScaler.\n",
      "  warnings.warn(\n"
     ]
    },
    {
     "name": "stdout",
     "output_type": "stream",
     "text": [
      "[CV 15/15; 15/50] END model__C=5.9874749104613985, model__epsilon=0.13783237455007183;, score=-22.267 total time=   1.8s\n",
      "[CV 1/15; 16/50] START model__C=6.647135865318027, model__epsilon=0.32476735706274484\n"
     ]
    },
    {
     "name": "stderr",
     "output_type": "stream",
     "text": [
      "/opt/anaconda3/lib/python3.9/site-packages/sklearn/svm/_base.py:299: ConvergenceWarning: Solver terminated early (max_iter=50000).  Consider pre-processing your data with StandardScaler or MinMaxScaler.\n",
      "  warnings.warn(\n"
     ]
    },
    {
     "name": "stdout",
     "output_type": "stream",
     "text": [
      "[CV 1/15; 16/50] END model__C=6.647135865318027, model__epsilon=0.32476735706274484;, score=-26.563 total time=   1.7s\n",
      "[CV 2/15; 16/50] START model__C=6.647135865318027, model__epsilon=0.32476735706274484\n"
     ]
    },
    {
     "name": "stderr",
     "output_type": "stream",
     "text": [
      "/opt/anaconda3/lib/python3.9/site-packages/sklearn/svm/_base.py:299: ConvergenceWarning: Solver terminated early (max_iter=50000).  Consider pre-processing your data with StandardScaler or MinMaxScaler.\n",
      "  warnings.warn(\n"
     ]
    },
    {
     "name": "stdout",
     "output_type": "stream",
     "text": [
      "[CV 2/15; 16/50] END model__C=6.647135865318027, model__epsilon=0.32476735706274484;, score=-25.254 total time=   1.8s\n",
      "[CV 3/15; 16/50] START model__C=6.647135865318027, model__epsilon=0.32476735706274484\n"
     ]
    },
    {
     "name": "stderr",
     "output_type": "stream",
     "text": [
      "/opt/anaconda3/lib/python3.9/site-packages/sklearn/svm/_base.py:299: ConvergenceWarning: Solver terminated early (max_iter=50000).  Consider pre-processing your data with StandardScaler or MinMaxScaler.\n",
      "  warnings.warn(\n"
     ]
    },
    {
     "name": "stdout",
     "output_type": "stream",
     "text": [
      "[CV 3/15; 16/50] END model__C=6.647135865318027, model__epsilon=0.32476735706274484;, score=-21.564 total time=   1.8s\n",
      "[CV 4/15; 16/50] START model__C=6.647135865318027, model__epsilon=0.32476735706274484\n"
     ]
    },
    {
     "name": "stderr",
     "output_type": "stream",
     "text": [
      "/opt/anaconda3/lib/python3.9/site-packages/sklearn/svm/_base.py:299: ConvergenceWarning: Solver terminated early (max_iter=50000).  Consider pre-processing your data with StandardScaler or MinMaxScaler.\n",
      "  warnings.warn(\n"
     ]
    },
    {
     "name": "stdout",
     "output_type": "stream",
     "text": [
      "[CV 4/15; 16/50] END model__C=6.647135865318027, model__epsilon=0.32476735706274484;, score=-20.999 total time=   1.8s\n",
      "[CV 5/15; 16/50] START model__C=6.647135865318027, model__epsilon=0.32476735706274484\n"
     ]
    },
    {
     "name": "stderr",
     "output_type": "stream",
     "text": [
      "/opt/anaconda3/lib/python3.9/site-packages/sklearn/svm/_base.py:299: ConvergenceWarning: Solver terminated early (max_iter=50000).  Consider pre-processing your data with StandardScaler or MinMaxScaler.\n",
      "  warnings.warn(\n"
     ]
    },
    {
     "name": "stdout",
     "output_type": "stream",
     "text": [
      "[CV 5/15; 16/50] END model__C=6.647135865318027, model__epsilon=0.32476735706274484;, score=-23.598 total time=   1.8s\n",
      "[CV 6/15; 16/50] START model__C=6.647135865318027, model__epsilon=0.32476735706274484\n"
     ]
    },
    {
     "name": "stderr",
     "output_type": "stream",
     "text": [
      "/opt/anaconda3/lib/python3.9/site-packages/sklearn/svm/_base.py:299: ConvergenceWarning: Solver terminated early (max_iter=50000).  Consider pre-processing your data with StandardScaler or MinMaxScaler.\n",
      "  warnings.warn(\n"
     ]
    },
    {
     "name": "stdout",
     "output_type": "stream",
     "text": [
      "[CV 6/15; 16/50] END model__C=6.647135865318027, model__epsilon=0.32476735706274484;, score=-26.604 total time=   1.8s\n",
      "[CV 7/15; 16/50] START model__C=6.647135865318027, model__epsilon=0.32476735706274484\n"
     ]
    },
    {
     "name": "stderr",
     "output_type": "stream",
     "text": [
      "/opt/anaconda3/lib/python3.9/site-packages/sklearn/svm/_base.py:299: ConvergenceWarning: Solver terminated early (max_iter=50000).  Consider pre-processing your data with StandardScaler or MinMaxScaler.\n",
      "  warnings.warn(\n"
     ]
    },
    {
     "name": "stdout",
     "output_type": "stream",
     "text": [
      "[CV 7/15; 16/50] END model__C=6.647135865318027, model__epsilon=0.32476735706274484;, score=-24.803 total time=   1.7s\n",
      "[CV 8/15; 16/50] START model__C=6.647135865318027, model__epsilon=0.32476735706274484\n"
     ]
    },
    {
     "name": "stderr",
     "output_type": "stream",
     "text": [
      "/opt/anaconda3/lib/python3.9/site-packages/sklearn/svm/_base.py:299: ConvergenceWarning: Solver terminated early (max_iter=50000).  Consider pre-processing your data with StandardScaler or MinMaxScaler.\n",
      "  warnings.warn(\n"
     ]
    },
    {
     "name": "stdout",
     "output_type": "stream",
     "text": [
      "[CV 8/15; 16/50] END model__C=6.647135865318027, model__epsilon=0.32476735706274484;, score=-22.138 total time=   1.8s\n",
      "[CV 9/15; 16/50] START model__C=6.647135865318027, model__epsilon=0.32476735706274484\n"
     ]
    },
    {
     "name": "stderr",
     "output_type": "stream",
     "text": [
      "/opt/anaconda3/lib/python3.9/site-packages/sklearn/svm/_base.py:299: ConvergenceWarning: Solver terminated early (max_iter=50000).  Consider pre-processing your data with StandardScaler or MinMaxScaler.\n",
      "  warnings.warn(\n"
     ]
    },
    {
     "name": "stdout",
     "output_type": "stream",
     "text": [
      "[CV 9/15; 16/50] END model__C=6.647135865318027, model__epsilon=0.32476735706274484;, score=-21.629 total time=   1.8s\n",
      "[CV 10/15; 16/50] START model__C=6.647135865318027, model__epsilon=0.32476735706274484\n"
     ]
    },
    {
     "name": "stderr",
     "output_type": "stream",
     "text": [
      "/opt/anaconda3/lib/python3.9/site-packages/sklearn/svm/_base.py:299: ConvergenceWarning: Solver terminated early (max_iter=50000).  Consider pre-processing your data with StandardScaler or MinMaxScaler.\n",
      "  warnings.warn(\n"
     ]
    },
    {
     "name": "stdout",
     "output_type": "stream",
     "text": [
      "[CV 10/15; 16/50] END model__C=6.647135865318027, model__epsilon=0.32476735706274484;, score=-23.157 total time=   1.8s\n",
      "[CV 11/15; 16/50] START model__C=6.647135865318027, model__epsilon=0.32476735706274484\n"
     ]
    },
    {
     "name": "stderr",
     "output_type": "stream",
     "text": [
      "/opt/anaconda3/lib/python3.9/site-packages/sklearn/svm/_base.py:299: ConvergenceWarning: Solver terminated early (max_iter=50000).  Consider pre-processing your data with StandardScaler or MinMaxScaler.\n",
      "  warnings.warn(\n"
     ]
    },
    {
     "name": "stdout",
     "output_type": "stream",
     "text": [
      "[CV 11/15; 16/50] END model__C=6.647135865318027, model__epsilon=0.32476735706274484;, score=-26.650 total time=   1.8s\n",
      "[CV 12/15; 16/50] START model__C=6.647135865318027, model__epsilon=0.32476735706274484\n"
     ]
    },
    {
     "name": "stderr",
     "output_type": "stream",
     "text": [
      "/opt/anaconda3/lib/python3.9/site-packages/sklearn/svm/_base.py:299: ConvergenceWarning: Solver terminated early (max_iter=50000).  Consider pre-processing your data with StandardScaler or MinMaxScaler.\n",
      "  warnings.warn(\n"
     ]
    },
    {
     "name": "stdout",
     "output_type": "stream",
     "text": [
      "[CV 12/15; 16/50] END model__C=6.647135865318027, model__epsilon=0.32476735706274484;, score=-25.397 total time=   1.8s\n",
      "[CV 13/15; 16/50] START model__C=6.647135865318027, model__epsilon=0.32476735706274484\n"
     ]
    },
    {
     "name": "stderr",
     "output_type": "stream",
     "text": [
      "/opt/anaconda3/lib/python3.9/site-packages/sklearn/svm/_base.py:299: ConvergenceWarning: Solver terminated early (max_iter=50000).  Consider pre-processing your data with StandardScaler or MinMaxScaler.\n",
      "  warnings.warn(\n"
     ]
    },
    {
     "name": "stdout",
     "output_type": "stream",
     "text": [
      "[CV 13/15; 16/50] END model__C=6.647135865318027, model__epsilon=0.32476735706274484;, score=-22.320 total time=   1.8s\n",
      "[CV 14/15; 16/50] START model__C=6.647135865318027, model__epsilon=0.32476735706274484\n"
     ]
    },
    {
     "name": "stderr",
     "output_type": "stream",
     "text": [
      "/opt/anaconda3/lib/python3.9/site-packages/sklearn/svm/_base.py:299: ConvergenceWarning: Solver terminated early (max_iter=50000).  Consider pre-processing your data with StandardScaler or MinMaxScaler.\n",
      "  warnings.warn(\n"
     ]
    },
    {
     "name": "stdout",
     "output_type": "stream",
     "text": [
      "[CV 14/15; 16/50] END model__C=6.647135865318027, model__epsilon=0.32476735706274484;, score=-21.893 total time=   1.8s\n",
      "[CV 15/15; 16/50] START model__C=6.647135865318027, model__epsilon=0.32476735706274484\n"
     ]
    },
    {
     "name": "stderr",
     "output_type": "stream",
     "text": [
      "/opt/anaconda3/lib/python3.9/site-packages/sklearn/svm/_base.py:299: ConvergenceWarning: Solver terminated early (max_iter=50000).  Consider pre-processing your data with StandardScaler or MinMaxScaler.\n",
      "  warnings.warn(\n"
     ]
    },
    {
     "name": "stdout",
     "output_type": "stream",
     "text": [
      "[CV 15/15; 16/50] END model__C=6.647135865318027, model__epsilon=0.32476735706274484;, score=-22.178 total time=   1.8s\n",
      "[CV 1/15; 17/50] START model__C=0.15673095467235415, model__epsilon=70.25166339242152\n",
      "[CV 1/15; 17/50] END model__C=0.15673095467235415, model__epsilon=70.25166339242152;, score=-77.501 total time=   0.3s\n",
      "[CV 2/15; 17/50] START model__C=0.15673095467235415, model__epsilon=70.25166339242152\n",
      "[CV 2/15; 17/50] END model__C=0.15673095467235415, model__epsilon=70.25166339242152;, score=-76.356 total time=   0.3s\n",
      "[CV 3/15; 17/50] START model__C=0.15673095467235415, model__epsilon=70.25166339242152\n",
      "[CV 3/15; 17/50] END model__C=0.15673095467235415, model__epsilon=70.25166339242152;, score=-72.682 total time=   0.3s\n",
      "[CV 4/15; 17/50] START model__C=0.15673095467235415, model__epsilon=70.25166339242152\n",
      "[CV 4/15; 17/50] END model__C=0.15673095467235415, model__epsilon=70.25166339242152;, score=-72.382 total time=   0.3s\n",
      "[CV 5/15; 17/50] START model__C=0.15673095467235415, model__epsilon=70.25166339242152\n",
      "[CV 5/15; 17/50] END model__C=0.15673095467235415, model__epsilon=70.25166339242152;, score=-73.365 total time=   0.3s\n",
      "[CV 6/15; 17/50] START model__C=0.15673095467235415, model__epsilon=70.25166339242152\n",
      "[CV 6/15; 17/50] END model__C=0.15673095467235415, model__epsilon=70.25166339242152;, score=-77.468 total time=   0.3s\n",
      "[CV 7/15; 17/50] START model__C=0.15673095467235415, model__epsilon=70.25166339242152\n",
      "[CV 7/15; 17/50] END model__C=0.15673095467235415, model__epsilon=70.25166339242152;, score=-76.409 total time=   0.3s\n",
      "[CV 8/15; 17/50] START model__C=0.15673095467235415, model__epsilon=70.25166339242152\n",
      "[CV 8/15; 17/50] END model__C=0.15673095467235415, model__epsilon=70.25166339242152;, score=-72.823 total time=   0.3s\n",
      "[CV 9/15; 17/50] START model__C=0.15673095467235415, model__epsilon=70.25166339242152\n",
      "[CV 9/15; 17/50] END model__C=0.15673095467235415, model__epsilon=70.25166339242152;, score=-72.373 total time=   0.3s\n",
      "[CV 10/15; 17/50] START model__C=0.15673095467235415, model__epsilon=70.25166339242152\n",
      "[CV 10/15; 17/50] END model__C=0.15673095467235415, model__epsilon=70.25166339242152;, score=-73.263 total time=   0.3s\n",
      "[CV 11/15; 17/50] START model__C=0.15673095467235415, model__epsilon=70.25166339242152\n",
      "[CV 11/15; 17/50] END model__C=0.15673095467235415, model__epsilon=70.25166339242152;, score=-77.526 total time=   0.3s\n",
      "[CV 12/15; 17/50] START model__C=0.15673095467235415, model__epsilon=70.25166339242152\n",
      "[CV 12/15; 17/50] END model__C=0.15673095467235415, model__epsilon=70.25166339242152;, score=-76.397 total time=   0.3s\n",
      "[CV 13/15; 17/50] START model__C=0.15673095467235415, model__epsilon=70.25166339242152\n",
      "[CV 13/15; 17/50] END model__C=0.15673095467235415, model__epsilon=70.25166339242152;, score=-72.785 total time=   0.3s\n",
      "[CV 14/15; 17/50] START model__C=0.15673095467235415, model__epsilon=70.25166339242152\n",
      "[CV 14/15; 17/50] END model__C=0.15673095467235415, model__epsilon=70.25166339242152;, score=-72.402 total time=   0.3s\n",
      "[CV 15/15; 17/50] START model__C=0.15673095467235415, model__epsilon=70.25166339242152\n",
      "[CV 15/15; 17/50] END model__C=0.15673095467235415, model__epsilon=70.25166339242152;, score=-73.217 total time=   0.3s\n",
      "[CV 1/15; 18/50] START model__C=78.86714129990483, model__epsilon=26.619018884890558\n"
     ]
    },
    {
     "name": "stderr",
     "output_type": "stream",
     "text": [
      "/opt/anaconda3/lib/python3.9/site-packages/sklearn/svm/_base.py:299: ConvergenceWarning: Solver terminated early (max_iter=50000).  Consider pre-processing your data with StandardScaler or MinMaxScaler.\n",
      "  warnings.warn(\n"
     ]
    },
    {
     "name": "stdout",
     "output_type": "stream",
     "text": [
      "[CV 1/15; 18/50] END model__C=78.86714129990483, model__epsilon=26.619018884890558;, score=-32.877 total time=   0.8s\n",
      "[CV 2/15; 18/50] START model__C=78.86714129990483, model__epsilon=26.619018884890558\n"
     ]
    },
    {
     "name": "stderr",
     "output_type": "stream",
     "text": [
      "/opt/anaconda3/lib/python3.9/site-packages/sklearn/svm/_base.py:299: ConvergenceWarning: Solver terminated early (max_iter=50000).  Consider pre-processing your data with StandardScaler or MinMaxScaler.\n",
      "  warnings.warn(\n"
     ]
    },
    {
     "name": "stdout",
     "output_type": "stream",
     "text": [
      "[CV 2/15; 18/50] END model__C=78.86714129990483, model__epsilon=26.619018884890558;, score=-31.345 total time=   0.8s\n",
      "[CV 3/15; 18/50] START model__C=78.86714129990483, model__epsilon=26.619018884890558\n"
     ]
    },
    {
     "name": "stderr",
     "output_type": "stream",
     "text": [
      "/opt/anaconda3/lib/python3.9/site-packages/sklearn/svm/_base.py:299: ConvergenceWarning: Solver terminated early (max_iter=50000).  Consider pre-processing your data with StandardScaler or MinMaxScaler.\n",
      "  warnings.warn(\n"
     ]
    },
    {
     "name": "stdout",
     "output_type": "stream",
     "text": [
      "[CV 3/15; 18/50] END model__C=78.86714129990483, model__epsilon=26.619018884890558;, score=-28.368 total time=   0.8s\n",
      "[CV 4/15; 18/50] START model__C=78.86714129990483, model__epsilon=26.619018884890558\n"
     ]
    },
    {
     "name": "stderr",
     "output_type": "stream",
     "text": [
      "/opt/anaconda3/lib/python3.9/site-packages/sklearn/svm/_base.py:299: ConvergenceWarning: Solver terminated early (max_iter=50000).  Consider pre-processing your data with StandardScaler or MinMaxScaler.\n",
      "  warnings.warn(\n"
     ]
    },
    {
     "name": "stdout",
     "output_type": "stream",
     "text": [
      "[CV 4/15; 18/50] END model__C=78.86714129990483, model__epsilon=26.619018884890558;, score=-27.647 total time=   0.8s\n",
      "[CV 5/15; 18/50] START model__C=78.86714129990483, model__epsilon=26.619018884890558\n"
     ]
    },
    {
     "name": "stderr",
     "output_type": "stream",
     "text": [
      "/opt/anaconda3/lib/python3.9/site-packages/sklearn/svm/_base.py:299: ConvergenceWarning: Solver terminated early (max_iter=50000).  Consider pre-processing your data with StandardScaler or MinMaxScaler.\n",
      "  warnings.warn(\n"
     ]
    },
    {
     "name": "stdout",
     "output_type": "stream",
     "text": [
      "[CV 5/15; 18/50] END model__C=78.86714129990483, model__epsilon=26.619018884890558;, score=-29.571 total time=   0.8s\n",
      "[CV 6/15; 18/50] START model__C=78.86714129990483, model__epsilon=26.619018884890558\n"
     ]
    },
    {
     "name": "stderr",
     "output_type": "stream",
     "text": [
      "/opt/anaconda3/lib/python3.9/site-packages/sklearn/svm/_base.py:299: ConvergenceWarning: Solver terminated early (max_iter=50000).  Consider pre-processing your data with StandardScaler or MinMaxScaler.\n",
      "  warnings.warn(\n"
     ]
    },
    {
     "name": "stdout",
     "output_type": "stream",
     "text": [
      "[CV 6/15; 18/50] END model__C=78.86714129990483, model__epsilon=26.619018884890558;, score=-32.142 total time=   0.8s\n",
      "[CV 7/15; 18/50] START model__C=78.86714129990483, model__epsilon=26.619018884890558\n"
     ]
    },
    {
     "name": "stderr",
     "output_type": "stream",
     "text": [
      "/opt/anaconda3/lib/python3.9/site-packages/sklearn/svm/_base.py:299: ConvergenceWarning: Solver terminated early (max_iter=50000).  Consider pre-processing your data with StandardScaler or MinMaxScaler.\n",
      "  warnings.warn(\n"
     ]
    },
    {
     "name": "stdout",
     "output_type": "stream",
     "text": [
      "[CV 7/15; 18/50] END model__C=78.86714129990483, model__epsilon=26.619018884890558;, score=-31.123 total time=   0.8s\n",
      "[CV 8/15; 18/50] START model__C=78.86714129990483, model__epsilon=26.619018884890558\n"
     ]
    },
    {
     "name": "stderr",
     "output_type": "stream",
     "text": [
      "/opt/anaconda3/lib/python3.9/site-packages/sklearn/svm/_base.py:299: ConvergenceWarning: Solver terminated early (max_iter=50000).  Consider pre-processing your data with StandardScaler or MinMaxScaler.\n",
      "  warnings.warn(\n"
     ]
    },
    {
     "name": "stdout",
     "output_type": "stream",
     "text": [
      "[CV 8/15; 18/50] END model__C=78.86714129990483, model__epsilon=26.619018884890558;, score=-28.115 total time=   0.8s\n",
      "[CV 9/15; 18/50] START model__C=78.86714129990483, model__epsilon=26.619018884890558\n"
     ]
    },
    {
     "name": "stderr",
     "output_type": "stream",
     "text": [
      "/opt/anaconda3/lib/python3.9/site-packages/sklearn/svm/_base.py:299: ConvergenceWarning: Solver terminated early (max_iter=50000).  Consider pre-processing your data with StandardScaler or MinMaxScaler.\n",
      "  warnings.warn(\n"
     ]
    },
    {
     "name": "stdout",
     "output_type": "stream",
     "text": [
      "[CV 9/15; 18/50] END model__C=78.86714129990483, model__epsilon=26.619018884890558;, score=-28.223 total time=   0.8s\n",
      "[CV 10/15; 18/50] START model__C=78.86714129990483, model__epsilon=26.619018884890558\n"
     ]
    },
    {
     "name": "stderr",
     "output_type": "stream",
     "text": [
      "/opt/anaconda3/lib/python3.9/site-packages/sklearn/svm/_base.py:299: ConvergenceWarning: Solver terminated early (max_iter=50000).  Consider pre-processing your data with StandardScaler or MinMaxScaler.\n",
      "  warnings.warn(\n"
     ]
    },
    {
     "name": "stdout",
     "output_type": "stream",
     "text": [
      "[CV 10/15; 18/50] END model__C=78.86714129990483, model__epsilon=26.619018884890558;, score=-29.681 total time=   0.8s\n",
      "[CV 11/15; 18/50] START model__C=78.86714129990483, model__epsilon=26.619018884890558\n"
     ]
    },
    {
     "name": "stderr",
     "output_type": "stream",
     "text": [
      "/opt/anaconda3/lib/python3.9/site-packages/sklearn/svm/_base.py:299: ConvergenceWarning: Solver terminated early (max_iter=50000).  Consider pre-processing your data with StandardScaler or MinMaxScaler.\n",
      "  warnings.warn(\n"
     ]
    },
    {
     "name": "stdout",
     "output_type": "stream",
     "text": [
      "[CV 11/15; 18/50] END model__C=78.86714129990483, model__epsilon=26.619018884890558;, score=-32.544 total time=   0.8s\n",
      "[CV 12/15; 18/50] START model__C=78.86714129990483, model__epsilon=26.619018884890558\n"
     ]
    },
    {
     "name": "stderr",
     "output_type": "stream",
     "text": [
      "/opt/anaconda3/lib/python3.9/site-packages/sklearn/svm/_base.py:299: ConvergenceWarning: Solver terminated early (max_iter=50000).  Consider pre-processing your data with StandardScaler or MinMaxScaler.\n",
      "  warnings.warn(\n"
     ]
    },
    {
     "name": "stdout",
     "output_type": "stream",
     "text": [
      "[CV 12/15; 18/50] END model__C=78.86714129990483, model__epsilon=26.619018884890558;, score=-30.492 total time=   0.8s\n",
      "[CV 13/15; 18/50] START model__C=78.86714129990483, model__epsilon=26.619018884890558\n"
     ]
    },
    {
     "name": "stderr",
     "output_type": "stream",
     "text": [
      "/opt/anaconda3/lib/python3.9/site-packages/sklearn/svm/_base.py:299: ConvergenceWarning: Solver terminated early (max_iter=50000).  Consider pre-processing your data with StandardScaler or MinMaxScaler.\n",
      "  warnings.warn(\n"
     ]
    },
    {
     "name": "stdout",
     "output_type": "stream",
     "text": [
      "[CV 13/15; 18/50] END model__C=78.86714129990483, model__epsilon=26.619018884890558;, score=-29.413 total time=   0.8s\n",
      "[CV 14/15; 18/50] START model__C=78.86714129990483, model__epsilon=26.619018884890558\n"
     ]
    },
    {
     "name": "stderr",
     "output_type": "stream",
     "text": [
      "/opt/anaconda3/lib/python3.9/site-packages/sklearn/svm/_base.py:299: ConvergenceWarning: Solver terminated early (max_iter=50000).  Consider pre-processing your data with StandardScaler or MinMaxScaler.\n",
      "  warnings.warn(\n"
     ]
    },
    {
     "name": "stdout",
     "output_type": "stream",
     "text": [
      "[CV 14/15; 18/50] END model__C=78.86714129990483, model__epsilon=26.619018884890558;, score=-28.912 total time=   0.8s\n",
      "[CV 15/15; 18/50] START model__C=78.86714129990483, model__epsilon=26.619018884890558\n"
     ]
    },
    {
     "name": "stderr",
     "output_type": "stream",
     "text": [
      "/opt/anaconda3/lib/python3.9/site-packages/sklearn/svm/_base.py:299: ConvergenceWarning: Solver terminated early (max_iter=50000).  Consider pre-processing your data with StandardScaler or MinMaxScaler.\n",
      "  warnings.warn(\n"
     ]
    },
    {
     "name": "stdout",
     "output_type": "stream",
     "text": [
      "[CV 15/15; 18/50] END model__C=78.86714129990483, model__epsilon=26.619018884890558;, score=-28.914 total time=   0.8s\n",
      "[CV 1/15; 19/50] START model__C=0.8200518402245829, model__epsilon=0.1963434157293333\n",
      "[CV 1/15; 19/50] END model__C=0.8200518402245829, model__epsilon=0.1963434157293333;, score=-30.850 total time=   1.3s\n",
      "[CV 2/15; 19/50] START model__C=0.8200518402245829, model__epsilon=0.1963434157293333\n",
      "[CV 2/15; 19/50] END model__C=0.8200518402245829, model__epsilon=0.1963434157293333;, score=-29.562 total time=   1.3s\n",
      "[CV 3/15; 19/50] START model__C=0.8200518402245829, model__epsilon=0.1963434157293333\n",
      "[CV 3/15; 19/50] END model__C=0.8200518402245829, model__epsilon=0.1963434157293333;, score=-26.044 total time=   1.3s\n",
      "[CV 4/15; 19/50] START model__C=0.8200518402245829, model__epsilon=0.1963434157293333\n"
     ]
    },
    {
     "name": "stderr",
     "output_type": "stream",
     "text": [
      "/opt/anaconda3/lib/python3.9/site-packages/sklearn/svm/_base.py:299: ConvergenceWarning: Solver terminated early (max_iter=50000).  Consider pre-processing your data with StandardScaler or MinMaxScaler.\n",
      "  warnings.warn(\n"
     ]
    },
    {
     "name": "stdout",
     "output_type": "stream",
     "text": [
      "[CV 4/15; 19/50] END model__C=0.8200518402245829, model__epsilon=0.1963434157293333;, score=-25.642 total time=   1.3s\n",
      "[CV 5/15; 19/50] START model__C=0.8200518402245829, model__epsilon=0.1963434157293333\n"
     ]
    },
    {
     "name": "stderr",
     "output_type": "stream",
     "text": [
      "/opt/anaconda3/lib/python3.9/site-packages/sklearn/svm/_base.py:299: ConvergenceWarning: Solver terminated early (max_iter=50000).  Consider pre-processing your data with StandardScaler or MinMaxScaler.\n",
      "  warnings.warn(\n"
     ]
    },
    {
     "name": "stdout",
     "output_type": "stream",
     "text": [
      "[CV 5/15; 19/50] END model__C=0.8200518402245829, model__epsilon=0.1963434157293333;, score=-26.554 total time=   1.3s\n",
      "[CV 6/15; 19/50] START model__C=0.8200518402245829, model__epsilon=0.1963434157293333\n"
     ]
    },
    {
     "name": "stderr",
     "output_type": "stream",
     "text": [
      "/opt/anaconda3/lib/python3.9/site-packages/sklearn/svm/_base.py:299: ConvergenceWarning: Solver terminated early (max_iter=50000).  Consider pre-processing your data with StandardScaler or MinMaxScaler.\n",
      "  warnings.warn(\n"
     ]
    },
    {
     "name": "stdout",
     "output_type": "stream",
     "text": [
      "[CV 6/15; 19/50] END model__C=0.8200518402245829, model__epsilon=0.1963434157293333;, score=-30.647 total time=   1.3s\n",
      "[CV 7/15; 19/50] START model__C=0.8200518402245829, model__epsilon=0.1963434157293333\n",
      "[CV 7/15; 19/50] END model__C=0.8200518402245829, model__epsilon=0.1963434157293333;, score=-29.792 total time=   1.3s\n",
      "[CV 8/15; 19/50] START model__C=0.8200518402245829, model__epsilon=0.1963434157293333\n"
     ]
    },
    {
     "name": "stderr",
     "output_type": "stream",
     "text": [
      "/opt/anaconda3/lib/python3.9/site-packages/sklearn/svm/_base.py:299: ConvergenceWarning: Solver terminated early (max_iter=50000).  Consider pre-processing your data with StandardScaler or MinMaxScaler.\n",
      "  warnings.warn(\n"
     ]
    },
    {
     "name": "stdout",
     "output_type": "stream",
     "text": [
      "[CV 8/15; 19/50] END model__C=0.8200518402245829, model__epsilon=0.1963434157293333;, score=-26.163 total time=   1.3s\n",
      "[CV 9/15; 19/50] START model__C=0.8200518402245829, model__epsilon=0.1963434157293333\n"
     ]
    },
    {
     "name": "stderr",
     "output_type": "stream",
     "text": [
      "/opt/anaconda3/lib/python3.9/site-packages/sklearn/svm/_base.py:299: ConvergenceWarning: Solver terminated early (max_iter=50000).  Consider pre-processing your data with StandardScaler or MinMaxScaler.\n",
      "  warnings.warn(\n"
     ]
    },
    {
     "name": "stdout",
     "output_type": "stream",
     "text": [
      "[CV 9/15; 19/50] END model__C=0.8200518402245829, model__epsilon=0.1963434157293333;, score=-25.410 total time=   1.3s\n",
      "[CV 10/15; 19/50] START model__C=0.8200518402245829, model__epsilon=0.1963434157293333\n"
     ]
    },
    {
     "name": "stderr",
     "output_type": "stream",
     "text": [
      "/opt/anaconda3/lib/python3.9/site-packages/sklearn/svm/_base.py:299: ConvergenceWarning: Solver terminated early (max_iter=50000).  Consider pre-processing your data with StandardScaler or MinMaxScaler.\n",
      "  warnings.warn(\n"
     ]
    },
    {
     "name": "stdout",
     "output_type": "stream",
     "text": [
      "[CV 10/15; 19/50] END model__C=0.8200518402245829, model__epsilon=0.1963434157293333;, score=-26.619 total time=   1.3s\n",
      "[CV 11/15; 19/50] START model__C=0.8200518402245829, model__epsilon=0.1963434157293333\n",
      "[CV 11/15; 19/50] END model__C=0.8200518402245829, model__epsilon=0.1963434157293333;, score=-30.610 total time=   1.3s\n",
      "[CV 12/15; 19/50] START model__C=0.8200518402245829, model__epsilon=0.1963434157293333\n",
      "[CV 12/15; 19/50] END model__C=0.8200518402245829, model__epsilon=0.1963434157293333;, score=-29.949 total time=   1.3s\n",
      "[CV 13/15; 19/50] START model__C=0.8200518402245829, model__epsilon=0.1963434157293333\n"
     ]
    },
    {
     "name": "stderr",
     "output_type": "stream",
     "text": [
      "/opt/anaconda3/lib/python3.9/site-packages/sklearn/svm/_base.py:299: ConvergenceWarning: Solver terminated early (max_iter=50000).  Consider pre-processing your data with StandardScaler or MinMaxScaler.\n",
      "  warnings.warn(\n"
     ]
    },
    {
     "name": "stdout",
     "output_type": "stream",
     "text": [
      "[CV 13/15; 19/50] END model__C=0.8200518402245829, model__epsilon=0.1963434157293333;, score=-26.113 total time=   1.3s\n",
      "[CV 14/15; 19/50] START model__C=0.8200518402245829, model__epsilon=0.1963434157293333\n",
      "[CV 14/15; 19/50] END model__C=0.8200518402245829, model__epsilon=0.1963434157293333;, score=-25.632 total time=   1.3s\n",
      "[CV 15/15; 19/50] START model__C=0.8200518402245829, model__epsilon=0.1963434157293333\n"
     ]
    },
    {
     "name": "stderr",
     "output_type": "stream",
     "text": [
      "/opt/anaconda3/lib/python3.9/site-packages/sklearn/svm/_base.py:299: ConvergenceWarning: Solver terminated early (max_iter=50000).  Consider pre-processing your data with StandardScaler or MinMaxScaler.\n",
      "  warnings.warn(\n"
     ]
    },
    {
     "name": "stdout",
     "output_type": "stream",
     "text": [
      "[CV 15/15; 19/50] END model__C=0.8200518402245829, model__epsilon=0.1963434157293333;, score=-26.325 total time=   1.3s\n",
      "[CV 1/15; 20/50] START model__C=11.290133559092672, model__epsilon=2.0914981329035602\n"
     ]
    },
    {
     "name": "stderr",
     "output_type": "stream",
     "text": [
      "/opt/anaconda3/lib/python3.9/site-packages/sklearn/svm/_base.py:299: ConvergenceWarning: Solver terminated early (max_iter=50000).  Consider pre-processing your data with StandardScaler or MinMaxScaler.\n",
      "  warnings.warn(\n"
     ]
    },
    {
     "name": "stdout",
     "output_type": "stream",
     "text": [
      "[CV 1/15; 20/50] END model__C=11.290133559092672, model__epsilon=2.0914981329035602;, score=-26.394 total time=   1.5s\n",
      "[CV 2/15; 20/50] START model__C=11.290133559092672, model__epsilon=2.0914981329035602\n"
     ]
    },
    {
     "name": "stderr",
     "output_type": "stream",
     "text": [
      "/opt/anaconda3/lib/python3.9/site-packages/sklearn/svm/_base.py:299: ConvergenceWarning: Solver terminated early (max_iter=50000).  Consider pre-processing your data with StandardScaler or MinMaxScaler.\n",
      "  warnings.warn(\n"
     ]
    },
    {
     "name": "stdout",
     "output_type": "stream",
     "text": [
      "[CV 2/15; 20/50] END model__C=11.290133559092672, model__epsilon=2.0914981329035602;, score=-25.155 total time=   1.5s\n",
      "[CV 3/15; 20/50] START model__C=11.290133559092672, model__epsilon=2.0914981329035602\n"
     ]
    },
    {
     "name": "stderr",
     "output_type": "stream",
     "text": [
      "/opt/anaconda3/lib/python3.9/site-packages/sklearn/svm/_base.py:299: ConvergenceWarning: Solver terminated early (max_iter=50000).  Consider pre-processing your data with StandardScaler or MinMaxScaler.\n",
      "  warnings.warn(\n"
     ]
    },
    {
     "name": "stdout",
     "output_type": "stream",
     "text": [
      "[CV 3/15; 20/50] END model__C=11.290133559092672, model__epsilon=2.0914981329035602;, score=-21.496 total time=   1.5s\n",
      "[CV 4/15; 20/50] START model__C=11.290133559092672, model__epsilon=2.0914981329035602\n"
     ]
    },
    {
     "name": "stderr",
     "output_type": "stream",
     "text": [
      "/opt/anaconda3/lib/python3.9/site-packages/sklearn/svm/_base.py:299: ConvergenceWarning: Solver terminated early (max_iter=50000).  Consider pre-processing your data with StandardScaler or MinMaxScaler.\n",
      "  warnings.warn(\n"
     ]
    },
    {
     "name": "stdout",
     "output_type": "stream",
     "text": [
      "[CV 4/15; 20/50] END model__C=11.290133559092672, model__epsilon=2.0914981329035602;, score=-20.848 total time=   1.5s\n",
      "[CV 5/15; 20/50] START model__C=11.290133559092672, model__epsilon=2.0914981329035602\n"
     ]
    },
    {
     "name": "stderr",
     "output_type": "stream",
     "text": [
      "/opt/anaconda3/lib/python3.9/site-packages/sklearn/svm/_base.py:299: ConvergenceWarning: Solver terminated early (max_iter=50000).  Consider pre-processing your data with StandardScaler or MinMaxScaler.\n",
      "  warnings.warn(\n"
     ]
    },
    {
     "name": "stdout",
     "output_type": "stream",
     "text": [
      "[CV 5/15; 20/50] END model__C=11.290133559092672, model__epsilon=2.0914981329035602;, score=-23.533 total time=   1.5s\n",
      "[CV 6/15; 20/50] START model__C=11.290133559092672, model__epsilon=2.0914981329035602\n"
     ]
    },
    {
     "name": "stderr",
     "output_type": "stream",
     "text": [
      "/opt/anaconda3/lib/python3.9/site-packages/sklearn/svm/_base.py:299: ConvergenceWarning: Solver terminated early (max_iter=50000).  Consider pre-processing your data with StandardScaler or MinMaxScaler.\n",
      "  warnings.warn(\n"
     ]
    },
    {
     "name": "stdout",
     "output_type": "stream",
     "text": [
      "[CV 6/15; 20/50] END model__C=11.290133559092672, model__epsilon=2.0914981329035602;, score=-26.119 total time=   1.5s\n",
      "[CV 7/15; 20/50] START model__C=11.290133559092672, model__epsilon=2.0914981329035602\n"
     ]
    },
    {
     "name": "stderr",
     "output_type": "stream",
     "text": [
      "/opt/anaconda3/lib/python3.9/site-packages/sklearn/svm/_base.py:299: ConvergenceWarning: Solver terminated early (max_iter=50000).  Consider pre-processing your data with StandardScaler or MinMaxScaler.\n",
      "  warnings.warn(\n"
     ]
    },
    {
     "name": "stdout",
     "output_type": "stream",
     "text": [
      "[CV 7/15; 20/50] END model__C=11.290133559092672, model__epsilon=2.0914981329035602;, score=-24.567 total time=   1.5s\n",
      "[CV 8/15; 20/50] START model__C=11.290133559092672, model__epsilon=2.0914981329035602\n"
     ]
    },
    {
     "name": "stderr",
     "output_type": "stream",
     "text": [
      "/opt/anaconda3/lib/python3.9/site-packages/sklearn/svm/_base.py:299: ConvergenceWarning: Solver terminated early (max_iter=50000).  Consider pre-processing your data with StandardScaler or MinMaxScaler.\n",
      "  warnings.warn(\n"
     ]
    },
    {
     "name": "stdout",
     "output_type": "stream",
     "text": [
      "[CV 8/15; 20/50] END model__C=11.290133559092672, model__epsilon=2.0914981329035602;, score=-22.099 total time=   1.5s\n",
      "[CV 9/15; 20/50] START model__C=11.290133559092672, model__epsilon=2.0914981329035602\n"
     ]
    },
    {
     "name": "stderr",
     "output_type": "stream",
     "text": [
      "/opt/anaconda3/lib/python3.9/site-packages/sklearn/svm/_base.py:299: ConvergenceWarning: Solver terminated early (max_iter=50000).  Consider pre-processing your data with StandardScaler or MinMaxScaler.\n",
      "  warnings.warn(\n"
     ]
    },
    {
     "name": "stdout",
     "output_type": "stream",
     "text": [
      "[CV 9/15; 20/50] END model__C=11.290133559092672, model__epsilon=2.0914981329035602;, score=-21.560 total time=   1.5s\n",
      "[CV 10/15; 20/50] START model__C=11.290133559092672, model__epsilon=2.0914981329035602\n"
     ]
    },
    {
     "name": "stderr",
     "output_type": "stream",
     "text": [
      "/opt/anaconda3/lib/python3.9/site-packages/sklearn/svm/_base.py:299: ConvergenceWarning: Solver terminated early (max_iter=50000).  Consider pre-processing your data with StandardScaler or MinMaxScaler.\n",
      "  warnings.warn(\n"
     ]
    },
    {
     "name": "stdout",
     "output_type": "stream",
     "text": [
      "[CV 10/15; 20/50] END model__C=11.290133559092672, model__epsilon=2.0914981329035602;, score=-23.155 total time=   1.5s\n",
      "[CV 11/15; 20/50] START model__C=11.290133559092672, model__epsilon=2.0914981329035602\n"
     ]
    },
    {
     "name": "stderr",
     "output_type": "stream",
     "text": [
      "/opt/anaconda3/lib/python3.9/site-packages/sklearn/svm/_base.py:299: ConvergenceWarning: Solver terminated early (max_iter=50000).  Consider pre-processing your data with StandardScaler or MinMaxScaler.\n",
      "  warnings.warn(\n"
     ]
    },
    {
     "name": "stdout",
     "output_type": "stream",
     "text": [
      "[CV 11/15; 20/50] END model__C=11.290133559092672, model__epsilon=2.0914981329035602;, score=-26.426 total time=   1.5s\n",
      "[CV 12/15; 20/50] START model__C=11.290133559092672, model__epsilon=2.0914981329035602\n"
     ]
    },
    {
     "name": "stderr",
     "output_type": "stream",
     "text": [
      "/opt/anaconda3/lib/python3.9/site-packages/sklearn/svm/_base.py:299: ConvergenceWarning: Solver terminated early (max_iter=50000).  Consider pre-processing your data with StandardScaler or MinMaxScaler.\n",
      "  warnings.warn(\n"
     ]
    },
    {
     "name": "stdout",
     "output_type": "stream",
     "text": [
      "[CV 12/15; 20/50] END model__C=11.290133559092672, model__epsilon=2.0914981329035602;, score=-24.845 total time=   1.5s\n",
      "[CV 13/15; 20/50] START model__C=11.290133559092672, model__epsilon=2.0914981329035602\n"
     ]
    },
    {
     "name": "stderr",
     "output_type": "stream",
     "text": [
      "/opt/anaconda3/lib/python3.9/site-packages/sklearn/svm/_base.py:299: ConvergenceWarning: Solver terminated early (max_iter=50000).  Consider pre-processing your data with StandardScaler or MinMaxScaler.\n",
      "  warnings.warn(\n"
     ]
    },
    {
     "name": "stdout",
     "output_type": "stream",
     "text": [
      "[CV 13/15; 20/50] END model__C=11.290133559092672, model__epsilon=2.0914981329035602;, score=-22.414 total time=   1.5s\n",
      "[CV 14/15; 20/50] START model__C=11.290133559092672, model__epsilon=2.0914981329035602\n"
     ]
    },
    {
     "name": "stderr",
     "output_type": "stream",
     "text": [
      "/opt/anaconda3/lib/python3.9/site-packages/sklearn/svm/_base.py:299: ConvergenceWarning: Solver terminated early (max_iter=50000).  Consider pre-processing your data with StandardScaler or MinMaxScaler.\n",
      "  warnings.warn(\n"
     ]
    },
    {
     "name": "stdout",
     "output_type": "stream",
     "text": [
      "[CV 14/15; 20/50] END model__C=11.290133559092672, model__epsilon=2.0914981329035602;, score=-21.887 total time=   1.5s\n",
      "[CV 15/15; 20/50] START model__C=11.290133559092672, model__epsilon=2.0914981329035602\n"
     ]
    },
    {
     "name": "stderr",
     "output_type": "stream",
     "text": [
      "/opt/anaconda3/lib/python3.9/site-packages/sklearn/svm/_base.py:299: ConvergenceWarning: Solver terminated early (max_iter=50000).  Consider pre-processing your data with StandardScaler or MinMaxScaler.\n",
      "  warnings.warn(\n"
     ]
    },
    {
     "name": "stdout",
     "output_type": "stream",
     "text": [
      "[CV 15/15; 20/50] END model__C=11.290133559092672, model__epsilon=2.0914981329035602;, score=-22.068 total time=   1.5s\n",
      "[CV 1/15; 21/50] START model__C=0.2323350351539011, model__epsilon=3.0586566669785253\n",
      "[CV 1/15; 21/50] END model__C=0.2323350351539011, model__epsilon=3.0586566669785253;, score=-34.769 total time=   0.9s\n",
      "[CV 2/15; 21/50] START model__C=0.2323350351539011, model__epsilon=3.0586566669785253\n",
      "[CV 2/15; 21/50] END model__C=0.2323350351539011, model__epsilon=3.0586566669785253;, score=-33.526 total time=   0.9s\n",
      "[CV 3/15; 21/50] START model__C=0.2323350351539011, model__epsilon=3.0586566669785253\n",
      "[CV 3/15; 21/50] END model__C=0.2323350351539011, model__epsilon=3.0586566669785253;, score=-30.048 total time=   0.9s\n",
      "[CV 4/15; 21/50] START model__C=0.2323350351539011, model__epsilon=3.0586566669785253\n",
      "[CV 4/15; 21/50] END model__C=0.2323350351539011, model__epsilon=3.0586566669785253;, score=-29.506 total time=   0.9s\n",
      "[CV 5/15; 21/50] START model__C=0.2323350351539011, model__epsilon=3.0586566669785253\n",
      "[CV 5/15; 21/50] END model__C=0.2323350351539011, model__epsilon=3.0586566669785253;, score=-30.113 total time=   0.9s\n",
      "[CV 6/15; 21/50] START model__C=0.2323350351539011, model__epsilon=3.0586566669785253\n",
      "[CV 6/15; 21/50] END model__C=0.2323350351539011, model__epsilon=3.0586566669785253;, score=-34.691 total time=   0.9s\n",
      "[CV 7/15; 21/50] START model__C=0.2323350351539011, model__epsilon=3.0586566669785253\n",
      "[CV 7/15; 21/50] END model__C=0.2323350351539011, model__epsilon=3.0586566669785253;, score=-33.688 total time=   0.8s\n",
      "[CV 8/15; 21/50] START model__C=0.2323350351539011, model__epsilon=3.0586566669785253\n",
      "[CV 8/15; 21/50] END model__C=0.2323350351539011, model__epsilon=3.0586566669785253;, score=-29.998 total time=   0.8s\n",
      "[CV 9/15; 21/50] START model__C=0.2323350351539011, model__epsilon=3.0586566669785253\n",
      "[CV 9/15; 21/50] END model__C=0.2323350351539011, model__epsilon=3.0586566669785253;, score=-29.402 total time=   0.8s\n",
      "[CV 10/15; 21/50] START model__C=0.2323350351539011, model__epsilon=3.0586566669785253\n",
      "[CV 10/15; 21/50] END model__C=0.2323350351539011, model__epsilon=3.0586566669785253;, score=-30.135 total time=   0.8s\n",
      "[CV 11/15; 21/50] START model__C=0.2323350351539011, model__epsilon=3.0586566669785253\n",
      "[CV 11/15; 21/50] END model__C=0.2323350351539011, model__epsilon=3.0586566669785253;, score=-34.681 total time=   0.8s\n",
      "[CV 12/15; 21/50] START model__C=0.2323350351539011, model__epsilon=3.0586566669785253\n",
      "[CV 12/15; 21/50] END model__C=0.2323350351539011, model__epsilon=3.0586566669785253;, score=-33.669 total time=   0.9s\n",
      "[CV 13/15; 21/50] START model__C=0.2323350351539011, model__epsilon=3.0586566669785253\n",
      "[CV 13/15; 21/50] END model__C=0.2323350351539011, model__epsilon=3.0586566669785253;, score=-30.076 total time=   0.9s\n",
      "[CV 14/15; 21/50] START model__C=0.2323350351539011, model__epsilon=3.0586566669785253\n",
      "[CV 14/15; 21/50] END model__C=0.2323350351539011, model__epsilon=3.0586566669785253;, score=-29.500 total time=   0.9s\n",
      "[CV 15/15; 21/50] START model__C=0.2323350351539011, model__epsilon=3.0586566669785253\n",
      "[CV 15/15; 21/50] END model__C=0.2323350351539011, model__epsilon=3.0586566669785253;, score=-30.047 total time=   0.9s\n",
      "[CV 1/15; 22/50] START model__C=0.12681352169084595, model__epsilon=53.45166110646818\n",
      "[CV 1/15; 22/50] END model__C=0.12681352169084595, model__epsilon=53.45166110646818;, score=-65.229 total time=   0.4s\n",
      "[CV 2/15; 22/50] START model__C=0.12681352169084595, model__epsilon=53.45166110646818\n",
      "[CV 2/15; 22/50] END model__C=0.12681352169084595, model__epsilon=53.45166110646818;, score=-64.196 total time=   0.4s\n",
      "[CV 3/15; 22/50] START model__C=0.12681352169084595, model__epsilon=53.45166110646818\n",
      "[CV 3/15; 22/50] END model__C=0.12681352169084595, model__epsilon=53.45166110646818;, score=-60.588 total time=   0.4s\n",
      "[CV 4/15; 22/50] START model__C=0.12681352169084595, model__epsilon=53.45166110646818\n",
      "[CV 4/15; 22/50] END model__C=0.12681352169084595, model__epsilon=53.45166110646818;, score=-60.085 total time=   0.4s\n",
      "[CV 5/15; 22/50] START model__C=0.12681352169084595, model__epsilon=53.45166110646818\n",
      "[CV 5/15; 22/50] END model__C=0.12681352169084595, model__epsilon=53.45166110646818;, score=-60.914 total time=   0.4s\n",
      "[CV 6/15; 22/50] START model__C=0.12681352169084595, model__epsilon=53.45166110646818\n",
      "[CV 6/15; 22/50] END model__C=0.12681352169084595, model__epsilon=53.45166110646818;, score=-65.244 total time=   0.4s\n",
      "[CV 7/15; 22/50] START model__C=0.12681352169084595, model__epsilon=53.45166110646818\n",
      "[CV 7/15; 22/50] END model__C=0.12681352169084595, model__epsilon=53.45166110646818;, score=-64.216 total time=   0.4s\n",
      "[CV 8/15; 22/50] START model__C=0.12681352169084595, model__epsilon=53.45166110646818\n",
      "[CV 8/15; 22/50] END model__C=0.12681352169084595, model__epsilon=53.45166110646818;, score=-60.669 total time=   0.4s\n",
      "[CV 9/15; 22/50] START model__C=0.12681352169084595, model__epsilon=53.45166110646818\n",
      "[CV 9/15; 22/50] END model__C=0.12681352169084595, model__epsilon=53.45166110646818;, score=-60.016 total time=   0.4s\n",
      "[CV 10/15; 22/50] START model__C=0.12681352169084595, model__epsilon=53.45166110646818\n",
      "[CV 10/15; 22/50] END model__C=0.12681352169084595, model__epsilon=53.45166110646818;, score=-60.851 total time=   0.4s\n",
      "[CV 11/15; 22/50] START model__C=0.12681352169084595, model__epsilon=53.45166110646818\n",
      "[CV 11/15; 22/50] END model__C=0.12681352169084595, model__epsilon=53.45166110646818;, score=-65.262 total time=   0.4s\n",
      "[CV 12/15; 22/50] START model__C=0.12681352169084595, model__epsilon=53.45166110646818\n",
      "[CV 12/15; 22/50] END model__C=0.12681352169084595, model__epsilon=53.45166110646818;, score=-64.271 total time=   0.4s\n",
      "[CV 13/15; 22/50] START model__C=0.12681352169084595, model__epsilon=53.45166110646818\n",
      "[CV 13/15; 22/50] END model__C=0.12681352169084595, model__epsilon=53.45166110646818;, score=-60.594 total time=   0.4s\n",
      "[CV 14/15; 22/50] START model__C=0.12681352169084595, model__epsilon=53.45166110646818\n",
      "[CV 14/15; 22/50] END model__C=0.12681352169084595, model__epsilon=53.45166110646818;, score=-60.047 total time=   0.4s\n",
      "[CV 15/15; 22/50] START model__C=0.12681352169084595, model__epsilon=53.45166110646818\n",
      "[CV 15/15; 22/50] END model__C=0.12681352169084595, model__epsilon=53.45166110646818;, score=-60.829 total time=   0.4s\n",
      "[CV 1/15; 23/50] START model__C=0.5975027999960293, model__epsilon=9.717775305059629\n",
      "[CV 1/15; 23/50] END model__C=0.5975027999960293, model__epsilon=9.717775305059629;, score=-33.541 total time=   0.6s\n",
      "[CV 2/15; 23/50] START model__C=0.5975027999960293, model__epsilon=9.717775305059629\n",
      "[CV 2/15; 23/50] END model__C=0.5975027999960293, model__epsilon=9.717775305059629;, score=-32.345 total time=   0.6s\n",
      "[CV 3/15; 23/50] START model__C=0.5975027999960293, model__epsilon=9.717775305059629\n",
      "[CV 3/15; 23/50] END model__C=0.5975027999960293, model__epsilon=9.717775305059629;, score=-28.800 total time=   0.6s\n",
      "[CV 4/15; 23/50] START model__C=0.5975027999960293, model__epsilon=9.717775305059629\n",
      "[CV 4/15; 23/50] END model__C=0.5975027999960293, model__epsilon=9.717775305059629;, score=-28.625 total time=   0.6s\n",
      "[CV 5/15; 23/50] START model__C=0.5975027999960293, model__epsilon=9.717775305059629\n",
      "[CV 5/15; 23/50] END model__C=0.5975027999960293, model__epsilon=9.717775305059629;, score=-29.350 total time=   0.6s\n",
      "[CV 6/15; 23/50] START model__C=0.5975027999960293, model__epsilon=9.717775305059629\n",
      "[CV 6/15; 23/50] END model__C=0.5975027999960293, model__epsilon=9.717775305059629;, score=-33.607 total time=   0.6s\n",
      "[CV 7/15; 23/50] START model__C=0.5975027999960293, model__epsilon=9.717775305059629\n",
      "[CV 7/15; 23/50] END model__C=0.5975027999960293, model__epsilon=9.717775305059629;, score=-32.507 total time=   0.6s\n",
      "[CV 8/15; 23/50] START model__C=0.5975027999960293, model__epsilon=9.717775305059629\n",
      "[CV 8/15; 23/50] END model__C=0.5975027999960293, model__epsilon=9.717775305059629;, score=-28.980 total time=   0.6s\n",
      "[CV 9/15; 23/50] START model__C=0.5975027999960293, model__epsilon=9.717775305059629\n",
      "[CV 9/15; 23/50] END model__C=0.5975027999960293, model__epsilon=9.717775305059629;, score=-28.406 total time=   0.6s\n",
      "[CV 10/15; 23/50] START model__C=0.5975027999960293, model__epsilon=9.717775305059629\n"
     ]
    },
    {
     "name": "stdout",
     "output_type": "stream",
     "text": [
      "[CV 10/15; 23/50] END model__C=0.5975027999960293, model__epsilon=9.717775305059629;, score=-29.138 total time=   0.6s\n",
      "[CV 11/15; 23/50] START model__C=0.5975027999960293, model__epsilon=9.717775305059629\n",
      "[CV 11/15; 23/50] END model__C=0.5975027999960293, model__epsilon=9.717775305059629;, score=-33.536 total time=   0.6s\n",
      "[CV 12/15; 23/50] START model__C=0.5975027999960293, model__epsilon=9.717775305059629\n",
      "[CV 12/15; 23/50] END model__C=0.5975027999960293, model__epsilon=9.717775305059629;, score=-32.731 total time=   0.6s\n",
      "[CV 13/15; 23/50] START model__C=0.5975027999960293, model__epsilon=9.717775305059629\n",
      "[CV 13/15; 23/50] END model__C=0.5975027999960293, model__epsilon=9.717775305059629;, score=-28.692 total time=   0.6s\n",
      "[CV 14/15; 23/50] START model__C=0.5975027999960293, model__epsilon=9.717775305059629\n",
      "[CV 14/15; 23/50] END model__C=0.5975027999960293, model__epsilon=9.717775305059629;, score=-28.411 total time=   0.6s\n",
      "[CV 15/15; 23/50] START model__C=0.5975027999960293, model__epsilon=9.717775305059629\n",
      "[CV 15/15; 23/50] END model__C=0.5975027999960293, model__epsilon=9.717775305059629;, score=-29.251 total time=   0.6s\n",
      "[CV 1/15; 24/50] START model__C=0.8612579192594884, model__epsilon=3.632486956676605\n",
      "[CV 1/15; 24/50] END model__C=0.8612579192594884, model__epsilon=3.632486956676605;, score=-30.865 total time=   0.8s\n",
      "[CV 2/15; 24/50] START model__C=0.8612579192594884, model__epsilon=3.632486956676605\n",
      "[CV 2/15; 24/50] END model__C=0.8612579192594884, model__epsilon=3.632486956676605;, score=-29.588 total time=   0.8s\n",
      "[CV 3/15; 24/50] START model__C=0.8612579192594884, model__epsilon=3.632486956676605\n",
      "[CV 3/15; 24/50] END model__C=0.8612579192594884, model__epsilon=3.632486956676605;, score=-26.187 total time=   0.8s\n",
      "[CV 4/15; 24/50] START model__C=0.8612579192594884, model__epsilon=3.632486956676605\n",
      "[CV 4/15; 24/50] END model__C=0.8612579192594884, model__epsilon=3.632486956676605;, score=-25.783 total time=   0.8s\n",
      "[CV 5/15; 24/50] START model__C=0.8612579192594884, model__epsilon=3.632486956676605\n",
      "[CV 5/15; 24/50] END model__C=0.8612579192594884, model__epsilon=3.632486956676605;, score=-26.759 total time=   0.9s\n",
      "[CV 6/15; 24/50] START model__C=0.8612579192594884, model__epsilon=3.632486956676605\n",
      "[CV 6/15; 24/50] END model__C=0.8612579192594884, model__epsilon=3.632486956676605;, score=-30.693 total time=   0.8s\n",
      "[CV 7/15; 24/50] START model__C=0.8612579192594884, model__epsilon=3.632486956676605\n",
      "[CV 7/15; 24/50] END model__C=0.8612579192594884, model__epsilon=3.632486956676605;, score=-29.876 total time=   0.8s\n",
      "[CV 8/15; 24/50] START model__C=0.8612579192594884, model__epsilon=3.632486956676605\n",
      "[CV 8/15; 24/50] END model__C=0.8612579192594884, model__epsilon=3.632486956676605;, score=-26.307 total time=   0.8s\n",
      "[CV 9/15; 24/50] START model__C=0.8612579192594884, model__epsilon=3.632486956676605\n",
      "[CV 9/15; 24/50] END model__C=0.8612579192594884, model__epsilon=3.632486956676605;, score=-25.515 total time=   0.8s\n",
      "[CV 10/15; 24/50] START model__C=0.8612579192594884, model__epsilon=3.632486956676605\n",
      "[CV 10/15; 24/50] END model__C=0.8612579192594884, model__epsilon=3.632486956676605;, score=-26.692 total time=   0.9s\n",
      "[CV 11/15; 24/50] START model__C=0.8612579192594884, model__epsilon=3.632486956676605\n",
      "[CV 11/15; 24/50] END model__C=0.8612579192594884, model__epsilon=3.632486956676605;, score=-30.705 total time=   0.8s\n",
      "[CV 12/15; 24/50] START model__C=0.8612579192594884, model__epsilon=3.632486956676605\n",
      "[CV 12/15; 24/50] END model__C=0.8612579192594884, model__epsilon=3.632486956676605;, score=-30.018 total time=   0.8s\n",
      "[CV 13/15; 24/50] START model__C=0.8612579192594884, model__epsilon=3.632486956676605\n",
      "[CV 13/15; 24/50] END model__C=0.8612579192594884, model__epsilon=3.632486956676605;, score=-26.159 total time=   0.8s\n",
      "[CV 14/15; 24/50] START model__C=0.8612579192594884, model__epsilon=3.632486956676605\n",
      "[CV 14/15; 24/50] END model__C=0.8612579192594884, model__epsilon=3.632486956676605;, score=-25.740 total time=   0.9s\n",
      "[CV 15/15; 24/50] START model__C=0.8612579192594884, model__epsilon=3.632486956676605\n",
      "[CV 15/15; 24/50] END model__C=0.8612579192594884, model__epsilon=3.632486956676605;, score=-26.389 total time=   0.8s\n",
      "[CV 1/15; 25/50] START model__C=4.366473592979633, model__epsilon=0.35856126103453967\n"
     ]
    },
    {
     "name": "stderr",
     "output_type": "stream",
     "text": [
      "/opt/anaconda3/lib/python3.9/site-packages/sklearn/svm/_base.py:299: ConvergenceWarning: Solver terminated early (max_iter=50000).  Consider pre-processing your data with StandardScaler or MinMaxScaler.\n",
      "  warnings.warn(\n"
     ]
    },
    {
     "name": "stdout",
     "output_type": "stream",
     "text": [
      "[CV 1/15; 25/50] END model__C=4.366473592979633, model__epsilon=0.35856126103453967;, score=-27.086 total time=   1.6s\n",
      "[CV 2/15; 25/50] START model__C=4.366473592979633, model__epsilon=0.35856126103453967\n"
     ]
    },
    {
     "name": "stderr",
     "output_type": "stream",
     "text": [
      "/opt/anaconda3/lib/python3.9/site-packages/sklearn/svm/_base.py:299: ConvergenceWarning: Solver terminated early (max_iter=50000).  Consider pre-processing your data with StandardScaler or MinMaxScaler.\n",
      "  warnings.warn(\n"
     ]
    },
    {
     "name": "stdout",
     "output_type": "stream",
     "text": [
      "[CV 2/15; 25/50] END model__C=4.366473592979633, model__epsilon=0.35856126103453967;, score=-25.686 total time=   1.6s\n",
      "[CV 3/15; 25/50] START model__C=4.366473592979633, model__epsilon=0.35856126103453967\n"
     ]
    },
    {
     "name": "stderr",
     "output_type": "stream",
     "text": [
      "/opt/anaconda3/lib/python3.9/site-packages/sklearn/svm/_base.py:299: ConvergenceWarning: Solver terminated early (max_iter=50000).  Consider pre-processing your data with StandardScaler or MinMaxScaler.\n",
      "  warnings.warn(\n"
     ]
    },
    {
     "name": "stdout",
     "output_type": "stream",
     "text": [
      "[CV 3/15; 25/50] END model__C=4.366473592979633, model__epsilon=0.35856126103453967;, score=-21.997 total time=   1.6s\n",
      "[CV 4/15; 25/50] START model__C=4.366473592979633, model__epsilon=0.35856126103453967\n"
     ]
    },
    {
     "name": "stderr",
     "output_type": "stream",
     "text": [
      "/opt/anaconda3/lib/python3.9/site-packages/sklearn/svm/_base.py:299: ConvergenceWarning: Solver terminated early (max_iter=50000).  Consider pre-processing your data with StandardScaler or MinMaxScaler.\n",
      "  warnings.warn(\n"
     ]
    },
    {
     "name": "stdout",
     "output_type": "stream",
     "text": [
      "[CV 4/15; 25/50] END model__C=4.366473592979633, model__epsilon=0.35856126103453967;, score=-21.679 total time=   1.6s\n",
      "[CV 5/15; 25/50] START model__C=4.366473592979633, model__epsilon=0.35856126103453967\n"
     ]
    },
    {
     "name": "stderr",
     "output_type": "stream",
     "text": [
      "/opt/anaconda3/lib/python3.9/site-packages/sklearn/svm/_base.py:299: ConvergenceWarning: Solver terminated early (max_iter=50000).  Consider pre-processing your data with StandardScaler or MinMaxScaler.\n",
      "  warnings.warn(\n"
     ]
    },
    {
     "name": "stdout",
     "output_type": "stream",
     "text": [
      "[CV 5/15; 25/50] END model__C=4.366473592979633, model__epsilon=0.35856126103453967;, score=-23.988 total time=   1.6s\n",
      "[CV 6/15; 25/50] START model__C=4.366473592979633, model__epsilon=0.35856126103453967\n"
     ]
    },
    {
     "name": "stderr",
     "output_type": "stream",
     "text": [
      "/opt/anaconda3/lib/python3.9/site-packages/sklearn/svm/_base.py:299: ConvergenceWarning: Solver terminated early (max_iter=50000).  Consider pre-processing your data with StandardScaler or MinMaxScaler.\n",
      "  warnings.warn(\n"
     ]
    },
    {
     "name": "stdout",
     "output_type": "stream",
     "text": [
      "[CV 6/15; 25/50] END model__C=4.366473592979633, model__epsilon=0.35856126103453967;, score=-27.032 total time=   1.6s\n",
      "[CV 7/15; 25/50] START model__C=4.366473592979633, model__epsilon=0.35856126103453967\n"
     ]
    },
    {
     "name": "stderr",
     "output_type": "stream",
     "text": [
      "/opt/anaconda3/lib/python3.9/site-packages/sklearn/svm/_base.py:299: ConvergenceWarning: Solver terminated early (max_iter=50000).  Consider pre-processing your data with StandardScaler or MinMaxScaler.\n",
      "  warnings.warn(\n"
     ]
    },
    {
     "name": "stdout",
     "output_type": "stream",
     "text": [
      "[CV 7/15; 25/50] END model__C=4.366473592979633, model__epsilon=0.35856126103453967;, score=-25.375 total time=   1.6s\n",
      "[CV 8/15; 25/50] START model__C=4.366473592979633, model__epsilon=0.35856126103453967\n"
     ]
    },
    {
     "name": "stderr",
     "output_type": "stream",
     "text": [
      "/opt/anaconda3/lib/python3.9/site-packages/sklearn/svm/_base.py:299: ConvergenceWarning: Solver terminated early (max_iter=50000).  Consider pre-processing your data with StandardScaler or MinMaxScaler.\n",
      "  warnings.warn(\n"
     ]
    },
    {
     "name": "stdout",
     "output_type": "stream",
     "text": [
      "[CV 8/15; 25/50] END model__C=4.366473592979633, model__epsilon=0.35856126103453967;, score=-22.445 total time=   1.6s\n",
      "[CV 9/15; 25/50] START model__C=4.366473592979633, model__epsilon=0.35856126103453967\n"
     ]
    },
    {
     "name": "stderr",
     "output_type": "stream",
     "text": [
      "/opt/anaconda3/lib/python3.9/site-packages/sklearn/svm/_base.py:299: ConvergenceWarning: Solver terminated early (max_iter=50000).  Consider pre-processing your data with StandardScaler or MinMaxScaler.\n",
      "  warnings.warn(\n"
     ]
    },
    {
     "name": "stdout",
     "output_type": "stream",
     "text": [
      "[CV 9/15; 25/50] END model__C=4.366473592979633, model__epsilon=0.35856126103453967;, score=-22.174 total time=   1.6s\n",
      "[CV 10/15; 25/50] START model__C=4.366473592979633, model__epsilon=0.35856126103453967\n"
     ]
    },
    {
     "name": "stderr",
     "output_type": "stream",
     "text": [
      "/opt/anaconda3/lib/python3.9/site-packages/sklearn/svm/_base.py:299: ConvergenceWarning: Solver terminated early (max_iter=50000).  Consider pre-processing your data with StandardScaler or MinMaxScaler.\n",
      "  warnings.warn(\n"
     ]
    },
    {
     "name": "stdout",
     "output_type": "stream",
     "text": [
      "[CV 10/15; 25/50] END model__C=4.366473592979633, model__epsilon=0.35856126103453967;, score=-23.425 total time=   1.6s\n",
      "[CV 11/15; 25/50] START model__C=4.366473592979633, model__epsilon=0.35856126103453967\n"
     ]
    },
    {
     "name": "stderr",
     "output_type": "stream",
     "text": [
      "/opt/anaconda3/lib/python3.9/site-packages/sklearn/svm/_base.py:299: ConvergenceWarning: Solver terminated early (max_iter=50000).  Consider pre-processing your data with StandardScaler or MinMaxScaler.\n",
      "  warnings.warn(\n"
     ]
    },
    {
     "name": "stdout",
     "output_type": "stream",
     "text": [
      "[CV 11/15; 25/50] END model__C=4.366473592979633, model__epsilon=0.35856126103453967;, score=-27.279 total time=   1.6s\n",
      "[CV 12/15; 25/50] START model__C=4.366473592979633, model__epsilon=0.35856126103453967\n"
     ]
    },
    {
     "name": "stderr",
     "output_type": "stream",
     "text": [
      "/opt/anaconda3/lib/python3.9/site-packages/sklearn/svm/_base.py:299: ConvergenceWarning: Solver terminated early (max_iter=50000).  Consider pre-processing your data with StandardScaler or MinMaxScaler.\n",
      "  warnings.warn(\n"
     ]
    },
    {
     "name": "stdout",
     "output_type": "stream",
     "text": [
      "[CV 12/15; 25/50] END model__C=4.366473592979633, model__epsilon=0.35856126103453967;, score=-25.906 total time=   1.6s\n",
      "[CV 13/15; 25/50] START model__C=4.366473592979633, model__epsilon=0.35856126103453967\n"
     ]
    },
    {
     "name": "stderr",
     "output_type": "stream",
     "text": [
      "/opt/anaconda3/lib/python3.9/site-packages/sklearn/svm/_base.py:299: ConvergenceWarning: Solver terminated early (max_iter=50000).  Consider pre-processing your data with StandardScaler or MinMaxScaler.\n",
      "  warnings.warn(\n"
     ]
    },
    {
     "name": "stdout",
     "output_type": "stream",
     "text": [
      "[CV 13/15; 25/50] END model__C=4.366473592979633, model__epsilon=0.35856126103453967;, score=-22.515 total time=   1.6s\n",
      "[CV 14/15; 25/50] START model__C=4.366473592979633, model__epsilon=0.35856126103453967\n"
     ]
    },
    {
     "name": "stderr",
     "output_type": "stream",
     "text": [
      "/opt/anaconda3/lib/python3.9/site-packages/sklearn/svm/_base.py:299: ConvergenceWarning: Solver terminated early (max_iter=50000).  Consider pre-processing your data with StandardScaler or MinMaxScaler.\n",
      "  warnings.warn(\n"
     ]
    },
    {
     "name": "stdout",
     "output_type": "stream",
     "text": [
      "[CV 14/15; 25/50] END model__C=4.366473592979633, model__epsilon=0.35856126103453967;, score=-22.219 total time=   1.6s\n",
      "[CV 15/15; 25/50] START model__C=4.366473592979633, model__epsilon=0.35856126103453967\n"
     ]
    },
    {
     "name": "stderr",
     "output_type": "stream",
     "text": [
      "/opt/anaconda3/lib/python3.9/site-packages/sklearn/svm/_base.py:299: ConvergenceWarning: Solver terminated early (max_iter=50000).  Consider pre-processing your data with StandardScaler or MinMaxScaler.\n",
      "  warnings.warn(\n"
     ]
    },
    {
     "name": "stdout",
     "output_type": "stream",
     "text": [
      "[CV 15/15; 25/50] END model__C=4.366473592979633, model__epsilon=0.35856126103453967;, score=-22.702 total time=   1.6s\n",
      "[CV 1/15; 26/50] START model__C=81.05016126411583, model__epsilon=21.154290797261208\n"
     ]
    },
    {
     "name": "stderr",
     "output_type": "stream",
     "text": [
      "/opt/anaconda3/lib/python3.9/site-packages/sklearn/svm/_base.py:299: ConvergenceWarning: Solver terminated early (max_iter=50000).  Consider pre-processing your data with StandardScaler or MinMaxScaler.\n",
      "  warnings.warn(\n"
     ]
    },
    {
     "name": "stdout",
     "output_type": "stream",
     "text": [
      "[CV 1/15; 26/50] END model__C=81.05016126411583, model__epsilon=21.154290797261208;, score=-31.134 total time=   0.9s\n",
      "[CV 2/15; 26/50] START model__C=81.05016126411583, model__epsilon=21.154290797261208\n"
     ]
    },
    {
     "name": "stderr",
     "output_type": "stream",
     "text": [
      "/opt/anaconda3/lib/python3.9/site-packages/sklearn/svm/_base.py:299: ConvergenceWarning: Solver terminated early (max_iter=50000).  Consider pre-processing your data with StandardScaler or MinMaxScaler.\n",
      "  warnings.warn(\n"
     ]
    },
    {
     "name": "stdout",
     "output_type": "stream",
     "text": [
      "[CV 2/15; 26/50] END model__C=81.05016126411583, model__epsilon=21.154290797261208;, score=-29.689 total time=   0.9s\n",
      "[CV 3/15; 26/50] START model__C=81.05016126411583, model__epsilon=21.154290797261208\n"
     ]
    },
    {
     "name": "stderr",
     "output_type": "stream",
     "text": [
      "/opt/anaconda3/lib/python3.9/site-packages/sklearn/svm/_base.py:299: ConvergenceWarning: Solver terminated early (max_iter=50000).  Consider pre-processing your data with StandardScaler or MinMaxScaler.\n",
      "  warnings.warn(\n"
     ]
    },
    {
     "name": "stdout",
     "output_type": "stream",
     "text": [
      "[CV 3/15; 26/50] END model__C=81.05016126411583, model__epsilon=21.154290797261208;, score=-26.635 total time=   0.9s\n",
      "[CV 4/15; 26/50] START model__C=81.05016126411583, model__epsilon=21.154290797261208\n"
     ]
    },
    {
     "name": "stderr",
     "output_type": "stream",
     "text": [
      "/opt/anaconda3/lib/python3.9/site-packages/sklearn/svm/_base.py:299: ConvergenceWarning: Solver terminated early (max_iter=50000).  Consider pre-processing your data with StandardScaler or MinMaxScaler.\n",
      "  warnings.warn(\n"
     ]
    },
    {
     "name": "stdout",
     "output_type": "stream",
     "text": [
      "[CV 4/15; 26/50] END model__C=81.05016126411583, model__epsilon=21.154290797261208;, score=-25.715 total time=   0.9s\n",
      "[CV 5/15; 26/50] START model__C=81.05016126411583, model__epsilon=21.154290797261208\n"
     ]
    },
    {
     "name": "stderr",
     "output_type": "stream",
     "text": [
      "/opt/anaconda3/lib/python3.9/site-packages/sklearn/svm/_base.py:299: ConvergenceWarning: Solver terminated early (max_iter=50000).  Consider pre-processing your data with StandardScaler or MinMaxScaler.\n",
      "  warnings.warn(\n"
     ]
    },
    {
     "name": "stdout",
     "output_type": "stream",
     "text": [
      "[CV 5/15; 26/50] END model__C=81.05016126411583, model__epsilon=21.154290797261208;, score=-27.999 total time=   0.9s\n",
      "[CV 6/15; 26/50] START model__C=81.05016126411583, model__epsilon=21.154290797261208\n"
     ]
    },
    {
     "name": "stderr",
     "output_type": "stream",
     "text": [
      "/opt/anaconda3/lib/python3.9/site-packages/sklearn/svm/_base.py:299: ConvergenceWarning: Solver terminated early (max_iter=50000).  Consider pre-processing your data with StandardScaler or MinMaxScaler.\n",
      "  warnings.warn(\n"
     ]
    },
    {
     "name": "stdout",
     "output_type": "stream",
     "text": [
      "[CV 6/15; 26/50] END model__C=81.05016126411583, model__epsilon=21.154290797261208;, score=-30.434 total time=   0.9s\n",
      "[CV 7/15; 26/50] START model__C=81.05016126411583, model__epsilon=21.154290797261208\n"
     ]
    },
    {
     "name": "stderr",
     "output_type": "stream",
     "text": [
      "/opt/anaconda3/lib/python3.9/site-packages/sklearn/svm/_base.py:299: ConvergenceWarning: Solver terminated early (max_iter=50000).  Consider pre-processing your data with StandardScaler or MinMaxScaler.\n",
      "  warnings.warn(\n"
     ]
    },
    {
     "name": "stdout",
     "output_type": "stream",
     "text": [
      "[CV 7/15; 26/50] END model__C=81.05016126411583, model__epsilon=21.154290797261208;, score=-29.446 total time=   0.9s\n",
      "[CV 8/15; 26/50] START model__C=81.05016126411583, model__epsilon=21.154290797261208\n"
     ]
    },
    {
     "name": "stderr",
     "output_type": "stream",
     "text": [
      "/opt/anaconda3/lib/python3.9/site-packages/sklearn/svm/_base.py:299: ConvergenceWarning: Solver terminated early (max_iter=50000).  Consider pre-processing your data with StandardScaler or MinMaxScaler.\n",
      "  warnings.warn(\n"
     ]
    },
    {
     "name": "stdout",
     "output_type": "stream",
     "text": [
      "[CV 8/15; 26/50] END model__C=81.05016126411583, model__epsilon=21.154290797261208;, score=-26.657 total time=   0.9s\n",
      "[CV 9/15; 26/50] START model__C=81.05016126411583, model__epsilon=21.154290797261208\n"
     ]
    },
    {
     "name": "stderr",
     "output_type": "stream",
     "text": [
      "/opt/anaconda3/lib/python3.9/site-packages/sklearn/svm/_base.py:299: ConvergenceWarning: Solver terminated early (max_iter=50000).  Consider pre-processing your data with StandardScaler or MinMaxScaler.\n",
      "  warnings.warn(\n"
     ]
    },
    {
     "name": "stdout",
     "output_type": "stream",
     "text": [
      "[CV 9/15; 26/50] END model__C=81.05016126411583, model__epsilon=21.154290797261208;, score=-26.642 total time=   0.9s\n",
      "[CV 10/15; 26/50] START model__C=81.05016126411583, model__epsilon=21.154290797261208\n"
     ]
    },
    {
     "name": "stderr",
     "output_type": "stream",
     "text": [
      "/opt/anaconda3/lib/python3.9/site-packages/sklearn/svm/_base.py:299: ConvergenceWarning: Solver terminated early (max_iter=50000).  Consider pre-processing your data with StandardScaler or MinMaxScaler.\n",
      "  warnings.warn(\n"
     ]
    },
    {
     "name": "stdout",
     "output_type": "stream",
     "text": [
      "[CV 10/15; 26/50] END model__C=81.05016126411583, model__epsilon=21.154290797261208;, score=-27.959 total time=   0.9s\n",
      "[CV 11/15; 26/50] START model__C=81.05016126411583, model__epsilon=21.154290797261208\n"
     ]
    },
    {
     "name": "stderr",
     "output_type": "stream",
     "text": [
      "/opt/anaconda3/lib/python3.9/site-packages/sklearn/svm/_base.py:299: ConvergenceWarning: Solver terminated early (max_iter=50000).  Consider pre-processing your data with StandardScaler or MinMaxScaler.\n",
      "  warnings.warn(\n"
     ]
    },
    {
     "name": "stdout",
     "output_type": "stream",
     "text": [
      "[CV 11/15; 26/50] END model__C=81.05016126411583, model__epsilon=21.154290797261208;, score=-31.020 total time=   0.9s\n",
      "[CV 12/15; 26/50] START model__C=81.05016126411583, model__epsilon=21.154290797261208\n"
     ]
    },
    {
     "name": "stderr",
     "output_type": "stream",
     "text": [
      "/opt/anaconda3/lib/python3.9/site-packages/sklearn/svm/_base.py:299: ConvergenceWarning: Solver terminated early (max_iter=50000).  Consider pre-processing your data with StandardScaler or MinMaxScaler.\n",
      "  warnings.warn(\n"
     ]
    },
    {
     "name": "stdout",
     "output_type": "stream",
     "text": [
      "[CV 12/15; 26/50] END model__C=81.05016126411583, model__epsilon=21.154290797261208;, score=-28.987 total time=   0.9s\n",
      "[CV 13/15; 26/50] START model__C=81.05016126411583, model__epsilon=21.154290797261208\n"
     ]
    },
    {
     "name": "stderr",
     "output_type": "stream",
     "text": [
      "/opt/anaconda3/lib/python3.9/site-packages/sklearn/svm/_base.py:299: ConvergenceWarning: Solver terminated early (max_iter=50000).  Consider pre-processing your data with StandardScaler or MinMaxScaler.\n",
      "  warnings.warn(\n"
     ]
    },
    {
     "name": "stdout",
     "output_type": "stream",
     "text": [
      "[CV 13/15; 26/50] END model__C=81.05016126411583, model__epsilon=21.154290797261208;, score=-27.775 total time=   0.9s\n",
      "[CV 14/15; 26/50] START model__C=81.05016126411583, model__epsilon=21.154290797261208\n"
     ]
    },
    {
     "name": "stderr",
     "output_type": "stream",
     "text": [
      "/opt/anaconda3/lib/python3.9/site-packages/sklearn/svm/_base.py:299: ConvergenceWarning: Solver terminated early (max_iter=50000).  Consider pre-processing your data with StandardScaler or MinMaxScaler.\n",
      "  warnings.warn(\n"
     ]
    },
    {
     "name": "stdout",
     "output_type": "stream",
     "text": [
      "[CV 14/15; 26/50] END model__C=81.05016126411583, model__epsilon=21.154290797261208;, score=-26.917 total time=   0.9s\n",
      "[CV 15/15; 26/50] START model__C=81.05016126411583, model__epsilon=21.154290797261208\n"
     ]
    },
    {
     "name": "stderr",
     "output_type": "stream",
     "text": [
      "/opt/anaconda3/lib/python3.9/site-packages/sklearn/svm/_base.py:299: ConvergenceWarning: Solver terminated early (max_iter=50000).  Consider pre-processing your data with StandardScaler or MinMaxScaler.\n",
      "  warnings.warn(\n"
     ]
    },
    {
     "name": "stdout",
     "output_type": "stream",
     "text": [
      "[CV 15/15; 26/50] END model__C=81.05016126411583, model__epsilon=21.154290797261208;, score=-27.007 total time=   0.9s\n",
      "[CV 1/15; 27/50] START model__C=65.84106160121607, model__epsilon=48.35952776465949\n"
     ]
    },
    {
     "name": "stderr",
     "output_type": "stream",
     "text": [
      "/opt/anaconda3/lib/python3.9/site-packages/sklearn/svm/_base.py:299: ConvergenceWarning: Solver terminated early (max_iter=50000).  Consider pre-processing your data with StandardScaler or MinMaxScaler.\n",
      "  warnings.warn(\n"
     ]
    },
    {
     "name": "stdout",
     "output_type": "stream",
     "text": [
      "[CV 1/15; 27/50] END model__C=65.84106160121607, model__epsilon=48.35952776465949;, score=-41.347 total time=   0.5s\n",
      "[CV 2/15; 27/50] START model__C=65.84106160121607, model__epsilon=48.35952776465949\n"
     ]
    },
    {
     "name": "stderr",
     "output_type": "stream",
     "text": [
      "/opt/anaconda3/lib/python3.9/site-packages/sklearn/svm/_base.py:299: ConvergenceWarning: Solver terminated early (max_iter=50000).  Consider pre-processing your data with StandardScaler or MinMaxScaler.\n",
      "  warnings.warn(\n"
     ]
    },
    {
     "name": "stdout",
     "output_type": "stream",
     "text": [
      "[CV 2/15; 27/50] END model__C=65.84106160121607, model__epsilon=48.35952776465949;, score=-38.980 total time=   0.5s\n",
      "[CV 3/15; 27/50] START model__C=65.84106160121607, model__epsilon=48.35952776465949\n"
     ]
    },
    {
     "name": "stderr",
     "output_type": "stream",
     "text": [
      "/opt/anaconda3/lib/python3.9/site-packages/sklearn/svm/_base.py:299: ConvergenceWarning: Solver terminated early (max_iter=50000).  Consider pre-processing your data with StandardScaler or MinMaxScaler.\n",
      "  warnings.warn(\n"
     ]
    },
    {
     "name": "stdout",
     "output_type": "stream",
     "text": [
      "[CV 3/15; 27/50] END model__C=65.84106160121607, model__epsilon=48.35952776465949;, score=-36.212 total time=   0.5s\n",
      "[CV 4/15; 27/50] START model__C=65.84106160121607, model__epsilon=48.35952776465949\n"
     ]
    },
    {
     "name": "stderr",
     "output_type": "stream",
     "text": [
      "/opt/anaconda3/lib/python3.9/site-packages/sklearn/svm/_base.py:299: ConvergenceWarning: Solver terminated early (max_iter=50000).  Consider pre-processing your data with StandardScaler or MinMaxScaler.\n",
      "  warnings.warn(\n"
     ]
    },
    {
     "name": "stdout",
     "output_type": "stream",
     "text": [
      "[CV 4/15; 27/50] END model__C=65.84106160121607, model__epsilon=48.35952776465949;, score=-35.831 total time=   0.5s\n",
      "[CV 5/15; 27/50] START model__C=65.84106160121607, model__epsilon=48.35952776465949\n"
     ]
    },
    {
     "name": "stderr",
     "output_type": "stream",
     "text": [
      "/opt/anaconda3/lib/python3.9/site-packages/sklearn/svm/_base.py:299: ConvergenceWarning: Solver terminated early (max_iter=50000).  Consider pre-processing your data with StandardScaler or MinMaxScaler.\n",
      "  warnings.warn(\n"
     ]
    },
    {
     "name": "stdout",
     "output_type": "stream",
     "text": [
      "[CV 5/15; 27/50] END model__C=65.84106160121607, model__epsilon=48.35952776465949;, score=-36.844 total time=   0.5s\n",
      "[CV 6/15; 27/50] START model__C=65.84106160121607, model__epsilon=48.35952776465949\n"
     ]
    },
    {
     "name": "stderr",
     "output_type": "stream",
     "text": [
      "/opt/anaconda3/lib/python3.9/site-packages/sklearn/svm/_base.py:299: ConvergenceWarning: Solver terminated early (max_iter=50000).  Consider pre-processing your data with StandardScaler or MinMaxScaler.\n",
      "  warnings.warn(\n"
     ]
    },
    {
     "name": "stdout",
     "output_type": "stream",
     "text": [
      "[CV 6/15; 27/50] END model__C=65.84106160121607, model__epsilon=48.35952776465949;, score=-39.753 total time=   0.5s\n",
      "[CV 7/15; 27/50] START model__C=65.84106160121607, model__epsilon=48.35952776465949\n"
     ]
    },
    {
     "name": "stderr",
     "output_type": "stream",
     "text": [
      "/opt/anaconda3/lib/python3.9/site-packages/sklearn/svm/_base.py:299: ConvergenceWarning: Solver terminated early (max_iter=50000).  Consider pre-processing your data with StandardScaler or MinMaxScaler.\n",
      "  warnings.warn(\n"
     ]
    },
    {
     "name": "stdout",
     "output_type": "stream",
     "text": [
      "[CV 7/15; 27/50] END model__C=65.84106160121607, model__epsilon=48.35952776465949;, score=-39.862 total time=   0.5s\n",
      "[CV 8/15; 27/50] START model__C=65.84106160121607, model__epsilon=48.35952776465949\n"
     ]
    },
    {
     "name": "stderr",
     "output_type": "stream",
     "text": [
      "/opt/anaconda3/lib/python3.9/site-packages/sklearn/svm/_base.py:299: ConvergenceWarning: Solver terminated early (max_iter=50000).  Consider pre-processing your data with StandardScaler or MinMaxScaler.\n",
      "  warnings.warn(\n"
     ]
    },
    {
     "name": "stdout",
     "output_type": "stream",
     "text": [
      "[CV 8/15; 27/50] END model__C=65.84106160121607, model__epsilon=48.35952776465949;, score=-35.334 total time=   0.5s\n",
      "[CV 9/15; 27/50] START model__C=65.84106160121607, model__epsilon=48.35952776465949\n"
     ]
    },
    {
     "name": "stderr",
     "output_type": "stream",
     "text": [
      "/opt/anaconda3/lib/python3.9/site-packages/sklearn/svm/_base.py:299: ConvergenceWarning: Solver terminated early (max_iter=50000).  Consider pre-processing your data with StandardScaler or MinMaxScaler.\n",
      "  warnings.warn(\n"
     ]
    },
    {
     "name": "stdout",
     "output_type": "stream",
     "text": [
      "[CV 9/15; 27/50] END model__C=65.84106160121607, model__epsilon=48.35952776465949;, score=-36.215 total time=   0.5s\n",
      "[CV 10/15; 27/50] START model__C=65.84106160121607, model__epsilon=48.35952776465949\n"
     ]
    },
    {
     "name": "stderr",
     "output_type": "stream",
     "text": [
      "/opt/anaconda3/lib/python3.9/site-packages/sklearn/svm/_base.py:299: ConvergenceWarning: Solver terminated early (max_iter=50000).  Consider pre-processing your data with StandardScaler or MinMaxScaler.\n",
      "  warnings.warn(\n"
     ]
    },
    {
     "name": "stdout",
     "output_type": "stream",
     "text": [
      "[CV 10/15; 27/50] END model__C=65.84106160121607, model__epsilon=48.35952776465949;, score=-38.111 total time=   0.5s\n",
      "[CV 11/15; 27/50] START model__C=65.84106160121607, model__epsilon=48.35952776465949\n"
     ]
    },
    {
     "name": "stderr",
     "output_type": "stream",
     "text": [
      "/opt/anaconda3/lib/python3.9/site-packages/sklearn/svm/_base.py:299: ConvergenceWarning: Solver terminated early (max_iter=50000).  Consider pre-processing your data with StandardScaler or MinMaxScaler.\n",
      "  warnings.warn(\n"
     ]
    },
    {
     "name": "stdout",
     "output_type": "stream",
     "text": [
      "[CV 11/15; 27/50] END model__C=65.84106160121607, model__epsilon=48.35952776465949;, score=-41.186 total time=   0.5s\n",
      "[CV 12/15; 27/50] START model__C=65.84106160121607, model__epsilon=48.35952776465949\n"
     ]
    },
    {
     "name": "stderr",
     "output_type": "stream",
     "text": [
      "/opt/anaconda3/lib/python3.9/site-packages/sklearn/svm/_base.py:299: ConvergenceWarning: Solver terminated early (max_iter=50000).  Consider pre-processing your data with StandardScaler or MinMaxScaler.\n",
      "  warnings.warn(\n"
     ]
    },
    {
     "name": "stdout",
     "output_type": "stream",
     "text": [
      "[CV 12/15; 27/50] END model__C=65.84106160121607, model__epsilon=48.35952776465949;, score=-38.286 total time=   0.5s\n",
      "[CV 13/15; 27/50] START model__C=65.84106160121607, model__epsilon=48.35952776465949\n"
     ]
    },
    {
     "name": "stderr",
     "output_type": "stream",
     "text": [
      "/opt/anaconda3/lib/python3.9/site-packages/sklearn/svm/_base.py:299: ConvergenceWarning: Solver terminated early (max_iter=50000).  Consider pre-processing your data with StandardScaler or MinMaxScaler.\n",
      "  warnings.warn(\n"
     ]
    },
    {
     "name": "stdout",
     "output_type": "stream",
     "text": [
      "[CV 13/15; 27/50] END model__C=65.84106160121607, model__epsilon=48.35952776465949;, score=-36.742 total time=   0.5s\n",
      "[CV 14/15; 27/50] START model__C=65.84106160121607, model__epsilon=48.35952776465949\n"
     ]
    },
    {
     "name": "stderr",
     "output_type": "stream",
     "text": [
      "/opt/anaconda3/lib/python3.9/site-packages/sklearn/svm/_base.py:299: ConvergenceWarning: Solver terminated early (max_iter=50000).  Consider pre-processing your data with StandardScaler or MinMaxScaler.\n",
      "  warnings.warn(\n"
     ]
    },
    {
     "name": "stdout",
     "output_type": "stream",
     "text": [
      "[CV 14/15; 27/50] END model__C=65.84106160121607, model__epsilon=48.35952776465949;, score=-36.340 total time=   0.5s\n",
      "[CV 15/15; 27/50] START model__C=65.84106160121607, model__epsilon=48.35952776465949\n"
     ]
    },
    {
     "name": "stderr",
     "output_type": "stream",
     "text": [
      "/opt/anaconda3/lib/python3.9/site-packages/sklearn/svm/_base.py:299: ConvergenceWarning: Solver terminated early (max_iter=50000).  Consider pre-processing your data with StandardScaler or MinMaxScaler.\n",
      "  warnings.warn(\n"
     ]
    },
    {
     "name": "stdout",
     "output_type": "stream",
     "text": [
      "[CV 15/15; 27/50] END model__C=65.84106160121607, model__epsilon=48.35952776465949;, score=-36.642 total time=   0.5s\n",
      "[CV 1/15; 28/50] START model__C=6.218704727769076, model__epsilon=58.293845429947346\n",
      "[CV 1/15; 28/50] END model__C=6.218704727769076, model__epsilon=58.293845429947346;, score=-47.276 total time=   0.3s\n",
      "[CV 2/15; 28/50] START model__C=6.218704727769076, model__epsilon=58.293845429947346\n",
      "[CV 2/15; 28/50] END model__C=6.218704727769076, model__epsilon=58.293845429947346;, score=-46.443 total time=   0.3s\n",
      "[CV 3/15; 28/50] START model__C=6.218704727769076, model__epsilon=58.293845429947346\n",
      "[CV 3/15; 28/50] END model__C=6.218704727769076, model__epsilon=58.293845429947346;, score=-42.237 total time=   0.3s\n",
      "[CV 4/15; 28/50] START model__C=6.218704727769076, model__epsilon=58.293845429947346\n",
      "[CV 4/15; 28/50] END model__C=6.218704727769076, model__epsilon=58.293845429947346;, score=-43.388 total time=   0.3s\n",
      "[CV 5/15; 28/50] START model__C=6.218704727769076, model__epsilon=58.293845429947346\n",
      "[CV 5/15; 28/50] END model__C=6.218704727769076, model__epsilon=58.293845429947346;, score=-45.527 total time=   0.3s\n",
      "[CV 6/15; 28/50] START model__C=6.218704727769076, model__epsilon=58.293845429947346\n",
      "[CV 6/15; 28/50] END model__C=6.218704727769076, model__epsilon=58.293845429947346;, score=-48.118 total time=   0.2s\n",
      "[CV 7/15; 28/50] START model__C=6.218704727769076, model__epsilon=58.293845429947346\n",
      "[CV 7/15; 28/50] END model__C=6.218704727769076, model__epsilon=58.293845429947346;, score=-46.559 total time=   0.3s\n",
      "[CV 8/15; 28/50] START model__C=6.218704727769076, model__epsilon=58.293845429947346\n",
      "[CV 8/15; 28/50] END model__C=6.218704727769076, model__epsilon=58.293845429947346;, score=-43.103 total time=   0.3s\n",
      "[CV 9/15; 28/50] START model__C=6.218704727769076, model__epsilon=58.293845429947346\n",
      "[CV 9/15; 28/50] END model__C=6.218704727769076, model__epsilon=58.293845429947346;, score=-43.411 total time=   0.3s\n",
      "[CV 10/15; 28/50] START model__C=6.218704727769076, model__epsilon=58.293845429947346\n",
      "[CV 10/15; 28/50] END model__C=6.218704727769076, model__epsilon=58.293845429947346;, score=-43.922 total time=   0.3s\n",
      "[CV 11/15; 28/50] START model__C=6.218704727769076, model__epsilon=58.293845429947346\n",
      "[CV 11/15; 28/50] END model__C=6.218704727769076, model__epsilon=58.293845429947346;, score=-48.148 total time=   0.2s\n",
      "[CV 12/15; 28/50] START model__C=6.218704727769076, model__epsilon=58.293845429947346\n",
      "[CV 12/15; 28/50] END model__C=6.218704727769076, model__epsilon=58.293845429947346;, score=-45.503 total time=   0.3s\n",
      "[CV 13/15; 28/50] START model__C=6.218704727769076, model__epsilon=58.293845429947346\n",
      "[CV 13/15; 28/50] END model__C=6.218704727769076, model__epsilon=58.293845429947346;, score=-43.023 total time=   0.3s\n",
      "[CV 14/15; 28/50] START model__C=6.218704727769076, model__epsilon=58.293845429947346\n",
      "[CV 14/15; 28/50] END model__C=6.218704727769076, model__epsilon=58.293845429947346;, score=-44.284 total time=   0.3s\n",
      "[CV 15/15; 28/50] START model__C=6.218704727769076, model__epsilon=58.293845429947346\n",
      "[CV 15/15; 28/50] END model__C=6.218704727769076, model__epsilon=58.293845429947346;, score=-44.338 total time=   0.3s\n",
      "[CV 1/15; 29/50] START model__C=0.18427970406864538, model__epsilon=0.3872118032174582\n",
      "[CV 1/15; 29/50] END model__C=0.18427970406864538, model__epsilon=0.3872118032174582;, score=-35.189 total time=   1.2s\n",
      "[CV 2/15; 29/50] START model__C=0.18427970406864538, model__epsilon=0.3872118032174582\n",
      "[CV 2/15; 29/50] END model__C=0.18427970406864538, model__epsilon=0.3872118032174582;, score=-33.947 total time=   1.1s\n",
      "[CV 3/15; 29/50] START model__C=0.18427970406864538, model__epsilon=0.3872118032174582\n",
      "[CV 3/15; 29/50] END model__C=0.18427970406864538, model__epsilon=0.3872118032174582;, score=-30.529 total time=   1.1s\n",
      "[CV 4/15; 29/50] START model__C=0.18427970406864538, model__epsilon=0.3872118032174582\n",
      "[CV 4/15; 29/50] END model__C=0.18427970406864538, model__epsilon=0.3872118032174582;, score=-29.916 total time=   1.1s\n",
      "[CV 5/15; 29/50] START model__C=0.18427970406864538, model__epsilon=0.3872118032174582\n",
      "[CV 5/15; 29/50] END model__C=0.18427970406864538, model__epsilon=0.3872118032174582;, score=-30.507 total time=   1.1s\n",
      "[CV 6/15; 29/50] START model__C=0.18427970406864538, model__epsilon=0.3872118032174582\n",
      "[CV 6/15; 29/50] END model__C=0.18427970406864538, model__epsilon=0.3872118032174582;, score=-35.088 total time=   1.2s\n",
      "[CV 7/15; 29/50] START model__C=0.18427970406864538, model__epsilon=0.3872118032174582\n",
      "[CV 7/15; 29/50] END model__C=0.18427970406864538, model__epsilon=0.3872118032174582;, score=-34.021 total time=   1.1s\n",
      "[CV 8/15; 29/50] START model__C=0.18427970406864538, model__epsilon=0.3872118032174582\n",
      "[CV 8/15; 29/50] END model__C=0.18427970406864538, model__epsilon=0.3872118032174582;, score=-30.399 total time=   1.2s\n",
      "[CV 9/15; 29/50] START model__C=0.18427970406864538, model__epsilon=0.3872118032174582\n",
      "[CV 9/15; 29/50] END model__C=0.18427970406864538, model__epsilon=0.3872118032174582;, score=-29.869 total time=   1.1s\n",
      "[CV 10/15; 29/50] START model__C=0.18427970406864538, model__epsilon=0.3872118032174582\n",
      "[CV 10/15; 29/50] END model__C=0.18427970406864538, model__epsilon=0.3872118032174582;, score=-30.585 total time=   1.1s\n",
      "[CV 11/15; 29/50] START model__C=0.18427970406864538, model__epsilon=0.3872118032174582\n",
      "[CV 11/15; 29/50] END model__C=0.18427970406864538, model__epsilon=0.3872118032174582;, score=-35.111 total time=   1.2s\n",
      "[CV 12/15; 29/50] START model__C=0.18427970406864538, model__epsilon=0.3872118032174582\n",
      "[CV 12/15; 29/50] END model__C=0.18427970406864538, model__epsilon=0.3872118032174582;, score=-34.026 total time=   1.2s\n",
      "[CV 13/15; 29/50] START model__C=0.18427970406864538, model__epsilon=0.3872118032174582\n",
      "[CV 13/15; 29/50] END model__C=0.18427970406864538, model__epsilon=0.3872118032174582;, score=-30.573 total time=   1.2s\n",
      "[CV 14/15; 29/50] START model__C=0.18427970406864538, model__epsilon=0.3872118032174582\n",
      "[CV 14/15; 29/50] END model__C=0.18427970406864538, model__epsilon=0.3872118032174582;, score=-29.888 total time=   1.2s\n",
      "[CV 15/15; 29/50] START model__C=0.18427970406864538, model__epsilon=0.3872118032174582\n",
      "[CV 15/15; 29/50] END model__C=0.18427970406864538, model__epsilon=0.3872118032174582;, score=-30.412 total time=   1.2s\n",
      "[CV 1/15; 30/50] START model__C=0.13667272915456222, model__epsilon=0.946217535646149\n",
      "[CV 1/15; 30/50] END model__C=0.13667272915456222, model__epsilon=0.946217535646149;, score=-36.027 total time=   1.1s\n",
      "[CV 2/15; 30/50] START model__C=0.13667272915456222, model__epsilon=0.946217535646149\n",
      "[CV 2/15; 30/50] END model__C=0.13667272915456222, model__epsilon=0.946217535646149;, score=-34.769 total time=   1.1s\n",
      "[CV 3/15; 30/50] START model__C=0.13667272915456222, model__epsilon=0.946217535646149\n",
      "[CV 3/15; 30/50] END model__C=0.13667272915456222, model__epsilon=0.946217535646149;, score=-31.345 total time=   1.1s\n",
      "[CV 4/15; 30/50] START model__C=0.13667272915456222, model__epsilon=0.946217535646149\n",
      "[CV 4/15; 30/50] END model__C=0.13667272915456222, model__epsilon=0.946217535646149;, score=-30.723 total time=   1.1s\n",
      "[CV 5/15; 30/50] START model__C=0.13667272915456222, model__epsilon=0.946217535646149\n",
      "[CV 5/15; 30/50] END model__C=0.13667272915456222, model__epsilon=0.946217535646149;, score=-31.311 total time=   1.1s\n",
      "[CV 6/15; 30/50] START model__C=0.13667272915456222, model__epsilon=0.946217535646149\n",
      "[CV 6/15; 30/50] END model__C=0.13667272915456222, model__epsilon=0.946217535646149;, score=-35.948 total time=   1.1s\n",
      "[CV 7/15; 30/50] START model__C=0.13667272915456222, model__epsilon=0.946217535646149\n",
      "[CV 7/15; 30/50] END model__C=0.13667272915456222, model__epsilon=0.946217535646149;, score=-34.830 total time=   1.1s\n",
      "[CV 8/15; 30/50] START model__C=0.13667272915456222, model__epsilon=0.946217535646149\n",
      "[CV 8/15; 30/50] END model__C=0.13667272915456222, model__epsilon=0.946217535646149;, score=-31.266 total time=   1.1s\n",
      "[CV 9/15; 30/50] START model__C=0.13667272915456222, model__epsilon=0.946217535646149\n",
      "[CV 9/15; 30/50] END model__C=0.13667272915456222, model__epsilon=0.946217535646149;, score=-30.689 total time=   1.1s\n",
      "[CV 10/15; 30/50] START model__C=0.13667272915456222, model__epsilon=0.946217535646149\n"
     ]
    },
    {
     "name": "stdout",
     "output_type": "stream",
     "text": [
      "[CV 10/15; 30/50] END model__C=0.13667272915456222, model__epsilon=0.946217535646149;, score=-31.405 total time=   1.1s\n",
      "[CV 11/15; 30/50] START model__C=0.13667272915456222, model__epsilon=0.946217535646149\n",
      "[CV 11/15; 30/50] END model__C=0.13667272915456222, model__epsilon=0.946217535646149;, score=-35.987 total time=   1.1s\n",
      "[CV 12/15; 30/50] START model__C=0.13667272915456222, model__epsilon=0.946217535646149\n",
      "[CV 12/15; 30/50] END model__C=0.13667272915456222, model__epsilon=0.946217535646149;, score=-34.855 total time=   1.1s\n",
      "[CV 13/15; 30/50] START model__C=0.13667272915456222, model__epsilon=0.946217535646149\n",
      "[CV 13/15; 30/50] END model__C=0.13667272915456222, model__epsilon=0.946217535646149;, score=-31.421 total time=   1.0s\n",
      "[CV 14/15; 30/50] START model__C=0.13667272915456222, model__epsilon=0.946217535646149\n",
      "[CV 14/15; 30/50] END model__C=0.13667272915456222, model__epsilon=0.946217535646149;, score=-30.687 total time=   1.1s\n",
      "[CV 15/15; 30/50] START model__C=0.13667272915456222, model__epsilon=0.946217535646149\n",
      "[CV 15/15; 30/50] END model__C=0.13667272915456222, model__epsilon=0.946217535646149;, score=-31.256 total time=   1.1s\n",
      "[CV 1/15; 31/50] START model__C=1.4656553886225332, model__epsilon=0.6516990611177174\n"
     ]
    },
    {
     "name": "stderr",
     "output_type": "stream",
     "text": [
      "/opt/anaconda3/lib/python3.9/site-packages/sklearn/svm/_base.py:299: ConvergenceWarning: Solver terminated early (max_iter=50000).  Consider pre-processing your data with StandardScaler or MinMaxScaler.\n",
      "  warnings.warn(\n"
     ]
    },
    {
     "name": "stdout",
     "output_type": "stream",
     "text": [
      "[CV 1/15; 31/50] END model__C=1.4656553886225332, model__epsilon=0.6516990611177174;, score=-29.442 total time=   1.3s\n",
      "[CV 2/15; 31/50] START model__C=1.4656553886225332, model__epsilon=0.6516990611177174\n"
     ]
    },
    {
     "name": "stderr",
     "output_type": "stream",
     "text": [
      "/opt/anaconda3/lib/python3.9/site-packages/sklearn/svm/_base.py:299: ConvergenceWarning: Solver terminated early (max_iter=50000).  Consider pre-processing your data with StandardScaler or MinMaxScaler.\n",
      "  warnings.warn(\n"
     ]
    },
    {
     "name": "stdout",
     "output_type": "stream",
     "text": [
      "[CV 2/15; 31/50] END model__C=1.4656553886225332, model__epsilon=0.6516990611177174;, score=-28.066 total time=   1.3s\n",
      "[CV 3/15; 31/50] START model__C=1.4656553886225332, model__epsilon=0.6516990611177174\n"
     ]
    },
    {
     "name": "stderr",
     "output_type": "stream",
     "text": [
      "/opt/anaconda3/lib/python3.9/site-packages/sklearn/svm/_base.py:299: ConvergenceWarning: Solver terminated early (max_iter=50000).  Consider pre-processing your data with StandardScaler or MinMaxScaler.\n",
      "  warnings.warn(\n"
     ]
    },
    {
     "name": "stdout",
     "output_type": "stream",
     "text": [
      "[CV 3/15; 31/50] END model__C=1.4656553886225332, model__epsilon=0.6516990611177174;, score=-24.331 total time=   1.3s\n",
      "[CV 4/15; 31/50] START model__C=1.4656553886225332, model__epsilon=0.6516990611177174\n"
     ]
    },
    {
     "name": "stderr",
     "output_type": "stream",
     "text": [
      "/opt/anaconda3/lib/python3.9/site-packages/sklearn/svm/_base.py:299: ConvergenceWarning: Solver terminated early (max_iter=50000).  Consider pre-processing your data with StandardScaler or MinMaxScaler.\n",
      "  warnings.warn(\n"
     ]
    },
    {
     "name": "stdout",
     "output_type": "stream",
     "text": [
      "[CV 4/15; 31/50] END model__C=1.4656553886225332, model__epsilon=0.6516990611177174;, score=-24.034 total time=   1.3s\n",
      "[CV 5/15; 31/50] START model__C=1.4656553886225332, model__epsilon=0.6516990611177174\n"
     ]
    },
    {
     "name": "stderr",
     "output_type": "stream",
     "text": [
      "/opt/anaconda3/lib/python3.9/site-packages/sklearn/svm/_base.py:299: ConvergenceWarning: Solver terminated early (max_iter=50000).  Consider pre-processing your data with StandardScaler or MinMaxScaler.\n",
      "  warnings.warn(\n"
     ]
    },
    {
     "name": "stdout",
     "output_type": "stream",
     "text": [
      "[CV 5/15; 31/50] END model__C=1.4656553886225332, model__epsilon=0.6516990611177174;, score=-25.497 total time=   1.3s\n",
      "[CV 6/15; 31/50] START model__C=1.4656553886225332, model__epsilon=0.6516990611177174\n"
     ]
    },
    {
     "name": "stderr",
     "output_type": "stream",
     "text": [
      "/opt/anaconda3/lib/python3.9/site-packages/sklearn/svm/_base.py:299: ConvergenceWarning: Solver terminated early (max_iter=50000).  Consider pre-processing your data with StandardScaler or MinMaxScaler.\n",
      "  warnings.warn(\n"
     ]
    },
    {
     "name": "stdout",
     "output_type": "stream",
     "text": [
      "[CV 6/15; 31/50] END model__C=1.4656553886225332, model__epsilon=0.6516990611177174;, score=-29.007 total time=   1.3s\n",
      "[CV 7/15; 31/50] START model__C=1.4656553886225332, model__epsilon=0.6516990611177174\n"
     ]
    },
    {
     "name": "stderr",
     "output_type": "stream",
     "text": [
      "/opt/anaconda3/lib/python3.9/site-packages/sklearn/svm/_base.py:299: ConvergenceWarning: Solver terminated early (max_iter=50000).  Consider pre-processing your data with StandardScaler or MinMaxScaler.\n",
      "  warnings.warn(\n"
     ]
    },
    {
     "name": "stdout",
     "output_type": "stream",
     "text": [
      "[CV 7/15; 31/50] END model__C=1.4656553886225332, model__epsilon=0.6516990611177174;, score=-28.208 total time=   1.3s\n",
      "[CV 8/15; 31/50] START model__C=1.4656553886225332, model__epsilon=0.6516990611177174\n"
     ]
    },
    {
     "name": "stderr",
     "output_type": "stream",
     "text": [
      "/opt/anaconda3/lib/python3.9/site-packages/sklearn/svm/_base.py:299: ConvergenceWarning: Solver terminated early (max_iter=50000).  Consider pre-processing your data with StandardScaler or MinMaxScaler.\n",
      "  warnings.warn(\n"
     ]
    },
    {
     "name": "stdout",
     "output_type": "stream",
     "text": [
      "[CV 8/15; 31/50] END model__C=1.4656553886225332, model__epsilon=0.6516990611177174;, score=-24.842 total time=   1.3s\n",
      "[CV 9/15; 31/50] START model__C=1.4656553886225332, model__epsilon=0.6516990611177174\n"
     ]
    },
    {
     "name": "stderr",
     "output_type": "stream",
     "text": [
      "/opt/anaconda3/lib/python3.9/site-packages/sklearn/svm/_base.py:299: ConvergenceWarning: Solver terminated early (max_iter=50000).  Consider pre-processing your data with StandardScaler or MinMaxScaler.\n",
      "  warnings.warn(\n"
     ]
    },
    {
     "name": "stdout",
     "output_type": "stream",
     "text": [
      "[CV 9/15; 31/50] END model__C=1.4656553886225332, model__epsilon=0.6516990611177174;, score=-23.903 total time=   1.3s\n",
      "[CV 10/15; 31/50] START model__C=1.4656553886225332, model__epsilon=0.6516990611177174\n"
     ]
    },
    {
     "name": "stderr",
     "output_type": "stream",
     "text": [
      "/opt/anaconda3/lib/python3.9/site-packages/sklearn/svm/_base.py:299: ConvergenceWarning: Solver terminated early (max_iter=50000).  Consider pre-processing your data with StandardScaler or MinMaxScaler.\n",
      "  warnings.warn(\n"
     ]
    },
    {
     "name": "stdout",
     "output_type": "stream",
     "text": [
      "[CV 10/15; 31/50] END model__C=1.4656553886225332, model__epsilon=0.6516990611177174;, score=-25.425 total time=   1.3s\n",
      "[CV 11/15; 31/50] START model__C=1.4656553886225332, model__epsilon=0.6516990611177174\n"
     ]
    },
    {
     "name": "stderr",
     "output_type": "stream",
     "text": [
      "/opt/anaconda3/lib/python3.9/site-packages/sklearn/svm/_base.py:299: ConvergenceWarning: Solver terminated early (max_iter=50000).  Consider pre-processing your data with StandardScaler or MinMaxScaler.\n",
      "  warnings.warn(\n"
     ]
    },
    {
     "name": "stdout",
     "output_type": "stream",
     "text": [
      "[CV 11/15; 31/50] END model__C=1.4656553886225332, model__epsilon=0.6516990611177174;, score=-29.312 total time=   1.3s\n",
      "[CV 12/15; 31/50] START model__C=1.4656553886225332, model__epsilon=0.6516990611177174\n"
     ]
    },
    {
     "name": "stderr",
     "output_type": "stream",
     "text": [
      "/opt/anaconda3/lib/python3.9/site-packages/sklearn/svm/_base.py:299: ConvergenceWarning: Solver terminated early (max_iter=50000).  Consider pre-processing your data with StandardScaler or MinMaxScaler.\n",
      "  warnings.warn(\n"
     ]
    },
    {
     "name": "stdout",
     "output_type": "stream",
     "text": [
      "[CV 12/15; 31/50] END model__C=1.4656553886225332, model__epsilon=0.6516990611177174;, score=-28.422 total time=   1.3s\n",
      "[CV 13/15; 31/50] START model__C=1.4656553886225332, model__epsilon=0.6516990611177174\n"
     ]
    },
    {
     "name": "stderr",
     "output_type": "stream",
     "text": [
      "/opt/anaconda3/lib/python3.9/site-packages/sklearn/svm/_base.py:299: ConvergenceWarning: Solver terminated early (max_iter=50000).  Consider pre-processing your data with StandardScaler or MinMaxScaler.\n",
      "  warnings.warn(\n"
     ]
    },
    {
     "name": "stdout",
     "output_type": "stream",
     "text": [
      "[CV 13/15; 31/50] END model__C=1.4656553886225332, model__epsilon=0.6516990611177174;, score=-24.460 total time=   1.3s\n",
      "[CV 14/15; 31/50] START model__C=1.4656553886225332, model__epsilon=0.6516990611177174\n"
     ]
    },
    {
     "name": "stderr",
     "output_type": "stream",
     "text": [
      "/opt/anaconda3/lib/python3.9/site-packages/sklearn/svm/_base.py:299: ConvergenceWarning: Solver terminated early (max_iter=50000).  Consider pre-processing your data with StandardScaler or MinMaxScaler.\n",
      "  warnings.warn(\n"
     ]
    },
    {
     "name": "stdout",
     "output_type": "stream",
     "text": [
      "[CV 14/15; 31/50] END model__C=1.4656553886225332, model__epsilon=0.6516990611177174;, score=-24.074 total time=   1.3s\n",
      "[CV 15/15; 31/50] START model__C=1.4656553886225332, model__epsilon=0.6516990611177174\n"
     ]
    },
    {
     "name": "stderr",
     "output_type": "stream",
     "text": [
      "/opt/anaconda3/lib/python3.9/site-packages/sklearn/svm/_base.py:299: ConvergenceWarning: Solver terminated early (max_iter=50000).  Consider pre-processing your data with StandardScaler or MinMaxScaler.\n",
      "  warnings.warn(\n"
     ]
    },
    {
     "name": "stdout",
     "output_type": "stream",
     "text": [
      "[CV 15/15; 31/50] END model__C=1.4656553886225332, model__epsilon=0.6516990611177174;, score=-24.958 total time=   1.3s\n",
      "[CV 1/15; 32/50] START model__C=30.634622106220824, model__epsilon=1.1756010900231848\n"
     ]
    },
    {
     "name": "stderr",
     "output_type": "stream",
     "text": [
      "/opt/anaconda3/lib/python3.9/site-packages/sklearn/svm/_base.py:299: ConvergenceWarning: Solver terminated early (max_iter=50000).  Consider pre-processing your data with StandardScaler or MinMaxScaler.\n",
      "  warnings.warn(\n"
     ]
    },
    {
     "name": "stdout",
     "output_type": "stream",
     "text": [
      "[CV 1/15; 32/50] END model__C=30.634622106220824, model__epsilon=1.1756010900231848;, score=-26.114 total time=   2.3s\n",
      "[CV 2/15; 32/50] START model__C=30.634622106220824, model__epsilon=1.1756010900231848\n"
     ]
    },
    {
     "name": "stderr",
     "output_type": "stream",
     "text": [
      "/opt/anaconda3/lib/python3.9/site-packages/sklearn/svm/_base.py:299: ConvergenceWarning: Solver terminated early (max_iter=50000).  Consider pre-processing your data with StandardScaler or MinMaxScaler.\n",
      "  warnings.warn(\n"
     ]
    },
    {
     "name": "stdout",
     "output_type": "stream",
     "text": [
      "[CV 2/15; 32/50] END model__C=30.634622106220824, model__epsilon=1.1756010900231848;, score=-25.016 total time=   2.4s\n",
      "[CV 3/15; 32/50] START model__C=30.634622106220824, model__epsilon=1.1756010900231848\n"
     ]
    },
    {
     "name": "stderr",
     "output_type": "stream",
     "text": [
      "/opt/anaconda3/lib/python3.9/site-packages/sklearn/svm/_base.py:299: ConvergenceWarning: Solver terminated early (max_iter=50000).  Consider pre-processing your data with StandardScaler or MinMaxScaler.\n",
      "  warnings.warn(\n"
     ]
    },
    {
     "name": "stdout",
     "output_type": "stream",
     "text": [
      "[CV 3/15; 32/50] END model__C=30.634622106220824, model__epsilon=1.1756010900231848;, score=-21.597 total time=   2.4s\n",
      "[CV 4/15; 32/50] START model__C=30.634622106220824, model__epsilon=1.1756010900231848\n"
     ]
    },
    {
     "name": "stderr",
     "output_type": "stream",
     "text": [
      "/opt/anaconda3/lib/python3.9/site-packages/sklearn/svm/_base.py:299: ConvergenceWarning: Solver terminated early (max_iter=50000).  Consider pre-processing your data with StandardScaler or MinMaxScaler.\n",
      "  warnings.warn(\n"
     ]
    },
    {
     "name": "stdout",
     "output_type": "stream",
     "text": [
      "[CV 4/15; 32/50] END model__C=30.634622106220824, model__epsilon=1.1756010900231848;, score=-20.907 total time=   2.4s\n",
      "[CV 5/15; 32/50] START model__C=30.634622106220824, model__epsilon=1.1756010900231848\n"
     ]
    },
    {
     "name": "stderr",
     "output_type": "stream",
     "text": [
      "/opt/anaconda3/lib/python3.9/site-packages/sklearn/svm/_base.py:299: ConvergenceWarning: Solver terminated early (max_iter=50000).  Consider pre-processing your data with StandardScaler or MinMaxScaler.\n",
      "  warnings.warn(\n"
     ]
    },
    {
     "name": "stdout",
     "output_type": "stream",
     "text": [
      "[CV 5/15; 32/50] END model__C=30.634622106220824, model__epsilon=1.1756010900231848;, score=-23.475 total time=   2.4s\n",
      "[CV 6/15; 32/50] START model__C=30.634622106220824, model__epsilon=1.1756010900231848\n"
     ]
    },
    {
     "name": "stderr",
     "output_type": "stream",
     "text": [
      "/opt/anaconda3/lib/python3.9/site-packages/sklearn/svm/_base.py:299: ConvergenceWarning: Solver terminated early (max_iter=50000).  Consider pre-processing your data with StandardScaler or MinMaxScaler.\n",
      "  warnings.warn(\n"
     ]
    },
    {
     "name": "stdout",
     "output_type": "stream",
     "text": [
      "[CV 6/15; 32/50] END model__C=30.634622106220824, model__epsilon=1.1756010900231848;, score=-25.851 total time=   2.3s\n",
      "[CV 7/15; 32/50] START model__C=30.634622106220824, model__epsilon=1.1756010900231848\n"
     ]
    },
    {
     "name": "stderr",
     "output_type": "stream",
     "text": [
      "/opt/anaconda3/lib/python3.9/site-packages/sklearn/svm/_base.py:299: ConvergenceWarning: Solver terminated early (max_iter=50000).  Consider pre-processing your data with StandardScaler or MinMaxScaler.\n",
      "  warnings.warn(\n"
     ]
    },
    {
     "name": "stdout",
     "output_type": "stream",
     "text": [
      "[CV 7/15; 32/50] END model__C=30.634622106220824, model__epsilon=1.1756010900231848;, score=-24.339 total time=   2.3s\n",
      "[CV 8/15; 32/50] START model__C=30.634622106220824, model__epsilon=1.1756010900231848\n"
     ]
    },
    {
     "name": "stderr",
     "output_type": "stream",
     "text": [
      "/opt/anaconda3/lib/python3.9/site-packages/sklearn/svm/_base.py:299: ConvergenceWarning: Solver terminated early (max_iter=50000).  Consider pre-processing your data with StandardScaler or MinMaxScaler.\n",
      "  warnings.warn(\n"
     ]
    },
    {
     "name": "stdout",
     "output_type": "stream",
     "text": [
      "[CV 8/15; 32/50] END model__C=30.634622106220824, model__epsilon=1.1756010900231848;, score=-22.134 total time=   2.3s\n",
      "[CV 9/15; 32/50] START model__C=30.634622106220824, model__epsilon=1.1756010900231848\n"
     ]
    },
    {
     "name": "stderr",
     "output_type": "stream",
     "text": [
      "/opt/anaconda3/lib/python3.9/site-packages/sklearn/svm/_base.py:299: ConvergenceWarning: Solver terminated early (max_iter=50000).  Consider pre-processing your data with StandardScaler or MinMaxScaler.\n",
      "  warnings.warn(\n"
     ]
    },
    {
     "name": "stdout",
     "output_type": "stream",
     "text": [
      "[CV 9/15; 32/50] END model__C=30.634622106220824, model__epsilon=1.1756010900231848;, score=-21.728 total time=   2.3s\n",
      "[CV 10/15; 32/50] START model__C=30.634622106220824, model__epsilon=1.1756010900231848\n"
     ]
    },
    {
     "name": "stderr",
     "output_type": "stream",
     "text": [
      "/opt/anaconda3/lib/python3.9/site-packages/sklearn/svm/_base.py:299: ConvergenceWarning: Solver terminated early (max_iter=50000).  Consider pre-processing your data with StandardScaler or MinMaxScaler.\n",
      "  warnings.warn(\n"
     ]
    },
    {
     "name": "stdout",
     "output_type": "stream",
     "text": [
      "[CV 10/15; 32/50] END model__C=30.634622106220824, model__epsilon=1.1756010900231848;, score=-23.081 total time=   2.3s\n",
      "[CV 11/15; 32/50] START model__C=30.634622106220824, model__epsilon=1.1756010900231848\n"
     ]
    },
    {
     "name": "stderr",
     "output_type": "stream",
     "text": [
      "/opt/anaconda3/lib/python3.9/site-packages/sklearn/svm/_base.py:299: ConvergenceWarning: Solver terminated early (max_iter=50000).  Consider pre-processing your data with StandardScaler or MinMaxScaler.\n",
      "  warnings.warn(\n"
     ]
    },
    {
     "name": "stdout",
     "output_type": "stream",
     "text": [
      "[CV 11/15; 32/50] END model__C=30.634622106220824, model__epsilon=1.1756010900231848;, score=-26.139 total time=   2.3s\n",
      "[CV 12/15; 32/50] START model__C=30.634622106220824, model__epsilon=1.1756010900231848\n"
     ]
    },
    {
     "name": "stderr",
     "output_type": "stream",
     "text": [
      "/opt/anaconda3/lib/python3.9/site-packages/sklearn/svm/_base.py:299: ConvergenceWarning: Solver terminated early (max_iter=50000).  Consider pre-processing your data with StandardScaler or MinMaxScaler.\n",
      "  warnings.warn(\n"
     ]
    },
    {
     "name": "stdout",
     "output_type": "stream",
     "text": [
      "[CV 12/15; 32/50] END model__C=30.634622106220824, model__epsilon=1.1756010900231848;, score=-24.555 total time=   2.4s\n",
      "[CV 13/15; 32/50] START model__C=30.634622106220824, model__epsilon=1.1756010900231848\n"
     ]
    },
    {
     "name": "stderr",
     "output_type": "stream",
     "text": [
      "/opt/anaconda3/lib/python3.9/site-packages/sklearn/svm/_base.py:299: ConvergenceWarning: Solver terminated early (max_iter=50000).  Consider pre-processing your data with StandardScaler or MinMaxScaler.\n",
      "  warnings.warn(\n"
     ]
    },
    {
     "name": "stdout",
     "output_type": "stream",
     "text": [
      "[CV 13/15; 32/50] END model__C=30.634622106220824, model__epsilon=1.1756010900231848;, score=-22.652 total time=   2.3s\n",
      "[CV 14/15; 32/50] START model__C=30.634622106220824, model__epsilon=1.1756010900231848\n"
     ]
    },
    {
     "name": "stderr",
     "output_type": "stream",
     "text": [
      "/opt/anaconda3/lib/python3.9/site-packages/sklearn/svm/_base.py:299: ConvergenceWarning: Solver terminated early (max_iter=50000).  Consider pre-processing your data with StandardScaler or MinMaxScaler.\n",
      "  warnings.warn(\n"
     ]
    },
    {
     "name": "stdout",
     "output_type": "stream",
     "text": [
      "[CV 14/15; 32/50] END model__C=30.634622106220824, model__epsilon=1.1756010900231848;, score=-22.033 total time=   2.4s\n",
      "[CV 15/15; 32/50] START model__C=30.634622106220824, model__epsilon=1.1756010900231848\n"
     ]
    },
    {
     "name": "stderr",
     "output_type": "stream",
     "text": [
      "/opt/anaconda3/lib/python3.9/site-packages/sklearn/svm/_base.py:299: ConvergenceWarning: Solver terminated early (max_iter=50000).  Consider pre-processing your data with StandardScaler or MinMaxScaler.\n",
      "  warnings.warn(\n"
     ]
    },
    {
     "name": "stdout",
     "output_type": "stream",
     "text": [
      "[CV 15/15; 32/50] END model__C=30.634622106220824, model__epsilon=1.1756010900231848;, score=-22.004 total time=   2.3s\n",
      "[CV 1/15; 33/50] START model__C=0.6963114377829286, model__epsilon=4.247058562261868\n",
      "[CV 1/15; 33/50] END model__C=0.6963114377829286, model__epsilon=4.247058562261868;, score=-31.613 total time=   0.8s\n",
      "[CV 2/15; 33/50] START model__C=0.6963114377829286, model__epsilon=4.247058562261868\n",
      "[CV 2/15; 33/50] END model__C=0.6963114377829286, model__epsilon=4.247058562261868;, score=-30.442 total time=   0.8s\n",
      "[CV 3/15; 33/50] START model__C=0.6963114377829286, model__epsilon=4.247058562261868\n",
      "[CV 3/15; 33/50] END model__C=0.6963114377829286, model__epsilon=4.247058562261868;, score=-26.973 total time=   0.8s\n",
      "[CV 4/15; 33/50] START model__C=0.6963114377829286, model__epsilon=4.247058562261868\n",
      "[CV 4/15; 33/50] END model__C=0.6963114377829286, model__epsilon=4.247058562261868;, score=-26.562 total time=   0.8s\n",
      "[CV 5/15; 33/50] START model__C=0.6963114377829286, model__epsilon=4.247058562261868\n",
      "[CV 5/15; 33/50] END model__C=0.6963114377829286, model__epsilon=4.247058562261868;, score=-27.401 total time=   0.8s\n",
      "[CV 6/15; 33/50] START model__C=0.6963114377829286, model__epsilon=4.247058562261868\n",
      "[CV 6/15; 33/50] END model__C=0.6963114377829286, model__epsilon=4.247058562261868;, score=-31.577 total time=   0.8s\n",
      "[CV 7/15; 33/50] START model__C=0.6963114377829286, model__epsilon=4.247058562261868\n",
      "[CV 7/15; 33/50] END model__C=0.6963114377829286, model__epsilon=4.247058562261868;, score=-30.707 total time=   0.8s\n",
      "[CV 8/15; 33/50] START model__C=0.6963114377829286, model__epsilon=4.247058562261868\n",
      "[CV 8/15; 33/50] END model__C=0.6963114377829286, model__epsilon=4.247058562261868;, score=-27.021 total time=   0.8s\n",
      "[CV 9/15; 33/50] START model__C=0.6963114377829286, model__epsilon=4.247058562261868\n",
      "[CV 9/15; 33/50] END model__C=0.6963114377829286, model__epsilon=4.247058562261868;, score=-26.341 total time=   0.8s\n",
      "[CV 10/15; 33/50] START model__C=0.6963114377829286, model__epsilon=4.247058562261868\n",
      "[CV 10/15; 33/50] END model__C=0.6963114377829286, model__epsilon=4.247058562261868;, score=-27.390 total time=   0.8s\n",
      "[CV 11/15; 33/50] START model__C=0.6963114377829286, model__epsilon=4.247058562261868\n",
      "[CV 11/15; 33/50] END model__C=0.6963114377829286, model__epsilon=4.247058562261868;, score=-31.491 total time=   0.8s\n",
      "[CV 12/15; 33/50] START model__C=0.6963114377829286, model__epsilon=4.247058562261868\n",
      "[CV 12/15; 33/50] END model__C=0.6963114377829286, model__epsilon=4.247058562261868;, score=-30.772 total time=   0.8s\n",
      "[CV 13/15; 33/50] START model__C=0.6963114377829286, model__epsilon=4.247058562261868\n",
      "[CV 13/15; 33/50] END model__C=0.6963114377829286, model__epsilon=4.247058562261868;, score=-26.979 total time=   0.8s\n",
      "[CV 14/15; 33/50] START model__C=0.6963114377829286, model__epsilon=4.247058562261868\n",
      "[CV 14/15; 33/50] END model__C=0.6963114377829286, model__epsilon=4.247058562261868;, score=-26.518 total time=   0.8s\n",
      "[CV 15/15; 33/50] START model__C=0.6963114377829286, model__epsilon=4.247058562261868\n",
      "[CV 15/15; 33/50] END model__C=0.6963114377829286, model__epsilon=4.247058562261868;, score=-27.186 total time=   0.8s\n",
      "[CV 1/15; 34/50] START model__C=0.2647114182821816, model__epsilon=25.50298070162892\n",
      "[CV 1/15; 34/50] END model__C=0.2647114182821816, model__epsilon=25.50298070162892;, score=-45.397 total time=   0.5s\n",
      "[CV 2/15; 34/50] START model__C=0.2647114182821816, model__epsilon=25.50298070162892\n",
      "[CV 2/15; 34/50] END model__C=0.2647114182821816, model__epsilon=25.50298070162892;, score=-44.228 total time=   0.5s\n",
      "[CV 3/15; 34/50] START model__C=0.2647114182821816, model__epsilon=25.50298070162892\n",
      "[CV 3/15; 34/50] END model__C=0.2647114182821816, model__epsilon=25.50298070162892;, score=-40.745 total time=   0.5s\n",
      "[CV 4/15; 34/50] START model__C=0.2647114182821816, model__epsilon=25.50298070162892\n",
      "[CV 4/15; 34/50] END model__C=0.2647114182821816, model__epsilon=25.50298070162892;, score=-40.318 total time=   0.5s\n",
      "[CV 5/15; 34/50] START model__C=0.2647114182821816, model__epsilon=25.50298070162892\n",
      "[CV 5/15; 34/50] END model__C=0.2647114182821816, model__epsilon=25.50298070162892;, score=-40.969 total time=   0.5s\n",
      "[CV 6/15; 34/50] START model__C=0.2647114182821816, model__epsilon=25.50298070162892\n",
      "[CV 6/15; 34/50] END model__C=0.2647114182821816, model__epsilon=25.50298070162892;, score=-45.378 total time=   0.5s\n",
      "[CV 7/15; 34/50] START model__C=0.2647114182821816, model__epsilon=25.50298070162892\n",
      "[CV 7/15; 34/50] END model__C=0.2647114182821816, model__epsilon=25.50298070162892;, score=-44.352 total time=   0.5s\n",
      "[CV 8/15; 34/50] START model__C=0.2647114182821816, model__epsilon=25.50298070162892\n",
      "[CV 8/15; 34/50] END model__C=0.2647114182821816, model__epsilon=25.50298070162892;, score=-40.885 total time=   0.5s\n",
      "[CV 9/15; 34/50] START model__C=0.2647114182821816, model__epsilon=25.50298070162892\n",
      "[CV 9/15; 34/50] END model__C=0.2647114182821816, model__epsilon=25.50298070162892;, score=-40.121 total time=   0.5s\n",
      "[CV 10/15; 34/50] START model__C=0.2647114182821816, model__epsilon=25.50298070162892\n",
      "[CV 10/15; 34/50] END model__C=0.2647114182821816, model__epsilon=25.50298070162892;, score=-40.878 total time=   0.5s\n",
      "[CV 11/15; 34/50] START model__C=0.2647114182821816, model__epsilon=25.50298070162892\n",
      "[CV 11/15; 34/50] END model__C=0.2647114182821816, model__epsilon=25.50298070162892;, score=-45.426 total time=   0.5s\n",
      "[CV 12/15; 34/50] START model__C=0.2647114182821816, model__epsilon=25.50298070162892\n",
      "[CV 12/15; 34/50] END model__C=0.2647114182821816, model__epsilon=25.50298070162892;, score=-44.394 total time=   0.4s\n",
      "[CV 13/15; 34/50] START model__C=0.2647114182821816, model__epsilon=25.50298070162892\n",
      "[CV 13/15; 34/50] END model__C=0.2647114182821816, model__epsilon=25.50298070162892;, score=-40.564 total time=   0.5s\n",
      "[CV 14/15; 34/50] START model__C=0.2647114182821816, model__epsilon=25.50298070162892\n",
      "[CV 14/15; 34/50] END model__C=0.2647114182821816, model__epsilon=25.50298070162892;, score=-40.242 total time=   0.5s\n",
      "[CV 15/15; 34/50] START model__C=0.2647114182821816, model__epsilon=25.50298070162892\n",
      "[CV 15/15; 34/50] END model__C=0.2647114182821816, model__epsilon=25.50298070162892;, score=-40.954 total time=   0.5s\n",
      "[CV 1/15; 35/50] START model__C=0.16736010167825777, model__epsilon=91.33995846860967\n",
      "[CV 1/15; 35/50] END model__C=0.16736010167825777, model__epsilon=91.33995846860967;, score=-93.890 total time=   0.3s\n",
      "[CV 2/15; 35/50] START model__C=0.16736010167825777, model__epsilon=91.33995846860967\n",
      "[CV 2/15; 35/50] END model__C=0.16736010167825777, model__epsilon=91.33995846860967;, score=-92.695 total time=   0.3s\n",
      "[CV 3/15; 35/50] START model__C=0.16736010167825777, model__epsilon=91.33995846860967\n",
      "[CV 3/15; 35/50] END model__C=0.16736010167825777, model__epsilon=91.33995846860967;, score=-88.875 total time=   0.3s\n",
      "[CV 4/15; 35/50] START model__C=0.16736010167825777, model__epsilon=91.33995846860967\n",
      "[CV 4/15; 35/50] END model__C=0.16736010167825777, model__epsilon=91.33995846860967;, score=-88.806 total time=   0.3s\n",
      "[CV 5/15; 35/50] START model__C=0.16736010167825777, model__epsilon=91.33995846860967\n",
      "[CV 5/15; 35/50] END model__C=0.16736010167825777, model__epsilon=91.33995846860967;, score=-89.925 total time=   0.3s\n",
      "[CV 6/15; 35/50] START model__C=0.16736010167825777, model__epsilon=91.33995846860967\n",
      "[CV 6/15; 35/50] END model__C=0.16736010167825777, model__epsilon=91.33995846860967;, score=-93.857 total time=   0.3s\n",
      "[CV 7/15; 35/50] START model__C=0.16736010167825777, model__epsilon=91.33995846860967\n",
      "[CV 7/15; 35/50] END model__C=0.16736010167825777, model__epsilon=91.33995846860967;, score=-92.669 total time=   0.3s\n",
      "[CV 8/15; 35/50] START model__C=0.16736010167825777, model__epsilon=91.33995846860967\n",
      "[CV 8/15; 35/50] END model__C=0.16736010167825777, model__epsilon=91.33995846860967;, score=-89.045 total time=   0.3s\n",
      "[CV 9/15; 35/50] START model__C=0.16736010167825777, model__epsilon=91.33995846860967\n",
      "[CV 9/15; 35/50] END model__C=0.16736010167825777, model__epsilon=91.33995846860967;, score=-88.837 total time=   0.3s\n",
      "[CV 10/15; 35/50] START model__C=0.16736010167825777, model__epsilon=91.33995846860967\n",
      "[CV 10/15; 35/50] END model__C=0.16736010167825777, model__epsilon=91.33995846860967;, score=-89.802 total time=   0.3s\n",
      "[CV 11/15; 35/50] START model__C=0.16736010167825777, model__epsilon=91.33995846860967\n"
     ]
    },
    {
     "name": "stdout",
     "output_type": "stream",
     "text": [
      "[CV 11/15; 35/50] END model__C=0.16736010167825777, model__epsilon=91.33995846860967;, score=-93.928 total time=   0.3s\n",
      "[CV 12/15; 35/50] START model__C=0.16736010167825777, model__epsilon=91.33995846860967\n",
      "[CV 12/15; 35/50] END model__C=0.16736010167825777, model__epsilon=91.33995846860967;, score=-92.695 total time=   0.3s\n",
      "[CV 13/15; 35/50] START model__C=0.16736010167825777, model__epsilon=91.33995846860967\n",
      "[CV 13/15; 35/50] END model__C=0.16736010167825777, model__epsilon=91.33995846860967;, score=-89.007 total time=   0.3s\n",
      "[CV 14/15; 35/50] START model__C=0.16736010167825777, model__epsilon=91.33995846860967\n",
      "[CV 14/15; 35/50] END model__C=0.16736010167825777, model__epsilon=91.33995846860967;, score=-88.822 total time=   0.3s\n",
      "[CV 15/15; 35/50] START model__C=0.16736010167825777, model__epsilon=91.33995846860967\n",
      "[CV 15/15; 35/50] END model__C=0.16736010167825777, model__epsilon=91.33995846860967;, score=-89.742 total time=   0.3s\n",
      "[CV 1/15; 36/50] START model__C=20.73644517790503, model__epsilon=0.39459088111.\n"
     ]
    },
    {
     "name": "stderr",
     "output_type": "stream",
     "text": [
      "/opt/anaconda3/lib/python3.9/site-packages/sklearn/svm/_base.py:299: ConvergenceWarning: Solver terminated early (max_iter=50000).  Consider pre-processing your data with StandardScaler or MinMaxScaler.\n",
      "  warnings.warn(\n"
     ]
    },
    {
     "name": "stdout",
     "output_type": "stream",
     "text": [
      "[CV 1/15; 36/50] END model__C=20.73644517790503, model__epsilon=0.39459088111;, score=-26.118 total time=   2.4s\n",
      "[CV 2/15; 36/50] START model__C=20.73644517790503, model__epsilon=0.39459088111.\n"
     ]
    },
    {
     "name": "stderr",
     "output_type": "stream",
     "text": [
      "/opt/anaconda3/lib/python3.9/site-packages/sklearn/svm/_base.py:299: ConvergenceWarning: Solver terminated early (max_iter=50000).  Consider pre-processing your data with StandardScaler or MinMaxScaler.\n",
      "  warnings.warn(\n"
     ]
    },
    {
     "name": "stdout",
     "output_type": "stream",
     "text": [
      "[CV 2/15; 36/50] END model__C=20.73644517790503, model__epsilon=0.39459088111;, score=-24.977 total time=   2.4s\n",
      "[CV 3/15; 36/50] START model__C=20.73644517790503, model__epsilon=0.39459088111.\n"
     ]
    },
    {
     "name": "stderr",
     "output_type": "stream",
     "text": [
      "/opt/anaconda3/lib/python3.9/site-packages/sklearn/svm/_base.py:299: ConvergenceWarning: Solver terminated early (max_iter=50000).  Consider pre-processing your data with StandardScaler or MinMaxScaler.\n",
      "  warnings.warn(\n"
     ]
    },
    {
     "name": "stdout",
     "output_type": "stream",
     "text": [
      "[CV 3/15; 36/50] END model__C=20.73644517790503, model__epsilon=0.39459088111;, score=-21.462 total time=   2.4s\n",
      "[CV 4/15; 36/50] START model__C=20.73644517790503, model__epsilon=0.39459088111.\n"
     ]
    },
    {
     "name": "stderr",
     "output_type": "stream",
     "text": [
      "/opt/anaconda3/lib/python3.9/site-packages/sklearn/svm/_base.py:299: ConvergenceWarning: Solver terminated early (max_iter=50000).  Consider pre-processing your data with StandardScaler or MinMaxScaler.\n",
      "  warnings.warn(\n"
     ]
    },
    {
     "name": "stdout",
     "output_type": "stream",
     "text": [
      "[CV 4/15; 36/50] END model__C=20.73644517790503, model__epsilon=0.39459088111;, score=-20.901 total time=   2.4s\n",
      "[CV 5/15; 36/50] START model__C=20.73644517790503, model__epsilon=0.39459088111.\n"
     ]
    },
    {
     "name": "stderr",
     "output_type": "stream",
     "text": [
      "/opt/anaconda3/lib/python3.9/site-packages/sklearn/svm/_base.py:299: ConvergenceWarning: Solver terminated early (max_iter=50000).  Consider pre-processing your data with StandardScaler or MinMaxScaler.\n",
      "  warnings.warn(\n"
     ]
    },
    {
     "name": "stdout",
     "output_type": "stream",
     "text": [
      "[CV 5/15; 36/50] END model__C=20.73644517790503, model__epsilon=0.39459088111;, score=-23.431 total time=   2.4s\n",
      "[CV 6/15; 36/50] START model__C=20.73644517790503, model__epsilon=0.39459088111.\n"
     ]
    },
    {
     "name": "stderr",
     "output_type": "stream",
     "text": [
      "/opt/anaconda3/lib/python3.9/site-packages/sklearn/svm/_base.py:299: ConvergenceWarning: Solver terminated early (max_iter=50000).  Consider pre-processing your data with StandardScaler or MinMaxScaler.\n",
      "  warnings.warn(\n"
     ]
    },
    {
     "name": "stdout",
     "output_type": "stream",
     "text": [
      "[CV 6/15; 36/50] END model__C=20.73644517790503, model__epsilon=0.39459088111;, score=-25.874 total time=   2.4s\n",
      "[CV 7/15; 36/50] START model__C=20.73644517790503, model__epsilon=0.39459088111.\n"
     ]
    },
    {
     "name": "stderr",
     "output_type": "stream",
     "text": [
      "/opt/anaconda3/lib/python3.9/site-packages/sklearn/svm/_base.py:299: ConvergenceWarning: Solver terminated early (max_iter=50000).  Consider pre-processing your data with StandardScaler or MinMaxScaler.\n",
      "  warnings.warn(\n"
     ]
    },
    {
     "name": "stdout",
     "output_type": "stream",
     "text": [
      "[CV 7/15; 36/50] END model__C=20.73644517790503, model__epsilon=0.39459088111;, score=-24.313 total time=   2.4s\n",
      "[CV 8/15; 36/50] START model__C=20.73644517790503, model__epsilon=0.39459088111.\n"
     ]
    },
    {
     "name": "stderr",
     "output_type": "stream",
     "text": [
      "/opt/anaconda3/lib/python3.9/site-packages/sklearn/svm/_base.py:299: ConvergenceWarning: Solver terminated early (max_iter=50000).  Consider pre-processing your data with StandardScaler or MinMaxScaler.\n",
      "  warnings.warn(\n"
     ]
    },
    {
     "name": "stdout",
     "output_type": "stream",
     "text": [
      "[CV 8/15; 36/50] END model__C=20.73644517790503, model__epsilon=0.39459088111;, score=-22.058 total time=   2.4s\n",
      "[CV 9/15; 36/50] START model__C=20.73644517790503, model__epsilon=0.39459088111.\n"
     ]
    },
    {
     "name": "stderr",
     "output_type": "stream",
     "text": [
      "/opt/anaconda3/lib/python3.9/site-packages/sklearn/svm/_base.py:299: ConvergenceWarning: Solver terminated early (max_iter=50000).  Consider pre-processing your data with StandardScaler or MinMaxScaler.\n",
      "  warnings.warn(\n"
     ]
    },
    {
     "name": "stdout",
     "output_type": "stream",
     "text": [
      "[CV 9/15; 36/50] END model__C=20.73644517790503, model__epsilon=0.39459088111;, score=-21.583 total time=   2.4s\n",
      "[CV 10/15; 36/50] START model__C=20.73644517790503, model__epsilon=0.39459088111\n"
     ]
    },
    {
     "name": "stderr",
     "output_type": "stream",
     "text": [
      "/opt/anaconda3/lib/python3.9/site-packages/sklearn/svm/_base.py:299: ConvergenceWarning: Solver terminated early (max_iter=50000).  Consider pre-processing your data with StandardScaler or MinMaxScaler.\n",
      "  warnings.warn(\n"
     ]
    },
    {
     "name": "stdout",
     "output_type": "stream",
     "text": [
      "[CV 10/15; 36/50] END model__C=20.73644517790503, model__epsilon=0.39459088111;, score=-23.025 total time=   2.4s\n",
      "[CV 11/15; 36/50] START model__C=20.73644517790503, model__epsilon=0.39459088111\n"
     ]
    },
    {
     "name": "stderr",
     "output_type": "stream",
     "text": [
      "/opt/anaconda3/lib/python3.9/site-packages/sklearn/svm/_base.py:299: ConvergenceWarning: Solver terminated early (max_iter=50000).  Consider pre-processing your data with StandardScaler or MinMaxScaler.\n",
      "  warnings.warn(\n"
     ]
    },
    {
     "name": "stdout",
     "output_type": "stream",
     "text": [
      "[CV 11/15; 36/50] END model__C=20.73644517790503, model__epsilon=0.39459088111;, score=-26.157 total time=   2.4s\n",
      "[CV 12/15; 36/50] START model__C=20.73644517790503, model__epsilon=0.39459088111\n"
     ]
    },
    {
     "name": "stderr",
     "output_type": "stream",
     "text": [
      "/opt/anaconda3/lib/python3.9/site-packages/sklearn/svm/_base.py:299: ConvergenceWarning: Solver terminated early (max_iter=50000).  Consider pre-processing your data with StandardScaler or MinMaxScaler.\n",
      "  warnings.warn(\n"
     ]
    },
    {
     "name": "stdout",
     "output_type": "stream",
     "text": [
      "[CV 12/15; 36/50] END model__C=20.73644517790503, model__epsilon=0.39459088111;, score=-24.561 total time=   2.4s\n",
      "[CV 13/15; 36/50] START model__C=20.73644517790503, model__epsilon=0.39459088111\n"
     ]
    },
    {
     "name": "stderr",
     "output_type": "stream",
     "text": [
      "/opt/anaconda3/lib/python3.9/site-packages/sklearn/svm/_base.py:299: ConvergenceWarning: Solver terminated early (max_iter=50000).  Consider pre-processing your data with StandardScaler or MinMaxScaler.\n",
      "  warnings.warn(\n"
     ]
    },
    {
     "name": "stdout",
     "output_type": "stream",
     "text": [
      "[CV 13/15; 36/50] END model__C=20.73644517790503, model__epsilon=0.39459088111;, score=-22.425 total time=   2.4s\n",
      "[CV 14/15; 36/50] START model__C=20.73644517790503, model__epsilon=0.39459088111\n"
     ]
    },
    {
     "name": "stderr",
     "output_type": "stream",
     "text": [
      "/opt/anaconda3/lib/python3.9/site-packages/sklearn/svm/_base.py:299: ConvergenceWarning: Solver terminated early (max_iter=50000).  Consider pre-processing your data with StandardScaler or MinMaxScaler.\n",
      "  warnings.warn(\n"
     ]
    },
    {
     "name": "stdout",
     "output_type": "stream",
     "text": [
      "[CV 14/15; 36/50] END model__C=20.73644517790503, model__epsilon=0.39459088111;, score=-21.930 total time=   2.5s\n",
      "[CV 15/15; 36/50] START model__C=20.73644517790503, model__epsilon=0.39459088111\n"
     ]
    },
    {
     "name": "stderr",
     "output_type": "stream",
     "text": [
      "/opt/anaconda3/lib/python3.9/site-packages/sklearn/svm/_base.py:299: ConvergenceWarning: Solver terminated early (max_iter=50000).  Consider pre-processing your data with StandardScaler or MinMaxScaler.\n",
      "  warnings.warn(\n"
     ]
    },
    {
     "name": "stdout",
     "output_type": "stream",
     "text": [
      "[CV 15/15; 36/50] END model__C=20.73644517790503, model__epsilon=0.39459088111;, score=-21.949 total time=   2.5s\n",
      "[CV 1/15; 37/50] START model__C=0.10388823104027935, model__epsilon=27.95015916508335\n",
      "[CV 1/15; 37/50] END model__C=0.10388823104027935, model__epsilon=27.95015916508335;, score=-48.512 total time=   0.5s\n",
      "[CV 2/15; 37/50] START model__C=0.10388823104027935, model__epsilon=27.95015916508335\n",
      "[CV 2/15; 37/50] END model__C=0.10388823104027935, model__epsilon=27.95015916508335;, score=-47.345 total time=   0.5s\n",
      "[CV 3/15; 37/50] START model__C=0.10388823104027935, model__epsilon=27.95015916508335\n",
      "[CV 3/15; 37/50] END model__C=0.10388823104027935, model__epsilon=27.95015916508335;, score=-43.895 total time=   0.5s\n",
      "[CV 4/15; 37/50] START model__C=0.10388823104027935, model__epsilon=27.95015916508335\n",
      "[CV 4/15; 37/50] END model__C=0.10388823104027935, model__epsilon=27.95015916508335;, score=-43.285 total time=   0.5s\n",
      "[CV 5/15; 37/50] START model__C=0.10388823104027935, model__epsilon=27.95015916508335\n",
      "[CV 5/15; 37/50] END model__C=0.10388823104027935, model__epsilon=27.95015916508335;, score=-43.960 total time=   0.5s\n",
      "[CV 6/15; 37/50] START model__C=0.10388823104027935, model__epsilon=27.95015916508335\n",
      "[CV 6/15; 37/50] END model__C=0.10388823104027935, model__epsilon=27.95015916508335;, score=-48.471 total time=   0.5s\n",
      "[CV 7/15; 37/50] START model__C=0.10388823104027935, model__epsilon=27.95015916508335\n",
      "[CV 7/15; 37/50] END model__C=0.10388823104027935, model__epsilon=27.95015916508335;, score=-47.396 total time=   0.5s\n",
      "[CV 8/15; 37/50] START model__C=0.10388823104027935, model__epsilon=27.95015916508335\n",
      "[CV 8/15; 37/50] END model__C=0.10388823104027935, model__epsilon=27.95015916508335;, score=-43.926 total time=   0.5s\n",
      "[CV 9/15; 37/50] START model__C=0.10388823104027935, model__epsilon=27.95015916508335\n",
      "[CV 9/15; 37/50] END model__C=0.10388823104027935, model__epsilon=27.95015916508335;, score=-43.249 total time=   0.5s\n",
      "[CV 10/15; 37/50] START model__C=0.10388823104027935, model__epsilon=27.95015916508335\n",
      "[CV 10/15; 37/50] END model__C=0.10388823104027935, model__epsilon=27.95015916508335;, score=-43.958 total time=   0.5s\n",
      "[CV 11/15; 37/50] START model__C=0.10388823104027935, model__epsilon=27.95015916508335\n",
      "[CV 11/15; 37/50] END model__C=0.10388823104027935, model__epsilon=27.95015916508335;, score=-48.494 total time=   0.5s\n",
      "[CV 12/15; 37/50] START model__C=0.10388823104027935, model__epsilon=27.95015916508335\n",
      "[CV 12/15; 37/50] END model__C=0.10388823104027935, model__epsilon=27.95015916508335;, score=-47.421 total time=   0.5s\n",
      "[CV 13/15; 37/50] START model__C=0.10388823104027935, model__epsilon=27.95015916508335\n",
      "[CV 13/15; 37/50] END model__C=0.10388823104027935, model__epsilon=27.95015916508335;, score=-43.842 total time=   0.5s\n",
      "[CV 14/15; 37/50] START model__C=0.10388823104027935, model__epsilon=27.95015916508335\n",
      "[CV 14/15; 37/50] END model__C=0.10388823104027935, model__epsilon=27.95015916508335;, score=-43.270 total time=   0.5s\n",
      "[CV 15/15; 37/50] START model__C=0.10388823104027935, model__epsilon=27.95015916508335\n",
      "[CV 15/15; 37/50] END model__C=0.10388823104027935, model__epsilon=27.95015916508335;, score=-43.981 total time=   0.5s\n",
      "[CV 1/15; 38/50] START model__C=13.199942261535016, model__epsilon=15.382308040278993\n"
     ]
    },
    {
     "name": "stderr",
     "output_type": "stream",
     "text": [
      "/opt/anaconda3/lib/python3.9/site-packages/sklearn/svm/_base.py:299: ConvergenceWarning: Solver terminated early (max_iter=50000).  Consider pre-processing your data with StandardScaler or MinMaxScaler.\n",
      "  warnings.warn(\n"
     ]
    },
    {
     "name": "stdout",
     "output_type": "stream",
     "text": [
      "[CV 1/15; 38/50] END model__C=13.199942261535016, model__epsilon=15.382308040278993;, score=-29.586 total time=   0.6s\n",
      "[CV 2/15; 38/50] START model__C=13.199942261535016, model__epsilon=15.382308040278993\n"
     ]
    },
    {
     "name": "stderr",
     "output_type": "stream",
     "text": [
      "/opt/anaconda3/lib/python3.9/site-packages/sklearn/svm/_base.py:299: ConvergenceWarning: Solver terminated early (max_iter=50000).  Consider pre-processing your data with StandardScaler or MinMaxScaler.\n",
      "  warnings.warn(\n"
     ]
    },
    {
     "name": "stdout",
     "output_type": "stream",
     "text": [
      "[CV 2/15; 38/50] END model__C=13.199942261535016, model__epsilon=15.382308040278993;, score=-28.098 total time=   0.6s\n",
      "[CV 3/15; 38/50] START model__C=13.199942261535016, model__epsilon=15.382308040278993\n"
     ]
    },
    {
     "name": "stderr",
     "output_type": "stream",
     "text": [
      "/opt/anaconda3/lib/python3.9/site-packages/sklearn/svm/_base.py:299: ConvergenceWarning: Solver terminated early (max_iter=50000).  Consider pre-processing your data with StandardScaler or MinMaxScaler.\n",
      "  warnings.warn(\n"
     ]
    },
    {
     "name": "stdout",
     "output_type": "stream",
     "text": [
      "[CV 3/15; 38/50] END model__C=13.199942261535016, model__epsilon=15.382308040278993;, score=-24.631 total time=   0.7s\n",
      "[CV 4/15; 38/50] START model__C=13.199942261535016, model__epsilon=15.382308040278993\n"
     ]
    },
    {
     "name": "stderr",
     "output_type": "stream",
     "text": [
      "/opt/anaconda3/lib/python3.9/site-packages/sklearn/svm/_base.py:299: ConvergenceWarning: Solver terminated early (max_iter=50000).  Consider pre-processing your data with StandardScaler or MinMaxScaler.\n",
      "  warnings.warn(\n"
     ]
    },
    {
     "name": "stdout",
     "output_type": "stream",
     "text": [
      "[CV 4/15; 38/50] END model__C=13.199942261535016, model__epsilon=15.382308040278993;, score=-24.041 total time=   0.6s\n",
      "[CV 5/15; 38/50] START model__C=13.199942261535016, model__epsilon=15.382308040278993\n"
     ]
    },
    {
     "name": "stderr",
     "output_type": "stream",
     "text": [
      "/opt/anaconda3/lib/python3.9/site-packages/sklearn/svm/_base.py:299: ConvergenceWarning: Solver terminated early (max_iter=50000).  Consider pre-processing your data with StandardScaler or MinMaxScaler.\n",
      "  warnings.warn(\n"
     ]
    },
    {
     "name": "stdout",
     "output_type": "stream",
     "text": [
      "[CV 5/15; 38/50] END model__C=13.199942261535016, model__epsilon=15.382308040278993;, score=-26.226 total time=   0.7s\n",
      "[CV 6/15; 38/50] START model__C=13.199942261535016, model__epsilon=15.382308040278993\n"
     ]
    },
    {
     "name": "stderr",
     "output_type": "stream",
     "text": [
      "/opt/anaconda3/lib/python3.9/site-packages/sklearn/svm/_base.py:299: ConvergenceWarning: Solver terminated early (max_iter=50000).  Consider pre-processing your data with StandardScaler or MinMaxScaler.\n",
      "  warnings.warn(\n"
     ]
    },
    {
     "name": "stdout",
     "output_type": "stream",
     "text": [
      "[CV 6/15; 38/50] END model__C=13.199942261535016, model__epsilon=15.382308040278993;, score=-29.062 total time=   0.7s\n",
      "[CV 7/15; 38/50] START model__C=13.199942261535016, model__epsilon=15.382308040278993\n"
     ]
    },
    {
     "name": "stderr",
     "output_type": "stream",
     "text": [
      "/opt/anaconda3/lib/python3.9/site-packages/sklearn/svm/_base.py:299: ConvergenceWarning: Solver terminated early (max_iter=50000).  Consider pre-processing your data with StandardScaler or MinMaxScaler.\n",
      "  warnings.warn(\n"
     ]
    },
    {
     "name": "stdout",
     "output_type": "stream",
     "text": [
      "[CV 7/15; 38/50] END model__C=13.199942261535016, model__epsilon=15.382308040278993;, score=-27.721 total time=   0.7s\n",
      "[CV 8/15; 38/50] START model__C=13.199942261535016, model__epsilon=15.382308040278993\n"
     ]
    },
    {
     "name": "stderr",
     "output_type": "stream",
     "text": [
      "/opt/anaconda3/lib/python3.9/site-packages/sklearn/svm/_base.py:299: ConvergenceWarning: Solver terminated early (max_iter=50000).  Consider pre-processing your data with StandardScaler or MinMaxScaler.\n",
      "  warnings.warn(\n"
     ]
    },
    {
     "name": "stdout",
     "output_type": "stream",
     "text": [
      "[CV 8/15; 38/50] END model__C=13.199942261535016, model__epsilon=15.382308040278993;, score=-24.968 total time=   0.6s\n",
      "[CV 9/15; 38/50] START model__C=13.199942261535016, model__epsilon=15.382308040278993\n"
     ]
    },
    {
     "name": "stderr",
     "output_type": "stream",
     "text": [
      "/opt/anaconda3/lib/python3.9/site-packages/sklearn/svm/_base.py:299: ConvergenceWarning: Solver terminated early (max_iter=50000).  Consider pre-processing your data with StandardScaler or MinMaxScaler.\n",
      "  warnings.warn(\n"
     ]
    },
    {
     "name": "stdout",
     "output_type": "stream",
     "text": [
      "[CV 9/15; 38/50] END model__C=13.199942261535016, model__epsilon=15.382308040278993;, score=-24.898 total time=   0.7s\n",
      "[CV 10/15; 38/50] START model__C=13.199942261535016, model__epsilon=15.382308040278993\n"
     ]
    },
    {
     "name": "stderr",
     "output_type": "stream",
     "text": [
      "/opt/anaconda3/lib/python3.9/site-packages/sklearn/svm/_base.py:299: ConvergenceWarning: Solver terminated early (max_iter=50000).  Consider pre-processing your data with StandardScaler or MinMaxScaler.\n",
      "  warnings.warn(\n"
     ]
    },
    {
     "name": "stdout",
     "output_type": "stream",
     "text": [
      "[CV 10/15; 38/50] END model__C=13.199942261535016, model__epsilon=15.382308040278993;, score=-26.153 total time=   0.7s\n",
      "[CV 11/15; 38/50] START model__C=13.199942261535016, model__epsilon=15.382308040278993\n"
     ]
    },
    {
     "name": "stderr",
     "output_type": "stream",
     "text": [
      "/opt/anaconda3/lib/python3.9/site-packages/sklearn/svm/_base.py:299: ConvergenceWarning: Solver terminated early (max_iter=50000).  Consider pre-processing your data with StandardScaler or MinMaxScaler.\n",
      "  warnings.warn(\n"
     ]
    },
    {
     "name": "stdout",
     "output_type": "stream",
     "text": [
      "[CV 11/15; 38/50] END model__C=13.199942261535016, model__epsilon=15.382308040278993;, score=-29.470 total time=   0.7s\n",
      "[CV 12/15; 38/50] START model__C=13.199942261535016, model__epsilon=15.382308040278993\n"
     ]
    },
    {
     "name": "stderr",
     "output_type": "stream",
     "text": [
      "/opt/anaconda3/lib/python3.9/site-packages/sklearn/svm/_base.py:299: ConvergenceWarning: Solver terminated early (max_iter=50000).  Consider pre-processing your data with StandardScaler or MinMaxScaler.\n",
      "  warnings.warn(\n"
     ]
    },
    {
     "name": "stdout",
     "output_type": "stream",
     "text": [
      "[CV 12/15; 38/50] END model__C=13.199942261535016, model__epsilon=15.382308040278993;, score=-27.675 total time=   0.7s\n",
      "[CV 13/15; 38/50] START model__C=13.199942261535016, model__epsilon=15.382308040278993\n"
     ]
    },
    {
     "name": "stderr",
     "output_type": "stream",
     "text": [
      "/opt/anaconda3/lib/python3.9/site-packages/sklearn/svm/_base.py:299: ConvergenceWarning: Solver terminated early (max_iter=50000).  Consider pre-processing your data with StandardScaler or MinMaxScaler.\n",
      "  warnings.warn(\n"
     ]
    },
    {
     "name": "stdout",
     "output_type": "stream",
     "text": [
      "[CV 13/15; 38/50] END model__C=13.199942261535016, model__epsilon=15.382308040278993;, score=-25.528 total time=   0.7s\n",
      "[CV 14/15; 38/50] START model__C=13.199942261535016, model__epsilon=15.382308040278993\n"
     ]
    },
    {
     "name": "stderr",
     "output_type": "stream",
     "text": [
      "/opt/anaconda3/lib/python3.9/site-packages/sklearn/svm/_base.py:299: ConvergenceWarning: Solver terminated early (max_iter=50000).  Consider pre-processing your data with StandardScaler or MinMaxScaler.\n",
      "  warnings.warn(\n"
     ]
    },
    {
     "name": "stdout",
     "output_type": "stream",
     "text": [
      "[CV 14/15; 38/50] END model__C=13.199942261535016, model__epsilon=15.382308040278993;, score=-25.280 total time=   0.7s\n",
      "[CV 15/15; 38/50] START model__C=13.199942261535016, model__epsilon=15.382308040278993\n"
     ]
    },
    {
     "name": "stderr",
     "output_type": "stream",
     "text": [
      "/opt/anaconda3/lib/python3.9/site-packages/sklearn/svm/_base.py:299: ConvergenceWarning: Solver terminated early (max_iter=50000).  Consider pre-processing your data with StandardScaler or MinMaxScaler.\n",
      "  warnings.warn(\n"
     ]
    },
    {
     "name": "stdout",
     "output_type": "stream",
     "text": [
      "[CV 15/15; 38/50] END model__C=13.199942261535016, model__epsilon=15.382308040278993;, score=-25.089 total time=   0.7s\n",
      "[CV 1/15; 39/50] START model__C=20.59733535743719, model__epsilon=0.16677615430197912\n"
     ]
    },
    {
     "name": "stderr",
     "output_type": "stream",
     "text": [
      "/opt/anaconda3/lib/python3.9/site-packages/sklearn/svm/_base.py:299: ConvergenceWarning: Solver terminated early (max_iter=50000).  Consider pre-processing your data with StandardScaler or MinMaxScaler.\n",
      "  warnings.warn(\n"
     ]
    },
    {
     "name": "stdout",
     "output_type": "stream",
     "text": [
      "[CV 1/15; 39/50] END model__C=20.59733535743719, model__epsilon=0.16677615430197912;, score=-26.152 total time=   2.6s\n",
      "[CV 2/15; 39/50] START model__C=20.59733535743719, model__epsilon=0.16677615430197912\n"
     ]
    },
    {
     "name": "stderr",
     "output_type": "stream",
     "text": [
      "/opt/anaconda3/lib/python3.9/site-packages/sklearn/svm/_base.py:299: ConvergenceWarning: Solver terminated early (max_iter=50000).  Consider pre-processing your data with StandardScaler or MinMaxScaler.\n",
      "  warnings.warn(\n"
     ]
    },
    {
     "name": "stdout",
     "output_type": "stream",
     "text": [
      "[CV 2/15; 39/50] END model__C=20.59733535743719, model__epsilon=0.16677615430197912;, score=-24.974 total time=   2.5s\n",
      "[CV 3/15; 39/50] START model__C=20.59733535743719, model__epsilon=0.16677615430197912\n"
     ]
    },
    {
     "name": "stderr",
     "output_type": "stream",
     "text": [
      "/opt/anaconda3/lib/python3.9/site-packages/sklearn/svm/_base.py:299: ConvergenceWarning: Solver terminated early (max_iter=50000).  Consider pre-processing your data with StandardScaler or MinMaxScaler.\n",
      "  warnings.warn(\n"
     ]
    },
    {
     "name": "stdout",
     "output_type": "stream",
     "text": [
      "[CV 3/15; 39/50] END model__C=20.59733535743719, model__epsilon=0.16677615430197912;, score=-21.431 total time=   2.6s\n",
      "[CV 4/15; 39/50] START model__C=20.59733535743719, model__epsilon=0.16677615430197912\n"
     ]
    },
    {
     "name": "stderr",
     "output_type": "stream",
     "text": [
      "/opt/anaconda3/lib/python3.9/site-packages/sklearn/svm/_base.py:299: ConvergenceWarning: Solver terminated early (max_iter=50000).  Consider pre-processing your data with StandardScaler or MinMaxScaler.\n",
      "  warnings.warn(\n"
     ]
    },
    {
     "name": "stdout",
     "output_type": "stream",
     "text": [
      "[CV 4/15; 39/50] END model__C=20.59733535743719, model__epsilon=0.16677615430197912;, score=-20.905 total time=   2.5s\n",
      "[CV 5/15; 39/50] START model__C=20.59733535743719, model__epsilon=0.16677615430197912\n"
     ]
    },
    {
     "name": "stderr",
     "output_type": "stream",
     "text": [
      "/opt/anaconda3/lib/python3.9/site-packages/sklearn/svm/_base.py:299: ConvergenceWarning: Solver terminated early (max_iter=50000).  Consider pre-processing your data with StandardScaler or MinMaxScaler.\n",
      "  warnings.warn(\n"
     ]
    },
    {
     "name": "stdout",
     "output_type": "stream",
     "text": [
      "[CV 5/15; 39/50] END model__C=20.59733535743719, model__epsilon=0.16677615430197912;, score=-23.443 total time=   2.5s\n",
      "[CV 6/15; 39/50] START model__C=20.59733535743719, model__epsilon=0.16677615430197912\n"
     ]
    },
    {
     "name": "stderr",
     "output_type": "stream",
     "text": [
      "/opt/anaconda3/lib/python3.9/site-packages/sklearn/svm/_base.py:299: ConvergenceWarning: Solver terminated early (max_iter=50000).  Consider pre-processing your data with StandardScaler or MinMaxScaler.\n",
      "  warnings.warn(\n"
     ]
    },
    {
     "name": "stdout",
     "output_type": "stream",
     "text": [
      "[CV 6/15; 39/50] END model__C=20.59733535743719, model__epsilon=0.16677615430197912;, score=-25.880 total time=   2.5s\n",
      "[CV 7/15; 39/50] START model__C=20.59733535743719, model__epsilon=0.16677615430197912\n"
     ]
    },
    {
     "name": "stderr",
     "output_type": "stream",
     "text": [
      "/opt/anaconda3/lib/python3.9/site-packages/sklearn/svm/_base.py:299: ConvergenceWarning: Solver terminated early (max_iter=50000).  Consider pre-processing your data with StandardScaler or MinMaxScaler.\n",
      "  warnings.warn(\n"
     ]
    },
    {
     "name": "stdout",
     "output_type": "stream",
     "text": [
      "[CV 7/15; 39/50] END model__C=20.59733535743719, model__epsilon=0.16677615430197912;, score=-24.325 total time=   2.5s\n",
      "[CV 8/15; 39/50] START model__C=20.59733535743719, model__epsilon=0.16677615430197912\n"
     ]
    },
    {
     "name": "stderr",
     "output_type": "stream",
     "text": [
      "/opt/anaconda3/lib/python3.9/site-packages/sklearn/svm/_base.py:299: ConvergenceWarning: Solver terminated early (max_iter=50000).  Consider pre-processing your data with StandardScaler or MinMaxScaler.\n",
      "  warnings.warn(\n"
     ]
    },
    {
     "name": "stdout",
     "output_type": "stream",
     "text": [
      "[CV 8/15; 39/50] END model__C=20.59733535743719, model__epsilon=0.16677615430197912;, score=-22.060 total time=   2.5s\n",
      "[CV 9/15; 39/50] START model__C=20.59733535743719, model__epsilon=0.16677615430197912\n"
     ]
    },
    {
     "name": "stderr",
     "output_type": "stream",
     "text": [
      "/opt/anaconda3/lib/python3.9/site-packages/sklearn/svm/_base.py:299: ConvergenceWarning: Solver terminated early (max_iter=50000).  Consider pre-processing your data with StandardScaler or MinMaxScaler.\n",
      "  warnings.warn(\n"
     ]
    },
    {
     "name": "stdout",
     "output_type": "stream",
     "text": [
      "[CV 9/15; 39/50] END model__C=20.59733535743719, model__epsilon=0.16677615430197912;, score=-21.575 total time=   2.5s\n",
      "[CV 10/15; 39/50] START model__C=20.59733535743719, model__epsilon=0.16677615430197912\n"
     ]
    },
    {
     "name": "stderr",
     "output_type": "stream",
     "text": [
      "/opt/anaconda3/lib/python3.9/site-packages/sklearn/svm/_base.py:299: ConvergenceWarning: Solver terminated early (max_iter=50000).  Consider pre-processing your data with StandardScaler or MinMaxScaler.\n",
      "  warnings.warn(\n"
     ]
    },
    {
     "name": "stdout",
     "output_type": "stream",
     "text": [
      "[CV 10/15; 39/50] END model__C=20.59733535743719, model__epsilon=0.16677615430197912;, score=-23.041 total time=   2.6s\n",
      "[CV 11/15; 39/50] START model__C=20.59733535743719, model__epsilon=0.16677615430197912\n"
     ]
    },
    {
     "name": "stderr",
     "output_type": "stream",
     "text": [
      "/opt/anaconda3/lib/python3.9/site-packages/sklearn/svm/_base.py:299: ConvergenceWarning: Solver terminated early (max_iter=50000).  Consider pre-processing your data with StandardScaler or MinMaxScaler.\n",
      "  warnings.warn(\n"
     ]
    },
    {
     "name": "stdout",
     "output_type": "stream",
     "text": [
      "[CV 11/15; 39/50] END model__C=20.59733535743719, model__epsilon=0.16677615430197912;, score=-26.154 total time=   2.5s\n",
      "[CV 12/15; 39/50] START model__C=20.59733535743719, model__epsilon=0.16677615430197912\n"
     ]
    },
    {
     "name": "stderr",
     "output_type": "stream",
     "text": [
      "/opt/anaconda3/lib/python3.9/site-packages/sklearn/svm/_base.py:299: ConvergenceWarning: Solver terminated early (max_iter=50000).  Consider pre-processing your data with StandardScaler or MinMaxScaler.\n",
      "  warnings.warn(\n"
     ]
    },
    {
     "name": "stdout",
     "output_type": "stream",
     "text": [
      "[CV 12/15; 39/50] END model__C=20.59733535743719, model__epsilon=0.16677615430197912;, score=-24.550 total time=   2.6s\n",
      "[CV 13/15; 39/50] START model__C=20.59733535743719, model__epsilon=0.16677615430197912\n"
     ]
    },
    {
     "name": "stderr",
     "output_type": "stream",
     "text": [
      "/opt/anaconda3/lib/python3.9/site-packages/sklearn/svm/_base.py:299: ConvergenceWarning: Solver terminated early (max_iter=50000).  Consider pre-processing your data with StandardScaler or MinMaxScaler.\n",
      "  warnings.warn(\n"
     ]
    },
    {
     "name": "stdout",
     "output_type": "stream",
     "text": [
      "[CV 13/15; 39/50] END model__C=20.59733535743719, model__epsilon=0.16677615430197912;, score=-22.438 total time=   2.5s\n",
      "[CV 14/15; 39/50] START model__C=20.59733535743719, model__epsilon=0.16677615430197912\n"
     ]
    },
    {
     "name": "stderr",
     "output_type": "stream",
     "text": [
      "/opt/anaconda3/lib/python3.9/site-packages/sklearn/svm/_base.py:299: ConvergenceWarning: Solver terminated early (max_iter=50000).  Consider pre-processing your data with StandardScaler or MinMaxScaler.\n",
      "  warnings.warn(\n"
     ]
    },
    {
     "name": "stdout",
     "output_type": "stream",
     "text": [
      "[CV 14/15; 39/50] END model__C=20.59733535743719, model__epsilon=0.16677615430197912;, score=-21.938 total time=   2.5s\n",
      "[CV 15/15; 39/50] START model__C=20.59733535743719, model__epsilon=0.16677615430197912\n"
     ]
    },
    {
     "name": "stderr",
     "output_type": "stream",
     "text": [
      "/opt/anaconda3/lib/python3.9/site-packages/sklearn/svm/_base.py:299: ConvergenceWarning: Solver terminated early (max_iter=50000).  Consider pre-processing your data with StandardScaler or MinMaxScaler.\n",
      "  warnings.warn(\n"
     ]
    },
    {
     "name": "stdout",
     "output_type": "stream",
     "text": [
      "[CV 15/15; 39/50] END model__C=20.59733535743719, model__epsilon=0.16677615430197912;, score=-21.991 total time=   2.5s\n",
      "[CV 1/15; 40/50] START model__C=1.1895896737553546, model__epsilon=0.22264204303769677\n",
      "[CV 1/15; 40/50] END model__C=1.1895896737553546, model__epsilon=0.22264204303769677;, score=-29.919 total time=   1.4s\n",
      "[CV 2/15; 40/50] START model__C=1.1895896737553546, model__epsilon=0.22264204303769677\n"
     ]
    },
    {
     "name": "stderr",
     "output_type": "stream",
     "text": [
      "/opt/anaconda3/lib/python3.9/site-packages/sklearn/svm/_base.py:299: ConvergenceWarning: Solver terminated early (max_iter=50000).  Consider pre-processing your data with StandardScaler or MinMaxScaler.\n",
      "  warnings.warn(\n"
     ]
    },
    {
     "name": "stdout",
     "output_type": "stream",
     "text": [
      "[CV 2/15; 40/50] END model__C=1.1895896737553546, model__epsilon=0.22264204303769677;, score=-28.615 total time=   1.4s\n",
      "[CV 3/15; 40/50] START model__C=1.1895896737553546, model__epsilon=0.22264204303769677\n"
     ]
    },
    {
     "name": "stderr",
     "output_type": "stream",
     "text": [
      "/opt/anaconda3/lib/python3.9/site-packages/sklearn/svm/_base.py:299: ConvergenceWarning: Solver terminated early (max_iter=50000).  Consider pre-processing your data with StandardScaler or MinMaxScaler.\n",
      "  warnings.warn(\n"
     ]
    },
    {
     "name": "stdout",
     "output_type": "stream",
     "text": [
      "[CV 3/15; 40/50] END model__C=1.1895896737553546, model__epsilon=0.22264204303769677;, score=-24.865 total time=   1.4s\n",
      "[CV 4/15; 40/50] START model__C=1.1895896737553546, model__epsilon=0.22264204303769677\n"
     ]
    },
    {
     "name": "stderr",
     "output_type": "stream",
     "text": [
      "/opt/anaconda3/lib/python3.9/site-packages/sklearn/svm/_base.py:299: ConvergenceWarning: Solver terminated early (max_iter=50000).  Consider pre-processing your data with StandardScaler or MinMaxScaler.\n",
      "  warnings.warn(\n"
     ]
    },
    {
     "name": "stdout",
     "output_type": "stream",
     "text": [
      "[CV 4/15; 40/50] END model__C=1.1895896737553546, model__epsilon=0.22264204303769677;, score=-24.477 total time=   1.4s\n",
      "[CV 5/15; 40/50] START model__C=1.1895896737553546, model__epsilon=0.22264204303769677\n"
     ]
    },
    {
     "name": "stderr",
     "output_type": "stream",
     "text": [
      "/opt/anaconda3/lib/python3.9/site-packages/sklearn/svm/_base.py:299: ConvergenceWarning: Solver terminated early (max_iter=50000).  Consider pre-processing your data with StandardScaler or MinMaxScaler.\n",
      "  warnings.warn(\n"
     ]
    },
    {
     "name": "stdout",
     "output_type": "stream",
     "text": [
      "[CV 5/15; 40/50] END model__C=1.1895896737553546, model__epsilon=0.22264204303769677;, score=-25.941 total time=   1.4s\n",
      "[CV 6/15; 40/50] START model__C=1.1895896737553546, model__epsilon=0.22264204303769677\n"
     ]
    },
    {
     "name": "stderr",
     "output_type": "stream",
     "text": [
      "/opt/anaconda3/lib/python3.9/site-packages/sklearn/svm/_base.py:299: ConvergenceWarning: Solver terminated early (max_iter=50000).  Consider pre-processing your data with StandardScaler or MinMaxScaler.\n",
      "  warnings.warn(\n"
     ]
    },
    {
     "name": "stdout",
     "output_type": "stream",
     "text": [
      "[CV 6/15; 40/50] END model__C=1.1895896737553546, model__epsilon=0.22264204303769677;, score=-29.527 total time=   1.4s\n",
      "[CV 7/15; 40/50] START model__C=1.1895896737553546, model__epsilon=0.22264204303769677\n"
     ]
    },
    {
     "name": "stderr",
     "output_type": "stream",
     "text": [
      "/opt/anaconda3/lib/python3.9/site-packages/sklearn/svm/_base.py:299: ConvergenceWarning: Solver terminated early (max_iter=50000).  Consider pre-processing your data with StandardScaler or MinMaxScaler.\n",
      "  warnings.warn(\n"
     ]
    },
    {
     "name": "stdout",
     "output_type": "stream",
     "text": [
      "[CV 7/15; 40/50] END model__C=1.1895896737553546, model__epsilon=0.22264204303769677;, score=-28.711 total time=   1.4s\n",
      "[CV 8/15; 40/50] START model__C=1.1895896737553546, model__epsilon=0.22264204303769677\n"
     ]
    },
    {
     "name": "stderr",
     "output_type": "stream",
     "text": [
      "/opt/anaconda3/lib/python3.9/site-packages/sklearn/svm/_base.py:299: ConvergenceWarning: Solver terminated early (max_iter=50000).  Consider pre-processing your data with StandardScaler or MinMaxScaler.\n",
      "  warnings.warn(\n"
     ]
    },
    {
     "name": "stdout",
     "output_type": "stream",
     "text": [
      "[CV 8/15; 40/50] END model__C=1.1895896737553546, model__epsilon=0.22264204303769677;, score=-25.329 total time=   1.4s\n",
      "[CV 9/15; 40/50] START model__C=1.1895896737553546, model__epsilon=0.22264204303769677\n"
     ]
    },
    {
     "name": "stderr",
     "output_type": "stream",
     "text": [
      "/opt/anaconda3/lib/python3.9/site-packages/sklearn/svm/_base.py:299: ConvergenceWarning: Solver terminated early (max_iter=50000).  Consider pre-processing your data with StandardScaler or MinMaxScaler.\n",
      "  warnings.warn(\n"
     ]
    },
    {
     "name": "stdout",
     "output_type": "stream",
     "text": [
      "[CV 9/15; 40/50] END model__C=1.1895896737553546, model__epsilon=0.22264204303769677;, score=-24.329 total time=   1.4s\n",
      "[CV 10/15; 40/50] START model__C=1.1895896737553546, model__epsilon=0.22264204303769677\n"
     ]
    },
    {
     "name": "stderr",
     "output_type": "stream",
     "text": [
      "/opt/anaconda3/lib/python3.9/site-packages/sklearn/svm/_base.py:299: ConvergenceWarning: Solver terminated early (max_iter=50000).  Consider pre-processing your data with StandardScaler or MinMaxScaler.\n",
      "  warnings.warn(\n"
     ]
    },
    {
     "name": "stdout",
     "output_type": "stream",
     "text": [
      "[CV 10/15; 40/50] END model__C=1.1895896737553546, model__epsilon=0.22264204303769677;, score=-25.846 total time=   1.4s\n",
      "[CV 11/15; 40/50] START model__C=1.1895896737553546, model__epsilon=0.22264204303769677\n"
     ]
    },
    {
     "name": "stderr",
     "output_type": "stream",
     "text": [
      "/opt/anaconda3/lib/python3.9/site-packages/sklearn/svm/_base.py:299: ConvergenceWarning: Solver terminated early (max_iter=50000).  Consider pre-processing your data with StandardScaler or MinMaxScaler.\n",
      "  warnings.warn(\n"
     ]
    },
    {
     "name": "stdout",
     "output_type": "stream",
     "text": [
      "[CV 11/15; 40/50] END model__C=1.1895896737553546, model__epsilon=0.22264204303769677;, score=-29.788 total time=   1.4s\n",
      "[CV 12/15; 40/50] START model__C=1.1895896737553546, model__epsilon=0.22264204303769677\n"
     ]
    },
    {
     "name": "stderr",
     "output_type": "stream",
     "text": [
      "/opt/anaconda3/lib/python3.9/site-packages/sklearn/svm/_base.py:299: ConvergenceWarning: Solver terminated early (max_iter=50000).  Consider pre-processing your data with StandardScaler or MinMaxScaler.\n",
      "  warnings.warn(\n"
     ]
    },
    {
     "name": "stdout",
     "output_type": "stream",
     "text": [
      "[CV 12/15; 40/50] END model__C=1.1895896737553546, model__epsilon=0.22264204303769677;, score=-28.937 total time=   1.4s\n",
      "[CV 13/15; 40/50] START model__C=1.1895896737553546, model__epsilon=0.22264204303769677\n"
     ]
    },
    {
     "name": "stderr",
     "output_type": "stream",
     "text": [
      "/opt/anaconda3/lib/python3.9/site-packages/sklearn/svm/_base.py:299: ConvergenceWarning: Solver terminated early (max_iter=50000).  Consider pre-processing your data with StandardScaler or MinMaxScaler.\n",
      "  warnings.warn(\n"
     ]
    },
    {
     "name": "stdout",
     "output_type": "stream",
     "text": [
      "[CV 13/15; 40/50] END model__C=1.1895896737553546, model__epsilon=0.22264204303769677;, score=-24.994 total time=   1.4s\n",
      "[CV 14/15; 40/50] START model__C=1.1895896737553546, model__epsilon=0.22264204303769677\n"
     ]
    },
    {
     "name": "stderr",
     "output_type": "stream",
     "text": [
      "/opt/anaconda3/lib/python3.9/site-packages/sklearn/svm/_base.py:299: ConvergenceWarning: Solver terminated early (max_iter=50000).  Consider pre-processing your data with StandardScaler or MinMaxScaler.\n",
      "  warnings.warn(\n"
     ]
    },
    {
     "name": "stdout",
     "output_type": "stream",
     "text": [
      "[CV 14/15; 40/50] END model__C=1.1895896737553546, model__epsilon=0.22264204303769677;, score=-24.559 total time=   1.4s\n",
      "[CV 15/15; 40/50] START model__C=1.1895896737553546, model__epsilon=0.22264204303769677\n"
     ]
    },
    {
     "name": "stderr",
     "output_type": "stream",
     "text": [
      "/opt/anaconda3/lib/python3.9/site-packages/sklearn/svm/_base.py:299: ConvergenceWarning: Solver terminated early (max_iter=50000).  Consider pre-processing your data with StandardScaler or MinMaxScaler.\n",
      "  warnings.warn(\n"
     ]
    },
    {
     "name": "stdout",
     "output_type": "stream",
     "text": [
      "[CV 15/15; 40/50] END model__C=1.1895896737553546, model__epsilon=0.22264204303769677;, score=-25.430 total time=   1.4s\n",
      "[CV 1/15; 41/50] START model__C=38.8427775470314, model__epsilon=7.41129978108324\n"
     ]
    },
    {
     "name": "stderr",
     "output_type": "stream",
     "text": [
      "/opt/anaconda3/lib/python3.9/site-packages/sklearn/svm/_base.py:299: ConvergenceWarning: Solver terminated early (max_iter=50000).  Consider pre-processing your data with StandardScaler or MinMaxScaler.\n",
      "  warnings.warn(\n"
     ]
    },
    {
     "name": "stdout",
     "output_type": "stream",
     "text": [
      "[CV 1/15; 41/50] END model__C=38.8427775470314, model__epsilon=7.41129978108324;, score=-27.151 total time=   1.3s\n",
      "[CV 2/15; 41/50] START model__C=38.8427775470314, model__epsilon=7.41129978108324\n"
     ]
    },
    {
     "name": "stderr",
     "output_type": "stream",
     "text": [
      "/opt/anaconda3/lib/python3.9/site-packages/sklearn/svm/_base.py:299: ConvergenceWarning: Solver terminated early (max_iter=50000).  Consider pre-processing your data with StandardScaler or MinMaxScaler.\n",
      "  warnings.warn(\n"
     ]
    },
    {
     "name": "stdout",
     "output_type": "stream",
     "text": [
      "[CV 2/15; 41/50] END model__C=38.8427775470314, model__epsilon=7.41129978108324;, score=-25.993 total time=   1.3s\n",
      "[CV 3/15; 41/50] START model__C=38.8427775470314, model__epsilon=7.41129978108324\n"
     ]
    },
    {
     "name": "stderr",
     "output_type": "stream",
     "text": [
      "/opt/anaconda3/lib/python3.9/site-packages/sklearn/svm/_base.py:299: ConvergenceWarning: Solver terminated early (max_iter=50000).  Consider pre-processing your data with StandardScaler or MinMaxScaler.\n",
      "  warnings.warn(\n"
     ]
    },
    {
     "name": "stdout",
     "output_type": "stream",
     "text": [
      "[CV 3/15; 41/50] END model__C=38.8427775470314, model__epsilon=7.41129978108324;, score=-22.508 total time=   1.3s\n",
      "[CV 4/15; 41/50] START model__C=38.8427775470314, model__epsilon=7.41129978108324\n"
     ]
    },
    {
     "name": "stderr",
     "output_type": "stream",
     "text": [
      "/opt/anaconda3/lib/python3.9/site-packages/sklearn/svm/_base.py:299: ConvergenceWarning: Solver terminated early (max_iter=50000).  Consider pre-processing your data with StandardScaler or MinMaxScaler.\n",
      "  warnings.warn(\n"
     ]
    },
    {
     "name": "stdout",
     "output_type": "stream",
     "text": [
      "[CV 4/15; 41/50] END model__C=38.8427775470314, model__epsilon=7.41129978108324;, score=-21.727 total time=   1.3s\n",
      "[CV 5/15; 41/50] START model__C=38.8427775470314, model__epsilon=7.41129978108324\n"
     ]
    },
    {
     "name": "stderr",
     "output_type": "stream",
     "text": [
      "/opt/anaconda3/lib/python3.9/site-packages/sklearn/svm/_base.py:299: ConvergenceWarning: Solver terminated early (max_iter=50000).  Consider pre-processing your data with StandardScaler or MinMaxScaler.\n",
      "  warnings.warn(\n"
     ]
    },
    {
     "name": "stdout",
     "output_type": "stream",
     "text": [
      "[CV 5/15; 41/50] END model__C=38.8427775470314, model__epsilon=7.41129978108324;, score=-24.280 total time=   1.3s\n",
      "[CV 6/15; 41/50] START model__C=38.8427775470314, model__epsilon=7.41129978108324\n"
     ]
    },
    {
     "name": "stderr",
     "output_type": "stream",
     "text": [
      "/opt/anaconda3/lib/python3.9/site-packages/sklearn/svm/_base.py:299: ConvergenceWarning: Solver terminated early (max_iter=50000).  Consider pre-processing your data with StandardScaler or MinMaxScaler.\n",
      "  warnings.warn(\n"
     ]
    },
    {
     "name": "stdout",
     "output_type": "stream",
     "text": [
      "[CV 6/15; 41/50] END model__C=38.8427775470314, model__epsilon=7.41129978108324;, score=-26.643 total time=   1.2s\n",
      "[CV 7/15; 41/50] START model__C=38.8427775470314, model__epsilon=7.41129978108324\n"
     ]
    },
    {
     "name": "stderr",
     "output_type": "stream",
     "text": [
      "/opt/anaconda3/lib/python3.9/site-packages/sklearn/svm/_base.py:299: ConvergenceWarning: Solver terminated early (max_iter=50000).  Consider pre-processing your data with StandardScaler or MinMaxScaler.\n",
      "  warnings.warn(\n"
     ]
    },
    {
     "name": "stdout",
     "output_type": "stream",
     "text": [
      "[CV 7/15; 41/50] END model__C=38.8427775470314, model__epsilon=7.41129978108324;, score=-25.254 total time=   1.3s\n",
      "[CV 8/15; 41/50] START model__C=38.8427775470314, model__epsilon=7.41129978108324\n"
     ]
    },
    {
     "name": "stderr",
     "output_type": "stream",
     "text": [
      "/opt/anaconda3/lib/python3.9/site-packages/sklearn/svm/_base.py:299: ConvergenceWarning: Solver terminated early (max_iter=50000).  Consider pre-processing your data with StandardScaler or MinMaxScaler.\n",
      "  warnings.warn(\n"
     ]
    },
    {
     "name": "stdout",
     "output_type": "stream",
     "text": [
      "[CV 8/15; 41/50] END model__C=38.8427775470314, model__epsilon=7.41129978108324;, score=-23.033 total time=   1.3s\n",
      "[CV 9/15; 41/50] START model__C=38.8427775470314, model__epsilon=7.41129978108324\n"
     ]
    },
    {
     "name": "stderr",
     "output_type": "stream",
     "text": [
      "/opt/anaconda3/lib/python3.9/site-packages/sklearn/svm/_base.py:299: ConvergenceWarning: Solver terminated early (max_iter=50000).  Consider pre-processing your data with StandardScaler or MinMaxScaler.\n",
      "  warnings.warn(\n"
     ]
    },
    {
     "name": "stdout",
     "output_type": "stream",
     "text": [
      "[CV 9/15; 41/50] END model__C=38.8427775470314, model__epsilon=7.41129978108324;, score=-22.653 total time=   1.3s\n",
      "[CV 10/15; 41/50] START model__C=38.8427775470314, model__epsilon=7.41129978108324\n"
     ]
    },
    {
     "name": "stderr",
     "output_type": "stream",
     "text": [
      "/opt/anaconda3/lib/python3.9/site-packages/sklearn/svm/_base.py:299: ConvergenceWarning: Solver terminated early (max_iter=50000).  Consider pre-processing your data with StandardScaler or MinMaxScaler.\n",
      "  warnings.warn(\n"
     ]
    },
    {
     "name": "stdout",
     "output_type": "stream",
     "text": [
      "[CV 10/15; 41/50] END model__C=38.8427775470314, model__epsilon=7.41129978108324;, score=-24.000 total time=   1.3s\n",
      "[CV 11/15; 41/50] START model__C=38.8427775470314, model__epsilon=7.41129978108324\n"
     ]
    },
    {
     "name": "stderr",
     "output_type": "stream",
     "text": [
      "/opt/anaconda3/lib/python3.9/site-packages/sklearn/svm/_base.py:299: ConvergenceWarning: Solver terminated early (max_iter=50000).  Consider pre-processing your data with StandardScaler or MinMaxScaler.\n",
      "  warnings.warn(\n"
     ]
    },
    {
     "name": "stdout",
     "output_type": "stream",
     "text": [
      "[CV 11/15; 41/50] END model__C=38.8427775470314, model__epsilon=7.41129978108324;, score=-27.080 total time=   1.3s\n",
      "[CV 12/15; 41/50] START model__C=38.8427775470314, model__epsilon=7.41129978108324\n"
     ]
    },
    {
     "name": "stderr",
     "output_type": "stream",
     "text": [
      "/opt/anaconda3/lib/python3.9/site-packages/sklearn/svm/_base.py:299: ConvergenceWarning: Solver terminated early (max_iter=50000).  Consider pre-processing your data with StandardScaler or MinMaxScaler.\n",
      "  warnings.warn(\n"
     ]
    },
    {
     "name": "stdout",
     "output_type": "stream",
     "text": [
      "[CV 12/15; 41/50] END model__C=38.8427775470314, model__epsilon=7.41129978108324;, score=-25.346 total time=   1.3s\n",
      "[CV 13/15; 41/50] START model__C=38.8427775470314, model__epsilon=7.41129978108324\n"
     ]
    },
    {
     "name": "stderr",
     "output_type": "stream",
     "text": [
      "/opt/anaconda3/lib/python3.9/site-packages/sklearn/svm/_base.py:299: ConvergenceWarning: Solver terminated early (max_iter=50000).  Consider pre-processing your data with StandardScaler or MinMaxScaler.\n",
      "  warnings.warn(\n"
     ]
    },
    {
     "name": "stdout",
     "output_type": "stream",
     "text": [
      "[CV 13/15; 41/50] END model__C=38.8427775470314, model__epsilon=7.41129978108324;, score=-23.759 total time=   1.3s\n",
      "[CV 14/15; 41/50] START model__C=38.8427775470314, model__epsilon=7.41129978108324\n"
     ]
    },
    {
     "name": "stderr",
     "output_type": "stream",
     "text": [
      "/opt/anaconda3/lib/python3.9/site-packages/sklearn/svm/_base.py:299: ConvergenceWarning: Solver terminated early (max_iter=50000).  Consider pre-processing your data with StandardScaler or MinMaxScaler.\n",
      "  warnings.warn(\n"
     ]
    },
    {
     "name": "stdout",
     "output_type": "stream",
     "text": [
      "[CV 14/15; 41/50] END model__C=38.8427775470314, model__epsilon=7.41129978108324;, score=-22.865 total time=   1.3s\n",
      "[CV 15/15; 41/50] START model__C=38.8427775470314, model__epsilon=7.41129978108324\n"
     ]
    },
    {
     "name": "stderr",
     "output_type": "stream",
     "text": [
      "/opt/anaconda3/lib/python3.9/site-packages/sklearn/svm/_base.py:299: ConvergenceWarning: Solver terminated early (max_iter=50000).  Consider pre-processing your data with StandardScaler or MinMaxScaler.\n",
      "  warnings.warn(\n"
     ]
    },
    {
     "name": "stdout",
     "output_type": "stream",
     "text": [
      "[CV 15/15; 41/50] END model__C=38.8427775470314, model__epsilon=7.41129978108324;, score=-22.838 total time=   1.3s\n",
      "[CV 1/15; 42/50] START model__C=0.9833181933644887, model__epsilon=0.15512259126484748\n"
     ]
    },
    {
     "name": "stderr",
     "output_type": "stream",
     "text": [
      "/opt/anaconda3/lib/python3.9/site-packages/sklearn/svm/_base.py:299: ConvergenceWarning: Solver terminated early (max_iter=50000).  Consider pre-processing your data with StandardScaler or MinMaxScaler.\n",
      "  warnings.warn(\n"
     ]
    },
    {
     "name": "stdout",
     "output_type": "stream",
     "text": [
      "[CV 1/15; 42/50] END model__C=0.9833181933644887, model__epsilon=0.15512259126484748;, score=-30.372 total time=   1.4s\n",
      "[CV 2/15; 42/50] START model__C=0.9833181933644887, model__epsilon=0.15512259126484748\n"
     ]
    },
    {
     "name": "stderr",
     "output_type": "stream",
     "text": [
      "/opt/anaconda3/lib/python3.9/site-packages/sklearn/svm/_base.py:299: ConvergenceWarning: Solver terminated early (max_iter=50000).  Consider pre-processing your data with StandardScaler or MinMaxScaler.\n",
      "  warnings.warn(\n"
     ]
    },
    {
     "name": "stdout",
     "output_type": "stream",
     "text": [
      "[CV 2/15; 42/50] END model__C=0.9833181933644887, model__epsilon=0.15512259126484748;, score=-29.014 total time=   1.4s\n",
      "[CV 3/15; 42/50] START model__C=0.9833181933644887, model__epsilon=0.15512259126484748\n"
     ]
    },
    {
     "name": "stderr",
     "output_type": "stream",
     "text": [
      "/opt/anaconda3/lib/python3.9/site-packages/sklearn/svm/_base.py:299: ConvergenceWarning: Solver terminated early (max_iter=50000).  Consider pre-processing your data with StandardScaler or MinMaxScaler.\n",
      "  warnings.warn(\n"
     ]
    },
    {
     "name": "stdout",
     "output_type": "stream",
     "text": [
      "[CV 3/15; 42/50] END model__C=0.9833181933644887, model__epsilon=0.15512259126484748;, score=-25.393 total time=   1.4s\n",
      "[CV 4/15; 42/50] START model__C=0.9833181933644887, model__epsilon=0.15512259126484748\n"
     ]
    },
    {
     "name": "stderr",
     "output_type": "stream",
     "text": [
      "/opt/anaconda3/lib/python3.9/site-packages/sklearn/svm/_base.py:299: ConvergenceWarning: Solver terminated early (max_iter=50000).  Consider pre-processing your data with StandardScaler or MinMaxScaler.\n",
      "  warnings.warn(\n"
     ]
    },
    {
     "name": "stdout",
     "output_type": "stream",
     "text": [
      "[CV 4/15; 42/50] END model__C=0.9833181933644887, model__epsilon=0.15512259126484748;, score=-25.009 total time=   1.4s\n",
      "[CV 5/15; 42/50] START model__C=0.9833181933644887, model__epsilon=0.15512259126484748\n"
     ]
    },
    {
     "name": "stderr",
     "output_type": "stream",
     "text": [
      "/opt/anaconda3/lib/python3.9/site-packages/sklearn/svm/_base.py:299: ConvergenceWarning: Solver terminated early (max_iter=50000).  Consider pre-processing your data with StandardScaler or MinMaxScaler.\n",
      "  warnings.warn(\n"
     ]
    },
    {
     "name": "stdout",
     "output_type": "stream",
     "text": [
      "[CV 5/15; 42/50] END model__C=0.9833181933644887, model__epsilon=0.15512259126484748;, score=-26.278 total time=   1.4s\n",
      "[CV 6/15; 42/50] START model__C=0.9833181933644887, model__epsilon=0.15512259126484748\n"
     ]
    },
    {
     "name": "stderr",
     "output_type": "stream",
     "text": [
      "/opt/anaconda3/lib/python3.9/site-packages/sklearn/svm/_base.py:299: ConvergenceWarning: Solver terminated early (max_iter=50000).  Consider pre-processing your data with StandardScaler or MinMaxScaler.\n",
      "  warnings.warn(\n"
     ]
    },
    {
     "name": "stdout",
     "output_type": "stream",
     "text": [
      "[CV 6/15; 42/50] END model__C=0.9833181933644887, model__epsilon=0.15512259126484748;, score=-29.973 total time=   1.4s\n",
      "[CV 7/15; 42/50] START model__C=0.9833181933644887, model__epsilon=0.15512259126484748\n",
      "[CV 7/15; 42/50] END model__C=0.9833181933644887, model__epsilon=0.15512259126484748;, score=-29.196 total time=   1.3s\n",
      "[CV 8/15; 42/50] START model__C=0.9833181933644887, model__epsilon=0.15512259126484748\n"
     ]
    },
    {
     "name": "stderr",
     "output_type": "stream",
     "text": [
      "/opt/anaconda3/lib/python3.9/site-packages/sklearn/svm/_base.py:299: ConvergenceWarning: Solver terminated early (max_iter=50000).  Consider pre-processing your data with StandardScaler or MinMaxScaler.\n",
      "  warnings.warn(\n"
     ]
    },
    {
     "name": "stdout",
     "output_type": "stream",
     "text": [
      "[CV 8/15; 42/50] END model__C=0.9833181933644887, model__epsilon=0.15512259126484748;, score=-25.738 total time=   1.4s\n",
      "[CV 9/15; 42/50] START model__C=0.9833181933644887, model__epsilon=0.15512259126484748\n"
     ]
    },
    {
     "name": "stderr",
     "output_type": "stream",
     "text": [
      "/opt/anaconda3/lib/python3.9/site-packages/sklearn/svm/_base.py:299: ConvergenceWarning: Solver terminated early (max_iter=50000).  Consider pre-processing your data with StandardScaler or MinMaxScaler.\n",
      "  warnings.warn(\n"
     ]
    },
    {
     "name": "stdout",
     "output_type": "stream",
     "text": [
      "[CV 9/15; 42/50] END model__C=0.9833181933644887, model__epsilon=0.15512259126484748;, score=-24.765 total time=   1.4s\n",
      "[CV 10/15; 42/50] START model__C=0.9833181933644887, model__epsilon=0.15512259126484748\n"
     ]
    },
    {
     "name": "stderr",
     "output_type": "stream",
     "text": [
      "/opt/anaconda3/lib/python3.9/site-packages/sklearn/svm/_base.py:299: ConvergenceWarning: Solver terminated early (max_iter=50000).  Consider pre-processing your data with StandardScaler or MinMaxScaler.\n",
      "  warnings.warn(\n"
     ]
    },
    {
     "name": "stdout",
     "output_type": "stream",
     "text": [
      "[CV 10/15; 42/50] END model__C=0.9833181933644887, model__epsilon=0.15512259126484748;, score=-26.205 total time=   1.4s\n",
      "[CV 11/15; 42/50] START model__C=0.9833181933644887, model__epsilon=0.15512259126484748\n"
     ]
    },
    {
     "name": "stderr",
     "output_type": "stream",
     "text": [
      "/opt/anaconda3/lib/python3.9/site-packages/sklearn/svm/_base.py:299: ConvergenceWarning: Solver terminated early (max_iter=50000).  Consider pre-processing your data with StandardScaler or MinMaxScaler.\n",
      "  warnings.warn(\n"
     ]
    },
    {
     "name": "stdout",
     "output_type": "stream",
     "text": [
      "[CV 11/15; 42/50] END model__C=0.9833181933644887, model__epsilon=0.15512259126484748;, score=-30.170 total time=   1.4s\n",
      "[CV 12/15; 42/50] START model__C=0.9833181933644887, model__epsilon=0.15512259126484748\n"
     ]
    },
    {
     "name": "stderr",
     "output_type": "stream",
     "text": [
      "/opt/anaconda3/lib/python3.9/site-packages/sklearn/svm/_base.py:299: ConvergenceWarning: Solver terminated early (max_iter=50000).  Consider pre-processing your data with StandardScaler or MinMaxScaler.\n",
      "  warnings.warn(\n"
     ]
    },
    {
     "name": "stdout",
     "output_type": "stream",
     "text": [
      "[CV 12/15; 42/50] END model__C=0.9833181933644887, model__epsilon=0.15512259126484748;, score=-29.381 total time=   1.4s\n",
      "[CV 13/15; 42/50] START model__C=0.9833181933644887, model__epsilon=0.15512259126484748\n"
     ]
    },
    {
     "name": "stderr",
     "output_type": "stream",
     "text": [
      "/opt/anaconda3/lib/python3.9/site-packages/sklearn/svm/_base.py:299: ConvergenceWarning: Solver terminated early (max_iter=50000).  Consider pre-processing your data with StandardScaler or MinMaxScaler.\n",
      "  warnings.warn(\n"
     ]
    },
    {
     "name": "stdout",
     "output_type": "stream",
     "text": [
      "[CV 13/15; 42/50] END model__C=0.9833181933644887, model__epsilon=0.15512259126484748;, score=-25.496 total time=   1.4s\n",
      "[CV 14/15; 42/50] START model__C=0.9833181933644887, model__epsilon=0.15512259126484748\n"
     ]
    },
    {
     "name": "stderr",
     "output_type": "stream",
     "text": [
      "/opt/anaconda3/lib/python3.9/site-packages/sklearn/svm/_base.py:299: ConvergenceWarning: Solver terminated early (max_iter=50000).  Consider pre-processing your data with StandardScaler or MinMaxScaler.\n",
      "  warnings.warn(\n"
     ]
    },
    {
     "name": "stdout",
     "output_type": "stream",
     "text": [
      "[CV 14/15; 42/50] END model__C=0.9833181933644887, model__epsilon=0.15512259126484748;, score=-25.020 total time=   1.4s\n",
      "[CV 15/15; 42/50] START model__C=0.9833181933644887, model__epsilon=0.15512259126484748\n"
     ]
    },
    {
     "name": "stderr",
     "output_type": "stream",
     "text": [
      "/opt/anaconda3/lib/python3.9/site-packages/sklearn/svm/_base.py:299: ConvergenceWarning: Solver terminated early (max_iter=50000).  Consider pre-processing your data with StandardScaler or MinMaxScaler.\n",
      "  warnings.warn(\n"
     ]
    },
    {
     "name": "stdout",
     "output_type": "stream",
     "text": [
      "[CV 15/15; 42/50] END model__C=0.9833181933644887, model__epsilon=0.15512259126484748;, score=-25.876 total time=   1.4s\n",
      "[CV 1/15; 43/50] START model__C=0.8569331925053982, model__epsilon=0.9452571391072306\n"
     ]
    },
    {
     "name": "stderr",
     "output_type": "stream",
     "text": [
      "/opt/anaconda3/lib/python3.9/site-packages/sklearn/svm/_base.py:299: ConvergenceWarning: Solver terminated early (max_iter=50000).  Consider pre-processing your data with StandardScaler or MinMaxScaler.\n",
      "  warnings.warn(\n"
     ]
    },
    {
     "name": "stdout",
     "output_type": "stream",
     "text": [
      "[CV 1/15; 43/50] END model__C=0.8569331925053982, model__epsilon=0.9452571391072306;, score=-30.668 total time=   1.2s\n",
      "[CV 2/15; 43/50] START model__C=0.8569331925053982, model__epsilon=0.9452571391072306\n",
      "[CV 2/15; 43/50] END model__C=0.8569331925053982, model__epsilon=0.9452571391072306;, score=-29.409 total time=   1.2s\n",
      "[CV 3/15; 43/50] START model__C=0.8569331925053982, model__epsilon=0.9452571391072306\n"
     ]
    },
    {
     "name": "stderr",
     "output_type": "stream",
     "text": [
      "/opt/anaconda3/lib/python3.9/site-packages/sklearn/svm/_base.py:299: ConvergenceWarning: Solver terminated early (max_iter=50000).  Consider pre-processing your data with StandardScaler or MinMaxScaler.\n",
      "  warnings.warn(\n"
     ]
    },
    {
     "name": "stdout",
     "output_type": "stream",
     "text": [
      "[CV 3/15; 43/50] END model__C=0.8569331925053982, model__epsilon=0.9452571391072306;, score=-25.922 total time=   1.2s\n",
      "[CV 4/15; 43/50] START model__C=0.8569331925053982, model__epsilon=0.9452571391072306\n",
      "[CV 4/15; 43/50] END model__C=0.8569331925053982, model__epsilon=0.9452571391072306;, score=-25.527 total time=   1.2s\n",
      "[CV 5/15; 43/50] START model__C=0.8569331925053982, model__epsilon=0.9452571391072306\n"
     ]
    },
    {
     "name": "stderr",
     "output_type": "stream",
     "text": [
      "/opt/anaconda3/lib/python3.9/site-packages/sklearn/svm/_base.py:299: ConvergenceWarning: Solver terminated early (max_iter=50000).  Consider pre-processing your data with StandardScaler or MinMaxScaler.\n",
      "  warnings.warn(\n"
     ]
    },
    {
     "name": "stdout",
     "output_type": "stream",
     "text": [
      "[CV 5/15; 43/50] END model__C=0.8569331925053982, model__epsilon=0.9452571391072306;, score=-26.482 total time=   1.2s\n",
      "[CV 6/15; 43/50] START model__C=0.8569331925053982, model__epsilon=0.9452571391072306\n",
      "[CV 6/15; 43/50] END model__C=0.8569331925053982, model__epsilon=0.9452571391072306;, score=-30.493 total time=   1.2s\n",
      "[CV 7/15; 43/50] START model__C=0.8569331925053982, model__epsilon=0.9452571391072306\n",
      "[CV 7/15; 43/50] END model__C=0.8569331925053982, model__epsilon=0.9452571391072306;, score=-29.622 total time=   1.2s\n",
      "[CV 8/15; 43/50] START model__C=0.8569331925053982, model__epsilon=0.9452571391072306\n",
      "[CV 8/15; 43/50] END model__C=0.8569331925053982, model__epsilon=0.9452571391072306;, score=-26.027 total time=   1.2s\n",
      "[CV 9/15; 43/50] START model__C=0.8569331925053982, model__epsilon=0.9452571391072306\n",
      "[CV 9/15; 43/50] END model__C=0.8569331925053982, model__epsilon=0.9452571391072306;, score=-25.281 total time=   1.2s\n",
      "[CV 10/15; 43/50] START model__C=0.8569331925053982, model__epsilon=0.9452571391072306\n"
     ]
    },
    {
     "name": "stderr",
     "output_type": "stream",
     "text": [
      "/opt/anaconda3/lib/python3.9/site-packages/sklearn/svm/_base.py:299: ConvergenceWarning: Solver terminated early (max_iter=50000).  Consider pre-processing your data with StandardScaler or MinMaxScaler.\n",
      "  warnings.warn(\n"
     ]
    },
    {
     "name": "stdout",
     "output_type": "stream",
     "text": [
      "[CV 10/15; 43/50] END model__C=0.8569331925053982, model__epsilon=0.9452571391072306;, score=-26.515 total time=   1.2s\n",
      "[CV 11/15; 43/50] START model__C=0.8569331925053982, model__epsilon=0.9452571391072306\n",
      "[CV 11/15; 43/50] END model__C=0.8569331925053982, model__epsilon=0.9452571391072306;, score=-30.469 total time=   1.2s\n",
      "[CV 12/15; 43/50] START model__C=0.8569331925053982, model__epsilon=0.9452571391072306\n"
     ]
    },
    {
     "name": "stderr",
     "output_type": "stream",
     "text": [
      "/opt/anaconda3/lib/python3.9/site-packages/sklearn/svm/_base.py:299: ConvergenceWarning: Solver terminated early (max_iter=50000).  Consider pre-processing your data with StandardScaler or MinMaxScaler.\n",
      "  warnings.warn(\n"
     ]
    },
    {
     "name": "stdout",
     "output_type": "stream",
     "text": [
      "[CV 12/15; 43/50] END model__C=0.8569331925053982, model__epsilon=0.9452571391072306;, score=-29.803 total time=   1.2s\n",
      "[CV 13/15; 43/50] START model__C=0.8569331925053982, model__epsilon=0.9452571391072306\n",
      "[CV 13/15; 43/50] END model__C=0.8569331925053982, model__epsilon=0.9452571391072306;, score=-25.931 total time=   1.2s\n",
      "[CV 14/15; 43/50] START model__C=0.8569331925053982, model__epsilon=0.9452571391072306\n"
     ]
    },
    {
     "name": "stderr",
     "output_type": "stream",
     "text": [
      "/opt/anaconda3/lib/python3.9/site-packages/sklearn/svm/_base.py:299: ConvergenceWarning: Solver terminated early (max_iter=50000).  Consider pre-processing your data with StandardScaler or MinMaxScaler.\n",
      "  warnings.warn(\n"
     ]
    },
    {
     "name": "stdout",
     "output_type": "stream",
     "text": [
      "[CV 14/15; 43/50] END model__C=0.8569331925053982, model__epsilon=0.9452571391072306;, score=-25.506 total time=   1.2s\n",
      "[CV 15/15; 43/50] START model__C=0.8569331925053982, model__epsilon=0.9452571391072306\n",
      "[CV 15/15; 43/50] END model__C=0.8569331925053982, model__epsilon=0.9452571391072306;, score=-26.163 total time=   1.2s\n",
      "[CV 1/15; 44/50] START model__C=15.446089075047073, model__epsilon=8.178476574339538\n"
     ]
    },
    {
     "name": "stderr",
     "output_type": "stream",
     "text": [
      "/opt/anaconda3/lib/python3.9/site-packages/sklearn/svm/_base.py:299: ConvergenceWarning: Solver terminated early (max_iter=50000).  Consider pre-processing your data with StandardScaler or MinMaxScaler.\n",
      "  warnings.warn(\n"
     ]
    },
    {
     "name": "stdout",
     "output_type": "stream",
     "text": [
      "[CV 1/15; 44/50] END model__C=15.446089075047073, model__epsilon=8.178476574339538;, score=-27.455 total time=   0.9s\n",
      "[CV 2/15; 44/50] START model__C=15.446089075047073, model__epsilon=8.178476574339538\n"
     ]
    },
    {
     "name": "stderr",
     "output_type": "stream",
     "text": [
      "/opt/anaconda3/lib/python3.9/site-packages/sklearn/svm/_base.py:299: ConvergenceWarning: Solver terminated early (max_iter=50000).  Consider pre-processing your data with StandardScaler or MinMaxScaler.\n",
      "  warnings.warn(\n"
     ]
    },
    {
     "name": "stdout",
     "output_type": "stream",
     "text": [
      "[CV 2/15; 44/50] END model__C=15.446089075047073, model__epsilon=8.178476574339538;, score=-26.122 total time=   0.9s\n",
      "[CV 3/15; 44/50] START model__C=15.446089075047073, model__epsilon=8.178476574339538\n"
     ]
    },
    {
     "name": "stderr",
     "output_type": "stream",
     "text": [
      "/opt/anaconda3/lib/python3.9/site-packages/sklearn/svm/_base.py:299: ConvergenceWarning: Solver terminated early (max_iter=50000).  Consider pre-processing your data with StandardScaler or MinMaxScaler.\n",
      "  warnings.warn(\n"
     ]
    },
    {
     "name": "stdout",
     "output_type": "stream",
     "text": [
      "[CV 3/15; 44/50] END model__C=15.446089075047073, model__epsilon=8.178476574339538;, score=-22.574 total time=   0.9s\n",
      "[CV 4/15; 44/50] START model__C=15.446089075047073, model__epsilon=8.178476574339538\n"
     ]
    },
    {
     "name": "stderr",
     "output_type": "stream",
     "text": [
      "/opt/anaconda3/lib/python3.9/site-packages/sklearn/svm/_base.py:299: ConvergenceWarning: Solver terminated early (max_iter=50000).  Consider pre-processing your data with StandardScaler or MinMaxScaler.\n",
      "  warnings.warn(\n"
     ]
    },
    {
     "name": "stdout",
     "output_type": "stream",
     "text": [
      "[CV 4/15; 44/50] END model__C=15.446089075047073, model__epsilon=8.178476574339538;, score=-21.820 total time=   0.9s\n",
      "[CV 5/15; 44/50] START model__C=15.446089075047073, model__epsilon=8.178476574339538\n"
     ]
    },
    {
     "name": "stderr",
     "output_type": "stream",
     "text": [
      "/opt/anaconda3/lib/python3.9/site-packages/sklearn/svm/_base.py:299: ConvergenceWarning: Solver terminated early (max_iter=50000).  Consider pre-processing your data with StandardScaler or MinMaxScaler.\n",
      "  warnings.warn(\n"
     ]
    },
    {
     "name": "stdout",
     "output_type": "stream",
     "text": [
      "[CV 5/15; 44/50] END model__C=15.446089075047073, model__epsilon=8.178476574339538;, score=-24.428 total time=   0.9s\n",
      "[CV 6/15; 44/50] START model__C=15.446089075047073, model__epsilon=8.178476574339538\n"
     ]
    },
    {
     "name": "stderr",
     "output_type": "stream",
     "text": [
      "/opt/anaconda3/lib/python3.9/site-packages/sklearn/svm/_base.py:299: ConvergenceWarning: Solver terminated early (max_iter=50000).  Consider pre-processing your data with StandardScaler or MinMaxScaler.\n",
      "  warnings.warn(\n"
     ]
    },
    {
     "name": "stdout",
     "output_type": "stream",
     "text": [
      "[CV 6/15; 44/50] END model__C=15.446089075047073, model__epsilon=8.178476574339538;, score=-26.980 total time=   0.9s\n",
      "[CV 7/15; 44/50] START model__C=15.446089075047073, model__epsilon=8.178476574339538\n"
     ]
    },
    {
     "name": "stderr",
     "output_type": "stream",
     "text": [
      "/opt/anaconda3/lib/python3.9/site-packages/sklearn/svm/_base.py:299: ConvergenceWarning: Solver terminated early (max_iter=50000).  Consider pre-processing your data with StandardScaler or MinMaxScaler.\n",
      "  warnings.warn(\n"
     ]
    },
    {
     "name": "stdout",
     "output_type": "stream",
     "text": [
      "[CV 7/15; 44/50] END model__C=15.446089075047073, model__epsilon=8.178476574339538;, score=-25.612 total time=   0.9s\n",
      "[CV 8/15; 44/50] START model__C=15.446089075047073, model__epsilon=8.178476574339538\n"
     ]
    },
    {
     "name": "stderr",
     "output_type": "stream",
     "text": [
      "/opt/anaconda3/lib/python3.9/site-packages/sklearn/svm/_base.py:299: ConvergenceWarning: Solver terminated early (max_iter=50000).  Consider pre-processing your data with StandardScaler or MinMaxScaler.\n",
      "  warnings.warn(\n"
     ]
    },
    {
     "name": "stdout",
     "output_type": "stream",
     "text": [
      "[CV 8/15; 44/50] END model__C=15.446089075047073, model__epsilon=8.178476574339538;, score=-23.088 total time=   0.9s\n",
      "[CV 9/15; 44/50] START model__C=15.446089075047073, model__epsilon=8.178476574339538\n"
     ]
    },
    {
     "name": "stderr",
     "output_type": "stream",
     "text": [
      "/opt/anaconda3/lib/python3.9/site-packages/sklearn/svm/_base.py:299: ConvergenceWarning: Solver terminated early (max_iter=50000).  Consider pre-processing your data with StandardScaler or MinMaxScaler.\n",
      "  warnings.warn(\n"
     ]
    },
    {
     "name": "stdout",
     "output_type": "stream",
     "text": [
      "[CV 9/15; 44/50] END model__C=15.446089075047073, model__epsilon=8.178476574339538;, score=-22.788 total time=   0.9s\n",
      "[CV 10/15; 44/50] START model__C=15.446089075047073, model__epsilon=8.178476574339538\n"
     ]
    },
    {
     "name": "stderr",
     "output_type": "stream",
     "text": [
      "/opt/anaconda3/lib/python3.9/site-packages/sklearn/svm/_base.py:299: ConvergenceWarning: Solver terminated early (max_iter=50000).  Consider pre-processing your data with StandardScaler or MinMaxScaler.\n",
      "  warnings.warn(\n"
     ]
    },
    {
     "name": "stdout",
     "output_type": "stream",
     "text": [
      "[CV 10/15; 44/50] END model__C=15.446089075047073, model__epsilon=8.178476574339538;, score=-24.108 total time=   0.9s\n",
      "[CV 11/15; 44/50] START model__C=15.446089075047073, model__epsilon=8.178476574339538\n"
     ]
    },
    {
     "name": "stderr",
     "output_type": "stream",
     "text": [
      "/opt/anaconda3/lib/python3.9/site-packages/sklearn/svm/_base.py:299: ConvergenceWarning: Solver terminated early (max_iter=50000).  Consider pre-processing your data with StandardScaler or MinMaxScaler.\n",
      "  warnings.warn(\n"
     ]
    },
    {
     "name": "stdout",
     "output_type": "stream",
     "text": [
      "[CV 11/15; 44/50] END model__C=15.446089075047073, model__epsilon=8.178476574339538;, score=-27.365 total time=   0.9s\n",
      "[CV 12/15; 44/50] START model__C=15.446089075047073, model__epsilon=8.178476574339538\n"
     ]
    },
    {
     "name": "stderr",
     "output_type": "stream",
     "text": [
      "/opt/anaconda3/lib/python3.9/site-packages/sklearn/svm/_base.py:299: ConvergenceWarning: Solver terminated early (max_iter=50000).  Consider pre-processing your data with StandardScaler or MinMaxScaler.\n",
      "  warnings.warn(\n"
     ]
    },
    {
     "name": "stdout",
     "output_type": "stream",
     "text": [
      "[CV 12/15; 44/50] END model__C=15.446089075047073, model__epsilon=8.178476574339538;, score=-25.710 total time=   0.9s\n",
      "[CV 13/15; 44/50] START model__C=15.446089075047073, model__epsilon=8.178476574339538\n"
     ]
    },
    {
     "name": "stderr",
     "output_type": "stream",
     "text": [
      "/opt/anaconda3/lib/python3.9/site-packages/sklearn/svm/_base.py:299: ConvergenceWarning: Solver terminated early (max_iter=50000).  Consider pre-processing your data with StandardScaler or MinMaxScaler.\n",
      "  warnings.warn(\n"
     ]
    },
    {
     "name": "stdout",
     "output_type": "stream",
     "text": [
      "[CV 13/15; 44/50] END model__C=15.446089075047073, model__epsilon=8.178476574339538;, score=-23.600 total time=   0.9s\n",
      "[CV 14/15; 44/50] START model__C=15.446089075047073, model__epsilon=8.178476574339538\n"
     ]
    },
    {
     "name": "stderr",
     "output_type": "stream",
     "text": [
      "/opt/anaconda3/lib/python3.9/site-packages/sklearn/svm/_base.py:299: ConvergenceWarning: Solver terminated early (max_iter=50000).  Consider pre-processing your data with StandardScaler or MinMaxScaler.\n",
      "  warnings.warn(\n"
     ]
    },
    {
     "name": "stdout",
     "output_type": "stream",
     "text": [
      "[CV 14/15; 44/50] END model__C=15.446089075047073, model__epsilon=8.178476574339538;, score=-22.955 total time=   0.9s\n",
      "[CV 15/15; 44/50] START model__C=15.446089075047073, model__epsilon=8.178476574339538\n"
     ]
    },
    {
     "name": "stderr",
     "output_type": "stream",
     "text": [
      "/opt/anaconda3/lib/python3.9/site-packages/sklearn/svm/_base.py:299: ConvergenceWarning: Solver terminated early (max_iter=50000).  Consider pre-processing your data with StandardScaler or MinMaxScaler.\n",
      "  warnings.warn(\n"
     ]
    },
    {
     "name": "stdout",
     "output_type": "stream",
     "text": [
      "[CV 15/15; 44/50] END model__C=15.446089075047073, model__epsilon=8.178476574339538;, score=-23.015 total time=   0.9s\n",
      "[CV 1/15; 45/50] START model__C=45.88156549160973, model__epsilon=2.610025650613476\n"
     ]
    },
    {
     "name": "stderr",
     "output_type": "stream",
     "text": [
      "/opt/anaconda3/lib/python3.9/site-packages/sklearn/svm/_base.py:299: ConvergenceWarning: Solver terminated early (max_iter=50000).  Consider pre-processing your data with StandardScaler or MinMaxScaler.\n",
      "  warnings.warn(\n"
     ]
    },
    {
     "name": "stdout",
     "output_type": "stream",
     "text": [
      "[CV 1/15; 45/50] END model__C=45.88156549160973, model__epsilon=2.610025650613476;, score=-26.273 total time=   2.1s\n",
      "[CV 2/15; 45/50] START model__C=45.88156549160973, model__epsilon=2.610025650613476\n"
     ]
    },
    {
     "name": "stderr",
     "output_type": "stream",
     "text": [
      "/opt/anaconda3/lib/python3.9/site-packages/sklearn/svm/_base.py:299: ConvergenceWarning: Solver terminated early (max_iter=50000).  Consider pre-processing your data with StandardScaler or MinMaxScaler.\n",
      "  warnings.warn(\n"
     ]
    },
    {
     "name": "stdout",
     "output_type": "stream",
     "text": [
      "[CV 2/15; 45/50] END model__C=45.88156549160973, model__epsilon=2.610025650613476;, score=-25.148 total time=   2.2s\n",
      "[CV 3/15; 45/50] START model__C=45.88156549160973, model__epsilon=2.610025650613476\n"
     ]
    },
    {
     "name": "stderr",
     "output_type": "stream",
     "text": [
      "/opt/anaconda3/lib/python3.9/site-packages/sklearn/svm/_base.py:299: ConvergenceWarning: Solver terminated early (max_iter=50000).  Consider pre-processing your data with StandardScaler or MinMaxScaler.\n",
      "  warnings.warn(\n"
     ]
    },
    {
     "name": "stdout",
     "output_type": "stream",
     "text": [
      "[CV 3/15; 45/50] END model__C=45.88156549160973, model__epsilon=2.610025650613476;, score=-21.740 total time=   2.3s\n",
      "[CV 4/15; 45/50] START model__C=45.88156549160973, model__epsilon=2.610025650613476\n"
     ]
    },
    {
     "name": "stderr",
     "output_type": "stream",
     "text": [
      "/opt/anaconda3/lib/python3.9/site-packages/sklearn/svm/_base.py:299: ConvergenceWarning: Solver terminated early (max_iter=50000).  Consider pre-processing your data with StandardScaler or MinMaxScaler.\n",
      "  warnings.warn(\n"
     ]
    },
    {
     "name": "stdout",
     "output_type": "stream",
     "text": [
      "[CV 4/15; 45/50] END model__C=45.88156549160973, model__epsilon=2.610025650613476;, score=-21.057 total time=   2.2s\n",
      "[CV 5/15; 45/50] START model__C=45.88156549160973, model__epsilon=2.610025650613476\n"
     ]
    },
    {
     "name": "stderr",
     "output_type": "stream",
     "text": [
      "/opt/anaconda3/lib/python3.9/site-packages/sklearn/svm/_base.py:299: ConvergenceWarning: Solver terminated early (max_iter=50000).  Consider pre-processing your data with StandardScaler or MinMaxScaler.\n",
      "  warnings.warn(\n"
     ]
    },
    {
     "name": "stdout",
     "output_type": "stream",
     "text": [
      "[CV 5/15; 45/50] END model__C=45.88156549160973, model__epsilon=2.610025650613476;, score=-23.544 total time=   2.2s\n",
      "[CV 6/15; 45/50] START model__C=45.88156549160973, model__epsilon=2.610025650613476\n"
     ]
    },
    {
     "name": "stderr",
     "output_type": "stream",
     "text": [
      "/opt/anaconda3/lib/python3.9/site-packages/sklearn/svm/_base.py:299: ConvergenceWarning: Solver terminated early (max_iter=50000).  Consider pre-processing your data with StandardScaler or MinMaxScaler.\n",
      "  warnings.warn(\n"
     ]
    },
    {
     "name": "stdout",
     "output_type": "stream",
     "text": [
      "[CV 6/15; 45/50] END model__C=45.88156549160973, model__epsilon=2.610025650613476;, score=-25.866 total time=   2.2s\n",
      "[CV 7/15; 45/50] START model__C=45.88156549160973, model__epsilon=2.610025650613476\n"
     ]
    },
    {
     "name": "stderr",
     "output_type": "stream",
     "text": [
      "/opt/anaconda3/lib/python3.9/site-packages/sklearn/svm/_base.py:299: ConvergenceWarning: Solver terminated early (max_iter=50000).  Consider pre-processing your data with StandardScaler or MinMaxScaler.\n",
      "  warnings.warn(\n"
     ]
    },
    {
     "name": "stdout",
     "output_type": "stream",
     "text": [
      "[CV 7/15; 45/50] END model__C=45.88156549160973, model__epsilon=2.610025650613476;, score=-24.560 total time=   2.1s\n",
      "[CV 8/15; 45/50] START model__C=45.88156549160973, model__epsilon=2.610025650613476\n"
     ]
    },
    {
     "name": "stderr",
     "output_type": "stream",
     "text": [
      "/opt/anaconda3/lib/python3.9/site-packages/sklearn/svm/_base.py:299: ConvergenceWarning: Solver terminated early (max_iter=50000).  Consider pre-processing your data with StandardScaler or MinMaxScaler.\n",
      "  warnings.warn(\n"
     ]
    },
    {
     "name": "stdout",
     "output_type": "stream",
     "text": [
      "[CV 8/15; 45/50] END model__C=45.88156549160973, model__epsilon=2.610025650613476;, score=-22.338 total time=   2.2s\n",
      "[CV 9/15; 45/50] START model__C=45.88156549160973, model__epsilon=2.610025650613476\n"
     ]
    },
    {
     "name": "stderr",
     "output_type": "stream",
     "text": [
      "/opt/anaconda3/lib/python3.9/site-packages/sklearn/svm/_base.py:299: ConvergenceWarning: Solver terminated early (max_iter=50000).  Consider pre-processing your data with StandardScaler or MinMaxScaler.\n",
      "  warnings.warn(\n"
     ]
    },
    {
     "name": "stdout",
     "output_type": "stream",
     "text": [
      "[CV 9/15; 45/50] END model__C=45.88156549160973, model__epsilon=2.610025650613476;, score=-21.858 total time=   2.2s\n",
      "[CV 10/15; 45/50] START model__C=45.88156549160973, model__epsilon=2.610025650613476\n"
     ]
    },
    {
     "name": "stderr",
     "output_type": "stream",
     "text": [
      "/opt/anaconda3/lib/python3.9/site-packages/sklearn/svm/_base.py:299: ConvergenceWarning: Solver terminated early (max_iter=50000).  Consider pre-processing your data with StandardScaler or MinMaxScaler.\n",
      "  warnings.warn(\n"
     ]
    },
    {
     "name": "stdout",
     "output_type": "stream",
     "text": [
      "[CV 10/15; 45/50] END model__C=45.88156549160973, model__epsilon=2.610025650613476;, score=-23.227 total time=   2.2s\n",
      "[CV 11/15; 45/50] START model__C=45.88156549160973, model__epsilon=2.610025650613476\n"
     ]
    },
    {
     "name": "stderr",
     "output_type": "stream",
     "text": [
      "/opt/anaconda3/lib/python3.9/site-packages/sklearn/svm/_base.py:299: ConvergenceWarning: Solver terminated early (max_iter=50000).  Consider pre-processing your data with StandardScaler or MinMaxScaler.\n",
      "  warnings.warn(\n"
     ]
    },
    {
     "name": "stdout",
     "output_type": "stream",
     "text": [
      "[CV 11/15; 45/50] END model__C=45.88156549160973, model__epsilon=2.610025650613476;, score=-26.281 total time=   2.1s\n",
      "[CV 12/15; 45/50] START model__C=45.88156549160973, model__epsilon=2.610025650613476\n"
     ]
    },
    {
     "name": "stderr",
     "output_type": "stream",
     "text": [
      "/opt/anaconda3/lib/python3.9/site-packages/sklearn/svm/_base.py:299: ConvergenceWarning: Solver terminated early (max_iter=50000).  Consider pre-processing your data with StandardScaler or MinMaxScaler.\n",
      "  warnings.warn(\n"
     ]
    },
    {
     "name": "stdout",
     "output_type": "stream",
     "text": [
      "[CV 12/15; 45/50] END model__C=45.88156549160973, model__epsilon=2.610025650613476;, score=-24.665 total time=   2.2s\n",
      "[CV 13/15; 45/50] START model__C=45.88156549160973, model__epsilon=2.610025650613476\n"
     ]
    },
    {
     "name": "stderr",
     "output_type": "stream",
     "text": [
      "/opt/anaconda3/lib/python3.9/site-packages/sklearn/svm/_base.py:299: ConvergenceWarning: Solver terminated early (max_iter=50000).  Consider pre-processing your data with StandardScaler or MinMaxScaler.\n",
      "  warnings.warn(\n"
     ]
    },
    {
     "name": "stdout",
     "output_type": "stream",
     "text": [
      "[CV 13/15; 45/50] END model__C=45.88156549160973, model__epsilon=2.610025650613476;, score=-22.950 total time=   2.2s\n",
      "[CV 14/15; 45/50] START model__C=45.88156549160973, model__epsilon=2.610025650613476\n"
     ]
    },
    {
     "name": "stderr",
     "output_type": "stream",
     "text": [
      "/opt/anaconda3/lib/python3.9/site-packages/sklearn/svm/_base.py:299: ConvergenceWarning: Solver terminated early (max_iter=50000).  Consider pre-processing your data with StandardScaler or MinMaxScaler.\n",
      "  warnings.warn(\n"
     ]
    },
    {
     "name": "stdout",
     "output_type": "stream",
     "text": [
      "[CV 14/15; 45/50] END model__C=45.88156549160973, model__epsilon=2.610025650613476;, score=-22.175 total time=   2.2s\n",
      "[CV 15/15; 45/50] START model__C=45.88156549160973, model__epsilon=2.610025650613476\n"
     ]
    },
    {
     "name": "stderr",
     "output_type": "stream",
     "text": [
      "/opt/anaconda3/lib/python3.9/site-packages/sklearn/svm/_base.py:299: ConvergenceWarning: Solver terminated early (max_iter=50000).  Consider pre-processing your data with StandardScaler or MinMaxScaler.\n",
      "  warnings.warn(\n"
     ]
    },
    {
     "name": "stdout",
     "output_type": "stream",
     "text": [
      "[CV 15/15; 45/50] END model__C=45.88156549160973, model__epsilon=2.610025650613476;, score=-22.121 total time=   2.2s\n",
      "[CV 1/15; 46/50] START model__C=0.22844556850020528, model__epsilon=13.795402040204177\n",
      "[CV 1/15; 46/50] END model__C=0.22844556850020528, model__epsilon=13.795402040204177;, score=-39.048 total time=   0.6s\n",
      "[CV 2/15; 46/50] START model__C=0.22844556850020528, model__epsilon=13.795402040204177\n",
      "[CV 2/15; 46/50] END model__C=0.22844556850020528, model__epsilon=13.795402040204177;, score=-37.864 total time=   0.6s\n",
      "[CV 3/15; 46/50] START model__C=0.22844556850020528, model__epsilon=13.795402040204177\n",
      "[CV 3/15; 46/50] END model__C=0.22844556850020528, model__epsilon=13.795402040204177;, score=-34.395 total time=   0.6s\n",
      "[CV 4/15; 46/50] START model__C=0.22844556850020528, model__epsilon=13.795402040204177\n",
      "[CV 4/15; 46/50] END model__C=0.22844556850020528, model__epsilon=13.795402040204177;, score=-33.827 total time=   0.6s\n",
      "[CV 5/15; 46/50] START model__C=0.22844556850020528, model__epsilon=13.795402040204177\n",
      "[CV 5/15; 46/50] END model__C=0.22844556850020528, model__epsilon=13.795402040204177;, score=-34.482 total time=   0.6s\n",
      "[CV 6/15; 46/50] START model__C=0.22844556850020528, model__epsilon=13.795402040204177\n",
      "[CV 6/15; 46/50] END model__C=0.22844556850020528, model__epsilon=13.795402040204177;, score=-38.998 total time=   0.6s\n",
      "[CV 7/15; 46/50] START model__C=0.22844556850020528, model__epsilon=13.795402040204177\n",
      "[CV 7/15; 46/50] END model__C=0.22844556850020528, model__epsilon=13.795402040204177;, score=-38.004 total time=   0.6s\n",
      "[CV 8/15; 46/50] START model__C=0.22844556850020528, model__epsilon=13.795402040204177\n",
      "[CV 8/15; 46/50] END model__C=0.22844556850020528, model__epsilon=13.795402040204177;, score=-34.414 total time=   0.6s\n",
      "[CV 9/15; 46/50] START model__C=0.22844556850020528, model__epsilon=13.795402040204177\n",
      "[CV 9/15; 46/50] END model__C=0.22844556850020528, model__epsilon=13.795402040204177;, score=-33.697 total time=   0.6s\n",
      "[CV 10/15; 46/50] START model__C=0.22844556850020528, model__epsilon=13.795402040204177\n",
      "[CV 10/15; 46/50] END model__C=0.22844556850020528, model__epsilon=13.795402040204177;, score=-34.499 total time=   0.6s\n",
      "[CV 11/15; 46/50] START model__C=0.22844556850020528, model__epsilon=13.795402040204177\n",
      "[CV 11/15; 46/50] END model__C=0.22844556850020528, model__epsilon=13.795402040204177;, score=-39.003 total time=   0.6s\n",
      "[CV 12/15; 46/50] START model__C=0.22844556850020528, model__epsilon=13.795402040204177\n",
      "[CV 12/15; 46/50] END model__C=0.22844556850020528, model__epsilon=13.795402040204177;, score=-37.952 total time=   0.6s\n",
      "[CV 13/15; 46/50] START model__C=0.22844556850020528, model__epsilon=13.795402040204177\n",
      "[CV 13/15; 46/50] END model__C=0.22844556850020528, model__epsilon=13.795402040204177;, score=-34.229 total time=   0.6s\n",
      "[CV 14/15; 46/50] START model__C=0.22844556850020528, model__epsilon=13.795402040204177\n",
      "[CV 14/15; 46/50] END model__C=0.22844556850020528, model__epsilon=13.795402040204177;, score=-33.838 total time=   0.6s\n",
      "[CV 15/15; 46/50] START model__C=0.22844556850020528, model__epsilon=13.795402040204177\n",
      "[CV 15/15; 46/50] END model__C=0.22844556850020528, model__epsilon=13.795402040204177;, score=-34.593 total time=   0.6s\n",
      "[CV 1/15; 47/50] START model__C=19.158219548093165, model__epsilon=4.8287152161792095\n"
     ]
    },
    {
     "name": "stderr",
     "output_type": "stream",
     "text": [
      "/opt/anaconda3/lib/python3.9/site-packages/sklearn/svm/_base.py:299: ConvergenceWarning: Solver terminated early (max_iter=50000).  Consider pre-processing your data with StandardScaler or MinMaxScaler.\n",
      "  warnings.warn(\n"
     ]
    },
    {
     "name": "stdout",
     "output_type": "stream",
     "text": [
      "[CV 1/15; 47/50] END model__C=19.158219548093165, model__epsilon=4.8287152161792095;, score=-26.647 total time=   1.2s\n",
      "[CV 2/15; 47/50] START model__C=19.158219548093165, model__epsilon=4.8287152161792095\n"
     ]
    },
    {
     "name": "stderr",
     "output_type": "stream",
     "text": [
      "/opt/anaconda3/lib/python3.9/site-packages/sklearn/svm/_base.py:299: ConvergenceWarning: Solver terminated early (max_iter=50000).  Consider pre-processing your data with StandardScaler or MinMaxScaler.\n",
      "  warnings.warn(\n"
     ]
    },
    {
     "name": "stdout",
     "output_type": "stream",
     "text": [
      "[CV 2/15; 47/50] END model__C=19.158219548093165, model__epsilon=4.8287152161792095;, score=-25.521 total time=   1.3s\n",
      "[CV 3/15; 47/50] START model__C=19.158219548093165, model__epsilon=4.8287152161792095\n"
     ]
    },
    {
     "name": "stderr",
     "output_type": "stream",
     "text": [
      "/opt/anaconda3/lib/python3.9/site-packages/sklearn/svm/_base.py:299: ConvergenceWarning: Solver terminated early (max_iter=50000).  Consider pre-processing your data with StandardScaler or MinMaxScaler.\n",
      "  warnings.warn(\n"
     ]
    },
    {
     "name": "stdout",
     "output_type": "stream",
     "text": [
      "[CV 3/15; 47/50] END model__C=19.158219548093165, model__epsilon=4.8287152161792095;, score=-21.908 total time=   1.2s\n",
      "[CV 4/15; 47/50] START model__C=19.158219548093165, model__epsilon=4.8287152161792095\n"
     ]
    },
    {
     "name": "stderr",
     "output_type": "stream",
     "text": [
      "/opt/anaconda3/lib/python3.9/site-packages/sklearn/svm/_base.py:299: ConvergenceWarning: Solver terminated early (max_iter=50000).  Consider pre-processing your data with StandardScaler or MinMaxScaler.\n",
      "  warnings.warn(\n"
     ]
    },
    {
     "name": "stdout",
     "output_type": "stream",
     "text": [
      "[CV 4/15; 47/50] END model__C=19.158219548093165, model__epsilon=4.8287152161792095;, score=-21.238 total time=   1.2s\n",
      "[CV 5/15; 47/50] START model__C=19.158219548093165, model__epsilon=4.8287152161792095\n"
     ]
    },
    {
     "name": "stderr",
     "output_type": "stream",
     "text": [
      "/opt/anaconda3/lib/python3.9/site-packages/sklearn/svm/_base.py:299: ConvergenceWarning: Solver terminated early (max_iter=50000).  Consider pre-processing your data with StandardScaler or MinMaxScaler.\n",
      "  warnings.warn(\n"
     ]
    },
    {
     "name": "stdout",
     "output_type": "stream",
     "text": [
      "[CV 5/15; 47/50] END model__C=19.158219548093165, model__epsilon=4.8287152161792095;, score=-23.827 total time=   1.3s\n",
      "[CV 6/15; 47/50] START model__C=19.158219548093165, model__epsilon=4.8287152161792095\n"
     ]
    },
    {
     "name": "stderr",
     "output_type": "stream",
     "text": [
      "/opt/anaconda3/lib/python3.9/site-packages/sklearn/svm/_base.py:299: ConvergenceWarning: Solver terminated early (max_iter=50000).  Consider pre-processing your data with StandardScaler or MinMaxScaler.\n",
      "  warnings.warn(\n"
     ]
    },
    {
     "name": "stdout",
     "output_type": "stream",
     "text": [
      "[CV 6/15; 47/50] END model__C=19.158219548093165, model__epsilon=4.8287152161792095;, score=-26.313 total time=   1.2s\n",
      "[CV 7/15; 47/50] START model__C=19.158219548093165, model__epsilon=4.8287152161792095\n"
     ]
    },
    {
     "name": "stderr",
     "output_type": "stream",
     "text": [
      "/opt/anaconda3/lib/python3.9/site-packages/sklearn/svm/_base.py:299: ConvergenceWarning: Solver terminated early (max_iter=50000).  Consider pre-processing your data with StandardScaler or MinMaxScaler.\n",
      "  warnings.warn(\n"
     ]
    },
    {
     "name": "stdout",
     "output_type": "stream",
     "text": [
      "[CV 7/15; 47/50] END model__C=19.158219548093165, model__epsilon=4.8287152161792095;, score=-24.859 total time=   1.3s\n",
      "[CV 8/15; 47/50] START model__C=19.158219548093165, model__epsilon=4.8287152161792095\n"
     ]
    },
    {
     "name": "stderr",
     "output_type": "stream",
     "text": [
      "/opt/anaconda3/lib/python3.9/site-packages/sklearn/svm/_base.py:299: ConvergenceWarning: Solver terminated early (max_iter=50000).  Consider pre-processing your data with StandardScaler or MinMaxScaler.\n",
      "  warnings.warn(\n"
     ]
    },
    {
     "name": "stdout",
     "output_type": "stream",
     "text": [
      "[CV 8/15; 47/50] END model__C=19.158219548093165, model__epsilon=4.8287152161792095;, score=-22.485 total time=   1.3s\n",
      "[CV 9/15; 47/50] START model__C=19.158219548093165, model__epsilon=4.8287152161792095\n"
     ]
    },
    {
     "name": "stderr",
     "output_type": "stream",
     "text": [
      "/opt/anaconda3/lib/python3.9/site-packages/sklearn/svm/_base.py:299: ConvergenceWarning: Solver terminated early (max_iter=50000).  Consider pre-processing your data with StandardScaler or MinMaxScaler.\n",
      "  warnings.warn(\n"
     ]
    },
    {
     "name": "stdout",
     "output_type": "stream",
     "text": [
      "[CV 9/15; 47/50] END model__C=19.158219548093165, model__epsilon=4.8287152161792095;, score=-22.098 total time=   1.3s\n",
      "[CV 10/15; 47/50] START model__C=19.158219548093165, model__epsilon=4.8287152161792095\n"
     ]
    },
    {
     "name": "stderr",
     "output_type": "stream",
     "text": [
      "/opt/anaconda3/lib/python3.9/site-packages/sklearn/svm/_base.py:299: ConvergenceWarning: Solver terminated early (max_iter=50000).  Consider pre-processing your data with StandardScaler or MinMaxScaler.\n",
      "  warnings.warn(\n"
     ]
    },
    {
     "name": "stdout",
     "output_type": "stream",
     "text": [
      "[CV 10/15; 47/50] END model__C=19.158219548093165, model__epsilon=4.8287152161792095;, score=-23.521 total time=   1.3s\n",
      "[CV 11/15; 47/50] START model__C=19.158219548093165, model__epsilon=4.8287152161792095\n"
     ]
    },
    {
     "name": "stderr",
     "output_type": "stream",
     "text": [
      "/opt/anaconda3/lib/python3.9/site-packages/sklearn/svm/_base.py:299: ConvergenceWarning: Solver terminated early (max_iter=50000).  Consider pre-processing your data with StandardScaler or MinMaxScaler.\n",
      "  warnings.warn(\n"
     ]
    },
    {
     "name": "stdout",
     "output_type": "stream",
     "text": [
      "[CV 11/15; 47/50] END model__C=19.158219548093165, model__epsilon=4.8287152161792095;, score=-26.665 total time=   1.2s\n",
      "[CV 12/15; 47/50] START model__C=19.158219548093165, model__epsilon=4.8287152161792095\n"
     ]
    },
    {
     "name": "stderr",
     "output_type": "stream",
     "text": [
      "/opt/anaconda3/lib/python3.9/site-packages/sklearn/svm/_base.py:299: ConvergenceWarning: Solver terminated early (max_iter=50000).  Consider pre-processing your data with StandardScaler or MinMaxScaler.\n",
      "  warnings.warn(\n"
     ]
    },
    {
     "name": "stdout",
     "output_type": "stream",
     "text": [
      "[CV 12/15; 47/50] END model__C=19.158219548093165, model__epsilon=4.8287152161792095;, score=-25.053 total time=   1.2s\n",
      "[CV 13/15; 47/50] START model__C=19.158219548093165, model__epsilon=4.8287152161792095\n"
     ]
    },
    {
     "name": "stderr",
     "output_type": "stream",
     "text": [
      "/opt/anaconda3/lib/python3.9/site-packages/sklearn/svm/_base.py:299: ConvergenceWarning: Solver terminated early (max_iter=50000).  Consider pre-processing your data with StandardScaler or MinMaxScaler.\n",
      "  warnings.warn(\n"
     ]
    },
    {
     "name": "stdout",
     "output_type": "stream",
     "text": [
      "[CV 13/15; 47/50] END model__C=19.158219548093165, model__epsilon=4.8287152161792095;, score=-23.000 total time=   1.3s\n",
      "[CV 14/15; 47/50] START model__C=19.158219548093165, model__epsilon=4.8287152161792095\n"
     ]
    },
    {
     "name": "stderr",
     "output_type": "stream",
     "text": [
      "/opt/anaconda3/lib/python3.9/site-packages/sklearn/svm/_base.py:299: ConvergenceWarning: Solver terminated early (max_iter=50000).  Consider pre-processing your data with StandardScaler or MinMaxScaler.\n",
      "  warnings.warn(\n"
     ]
    },
    {
     "name": "stdout",
     "output_type": "stream",
     "text": [
      "[CV 14/15; 47/50] END model__C=19.158219548093165, model__epsilon=4.8287152161792095;, score=-22.317 total time=   1.3s\n",
      "[CV 15/15; 47/50] START model__C=19.158219548093165, model__epsilon=4.8287152161792095\n"
     ]
    },
    {
     "name": "stderr",
     "output_type": "stream",
     "text": [
      "/opt/anaconda3/lib/python3.9/site-packages/sklearn/svm/_base.py:299: ConvergenceWarning: Solver terminated early (max_iter=50000).  Consider pre-processing your data with StandardScaler or MinMaxScaler.\n",
      "  warnings.warn(\n"
     ]
    },
    {
     "name": "stdout",
     "output_type": "stream",
     "text": [
      "[CV 15/15; 47/50] END model__C=19.158219548093165, model__epsilon=4.8287152161792095;, score=-22.387 total time=   1.2s\n",
      "[CV 1/15; 48/50] START model__C=20.55424552015074, model__epsilon=3.0296104428212476\n"
     ]
    },
    {
     "name": "stderr",
     "output_type": "stream",
     "text": [
      "/opt/anaconda3/lib/python3.9/site-packages/sklearn/svm/_base.py:299: ConvergenceWarning: Solver terminated early (max_iter=50000).  Consider pre-processing your data with StandardScaler or MinMaxScaler.\n",
      "  warnings.warn(\n"
     ]
    },
    {
     "name": "stdout",
     "output_type": "stream",
     "text": [
      "[CV 1/15; 48/50] END model__C=20.55424552015074, model__epsilon=3.0296104428212476;, score=-26.327 total time=   1.6s\n",
      "[CV 2/15; 48/50] START model__C=20.55424552015074, model__epsilon=3.0296104428212476\n"
     ]
    },
    {
     "name": "stderr",
     "output_type": "stream",
     "text": [
      "/opt/anaconda3/lib/python3.9/site-packages/sklearn/svm/_base.py:299: ConvergenceWarning: Solver terminated early (max_iter=50000).  Consider pre-processing your data with StandardScaler or MinMaxScaler.\n",
      "  warnings.warn(\n"
     ]
    },
    {
     "name": "stdout",
     "output_type": "stream",
     "text": [
      "[CV 2/15; 48/50] END model__C=20.55424552015074, model__epsilon=3.0296104428212476;, score=-25.223 total time=   1.6s\n",
      "[CV 3/15; 48/50] START model__C=20.55424552015074, model__epsilon=3.0296104428212476\n"
     ]
    },
    {
     "name": "stderr",
     "output_type": "stream",
     "text": [
      "/opt/anaconda3/lib/python3.9/site-packages/sklearn/svm/_base.py:299: ConvergenceWarning: Solver terminated early (max_iter=50000).  Consider pre-processing your data with StandardScaler or MinMaxScaler.\n",
      "  warnings.warn(\n"
     ]
    },
    {
     "name": "stdout",
     "output_type": "stream",
     "text": [
      "[CV 3/15; 48/50] END model__C=20.55424552015074, model__epsilon=3.0296104428212476;, score=-21.659 total time=   1.6s\n",
      "[CV 4/15; 48/50] START model__C=20.55424552015074, model__epsilon=3.0296104428212476\n"
     ]
    },
    {
     "name": "stderr",
     "output_type": "stream",
     "text": [
      "/opt/anaconda3/lib/python3.9/site-packages/sklearn/svm/_base.py:299: ConvergenceWarning: Solver terminated early (max_iter=50000).  Consider pre-processing your data with StandardScaler or MinMaxScaler.\n",
      "  warnings.warn(\n"
     ]
    },
    {
     "name": "stdout",
     "output_type": "stream",
     "text": [
      "[CV 4/15; 48/50] END model__C=20.55424552015074, model__epsilon=3.0296104428212476;, score=-20.987 total time=   1.6s\n",
      "[CV 5/15; 48/50] START model__C=20.55424552015074, model__epsilon=3.0296104428212476\n"
     ]
    },
    {
     "name": "stderr",
     "output_type": "stream",
     "text": [
      "/opt/anaconda3/lib/python3.9/site-packages/sklearn/svm/_base.py:299: ConvergenceWarning: Solver terminated early (max_iter=50000).  Consider pre-processing your data with StandardScaler or MinMaxScaler.\n",
      "  warnings.warn(\n"
     ]
    },
    {
     "name": "stdout",
     "output_type": "stream",
     "text": [
      "[CV 5/15; 48/50] END model__C=20.55424552015074, model__epsilon=3.0296104428212476;, score=-23.584 total time=   1.6s\n",
      "[CV 6/15; 48/50] START model__C=20.55424552015074, model__epsilon=3.0296104428212476\n"
     ]
    },
    {
     "name": "stderr",
     "output_type": "stream",
     "text": [
      "/opt/anaconda3/lib/python3.9/site-packages/sklearn/svm/_base.py:299: ConvergenceWarning: Solver terminated early (max_iter=50000).  Consider pre-processing your data with StandardScaler or MinMaxScaler.\n",
      "  warnings.warn(\n"
     ]
    },
    {
     "name": "stdout",
     "output_type": "stream",
     "text": [
      "[CV 6/15; 48/50] END model__C=20.55424552015074, model__epsilon=3.0296104428212476;, score=-26.039 total time=   1.6s\n",
      "[CV 7/15; 48/50] START model__C=20.55424552015074, model__epsilon=3.0296104428212476\n"
     ]
    },
    {
     "name": "stderr",
     "output_type": "stream",
     "text": [
      "/opt/anaconda3/lib/python3.9/site-packages/sklearn/svm/_base.py:299: ConvergenceWarning: Solver terminated early (max_iter=50000).  Consider pre-processing your data with StandardScaler or MinMaxScaler.\n",
      "  warnings.warn(\n"
     ]
    },
    {
     "name": "stdout",
     "output_type": "stream",
     "text": [
      "[CV 7/15; 48/50] END model__C=20.55424552015074, model__epsilon=3.0296104428212476;, score=-24.574 total time=   1.6s\n",
      "[CV 8/15; 48/50] START model__C=20.55424552015074, model__epsilon=3.0296104428212476\n"
     ]
    },
    {
     "name": "stderr",
     "output_type": "stream",
     "text": [
      "/opt/anaconda3/lib/python3.9/site-packages/sklearn/svm/_base.py:299: ConvergenceWarning: Solver terminated early (max_iter=50000).  Consider pre-processing your data with StandardScaler or MinMaxScaler.\n",
      "  warnings.warn(\n"
     ]
    },
    {
     "name": "stdout",
     "output_type": "stream",
     "text": [
      "[CV 8/15; 48/50] END model__C=20.55424552015074, model__epsilon=3.0296104428212476;, score=-22.223 total time=   1.6s\n",
      "[CV 9/15; 48/50] START model__C=20.55424552015074, model__epsilon=3.0296104428212476\n"
     ]
    },
    {
     "name": "stderr",
     "output_type": "stream",
     "text": [
      "/opt/anaconda3/lib/python3.9/site-packages/sklearn/svm/_base.py:299: ConvergenceWarning: Solver terminated early (max_iter=50000).  Consider pre-processing your data with StandardScaler or MinMaxScaler.\n",
      "  warnings.warn(\n"
     ]
    },
    {
     "name": "stdout",
     "output_type": "stream",
     "text": [
      "[CV 9/15; 48/50] END model__C=20.55424552015074, model__epsilon=3.0296104428212476;, score=-21.778 total time=   1.6s\n",
      "[CV 10/15; 48/50] START model__C=20.55424552015074, model__epsilon=3.0296104428212476\n"
     ]
    },
    {
     "name": "stderr",
     "output_type": "stream",
     "text": [
      "/opt/anaconda3/lib/python3.9/site-packages/sklearn/svm/_base.py:299: ConvergenceWarning: Solver terminated early (max_iter=50000).  Consider pre-processing your data with StandardScaler or MinMaxScaler.\n",
      "  warnings.warn(\n"
     ]
    },
    {
     "name": "stdout",
     "output_type": "stream",
     "text": [
      "[CV 10/15; 48/50] END model__C=20.55424552015074, model__epsilon=3.0296104428212476;, score=-23.196 total time=   1.6s\n",
      "[CV 11/15; 48/50] START model__C=20.55424552015074, model__epsilon=3.0296104428212476\n"
     ]
    },
    {
     "name": "stderr",
     "output_type": "stream",
     "text": [
      "/opt/anaconda3/lib/python3.9/site-packages/sklearn/svm/_base.py:299: ConvergenceWarning: Solver terminated early (max_iter=50000).  Consider pre-processing your data with StandardScaler or MinMaxScaler.\n",
      "  warnings.warn(\n"
     ]
    },
    {
     "name": "stdout",
     "output_type": "stream",
     "text": [
      "[CV 11/15; 48/50] END model__C=20.55424552015074, model__epsilon=3.0296104428212476;, score=-26.374 total time=   1.5s\n",
      "[CV 12/15; 48/50] START model__C=20.55424552015074, model__epsilon=3.0296104428212476\n"
     ]
    },
    {
     "name": "stderr",
     "output_type": "stream",
     "text": [
      "/opt/anaconda3/lib/python3.9/site-packages/sklearn/svm/_base.py:299: ConvergenceWarning: Solver terminated early (max_iter=50000).  Consider pre-processing your data with StandardScaler or MinMaxScaler.\n",
      "  warnings.warn(\n"
     ]
    },
    {
     "name": "stdout",
     "output_type": "stream",
     "text": [
      "[CV 12/15; 48/50] END model__C=20.55424552015074, model__epsilon=3.0296104428212476;, score=-24.775 total time=   1.6s\n",
      "[CV 13/15; 48/50] START model__C=20.55424552015074, model__epsilon=3.0296104428212476\n"
     ]
    },
    {
     "name": "stderr",
     "output_type": "stream",
     "text": [
      "/opt/anaconda3/lib/python3.9/site-packages/sklearn/svm/_base.py:299: ConvergenceWarning: Solver terminated early (max_iter=50000).  Consider pre-processing your data with StandardScaler or MinMaxScaler.\n",
      "  warnings.warn(\n"
     ]
    },
    {
     "name": "stdout",
     "output_type": "stream",
     "text": [
      "[CV 13/15; 48/50] END model__C=20.55424552015074, model__epsilon=3.0296104428212476;, score=-22.671 total time=   1.6s\n",
      "[CV 14/15; 48/50] START model__C=20.55424552015074, model__epsilon=3.0296104428212476\n"
     ]
    },
    {
     "name": "stderr",
     "output_type": "stream",
     "text": [
      "/opt/anaconda3/lib/python3.9/site-packages/sklearn/svm/_base.py:299: ConvergenceWarning: Solver terminated early (max_iter=50000).  Consider pre-processing your data with StandardScaler or MinMaxScaler.\n",
      "  warnings.warn(\n"
     ]
    },
    {
     "name": "stdout",
     "output_type": "stream",
     "text": [
      "[CV 14/15; 48/50] END model__C=20.55424552015074, model__epsilon=3.0296104428212476;, score=-22.098 total time=   1.6s\n",
      "[CV 15/15; 48/50] START model__C=20.55424552015074, model__epsilon=3.0296104428212476\n"
     ]
    },
    {
     "name": "stderr",
     "output_type": "stream",
     "text": [
      "/opt/anaconda3/lib/python3.9/site-packages/sklearn/svm/_base.py:299: ConvergenceWarning: Solver terminated early (max_iter=50000).  Consider pre-processing your data with StandardScaler or MinMaxScaler.\n",
      "  warnings.warn(\n"
     ]
    },
    {
     "name": "stdout",
     "output_type": "stream",
     "text": [
      "[CV 15/15; 48/50] END model__C=20.55424552015074, model__epsilon=3.0296104428212476;, score=-22.153 total time=   1.5s\n",
      "[CV 1/15; 49/50] START model__C=3.699972431463808, model__epsilon=1.9170041589170652\n"
     ]
    },
    {
     "name": "stderr",
     "output_type": "stream",
     "text": [
      "/opt/anaconda3/lib/python3.9/site-packages/sklearn/svm/_base.py:299: ConvergenceWarning: Solver terminated early (max_iter=50000).  Consider pre-processing your data with StandardScaler or MinMaxScaler.\n",
      "  warnings.warn(\n"
     ]
    },
    {
     "name": "stdout",
     "output_type": "stream",
     "text": [
      "[CV 1/15; 49/50] END model__C=3.699972431463808, model__epsilon=1.9170041589170652;, score=-27.407 total time=   1.2s\n",
      "[CV 2/15; 49/50] START model__C=3.699972431463808, model__epsilon=1.9170041589170652\n"
     ]
    },
    {
     "name": "stderr",
     "output_type": "stream",
     "text": [
      "/opt/anaconda3/lib/python3.9/site-packages/sklearn/svm/_base.py:299: ConvergenceWarning: Solver terminated early (max_iter=50000).  Consider pre-processing your data with StandardScaler or MinMaxScaler.\n",
      "  warnings.warn(\n"
     ]
    },
    {
     "name": "stdout",
     "output_type": "stream",
     "text": [
      "[CV 2/15; 49/50] END model__C=3.699972431463808, model__epsilon=1.9170041589170652;, score=-25.977 total time=   1.2s\n",
      "[CV 3/15; 49/50] START model__C=3.699972431463808, model__epsilon=1.9170041589170652\n"
     ]
    },
    {
     "name": "stderr",
     "output_type": "stream",
     "text": [
      "/opt/anaconda3/lib/python3.9/site-packages/sklearn/svm/_base.py:299: ConvergenceWarning: Solver terminated early (max_iter=50000).  Consider pre-processing your data with StandardScaler or MinMaxScaler.\n",
      "  warnings.warn(\n"
     ]
    },
    {
     "name": "stdout",
     "output_type": "stream",
     "text": [
      "[CV 3/15; 49/50] END model__C=3.699972431463808, model__epsilon=1.9170041589170652;, score=-22.390 total time=   1.2s\n",
      "[CV 4/15; 49/50] START model__C=3.699972431463808, model__epsilon=1.9170041589170652\n"
     ]
    },
    {
     "name": "stderr",
     "output_type": "stream",
     "text": [
      "/opt/anaconda3/lib/python3.9/site-packages/sklearn/svm/_base.py:299: ConvergenceWarning: Solver terminated early (max_iter=50000).  Consider pre-processing your data with StandardScaler or MinMaxScaler.\n",
      "  warnings.warn(\n"
     ]
    },
    {
     "name": "stdout",
     "output_type": "stream",
     "text": [
      "[CV 4/15; 49/50] END model__C=3.699972431463808, model__epsilon=1.9170041589170652;, score=-22.052 total time=   1.2s\n",
      "[CV 5/15; 49/50] START model__C=3.699972431463808, model__epsilon=1.9170041589170652\n"
     ]
    },
    {
     "name": "stderr",
     "output_type": "stream",
     "text": [
      "/opt/anaconda3/lib/python3.9/site-packages/sklearn/svm/_base.py:299: ConvergenceWarning: Solver terminated early (max_iter=50000).  Consider pre-processing your data with StandardScaler or MinMaxScaler.\n",
      "  warnings.warn(\n"
     ]
    },
    {
     "name": "stdout",
     "output_type": "stream",
     "text": [
      "[CV 5/15; 49/50] END model__C=3.699972431463808, model__epsilon=1.9170041589170652;, score=-24.148 total time=   1.2s\n",
      "[CV 6/15; 49/50] START model__C=3.699972431463808, model__epsilon=1.9170041589170652\n"
     ]
    },
    {
     "name": "stderr",
     "output_type": "stream",
     "text": [
      "/opt/anaconda3/lib/python3.9/site-packages/sklearn/svm/_base.py:299: ConvergenceWarning: Solver terminated early (max_iter=50000).  Consider pre-processing your data with StandardScaler or MinMaxScaler.\n",
      "  warnings.warn(\n"
     ]
    },
    {
     "name": "stdout",
     "output_type": "stream",
     "text": [
      "[CV 6/15; 49/50] END model__C=3.699972431463808, model__epsilon=1.9170041589170652;, score=-27.459 total time=   1.2s\n",
      "[CV 7/15; 49/50] START model__C=3.699972431463808, model__epsilon=1.9170041589170652\n"
     ]
    },
    {
     "name": "stderr",
     "output_type": "stream",
     "text": [
      "/opt/anaconda3/lib/python3.9/site-packages/sklearn/svm/_base.py:299: ConvergenceWarning: Solver terminated early (max_iter=50000).  Consider pre-processing your data with StandardScaler or MinMaxScaler.\n",
      "  warnings.warn(\n"
     ]
    },
    {
     "name": "stdout",
     "output_type": "stream",
     "text": [
      "[CV 7/15; 49/50] END model__C=3.699972431463808, model__epsilon=1.9170041589170652;, score=-25.885 total time=   1.2s\n",
      "[CV 8/15; 49/50] START model__C=3.699972431463808, model__epsilon=1.9170041589170652\n"
     ]
    },
    {
     "name": "stderr",
     "output_type": "stream",
     "text": [
      "/opt/anaconda3/lib/python3.9/site-packages/sklearn/svm/_base.py:299: ConvergenceWarning: Solver terminated early (max_iter=50000).  Consider pre-processing your data with StandardScaler or MinMaxScaler.\n",
      "  warnings.warn(\n"
     ]
    },
    {
     "name": "stdout",
     "output_type": "stream",
     "text": [
      "[CV 8/15; 49/50] END model__C=3.699972431463808, model__epsilon=1.9170041589170652;, score=-22.764 total time=   1.2s\n",
      "[CV 9/15; 49/50] START model__C=3.699972431463808, model__epsilon=1.9170041589170652\n"
     ]
    },
    {
     "name": "stderr",
     "output_type": "stream",
     "text": [
      "/opt/anaconda3/lib/python3.9/site-packages/sklearn/svm/_base.py:299: ConvergenceWarning: Solver terminated early (max_iter=50000).  Consider pre-processing your data with StandardScaler or MinMaxScaler.\n",
      "  warnings.warn(\n"
     ]
    },
    {
     "name": "stdout",
     "output_type": "stream",
     "text": [
      "[CV 9/15; 49/50] END model__C=3.699972431463808, model__epsilon=1.9170041589170652;, score=-22.507 total time=   1.2s\n",
      "[CV 10/15; 49/50] START model__C=3.699972431463808, model__epsilon=1.9170041589170652\n"
     ]
    },
    {
     "name": "stderr",
     "output_type": "stream",
     "text": [
      "/opt/anaconda3/lib/python3.9/site-packages/sklearn/svm/_base.py:299: ConvergenceWarning: Solver terminated early (max_iter=50000).  Consider pre-processing your data with StandardScaler or MinMaxScaler.\n",
      "  warnings.warn(\n"
     ]
    },
    {
     "name": "stdout",
     "output_type": "stream",
     "text": [
      "[CV 10/15; 49/50] END model__C=3.699972431463808, model__epsilon=1.9170041589170652;, score=-23.701 total time=   1.2s\n",
      "[CV 11/15; 49/50] START model__C=3.699972431463808, model__epsilon=1.9170041589170652\n"
     ]
    },
    {
     "name": "stderr",
     "output_type": "stream",
     "text": [
      "/opt/anaconda3/lib/python3.9/site-packages/sklearn/svm/_base.py:299: ConvergenceWarning: Solver terminated early (max_iter=50000).  Consider pre-processing your data with StandardScaler or MinMaxScaler.\n",
      "  warnings.warn(\n"
     ]
    },
    {
     "name": "stdout",
     "output_type": "stream",
     "text": [
      "[CV 11/15; 49/50] END model__C=3.699972431463808, model__epsilon=1.9170041589170652;, score=-27.503 total time=   1.2s\n",
      "[CV 12/15; 49/50] START model__C=3.699972431463808, model__epsilon=1.9170041589170652\n"
     ]
    },
    {
     "name": "stderr",
     "output_type": "stream",
     "text": [
      "/opt/anaconda3/lib/python3.9/site-packages/sklearn/svm/_base.py:299: ConvergenceWarning: Solver terminated early (max_iter=50000).  Consider pre-processing your data with StandardScaler or MinMaxScaler.\n",
      "  warnings.warn(\n"
     ]
    },
    {
     "name": "stdout",
     "output_type": "stream",
     "text": [
      "[CV 12/15; 49/50] END model__C=3.699972431463808, model__epsilon=1.9170041589170652;, score=-26.405 total time=   1.2s\n",
      "[CV 13/15; 49/50] START model__C=3.699972431463808, model__epsilon=1.9170041589170652\n"
     ]
    },
    {
     "name": "stderr",
     "output_type": "stream",
     "text": [
      "/opt/anaconda3/lib/python3.9/site-packages/sklearn/svm/_base.py:299: ConvergenceWarning: Solver terminated early (max_iter=50000).  Consider pre-processing your data with StandardScaler or MinMaxScaler.\n",
      "  warnings.warn(\n"
     ]
    },
    {
     "name": "stdout",
     "output_type": "stream",
     "text": [
      "[CV 13/15; 49/50] END model__C=3.699972431463808, model__epsilon=1.9170041589170652;, score=-22.785 total time=   1.2s\n",
      "[CV 14/15; 49/50] START model__C=3.699972431463808, model__epsilon=1.9170041589170652\n"
     ]
    },
    {
     "name": "stderr",
     "output_type": "stream",
     "text": [
      "/opt/anaconda3/lib/python3.9/site-packages/sklearn/svm/_base.py:299: ConvergenceWarning: Solver terminated early (max_iter=50000).  Consider pre-processing your data with StandardScaler or MinMaxScaler.\n",
      "  warnings.warn(\n"
     ]
    },
    {
     "name": "stdout",
     "output_type": "stream",
     "text": [
      "[CV 14/15; 49/50] END model__C=3.699972431463808, model__epsilon=1.9170041589170652;, score=-22.430 total time=   1.2s\n",
      "[CV 15/15; 49/50] START model__C=3.699972431463808, model__epsilon=1.9170041589170652\n"
     ]
    },
    {
     "name": "stderr",
     "output_type": "stream",
     "text": [
      "/opt/anaconda3/lib/python3.9/site-packages/sklearn/svm/_base.py:299: ConvergenceWarning: Solver terminated early (max_iter=50000).  Consider pre-processing your data with StandardScaler or MinMaxScaler.\n",
      "  warnings.warn(\n"
     ]
    },
    {
     "name": "stdout",
     "output_type": "stream",
     "text": [
      "[CV 15/15; 49/50] END model__C=3.699972431463808, model__epsilon=1.9170041589170652;, score=-23.048 total time=   1.2s\n",
      "[CV 1/15; 50/50] START model__C=0.11919481947918735, model__epsilon=0.21070472806578233\n",
      "[CV 1/15; 50/50] END model__C=0.11919481947918735, model__epsilon=0.21070472806578233;, score=-36.365 total time=   1.2s\n",
      "[CV 2/15; 50/50] START model__C=0.11919481947918735, model__epsilon=0.21070472806578233\n",
      "[CV 2/15; 50/50] END model__C=0.11919481947918735, model__epsilon=0.21070472806578233;, score=-35.077 total time=   1.2s\n",
      "[CV 3/15; 50/50] START model__C=0.11919481947918735, model__epsilon=0.21070472806578233\n",
      "[CV 3/15; 50/50] END model__C=0.11919481947918735, model__epsilon=0.21070472806578233;, score=-31.666 total time=   1.2s\n",
      "[CV 4/15; 50/50] START model__C=0.11919481947918735, model__epsilon=0.21070472806578233\n",
      "[CV 4/15; 50/50] END model__C=0.11919481947918735, model__epsilon=0.21070472806578233;, score=-31.053 total time=   1.2s\n",
      "[CV 5/15; 50/50] START model__C=0.11919481947918735, model__epsilon=0.21070472806578233\n",
      "[CV 5/15; 50/50] END model__C=0.11919481947918735, model__epsilon=0.21070472806578233;, score=-31.636 total time=   1.2s\n",
      "[CV 6/15; 50/50] START model__C=0.11919481947918735, model__epsilon=0.21070472806578233\n",
      "[CV 6/15; 50/50] END model__C=0.11919481947918735, model__epsilon=0.21070472806578233;, score=-36.271 total time=   1.2s\n",
      "[CV 7/15; 50/50] START model__C=0.11919481947918735, model__epsilon=0.21070472806578233\n",
      "[CV 7/15; 50/50] END model__C=0.11919481947918735, model__epsilon=0.21070472806578233;, score=-35.146 total time=   1.2s\n",
      "[CV 8/15; 50/50] START model__C=0.11919481947918735, model__epsilon=0.21070472806578233\n",
      "[CV 8/15; 50/50] END model__C=0.11919481947918735, model__epsilon=0.21070472806578233;, score=-31.583 total time=   1.2s\n",
      "[CV 9/15; 50/50] START model__C=0.11919481947918735, model__epsilon=0.21070472806578233\n",
      "[CV 9/15; 50/50] END model__C=0.11919481947918735, model__epsilon=0.21070472806578233;, score=-31.001 total time=   1.2s\n",
      "[CV 10/15; 50/50] START model__C=0.11919481947918735, model__epsilon=0.21070472806578233\n",
      "[CV 10/15; 50/50] END model__C=0.11919481947918735, model__epsilon=0.21070472806578233;, score=-31.729 total time=   1.2s\n",
      "[CV 11/15; 50/50] START model__C=0.11919481947918735, model__epsilon=0.21070472806578233\n",
      "[CV 11/15; 50/50] END model__C=0.11919481947918735, model__epsilon=0.21070472806578233;, score=-36.331 total time=   1.2s\n",
      "[CV 12/15; 50/50] START model__C=0.11919481947918735, model__epsilon=0.21070472806578233\n",
      "[CV 12/15; 50/50] END model__C=0.11919481947918735, model__epsilon=0.21070472806578233;, score=-35.160 total time=   1.2s\n",
      "[CV 13/15; 50/50] START model__C=0.11919481947918735, model__epsilon=0.21070472806578233\n",
      "[CV 13/15; 50/50] END model__C=0.11919481947918735, model__epsilon=0.21070472806578233;, score=-31.747 total time=   1.2s\n",
      "[CV 14/15; 50/50] START model__C=0.11919481947918735, model__epsilon=0.21070472806578233\n",
      "[CV 14/15; 50/50] END model__C=0.11919481947918735, model__epsilon=0.21070472806578233;, score=-31.000 total time=   1.2s\n",
      "[CV 15/15; 50/50] START model__C=0.11919481947918735, model__epsilon=0.21070472806578233\n",
      "[CV 15/15; 50/50] END model__C=0.11919481947918735, model__epsilon=0.21070472806578233;, score=-31.571 total time=   1.2s\n",
      "Best neg_mean_absolute_error Score was: -23.38423893183823\n",
      "The best hyper parameters for the model are:\n",
      "{'model__C': 20.73644517790503, 'model__epsilon': 0.39459088111}\n"
     ]
    },
    {
     "name": "stderr",
     "output_type": "stream",
     "text": [
      "/opt/anaconda3/lib/python3.9/site-packages/sklearn/svm/_base.py:299: ConvergenceWarning: Solver terminated early (max_iter=50000).  Consider pre-processing your data with StandardScaler or MinMaxScaler.\n",
      "  warnings.warn(\n"
     ]
    }
   ],
   "source": [
    "pred.find_best_hyperparameters(pipeline, x_val, y_val, model_para, score = 'neg_mean_absolute_error', verbose=10)"
   ]
  },
  {
   "cell_type": "code",
   "execution_count": 11,
   "id": "f57c7973",
   "metadata": {},
   "outputs": [],
   "source": [
    "svr_lin_daily = SVR(kernel = 'linear',cache_size=15000, max_iter=50000,epsilon = 0.39459088111, C= 20.73644517790503,verbose = 10)"
   ]
  },
  {
   "cell_type": "code",
   "execution_count": null,
   "id": "8b3afa9b",
   "metadata": {},
   "outputs": [
    {
     "name": "stdout",
     "output_type": "stream",
     "text": [
      "[LibSVM].................................................WARN: libsvm Solver reached max_iter\n",
      "optimization finished, #iter = 50000\n",
      "obj = -50476761.787977, rho = -9.335176\n",
      "nSV = 56231, nBSV = 42104\n"
     ]
    },
    {
     "name": "stderr",
     "output_type": "stream",
     "text": [
      "/opt/anaconda3/lib/python3.9/site-packages/sklearn/svm/_base.py:299: ConvergenceWarning: Solver terminated early (max_iter=50000).  Consider pre-processing your data with StandardScaler or MinMaxScaler.\n",
      "  warnings.warn(\n"
     ]
    }
   ],
   "source": [
    "pipeline = pred.pipeline_fit_predict(svr_lin_daily, categoric, numeric, x_train, y_train, x_test, y_test,\n",
    "                                     df_2h_comar, 'numOfTaxis_area')"
   ]
  },
  {
   "cell_type": "markdown",
   "id": "7a576bfe",
   "metadata": {},
   "source": [
    "<hr style=\"border: 0.5px solid #8888;\">\n",
    "\n",
    "\n",
    "## Hourly Demand - hexagon low resolution "
   ]
  },
  {
   "cell_type": "code",
   "execution_count": null,
   "id": "d9365fd1",
   "metadata": {},
   "outputs": [],
   "source": [
    "x_train_val, y_train_val, x_train, y_train, x_val, y_val, x_test, y_test = pred.train_val_test(df_2h_hexlow,\n",
    "                                                                                        testsize=0.3,\n",
    "                                                                                        valsize=0.2)"
   ]
  },
  {
   "cell_type": "code",
   "execution_count": null,
   "id": "054e8142",
   "metadata": {},
   "outputs": [],
   "source": [
    "categoric, numeric = pred.cat_and_num('h3_hex_id_low_res')"
   ]
  },
  {
   "cell_type": "code",
   "execution_count": 60,
   "id": "e87b8c72",
   "metadata": {},
   "outputs": [],
   "source": [
    "svr_lin_daily = SVR(kernel = 'linear',cache_size=15000, max_iter=50000,epsilon = 0.4335281794951565, C= 31.428808908401084, verbose =10)"
   ]
  },
  {
   "cell_type": "code",
   "execution_count": 61,
   "id": "d51b9e84",
   "metadata": {},
   "outputs": [
    {
     "name": "stdout",
     "output_type": "stream",
     "text": [
      "[LibSVM].................................................WARN: libsvm Solver reached max_iter\n",
      "optimization finished, #iter = 50000\n",
      "obj = -106216334.908176, rho = -31.404760\n",
      "nSV = 45998, nBSV = 34352\n"
     ]
    },
    {
     "name": "stderr",
     "output_type": "stream",
     "text": [
      "/opt/anaconda3/lib/python3.9/site-packages/sklearn/svm/_base.py:299: ConvergenceWarning: Solver terminated early (max_iter=50000).  Consider pre-processing your data with StandardScaler or MinMaxScaler.\n",
      "  warnings.warn(\n"
     ]
    },
    {
     "name": "stdout",
     "output_type": "stream",
     "text": [
      "MODEL SCORES:\n",
      "MAE:  49.649\n",
      "MSE:  19335.192\n",
      "RMSE:  139.051\n",
      "Accuracy: 42.61 %\n",
      "R2:  59.394 %\n",
      "Max Residual Error:  1997.387\n"
     ]
    }
   ],
   "source": [
    "pipeline = pred.pipeline_fit_predict(svr_lin_daily, categoric, numeric, x_train_val, y_train_val, x_test, y_test,\n",
    "                                      df_2h_hexlow, 'numOfTaxis_area')"
   ]
  },
  {
   "cell_type": "markdown",
   "id": "0a8a9fd3",
   "metadata": {},
   "source": [
    "<hr style=\"border: 0.5px solid #8888;\">\n",
    "\n",
    "\n",
    "## Hourly Demand - hexagon medium resolution"
   ]
  },
  {
   "cell_type": "code",
   "execution_count": null,
   "id": "86146d34",
   "metadata": {},
   "outputs": [],
   "source": [
    "x_train_val, y_train_val, x_train, y_train, x_val, y_val, x_test, y_test = pred.train_val_test(df_2h_hexmed,\n",
    "                                                                                        testsize=0.3,\n",
    "                                                                                        valsize=0.2)"
   ]
  },
  {
   "cell_type": "code",
   "execution_count": null,
   "id": "75065272",
   "metadata": {},
   "outputs": [],
   "source": [
    "categoric, numeric = pred.cat_and_num('h3_hex_id_medium_res')"
   ]
  },
  {
   "cell_type": "code",
   "execution_count": 72,
   "id": "96b24b0f",
   "metadata": {},
   "outputs": [],
   "source": [
    "svr_lin_daily = SVR(kernel = 'linear',cache_size=15000, max_iter=50000,epsilon = 0.4335281794951565, C= 31.428808908401084, verbose =10)"
   ]
  },
  {
   "cell_type": "code",
   "execution_count": 73,
   "id": "e15bf926",
   "metadata": {},
   "outputs": [
    {
     "name": "stdout",
     "output_type": "stream",
     "text": [
      "[LibSVM].................................................WARN: libsvm Solver reached max_iter\n",
      "optimization finished, #iter = 50000\n",
      "obj = -71769692.922822, rho = -9.900635\n",
      "nSV = 53540, nBSV = 36094\n"
     ]
    },
    {
     "name": "stderr",
     "output_type": "stream",
     "text": [
      "/opt/anaconda3/lib/python3.9/site-packages/sklearn/svm/_base.py:299: ConvergenceWarning: Solver terminated early (max_iter=50000).  Consider pre-processing your data with StandardScaler or MinMaxScaler.\n",
      "  warnings.warn(\n"
     ]
    },
    {
     "name": "stdout",
     "output_type": "stream",
     "text": [
      "MODEL SCORES:\n",
      "MAE:  21.106\n",
      "MSE:  3232.545\n",
      "RMSE:  56.855\n",
      "Accuracy: 34.96 %\n",
      "R2:  60.551 %\n",
      "Max Residual Error:  1298.962\n"
     ]
    }
   ],
   "source": [
    "pipeline = pred.pipeline_fit_predict(svr_lin_daily, categoric, numeric, x_train, y_train, x_test, y_test,\n",
    "                                df_2h_hexmed, 'numOfTaxis_area')"
   ]
  },
  {
   "cell_type": "markdown",
   "id": "763893bd",
   "metadata": {},
   "source": [
    "<hr style=\"border: 0.5px solid #8888;\">\n",
    "\n",
    "\n",
    "## Hourly Demand - hexagon high resolution"
   ]
  },
  {
   "cell_type": "code",
   "execution_count": null,
   "id": "3cc4c16d",
   "metadata": {},
   "outputs": [],
   "source": [
    "x_train_val, y_train_val, x_train, y_train, x_val, y_val, x_test, y_test = pred.train_val_test(df_2h_hexhig,\n",
    "                                                                                        testsize=0.3,\n",
    "                                                                                        valsize=0.2)"
   ]
  },
  {
   "cell_type": "code",
   "execution_count": null,
   "id": "5b8eea3f",
   "metadata": {},
   "outputs": [],
   "source": [
    "categoric, numeric = pred.cat_and_num('h3_hex_id_high_res')"
   ]
  },
  {
   "cell_type": "code",
   "execution_count": 78,
   "id": "2a1e39a2",
   "metadata": {},
   "outputs": [],
   "source": [
    "svr_lin_daily = SVR(kernel = 'linear',cache_size=15000, max_iter=50000,epsilon = 0.4335281794951565, C= 31.428808908401084, verbose =10)"
   ]
  },
  {
   "cell_type": "code",
   "execution_count": 79,
   "id": "256f4480",
   "metadata": {},
   "outputs": [
    {
     "name": "stdout",
     "output_type": "stream",
     "text": [
      "[LibSVM].................................................WARN: libsvm Solver reached max_iter\n",
      "optimization finished, #iter = 50000\n",
      "obj = -54172541.831035, rho = -1.700378\n",
      "nSV = 59016, nBSV = 39918\n"
     ]
    },
    {
     "name": "stderr",
     "output_type": "stream",
     "text": [
      "/opt/anaconda3/lib/python3.9/site-packages/sklearn/svm/_base.py:299: ConvergenceWarning: Solver terminated early (max_iter=50000).  Consider pre-processing your data with StandardScaler or MinMaxScaler.\n",
      "  warnings.warn(\n"
     ]
    },
    {
     "name": "stdout",
     "output_type": "stream",
     "text": [
      "MODEL SCORES:\n",
      "MAE:  13.751\n",
      "MSE:  628.844\n",
      "RMSE:  25.077\n",
      "Accuracy: 16.63 %\n",
      "R2:  45.458 %\n",
      "Max Residual Error:  599.243\n"
     ]
    }
   ],
   "source": [
    "pipeline = pred.pipeline_fit_predict(svr_lin_daily, categoric, numeric, x_train, y_train, x_test, y_test,\n",
    "                                df_2h_hexhig, 'numOfTaxis_area')"
   ]
  },
  {
   "cell_type": "code",
   "execution_count": null,
   "id": "f47205da",
   "metadata": {},
   "outputs": [],
   "source": []
  },
  {
   "cell_type": "code",
   "execution_count": null,
   "id": "c7d3ce37",
   "metadata": {},
   "outputs": [],
   "source": []
  },
  {
   "cell_type": "code",
   "execution_count": null,
   "id": "df5231a0",
   "metadata": {},
   "outputs": [],
   "source": []
  },
  {
   "cell_type": "code",
   "execution_count": null,
   "id": "1f3a6570",
   "metadata": {},
   "outputs": [],
   "source": []
  },
  {
   "cell_type": "code",
   "execution_count": null,
   "id": "2919be21",
   "metadata": {},
   "outputs": [],
   "source": []
  }
 ],
 "metadata": {
  "kernelspec": {
   "display_name": "Python 3 (ipykernel)",
   "language": "python",
   "name": "python3"
  },
  "language_info": {
   "codemirror_mode": {
    "name": "ipython",
    "version": 3
   },
   "file_extension": ".py",
   "mimetype": "text/x-python",
   "name": "python",
   "nbconvert_exporter": "python",
   "pygments_lexer": "ipython3",
   "version": "3.9.12"
  }
 },
 "nbformat": 4,
 "nbformat_minor": 5
}
