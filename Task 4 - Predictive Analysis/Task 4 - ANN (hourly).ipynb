{
  "cells": [
    {
      "cell_type": "markdown",
      "id": "6bb3330e",
      "metadata": {
        "id": "6bb3330e"
      },
      "source": [
        "# Neural Network - Hourly Demand Prediction\n",
        "\n",
        "In this section we predict the hourly demand of taxi trips in Chicago.\n",
        "The prediciton we perform by building a model are based on data from 2013, provided from Chicago (website: https://data.cityofchicago.org/Transportation/Taxi-Trips/wrvz-psew).\n",
        "\n",
        "We split the prediction into spatial units:\n",
        "- Community Areas\n",
        "- Hexagons with low resolution\n",
        "- Hexagons with medium resolution\n",
        "- Hexagons with high resolution\n",
        "\n",
        "For each of the units we perform a seperate prediction based on data we have aggregeated in our preparation.\n",
        "\n",
        "Our procedure in this part is structured in the following way:\n",
        "\n",
        "- Explore different Neural Network architectures to find out which performs best. We do this based on Community areas.\n",
        "- Hyperparameter tuning to find the best Neural Network Architecture\n",
        "- Make predictions for all spatial units with the Architecture winner of the Hyperparametertuning\n",
        "- Evaluation\n",
        "\n",
        "<hr style=\"border: 1px solid #8888;\">"
      ]
    },
    {
      "cell_type": "code",
      "execution_count": 1,
      "id": "93421c4c",
      "metadata": {
        "colab": {
          "base_uri": "https://localhost:8080/"
        },
        "id": "93421c4c",
        "outputId": "3f28d6e6-0226-44d2-8e78-388e787e546a"
      },
      "outputs": [
        {
          "output_type": "stream",
          "name": "stdout",
          "text": [
            "Collecting keras_tuner\n",
            "  Downloading keras_tuner-1.3.5-py3-none-any.whl (176 kB)\n",
            "\u001b[?25l     \u001b[90m━━━━━━━━━━━━━━━━━━━━━━━━━━━━━━━━━━━━━━━━\u001b[0m \u001b[32m0.0/176.1 kB\u001b[0m \u001b[31m?\u001b[0m eta \u001b[36m-:--:--\u001b[0m\r\u001b[2K     \u001b[91m━━━━━━━━━━━━━━━━━━━━━━━━━━━━━━━━━━━━━━\u001b[0m\u001b[91m╸\u001b[0m \u001b[32m174.1/176.1 kB\u001b[0m \u001b[31m4.9 MB/s\u001b[0m eta \u001b[36m0:00:01\u001b[0m\r\u001b[2K     \u001b[90m━━━━━━━━━━━━━━━━━━━━━━━━━━━━━━━━━━━━━━━\u001b[0m \u001b[32m176.1/176.1 kB\u001b[0m \u001b[31m3.9 MB/s\u001b[0m eta \u001b[36m0:00:00\u001b[0m\n",
            "\u001b[?25hRequirement already satisfied: packaging in /usr/local/lib/python3.10/dist-packages (from keras_tuner) (23.1)\n",
            "Requirement already satisfied: requests in /usr/local/lib/python3.10/dist-packages (from keras_tuner) (2.31.0)\n",
            "Collecting kt-legacy (from keras_tuner)\n",
            "  Downloading kt_legacy-1.0.5-py3-none-any.whl (9.6 kB)\n",
            "Requirement already satisfied: charset-normalizer<4,>=2 in /usr/local/lib/python3.10/dist-packages (from requests->keras_tuner) (3.2.0)\n",
            "Requirement already satisfied: idna<4,>=2.5 in /usr/local/lib/python3.10/dist-packages (from requests->keras_tuner) (3.4)\n",
            "Requirement already satisfied: urllib3<3,>=1.21.1 in /usr/local/lib/python3.10/dist-packages (from requests->keras_tuner) (2.0.4)\n",
            "Requirement already satisfied: certifi>=2017.4.17 in /usr/local/lib/python3.10/dist-packages (from requests->keras_tuner) (2023.7.22)\n",
            "Installing collected packages: kt-legacy, keras_tuner\n",
            "Successfully installed keras_tuner-1.3.5 kt-legacy-1.0.5\n"
          ]
        }
      ],
      "source": [
        "pip install keras_tuner"
      ]
    },
    {
      "cell_type": "code",
      "execution_count": 2,
      "id": "8d79a830",
      "metadata": {
        "id": "8d79a830"
      },
      "outputs": [],
      "source": [
        "# Import all necessary packages\n",
        "import pandas as pd\n",
        "import numpy as np\n",
        "import datetime\n",
        "import matplotlib.pyplot as plt\n",
        "from sklearn import datasets\n",
        "from scipy.stats import loguniform\n",
        "from sklearn.preprocessing import StandardScaler\n",
        "from sklearn.model_selection import train_test_split\n",
        "from sklearn.metrics import mean_squared_error, mean_absolute_error, r2_score, mean_absolute_percentage_error, max_error\n",
        "import os.path\n",
        "\n",
        "# Import keras libraries\n",
        "import tensorflow\n",
        "from tensorflow import keras\n",
        "from keras import layers\n",
        "import keras_tuner\n",
        "from keras_tuner.tuners import Hyperband\n",
        "import IPython"
      ]
    },
    {
      "cell_type": "code",
      "source": [
        "print(\"GPU Available:\", tensorflow.test.is_gpu_available())"
      ],
      "metadata": {
        "colab": {
          "base_uri": "https://localhost:8080/"
        },
        "id": "y1Spca-WZaSB",
        "outputId": "bcc90819-e148-4eaa-ee04-717a04151a4d"
      },
      "id": "y1Spca-WZaSB",
      "execution_count": 3,
      "outputs": [
        {
          "output_type": "stream",
          "name": "stderr",
          "text": [
            "WARNING:tensorflow:From <ipython-input-3-53ff1be4d82d>:1: is_gpu_available (from tensorflow.python.framework.test_util) is deprecated and will be removed in a future version.\n",
            "Instructions for updating:\n",
            "Use `tf.config.list_physical_devices('GPU')` instead.\n"
          ]
        },
        {
          "output_type": "stream",
          "name": "stdout",
          "text": [
            "GPU Available: True\n"
          ]
        }
      ]
    },
    {
      "cell_type": "markdown",
      "id": "68bccb4a",
      "metadata": {
        "id": "68bccb4a"
      },
      "source": [
        "<hr style=\"border: 1px solid #8888;\">\n",
        "\n",
        "## Preprocessing"
      ]
    },
    {
      "cell_type": "code",
      "execution_count": 4,
      "id": "4da2d648",
      "metadata": {
        "id": "4da2d648"
      },
      "outputs": [],
      "source": [
        "# import datasets local\n",
        "#df_h_comar = pd.read_csv(\"../data/datasets/df_h_comar.csv\")\n",
        "#df_h_hexlow = pd.read_csv(\"../data/datasets/df_h_hexlow.csv\")\n",
        "#df_h_hexmed = pd.read_csv(\"../data/datasets/df_h_hexmed.csv\")\n",
        "#df_h_hexhig = pd.read_csv(\"../data/datasets/df_h_hexhig.csv\")\n",
        "\n",
        "# Import datasets in Google Colab\n",
        "df_h_comar = pd.read_csv(\"/content/df_h_comar.csv\")\n",
        "df_h_hexlow = pd.read_csv(\"/content/df_h_hexlow.csv\")\n",
        "df_h_hexmed = pd.read_csv(\"/content/df_h_hexmed.csv\")\n",
        "df_h_hexhig = pd.read_csv(\"/content/df_h_hexhig.csv\")"
      ]
    },
    {
      "cell_type": "code",
      "execution_count": 5,
      "id": "0308c514",
      "metadata": {
        "colab": {
          "base_uri": "https://localhost:8080/",
          "height": 368
        },
        "id": "0308c514",
        "outputId": "426fdf88-c045-44dc-be7b-9770fc62780e"
      },
      "outputs": [
        {
          "output_type": "display_data",
          "data": {
            "text/plain": [
              "<Figure size 1200x400 with 1 Axes>"
            ],
            "image/png": "[encoded data removed]"
          },
          "metadata": {}
        }
      ],
      "source": [
        "plt.figure(figsize=(12,4))\n",
        "\n",
        "plt.subplot(121)\n",
        "df_h_comar['numOfTaxis_area'].plot.hist()\n",
        "\n",
        "#plt.subplot(122)\n",
        "#df_h_comar['numOfTaxis_area'] = np.log(df_h_comar['numOfTaxis_area'])\n",
        "#df_h_comar['numOfTaxis_area'].plot.hist()\n",
        "plt.show()"
      ]
    },
    {
      "cell_type": "markdown",
      "id": "712dc467",
      "metadata": {
        "id": "712dc467"
      },
      "source": [
        "Even if the distribution does not look good, we do not use the log transformation at this point, because only simple neural networks benefit from it, but more complex ones even become worse (**we have tested this!**)."
      ]
    },
    {
      "cell_type": "code",
      "execution_count": 6,
      "id": "d0c7cea5",
      "metadata": {
        "id": "d0c7cea5"
      },
      "outputs": [],
      "source": [
        "#df_h_hexlow['numOfTaxis_area'] = np.log(df_h_hexlow['numOfTaxis_area'])\n",
        "#df_h_hexmed['numOfTaxis_area'] = np.log(df_h_hexmed['numOfTaxis_area'])\n",
        "#df_h_hexhig['numOfTaxis_area'] = np.log(df_h_hexhig['numOfTaxis_area'])"
      ]
    },
    {
      "cell_type": "code",
      "execution_count": 7,
      "id": "e474db80",
      "metadata": {
        "id": "e474db80"
      },
      "outputs": [],
      "source": [
        "df_h_comar.drop(columns = ['date_start'],inplace = True)\n",
        "df_h_hexlow.drop(columns = ['date_start'],inplace = True)\n",
        "df_h_hexmed.drop(columns = ['date_start'],inplace = True)\n",
        "df_h_hexhig.drop(columns = ['date_start'],inplace = True)"
      ]
    },
    {
      "cell_type": "code",
      "source": [
        "def dayandseas_to_int(df):\n",
        "\n",
        "    df['dayOfWeek'] = df['dayOfWeek'].replace(['Monday', 'Tuesday','Wednesday','Thursday','Friday','Saturday','Sunday'],[0,1,2,3,4,5,6])\n",
        "    df['season'] = df['season'].replace(['summer', 'winter','spring','autumn'],[0,1,2,3])\n",
        "\n",
        "    return df"
      ],
      "metadata": {
        "id": "MeakY48YZ1ou"
      },
      "id": "MeakY48YZ1ou",
      "execution_count": 8,
      "outputs": []
    },
    {
      "cell_type": "code",
      "execution_count": 9,
      "id": "51c723a0",
      "metadata": {
        "id": "51c723a0"
      },
      "outputs": [],
      "source": [
        "df_h_comar = dayandseas_to_int(df_h_comar)\n",
        "df_h_hexlow = dayandseas_to_int(df_h_hexlow)\n",
        "df_h_hexmed = dayandseas_to_int(df_h_hexmed)\n",
        "df_h_hexhig = dayandseas_to_int(df_h_hexhig)"
      ]
    },
    {
      "cell_type": "code",
      "execution_count": 10,
      "id": "beac289a",
      "metadata": {
        "colab": {
          "base_uri": "https://localhost:8080/",
          "height": 655
        },
        "id": "beac289a",
        "outputId": "fe5dcaef-de7a-4f22-97ec-fc4f8e593c8f"
      },
      "outputs": [
        {
          "output_type": "stream",
          "name": "stderr",
          "text": [
            "<ipython-input-10-c6fec9bde0d5>:4: FutureWarning: The default value of numeric_only in DataFrame.corr is deprecated. In a future version, it will default to False. Select only valid columns or specify the value of numeric_only to silence this warning.\n",
            "  corr = df_h_comar.drop(columns = ['numOfTaxis_area']).corr()\n"
          ]
        },
        {
          "output_type": "display_data",
          "data": {
            "text/plain": [
              "<Figure size 1600x900 with 2 Axes>"
            ],
            "image/png": "[encoded data removed]"
          },
          "metadata": {}
        }
      ],
      "source": [
        "# correlation matrix of df_h_comar\n",
        "\n",
        "import seaborn as sns\n",
        "corr = df_h_comar.drop(columns = ['numOfTaxis_area']).corr()\n",
        "plt.figure(figsize = (16,9))\n",
        "ax = sns.heatmap(corr, vmin = -1, vmax= 1, center = 0, annot=True)\n",
        "\n",
        "ax.set_xticklabels(ax.get_xticklabels(),\n",
        "                  rotation = 45,\n",
        "                  horizontalalignment = 'right')\n",
        "\n",
        "ax.set_yticklabels(ax.get_yticklabels(),\n",
        "                   rotation =0,\n",
        "                   horizontalalignment = 'right')\n",
        "\n",
        "plt.show()"
      ]
    },
    {
      "cell_type": "markdown",
      "id": "77ac0447",
      "metadata": {
        "id": "77ac0447"
      },
      "source": [
        "Because we are looking at the hourly demand, `start_time_hourly` and `start_stamp` is the same. So there are perfectly correlated and we are dropping `start_time_hourly`. We also have a very high correlation between `start_time_month` and `start_time_week`, which leads to dropping `start_time_month`:"
      ]
    },
    {
      "cell_type": "code",
      "execution_count": 11,
      "id": "df1f2bb1",
      "metadata": {
        "id": "df1f2bb1"
      },
      "outputs": [],
      "source": [
        "df_h_comar.drop(columns = ['start_time_hourly'],inplace = True)"
      ]
    },
    {
      "cell_type": "code",
      "execution_count": 12,
      "id": "95136053",
      "metadata": {
        "id": "95136053"
      },
      "outputs": [],
      "source": [
        "df_h_comar.drop(columns = ['start_time_month'],inplace = True)"
      ]
    },
    {
      "cell_type": "markdown",
      "id": "e620029e",
      "metadata": {
        "id": "e620029e"
      },
      "source": [
        "Doing the same for the dataframes of:\n",
        "\n",
        "- hexagons with low resolution\n",
        "- hexagons with medium resolution\n",
        "- hexagons with high resolution"
      ]
    },
    {
      "cell_type": "code",
      "execution_count": 13,
      "id": "542b7bd2",
      "metadata": {
        "id": "542b7bd2"
      },
      "outputs": [],
      "source": [
        "df_h_hexlow.drop(columns = ['start_time_hourly','start_time_month'],inplace = True)\n",
        "df_h_hexmed.drop(columns = ['start_time_hourly','start_time_month'],inplace = True)\n",
        "df_h_hexhig.drop(columns = ['start_time_hourly','start_time_month'],inplace = True)"
      ]
    },
    {
      "cell_type": "markdown",
      "id": "e6feb4b0",
      "metadata": {
        "id": "e6feb4b0"
      },
      "source": [
        "<hr style=\"border: 1px solid #8888;\">\n",
        "\n",
        "## General functions"
      ]
    },
    {
      "cell_type": "code",
      "execution_count": 14,
      "id": "a9726f48",
      "metadata": {
        "id": "a9726f48"
      },
      "outputs": [],
      "source": [
        "# Calculate Metrics\n",
        "def evaluate_performance(y_test,pred_ann,df):\n",
        "    print(\"MODEL SCORES\")\n",
        "    print(\"MAE:\", round(mean_absolute_error(y_test,pred_ann), 4))\n",
        "    print(\"MSE:\", round(mean_squared_error(y_test, pred_ann), 4))\n",
        "    print(\"RMSE:\", round(mean_squared_error(y_test,pred_ann)**0.5, 4))\n",
        "    print(\"MAPE:\", round(mean_absolute_percentage_error(y_test,pred_ann)*100, 2), \"%\")\n",
        "    print(\"Rough Accuracy Approximation:\", round((1-(mean_absolute_error(y_test,pred_ann)/df[\"numOfTaxis_area\"].mean()))*100,2), \"%\")\n",
        "    print(\"R2:\", round(r2_score(y_test,pred_ann), 4))\n",
        "    print(\"Max Residual Error:\", round(max_error(y_test,pred_ann), 4))"
      ]
    },
    {
      "cell_type": "markdown",
      "id": "53f853a3",
      "metadata": {
        "id": "53f853a3"
      },
      "source": [
        "<hr style=\"border: 1px solid #8888;\">\n",
        "\n",
        "## 1. Hourly Demand - Community Area"
      ]
    },
    {
      "cell_type": "markdown",
      "id": "cdda504e",
      "metadata": {
        "id": "cdda504e"
      },
      "source": [
        "- Before running you have to install tensorflow: `pip install tensorflow`"
      ]
    },
    {
      "cell_type": "markdown",
      "id": "f9f9c516",
      "metadata": {
        "id": "f9f9c516"
      },
      "source": [
        "### **Feature engineering**"
      ]
    },
    {
      "cell_type": "markdown",
      "id": "7120c2c6",
      "metadata": {
        "id": "7120c2c6"
      },
      "source": [
        "Here we will shortly create dummy variables and split the data and normalize it"
      ]
    },
    {
      "cell_type": "code",
      "execution_count": 15,
      "id": "e6dc519e",
      "metadata": {
        "colab": {
          "base_uri": "https://localhost:8080/"
        },
        "id": "e6dc519e",
        "outputId": "1ce82614-abd6-4ac4-a317-cd0f7cb2d280"
      },
      "outputs": [
        {
          "output_type": "stream",
          "name": "stdout",
          "text": [
            "<class 'pandas.core.frame.DataFrame'>\n",
            "RangeIndex: 229192 entries, 0 to 229191\n",
            "Data columns (total 15 columns):\n",
            " #   Column                 Non-Null Count   Dtype  \n",
            "---  ------                 --------------   -----  \n",
            " 0   start_stamp            229192 non-null  int64  \n",
            " 1   Pickup_Community_Area  229192 non-null  float64\n",
            " 2   numOfTaxis_area        229192 non-null  int64  \n",
            " 3   dayOfWeek              229192 non-null  int64  \n",
            " 4   isHoliday              229192 non-null  bool   \n",
            " 5   isRushhour             229192 non-null  bool   \n",
            " 6   start_time_day         229192 non-null  int64  \n",
            " 7   start_time_week        229192 non-null  int64  \n",
            " 8   pressure               229192 non-null  float64\n",
            " 9   humidity               229192 non-null  float64\n",
            " 10  wind_direction         229192 non-null  float64\n",
            " 11  wind_speed             229192 non-null  float64\n",
            " 12  description            229192 non-null  object \n",
            " 13  season                 229192 non-null  int64  \n",
            " 14  temperature_celsius    229192 non-null  float64\n",
            "dtypes: bool(2), float64(6), int64(6), object(1)\n",
            "memory usage: 23.2+ MB\n"
          ]
        }
      ],
      "source": [
        "df_h_comar.info()"
      ]
    },
    {
      "cell_type": "code",
      "execution_count": 16,
      "id": "4d398b42",
      "metadata": {
        "colab": {
          "base_uri": "https://localhost:8080/"
        },
        "id": "4d398b42",
        "outputId": "9b5bba82-4f09-4a4d-fed4-baf92ce6fe9d"
      },
      "outputs": [
        {
          "output_type": "stream",
          "name": "stdout",
          "text": [
            "<class 'pandas.core.frame.DataFrame'>\n",
            "RangeIndex: 229192 entries, 0 to 229191\n",
            "Columns: 227 entries, numOfTaxis_area to season_3\n",
            "dtypes: bool(2), float64(5), int64(1), uint8(219)\n",
            "memory usage: 58.8 MB\n"
          ]
        }
      ],
      "source": [
        "# Prepare variables for dummy creation\n",
        "df_h_comar['start_stamp'] = df_h_comar['start_stamp'].astype(str)\n",
        "df_h_comar['Pickup_Community_Area'] = df_h_comar['Pickup_Community_Area'].astype(str)\n",
        "df_h_comar['dayOfWeek'] = df_h_comar['dayOfWeek'].astype(str)\n",
        "df_h_comar['start_time_day'] = df_h_comar['start_time_day'].astype(str)\n",
        "df_h_comar['start_time_week'] = df_h_comar['start_time_week'].astype(str)\n",
        "df_h_comar['season'] = df_h_comar['season'].astype(str)\n",
        "df_h_comar['description'] = df_h_comar['description'].astype(str)\n",
        "\n",
        "# Create dummy variables from categorical features which are not already 0/1\n",
        "df_h_comar = pd.get_dummies(df_h_comar)\n",
        "df_h_comar.info()"
      ]
    },
    {
      "cell_type": "code",
      "execution_count": 17,
      "id": "d9e77582",
      "metadata": {
        "colab": {
          "base_uri": "https://localhost:8080/",
          "height": 505
        },
        "id": "d9e77582",
        "outputId": "47f60ade-ee27-490e-c329-5be0bed332dc"
      },
      "outputs": [
        {
          "output_type": "execute_result",
          "data": {
            "text/plain": [
              "        numOfTaxis_area  isHoliday  isRushhour  pressure  humidity  \\\n",
              "0                     4       True       False    1024.0      64.0   \n",
              "1                     1       True       False    1024.0      64.0   \n",
              "2                    43       True       False    1024.0      64.0   \n",
              "3                    13       True       False    1024.0      64.0   \n",
              "4                    17       True       False    1024.0      64.0   \n",
              "...                 ...        ...         ...       ...       ...   \n",
              "229187                2      False       False    1023.0      89.0   \n",
              "229188                3      False       False    1023.0      89.0   \n",
              "229189                1      False       False    1023.0      89.0   \n",
              "229190                5      False       False    1023.0      89.0   \n",
              "229191               56      False       False    1023.0      89.0   \n",
              "\n",
              "        wind_direction  wind_speed  temperature_celsius  start_stamp_0  \\\n",
              "0                200.0         4.0                -0.19              1   \n",
              "1                200.0         4.0                -0.19              1   \n",
              "2                200.0         4.0                -0.19              1   \n",
              "3                200.0         4.0                -0.19              1   \n",
              "4                200.0         4.0                -0.19              1   \n",
              "...                ...         ...                  ...            ...   \n",
              "229187           217.0         1.0               -11.00              0   \n",
              "229188           217.0         1.0               -11.00              0   \n",
              "229189           217.0         1.0               -11.00              0   \n",
              "229190           217.0         1.0               -11.00              0   \n",
              "229191           217.0         1.0               -11.00              0   \n",
              "\n",
              "        start_stamp_1  ...  description_snow  description_thunderstorm  \\\n",
              "0                   0  ...                 0                         0   \n",
              "1                   0  ...                 0                         0   \n",
              "2                   0  ...                 0                         0   \n",
              "3                   0  ...                 0                         0   \n",
              "4                   0  ...                 0                         0   \n",
              "...               ...  ...               ...                       ...   \n",
              "229187              0  ...                 0                         0   \n",
              "229188              0  ...                 0                         0   \n",
              "229189              0  ...                 0                         0   \n",
              "229190              0  ...                 0                         0   \n",
              "229191              0  ...                 0                         0   \n",
              "\n",
              "        description_thunderstorm with heavy rain  \\\n",
              "0                                              0   \n",
              "1                                              0   \n",
              "2                                              0   \n",
              "3                                              0   \n",
              "4                                              0   \n",
              "...                                          ...   \n",
              "229187                                         0   \n",
              "229188                                         0   \n",
              "229189                                         0   \n",
              "229190                                         0   \n",
              "229191                                         0   \n",
              "\n",
              "        description_thunderstorm with light rain  \\\n",
              "0                                              0   \n",
              "1                                              0   \n",
              "2                                              0   \n",
              "3                                              0   \n",
              "4                                              0   \n",
              "...                                          ...   \n",
              "229187                                         0   \n",
              "229188                                         0   \n",
              "229189                                         0   \n",
              "229190                                         0   \n",
              "229191                                         0   \n",
              "\n",
              "        description_thunderstorm with rain  description_very heavy rain  \\\n",
              "0                                        0                            0   \n",
              "1                                        0                            0   \n",
              "2                                        0                            0   \n",
              "3                                        0                            0   \n",
              "4                                        0                            0   \n",
              "...                                    ...                          ...   \n",
              "229187                                   0                            0   \n",
              "229188                                   0                            0   \n",
              "229189                                   0                            0   \n",
              "229190                                   0                            0   \n",
              "229191                                   0                            0   \n",
              "\n",
              "        season_0  season_1  season_2  season_3  \n",
              "0              0         1         0         0  \n",
              "1              0         1         0         0  \n",
              "2              0         1         0         0  \n",
              "3              0         1         0         0  \n",
              "4              0         1         0         0  \n",
              "...          ...       ...       ...       ...  \n",
              "229187         0         1         0         0  \n",
              "229188         0         1         0         0  \n",
              "229189         0         1         0         0  \n",
              "229190         0         1         0         0  \n",
              "229191         0         1         0         0  \n",
              "\n",
              "[229192 rows x 227 columns]"
            ],
            "text/html": [
              "\n",
              "\n",
              "  <div id=\"df-d87fadc5-5bc1-446f-98e6-76a46e83b5ac\">\n",
              "    <div class=\"colab-df-container\">\n",
              "      <div>\n",
              "<style scoped>\n",
              "    .dataframe tbody tr th:only-of-type {\n",
              "        vertical-align: middle;\n",
              "    }\n",
              "\n",
              "    .dataframe tbody tr th {\n",
              "        vertical-align: top;\n",
              "    }\n",
              "\n",
              "    .dataframe thead th {\n",
              "        text-align: right;\n",
              "    }\n",
              "</style>\n",
              "<table border=\"1\" class=\"dataframe\">\n",
              "  <thead>\n",
              "    <tr style=\"text-align: right;\">\n",
              "      <th></th>\n",
              "      <th>numOfTaxis_area</th>\n",
              "      <th>isHoliday</th>\n",
              "      <th>isRushhour</th>\n",
              "      <th>pressure</th>\n",
              "      <th>humidity</th>\n",
              "      <th>wind_direction</th>\n",
              "      <th>wind_speed</th>\n",
              "      <th>temperature_celsius</th>\n",
              "      <th>start_stamp_0</th>\n",
              "      <th>start_stamp_1</th>\n",
              "      <th>...</th>\n",
              "      <th>description_snow</th>\n",
              "      <th>description_thunderstorm</th>\n",
              "      <th>description_thunderstorm with heavy rain</th>\n",
              "      <th>description_thunderstorm with light rain</th>\n",
              "      <th>description_thunderstorm with rain</th>\n",
              "      <th>description_very heavy rain</th>\n",
              "      <th>season_0</th>\n",
              "      <th>season_1</th>\n",
              "      <th>season_2</th>\n",
              "      <th>season_3</th>\n",
              "    </tr>\n",
              "  </thead>\n",
              "  <tbody>\n",
              "    <tr>\n",
              "      <th>0</th>\n",
              "      <td>4</td>\n",
              "      <td>True</td>\n",
              "      <td>False</td>\n",
              "      <td>1024.0</td>\n",
              "      <td>64.0</td>\n",
              "      <td>200.0</td>\n",
              "      <td>4.0</td>\n",
              "      <td>-0.19</td>\n",
              "      <td>1</td>\n",
              "      <td>0</td>\n",
              "      <td>...</td>\n",
              "      <td>0</td>\n",
              "      <td>0</td>\n",
              "      <td>0</td>\n",
              "      <td>0</td>\n",
              "      <td>0</td>\n",
              "      <td>0</td>\n",
              "      <td>0</td>\n",
              "      <td>1</td>\n",
              "      <td>0</td>\n",
              "      <td>0</td>\n",
              "    </tr>\n",
              "    <tr>\n",
              "      <th>1</th>\n",
              "      <td>1</td>\n",
              "      <td>True</td>\n",
              "      <td>False</td>\n",
              "      <td>1024.0</td>\n",
              "      <td>64.0</td>\n",
              "      <td>200.0</td>\n",
              "      <td>4.0</td>\n",
              "      <td>-0.19</td>\n",
              "      <td>1</td>\n",
              "      <td>0</td>\n",
              "      <td>...</td>\n",
              "      <td>0</td>\n",
              "      <td>0</td>\n",
              "      <td>0</td>\n",
              "      <td>0</td>\n",
              "      <td>0</td>\n",
              "      <td>0</td>\n",
              "      <td>0</td>\n",
              "      <td>1</td>\n",
              "      <td>0</td>\n",
              "      <td>0</td>\n",
              "    </tr>\n",
              "    <tr>\n",
              "      <th>2</th>\n",
              "      <td>43</td>\n",
              "      <td>True</td>\n",
              "      <td>False</td>\n",
              "      <td>1024.0</td>\n",
              "      <td>64.0</td>\n",
              "      <td>200.0</td>\n",
              "      <td>4.0</td>\n",
              "      <td>-0.19</td>\n",
              "      <td>1</td>\n",
              "      <td>0</td>\n",
              "      <td>...</td>\n",
              "      <td>0</td>\n",
              "      <td>0</td>\n",
              "      <td>0</td>\n",
              "      <td>0</td>\n",
              "      <td>0</td>\n",
              "      <td>0</td>\n",
              "      <td>0</td>\n",
              "      <td>1</td>\n",
              "      <td>0</td>\n",
              "      <td>0</td>\n",
              "    </tr>\n",
              "    <tr>\n",
              "      <th>3</th>\n",
              "      <td>13</td>\n",
              "      <td>True</td>\n",
              "      <td>False</td>\n",
              "      <td>1024.0</td>\n",
              "      <td>64.0</td>\n",
              "      <td>200.0</td>\n",
              "      <td>4.0</td>\n",
              "      <td>-0.19</td>\n",
              "      <td>1</td>\n",
              "      <td>0</td>\n",
              "      <td>...</td>\n",
              "      <td>0</td>\n",
              "      <td>0</td>\n",
              "      <td>0</td>\n",
              "      <td>0</td>\n",
              "      <td>0</td>\n",
              "      <td>0</td>\n",
              "      <td>0</td>\n",
              "      <td>1</td>\n",
              "      <td>0</td>\n",
              "      <td>0</td>\n",
              "    </tr>\n",
              "    <tr>\n",
              "      <th>4</th>\n",
              "      <td>17</td>\n",
              "      <td>True</td>\n",
              "      <td>False</td>\n",
              "      <td>1024.0</td>\n",
              "      <td>64.0</td>\n",
              "      <td>200.0</td>\n",
              "      <td>4.0</td>\n",
              "      <td>-0.19</td>\n",
              "      <td>1</td>\n",
              "      <td>0</td>\n",
              "      <td>...</td>\n",
              "      <td>0</td>\n",
              "      <td>0</td>\n",
              "      <td>0</td>\n",
              "      <td>0</td>\n",
              "      <td>0</td>\n",
              "      <td>0</td>\n",
              "      <td>0</td>\n",
              "      <td>1</td>\n",
              "      <td>0</td>\n",
              "      <td>0</td>\n",
              "    </tr>\n",
              "    <tr>\n",
              "      <th>...</th>\n",
              "      <td>...</td>\n",
              "      <td>...</td>\n",
              "      <td>...</td>\n",
              "      <td>...</td>\n",
              "      <td>...</td>\n",
              "      <td>...</td>\n",
              "      <td>...</td>\n",
              "      <td>...</td>\n",
              "      <td>...</td>\n",
              "      <td>...</td>\n",
              "      <td>...</td>\n",
              "      <td>...</td>\n",
              "      <td>...</td>\n",
              "      <td>...</td>\n",
              "      <td>...</td>\n",
              "      <td>...</td>\n",
              "      <td>...</td>\n",
              "      <td>...</td>\n",
              "      <td>...</td>\n",
              "      <td>...</td>\n",
              "      <td>...</td>\n",
              "    </tr>\n",
              "    <tr>\n",
              "      <th>229187</th>\n",
              "      <td>2</td>\n",
              "      <td>False</td>\n",
              "      <td>False</td>\n",
              "      <td>1023.0</td>\n",
              "      <td>89.0</td>\n",
              "      <td>217.0</td>\n",
              "      <td>1.0</td>\n",
              "      <td>-11.00</td>\n",
              "      <td>0</td>\n",
              "      <td>0</td>\n",
              "      <td>...</td>\n",
              "      <td>0</td>\n",
              "      <td>0</td>\n",
              "      <td>0</td>\n",
              "      <td>0</td>\n",
              "      <td>0</td>\n",
              "      <td>0</td>\n",
              "      <td>0</td>\n",
              "      <td>1</td>\n",
              "      <td>0</td>\n",
              "      <td>0</td>\n",
              "    </tr>\n",
              "    <tr>\n",
              "      <th>229188</th>\n",
              "      <td>3</td>\n",
              "      <td>False</td>\n",
              "      <td>False</td>\n",
              "      <td>1023.0</td>\n",
              "      <td>89.0</td>\n",
              "      <td>217.0</td>\n",
              "      <td>1.0</td>\n",
              "      <td>-11.00</td>\n",
              "      <td>0</td>\n",
              "      <td>0</td>\n",
              "      <td>...</td>\n",
              "      <td>0</td>\n",
              "      <td>0</td>\n",
              "      <td>0</td>\n",
              "      <td>0</td>\n",
              "      <td>0</td>\n",
              "      <td>0</td>\n",
              "      <td>0</td>\n",
              "      <td>1</td>\n",
              "      <td>0</td>\n",
              "      <td>0</td>\n",
              "    </tr>\n",
              "    <tr>\n",
              "      <th>229189</th>\n",
              "      <td>1</td>\n",
              "      <td>False</td>\n",
              "      <td>False</td>\n",
              "      <td>1023.0</td>\n",
              "      <td>89.0</td>\n",
              "      <td>217.0</td>\n",
              "      <td>1.0</td>\n",
              "      <td>-11.00</td>\n",
              "      <td>0</td>\n",
              "      <td>0</td>\n",
              "      <td>...</td>\n",
              "      <td>0</td>\n",
              "      <td>0</td>\n",
              "      <td>0</td>\n",
              "      <td>0</td>\n",
              "      <td>0</td>\n",
              "      <td>0</td>\n",
              "      <td>0</td>\n",
              "      <td>1</td>\n",
              "      <td>0</td>\n",
              "      <td>0</td>\n",
              "    </tr>\n",
              "    <tr>\n",
              "      <th>229190</th>\n",
              "      <td>5</td>\n",
              "      <td>False</td>\n",
              "      <td>False</td>\n",
              "      <td>1023.0</td>\n",
              "      <td>89.0</td>\n",
              "      <td>217.0</td>\n",
              "      <td>1.0</td>\n",
              "      <td>-11.00</td>\n",
              "      <td>0</td>\n",
              "      <td>0</td>\n",
              "      <td>...</td>\n",
              "      <td>0</td>\n",
              "      <td>0</td>\n",
              "      <td>0</td>\n",
              "      <td>0</td>\n",
              "      <td>0</td>\n",
              "      <td>0</td>\n",
              "      <td>0</td>\n",
              "      <td>1</td>\n",
              "      <td>0</td>\n",
              "      <td>0</td>\n",
              "    </tr>\n",
              "    <tr>\n",
              "      <th>229191</th>\n",
              "      <td>56</td>\n",
              "      <td>False</td>\n",
              "      <td>False</td>\n",
              "      <td>1023.0</td>\n",
              "      <td>89.0</td>\n",
              "      <td>217.0</td>\n",
              "      <td>1.0</td>\n",
              "      <td>-11.00</td>\n",
              "      <td>0</td>\n",
              "      <td>0</td>\n",
              "      <td>...</td>\n",
              "      <td>0</td>\n",
              "      <td>0</td>\n",
              "      <td>0</td>\n",
              "      <td>0</td>\n",
              "      <td>0</td>\n",
              "      <td>0</td>\n",
              "      <td>0</td>\n",
              "      <td>1</td>\n",
              "      <td>0</td>\n",
              "      <td>0</td>\n",
              "    </tr>\n",
              "  </tbody>\n",
              "</table>\n",
              "<p>229192 rows × 227 columns</p>\n",
              "</div>\n",
              "      <button class=\"colab-df-convert\" onclick=\"convertToInteractive('df-d87fadc5-5bc1-446f-98e6-76a46e83b5ac')\"\n",
              "              title=\"Convert this dataframe to an interactive table.\"\n",
              "              style=\"display:none;\">\n",
              "\n",
              "  <svg xmlns=\"http://www.w3.org/2000/svg\" height=\"24px\"viewBox=\"0 0 24 24\"\n",
              "       width=\"24px\">\n",
              "    <path d=\"M0 0h24v24H0V0z\" fill=\"none\"/>\n",
              "    <path d=\"M18.56 5.44l.94 2.06.94-2.06 2.06-.94-2.06-.94-.94-2.06-.94 2.06-2.06.94zm-11 1L8.5 8.5l.94-2.06 2.06-.94-2.06-.94L8.5 2.5l-.94 2.06-2.06.94zm10 10l.94 2.06.94-2.06 2.06-.94-2.06-.94-.94-2.06-.94 2.06-2.06.94z\"/><path d=\"M17.41 7.96l-1.37-1.37c-.4-.4-.92-.59-1.43-.59-.52 0-1.04.2-1.43.59L10.3 9.45l-7.72 7.72c-.78.78-.78 2.05 0 2.83L4 21.41c.39.39.9.59 1.41.59.51 0 1.02-.2 1.41-.59l7.78-7.78 2.81-2.81c.8-.78.8-2.07 0-2.86zM5.41 20L4 18.59l7.72-7.72 1.47 1.35L5.41 20z\"/>\n",
              "  </svg>\n",
              "      </button>\n",
              "\n",
              "\n",
              "\n",
              "    <div id=\"df-2ac908d2-e164-41d5-963a-2cac92b0f71c\">\n",
              "      <button class=\"colab-df-quickchart\" onclick=\"quickchart('df-2ac908d2-e164-41d5-963a-2cac92b0f71c')\"\n",
              "              title=\"Suggest charts.\"\n",
              "              style=\"display:none;\">\n",
              "\n",
              "<svg xmlns=\"http://www.w3.org/2000/svg\" height=\"24px\"viewBox=\"0 0 24 24\"\n",
              "     width=\"24px\">\n",
              "    <g>\n",
              "        <path d=\"M19 3H5c-1.1 0-2 .9-2 2v14c0 1.1.9 2 2 2h14c1.1 0 2-.9 2-2V5c0-1.1-.9-2-2-2zM9 17H7v-7h2v7zm4 0h-2V7h2v10zm4 0h-2v-4h2v4z\"/>\n",
              "    </g>\n",
              "</svg>\n",
              "      </button>\n",
              "    </div>\n",
              "\n",
              "<style>\n",
              "  .colab-df-quickchart {\n",
              "    background-color: #E8F0FE;\n",
              "    border: none;\n",
              "    border-radius: 50%;\n",
              "    cursor: pointer;\n",
              "    display: none;\n",
              "    fill: #1967D2;\n",
              "    height: 32px;\n",
              "    padding: 0 0 0 0;\n",
              "    width: 32px;\n",
              "  }\n",
              "\n",
              "  .colab-df-quickchart:hover {\n",
              "    background-color: #E2EBFA;\n",
              "    box-shadow: 0px 1px 2px rgba(60, 64, 67, 0.3), 0px 1px 3px 1px rgba(60, 64, 67, 0.15);\n",
              "    fill: #174EA6;\n",
              "  }\n",
              "\n",
              "  [theme=dark] .colab-df-quickchart {\n",
              "    background-color: #3B4455;\n",
              "    fill: #D2E3FC;\n",
              "  }\n",
              "\n",
              "  [theme=dark] .colab-df-quickchart:hover {\n",
              "    background-color: #434B5C;\n",
              "    box-shadow: 0px 1px 3px 1px rgba(0, 0, 0, 0.15);\n",
              "    filter: drop-shadow(0px 1px 2px rgba(0, 0, 0, 0.3));\n",
              "    fill: #FFFFFF;\n",
              "  }\n",
              "</style>\n",
              "\n",
              "    <script>\n",
              "      async function quickchart(key) {\n",
              "        const containerElement = document.querySelector('#' + key);\n",
              "        const charts = await google.colab.kernel.invokeFunction(\n",
              "            'suggestCharts', [key], {});\n",
              "      }\n",
              "    </script>\n",
              "\n",
              "      <script>\n",
              "\n",
              "function displayQuickchartButton(domScope) {\n",
              "  let quickchartButtonEl =\n",
              "    domScope.querySelector('#df-2ac908d2-e164-41d5-963a-2cac92b0f71c button.colab-df-quickchart');\n",
              "  quickchartButtonEl.style.display =\n",
              "    google.colab.kernel.accessAllowed ? 'block' : 'none';\n",
              "}\n",
              "\n",
              "        displayQuickchartButton(document);\n",
              "      </script>\n",
              "      <style>\n",
              "    .colab-df-container {\n",
              "      display:flex;\n",
              "      flex-wrap:wrap;\n",
              "      gap: 12px;\n",
              "    }\n",
              "\n",
              "    .colab-df-convert {\n",
              "      background-color: #E8F0FE;\n",
              "      border: none;\n",
              "      border-radius: 50%;\n",
              "      cursor: pointer;\n",
              "      display: none;\n",
              "      fill: #1967D2;\n",
              "      height: 32px;\n",
              "      padding: 0 0 0 0;\n",
              "      width: 32px;\n",
              "    }\n",
              "\n",
              "    .colab-df-convert:hover {\n",
              "      background-color: #E2EBFA;\n",
              "      box-shadow: 0px 1px 2px rgba(60, 64, 67, 0.3), 0px 1px 3px 1px rgba(60, 64, 67, 0.15);\n",
              "      fill: #174EA6;\n",
              "    }\n",
              "\n",
              "    [theme=dark] .colab-df-convert {\n",
              "      background-color: #3B4455;\n",
              "      fill: #D2E3FC;\n",
              "    }\n",
              "\n",
              "    [theme=dark] .colab-df-convert:hover {\n",
              "      background-color: #434B5C;\n",
              "      box-shadow: 0px 1px 3px 1px rgba(0, 0, 0, 0.15);\n",
              "      filter: drop-shadow(0px 1px 2px rgba(0, 0, 0, 0.3));\n",
              "      fill: #FFFFFF;\n",
              "    }\n",
              "  </style>\n",
              "\n",
              "      <script>\n",
              "        const buttonEl =\n",
              "          document.querySelector('#df-d87fadc5-5bc1-446f-98e6-76a46e83b5ac button.colab-df-convert');\n",
              "        buttonEl.style.display =\n",
              "          google.colab.kernel.accessAllowed ? 'block' : 'none';\n",
              "\n",
              "        async function convertToInteractive(key) {\n",
              "          const element = document.querySelector('#df-d87fadc5-5bc1-446f-98e6-76a46e83b5ac');\n",
              "          const dataTable =\n",
              "            await google.colab.kernel.invokeFunction('convertToInteractive',\n",
              "                                                     [key], {});\n",
              "          if (!dataTable) return;\n",
              "\n",
              "          const docLinkHtml = 'Like what you see? Visit the ' +\n",
              "            '<a target=\"_blank\" href=https://colab.research.google.com/notebooks/data_table.ipynb>data table notebook</a>'\n",
              "            + ' to learn more about interactive tables.';\n",
              "          element.innerHTML = '';\n",
              "          dataTable['output_type'] = 'display_data';\n",
              "          await google.colab.output.renderOutput(dataTable, element);\n",
              "          const docLink = document.createElement('div');\n",
              "          docLink.innerHTML = docLinkHtml;\n",
              "          element.appendChild(docLink);\n",
              "        }\n",
              "      </script>\n",
              "    </div>\n",
              "  </div>\n"
            ]
          },
          "metadata": {},
          "execution_count": 17
        }
      ],
      "source": [
        "df_h_comar"
      ]
    },
    {
      "cell_type": "code",
      "execution_count": 18,
      "id": "0d514dd6",
      "metadata": {
        "id": "0d514dd6"
      },
      "outputs": [],
      "source": [
        "# Set output frame and input frame\n",
        "x = df_h_comar.drop('numOfTaxis_area', axis=1)\n",
        "y = df_h_comar['numOfTaxis_area']\n",
        "\n",
        "# Normalize the data\n",
        "scaler = StandardScaler()\n",
        "x_norm = scaler.fit_transform(x)\n",
        "\n",
        "# Split the data set in 70% training set and 30% testing set\n",
        "x_train, x_test, y_train, y_test = train_test_split(x_norm, y, test_size=0.3, random_state=42)\n",
        "\n",
        "# Split the training data set in 70% training set and 20% validation set to achieve a 50-20-30 split\n",
        "x_train, x_val, y_train, y_val = train_test_split(x_train, y_train, test_size=(0.2/0.7), random_state = 42)"
      ]
    },
    {
      "cell_type": "markdown",
      "id": "c732fd92",
      "metadata": {
        "id": "c732fd92"
      },
      "source": [
        "**We now have the following datasets:**\n",
        "- x_train, y_train &rarr; 50% input features for training the model\n",
        "- x_val, y_val &rarr; 20% to select hyperparameters\n",
        "- x_test, y_test &rarr; 30% to control the accurancy of the model"
      ]
    },
    {
      "cell_type": "markdown",
      "id": "f021d5f4",
      "metadata": {
        "id": "f021d5f4"
      },
      "source": [
        "<hr style=\"border: 0.5px solid #8888;\">\n",
        "\n",
        "### Exploration of the model: Checking for the best Neural Network Architecture\n",
        "- Exploration: We will start with some very simple Neural Network designs and gradually increase its complexity by adding more layers and nodes\n",
        "- Later we will just use the Hyperband tuning algorithm, which is similar to Gridsearch, to do this work for us and decide for the best hyperparameters"
      ]
    },
    {
      "cell_type": "markdown",
      "id": "ba51e804",
      "metadata": {
        "id": "ba51e804"
      },
      "source": [
        "#### Exploration: Very Simple Neural Network (1 Hidden Layer with 1 Node)"
      ]
    },
    {
      "cell_type": "code",
      "execution_count": 23,
      "id": "44e1bd7a",
      "metadata": {
        "id": "44e1bd7a"
      },
      "outputs": [],
      "source": [
        "# Input Layer\n",
        "inputs = keras.Input(shape=(226,)) # shapesize dependent of input feature count\n",
        "\n",
        "# Just 1 Hidden Layer\n",
        "x = layers.Dense(1, activation='relu')(inputs)\n",
        "\n",
        "# Output Layer\n",
        "output = layers.Dense(1, activation='relu')(x)\n",
        "\n",
        "# Instantiate the model\n",
        "model_ann = keras.Model(inputs, output)\n",
        "\n",
        "# Compile the model\n",
        "model_ann.compile(optimizer='Adam', loss='mean_squared_error')"
      ]
    },
    {
      "cell_type": "markdown",
      "id": "f0fc2d36",
      "metadata": {
        "id": "f0fc2d36"
      },
      "source": [
        "Define a callback that stops earlier if there is no further improvement, restores the model weights from the epoch with the best value of val_loss, and prevents overfitting by monitoring val_loss:"
      ]
    },
    {
      "cell_type": "code",
      "execution_count": 24,
      "id": "f4320cb6",
      "metadata": {
        "id": "f4320cb6"
      },
      "outputs": [],
      "source": [
        "callback = keras.callbacks.EarlyStopping(\n",
        "    monitor='val_loss',\n",
        "    mode='min',\n",
        "    patience=10,\n",
        "    restore_best_weights=True\n",
        "    )"
      ]
    },
    {
      "cell_type": "code",
      "execution_count": 25,
      "id": "fcc6ec0e",
      "metadata": {
        "colab": {
          "base_uri": "https://localhost:8080/"
        },
        "id": "fcc6ec0e",
        "outputId": "35ac5b13-a6de-4069-c0a7-290b14658a8e"
      },
      "outputs": [
        {
          "output_type": "stream",
          "name": "stdout",
          "text": [
            "Epoch 1/50\n",
            "3582/3582 [==============================] - 26s 6ms/step - loss: 7957.4009 - val_loss: 5109.2153\n",
            "Epoch 2/50\n",
            "3582/3582 [==============================] - 25s 7ms/step - loss: 4050.6541 - val_loss: 3343.7939\n",
            "Epoch 3/50\n",
            "3582/3582 [==============================] - 18s 5ms/step - loss: 3017.2417 - val_loss: 2784.6167\n",
            "Epoch 4/50\n",
            "3582/3582 [==============================] - 15s 4ms/step - loss: 2710.8018 - val_loss: 2613.1970\n",
            "Epoch 5/50\n",
            "3582/3582 [==============================] - 17s 5ms/step - loss: 2610.2092 - val_loss: 2532.3704\n",
            "Epoch 6/50\n",
            "3582/3582 [==============================] - 15s 4ms/step - loss: 2540.0486 - val_loss: 2470.6907\n",
            "Epoch 7/50\n",
            "3582/3582 [==============================] - 15s 4ms/step - loss: 2486.7786 - val_loss: 2417.5801\n",
            "Epoch 8/50\n",
            "3582/3582 [==============================] - 18s 5ms/step - loss: 2443.2559 - val_loss: 2375.0073\n",
            "Epoch 9/50\n",
            "3582/3582 [==============================] - 16s 5ms/step - loss: 2407.0325 - val_loss: 2337.7275\n",
            "Epoch 10/50\n",
            "3582/3582 [==============================] - 17s 5ms/step - loss: 2375.3877 - val_loss: 2305.8718\n",
            "Epoch 11/50\n",
            "3582/3582 [==============================] - 16s 4ms/step - loss: 2348.6882 - val_loss: 2279.7898\n",
            "Epoch 12/50\n",
            "3582/3582 [==============================] - 15s 4ms/step - loss: 2325.4834 - val_loss: 2257.5972\n",
            "Epoch 13/50\n",
            "3582/3582 [==============================] - 15s 4ms/step - loss: 2307.3125 - val_loss: 2239.5024\n",
            "Epoch 14/50\n",
            "3582/3582 [==============================] - 15s 4ms/step - loss: 2291.0835 - val_loss: 2221.9177\n",
            "Epoch 15/50\n",
            "3582/3582 [==============================] - 15s 4ms/step - loss: 2275.9885 - val_loss: 2209.4167\n",
            "Epoch 16/50\n",
            "3582/3582 [==============================] - 17s 5ms/step - loss: 2263.1187 - val_loss: 2197.6101\n",
            "Epoch 17/50\n",
            "3582/3582 [==============================] - 14s 4ms/step - loss: 2252.1360 - val_loss: 2187.9480\n",
            "Epoch 18/50\n",
            "3582/3582 [==============================] - 14s 4ms/step - loss: 2242.9224 - val_loss: 2179.4473\n",
            "Epoch 19/50\n",
            "3582/3582 [==============================] - 14s 4ms/step - loss: 2234.7153 - val_loss: 2170.3550\n",
            "Epoch 20/50\n",
            "3582/3582 [==============================] - 14s 4ms/step - loss: 2228.0520 - val_loss: 2162.9492\n",
            "Epoch 21/50\n",
            "3582/3582 [==============================] - 14s 4ms/step - loss: 2221.5774 - val_loss: 2157.1189\n",
            "Epoch 22/50\n",
            "3582/3582 [==============================] - 14s 4ms/step - loss: 2215.9973 - val_loss: 2150.8525\n",
            "Epoch 23/50\n",
            "3582/3582 [==============================] - 15s 4ms/step - loss: 2210.4702 - val_loss: 2144.7627\n",
            "Epoch 24/50\n",
            "3582/3582 [==============================] - 14s 4ms/step - loss: 2206.1995 - val_loss: 2140.2271\n",
            "Epoch 25/50\n",
            "3582/3582 [==============================] - 14s 4ms/step - loss: 2201.2761 - val_loss: 2135.1611\n",
            "Epoch 26/50\n",
            "3582/3582 [==============================] - 14s 4ms/step - loss: 2197.1313 - val_loss: 2129.7302\n",
            "Epoch 27/50\n",
            "3582/3582 [==============================] - 14s 4ms/step - loss: 2193.8835 - val_loss: 2125.4329\n",
            "Epoch 28/50\n",
            "3582/3582 [==============================] - 14s 4ms/step - loss: 2190.0767 - val_loss: 2124.3787\n",
            "Epoch 29/50\n",
            "3582/3582 [==============================] - 15s 4ms/step - loss: 2187.8164 - val_loss: 2119.2390\n",
            "Epoch 30/50\n",
            "3582/3582 [==============================] - 15s 4ms/step - loss: 2184.7095 - val_loss: 2115.8682\n",
            "Epoch 31/50\n",
            "3582/3582 [==============================] - 15s 4ms/step - loss: 2182.6748 - val_loss: 2113.7361\n",
            "Epoch 32/50\n",
            "3582/3582 [==============================] - 14s 4ms/step - loss: 2180.3335 - val_loss: 2110.5386\n",
            "Epoch 33/50\n",
            "3582/3582 [==============================] - 14s 4ms/step - loss: 2178.3982 - val_loss: 2108.6018\n",
            "Epoch 34/50\n",
            "3582/3582 [==============================] - 14s 4ms/step - loss: 2177.1726 - val_loss: 2106.0139\n",
            "Epoch 35/50\n",
            "3582/3582 [==============================] - 15s 4ms/step - loss: 2175.6602 - val_loss: 2102.8845\n",
            "Epoch 36/50\n",
            "3582/3582 [==============================] - 14s 4ms/step - loss: 2173.6924 - val_loss: 2102.1599\n",
            "Epoch 37/50\n",
            "3582/3582 [==============================] - 15s 4ms/step - loss: 2172.6125 - val_loss: 2101.1519\n",
            "Epoch 38/50\n",
            "3582/3582 [==============================] - 17s 5ms/step - loss: 2171.6431 - val_loss: 2099.6819\n",
            "Epoch 39/50\n",
            "3582/3582 [==============================] - 15s 4ms/step - loss: 2170.6707 - val_loss: 2099.5510\n",
            "Epoch 40/50\n",
            "3582/3582 [==============================] - 14s 4ms/step - loss: 2169.0425 - val_loss: 2098.3608\n",
            "Epoch 41/50\n",
            "3582/3582 [==============================] - 14s 4ms/step - loss: 2168.5940 - val_loss: 2097.6111\n",
            "Epoch 42/50\n",
            "3582/3582 [==============================] - 14s 4ms/step - loss: 2167.5964 - val_loss: 2096.6006\n",
            "Epoch 43/50\n",
            "3582/3582 [==============================] - 14s 4ms/step - loss: 2166.9116 - val_loss: 2095.9521\n",
            "Epoch 44/50\n",
            "3582/3582 [==============================] - 14s 4ms/step - loss: 2166.3601 - val_loss: 2094.7261\n",
            "Epoch 45/50\n",
            "3582/3582 [==============================] - 14s 4ms/step - loss: 2165.6528 - val_loss: 2093.4463\n",
            "Epoch 46/50\n",
            "3582/3582 [==============================] - 17s 5ms/step - loss: 2165.1091 - val_loss: 2091.4504\n",
            "Epoch 47/50\n",
            "3582/3582 [==============================] - 14s 4ms/step - loss: 2164.4011 - val_loss: 2091.1907\n",
            "Epoch 48/50\n",
            "3582/3582 [==============================] - 14s 4ms/step - loss: 2164.2300 - val_loss: 2090.3345\n",
            "Epoch 49/50\n",
            "3582/3582 [==============================] - 15s 4ms/step - loss: 2163.5312 - val_loss: 2090.3247\n",
            "Epoch 50/50\n",
            "3582/3582 [==============================] - 15s 4ms/step - loss: 2162.8403 - val_loss: 2094.0742\n"
          ]
        },
        {
          "output_type": "execute_result",
          "data": {
            "text/plain": [
              "<keras.callbacks.History at 0x79845273c340>"
            ]
          },
          "metadata": {},
          "execution_count": 25
        }
      ],
      "source": [
        "model_ann.fit(x_train, y_train, epochs=50, validation_data=(x_val,y_val), callbacks=[callback])"
      ]
    },
    {
      "cell_type": "code",
      "execution_count": 26,
      "id": "06a22f8f",
      "metadata": {
        "colab": {
          "base_uri": "https://localhost:8080/"
        },
        "id": "06a22f8f",
        "outputId": "5c033f5f-b84c-41ca-b999-689d021b96a1"
      },
      "outputs": [
        {
          "output_type": "stream",
          "name": "stdout",
          "text": [
            "2149/2149 [==============================] - 5s 2ms/step\n",
            "MODEL SCORES\n",
            "MAE: 20.5419\n",
            "MSE: 2219.392\n",
            "RMSE: 47.1104\n",
            "MAPE: 309.26 %\n",
            "Rough Accuracy Approximation: 47.54 %\n",
            "R2: 0.7715\n",
            "Max Residual Error: 871.8765\n"
          ]
        }
      ],
      "source": [
        "# Make predictions\n",
        "pred_ann = model_ann.predict(x_test)\n",
        "\n",
        "# Calculate Performance Metrics\n",
        "evaluate_performance(y_test,pred_ann,df_h_comar)"
      ]
    },
    {
      "cell_type": "markdown",
      "id": "8f66b298",
      "metadata": {
        "id": "8f66b298"
      },
      "source": [
        "#### Exploration: Simple Neural Network (1 Hidden Layer with 8 Nodes)"
      ]
    },
    {
      "cell_type": "code",
      "execution_count": 27,
      "id": "a9fcb759",
      "metadata": {
        "colab": {
          "base_uri": "https://localhost:8080/"
        },
        "id": "a9fcb759",
        "outputId": "2aa0fd8b-d4e2-48b9-cb49-ecc69adccfd9"
      },
      "outputs": [
        {
          "output_type": "stream",
          "name": "stdout",
          "text": [
            "Epoch 1/50\n",
            "3582/3582 [==============================] - 16s 4ms/step - loss: 5144.2949 - val_loss: 2642.0793\n",
            "Epoch 2/50\n",
            "3582/3582 [==============================] - 14s 4ms/step - loss: 2410.5005 - val_loss: 2200.7324\n",
            "Epoch 3/50\n",
            "3582/3582 [==============================] - 15s 4ms/step - loss: 2144.6646 - val_loss: 2012.1266\n",
            "Epoch 4/50\n",
            "3582/3582 [==============================] - 14s 4ms/step - loss: 1991.2294 - val_loss: 1889.1490\n",
            "Epoch 5/50\n",
            "3582/3582 [==============================] - 14s 4ms/step - loss: 1874.9325 - val_loss: 1792.3616\n",
            "Epoch 6/50\n",
            "3582/3582 [==============================] - 17s 5ms/step - loss: 1782.4569 - val_loss: 1711.1051\n",
            "Epoch 7/50\n",
            "3582/3582 [==============================] - 14s 4ms/step - loss: 1708.1112 - val_loss: 1647.0986\n",
            "Epoch 8/50\n",
            "3582/3582 [==============================] - 14s 4ms/step - loss: 1641.6823 - val_loss: 1589.9860\n",
            "Epoch 9/50\n",
            "3582/3582 [==============================] - 14s 4ms/step - loss: 1574.5625 - val_loss: 1523.5959\n",
            "Epoch 10/50\n",
            "3582/3582 [==============================] - 14s 4ms/step - loss: 1495.1121 - val_loss: 1443.0005\n",
            "Epoch 11/50\n",
            "3582/3582 [==============================] - 14s 4ms/step - loss: 1410.6987 - val_loss: 1367.5481\n",
            "Epoch 12/50\n",
            "3582/3582 [==============================] - 14s 4ms/step - loss: 1331.4747 - val_loss: 1290.2172\n",
            "Epoch 13/50\n",
            "3582/3582 [==============================] - 14s 4ms/step - loss: 1267.5651 - val_loss: 1236.2766\n",
            "Epoch 14/50\n",
            "3582/3582 [==============================] - 14s 4ms/step - loss: 1218.4470 - val_loss: 1193.1268\n",
            "Epoch 15/50\n",
            "3582/3582 [==============================] - 14s 4ms/step - loss: 1179.9412 - val_loss: 1159.4424\n",
            "Epoch 16/50\n",
            "3582/3582 [==============================] - 14s 4ms/step - loss: 1149.7522 - val_loss: 1132.7946\n",
            "Epoch 17/50\n",
            "3582/3582 [==============================] - 14s 4ms/step - loss: 1124.7771 - val_loss: 1103.7157\n",
            "Epoch 18/50\n",
            "3582/3582 [==============================] - 14s 4ms/step - loss: 1091.4026 - val_loss: 1069.3928\n",
            "Epoch 19/50\n",
            "3582/3582 [==============================] - 14s 4ms/step - loss: 1047.3051 - val_loss: 1024.6873\n",
            "Epoch 20/50\n",
            "3582/3582 [==============================] - 14s 4ms/step - loss: 998.5529 - val_loss: 975.6008\n",
            "Epoch 21/50\n",
            "3582/3582 [==============================] - 14s 4ms/step - loss: 951.6080 - val_loss: 930.6406\n",
            "Epoch 22/50\n",
            "3582/3582 [==============================] - 15s 4ms/step - loss: 909.6569 - val_loss: 888.9471\n",
            "Epoch 23/50\n",
            "3582/3582 [==============================] - 14s 4ms/step - loss: 872.9297 - val_loss: 854.6930\n",
            "Epoch 24/50\n",
            "3582/3582 [==============================] - 15s 4ms/step - loss: 837.7031 - val_loss: 823.4067\n",
            "Epoch 25/50\n",
            "3582/3582 [==============================] - 15s 4ms/step - loss: 806.4427 - val_loss: 792.4636\n",
            "Epoch 26/50\n",
            "3582/3582 [==============================] - 15s 4ms/step - loss: 780.3482 - val_loss: 767.9116\n",
            "Epoch 27/50\n",
            "3582/3582 [==============================] - 15s 4ms/step - loss: 758.2705 - val_loss: 747.5539\n",
            "Epoch 28/50\n",
            "3582/3582 [==============================] - 15s 4ms/step - loss: 738.2980 - val_loss: 731.5572\n",
            "Epoch 29/50\n",
            "3582/3582 [==============================] - 15s 4ms/step - loss: 723.1772 - val_loss: 715.3038\n",
            "Epoch 30/50\n",
            "3582/3582 [==============================] - 14s 4ms/step - loss: 709.1931 - val_loss: 703.7515\n",
            "Epoch 31/50\n",
            "3582/3582 [==============================] - 14s 4ms/step - loss: 698.1129 - val_loss: 695.3149\n",
            "Epoch 32/50\n",
            "3582/3582 [==============================] - 14s 4ms/step - loss: 687.6791 - val_loss: 692.2651\n",
            "Epoch 33/50\n",
            "3582/3582 [==============================] - 14s 4ms/step - loss: 678.8828 - val_loss: 679.3123\n",
            "Epoch 34/50\n",
            "3582/3582 [==============================] - 14s 4ms/step - loss: 672.7966 - val_loss: 671.9253\n",
            "Epoch 35/50\n",
            "3582/3582 [==============================] - 15s 4ms/step - loss: 665.4932 - val_loss: 666.6804\n",
            "Epoch 36/50\n",
            "3582/3582 [==============================] - 14s 4ms/step - loss: 658.8807 - val_loss: 661.6768\n",
            "Epoch 37/50\n",
            "3582/3582 [==============================] - 15s 4ms/step - loss: 654.4385 - val_loss: 652.9532\n",
            "Epoch 38/50\n",
            "3582/3582 [==============================] - 14s 4ms/step - loss: 647.8982 - val_loss: 648.1649\n",
            "Epoch 39/50\n",
            "3582/3582 [==============================] - 14s 4ms/step - loss: 644.1854 - val_loss: 644.9288\n",
            "Epoch 40/50\n",
            "3582/3582 [==============================] - 14s 4ms/step - loss: 640.2768 - val_loss: 640.8831\n",
            "Epoch 41/50\n",
            "3582/3582 [==============================] - 14s 4ms/step - loss: 636.5938 - val_loss: 637.0181\n",
            "Epoch 42/50\n",
            "3582/3582 [==============================] - 14s 4ms/step - loss: 631.3882 - val_loss: 633.3210\n",
            "Epoch 43/50\n",
            "3582/3582 [==============================] - 14s 4ms/step - loss: 627.9749 - val_loss: 628.1650\n",
            "Epoch 44/50\n",
            "3582/3582 [==============================] - 15s 4ms/step - loss: 625.1716 - val_loss: 623.9121\n",
            "Epoch 45/50\n",
            "3582/3582 [==============================] - 14s 4ms/step - loss: 622.7585 - val_loss: 621.2124\n",
            "Epoch 46/50\n",
            "3582/3582 [==============================] - 17s 5ms/step - loss: 619.5067 - val_loss: 614.6538\n",
            "Epoch 47/50\n",
            "3582/3582 [==============================] - 14s 4ms/step - loss: 615.9532 - val_loss: 613.5980\n",
            "Epoch 48/50\n",
            "3582/3582 [==============================] - 14s 4ms/step - loss: 612.8320 - val_loss: 610.3520\n",
            "Epoch 49/50\n",
            "3582/3582 [==============================] - 14s 4ms/step - loss: 610.6105 - val_loss: 607.3994\n",
            "Epoch 50/50\n",
            "3582/3582 [==============================] - 14s 4ms/step - loss: 607.2819 - val_loss: 606.5709\n"
          ]
        },
        {
          "output_type": "execute_result",
          "data": {
            "text/plain": [
              "<keras.callbacks.History at 0x798493da48b0>"
            ]
          },
          "metadata": {},
          "execution_count": 27
        }
      ],
      "source": [
        "# Input Layer\n",
        "inputs = keras.Input(shape=(226,)) # shapesize dependent of input feature count\n",
        "\n",
        "# Just 1 Hidden Layer\n",
        "x = layers.Dense(8, activation='relu')(inputs)\n",
        "\n",
        "# Output Layer\n",
        "output = layers.Dense(1, activation='relu')(x)\n",
        "\n",
        "# Instantiate the model\n",
        "model_ann = keras.Model(inputs, output)\n",
        "\n",
        "# Compile the model\n",
        "model_ann.compile(optimizer='Adam', loss='mean_squared_error')\n",
        "\n",
        "# Train the model\n",
        "model_ann.fit(x_train, y_train, epochs=50, validation_data=(x_val,y_val), callbacks=[callback])"
      ]
    },
    {
      "cell_type": "code",
      "execution_count": 28,
      "id": "67cdbc08",
      "metadata": {
        "colab": {
          "base_uri": "https://localhost:8080/"
        },
        "id": "67cdbc08",
        "outputId": "ada0c83e-749d-4ace-9e55-c9a3b3645054"
      },
      "outputs": [
        {
          "output_type": "stream",
          "name": "stdout",
          "text": [
            "2149/2149 [==============================] - 4s 2ms/step\n",
            "MODEL SCORES\n",
            "MAE: 12.2533\n",
            "MSE: 656.5927\n",
            "RMSE: 25.6241\n",
            "MAPE: 92.73 %\n",
            "Rough Accuracy Approximation: 68.71 %\n",
            "R2: 0.9324\n",
            "Max Residual Error: 813.2944\n"
          ]
        }
      ],
      "source": [
        "# Make predictions\n",
        "pred_ann = model_ann.predict(x_test)\n",
        "\n",
        "# Calculate Performance Metrics\n",
        "evaluate_performance(y_test,pred_ann,df_h_comar)"
      ]
    },
    {
      "cell_type": "markdown",
      "id": "4ebe40ab",
      "metadata": {
        "id": "4ebe40ab"
      },
      "source": [
        "#### Exploration: Neural Network (1 Hidden Layer with 512 Nodes)"
      ]
    },
    {
      "cell_type": "code",
      "execution_count": 29,
      "id": "b6d8d499",
      "metadata": {
        "colab": {
          "base_uri": "https://localhost:8080/"
        },
        "id": "b6d8d499",
        "outputId": "f7e1c894-2370-488a-d8b2-483966014041"
      },
      "outputs": [
        {
          "output_type": "stream",
          "name": "stdout",
          "text": [
            "Epoch 1/50\n",
            "3582/3582 [==============================] - 15s 4ms/step - loss: 2389.5869 - val_loss: 1229.1654\n",
            "Epoch 2/50\n",
            "3582/3582 [==============================] - 14s 4ms/step - loss: 850.6609 - val_loss: 632.5278\n",
            "Epoch 3/50\n",
            "3582/3582 [==============================] - 14s 4ms/step - loss: 535.4970 - val_loss: 451.9849\n",
            "Epoch 4/50\n",
            "3582/3582 [==============================] - 14s 4ms/step - loss: 406.9639 - val_loss: 394.1591\n",
            "Epoch 5/50\n",
            "3582/3582 [==============================] - 14s 4ms/step - loss: 337.5965 - val_loss: 335.6650\n",
            "Epoch 6/50\n",
            "3582/3582 [==============================] - 14s 4ms/step - loss: 292.1075 - val_loss: 359.9326\n",
            "Epoch 7/50\n",
            "3582/3582 [==============================] - 14s 4ms/step - loss: 262.7408 - val_loss: 290.9644\n",
            "Epoch 8/50\n",
            "3582/3582 [==============================] - 14s 4ms/step - loss: 235.9970 - val_loss: 264.2337\n",
            "Epoch 9/50\n",
            "3582/3582 [==============================] - 14s 4ms/step - loss: 216.3786 - val_loss: 274.9550\n",
            "Epoch 10/50\n",
            "3582/3582 [==============================] - 14s 4ms/step - loss: 203.4812 - val_loss: 248.7537\n",
            "Epoch 11/50\n",
            "3582/3582 [==============================] - 14s 4ms/step - loss: 182.9827 - val_loss: 242.0539\n",
            "Epoch 12/50\n",
            "3582/3582 [==============================] - 14s 4ms/step - loss: 176.2163 - val_loss: 237.6574\n",
            "Epoch 13/50\n",
            "3582/3582 [==============================] - 14s 4ms/step - loss: 163.8468 - val_loss: 239.6000\n",
            "Epoch 14/50\n",
            "3582/3582 [==============================] - 14s 4ms/step - loss: 155.8183 - val_loss: 235.1678\n",
            "Epoch 15/50\n",
            "3582/3582 [==============================] - 14s 4ms/step - loss: 148.7112 - val_loss: 216.1903\n",
            "Epoch 16/50\n",
            "3582/3582 [==============================] - 14s 4ms/step - loss: 142.9099 - val_loss: 220.3609\n",
            "Epoch 17/50\n",
            "3582/3582 [==============================] - 14s 4ms/step - loss: 137.6387 - val_loss: 212.5879\n",
            "Epoch 18/50\n",
            "3582/3582 [==============================] - 17s 5ms/step - loss: 130.1180 - val_loss: 223.3239\n",
            "Epoch 19/50\n",
            "3582/3582 [==============================] - 14s 4ms/step - loss: 127.0682 - val_loss: 212.5974\n",
            "Epoch 20/50\n",
            "3582/3582 [==============================] - 14s 4ms/step - loss: 122.4272 - val_loss: 214.7567\n",
            "Epoch 21/50\n",
            "3582/3582 [==============================] - 14s 4ms/step - loss: 120.5885 - val_loss: 205.9285\n",
            "Epoch 22/50\n",
            "3582/3582 [==============================] - 14s 4ms/step - loss: 113.0157 - val_loss: 219.0061\n",
            "Epoch 23/50\n",
            "3582/3582 [==============================] - 14s 4ms/step - loss: 110.5775 - val_loss: 208.6161\n",
            "Epoch 24/50\n",
            "3582/3582 [==============================] - 14s 4ms/step - loss: 108.2357 - val_loss: 212.2121\n",
            "Epoch 25/50\n",
            "3582/3582 [==============================] - 14s 4ms/step - loss: 105.0012 - val_loss: 207.0982\n",
            "Epoch 26/50\n",
            "3582/3582 [==============================] - 16s 5ms/step - loss: 101.8022 - val_loss: 206.7778\n",
            "Epoch 27/50\n",
            "3582/3582 [==============================] - 14s 4ms/step - loss: 100.2992 - val_loss: 203.2367\n",
            "Epoch 28/50\n",
            "3582/3582 [==============================] - 14s 4ms/step - loss: 96.6136 - val_loss: 199.1477\n",
            "Epoch 29/50\n",
            "3582/3582 [==============================] - 14s 4ms/step - loss: 95.9798 - val_loss: 211.0270\n",
            "Epoch 30/50\n",
            "3582/3582 [==============================] - 14s 4ms/step - loss: 92.6701 - val_loss: 209.2045\n",
            "Epoch 31/50\n",
            "3582/3582 [==============================] - 14s 4ms/step - loss: 90.2622 - val_loss: 202.0147\n",
            "Epoch 32/50\n",
            "3582/3582 [==============================] - 14s 4ms/step - loss: 89.3629 - val_loss: 209.6824\n",
            "Epoch 33/50\n",
            "3582/3582 [==============================] - 17s 5ms/step - loss: 87.6007 - val_loss: 201.9156\n",
            "Epoch 34/50\n",
            "3582/3582 [==============================] - 14s 4ms/step - loss: 83.9227 - val_loss: 207.5123\n",
            "Epoch 35/50\n",
            "3582/3582 [==============================] - 14s 4ms/step - loss: 84.4434 - val_loss: 209.8784\n",
            "Epoch 36/50\n",
            "3582/3582 [==============================] - 14s 4ms/step - loss: 82.7037 - val_loss: 207.4288\n",
            "Epoch 37/50\n",
            "3582/3582 [==============================] - 14s 4ms/step - loss: 82.2558 - val_loss: 198.5661\n",
            "Epoch 38/50\n",
            "3582/3582 [==============================] - 14s 4ms/step - loss: 77.6738 - val_loss: 197.7963\n",
            "Epoch 39/50\n",
            "3582/3582 [==============================] - 14s 4ms/step - loss: 78.1692 - val_loss: 200.3920\n",
            "Epoch 40/50\n",
            "3582/3582 [==============================] - 14s 4ms/step - loss: 77.5361 - val_loss: 214.8631\n",
            "Epoch 41/50\n",
            "3582/3582 [==============================] - 17s 5ms/step - loss: 78.0764 - val_loss: 207.9715\n",
            "Epoch 42/50\n",
            "3582/3582 [==============================] - 14s 4ms/step - loss: 75.4871 - val_loss: 216.0986\n",
            "Epoch 43/50\n",
            "3582/3582 [==============================] - 14s 4ms/step - loss: 75.3981 - val_loss: 198.4834\n",
            "Epoch 44/50\n",
            "3582/3582 [==============================] - 14s 4ms/step - loss: 71.0357 - val_loss: 201.3635\n",
            "Epoch 45/50\n",
            "3582/3582 [==============================] - 14s 4ms/step - loss: 71.4563 - val_loss: 202.9023\n",
            "Epoch 46/50\n",
            "3582/3582 [==============================] - 14s 4ms/step - loss: 69.4477 - val_loss: 207.2141\n",
            "Epoch 47/50\n",
            "3582/3582 [==============================] - 14s 4ms/step - loss: 68.5353 - val_loss: 192.7483\n",
            "Epoch 48/50\n",
            "3582/3582 [==============================] - 14s 4ms/step - loss: 68.9926 - val_loss: 200.2785\n",
            "Epoch 49/50\n",
            "3582/3582 [==============================] - 15s 4ms/step - loss: 67.1749 - val_loss: 200.4543\n",
            "Epoch 50/50\n",
            "3582/3582 [==============================] - 14s 4ms/step - loss: 67.0515 - val_loss: 199.5025\n"
          ]
        },
        {
          "output_type": "execute_result",
          "data": {
            "text/plain": [
              "<keras.callbacks.History at 0x798482791db0>"
            ]
          },
          "metadata": {},
          "execution_count": 29
        }
      ],
      "source": [
        "# Input Layer\n",
        "inputs = keras.Input(shape=(226,)) # shapesize dependent of input feature count\n",
        "\n",
        "# Just 1 Hidden Layer\n",
        "x = layers.Dense(512, activation='relu')(inputs)\n",
        "\n",
        "# Output Layer\n",
        "output = layers.Dense(1, activation='relu')(x)\n",
        "\n",
        "# Instantiate the model\n",
        "model_ann = keras.Model(inputs, output)\n",
        "\n",
        "# Compile the model\n",
        "model_ann.compile(optimizer='Adam', loss='mean_squared_error')\n",
        "\n",
        "# Train the model\n",
        "model_ann.fit(x_train, y_train, epochs=50, validation_data=(x_val,y_val), callbacks=[callback])"
      ]
    },
    {
      "cell_type": "code",
      "execution_count": 30,
      "id": "b5702189",
      "metadata": {
        "colab": {
          "base_uri": "https://localhost:8080/"
        },
        "id": "b5702189",
        "outputId": "45badf16-c7b7-45ca-879e-eccb793a0729"
      },
      "outputs": [
        {
          "output_type": "stream",
          "name": "stdout",
          "text": [
            "2149/2149 [==============================] - 4s 2ms/step\n",
            "MODEL SCORES\n",
            "MAE: 8.078\n",
            "MSE: 208.5234\n",
            "RMSE: 14.4403\n",
            "MAPE: 78.28 %\n",
            "Rough Accuracy Approximation: 79.37 %\n",
            "R2: 0.9785\n",
            "Max Residual Error: 407.6956\n"
          ]
        }
      ],
      "source": [
        "# Make predictions\n",
        "pred_ann = model_ann.predict(x_test)\n",
        "\n",
        "# Calculate Performance Metrics\n",
        "evaluate_performance(y_test,pred_ann,df_h_comar)"
      ]
    },
    {
      "cell_type": "markdown",
      "id": "89a950d6",
      "metadata": {
        "id": "89a950d6"
      },
      "source": [
        "#### Exploration: Neural Network (3 Hidden Layer with 256 Nodes)"
      ]
    },
    {
      "cell_type": "code",
      "execution_count": 31,
      "id": "18125b39",
      "metadata": {
        "colab": {
          "base_uri": "https://localhost:8080/"
        },
        "id": "18125b39",
        "outputId": "2d841044-4f4f-46e0-e8a1-a04e48a5bfb6"
      },
      "outputs": [
        {
          "output_type": "stream",
          "name": "stdout",
          "text": [
            "Epoch 1/50\n",
            "3582/3582 [==============================] - 19s 5ms/step - loss: 1332.3284 - val_loss: 492.1381\n",
            "Epoch 2/50\n",
            "3582/3582 [==============================] - 16s 4ms/step - loss: 381.2640 - val_loss: 296.7582\n",
            "Epoch 3/50\n",
            "3582/3582 [==============================] - 16s 5ms/step - loss: 289.8307 - val_loss: 284.0902\n",
            "Epoch 4/50\n",
            "3582/3582 [==============================] - 16s 5ms/step - loss: 236.2858 - val_loss: 268.1658\n",
            "Epoch 5/50\n",
            "3582/3582 [==============================] - 17s 5ms/step - loss: 199.2730 - val_loss: 259.3975\n",
            "Epoch 6/50\n",
            "3582/3582 [==============================] - 16s 5ms/step - loss: 171.2715 - val_loss: 187.6590\n",
            "Epoch 7/50\n",
            "3582/3582 [==============================] - 16s 5ms/step - loss: 160.9632 - val_loss: 221.2327\n",
            "Epoch 8/50\n",
            "3582/3582 [==============================] - 19s 5ms/step - loss: 139.9570 - val_loss: 278.1389\n",
            "Epoch 9/50\n",
            "3582/3582 [==============================] - 16s 5ms/step - loss: 125.6803 - val_loss: 173.6002\n",
            "Epoch 10/50\n",
            "3582/3582 [==============================] - 17s 5ms/step - loss: 117.5012 - val_loss: 171.3412\n",
            "Epoch 11/50\n",
            "3582/3582 [==============================] - 17s 5ms/step - loss: 110.0424 - val_loss: 161.8488\n",
            "Epoch 12/50\n",
            "3582/3582 [==============================] - 16s 5ms/step - loss: 101.5711 - val_loss: 168.5524\n",
            "Epoch 13/50\n",
            "3582/3582 [==============================] - 16s 5ms/step - loss: 96.1682 - val_loss: 167.2485\n",
            "Epoch 14/50\n",
            "3582/3582 [==============================] - 19s 5ms/step - loss: 84.7688 - val_loss: 272.2179\n",
            "Epoch 15/50\n",
            "3582/3582 [==============================] - 17s 5ms/step - loss: 83.3710 - val_loss: 154.9087\n",
            "Epoch 16/50\n",
            "3582/3582 [==============================] - 17s 5ms/step - loss: 79.8987 - val_loss: 164.9385\n",
            "Epoch 17/50\n",
            "3582/3582 [==============================] - 17s 5ms/step - loss: 72.7439 - val_loss: 159.3562\n",
            "Epoch 18/50\n",
            "3582/3582 [==============================] - 16s 5ms/step - loss: 68.5253 - val_loss: 155.8987\n",
            "Epoch 19/50\n",
            "3582/3582 [==============================] - 16s 5ms/step - loss: 70.6074 - val_loss: 149.2602\n",
            "Epoch 20/50\n",
            "3582/3582 [==============================] - 17s 5ms/step - loss: 63.6163 - val_loss: 153.8491\n",
            "Epoch 21/50\n",
            "3582/3582 [==============================] - 16s 5ms/step - loss: 59.3410 - val_loss: 159.1193\n",
            "Epoch 22/50\n",
            "3582/3582 [==============================] - 16s 4ms/step - loss: 58.5629 - val_loss: 154.7323\n",
            "Epoch 23/50\n",
            "3582/3582 [==============================] - 17s 5ms/step - loss: 61.9359 - val_loss: 152.6759\n",
            "Epoch 24/50\n",
            "3582/3582 [==============================] - 16s 5ms/step - loss: 51.5782 - val_loss: 159.3307\n",
            "Epoch 25/50\n",
            "3582/3582 [==============================] - 16s 5ms/step - loss: 52.2327 - val_loss: 149.7363\n",
            "Epoch 26/50\n",
            "3582/3582 [==============================] - 17s 5ms/step - loss: 49.7333 - val_loss: 148.8194\n",
            "Epoch 27/50\n",
            "3582/3582 [==============================] - 17s 5ms/step - loss: 47.3285 - val_loss: 151.8092\n",
            "Epoch 28/50\n",
            "3582/3582 [==============================] - 16s 5ms/step - loss: 48.1454 - val_loss: 145.6598\n",
            "Epoch 29/50\n",
            "3582/3582 [==============================] - 16s 5ms/step - loss: 43.1464 - val_loss: 145.0114\n",
            "Epoch 30/50\n",
            "3582/3582 [==============================] - 20s 5ms/step - loss: 43.6694 - val_loss: 146.5282\n",
            "Epoch 31/50\n",
            "3582/3582 [==============================] - 16s 5ms/step - loss: 43.6983 - val_loss: 146.7491\n",
            "Epoch 32/50\n",
            "3582/3582 [==============================] - 17s 5ms/step - loss: 40.9801 - val_loss: 149.4636\n",
            "Epoch 33/50\n",
            "3582/3582 [==============================] - 17s 5ms/step - loss: 38.7298 - val_loss: 142.2799\n",
            "Epoch 34/50\n",
            "3582/3582 [==============================] - 17s 5ms/step - loss: 40.8440 - val_loss: 141.2320\n",
            "Epoch 35/50\n",
            "3582/3582 [==============================] - 17s 5ms/step - loss: 37.6111 - val_loss: 145.8507\n",
            "Epoch 36/50\n",
            "3582/3582 [==============================] - 17s 5ms/step - loss: 37.9328 - val_loss: 144.9400\n",
            "Epoch 37/50\n",
            "3582/3582 [==============================] - 16s 5ms/step - loss: 37.4345 - val_loss: 160.8321\n",
            "Epoch 38/50\n",
            "3582/3582 [==============================] - 17s 5ms/step - loss: 35.3244 - val_loss: 198.7711\n",
            "Epoch 39/50\n",
            "3582/3582 [==============================] - 17s 5ms/step - loss: 35.9725 - val_loss: 142.0432\n",
            "Epoch 40/50\n",
            "3582/3582 [==============================] - 17s 5ms/step - loss: 35.4263 - val_loss: 150.2466\n",
            "Epoch 41/50\n",
            "3582/3582 [==============================] - 16s 5ms/step - loss: 35.0766 - val_loss: 153.8888\n",
            "Epoch 42/50\n",
            "3582/3582 [==============================] - 17s 5ms/step - loss: 33.2350 - val_loss: 144.9109\n",
            "Epoch 43/50\n",
            "3582/3582 [==============================] - 17s 5ms/step - loss: 31.8979 - val_loss: 150.4972\n",
            "Epoch 44/50\n",
            "3582/3582 [==============================] - 17s 5ms/step - loss: 31.8182 - val_loss: 152.6209\n"
          ]
        },
        {
          "output_type": "execute_result",
          "data": {
            "text/plain": [
              "<keras.callbacks.History at 0x7984826db280>"
            ]
          },
          "metadata": {},
          "execution_count": 31
        }
      ],
      "source": [
        "# Input Layer\n",
        "inputs = keras.Input(shape=(226,)) # shapesize dependent of input feature count\n",
        "\n",
        "# Hidden Layers\n",
        "x = layers.Dense(256, activation='relu')(inputs)\n",
        "x = layers.Dense(256, activation='relu')(x)\n",
        "x = layers.Dense(256, activation='relu')(x)\n",
        "\n",
        "# Output Layer\n",
        "output = layers.Dense(1, activation='relu')(x)\n",
        "\n",
        "# Instantiate the model\n",
        "model_ann = keras.Model(inputs, output)\n",
        "\n",
        "# Compile the model\n",
        "model_ann.compile(optimizer='Adam', loss='mean_squared_error')\n",
        "\n",
        "# Train the model\n",
        "model_ann.fit(x_train, y_train, epochs=50, validation_data=(x_val,y_val), callbacks=[callback])"
      ]
    },
    {
      "cell_type": "code",
      "execution_count": 32,
      "id": "0bfb4f3a",
      "metadata": {
        "colab": {
          "base_uri": "https://localhost:8080/"
        },
        "id": "0bfb4f3a",
        "outputId": "0b071181-523f-48d1-ac02-8872ef0feac9"
      },
      "outputs": [
        {
          "output_type": "stream",
          "name": "stdout",
          "text": [
            "2149/2149 [==============================] - 4s 2ms/step\n",
            "MODEL SCORES\n",
            "MAE: 5.2681\n",
            "MSE: 146.8715\n",
            "RMSE: 12.1191\n",
            "MAPE: 39.56 %\n",
            "Rough Accuracy Approximation: 86.55 %\n",
            "R2: 0.9849\n",
            "Max Residual Error: 340.5676\n"
          ]
        }
      ],
      "source": [
        "# Make predictions\n",
        "pred_ann = model_ann.predict(x_test)\n",
        "\n",
        "# Calculate Performance Metrics\n",
        "evaluate_performance(y_test,pred_ann,df_h_comar)"
      ]
    },
    {
      "cell_type": "markdown",
      "id": "89f5ef2f",
      "metadata": {
        "id": "89f5ef2f"
      },
      "source": [
        "#### Exploration: Complex Neural Network (8 Hidden Layer with mixed number of Nodes)"
      ]
    },
    {
      "cell_type": "code",
      "execution_count": 33,
      "id": "0323f941",
      "metadata": {
        "colab": {
          "base_uri": "https://localhost:8080/"
        },
        "id": "0323f941",
        "outputId": "60e84e0d-45fc-435a-ca17-aa894c4ee712"
      },
      "outputs": [
        {
          "output_type": "stream",
          "name": "stdout",
          "text": [
            "Epoch 1/50\n",
            "3582/3582 [==============================] - 25s 6ms/step - loss: 1382.4194 - val_loss: 602.0242\n",
            "Epoch 2/50\n",
            "3582/3582 [==============================] - 24s 7ms/step - loss: 484.4329 - val_loss: 363.8171\n",
            "Epoch 3/50\n",
            "3582/3582 [==============================] - 22s 6ms/step - loss: 363.0553 - val_loss: 349.4863\n",
            "Epoch 4/50\n",
            "3582/3582 [==============================] - 21s 6ms/step - loss: 276.2436 - val_loss: 319.9881\n",
            "Epoch 5/50\n",
            "3582/3582 [==============================] - 24s 7ms/step - loss: 250.1220 - val_loss: 221.2354\n",
            "Epoch 6/50\n",
            "3582/3582 [==============================] - 24s 7ms/step - loss: 200.0533 - val_loss: 293.1664\n",
            "Epoch 7/50\n",
            "3582/3582 [==============================] - 25s 7ms/step - loss: 176.7466 - val_loss: 308.8260\n",
            "Epoch 8/50\n",
            "3582/3582 [==============================] - 22s 6ms/step - loss: 173.1952 - val_loss: 172.1722\n",
            "Epoch 9/50\n",
            "3582/3582 [==============================] - 21s 6ms/step - loss: 136.6631 - val_loss: 200.5125\n",
            "Epoch 10/50\n",
            "3582/3582 [==============================] - 25s 7ms/step - loss: 129.1820 - val_loss: 166.7616\n",
            "Epoch 11/50\n",
            "3582/3582 [==============================] - 24s 7ms/step - loss: 119.5513 - val_loss: 314.0498\n",
            "Epoch 12/50\n",
            "3582/3582 [==============================] - 22s 6ms/step - loss: 116.1231 - val_loss: 177.9685\n",
            "Epoch 13/50\n",
            "3582/3582 [==============================] - 24s 7ms/step - loss: 104.4362 - val_loss: 156.0004\n",
            "Epoch 14/50\n",
            "3582/3582 [==============================] - 24s 7ms/step - loss: 87.7352 - val_loss: 158.0807\n",
            "Epoch 15/50\n",
            "3582/3582 [==============================] - 23s 7ms/step - loss: 96.0588 - val_loss: 204.4837\n",
            "Epoch 16/50\n",
            "3582/3582 [==============================] - 21s 6ms/step - loss: 84.0464 - val_loss: 157.6771\n",
            "Epoch 17/50\n",
            "3582/3582 [==============================] - 24s 7ms/step - loss: 75.2676 - val_loss: 155.5089\n",
            "Epoch 18/50\n",
            "3582/3582 [==============================] - 22s 6ms/step - loss: 72.8425 - val_loss: 147.4579\n",
            "Epoch 19/50\n",
            "3582/3582 [==============================] - 22s 6ms/step - loss: 68.7187 - val_loss: 141.6414\n",
            "Epoch 20/50\n",
            "3582/3582 [==============================] - 21s 6ms/step - loss: 62.8342 - val_loss: 154.2800\n",
            "Epoch 21/50\n",
            "3582/3582 [==============================] - 22s 6ms/step - loss: 60.6911 - val_loss: 142.5507\n",
            "Epoch 22/50\n",
            "3582/3582 [==============================] - 22s 6ms/step - loss: 57.5444 - val_loss: 143.3387\n",
            "Epoch 23/50\n",
            "3582/3582 [==============================] - 23s 7ms/step - loss: 57.5553 - val_loss: 170.9501\n",
            "Epoch 24/50\n",
            "3582/3582 [==============================] - 21s 6ms/step - loss: 54.5905 - val_loss: 151.5820\n",
            "Epoch 25/50\n",
            "3582/3582 [==============================] - 24s 7ms/step - loss: 53.0820 - val_loss: 173.9520\n",
            "Epoch 26/50\n",
            "3582/3582 [==============================] - 21s 6ms/step - loss: 46.7046 - val_loss: 163.3282\n",
            "Epoch 27/50\n",
            "3582/3582 [==============================] - 21s 6ms/step - loss: 51.1208 - val_loss: 179.2084\n",
            "Epoch 28/50\n",
            "3582/3582 [==============================] - 22s 6ms/step - loss: 46.6811 - val_loss: 142.4706\n",
            "Epoch 29/50\n",
            "3582/3582 [==============================] - 24s 7ms/step - loss: 43.0884 - val_loss: 137.8674\n",
            "Epoch 30/50\n",
            "3582/3582 [==============================] - 24s 7ms/step - loss: 45.5591 - val_loss: 143.4098\n",
            "Epoch 31/50\n",
            "3582/3582 [==============================] - 24s 7ms/step - loss: 45.0366 - val_loss: 166.2189\n",
            "Epoch 32/50\n",
            "3582/3582 [==============================] - 21s 6ms/step - loss: 39.9494 - val_loss: 143.4802\n",
            "Epoch 33/50\n",
            "3582/3582 [==============================] - 22s 6ms/step - loss: 39.6196 - val_loss: 135.1812\n",
            "Epoch 34/50\n",
            "3582/3582 [==============================] - 22s 6ms/step - loss: 38.2407 - val_loss: 151.7744\n",
            "Epoch 35/50\n",
            "3582/3582 [==============================] - 21s 6ms/step - loss: 36.7577 - val_loss: 137.1997\n",
            "Epoch 36/50\n",
            "3582/3582 [==============================] - 22s 6ms/step - loss: 36.1916 - val_loss: 520.9733\n",
            "Epoch 37/50\n",
            "3582/3582 [==============================] - 24s 7ms/step - loss: 36.1495 - val_loss: 140.8985\n",
            "Epoch 38/50\n",
            "3582/3582 [==============================] - 22s 6ms/step - loss: 33.3245 - val_loss: 143.3857\n",
            "Epoch 39/50\n",
            "3582/3582 [==============================] - 21s 6ms/step - loss: 31.8676 - val_loss: 143.5034\n",
            "Epoch 40/50\n",
            "3582/3582 [==============================] - 22s 6ms/step - loss: 30.9514 - val_loss: 144.7891\n",
            "Epoch 41/50\n",
            "3582/3582 [==============================] - 24s 7ms/step - loss: 32.9564 - val_loss: 147.1348\n",
            "Epoch 42/50\n",
            "3582/3582 [==============================] - 22s 6ms/step - loss: 30.8285 - val_loss: 134.2273\n",
            "Epoch 43/50\n",
            "3582/3582 [==============================] - 21s 6ms/step - loss: 30.0136 - val_loss: 131.3224\n",
            "Epoch 44/50\n",
            "3582/3582 [==============================] - 22s 6ms/step - loss: 26.9992 - val_loss: 133.8954\n",
            "Epoch 45/50\n",
            "3582/3582 [==============================] - 23s 7ms/step - loss: 26.8720 - val_loss: 164.0246\n",
            "Epoch 46/50\n",
            "3582/3582 [==============================] - 21s 6ms/step - loss: 29.8366 - val_loss: 135.6737\n",
            "Epoch 47/50\n",
            "3582/3582 [==============================] - 21s 6ms/step - loss: 29.9118 - val_loss: 137.6243\n",
            "Epoch 48/50\n",
            "3582/3582 [==============================] - 22s 6ms/step - loss: 25.4476 - val_loss: 140.6934\n",
            "Epoch 49/50\n",
            "3582/3582 [==============================] - 21s 6ms/step - loss: 25.8002 - val_loss: 132.5028\n",
            "Epoch 50/50\n",
            "3582/3582 [==============================] - 22s 6ms/step - loss: 24.3873 - val_loss: 131.6804\n"
          ]
        },
        {
          "output_type": "execute_result",
          "data": {
            "text/plain": [
              "<keras.callbacks.History at 0x7984824a7040>"
            ]
          },
          "metadata": {},
          "execution_count": 33
        }
      ],
      "source": [
        "# Input Layer\n",
        "inputs = keras.Input(shape=(226,)) # shapesize dependent of input feature count\n",
        "\n",
        "# Hidden Layers\n",
        "x = layers.Dense(512, activation='relu')(inputs)\n",
        "x = layers.Dense(512, activation='relu')(x)\n",
        "x = layers.Dense(256, activation='relu')(x)\n",
        "x = layers.Dense(128, activation='relu')(x)\n",
        "x = layers.Dense(128, activation='relu')(x)\n",
        "x = layers.Dense(128, activation='relu')(x)\n",
        "x = layers.Dense(128, activation='relu')(x)\n",
        "x = layers.Dense(64, activation='relu')(x)\n",
        "\n",
        "# Output Layer\n",
        "output = layers.Dense(1, activation='relu')(x)\n",
        "\n",
        "# Instantiate the model\n",
        "model_ann = keras.Model(inputs, output)\n",
        "\n",
        "# Compile the model\n",
        "model_ann.compile(optimizer='Adam', loss='mean_squared_error')\n",
        "\n",
        "# Train the model\n",
        "model_ann.fit(x_train, y_train, epochs=50, validation_data=(x_val,y_val), callbacks=[callback])"
      ]
    },
    {
      "cell_type": "code",
      "execution_count": 34,
      "id": "586f0783",
      "metadata": {
        "colab": {
          "base_uri": "https://localhost:8080/"
        },
        "id": "586f0783",
        "outputId": "0ec696a8-51a9-4240-9622-7d7cd007bdbd"
      },
      "outputs": [
        {
          "output_type": "stream",
          "name": "stdout",
          "text": [
            "2149/2149 [==============================] - 4s 2ms/step\n",
            "MODEL SCORES\n",
            "MAE: 5.1515\n",
            "MSE: 138.6049\n",
            "RMSE: 11.7731\n",
            "MAPE: 39.75 %\n",
            "Rough Accuracy Approximation: 86.84 %\n",
            "R2: 0.9857\n",
            "Max Residual Error: 318.1094\n"
          ]
        }
      ],
      "source": [
        "# Make predictions\n",
        "pred_ann = model_ann.predict(x_test)\n",
        "\n",
        "# Calculate Performance Metrics\n",
        "evaluate_performance(y_test,pred_ann,df_h_comar)"
      ]
    },
    {
      "cell_type": "markdown",
      "id": "f4b60fe5",
      "metadata": {
        "id": "f4b60fe5"
      },
      "source": [
        "<hr style=\"border: 0.5px solid #8888;\">\n",
        "\n",
        "### Hyperparameter Tuning for the best model (in terms of best metric)"
      ]
    },
    {
      "cell_type": "markdown",
      "id": "b4c5c199",
      "metadata": {
        "id": "b4c5c199"
      },
      "source": [
        "**Building the model with the functional API of Keras:**"
      ]
    },
    {
      "cell_type": "code",
      "execution_count": 35,
      "id": "599d230a",
      "metadata": {
        "id": "599d230a"
      },
      "outputs": [],
      "source": [
        "def build_model(hp):\n",
        "    # Input Layer\n",
        "    inputs = keras.Input(shape=(226,)) # shapesize dependent of input feature count\n",
        "\n",
        "    # Hidden Layers\n",
        "    ## Initialize x\n",
        "    x = inputs\n",
        "\n",
        "    ## Possible Hidden Layers\n",
        "    for i in range(hp.Int('total_hidden_layers', 0, 10)):\n",
        "        layer_name = 'hidden_layer_' + str(i+1)\n",
        "        if i in [0,1,2]:\n",
        "            x = layers.Dense(units=hp.Choice(layer_name + '_units', values=[256, 512]), activation='relu')(x)\n",
        "        elif i in [3,4,5]:\n",
        "            x = layers.Dense(units=hp.Choice(layer_name + '_units', values=[128, 256]), activation='relu')(x)\n",
        "        elif i in [6,7,8,9]:\n",
        "            x = layers.Dense(units=hp.Choice(layer_name + '_units', values=[32, 64, 128]), activation='relu')(x)\n",
        "\n",
        "    # Output Layer\n",
        "    output = layers.Dense(1, activation='relu')(x)\n",
        "\n",
        "    # Instantiate the model\n",
        "    model_ann = keras.Model(inputs, output, name='daily_taxi_demand_chicago')\n",
        "\n",
        "    # Compile the model\n",
        "    model_ann.compile(optimizer='Adam', loss='mean_squared_error')\n",
        "\n",
        "    return model_ann"
      ]
    },
    {
      "cell_type": "markdown",
      "id": "0aae2d4c",
      "metadata": {
        "id": "0aae2d4c"
      },
      "source": [
        "**Use hyperparameter tuning to find the best model:**"
      ]
    },
    {
      "cell_type": "markdown",
      "id": "ae9a62cb",
      "metadata": {
        "id": "ae9a62cb"
      },
      "source": [
        "Instantiate a tuner to perform hyperparametertuning:"
      ]
    },
    {
      "cell_type": "markdown",
      "id": "3d13489e",
      "metadata": {
        "id": "3d13489e"
      },
      "source": [
        "The Keras Tuner has four tuners available - `RandomSearch`, `Hyperband`, `BayesianOptimization`, and `Sklearn`.  \n",
        "We will use `Hyperband` because the Hyperband tuning algorithm uses adaptive resource allocation and early-stopping to quickly converge on a high-performing model."
      ]
    },
    {
      "cell_type": "code",
      "execution_count": 36,
      "id": "914bb0a5",
      "metadata": {
        "id": "914bb0a5"
      },
      "outputs": [],
      "source": [
        "tuner = Hyperband(\n",
        "    build_model,\n",
        "    objective = 'val_loss',\n",
        "    max_epochs = 10,\n",
        "    factor = 3,\n",
        "    executions_per_trial = 1,\n",
        "    directory = os.path.normpath('C:/AAA_LOG'),\n",
        "    project_name = 'kerastuner_LOG',\n",
        "    overwrite = True # deletes old LOG's\n",
        "    )"
      ]
    },
    {
      "cell_type": "markdown",
      "id": "cc543400",
      "metadata": {
        "id": "cc543400"
      },
      "source": [
        "Display search space overview:"
      ]
    },
    {
      "cell_type": "code",
      "execution_count": 37,
      "id": "5c8d12ea",
      "metadata": {
        "colab": {
          "base_uri": "https://localhost:8080/"
        },
        "id": "5c8d12ea",
        "outputId": "14c768a5-46e4-4def-8232-b7570eb70ddc"
      },
      "outputs": [
        {
          "output_type": "stream",
          "name": "stdout",
          "text": [
            "Search space summary\n",
            "Default search space size: 1\n",
            "total_hidden_layers (Int)\n",
            "{'default': None, 'conditions': [], 'min_value': 0, 'max_value': 10, 'step': 1, 'sampling': 'linear'}\n"
          ]
        }
      ],
      "source": [
        "tuner.search_space_summary()"
      ]
    },
    {
      "cell_type": "markdown",
      "id": "acd1dbd9",
      "metadata": {
        "id": "acd1dbd9"
      },
      "source": [
        "Define a callback to clear the training outputs at the end of every training step:"
      ]
    },
    {
      "cell_type": "code",
      "execution_count": 38,
      "id": "56205e70",
      "metadata": {
        "id": "56205e70"
      },
      "outputs": [],
      "source": [
        "class ClearTrainingOutput(keras.callbacks.Callback):\n",
        "  def on_train_end(*args, **kwargs):\n",
        "    IPython.display.clear_output(wait = True)"
      ]
    },
    {
      "cell_type": "markdown",
      "id": "4c1282b3",
      "metadata": {
        "id": "4c1282b3"
      },
      "source": [
        "Run the hyperparameter search:"
      ]
    },
    {
      "cell_type": "code",
      "execution_count": 39,
      "id": "91964855",
      "metadata": {
        "colab": {
          "base_uri": "https://localhost:8080/"
        },
        "id": "91964855",
        "outputId": "bcc762a5-207f-4f9e-eda1-97b75284374a"
      },
      "outputs": [
        {
          "output_type": "stream",
          "name": "stdout",
          "text": [
            "Trial 30 Complete [00h 04m 24s]\n",
            "val_loss: 163.00082397460938\n",
            "\n",
            "Best val_loss So Far: 163.00082397460938\n",
            "Total elapsed time: 00h 49m 05s\n"
          ]
        }
      ],
      "source": [
        "tuner.search(\n",
        "    x_train,\n",
        "    y_train,\n",
        "    validation_data=(x_val,y_val),\n",
        "    callbacks = [ClearTrainingOutput()]\n",
        "    )"
      ]
    },
    {
      "cell_type": "markdown",
      "id": "20f09500",
      "metadata": {
        "id": "20f09500"
      },
      "source": [
        "Display the best models, their hyperparameters, and the resulting metrics:"
      ]
    },
    {
      "cell_type": "code",
      "execution_count": 40,
      "id": "21199aaf",
      "metadata": {
        "colab": {
          "base_uri": "https://localhost:8080/"
        },
        "id": "21199aaf",
        "outputId": "2117976e-faff-44ac-b104-4000884afe6d"
      },
      "outputs": [
        {
          "output_type": "stream",
          "name": "stdout",
          "text": [
            "Results summary\n",
            "Results in C:/AAA_LOG/kerastuner_LOG\n",
            "Showing 10 best trials\n",
            "Objective(name=\"val_loss\", direction=\"min\")\n",
            "\n",
            "Trial 0029 summary\n",
            "Hyperparameters:\n",
            "total_hidden_layers: 8\n",
            "hidden_layer_1_units: 512\n",
            "hidden_layer_2_units: 256\n",
            "hidden_layer_3_units: 512\n",
            "hidden_layer_4_units: 256\n",
            "hidden_layer_5_units: 128\n",
            "hidden_layer_6_units: 128\n",
            "hidden_layer_7_units: 128\n",
            "hidden_layer_8_units: 64\n",
            "hidden_layer_9_units: 128\n",
            "tuner/epochs: 10\n",
            "tuner/initial_epoch: 0\n",
            "tuner/bracket: 0\n",
            "tuner/round: 0\n",
            "Score: 163.00082397460938\n",
            "\n",
            "Trial 0024 summary\n",
            "Hyperparameters:\n",
            "total_hidden_layers: 3\n",
            "hidden_layer_1_units: 256\n",
            "hidden_layer_2_units: 256\n",
            "hidden_layer_3_units: 512\n",
            "hidden_layer_4_units: 128\n",
            "hidden_layer_5_units: 256\n",
            "hidden_layer_6_units: 128\n",
            "hidden_layer_7_units: 32\n",
            "hidden_layer_8_units: 32\n",
            "hidden_layer_9_units: 32\n",
            "tuner/epochs: 10\n",
            "tuner/initial_epoch: 4\n",
            "tuner/bracket: 1\n",
            "tuner/round: 1\n",
            "tuner/trial_id: 0018\n",
            "Score: 172.88888549804688\n",
            "\n",
            "Trial 0017 summary\n",
            "Hyperparameters:\n",
            "total_hidden_layers: 7\n",
            "hidden_layer_1_units: 256\n",
            "hidden_layer_2_units: 512\n",
            "hidden_layer_3_units: 512\n",
            "hidden_layer_4_units: 128\n",
            "hidden_layer_5_units: 256\n",
            "hidden_layer_6_units: 128\n",
            "hidden_layer_7_units: 128\n",
            "hidden_layer_8_units: 32\n",
            "hidden_layer_9_units: 64\n",
            "tuner/epochs: 10\n",
            "tuner/initial_epoch: 4\n",
            "tuner/bracket: 2\n",
            "tuner/round: 2\n",
            "tuner/trial_id: 0013\n",
            "Score: 173.61795043945312\n",
            "\n",
            "Trial 0027 summary\n",
            "Hyperparameters:\n",
            "total_hidden_layers: 7\n",
            "hidden_layer_1_units: 256\n",
            "hidden_layer_2_units: 256\n",
            "hidden_layer_3_units: 256\n",
            "hidden_layer_4_units: 256\n",
            "hidden_layer_5_units: 128\n",
            "hidden_layer_6_units: 256\n",
            "hidden_layer_7_units: 64\n",
            "hidden_layer_8_units: 128\n",
            "hidden_layer_9_units: 64\n",
            "tuner/epochs: 10\n",
            "tuner/initial_epoch: 0\n",
            "tuner/bracket: 0\n",
            "tuner/round: 0\n",
            "Score: 177.04782104492188\n",
            "\n",
            "Trial 0016 summary\n",
            "Hyperparameters:\n",
            "total_hidden_layers: 6\n",
            "hidden_layer_1_units: 512\n",
            "hidden_layer_2_units: 512\n",
            "hidden_layer_3_units: 512\n",
            "hidden_layer_4_units: 256\n",
            "hidden_layer_5_units: 128\n",
            "hidden_layer_6_units: 128\n",
            "hidden_layer_7_units: 128\n",
            "hidden_layer_8_units: 64\n",
            "hidden_layer_9_units: 64\n",
            "tuner/epochs: 10\n",
            "tuner/initial_epoch: 4\n",
            "tuner/bracket: 2\n",
            "tuner/round: 2\n",
            "tuner/trial_id: 0012\n",
            "Score: 180.57920837402344\n",
            "\n",
            "Trial 0025 summary\n",
            "Hyperparameters:\n",
            "total_hidden_layers: 5\n",
            "hidden_layer_1_units: 512\n",
            "hidden_layer_2_units: 512\n",
            "hidden_layer_3_units: 256\n",
            "hidden_layer_4_units: 256\n",
            "hidden_layer_5_units: 256\n",
            "hidden_layer_6_units: 128\n",
            "hidden_layer_7_units: 64\n",
            "hidden_layer_8_units: 128\n",
            "hidden_layer_9_units: 128\n",
            "tuner/epochs: 10\n",
            "tuner/initial_epoch: 4\n",
            "tuner/bracket: 1\n",
            "tuner/round: 1\n",
            "tuner/trial_id: 0022\n",
            "Score: 180.67230224609375\n",
            "\n",
            "Trial 0026 summary\n",
            "Hyperparameters:\n",
            "total_hidden_layers: 7\n",
            "hidden_layer_1_units: 512\n",
            "hidden_layer_2_units: 256\n",
            "hidden_layer_3_units: 512\n",
            "hidden_layer_4_units: 256\n",
            "hidden_layer_5_units: 256\n",
            "hidden_layer_6_units: 256\n",
            "hidden_layer_7_units: 64\n",
            "hidden_layer_8_units: 128\n",
            "hidden_layer_9_units: 64\n",
            "tuner/epochs: 10\n",
            "tuner/initial_epoch: 0\n",
            "tuner/bracket: 0\n",
            "tuner/round: 0\n",
            "Score: 187.53094482421875\n",
            "\n",
            "Trial 0018 summary\n",
            "Hyperparameters:\n",
            "total_hidden_layers: 3\n",
            "hidden_layer_1_units: 256\n",
            "hidden_layer_2_units: 256\n",
            "hidden_layer_3_units: 512\n",
            "hidden_layer_4_units: 128\n",
            "hidden_layer_5_units: 256\n",
            "hidden_layer_6_units: 128\n",
            "hidden_layer_7_units: 32\n",
            "hidden_layer_8_units: 32\n",
            "hidden_layer_9_units: 32\n",
            "tuner/epochs: 4\n",
            "tuner/initial_epoch: 0\n",
            "tuner/bracket: 1\n",
            "tuner/round: 0\n",
            "Score: 212.0127410888672\n",
            "\n",
            "Trial 0012 summary\n",
            "Hyperparameters:\n",
            "total_hidden_layers: 6\n",
            "hidden_layer_1_units: 512\n",
            "hidden_layer_2_units: 512\n",
            "hidden_layer_3_units: 512\n",
            "hidden_layer_4_units: 256\n",
            "hidden_layer_5_units: 128\n",
            "hidden_layer_6_units: 128\n",
            "hidden_layer_7_units: 128\n",
            "hidden_layer_8_units: 64\n",
            "hidden_layer_9_units: 64\n",
            "tuner/epochs: 4\n",
            "tuner/initial_epoch: 2\n",
            "tuner/bracket: 2\n",
            "tuner/round: 1\n",
            "tuner/trial_id: 0008\n",
            "Score: 245.17906188964844\n",
            "\n",
            "Trial 0022 summary\n",
            "Hyperparameters:\n",
            "total_hidden_layers: 5\n",
            "hidden_layer_1_units: 512\n",
            "hidden_layer_2_units: 512\n",
            "hidden_layer_3_units: 256\n",
            "hidden_layer_4_units: 256\n",
            "hidden_layer_5_units: 256\n",
            "hidden_layer_6_units: 128\n",
            "hidden_layer_7_units: 64\n",
            "hidden_layer_8_units: 128\n",
            "hidden_layer_9_units: 128\n",
            "tuner/epochs: 4\n",
            "tuner/initial_epoch: 0\n",
            "tuner/bracket: 1\n",
            "tuner/round: 0\n",
            "Score: 247.90821838378906\n"
          ]
        }
      ],
      "source": [
        "tuner.results_summary()"
      ]
    },
    {
      "cell_type": "markdown",
      "id": "75d87144",
      "metadata": {
        "id": "75d87144"
      },
      "source": [
        "Get the optimal hyperparameters:"
      ]
    },
    {
      "cell_type": "code",
      "execution_count": 41,
      "id": "b5f6076a",
      "metadata": {
        "colab": {
          "base_uri": "https://localhost:8080/"
        },
        "id": "b5f6076a",
        "outputId": "b0eee979-c240-4f67-b2ef-748e148e519b"
      },
      "outputs": [
        {
          "output_type": "stream",
          "name": "stdout",
          "text": [
            "\n",
            "The hyperparameter search is complete. \n",
            "The optimal number of units in the first hidden layer is 512 \n",
            "and the total number of hidden layers is 8.\n",
            "\n"
          ]
        }
      ],
      "source": [
        "ann_best_hps = tuner.get_best_hyperparameters(num_trials = 1)[0]\n",
        "\n",
        "print(f\"\"\"\n",
        "The hyperparameter search is complete.\n",
        "The optimal number of units in the first hidden layer is {ann_best_hps.get('hidden_layer_1_units')}\n",
        "and the total number of hidden layers is {ann_best_hps.get('total_hidden_layers')}.\n",
        "\"\"\")"
      ]
    },
    {
      "cell_type": "markdown",
      "id": "b132baca",
      "metadata": {
        "id": "b132baca"
      },
      "source": [
        "Get the best model:"
      ]
    },
    {
      "cell_type": "code",
      "execution_count": 42,
      "id": "f12b9c0c",
      "metadata": {
        "id": "f12b9c0c"
      },
      "outputs": [],
      "source": [
        "model_ann = tuner.get_best_models(num_models=1)[0]"
      ]
    },
    {
      "cell_type": "markdown",
      "id": "96f0d8ea",
      "metadata": {
        "id": "96f0d8ea"
      },
      "source": [
        "Show the model summary:"
      ]
    },
    {
      "cell_type": "code",
      "execution_count": 43,
      "id": "d7b02b10",
      "metadata": {
        "colab": {
          "base_uri": "https://localhost:8080/"
        },
        "id": "d7b02b10",
        "outputId": "23d07d65-07a9-4a8d-caf3-6c139ddbf9ba"
      },
      "outputs": [
        {
          "output_type": "stream",
          "name": "stdout",
          "text": [
            "Model: \"daily_taxi_demand_chicago\"\n",
            "_________________________________________________________________\n",
            " Layer (type)                Output Shape              Param #   \n",
            "=================================================================\n",
            " input_1 (InputLayer)        [(None, 226)]             0         \n",
            "                                                                 \n",
            " dense (Dense)               (None, 512)               116224    \n",
            "                                                                 \n",
            " dense_1 (Dense)             (None, 256)               131328    \n",
            "                                                                 \n",
            " dense_2 (Dense)             (None, 512)               131584    \n",
            "                                                                 \n",
            " dense_3 (Dense)             (None, 256)               131328    \n",
            "                                                                 \n",
            " dense_4 (Dense)             (None, 128)               32896     \n",
            "                                                                 \n",
            " dense_5 (Dense)             (None, 128)               16512     \n",
            "                                                                 \n",
            " dense_6 (Dense)             (None, 128)               16512     \n",
            "                                                                 \n",
            " dense_7 (Dense)             (None, 64)                8256      \n",
            "                                                                 \n",
            " dense_8 (Dense)             (None, 1)                 65        \n",
            "                                                                 \n",
            "=================================================================\n",
            "Total params: 584,705\n",
            "Trainable params: 584,705\n",
            "Non-trainable params: 0\n",
            "_________________________________________________________________\n"
          ]
        }
      ],
      "source": [
        "model_ann.summary()"
      ]
    },
    {
      "cell_type": "markdown",
      "id": "6ce19ff5",
      "metadata": {
        "id": "6ce19ff5"
      },
      "source": [
        "**Train the model:**"
      ]
    },
    {
      "cell_type": "markdown",
      "id": "f1696bd0",
      "metadata": {
        "id": "f1696bd0"
      },
      "source": [
        "For **performance reasons**, the model was **only trained for 10 epochs** in hyperparameter tuning.  \n",
        "That is why we are **now continuing to train** the model to achieve the **best possible result**."
      ]
    },
    {
      "cell_type": "markdown",
      "id": "ad0da0ce",
      "metadata": {
        "id": "ad0da0ce"
      },
      "source": [
        "Define a callback that stops earlier if there is no further improvement, restores the model weights from the epoch with the best value of val_loss, and prevents overfitting by monitoring val_loss:"
      ]
    },
    {
      "cell_type": "code",
      "execution_count": 44,
      "id": "3c7704d2",
      "metadata": {
        "id": "3c7704d2"
      },
      "outputs": [],
      "source": [
        "callback = keras.callbacks.EarlyStopping(\n",
        "    monitor='val_loss',\n",
        "    mode='min',\n",
        "    patience=10,\n",
        "    restore_best_weights=True\n",
        "    )"
      ]
    },
    {
      "cell_type": "code",
      "execution_count": 45,
      "id": "7f6f470b",
      "metadata": {
        "colab": {
          "base_uri": "https://localhost:8080/"
        },
        "id": "7f6f470b",
        "outputId": "855c0b8b-530d-4d9b-a132-6966d8b0bab0"
      },
      "outputs": [
        {
          "output_type": "stream",
          "name": "stdout",
          "text": [
            "Epoch 1/100\n",
            "3582/3582 [==============================] - 26s 6ms/step - loss: 128.5086 - val_loss: 167.7932\n",
            "Epoch 2/100\n",
            "3582/3582 [==============================] - 24s 7ms/step - loss: 119.7353 - val_loss: 157.6959\n",
            "Epoch 3/100\n",
            "3582/3582 [==============================] - 22s 6ms/step - loss: 112.9607 - val_loss: 168.1264\n",
            "Epoch 4/100\n",
            "3582/3582 [==============================] - 22s 6ms/step - loss: 120.7263 - val_loss: 171.2516\n",
            "Epoch 5/100\n",
            "3582/3582 [==============================] - 26s 7ms/step - loss: 97.6419 - val_loss: 265.2180\n",
            "Epoch 6/100\n",
            "3582/3582 [==============================] - 35s 10ms/step - loss: 88.1027 - val_loss: 163.2811\n",
            "Epoch 7/100\n",
            "3582/3582 [==============================] - 26s 7ms/step - loss: 85.0723 - val_loss: 159.6095\n",
            "Epoch 8/100\n",
            "3582/3582 [==============================] - 26s 7ms/step - loss: 78.4086 - val_loss: 160.9241\n",
            "Epoch 9/100\n",
            "3582/3582 [==============================] - 25s 7ms/step - loss: 76.6501 - val_loss: 148.1893\n",
            "Epoch 10/100\n",
            "3582/3582 [==============================] - 23s 6ms/step - loss: 70.3583 - val_loss: 156.3414\n",
            "Epoch 11/100\n",
            "3582/3582 [==============================] - 22s 6ms/step - loss: 70.5920 - val_loss: 141.7941\n",
            "Epoch 12/100\n",
            "3582/3582 [==============================] - 24s 7ms/step - loss: 63.9682 - val_loss: 148.5496\n",
            "Epoch 13/100\n",
            "3582/3582 [==============================] - 23s 6ms/step - loss: 56.6717 - val_loss: 156.7897\n",
            "Epoch 14/100\n",
            "3582/3582 [==============================] - 25s 7ms/step - loss: 55.4413 - val_loss: 276.2258\n",
            "Epoch 15/100\n",
            "3582/3582 [==============================] - 25s 7ms/step - loss: 56.7809 - val_loss: 138.8016\n",
            "Epoch 16/100\n",
            "3582/3582 [==============================] - 22s 6ms/step - loss: 51.9863 - val_loss: 153.6828\n",
            "Epoch 17/100\n",
            "3582/3582 [==============================] - 25s 7ms/step - loss: 51.4527 - val_loss: 136.5941\n",
            "Epoch 18/100\n",
            "3582/3582 [==============================] - 22s 6ms/step - loss: 48.4634 - val_loss: 143.8804\n",
            "Epoch 19/100\n",
            "3582/3582 [==============================] - 22s 6ms/step - loss: 46.8846 - val_loss: 158.3026\n",
            "Epoch 20/100\n",
            "3582/3582 [==============================] - 22s 6ms/step - loss: 46.8560 - val_loss: 139.8599\n",
            "Epoch 21/100\n",
            "3582/3582 [==============================] - 24s 7ms/step - loss: 43.3184 - val_loss: 150.3963\n",
            "Epoch 22/100\n",
            "3582/3582 [==============================] - 23s 6ms/step - loss: 40.3355 - val_loss: 133.2780\n",
            "Epoch 23/100\n",
            "3582/3582 [==============================] - 24s 7ms/step - loss: 42.8416 - val_loss: 142.3477\n",
            "Epoch 24/100\n",
            "3582/3582 [==============================] - 22s 6ms/step - loss: 38.9181 - val_loss: 141.7444\n",
            "Epoch 25/100\n",
            "3582/3582 [==============================] - 22s 6ms/step - loss: 38.7412 - val_loss: 141.5949\n",
            "Epoch 26/100\n",
            "3582/3582 [==============================] - 22s 6ms/step - loss: 38.7532 - val_loss: 145.4833\n",
            "Epoch 27/100\n",
            "3582/3582 [==============================] - 22s 6ms/step - loss: 36.9311 - val_loss: 138.3955\n",
            "Epoch 28/100\n",
            "3582/3582 [==============================] - 25s 7ms/step - loss: 34.0720 - val_loss: 140.3363\n",
            "Epoch 29/100\n",
            "3582/3582 [==============================] - 22s 6ms/step - loss: 31.8972 - val_loss: 140.0154\n",
            "Epoch 30/100\n",
            "3582/3582 [==============================] - 25s 7ms/step - loss: 37.1791 - val_loss: 134.4482\n",
            "Epoch 31/100\n",
            "3582/3582 [==============================] - 22s 6ms/step - loss: 32.9475 - val_loss: 148.9888\n",
            "Epoch 32/100\n",
            "3582/3582 [==============================] - 22s 6ms/step - loss: 32.0576 - val_loss: 189.7037\n"
          ]
        },
        {
          "output_type": "execute_result",
          "data": {
            "text/plain": [
              "<keras.callbacks.History at 0x7985142c7e80>"
            ]
          },
          "metadata": {},
          "execution_count": 45
        }
      ],
      "source": [
        "model_ann.fit(x_train, y_train, epochs=100, validation_data=(x_val,y_val), callbacks=[callback])"
      ]
    },
    {
      "cell_type": "markdown",
      "id": "ec006554",
      "metadata": {
        "id": "ec006554"
      },
      "source": [
        "### Evaluation: Hourly Demand - Community Area"
      ]
    },
    {
      "cell_type": "code",
      "execution_count": 46,
      "id": "42a7e68d",
      "metadata": {
        "colab": {
          "base_uri": "https://localhost:8080/"
        },
        "id": "42a7e68d",
        "outputId": "14caab9c-a124-4f60-e9e8-189f1e242f26"
      },
      "outputs": [
        {
          "output_type": "stream",
          "name": "stdout",
          "text": [
            "2149/2149 [==============================] - 4s 2ms/step\n",
            "MODEL SCORES\n",
            "MAE: 5.2011\n",
            "MSE: 147.1795\n",
            "RMSE: 12.1318\n",
            "MAPE: 39.15 %\n",
            "Rough Accuracy Approximation: 86.72 %\n",
            "R2: 0.9848\n",
            "Max Residual Error: 283.3799\n"
          ]
        }
      ],
      "source": [
        "# Make predictions\n",
        "pred_ann = model_ann.predict(x_test)\n",
        "\n",
        "# Calculate Performance Metrics\n",
        "evaluate_performance(y_test,pred_ann,df_h_comar)"
      ]
    },
    {
      "cell_type": "markdown",
      "id": "714f2657",
      "metadata": {
        "id": "714f2657"
      },
      "source": [
        "### NOTE:\n",
        "- The architecture from this Hyperparametertuning will be used as the baseline architecture for the following spatial-unit comparisons!"
      ]
    },
    {
      "cell_type": "markdown",
      "id": "7a576bfe",
      "metadata": {
        "id": "7a576bfe"
      },
      "source": [
        "<hr style=\"border: 0.5px solid #8888;\">\n",
        "\n",
        "\n",
        "## 2. Hourly Demand - hexagon low resolution"
      ]
    },
    {
      "cell_type": "markdown",
      "id": "a49eda36",
      "metadata": {
        "id": "a49eda36"
      },
      "source": [
        "- The architecture of the hyperparametertuning from Community Area will be adapted and used here!"
      ]
    },
    {
      "cell_type": "markdown",
      "id": "afc43afb",
      "metadata": {
        "id": "afc43afb"
      },
      "source": [
        "### **Feature engineering**"
      ]
    },
    {
      "cell_type": "code",
      "execution_count": 47,
      "id": "942c054a",
      "metadata": {
        "colab": {
          "base_uri": "https://localhost:8080/"
        },
        "id": "942c054a",
        "outputId": "6c67db43-0479-464b-8e38-bd19ac6335b5"
      },
      "outputs": [
        {
          "output_type": "stream",
          "name": "stdout",
          "text": [
            "<class 'pandas.core.frame.DataFrame'>\n",
            "RangeIndex: 104274 entries, 0 to 104273\n",
            "Data columns (total 15 columns):\n",
            " #   Column               Non-Null Count   Dtype  \n",
            "---  ------               --------------   -----  \n",
            " 0   start_stamp          104274 non-null  int64  \n",
            " 1   h3_hex_id_low_res    104274 non-null  object \n",
            " 2   numOfTaxis_area      104274 non-null  int64  \n",
            " 3   dayOfWeek            104274 non-null  int64  \n",
            " 4   isHoliday            104274 non-null  bool   \n",
            " 5   isRushhour           104274 non-null  bool   \n",
            " 6   start_time_day       104274 non-null  int64  \n",
            " 7   start_time_week      104274 non-null  int64  \n",
            " 8   pressure             104274 non-null  float64\n",
            " 9   humidity             104274 non-null  float64\n",
            " 10  wind_direction       104274 non-null  float64\n",
            " 11  wind_speed           104274 non-null  float64\n",
            " 12  description          104274 non-null  object \n",
            " 13  season               104274 non-null  int64  \n",
            " 14  temperature_celsius  104274 non-null  float64\n",
            "dtypes: bool(2), float64(5), int64(6), object(2)\n",
            "memory usage: 10.5+ MB\n"
          ]
        }
      ],
      "source": [
        "df_h_hexlow.info()"
      ]
    },
    {
      "cell_type": "code",
      "execution_count": 48,
      "id": "a2404077",
      "metadata": {
        "colab": {
          "base_uri": "https://localhost:8080/"
        },
        "id": "a2404077",
        "outputId": "ccdb9cbf-24d7-4fc7-d272-f43bccf1892a"
      },
      "outputs": [
        {
          "output_type": "stream",
          "name": "stdout",
          "text": [
            "<class 'pandas.core.frame.DataFrame'>\n",
            "RangeIndex: 104274 entries, 0 to 104273\n",
            "Columns: 176 entries, numOfTaxis_area to season_3\n",
            "dtypes: bool(2), float64(5), int64(1), uint8(168)\n",
            "memory usage: 21.7 MB\n"
          ]
        }
      ],
      "source": [
        "# Prepare variables for dummy creation\n",
        "df_h_hexlow['start_stamp'] = df_h_hexlow['start_stamp'].astype(str)\n",
        "df_h_hexlow['h3_hex_id_low_res'] = df_h_hexlow['h3_hex_id_low_res'].astype(str)\n",
        "df_h_hexlow['dayOfWeek'] = df_h_hexlow['dayOfWeek'].astype(str)\n",
        "df_h_hexlow['start_time_day'] = df_h_hexlow['start_time_day'].astype(str)\n",
        "df_h_hexlow['start_time_week'] = df_h_hexlow['start_time_week'].astype(str)\n",
        "df_h_hexlow['season'] = df_h_hexlow['season'].astype(str)\n",
        "df_h_hexlow['description'] = df_h_hexlow['description'].astype(str)\n",
        "\n",
        "# Create dummy variables from categorical features which are not already 0/1\n",
        "df_h_hexlow = pd.get_dummies(df_h_hexlow)\n",
        "df_h_hexlow.info()"
      ]
    },
    {
      "cell_type": "code",
      "execution_count": 49,
      "id": "5aea83ef",
      "metadata": {
        "id": "5aea83ef"
      },
      "outputs": [],
      "source": [
        "# Set output frame and input frame\n",
        "x = df_h_hexlow.drop('numOfTaxis_area', axis=1)\n",
        "y = df_h_hexlow['numOfTaxis_area']\n",
        "\n",
        "# Normalize the data\n",
        "scaler = StandardScaler()\n",
        "x_norm = scaler.fit_transform(x)\n",
        "\n",
        "# Split the data set in 70% training set and 30% testing set\n",
        "x_train, x_test, y_train, y_test = train_test_split(x_norm, y, test_size=0.3, random_state=42)\n",
        "\n",
        "# Split the training data set in 70% training set and 20% validation set to achieve a 50-20-30 split\n",
        "x_train, x_val, y_train, y_val = train_test_split(x_train, y_train, test_size=(0.2/0.7), random_state = 42)"
      ]
    },
    {
      "cell_type": "markdown",
      "id": "9c402993",
      "metadata": {
        "id": "9c402993"
      },
      "source": [
        "### **Build Model according to the architecture of the hyperparametertuning from Community Area**"
      ]
    },
    {
      "cell_type": "code",
      "execution_count": 50,
      "id": "eedf5449",
      "metadata": {
        "colab": {
          "base_uri": "https://localhost:8080/"
        },
        "id": "eedf5449",
        "outputId": "9ddbe512-95bd-4089-fefc-8649c85345f1"
      },
      "outputs": [
        {
          "output_type": "stream",
          "name": "stdout",
          "text": [
            "Epoch 1/100\n",
            "1630/1630 [==============================] - 17s 8ms/step - loss: 7065.5645 - val_loss: 2368.8879\n",
            "Epoch 2/100\n",
            "1630/1630 [==============================] - 19s 12ms/step - loss: 2224.5823 - val_loss: 2015.5363\n",
            "Epoch 3/100\n",
            "1630/1630 [==============================] - 9s 6ms/step - loss: 1589.4838 - val_loss: 1469.6897\n",
            "Epoch 4/100\n",
            "1630/1630 [==============================] - 12s 7ms/step - loss: 1248.0225 - val_loss: 2008.9427\n",
            "Epoch 5/100\n",
            "1630/1630 [==============================] - 10s 6ms/step - loss: 1059.6050 - val_loss: 1427.7810\n",
            "Epoch 6/100\n",
            "1630/1630 [==============================] - 11s 7ms/step - loss: 1081.8521 - val_loss: 1191.4674\n",
            "Epoch 7/100\n",
            "1630/1630 [==============================] - 11s 7ms/step - loss: 798.9312 - val_loss: 1592.4380\n",
            "Epoch 8/100\n",
            "1630/1630 [==============================] - 11s 7ms/step - loss: 753.2051 - val_loss: 793.3758\n",
            "Epoch 9/100\n",
            "1630/1630 [==============================] - 12s 7ms/step - loss: 700.0373 - val_loss: 1192.4043\n",
            "Epoch 10/100\n",
            "1630/1630 [==============================] - 10s 6ms/step - loss: 606.0143 - val_loss: 1129.2928\n",
            "Epoch 11/100\n",
            "1630/1630 [==============================] - 11s 7ms/step - loss: 492.6097 - val_loss: 1109.4979\n",
            "Epoch 12/100\n",
            "1630/1630 [==============================] - 11s 7ms/step - loss: 490.5358 - val_loss: 849.7300\n",
            "Epoch 13/100\n",
            "1630/1630 [==============================] - 11s 7ms/step - loss: 417.9446 - val_loss: 739.1865\n",
            "Epoch 14/100\n",
            "1630/1630 [==============================] - 12s 8ms/step - loss: 575.2630 - val_loss: 851.1104\n",
            "Epoch 15/100\n",
            "1630/1630 [==============================] - 12s 7ms/step - loss: 335.8325 - val_loss: 927.5868\n",
            "Epoch 16/100\n",
            "1630/1630 [==============================] - 11s 7ms/step - loss: 358.1018 - val_loss: 667.3318\n",
            "Epoch 17/100\n",
            "1630/1630 [==============================] - 10s 6ms/step - loss: 323.1103 - val_loss: 602.9478\n",
            "Epoch 18/100\n",
            "1630/1630 [==============================] - 11s 7ms/step - loss: 359.0464 - val_loss: 729.4708\n",
            "Epoch 19/100\n",
            "1630/1630 [==============================] - 11s 7ms/step - loss: 290.6696 - val_loss: 638.2743\n",
            "Epoch 20/100\n",
            "1630/1630 [==============================] - 11s 7ms/step - loss: 271.4912 - val_loss: 640.8165\n",
            "Epoch 21/100\n",
            "1630/1630 [==============================] - 11s 7ms/step - loss: 269.9592 - val_loss: 686.8604\n",
            "Epoch 22/100\n",
            "1630/1630 [==============================] - 11s 7ms/step - loss: 294.7216 - val_loss: 829.4095\n",
            "Epoch 23/100\n",
            "1630/1630 [==============================] - 10s 6ms/step - loss: 286.5737 - val_loss: 772.1877\n",
            "Epoch 24/100\n",
            "1630/1630 [==============================] - 11s 7ms/step - loss: 225.8069 - val_loss: 628.6924\n",
            "Epoch 25/100\n",
            "1630/1630 [==============================] - 11s 7ms/step - loss: 186.0255 - val_loss: 542.3556\n",
            "Epoch 26/100\n",
            "1630/1630 [==============================] - 11s 7ms/step - loss: 215.1061 - val_loss: 663.4924\n",
            "Epoch 27/100\n",
            "1630/1630 [==============================] - 11s 7ms/step - loss: 209.1142 - val_loss: 598.0599\n",
            "Epoch 28/100\n",
            "1630/1630 [==============================] - 11s 7ms/step - loss: 211.7299 - val_loss: 582.1735\n",
            "Epoch 29/100\n",
            "1630/1630 [==============================] - 10s 6ms/step - loss: 222.7458 - val_loss: 545.2605\n",
            "Epoch 30/100\n",
            "1630/1630 [==============================] - 11s 7ms/step - loss: 175.5507 - val_loss: 723.1031\n",
            "Epoch 31/100\n",
            "1630/1630 [==============================] - 11s 7ms/step - loss: 169.3466 - val_loss: 540.8677\n",
            "Epoch 32/100\n",
            "1630/1630 [==============================] - 11s 7ms/step - loss: 173.7610 - val_loss: 571.8261\n",
            "Epoch 33/100\n",
            "1630/1630 [==============================] - 10s 6ms/step - loss: 175.7271 - val_loss: 581.6453\n",
            "Epoch 34/100\n",
            "1630/1630 [==============================] - 11s 7ms/step - loss: 165.6936 - val_loss: 617.7714\n",
            "Epoch 35/100\n",
            "1630/1630 [==============================] - 11s 7ms/step - loss: 180.0906 - val_loss: 568.8641\n",
            "Epoch 36/100\n",
            "1630/1630 [==============================] - 11s 7ms/step - loss: 158.9925 - val_loss: 501.6302\n",
            "Epoch 37/100\n",
            "1630/1630 [==============================] - 11s 6ms/step - loss: 133.9427 - val_loss: 552.4915\n",
            "Epoch 38/100\n",
            "1630/1630 [==============================] - 11s 7ms/step - loss: 142.5338 - val_loss: 532.6056\n",
            "Epoch 39/100\n",
            "1630/1630 [==============================] - 12s 8ms/step - loss: 138.0074 - val_loss: 691.3381\n",
            "Epoch 40/100\n",
            "1630/1630 [==============================] - 11s 7ms/step - loss: 154.6533 - val_loss: 532.8929\n",
            "Epoch 41/100\n",
            "1630/1630 [==============================] - 11s 7ms/step - loss: 144.7698 - val_loss: 571.1871\n",
            "Epoch 42/100\n",
            "1630/1630 [==============================] - 11s 7ms/step - loss: 138.2840 - val_loss: 544.5272\n",
            "Epoch 43/100\n",
            "1630/1630 [==============================] - 11s 6ms/step - loss: 144.2504 - val_loss: 530.1082\n",
            "Epoch 44/100\n",
            "1630/1630 [==============================] - 10s 6ms/step - loss: 105.6287 - val_loss: 499.2006\n",
            "Epoch 45/100\n",
            "1630/1630 [==============================] - 11s 7ms/step - loss: 118.1136 - val_loss: 475.4882\n",
            "Epoch 46/100\n",
            "1630/1630 [==============================] - 11s 7ms/step - loss: 113.8939 - val_loss: 491.4688\n",
            "Epoch 47/100\n",
            "1630/1630 [==============================] - 11s 7ms/step - loss: 105.9380 - val_loss: 562.3092\n",
            "Epoch 48/100\n",
            "1630/1630 [==============================] - 11s 7ms/step - loss: 104.5186 - val_loss: 530.7104\n",
            "Epoch 49/100\n",
            "1630/1630 [==============================] - 10s 6ms/step - loss: 115.0665 - val_loss: 508.8931\n",
            "Epoch 50/100\n",
            "1630/1630 [==============================] - 10s 6ms/step - loss: 106.8903 - val_loss: 607.5609\n",
            "Epoch 51/100\n",
            "1630/1630 [==============================] - 11s 7ms/step - loss: 116.3184 - val_loss: 508.9294\n",
            "Epoch 52/100\n",
            "1630/1630 [==============================] - 11s 7ms/step - loss: 100.0393 - val_loss: 546.2093\n",
            "Epoch 53/100\n",
            "1630/1630 [==============================] - 11s 7ms/step - loss: 95.6499 - val_loss: 535.8655\n",
            "Epoch 54/100\n",
            "1630/1630 [==============================] - 11s 7ms/step - loss: 94.7501 - val_loss: 558.1369\n",
            "Epoch 55/100\n",
            "1630/1630 [==============================] - 11s 7ms/step - loss: 113.0327 - val_loss: 556.4744\n"
          ]
        },
        {
          "output_type": "execute_result",
          "data": {
            "text/plain": [
              "<keras.callbacks.History at 0x798460129180>"
            ]
          },
          "metadata": {},
          "execution_count": 50
        }
      ],
      "source": [
        "# Input Layer\n",
        "inputs = keras.Input(shape=(175,)) # shapesize dependent of input feature count\n",
        "\n",
        "# Hidden Layers\n",
        "x = layers.Dense(512, activation='relu')(inputs)\n",
        "x = layers.Dense(256, activation='relu')(x)\n",
        "x = layers.Dense(512, activation='relu')(x)\n",
        "x = layers.Dense(256, activation='relu')(x)\n",
        "x = layers.Dense(128, activation='relu')(x)\n",
        "x = layers.Dense(128, activation='relu')(x)\n",
        "x = layers.Dense(128, activation='relu')(x)\n",
        "x = layers.Dense(64, activation='relu')(x)\n",
        "\n",
        "# Output Layer\n",
        "output = layers.Dense(1, activation='relu')(x)\n",
        "\n",
        "# Instantiate the model\n",
        "model_ann = keras.Model(inputs, output)\n",
        "\n",
        "# Compile the model\n",
        "model_ann.compile(optimizer='Adam', loss='mean_squared_error')\n",
        "\n",
        "# Train the model\n",
        "model_ann.fit(x_train, y_train, epochs=100, validation_data=(x_val,y_val), callbacks=[callback])"
      ]
    },
    {
      "cell_type": "markdown",
      "id": "beb89922",
      "metadata": {
        "id": "beb89922"
      },
      "source": [
        "### Evaluation: Hourly Demand - hexagon low resolution"
      ]
    },
    {
      "cell_type": "code",
      "execution_count": 51,
      "id": "ad2762b7",
      "metadata": {
        "colab": {
          "base_uri": "https://localhost:8080/"
        },
        "id": "ad2762b7",
        "outputId": "73fe9345-1677-42b9-8500-0545917ce3c4"
      },
      "outputs": [
        {
          "output_type": "stream",
          "name": "stdout",
          "text": [
            "978/978 [==============================] - 2s 2ms/step\n",
            "MODEL SCORES\n",
            "MAE: 8.7386\n",
            "MSE: 445.9757\n",
            "RMSE: 21.1181\n",
            "MAPE: 35.6 %\n",
            "Rough Accuracy Approximation: 89.85 %\n",
            "R2: 0.99\n",
            "Max Residual Error: 456.5616\n"
          ]
        }
      ],
      "source": [
        "# Make predictions\n",
        "pred_ann = model_ann.predict(x_test)\n",
        "\n",
        "# Calculate Performance Metrics\n",
        "evaluate_performance(y_test,pred_ann,df_h_hexlow)"
      ]
    },
    {
      "cell_type": "markdown",
      "id": "0a8a9fd3",
      "metadata": {
        "id": "0a8a9fd3"
      },
      "source": [
        "<hr style=\"border: 0.5px solid #8888;\">\n",
        "\n",
        "\n",
        "## 3. Hourly Demand - hexagon medium resolution"
      ]
    },
    {
      "cell_type": "markdown",
      "id": "d17e67e9",
      "metadata": {
        "id": "d17e67e9"
      },
      "source": [
        "- The architecture of the hyperparametertuning from Community Area will be adapted and used here!"
      ]
    },
    {
      "cell_type": "code",
      "execution_count": 52,
      "id": "ce7d337e",
      "metadata": {
        "colab": {
          "base_uri": "https://localhost:8080/"
        },
        "id": "ce7d337e",
        "outputId": "c67ac191-b5f4-4eaa-f6e7-d45f4e5b5015"
      },
      "outputs": [
        {
          "output_type": "stream",
          "name": "stdout",
          "text": [
            "<class 'pandas.core.frame.DataFrame'>\n",
            "RangeIndex: 278343 entries, 0 to 278342\n",
            "Data columns (total 15 columns):\n",
            " #   Column                Non-Null Count   Dtype  \n",
            "---  ------                --------------   -----  \n",
            " 0   start_stamp           278343 non-null  int64  \n",
            " 1   h3_hex_id_medium_res  278343 non-null  object \n",
            " 2   numOfTaxis_area       278343 non-null  int64  \n",
            " 3   dayOfWeek             278343 non-null  int64  \n",
            " 4   isHoliday             278343 non-null  bool   \n",
            " 5   isRushhour            278343 non-null  bool   \n",
            " 6   start_time_day        278343 non-null  int64  \n",
            " 7   start_time_week       278343 non-null  int64  \n",
            " 8   pressure              278343 non-null  float64\n",
            " 9   humidity              278343 non-null  float64\n",
            " 10  wind_direction        278343 non-null  float64\n",
            " 11  wind_speed            278343 non-null  float64\n",
            " 12  description           278343 non-null  object \n",
            " 13  season                278343 non-null  int64  \n",
            " 14  temperature_celsius   278343 non-null  float64\n",
            "dtypes: bool(2), float64(5), int64(6), object(2)\n",
            "memory usage: 28.1+ MB\n"
          ]
        }
      ],
      "source": [
        "df_h_hexmed.info()"
      ]
    },
    {
      "cell_type": "code",
      "execution_count": 53,
      "id": "cc442d65",
      "metadata": {
        "colab": {
          "base_uri": "https://localhost:8080/"
        },
        "id": "cc442d65",
        "outputId": "e158858d-93d0-46b6-fed5-7d08bc8d2d16"
      },
      "outputs": [
        {
          "output_type": "stream",
          "name": "stdout",
          "text": [
            "<class 'pandas.core.frame.DataFrame'>\n",
            "RangeIndex: 278343 entries, 0 to 278342\n",
            "Columns: 249 entries, numOfTaxis_area to season_3\n",
            "dtypes: bool(2), float64(5), int64(1), uint8(241)\n",
            "memory usage: 77.2 MB\n"
          ]
        }
      ],
      "source": [
        "# Prepare variables for dummy creation\n",
        "df_h_hexmed['start_stamp'] = df_h_hexmed['start_stamp'].astype(str)\n",
        "df_h_hexmed['h3_hex_id_medium_res'] = df_h_hexmed['h3_hex_id_medium_res'].astype(str)\n",
        "df_h_hexmed['dayOfWeek'] = df_h_hexmed['dayOfWeek'].astype(str)\n",
        "df_h_hexmed['start_time_day'] = df_h_hexmed['start_time_day'].astype(str)\n",
        "df_h_hexmed['start_time_week'] = df_h_hexmed['start_time_week'].astype(str)\n",
        "df_h_hexmed['season'] = df_h_hexmed['season'].astype(str)\n",
        "df_h_hexmed['description'] = df_h_hexmed['description'].astype(str)\n",
        "\n",
        "# Create dummy variables from categorical features which are not already 0/1\n",
        "df_h_hexmed = pd.get_dummies(df_h_hexmed)\n",
        "df_h_hexmed.info()"
      ]
    },
    {
      "cell_type": "code",
      "execution_count": 54,
      "id": "ec87a8bc",
      "metadata": {
        "id": "ec87a8bc"
      },
      "outputs": [],
      "source": [
        "# Set output frame and input frame\n",
        "x = df_h_hexmed.drop('numOfTaxis_area', axis=1)\n",
        "y = df_h_hexmed['numOfTaxis_area']\n",
        "\n",
        "# Normalize the data\n",
        "scaler = StandardScaler()\n",
        "x_norm = scaler.fit_transform(x)\n",
        "\n",
        "# Split the data set in 70% training set and 30% testing set\n",
        "x_train, x_test, y_train, y_test = train_test_split(x_norm, y, test_size=0.3, random_state=42)\n",
        "\n",
        "# Split the training data set in 70% training set and 20% validation set to achieve a 50-20-30 split\n",
        "x_train, x_val, y_train, y_val = train_test_split(x_train, y_train, test_size=(0.2/0.7), random_state = 42)"
      ]
    },
    {
      "cell_type": "markdown",
      "id": "6da46af8",
      "metadata": {
        "id": "6da46af8"
      },
      "source": [
        "### **Build Model according to the architecture of the hyperparametertuning from Community Area**"
      ]
    },
    {
      "cell_type": "code",
      "execution_count": 55,
      "id": "ebce356d",
      "metadata": {
        "colab": {
          "base_uri": "https://localhost:8080/"
        },
        "id": "ebce356d",
        "outputId": "8f6d8c97-6594-4f92-8a71-f68494995892"
      },
      "outputs": [
        {
          "output_type": "stream",
          "name": "stdout",
          "text": [
            "Epoch 1/100\n",
            "4350/4350 [==============================] - 36s 7ms/step - loss: 1139.0355 - val_loss: 491.9318\n",
            "Epoch 2/100\n",
            "4350/4350 [==============================] - 30s 7ms/step - loss: 423.4748 - val_loss: 356.3170\n",
            "Epoch 3/100\n",
            "4350/4350 [==============================] - 28s 6ms/step - loss: 316.0867 - val_loss: 285.6784\n",
            "Epoch 4/100\n",
            "4350/4350 [==============================] - 30s 7ms/step - loss: 228.8328 - val_loss: 233.9997\n",
            "Epoch 5/100\n",
            "4350/4350 [==============================] - 30s 7ms/step - loss: 182.6606 - val_loss: 173.9644\n",
            "Epoch 6/100\n",
            "4350/4350 [==============================] - 28s 6ms/step - loss: 168.7156 - val_loss: 209.8001\n",
            "Epoch 7/100\n",
            "4350/4350 [==============================] - 30s 7ms/step - loss: 148.7802 - val_loss: 163.5170\n",
            "Epoch 8/100\n",
            "4350/4350 [==============================] - 28s 6ms/step - loss: 127.8419 - val_loss: 139.1466\n",
            "Epoch 9/100\n",
            "4350/4350 [==============================] - 30s 7ms/step - loss: 118.5302 - val_loss: 192.6994\n",
            "Epoch 10/100\n",
            "4350/4350 [==============================] - 28s 7ms/step - loss: 105.3709 - val_loss: 149.0013\n",
            "Epoch 11/100\n",
            "4350/4350 [==============================] - 31s 7ms/step - loss: 99.2342 - val_loss: 153.7913\n",
            "Epoch 12/100\n",
            "4350/4350 [==============================] - 29s 7ms/step - loss: 91.8007 - val_loss: 162.2427\n",
            "Epoch 13/100\n",
            "4350/4350 [==============================] - 28s 6ms/step - loss: 86.2512 - val_loss: 124.8074\n",
            "Epoch 14/100\n",
            "4350/4350 [==============================] - 28s 6ms/step - loss: 83.9114 - val_loss: 145.9580\n",
            "Epoch 15/100\n",
            "4350/4350 [==============================] - 28s 6ms/step - loss: 75.0620 - val_loss: 124.6213\n",
            "Epoch 16/100\n",
            "4350/4350 [==============================] - 30s 7ms/step - loss: 70.1430 - val_loss: 117.1330\n",
            "Epoch 17/100\n",
            "4350/4350 [==============================] - 28s 6ms/step - loss: 69.4001 - val_loss: 142.6156\n",
            "Epoch 18/100\n",
            "4350/4350 [==============================] - 28s 6ms/step - loss: 63.7620 - val_loss: 123.9039\n",
            "Epoch 19/100\n",
            "4350/4350 [==============================] - 30s 7ms/step - loss: 55.8762 - val_loss: 125.5991\n",
            "Epoch 20/100\n",
            "4350/4350 [==============================] - 28s 6ms/step - loss: 58.7463 - val_loss: 129.9929\n",
            "Epoch 21/100\n",
            "4350/4350 [==============================] - 28s 6ms/step - loss: 51.5714 - val_loss: 111.4517\n",
            "Epoch 22/100\n",
            "4350/4350 [==============================] - 28s 6ms/step - loss: 54.7237 - val_loss: 112.0752\n",
            "Epoch 23/100\n",
            "4350/4350 [==============================] - 28s 6ms/step - loss: 48.9598 - val_loss: 112.1867\n",
            "Epoch 24/100\n",
            "4350/4350 [==============================] - 28s 6ms/step - loss: 49.2255 - val_loss: 116.6926\n",
            "Epoch 25/100\n",
            "4350/4350 [==============================] - 28s 6ms/step - loss: 44.1219 - val_loss: 149.8593\n",
            "Epoch 26/100\n",
            "4350/4350 [==============================] - 27s 6ms/step - loss: 44.9935 - val_loss: 113.2574\n",
            "Epoch 27/100\n",
            "4350/4350 [==============================] - 30s 7ms/step - loss: 44.1537 - val_loss: 113.1685\n",
            "Epoch 28/100\n",
            "4350/4350 [==============================] - 28s 6ms/step - loss: 45.0888 - val_loss: 109.0481\n",
            "Epoch 29/100\n",
            "4350/4350 [==============================] - 29s 7ms/step - loss: 39.5603 - val_loss: 111.5392\n",
            "Epoch 30/100\n",
            "4350/4350 [==============================] - 29s 7ms/step - loss: 40.2171 - val_loss: 127.8745\n",
            "Epoch 31/100\n",
            "4350/4350 [==============================] - 27s 6ms/step - loss: 38.1030 - val_loss: 141.6141\n",
            "Epoch 32/100\n",
            "4350/4350 [==============================] - 27s 6ms/step - loss: 37.3361 - val_loss: 326.2437\n",
            "Epoch 33/100\n",
            "4350/4350 [==============================] - 27s 6ms/step - loss: 36.9602 - val_loss: 156.2923\n",
            "Epoch 34/100\n",
            "4350/4350 [==============================] - 29s 7ms/step - loss: 36.9637 - val_loss: 112.5540\n",
            "Epoch 35/100\n",
            "4350/4350 [==============================] - 29s 7ms/step - loss: 34.6038 - val_loss: 104.3463\n",
            "Epoch 36/100\n",
            "4350/4350 [==============================] - 29s 7ms/step - loss: 32.4040 - val_loss: 109.4407\n",
            "Epoch 37/100\n",
            "4350/4350 [==============================] - 27s 6ms/step - loss: 34.8056 - val_loss: 108.0426\n",
            "Epoch 38/100\n",
            "4350/4350 [==============================] - 27s 6ms/step - loss: 33.2899 - val_loss: 127.7291\n",
            "Epoch 39/100\n",
            "4350/4350 [==============================] - 29s 7ms/step - loss: 27.9705 - val_loss: 117.5647\n",
            "Epoch 40/100\n",
            "4350/4350 [==============================] - 29s 7ms/step - loss: 31.5906 - val_loss: 112.8304\n",
            "Epoch 41/100\n",
            "4350/4350 [==============================] - 28s 6ms/step - loss: 28.1077 - val_loss: 121.9308\n",
            "Epoch 42/100\n",
            "4350/4350 [==============================] - 27s 6ms/step - loss: 26.1901 - val_loss: 105.1710\n",
            "Epoch 43/100\n",
            "4350/4350 [==============================] - 27s 6ms/step - loss: 27.7230 - val_loss: 112.0098\n",
            "Epoch 44/100\n",
            "4350/4350 [==============================] - 27s 6ms/step - loss: 28.1534 - val_loss: 107.9745\n",
            "Epoch 45/100\n",
            "4350/4350 [==============================] - 27s 6ms/step - loss: 24.1258 - val_loss: 109.3527\n"
          ]
        },
        {
          "output_type": "execute_result",
          "data": {
            "text/plain": [
              "<keras.callbacks.History at 0x79844c462920>"
            ]
          },
          "metadata": {},
          "execution_count": 55
        }
      ],
      "source": [
        "# Input Layer\n",
        "inputs = keras.Input(shape=(248,)) # shapesize dependent of input feature count\n",
        "\n",
        "# Hidden Layers\n",
        "x = layers.Dense(512, activation='relu')(inputs)\n",
        "x = layers.Dense(256, activation='relu')(x)\n",
        "x = layers.Dense(512, activation='relu')(x)\n",
        "x = layers.Dense(256, activation='relu')(x)\n",
        "x = layers.Dense(128, activation='relu')(x)\n",
        "x = layers.Dense(128, activation='relu')(x)\n",
        "x = layers.Dense(128, activation='relu')(x)\n",
        "x = layers.Dense(64, activation='relu')(x)\n",
        "\n",
        "# Output Layer\n",
        "output = layers.Dense(1, activation='relu')(x)\n",
        "\n",
        "# Instantiate the model\n",
        "model_ann = keras.Model(inputs, output)\n",
        "\n",
        "# Compile the model\n",
        "model_ann.compile(optimizer='Adam', loss='mean_squared_error')\n",
        "\n",
        "# Train the model\n",
        "model_ann.fit(x_train, y_train, epochs=100, validation_data=(x_val,y_val), callbacks=[callback])"
      ]
    },
    {
      "cell_type": "markdown",
      "id": "11654093",
      "metadata": {
        "id": "11654093"
      },
      "source": [
        "### Evaluation: Hourly Demand - hexagon medium resolution"
      ]
    },
    {
      "cell_type": "code",
      "execution_count": 56,
      "id": "e4c0935e",
      "metadata": {
        "colab": {
          "base_uri": "https://localhost:8080/"
        },
        "id": "e4c0935e",
        "outputId": "e2a20653-b770-4d3f-b30b-c2bebc4fca7f"
      },
      "outputs": [
        {
          "output_type": "stream",
          "name": "stdout",
          "text": [
            "2610/2610 [==============================] - 6s 2ms/step\n",
            "MODEL SCORES\n",
            "MAE: 4.5007\n",
            "MSE: 100.2399\n",
            "RMSE: 10.012\n",
            "MAPE: 44.49 %\n",
            "Rough Accuracy Approximation: 86.04 %\n",
            "R2: 0.9868\n",
            "Max Residual Error: 315.2639\n"
          ]
        }
      ],
      "source": [
        "# Make predictions\n",
        "pred_ann = model_ann.predict(x_test)\n",
        "\n",
        "# Calculate Performance Metrics\n",
        "evaluate_performance(y_test,pred_ann,df_h_hexmed)"
      ]
    },
    {
      "cell_type": "markdown",
      "id": "763893bd",
      "metadata": {
        "id": "763893bd"
      },
      "source": [
        "<hr style=\"border: 0.5px solid #8888;\">\n",
        "\n",
        "\n",
        "## 4. Hourly Demand - hexagon high resolution"
      ]
    },
    {
      "cell_type": "markdown",
      "id": "8a663041",
      "metadata": {
        "id": "8a663041"
      },
      "source": [
        "- The architecture of the hyperparametertuning from Community Area will be adapted and used here!"
      ]
    },
    {
      "cell_type": "code",
      "execution_count": 57,
      "id": "59fcac04",
      "metadata": {
        "colab": {
          "base_uri": "https://localhost:8080/"
        },
        "id": "59fcac04",
        "outputId": "cb338591-cf83-47f7-9bbf-517e3a6c9027"
      },
      "outputs": [
        {
          "output_type": "stream",
          "name": "stdout",
          "text": [
            "<class 'pandas.core.frame.DataFrame'>\n",
            "RangeIndex: 547939 entries, 0 to 547938\n",
            "Data columns (total 15 columns):\n",
            " #   Column               Non-Null Count   Dtype  \n",
            "---  ------               --------------   -----  \n",
            " 0   start_stamp          547939 non-null  int64  \n",
            " 1   h3_hex_id_high_res   547939 non-null  object \n",
            " 2   numOfTaxis_area      547939 non-null  int64  \n",
            " 3   dayOfWeek            547939 non-null  int64  \n",
            " 4   isHoliday            547939 non-null  bool   \n",
            " 5   isRushhour           547939 non-null  bool   \n",
            " 6   start_time_day       547939 non-null  int64  \n",
            " 7   start_time_week      547939 non-null  int64  \n",
            " 8   pressure             547939 non-null  float64\n",
            " 9   humidity             547939 non-null  float64\n",
            " 10  wind_direction       547939 non-null  float64\n",
            " 11  wind_speed           547939 non-null  float64\n",
            " 12  description          547939 non-null  object \n",
            " 13  season               547939 non-null  int64  \n",
            " 14  temperature_celsius  547939 non-null  float64\n",
            "dtypes: bool(2), float64(5), int64(6), object(2)\n",
            "memory usage: 55.4+ MB\n"
          ]
        }
      ],
      "source": [
        "df_h_hexhig.info()"
      ]
    },
    {
      "cell_type": "code",
      "execution_count": 58,
      "id": "d74e0859",
      "metadata": {
        "colab": {
          "base_uri": "https://localhost:8080/"
        },
        "id": "d74e0859",
        "outputId": "c31e4170-aeac-42bf-f0a3-7091b0757e6d"
      },
      "outputs": [
        {
          "output_type": "stream",
          "name": "stdout",
          "text": [
            "<class 'pandas.core.frame.DataFrame'>\n",
            "RangeIndex: 547939 entries, 0 to 547938\n",
            "Columns: 432 entries, numOfTaxis_area to season_3\n",
            "dtypes: bool(2), float64(5), int64(1), uint8(424)\n",
            "memory usage: 247.7 MB\n"
          ]
        }
      ],
      "source": [
        "# Prepare variables for dummy creation\n",
        "df_h_hexhig['start_stamp'] = df_h_hexhig['start_stamp'].astype(str)\n",
        "df_h_hexhig['h3_hex_id_high_res'] = df_h_hexhig['h3_hex_id_high_res'].astype(str)\n",
        "df_h_hexhig['dayOfWeek'] = df_h_hexhig['dayOfWeek'].astype(str)\n",
        "df_h_hexhig['start_time_day'] = df_h_hexhig['start_time_day'].astype(str)\n",
        "df_h_hexhig['start_time_week'] = df_h_hexhig['start_time_week'].astype(str)\n",
        "df_h_hexhig['season'] = df_h_hexhig['season'].astype(str)\n",
        "df_h_hexhig['description'] = df_h_hexhig['description'].astype(str)\n",
        "\n",
        "# Create dummy variables from categorical features which are not already 0/1\n",
        "df_h_hexhig = pd.get_dummies(df_h_hexhig)\n",
        "df_h_hexhig.info()"
      ]
    },
    {
      "cell_type": "code",
      "execution_count": 59,
      "id": "7b0043f0",
      "metadata": {
        "id": "7b0043f0"
      },
      "outputs": [],
      "source": [
        "# Set output frame and input frame\n",
        "x = df_h_hexhig.drop('numOfTaxis_area', axis=1)\n",
        "y = df_h_hexhig['numOfTaxis_area']\n",
        "\n",
        "# Normalize the data\n",
        "scaler = StandardScaler()\n",
        "x_norm = scaler.fit_transform(x)\n",
        "\n",
        "# Split the data set in 70% training set and 30% testing set\n",
        "x_train, x_test, y_train, y_test = train_test_split(x_norm, y, test_size=0.3, random_state=42)\n",
        "\n",
        "# Split the training data set in 70% training set and 20% validation set to achieve a 50-20-30 split\n",
        "x_train, x_val, y_train, y_val = train_test_split(x_train, y_train, test_size=(0.2/0.7), random_state = 42)"
      ]
    },
    {
      "cell_type": "markdown",
      "id": "d24dfb82",
      "metadata": {
        "id": "d24dfb82"
      },
      "source": [
        "### **Build Model according to the architecture of the hyperparametertuning from Community Area**"
      ]
    },
    {
      "cell_type": "code",
      "execution_count": 61,
      "id": "3a1d6d3c",
      "metadata": {
        "colab": {
          "base_uri": "https://localhost:8080/"
        },
        "id": "3a1d6d3c",
        "outputId": "f8deb7ff-f8f4-4c65-ab6a-c9a3f26f9524"
      },
      "outputs": [
        {
          "output_type": "stream",
          "name": "stdout",
          "text": [
            "Epoch 1/100\n",
            "8562/8562 [==============================] - 64s 7ms/step - loss: 725.4978 - val_loss: 69.6167\n",
            "Epoch 2/100\n",
            "8562/8562 [==============================] - 54s 6ms/step - loss: 70.0245 - val_loss: 53.6204\n",
            "Epoch 3/100\n",
            "8562/8562 [==============================] - 57s 7ms/step - loss: 54.0835 - val_loss: 47.1612\n",
            "Epoch 4/100\n",
            "8562/8562 [==============================] - 53s 6ms/step - loss: 45.1888 - val_loss: 42.7241\n",
            "Epoch 5/100\n",
            "8562/8562 [==============================] - 58s 7ms/step - loss: 39.3679 - val_loss: 41.6306\n",
            "Epoch 6/100\n",
            "8562/8562 [==============================] - 57s 7ms/step - loss: 35.7672 - val_loss: 42.6104\n",
            "Epoch 7/100\n",
            "8562/8562 [==============================] - 54s 6ms/step - loss: 32.2780 - val_loss: 42.2481\n",
            "Epoch 8/100\n",
            "8562/8562 [==============================] - 53s 6ms/step - loss: 30.3089 - val_loss: 39.1095\n",
            "Epoch 9/100\n",
            "8562/8562 [==============================] - 57s 7ms/step - loss: 27.8355 - val_loss: 37.7008\n",
            "Epoch 10/100\n",
            "8562/8562 [==============================] - 55s 6ms/step - loss: 26.1498 - val_loss: 39.7264\n",
            "Epoch 11/100\n",
            "8562/8562 [==============================] - 55s 6ms/step - loss: 24.5713 - val_loss: 42.9214\n",
            "Epoch 12/100\n",
            "8562/8562 [==============================] - 55s 6ms/step - loss: 23.1733 - val_loss: 38.4869\n",
            "Epoch 13/100\n",
            "8562/8562 [==============================] - 56s 7ms/step - loss: 22.1347 - val_loss: 42.1834\n",
            "Epoch 14/100\n",
            "8562/8562 [==============================] - 57s 7ms/step - loss: 20.9149 - val_loss: 37.2109\n",
            "Epoch 15/100\n",
            "8562/8562 [==============================] - 58s 7ms/step - loss: 20.2036 - val_loss: 39.5311\n",
            "Epoch 16/100\n",
            "8562/8562 [==============================] - 59s 7ms/step - loss: 18.7729 - val_loss: 41.0006\n",
            "Epoch 17/100\n",
            "8562/8562 [==============================] - 55s 6ms/step - loss: 18.2329 - val_loss: 42.7529\n",
            "Epoch 18/100\n",
            "8562/8562 [==============================] - 59s 7ms/step - loss: 17.6877 - val_loss: 37.9663\n",
            "Epoch 19/100\n",
            "8562/8562 [==============================] - 59s 7ms/step - loss: 17.1862 - val_loss: 39.8004\n",
            "Epoch 20/100\n",
            "8562/8562 [==============================] - 61s 7ms/step - loss: 16.2922 - val_loss: 37.4195\n",
            "Epoch 21/100\n",
            "8562/8562 [==============================] - 57s 7ms/step - loss: 15.9961 - val_loss: 39.0970\n",
            "Epoch 22/100\n",
            "8562/8562 [==============================] - 56s 7ms/step - loss: 15.1247 - val_loss: 37.1884\n",
            "Epoch 23/100\n",
            "8562/8562 [==============================] - 60s 7ms/step - loss: 14.7664 - val_loss: 40.4589\n",
            "Epoch 24/100\n",
            "8562/8562 [==============================] - 54s 6ms/step - loss: 14.2402 - val_loss: 40.3472\n",
            "Epoch 25/100\n",
            "8562/8562 [==============================] - 59s 7ms/step - loss: 13.9582 - val_loss: 37.6911\n",
            "Epoch 26/100\n",
            "8562/8562 [==============================] - 55s 6ms/step - loss: 13.5037 - val_loss: 36.8969\n",
            "Epoch 27/100\n",
            "8562/8562 [==============================] - 59s 7ms/step - loss: 13.0581 - val_loss: 38.2658\n",
            "Epoch 28/100\n",
            "8562/8562 [==============================] - 59s 7ms/step - loss: 12.6718 - val_loss: 38.8710\n",
            "Epoch 29/100\n",
            "8562/8562 [==============================] - 59s 7ms/step - loss: 12.4204 - val_loss: 37.0725\n",
            "Epoch 30/100\n",
            "8562/8562 [==============================] - 55s 6ms/step - loss: 12.0990 - val_loss: 38.1065\n",
            "Epoch 31/100\n",
            "8562/8562 [==============================] - 55s 6ms/step - loss: 11.8966 - val_loss: 37.9049\n",
            "Epoch 32/100\n",
            "8562/8562 [==============================] - 56s 7ms/step - loss: 11.5468 - val_loss: 40.7470\n",
            "Epoch 33/100\n",
            "8562/8562 [==============================] - 59s 7ms/step - loss: 11.1367 - val_loss: 38.1133\n",
            "Epoch 34/100\n",
            "8562/8562 [==============================] - 59s 7ms/step - loss: 11.1517 - val_loss: 37.8751\n",
            "Epoch 35/100\n",
            "8562/8562 [==============================] - 55s 6ms/step - loss: 10.6590 - val_loss: 38.1102\n",
            "Epoch 36/100\n",
            "8562/8562 [==============================] - 59s 7ms/step - loss: 10.5891 - val_loss: 37.9338\n"
          ]
        },
        {
          "output_type": "execute_result",
          "data": {
            "text/plain": [
              "<keras.callbacks.History at 0x7984089d63b0>"
            ]
          },
          "metadata": {},
          "execution_count": 61
        }
      ],
      "source": [
        "# Input Layer\n",
        "inputs = keras.Input(shape=(431,)) # shapesize dependent of input feature count\n",
        "\n",
        "# Hidden Layers\n",
        "x = layers.Dense(512, activation='relu')(inputs)\n",
        "x = layers.Dense(256, activation='relu')(x)\n",
        "x = layers.Dense(512, activation='relu')(x)\n",
        "x = layers.Dense(256, activation='relu')(x)\n",
        "x = layers.Dense(128, activation='relu')(x)\n",
        "x = layers.Dense(128, activation='relu')(x)\n",
        "x = layers.Dense(128, activation='relu')(x)\n",
        "x = layers.Dense(64, activation='relu')(x)\n",
        "\n",
        "# Output Layer\n",
        "output = layers.Dense(1, activation='relu')(x)\n",
        "\n",
        "# Instantiate the model\n",
        "model_ann = keras.Model(inputs, output)\n",
        "\n",
        "# Compile the model\n",
        "model_ann.compile(optimizer='Adam', loss='mean_squared_error')\n",
        "\n",
        "# Train the model\n",
        "model_ann.fit(x_train, y_train, epochs=100, validation_data=(x_val,y_val), callbacks=[callback])"
      ]
    },
    {
      "cell_type": "markdown",
      "id": "38acd600",
      "metadata": {
        "id": "38acd600"
      },
      "source": [
        "### Evaluation: Hourly Demand - hexagon high resolution"
      ]
    },
    {
      "cell_type": "code",
      "execution_count": 63,
      "id": "da8aa458",
      "metadata": {
        "colab": {
          "base_uri": "https://localhost:8080/"
        },
        "id": "da8aa458",
        "outputId": "4fab109b-7b50-41e8-a9d5-c932361e62fc"
      },
      "outputs": [
        {
          "output_type": "stream",
          "name": "stdout",
          "text": [
            "5137/5137 [==============================] - 11s 2ms/step\n",
            "MODEL SCORES\n",
            "MAE: 3.2801\n",
            "MSE: 37.582\n",
            "RMSE: 6.1304\n",
            "MAPE: 49.66 %\n",
            "Rough Accuracy Approximation: 79.97 %\n",
            "R2: 0.9657\n",
            "Max Residual Error: 150.3635\n"
          ]
        }
      ],
      "source": [
        "# Make predictions\n",
        "pred_ann = model_ann.predict(x_test)\n",
        "\n",
        "# Calculate Performance Metrics\n",
        "evaluate_performance(y_test,pred_ann,df_h_hexhig)"
      ]
    },
    {
      "cell_type": "markdown",
      "id": "0fec61e9",
      "metadata": {
        "id": "0fec61e9"
      },
      "source": [
        "Done"
      ]
    }
  ],
  "metadata": {
    "kernelspec": {
      "display_name": "Python 3",
      "name": "python3"
    },
    "language_info": {
      "codemirror_mode": {
        "name": "ipython",
        "version": 3
      },
      "file_extension": ".py",
      "mimetype": "text/x-python",
      "name": "python",
      "nbconvert_exporter": "python",
      "pygments_lexer": "ipython3",
      "version": "3.10.9"
    },
    "colab": {
      "provenance": [],
      "gpuType": "V100"
    },
    "accelerator": "GPU"
  },
  "nbformat": 4,
  "nbformat_minor": 5
}