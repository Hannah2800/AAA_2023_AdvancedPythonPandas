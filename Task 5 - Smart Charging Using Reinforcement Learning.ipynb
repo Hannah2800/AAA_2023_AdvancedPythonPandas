{
 "cells": [
  {
   "cell_type": "markdown",
   "id": "5631c3bb",
   "metadata": {},
   "source": [
    "# Smart Charging Using Reinforcement Learning"
   ]
  },
  {
   "cell_type": "markdown",
   "id": "bb61daaa",
   "metadata": {},
   "source": [
    "Simple simpy example from workshop (ChargingEV.py)"
   ]
  },
  {
   "cell_type": "code",
   "execution_count": 8,
   "id": "b7084026",
   "metadata": {},
   "outputs": [
    {
     "name": "stdout",
     "output_type": "stream",
     "text": [
      "Car 0 arriving at 0\n",
      "Car 0 starting to charge at 0\n",
      "Car 1 arriving at 2\n",
      "Car 1 starting to charge at 2\n",
      "Car 2 arriving at 4\n",
      "Car 0 leaving the bcs at 5\n",
      "Car 2 starting to charge at 5\n",
      "Car 3 arriving at 6\n",
      "Car 1 leaving the bcs at 7\n",
      "Car 3 starting to charge at 7\n",
      "Car 4 arriving at 8\n",
      "Car 5 arriving at 10\n",
      "Car 2 leaving the bcs at 10\n",
      "Car 4 starting to charge at 10\n",
      "Car 6 arriving at 12\n",
      "Car 3 leaving the bcs at 12\n",
      "Car 5 starting to charge at 12\n",
      "Car 7 arriving at 14\n",
      "Car 4 leaving the bcs at 15\n",
      "Car 6 starting to charge at 15\n",
      "Car 8 arriving at 16\n",
      "Car 5 leaving the bcs at 17\n",
      "Car 7 starting to charge at 17\n",
      "Car 9 arriving at 18\n",
      "Car 10 arriving at 20\n",
      "Car 6 leaving the bcs at 20\n",
      "Car 8 starting to charge at 20\n",
      "Car 11 arriving at 22\n",
      "Car 7 leaving the bcs at 22\n",
      "Car 9 starting to charge at 22\n",
      "Car 12 arriving at 24\n",
      "Car 8 leaving the bcs at 25\n",
      "Car 10 starting to charge at 25\n",
      "Car 13 arriving at 26\n",
      "Car 9 leaving the bcs at 27\n",
      "Car 11 starting to charge at 27\n",
      "Car 14 arriving at 28\n",
      "Car 15 arriving at 30\n",
      "Car 10 leaving the bcs at 30\n",
      "Car 12 starting to charge at 30\n",
      "Car 16 arriving at 32\n",
      "Car 11 leaving the bcs at 32\n",
      "Car 13 starting to charge at 32\n",
      "Car 17 arriving at 34\n",
      "Car 12 leaving the bcs at 35\n",
      "Car 14 starting to charge at 35\n",
      "Car 18 arriving at 36\n",
      "Car 13 leaving the bcs at 37\n",
      "Car 15 starting to charge at 37\n",
      "Car 19 arriving at 38\n",
      "Car 14 leaving the bcs at 40\n",
      "Car 16 starting to charge at 40\n",
      "Car 15 leaving the bcs at 42\n",
      "Car 17 starting to charge at 42\n",
      "Car 16 leaving the bcs at 45\n",
      "Car 18 starting to charge at 45\n",
      "Car 17 leaving the bcs at 47\n",
      "Car 19 starting to charge at 47\n",
      "Car 18 leaving the bcs at 50\n",
      "Car 19 leaving the bcs at 52\n"
     ]
    }
   ],
   "source": [
    "import simpy\n",
    "\n",
    "env = simpy.Environment()\n",
    "bcs = simpy.Resource(env, capacity=2)\n",
    "\n",
    "\n",
    "def car(env, name, bcs, driving_time, charge_duration):\n",
    "    # Simulate driving to the BCS\n",
    "    yield env.timeout(driving_time)\n",
    "\n",
    "    # Request one of its charging spots\n",
    "    print('%s arriving at %d' % (name, env.now))\n",
    "    with bcs.request() as req:\n",
    "        yield req\n",
    "\n",
    "        # Charge the battery\n",
    "        print('%s starting to charge at %s' % (name, env.now))\n",
    "        yield env.timeout(charge_duration)\n",
    "        print('%s leaving the bcs at %s' % (name, env.now))\n",
    "\n",
    "\n",
    "for i in range(20):\n",
    "    env.process(car(env, 'Car %d' % i, bcs, i * 2, 5))\n",
    "\n",
    "\n",
    "env.run()"
   ]
  },
  {
   "cell_type": "markdown",
   "id": "7a39fbfe",
   "metadata": {},
   "source": [
    "## Learning Resources and environments we can use"
   ]
  },
  {
   "cell_type": "markdown",
   "id": "ee0ef1f0",
   "metadata": {},
   "source": [
    "- (Alternative: Simpy)\n",
    "\n",
    "- OpenAI gym\n",
    "    - [Official Gymnasium GitHub](https://github.com/Farama-Foundation/Gymnasium)\n",
    "    - [Gymnasium Docu](https://gymnasium.farama.org/)\n",
    "        - [Creating a Gymnasium Environment](https://gymnasium.farama.org/tutorials/gymnasium_basics/environment_creation/)\n",
    "        - [Lunar Lander example](https://gymnasium.farama.org/environments/box2d/lunar_lander/)\n",
    "    - [OpenAI Learning platform for Gymnasium](https://spinningup.openai.com/en/latest/index.html)\n",
    "        - [OpenAI Algorithms](https://spinningup.openai.com/en/latest/algorithms/ddpg.html#background)\n",
    "\n",
    "- [Here is a good resource for all deep-RL algorithms](https://github.com/p-christ/Deep-Reinforcement-Learning-Algorithms-with-PyTorch/blob/master/README.md) (look into the results folder)"
   ]
  },
  {
   "cell_type": "markdown",
   "id": "9801d3b6",
   "metadata": {},
   "source": [
    "## Finite Markov Decision Process (MDP)"
   ]
  },
  {
   "cell_type": "code",
   "execution_count": null,
   "id": "6291ac5e",
   "metadata": {},
   "outputs": [],
   "source": []
  },
  {
   "cell_type": "markdown",
   "id": "6bab09ee",
   "metadata": {},
   "source": [
    "## First RL-model: SARSA (TD control problem, On-Policy)"
   ]
  },
  {
   "cell_type": "code",
   "execution_count": null,
   "id": "c386a893",
   "metadata": {},
   "outputs": [],
   "source": []
  },
  {
   "cell_type": "markdown",
   "id": "ae311bbf",
   "metadata": {},
   "source": [
    "## Second RL-model: Q-learning (TD control problem, Off-Policy)"
   ]
  },
  {
   "cell_type": "code",
   "execution_count": null,
   "id": "87bdbd86",
   "metadata": {},
   "outputs": [],
   "source": []
  },
  {
   "cell_type": "markdown",
   "id": "c9be5921",
   "metadata": {},
   "source": [
    "## (Second RL-model advanced: Double Q-learning)"
   ]
  },
  {
   "cell_type": "code",
   "execution_count": null,
   "id": "dd033eb9",
   "metadata": {},
   "outputs": [],
   "source": []
  },
  {
   "cell_type": "markdown",
   "id": "49e29901",
   "metadata": {},
   "source": [
    "## Third RL-model: Deep Q-learning\n",
    "Build this in Google Colab with GPU environment selected"
   ]
  },
  {
   "cell_type": "code",
   "execution_count": null,
   "id": "497918e4",
   "metadata": {},
   "outputs": [],
   "source": []
  }
 ],
 "metadata": {
  "kernelspec": {
   "display_name": "Python 3 (ipykernel)",
   "language": "python",
   "name": "python3"
  },
  "language_info": {
   "codemirror_mode": {
    "name": "ipython",
    "version": 3
   },
   "file_extension": ".py",
   "mimetype": "text/x-python",
   "name": "python",
   "nbconvert_exporter": "python",
   "pygments_lexer": "ipython3",
   "version": "3.10.9"
  }
 },
 "nbformat": 4,
 "nbformat_minor": 5
}
