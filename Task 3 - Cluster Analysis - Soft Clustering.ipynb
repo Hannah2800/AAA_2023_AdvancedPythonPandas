{
 "cells": [
  {
   "cell_type": "code",
   "execution_count": 38,
   "id": "b16915e1",
   "metadata": {},
   "outputs": [],
   "source": [
    "# import all necessary packages\n",
    "import pandas as pd\n",
    "import numpy as np\n",
    "import warnings\n",
    "from pandas.core.common import SettingWithCopyWarning\n",
    "#warnings.simplefilter(action=\"ignore\", category=SettingWithCopyWarning)\n",
    "import matplotlib.pyplot as plt\n",
    "from scipy.stats import loguniform\n",
    "import predictive as pred\n",
    "from sklearn.mixture import GaussianMixture\n",
    "from sklearn.metrics import silhouette_score\n",
    "import seaborn as sns"
   ]
  },
  {
   "cell_type": "code",
   "execution_count": 2,
   "id": "f25fee17",
   "metadata": {},
   "outputs": [],
   "source": [
    "# import datasets\n",
    "df_chicago = pd.read_csv(\"data/datasets/df_chicago.csv.zip\")"
   ]
  },
  {
   "cell_type": "code",
   "execution_count": 3,
   "id": "02a189be",
   "metadata": {
    "scrolled": true
   },
   "outputs": [
    {
     "data": {
      "text/html": [
       "<div>\n",
       "<style scoped>\n",
       "    .dataframe tbody tr th:only-of-type {\n",
       "        vertical-align: middle;\n",
       "    }\n",
       "\n",
       "    .dataframe tbody tr th {\n",
       "        vertical-align: top;\n",
       "    }\n",
       "\n",
       "    .dataframe thead th {\n",
       "        text-align: right;\n",
       "    }\n",
       "</style>\n",
       "<table border=\"1\" class=\"dataframe\">\n",
       "  <thead>\n",
       "    <tr style=\"text-align: right;\">\n",
       "      <th></th>\n",
       "      <th>start_time_hourly</th>\n",
       "      <th>Trip_Seconds</th>\n",
       "      <th>Trip_Miles</th>\n",
       "    </tr>\n",
       "  </thead>\n",
       "  <tbody>\n",
       "    <tr>\n",
       "      <th>0</th>\n",
       "      <td>0</td>\n",
       "      <td>900.0</td>\n",
       "      <td>2.7</td>\n",
       "    </tr>\n",
       "    <tr>\n",
       "      <th>1</th>\n",
       "      <td>0</td>\n",
       "      <td>240.0</td>\n",
       "      <td>0.4</td>\n",
       "    </tr>\n",
       "    <tr>\n",
       "      <th>2</th>\n",
       "      <td>0</td>\n",
       "      <td>1920.0</td>\n",
       "      <td>0.6</td>\n",
       "    </tr>\n",
       "    <tr>\n",
       "      <th>3</th>\n",
       "      <td>0</td>\n",
       "      <td>180.0</td>\n",
       "      <td>1.0</td>\n",
       "    </tr>\n",
       "    <tr>\n",
       "      <th>4</th>\n",
       "      <td>0</td>\n",
       "      <td>240.0</td>\n",
       "      <td>0.3</td>\n",
       "    </tr>\n",
       "    <tr>\n",
       "      <th>...</th>\n",
       "      <td>...</td>\n",
       "      <td>...</td>\n",
       "      <td>...</td>\n",
       "    </tr>\n",
       "    <tr>\n",
       "      <th>8974515</th>\n",
       "      <td>23</td>\n",
       "      <td>540.0</td>\n",
       "      <td>1.4</td>\n",
       "    </tr>\n",
       "    <tr>\n",
       "      <th>8974516</th>\n",
       "      <td>23</td>\n",
       "      <td>1860.0</td>\n",
       "      <td>5.9</td>\n",
       "    </tr>\n",
       "    <tr>\n",
       "      <th>8974517</th>\n",
       "      <td>23</td>\n",
       "      <td>720.0</td>\n",
       "      <td>2.0</td>\n",
       "    </tr>\n",
       "    <tr>\n",
       "      <th>8974518</th>\n",
       "      <td>23</td>\n",
       "      <td>660.0</td>\n",
       "      <td>3.5</td>\n",
       "    </tr>\n",
       "    <tr>\n",
       "      <th>8974519</th>\n",
       "      <td>23</td>\n",
       "      <td>1320.0</td>\n",
       "      <td>5.9</td>\n",
       "    </tr>\n",
       "  </tbody>\n",
       "</table>\n",
       "<p>8974520 rows × 3 columns</p>\n",
       "</div>"
      ],
      "text/plain": [
       "         start_time_hourly  Trip_Seconds  Trip_Miles\n",
       "0                        0         900.0         2.7\n",
       "1                        0         240.0         0.4\n",
       "2                        0        1920.0         0.6\n",
       "3                        0         180.0         1.0\n",
       "4                        0         240.0         0.3\n",
       "...                    ...           ...         ...\n",
       "8974515                 23         540.0         1.4\n",
       "8974516                 23        1860.0         5.9\n",
       "8974517                 23         720.0         2.0\n",
       "8974518                 23         660.0         3.5\n",
       "8974519                 23        1320.0         5.9\n",
       "\n",
       "[8974520 rows x 3 columns]"
      ]
     },
     "execution_count": 3,
     "metadata": {},
     "output_type": "execute_result"
    }
   ],
   "source": [
    "df_chicago_cluster = df_chicago[['start_time_hourly','Trip_Seconds',\"Trip_Miles\"]]\n",
    "df_chicago_cluster"
   ]
  },
  {
   "cell_type": "markdown",
   "id": "a0d46d93",
   "metadata": {},
   "source": [
    "When researching for the best score to use when deciding which number of cluster to choose for the Gaussian Mixture Model (soft-clustering), we found the Silhouette score and the Bayesian information criterion (BIC)."
   ]
  },
  {
   "cell_type": "markdown",
   "id": "febf6edd",
   "metadata": {},
   "source": [
    "### Silhouette score"
   ]
  },
  {
   "cell_type": "code",
   "execution_count": 15,
   "id": "d05171cf",
   "metadata": {},
   "outputs": [],
   "source": [
    "def silhoutte(input_data, num_clus):\n",
    "\n",
    "    #input data: part of df to cluster\n",
    "\n",
    "    clusters = []\n",
    "    scores = []\n",
    "\n",
    "    for k in range(num_clus):\n",
    "        \n",
    "        model_clus = GaussianMixture(n_components = k+2, n_init = 15) #defaults: init_params='kmeans'\n",
    "        labels = model_clus.fit_predict(input_data)\n",
    "        \n",
    "        clusters.append(k+1)\n",
    "        scores.append(silhouette_score(input_data, labels = labels, sample_size=1000,random_state=42))\n",
    "        #defaults: metric=euclidian\n",
    "        \n",
    "    return clusters, scores"
   ]
  },
  {
   "cell_type": "code",
   "execution_count": 16,
   "id": "2c63c4c2",
   "metadata": {},
   "outputs": [],
   "source": [
    "df_score = df_chicago_cluster.sample(5000, random_state=42)"
   ]
  },
  {
   "cell_type": "code",
   "execution_count": 17,
   "id": "bb86ad58",
   "metadata": {
    "scrolled": true
   },
   "outputs": [],
   "source": [
    "clusters, scores = silhoutte(df_score, 10)"
   ]
  },
  {
   "cell_type": "code",
   "execution_count": 18,
   "id": "90425706",
   "metadata": {},
   "outputs": [],
   "source": [
    "# method to plot the most valuable number of clusters\n",
    "def plot_best_fitting_number_of_clusters(input_data, title_info):\n",
    "    \n",
    "    fig = plt.figure(figsize=(16,8))\n",
    "\n",
    "    plt.subplot(1, 2, 1)\n",
    "\n",
    "   # clusters, scores = get_clusters_and_losses(input_data)\n",
    "\n",
    "    plt.plot(clusters, scores)\n",
    "    plt.ylabel(\"Loss\")\n",
    "    plt.xlabel(\"Number of clusters\")\n",
    "    plt.title(f\"Number of Clusters {title_info}\")\n",
    "\n",
    "    plt.subplot(1, 2, 2)\n",
    "\n",
    "    plt.plot(clusters, scores)\n",
    "    plt.ylabel(\"Loss\")\n",
    "    plt.xlabel(\"Number of clusters\")\n",
    "    plt.xlim([0,12])\n",
    "    plt.title(f\"Number of Clusters {title_info} - Deeper Look\")\n",
    "\n",
    "    plt.show()"
   ]
  },
  {
   "cell_type": "code",
   "execution_count": 19,
   "id": "c743f52a",
   "metadata": {},
   "outputs": [
    {
     "data": {
      "image/png": "[encoded data removed]",
      "text/plain": [
       "<Figure size 1152x576 with 1 Axes>"
      ]
     },
     "metadata": {
      "needs_background": "light"
     },
     "output_type": "display_data"
    }
   ],
   "source": [
    "fig = plt.figure(figsize=(16,8))\n",
    "\n",
    "plt.subplot(1, 2, 1)\n",
    "\n",
    "   # clusters, scores = get_clusters_and_losses(input_data)\n",
    "\n",
    "plt.plot(clusters, scores)\n",
    "plt.ylabel(\"Loss\")\n",
    "plt.xlabel(\"Number of clusters\")\n",
    "plt.title(f\"Number of Clusters\")\n",
    "\n",
    "plt.show()"
   ]
  },
  {
   "cell_type": "markdown",
   "id": "8d482c2c",
   "metadata": {},
   "source": [
    "### Bayesian information criterion (BIC)"
   ]
  },
  {
   "cell_type": "code",
   "execution_count": 20,
   "id": "44728c7d",
   "metadata": {},
   "outputs": [],
   "source": [
    "def bic(input_data, num_clus):\n",
    "\n",
    "    #input data: part of df to cluster\n",
    "\n",
    "    clusters = []\n",
    "    scores = []\n",
    "\n",
    "    for k in range(num_clus):\n",
    "        \n",
    "        model_clus = GaussianMixture(n_components = k+2, n_init = 15) #defaults: init_params='kmeans'\n",
    "        model_clus.fit(input_data)\n",
    "        \n",
    "        clusters.append(k+1)\n",
    "        scores.append(model_clus.bic(input_data))\n",
    "\n",
    "        #defaults: metric=euclidian\n",
    "        \n",
    "    return clusters, scores"
   ]
  },
  {
   "cell_type": "code",
   "execution_count": 21,
   "id": "04e92e25",
   "metadata": {},
   "outputs": [],
   "source": [
    "clusters, scores = bic(df_score, 10)"
   ]
  },
  {
   "cell_type": "code",
   "execution_count": 22,
   "id": "bf987dd2",
   "metadata": {},
   "outputs": [
    {
     "data": {
      "image/png": "[encoded data removed]",
      "text/plain": [
       "<Figure size 1152x576 with 1 Axes>"
      ]
     },
     "metadata": {
      "needs_background": "light"
     },
     "output_type": "display_data"
    }
   ],
   "source": [
    "fig = plt.figure(figsize=(16,8))\n",
    "\n",
    "plt.subplot(1, 2, 1)\n",
    "\n",
    "   # clusters, scores = get_clusters_and_losses(input_data)\n",
    "\n",
    "plt.plot(clusters, scores)\n",
    "plt.ylabel(\"Loss\")\n",
    "plt.xlabel(\"Number of clusters\")\n",
    "plt.title(f\"Number of Clusters\")\n",
    "\n",
    "plt.show()"
   ]
  },
  {
   "cell_type": "markdown",
   "id": "5fb6b5e4",
   "metadata": {},
   "source": [
    "cluster 9"
   ]
  },
  {
   "cell_type": "code",
   "execution_count": 23,
   "id": "4dcb4d94",
   "metadata": {},
   "outputs": [],
   "source": [
    "df_clusters = df_chicago_cluster"
   ]
  },
  {
   "cell_type": "code",
   "execution_count": 25,
   "id": "8a3c1156",
   "metadata": {},
   "outputs": [],
   "source": [
    "gm = GaussianMixture(n_components=9, random_state=42).fit(df_clusters)"
   ]
  },
  {
   "cell_type": "code",
   "execution_count": 28,
   "id": "388c9cf2",
   "metadata": {},
   "outputs": [],
   "source": [
    "cluster = gm.predict(df_clusters)"
   ]
  },
  {
   "cell_type": "code",
   "execution_count": 29,
   "id": "be09db97",
   "metadata": {},
   "outputs": [],
   "source": [
    "cluster_prob = gm.predict_proba(df_clusters)"
   ]
  },
  {
   "cell_type": "code",
   "execution_count": 30,
   "id": "1d16a45e",
   "metadata": {
    "scrolled": true
   },
   "outputs": [
    {
     "name": "stderr",
     "output_type": "stream",
     "text": [
      "/var/folders/rm/wg58__0d187f9f9gt07rpkw40000gn/T/ipykernel_15387/1936833087.py:1: SettingWithCopyWarning: \n",
      "A value is trying to be set on a copy of a slice from a DataFrame.\n",
      "Try using .loc[row_indexer,col_indexer] = value instead\n",
      "\n",
      "See the caveats in the documentation: https://pandas.pydata.org/pandas-docs/stable/user_guide/indexing.html#returning-a-view-versus-a-copy\n",
      "  df_clusters[\"cluster\"] = cluster\n"
     ]
    }
   ],
   "source": [
    "df_clusters[\"cluster\"] = cluster"
   ]
  },
  {
   "cell_type": "code",
   "execution_count": 33,
   "id": "00319ce5",
   "metadata": {
    "scrolled": true
   },
   "outputs": [
    {
     "name": "stderr",
     "output_type": "stream",
     "text": [
      "/var/folders/rm/wg58__0d187f9f9gt07rpkw40000gn/T/ipykernel_15387/663467526.py:2: SettingWithCopyWarning: \n",
      "A value is trying to be set on a copy of a slice from a DataFrame.\n",
      "Try using .loc[row_indexer,col_indexer] = value instead\n",
      "\n",
      "See the caveats in the documentation: https://pandas.pydata.org/pandas-docs/stable/user_guide/indexing.html#returning-a-view-versus-a-copy\n",
      "  df_clusters[f\"cluster_{k}_prob\"] = cluster_prob[:, k]\n"
     ]
    }
   ],
   "source": [
    "for k in range(9):\n",
    "    df_clusters[f\"cluster_{k}_prob\"] = cluster_prob[:, k]"
   ]
  },
  {
   "cell_type": "code",
   "execution_count": 34,
   "id": "0fb3b76c",
   "metadata": {},
   "outputs": [
    {
     "data": {
      "text/html": [
       "<div>\n",
       "<style scoped>\n",
       "    .dataframe tbody tr th:only-of-type {\n",
       "        vertical-align: middle;\n",
       "    }\n",
       "\n",
       "    .dataframe tbody tr th {\n",
       "        vertical-align: top;\n",
       "    }\n",
       "\n",
       "    .dataframe thead th {\n",
       "        text-align: right;\n",
       "    }\n",
       "</style>\n",
       "<table border=\"1\" class=\"dataframe\">\n",
       "  <thead>\n",
       "    <tr style=\"text-align: right;\">\n",
       "      <th></th>\n",
       "      <th>start_time_hourly</th>\n",
       "      <th>Trip_Seconds</th>\n",
       "      <th>Trip_Miles</th>\n",
       "      <th>cluster</th>\n",
       "      <th>cluster_0_prob</th>\n",
       "      <th>cluster_1_prob</th>\n",
       "      <th>cluster_2_prob</th>\n",
       "      <th>cluster_3_prob</th>\n",
       "      <th>cluster_4_prob</th>\n",
       "      <th>cluster_5_prob</th>\n",
       "      <th>cluster_6_prob</th>\n",
       "      <th>cluster_7_prob</th>\n",
       "      <th>cluster_8_prob</th>\n",
       "    </tr>\n",
       "  </thead>\n",
       "  <tbody>\n",
       "    <tr>\n",
       "      <th>0</th>\n",
       "      <td>0</td>\n",
       "      <td>900.0</td>\n",
       "      <td>2.7</td>\n",
       "      <td>1</td>\n",
       "      <td>7.572812e-12</td>\n",
       "      <td>6.074898e-01</td>\n",
       "      <td>1.689450e-04</td>\n",
       "      <td>1.345806e-04</td>\n",
       "      <td>1.580733e-27</td>\n",
       "      <td>2.263834e-03</td>\n",
       "      <td>3.899429e-01</td>\n",
       "      <td>8.393649e-20</td>\n",
       "      <td>1.199954e-88</td>\n",
       "    </tr>\n",
       "    <tr>\n",
       "      <th>1</th>\n",
       "      <td>0</td>\n",
       "      <td>240.0</td>\n",
       "      <td>0.4</td>\n",
       "      <td>3</td>\n",
       "      <td>6.638978e-03</td>\n",
       "      <td>9.879935e-08</td>\n",
       "      <td>4.543070e-08</td>\n",
       "      <td>5.172538e-01</td>\n",
       "      <td>1.422083e-34</td>\n",
       "      <td>2.506886e-11</td>\n",
       "      <td>1.420439e-04</td>\n",
       "      <td>1.579933e-25</td>\n",
       "      <td>4.759650e-01</td>\n",
       "    </tr>\n",
       "    <tr>\n",
       "      <th>2</th>\n",
       "      <td>0</td>\n",
       "      <td>1920.0</td>\n",
       "      <td>0.6</td>\n",
       "      <td>5</td>\n",
       "      <td>1.912886e-159</td>\n",
       "      <td>3.138345e-04</td>\n",
       "      <td>2.290529e-01</td>\n",
       "      <td>2.815930e-36</td>\n",
       "      <td>1.632436e-21</td>\n",
       "      <td>7.706332e-01</td>\n",
       "      <td>2.044863e-14</td>\n",
       "      <td>3.588678e-36</td>\n",
       "      <td>0.000000e+00</td>\n",
       "    </tr>\n",
       "    <tr>\n",
       "      <th>3</th>\n",
       "      <td>0</td>\n",
       "      <td>180.0</td>\n",
       "      <td>1.0</td>\n",
       "      <td>8</td>\n",
       "      <td>9.164756e-05</td>\n",
       "      <td>5.751516e-08</td>\n",
       "      <td>3.899060e-08</td>\n",
       "      <td>2.760687e-01</td>\n",
       "      <td>2.069771e-35</td>\n",
       "      <td>1.647519e-11</td>\n",
       "      <td>8.671896e-05</td>\n",
       "      <td>2.618873e-27</td>\n",
       "      <td>7.237528e-01</td>\n",
       "    </tr>\n",
       "    <tr>\n",
       "      <th>4</th>\n",
       "      <td>0</td>\n",
       "      <td>240.0</td>\n",
       "      <td>0.3</td>\n",
       "      <td>3</td>\n",
       "      <td>8.176827e-03</td>\n",
       "      <td>1.221415e-07</td>\n",
       "      <td>6.513134e-08</td>\n",
       "      <td>7.279964e-01</td>\n",
       "      <td>2.245351e-34</td>\n",
       "      <td>3.125396e-11</td>\n",
       "      <td>1.751965e-04</td>\n",
       "      <td>2.853420e-25</td>\n",
       "      <td>2.636514e-01</td>\n",
       "    </tr>\n",
       "    <tr>\n",
       "      <th>...</th>\n",
       "      <td>...</td>\n",
       "      <td>...</td>\n",
       "      <td>...</td>\n",
       "      <td>...</td>\n",
       "      <td>...</td>\n",
       "      <td>...</td>\n",
       "      <td>...</td>\n",
       "      <td>...</td>\n",
       "      <td>...</td>\n",
       "      <td>...</td>\n",
       "      <td>...</td>\n",
       "      <td>...</td>\n",
       "      <td>...</td>\n",
       "    </tr>\n",
       "    <tr>\n",
       "      <th>8974515</th>\n",
       "      <td>23</td>\n",
       "      <td>540.0</td>\n",
       "      <td>1.4</td>\n",
       "      <td>7</td>\n",
       "      <td>1.308843e-02</td>\n",
       "      <td>3.407000e-05</td>\n",
       "      <td>1.635449e-05</td>\n",
       "      <td>1.161613e-01</td>\n",
       "      <td>9.221474e-02</td>\n",
       "      <td>5.121591e-07</td>\n",
       "      <td>2.298261e-03</td>\n",
       "      <td>7.761863e-01</td>\n",
       "      <td>5.698002e-22</td>\n",
       "    </tr>\n",
       "    <tr>\n",
       "      <th>8974516</th>\n",
       "      <td>23</td>\n",
       "      <td>1860.0</td>\n",
       "      <td>5.9</td>\n",
       "      <td>2</td>\n",
       "      <td>1.842789e-88</td>\n",
       "      <td>2.729195e-08</td>\n",
       "      <td>9.914505e-01</td>\n",
       "      <td>2.601071e-31</td>\n",
       "      <td>1.539856e-03</td>\n",
       "      <td>7.009635e-03</td>\n",
       "      <td>7.810147e-19</td>\n",
       "      <td>3.531224e-23</td>\n",
       "      <td>0.000000e+00</td>\n",
       "    </tr>\n",
       "    <tr>\n",
       "      <th>8974517</th>\n",
       "      <td>23</td>\n",
       "      <td>720.0</td>\n",
       "      <td>2.0</td>\n",
       "      <td>4</td>\n",
       "      <td>2.286032e-06</td>\n",
       "      <td>3.292779e-03</td>\n",
       "      <td>2.221013e-04</td>\n",
       "      <td>1.567701e-01</td>\n",
       "      <td>4.353309e-01</td>\n",
       "      <td>6.044770e-05</td>\n",
       "      <td>1.006154e-01</td>\n",
       "      <td>3.037059e-01</td>\n",
       "      <td>1.682982e-50</td>\n",
       "    </tr>\n",
       "    <tr>\n",
       "      <th>8974518</th>\n",
       "      <td>23</td>\n",
       "      <td>660.0</td>\n",
       "      <td>3.5</td>\n",
       "      <td>4</td>\n",
       "      <td>3.352449e-10</td>\n",
       "      <td>5.791612e-03</td>\n",
       "      <td>4.796172e-04</td>\n",
       "      <td>6.777126e-03</td>\n",
       "      <td>6.774958e-01</td>\n",
       "      <td>9.765379e-05</td>\n",
       "      <td>9.654877e-02</td>\n",
       "      <td>2.128094e-01</td>\n",
       "      <td>7.525286e-49</td>\n",
       "    </tr>\n",
       "    <tr>\n",
       "      <th>8974519</th>\n",
       "      <td>23</td>\n",
       "      <td>1320.0</td>\n",
       "      <td>5.9</td>\n",
       "      <td>4</td>\n",
       "      <td>4.666136e-46</td>\n",
       "      <td>6.494087e-03</td>\n",
       "      <td>2.275670e-01</td>\n",
       "      <td>6.383946e-15</td>\n",
       "      <td>6.554321e-01</td>\n",
       "      <td>1.105065e-01</td>\n",
       "      <td>3.128968e-07</td>\n",
       "      <td>1.513458e-09</td>\n",
       "      <td>1.829351e-251</td>\n",
       "    </tr>\n",
       "  </tbody>\n",
       "</table>\n",
       "<p>8974520 rows × 13 columns</p>\n",
       "</div>"
      ],
      "text/plain": [
       "         start_time_hourly  Trip_Seconds  Trip_Miles  cluster  cluster_0_prob  \\\n",
       "0                        0         900.0         2.7        1    7.572812e-12   \n",
       "1                        0         240.0         0.4        3    6.638978e-03   \n",
       "2                        0        1920.0         0.6        5   1.912886e-159   \n",
       "3                        0         180.0         1.0        8    9.164756e-05   \n",
       "4                        0         240.0         0.3        3    8.176827e-03   \n",
       "...                    ...           ...         ...      ...             ...   \n",
       "8974515                 23         540.0         1.4        7    1.308843e-02   \n",
       "8974516                 23        1860.0         5.9        2    1.842789e-88   \n",
       "8974517                 23         720.0         2.0        4    2.286032e-06   \n",
       "8974518                 23         660.0         3.5        4    3.352449e-10   \n",
       "8974519                 23        1320.0         5.9        4    4.666136e-46   \n",
       "\n",
       "         cluster_1_prob  cluster_2_prob  cluster_3_prob  cluster_4_prob  \\\n",
       "0          6.074898e-01    1.689450e-04    1.345806e-04    1.580733e-27   \n",
       "1          9.879935e-08    4.543070e-08    5.172538e-01    1.422083e-34   \n",
       "2          3.138345e-04    2.290529e-01    2.815930e-36    1.632436e-21   \n",
       "3          5.751516e-08    3.899060e-08    2.760687e-01    2.069771e-35   \n",
       "4          1.221415e-07    6.513134e-08    7.279964e-01    2.245351e-34   \n",
       "...                 ...             ...             ...             ...   \n",
       "8974515    3.407000e-05    1.635449e-05    1.161613e-01    9.221474e-02   \n",
       "8974516    2.729195e-08    9.914505e-01    2.601071e-31    1.539856e-03   \n",
       "8974517    3.292779e-03    2.221013e-04    1.567701e-01    4.353309e-01   \n",
       "8974518    5.791612e-03    4.796172e-04    6.777126e-03    6.774958e-01   \n",
       "8974519    6.494087e-03    2.275670e-01    6.383946e-15    6.554321e-01   \n",
       "\n",
       "         cluster_5_prob  cluster_6_prob  cluster_7_prob  cluster_8_prob  \n",
       "0          2.263834e-03    3.899429e-01    8.393649e-20    1.199954e-88  \n",
       "1          2.506886e-11    1.420439e-04    1.579933e-25    4.759650e-01  \n",
       "2          7.706332e-01    2.044863e-14    3.588678e-36    0.000000e+00  \n",
       "3          1.647519e-11    8.671896e-05    2.618873e-27    7.237528e-01  \n",
       "4          3.125396e-11    1.751965e-04    2.853420e-25    2.636514e-01  \n",
       "...                 ...             ...             ...             ...  \n",
       "8974515    5.121591e-07    2.298261e-03    7.761863e-01    5.698002e-22  \n",
       "8974516    7.009635e-03    7.810147e-19    3.531224e-23    0.000000e+00  \n",
       "8974517    6.044770e-05    1.006154e-01    3.037059e-01    1.682982e-50  \n",
       "8974518    9.765379e-05    9.654877e-02    2.128094e-01    7.525286e-49  \n",
       "8974519    1.105065e-01    3.128968e-07    1.513458e-09   1.829351e-251  \n",
       "\n",
       "[8974520 rows x 13 columns]"
      ]
     },
     "execution_count": 34,
     "metadata": {},
     "output_type": "execute_result"
    }
   ],
   "source": [
    "df_clusters"
   ]
  },
  {
   "cell_type": "code",
   "execution_count": 39,
   "id": "69dcfad3",
   "metadata": {},
   "outputs": [],
   "source": [
    "def plot_information_about_clusters(df, feature_list, cluster_column):\n",
    "    \n",
    "    fig = plt.figure(figsize=(14, 18))\n",
    "    \n",
    "    for i in range(1, len(feature_list)+1):\n",
    "        plt.subplot(np.floor(len(feature_list)/2).astype(int)+1, 2, i)\n",
    "        sns.boxplot(y=df[feature_list[i-1]], \n",
    "                    x = df[cluster_column], \n",
    "                    palette=\"bright\",\n",
    "                    showmeans=True,\n",
    "                    meanprops={\"marker\": \"+\",\n",
    "                       \"markeredgecolor\": \"black\",\n",
    "                       \"markersize\": \"10\"}).set_title(\"Cluster - \" + feature_list[i-1]).set_fontsize('18')\n",
    "        plt.tight_layout()\n",
    "    \n",
    "    plt.subplot(np.floor(len(feature_list)/2).astype(int)+1, 2, len(feature_list)+1)\n",
    "    ax = sns.countplot(x=cluster_column, data=df, palette=\"bright\")\n",
    "    ax.set_xlabel(\"Cluster\")\n",
    "    ax.set_ylabel(\"Amount\")\n",
    "    ax.set_title('Cluster - Amount',fontsize=18)\n",
    "    fig.tight_layout()\n",
    "\n",
    "    for container in ax.containers:\n",
    "        ax.bar_label(container)"
   ]
  },
  {
   "cell_type": "code",
   "execution_count": 40,
   "id": "d313aa5c",
   "metadata": {
    "scrolled": true
   },
   "outputs": [
    {
     "data": {
      "image/png": "[encoded data removed]",
      "text/plain": [
       "<Figure size 1008x1296 with 4 Axes>"
      ]
     },
     "metadata": {
      "needs_background": "light"
     },
     "output_type": "display_data"
    }
   ],
   "source": [
    "plot_information_about_clusters(df_clusters, ['start_time_hourly', 'Trip_Seconds', 'Trip_Seconds'], 'cluster')"
   ]
  },
  {
   "cell_type": "code",
   "execution_count": 44,
   "id": "f1dceb04",
   "metadata": {},
   "outputs": [
    {
     "ename": "ValueError",
     "evalue": "The truth value of a Series is ambiguous. Use a.empty, a.bool(), a.item(), a.any() or a.all().",
     "output_type": "error",
     "traceback": [
      "\u001b[0;31m---------------------------------------------------------------------------\u001b[0m",
      "\u001b[0;31mValueError\u001b[0m                                Traceback (most recent call last)",
      "Input \u001b[0;32mIn [44]\u001b[0m, in \u001b[0;36m<cell line: 7>\u001b[0;34m()\u001b[0m\n\u001b[1;32m      1\u001b[0m colors \u001b[38;5;241m=\u001b[39m {\u001b[38;5;124m'\u001b[39m\u001b[38;5;124mMorning commuters \u001b[39m\u001b[38;5;124m{\u001b[39m\u001b[38;5;124mshort trips to work}\u001b[39m\u001b[38;5;124m'\u001b[39m : \u001b[38;5;124m'\u001b[39m\u001b[38;5;124m#16C835\u001b[39m\u001b[38;5;124m'\u001b[39m,\n\u001b[1;32m      2\u001b[0m           \u001b[38;5;124m'\u001b[39m\u001b[38;5;124mMorning commuters \u001b[39m\u001b[38;5;124m{\u001b[39m\u001b[38;5;124mmedium-long trips to work}\u001b[39m\u001b[38;5;124m'\u001b[39m : \u001b[38;5;124m'\u001b[39m\u001b[38;5;124m#FF7C00\u001b[39m\u001b[38;5;124m'\u001b[39m,\n\u001b[1;32m      3\u001b[0m           \u001b[38;5;124m'\u001b[39m\u001b[38;5;124mEvening commuters \u001b[39m\u001b[38;5;124m{\u001b[39m\u001b[38;5;124mshort trips from work}\u001b[39m\u001b[38;5;124m'\u001b[39m : \u001b[38;5;124m'\u001b[39m\u001b[38;5;124m#8B2BE2\u001b[39m\u001b[38;5;124m'\u001b[39m,\n\u001b[1;32m      4\u001b[0m           \u001b[38;5;124m'\u001b[39m\u001b[38;5;124mEvening commuters \u001b[39m\u001b[38;5;124m{\u001b[39m\u001b[38;5;124mmedium-long trips to work}\u001b[39m\u001b[38;5;124m'\u001b[39m : \u001b[38;5;124m'\u001b[39m\u001b[38;5;124m#843C0C\u001b[39m\u001b[38;5;124m'\u001b[39m,\n\u001b[1;32m      5\u001b[0m           \u001b[38;5;124m'\u001b[39m\u001b[38;5;124mOrdinary cyclists - Long trip \u001b[39m\u001b[38;5;124m{\u001b[39m\u001b[38;5;124mlong distance trips distributed throughout the day}\u001b[39m\u001b[38;5;124m'\u001b[39m: \u001b[38;5;124m'\u001b[39m\u001b[38;5;124m#023EFF\u001b[39m\u001b[38;5;124m'\u001b[39m}\n\u001b[0;32m----> 7\u001b[0m g \u001b[38;5;241m=\u001b[39m \u001b[43msns\u001b[49m\u001b[38;5;241;43m.\u001b[39;49m\u001b[43mpairplot\u001b[49m\u001b[43m(\u001b[49m\u001b[43mdata\u001b[49m\u001b[38;5;241;43m=\u001b[39;49m\u001b[43mdf_clusters\u001b[49m\u001b[43m[\u001b[49m\u001b[43m[\u001b[49m\u001b[38;5;124;43m'\u001b[39;49m\u001b[38;5;124;43mstart_time_hourly\u001b[39;49m\u001b[38;5;124;43m'\u001b[39;49m\u001b[43m,\u001b[49m\u001b[43m \u001b[49m\u001b[38;5;124;43m'\u001b[39;49m\u001b[38;5;124;43mTrip_Seconds\u001b[39;49m\u001b[38;5;124;43m'\u001b[39;49m\u001b[43m,\u001b[49m\u001b[43m \u001b[49m\u001b[38;5;124;43m'\u001b[39;49m\u001b[38;5;124;43mTrip_Seconds\u001b[39;49m\u001b[38;5;124;43m'\u001b[39;49m\u001b[43m,\u001b[49m\u001b[38;5;124;43m'\u001b[39;49m\u001b[38;5;124;43mcluster\u001b[39;49m\u001b[38;5;124;43m'\u001b[39;49m\u001b[43m]\u001b[49m\u001b[43m]\u001b[49m\u001b[43m,\u001b[49m\u001b[43m \u001b[49m\n\u001b[1;32m      8\u001b[0m \u001b[43m             \u001b[49m\u001b[43mhue\u001b[49m\u001b[43m \u001b[49m\u001b[38;5;241;43m=\u001b[39;49m\u001b[43m \u001b[49m\u001b[38;5;124;43m'\u001b[39;49m\u001b[38;5;124;43mcluster\u001b[39;49m\u001b[38;5;124;43m'\u001b[39;49m\u001b[43m,\u001b[49m\u001b[43m \u001b[49m\u001b[43mpalette\u001b[49m\u001b[38;5;241;43m=\u001b[39;49m\u001b[43mcolors\u001b[49m\u001b[43m,\u001b[49m\u001b[43m \u001b[49m\u001b[43mheight\u001b[49m\u001b[38;5;241;43m=\u001b[39;49m\u001b[38;5;241;43m4\u001b[39;49m\u001b[43m,\u001b[49m\u001b[43m \u001b[49m\u001b[43maspect\u001b[49m\u001b[38;5;241;43m=\u001b[39;49m\u001b[38;5;241;43m1\u001b[39;49m\u001b[43m)\u001b[49m\n\u001b[1;32m     10\u001b[0m \u001b[38;5;66;03m#styling the output\u001b[39;00m\n\u001b[1;32m     11\u001b[0m handles \u001b[38;5;241m=\u001b[39m g\u001b[38;5;241m.\u001b[39m_legend_data\u001b[38;5;241m.\u001b[39mvalues()\n",
      "File \u001b[0;32m/opt/anaconda3/lib/python3.9/site-packages/seaborn/_decorators.py:46\u001b[0m, in \u001b[0;36m_deprecate_positional_args.<locals>.inner_f\u001b[0;34m(*args, **kwargs)\u001b[0m\n\u001b[1;32m     36\u001b[0m     warnings\u001b[38;5;241m.\u001b[39mwarn(\n\u001b[1;32m     37\u001b[0m         \u001b[38;5;124m\"\u001b[39m\u001b[38;5;124mPass the following variable\u001b[39m\u001b[38;5;132;01m{}\u001b[39;00m\u001b[38;5;124m as \u001b[39m\u001b[38;5;132;01m{}\u001b[39;00m\u001b[38;5;124mkeyword arg\u001b[39m\u001b[38;5;132;01m{}\u001b[39;00m\u001b[38;5;124m: \u001b[39m\u001b[38;5;132;01m{}\u001b[39;00m\u001b[38;5;124m. \u001b[39m\u001b[38;5;124m\"\u001b[39m\n\u001b[1;32m     38\u001b[0m         \u001b[38;5;124m\"\u001b[39m\u001b[38;5;124mFrom version 0.12, the only valid positional argument \u001b[39m\u001b[38;5;124m\"\u001b[39m\n\u001b[0;32m   (...)\u001b[0m\n\u001b[1;32m     43\u001b[0m         \u001b[38;5;167;01mFutureWarning\u001b[39;00m\n\u001b[1;32m     44\u001b[0m     )\n\u001b[1;32m     45\u001b[0m kwargs\u001b[38;5;241m.\u001b[39mupdate({k: arg \u001b[38;5;28;01mfor\u001b[39;00m k, arg \u001b[38;5;129;01min\u001b[39;00m \u001b[38;5;28mzip\u001b[39m(sig\u001b[38;5;241m.\u001b[39mparameters, args)})\n\u001b[0;32m---> 46\u001b[0m \u001b[38;5;28;01mreturn\u001b[39;00m \u001b[43mf\u001b[49m\u001b[43m(\u001b[49m\u001b[38;5;241;43m*\u001b[39;49m\u001b[38;5;241;43m*\u001b[39;49m\u001b[43mkwargs\u001b[49m\u001b[43m)\u001b[49m\n",
      "File \u001b[0;32m/opt/anaconda3/lib/python3.9/site-packages/seaborn/axisgrid.py:2096\u001b[0m, in \u001b[0;36mpairplot\u001b[0;34m(data, hue, hue_order, palette, vars, x_vars, y_vars, kind, diag_kind, markers, height, aspect, corner, dropna, plot_kws, diag_kws, grid_kws, size)\u001b[0m\n\u001b[1;32m   2094\u001b[0m \u001b[38;5;66;03m# Set up the PairGrid\u001b[39;00m\n\u001b[1;32m   2095\u001b[0m grid_kws\u001b[38;5;241m.\u001b[39msetdefault(\u001b[38;5;124m\"\u001b[39m\u001b[38;5;124mdiag_sharey\u001b[39m\u001b[38;5;124m\"\u001b[39m, diag_kind \u001b[38;5;241m==\u001b[39m \u001b[38;5;124m\"\u001b[39m\u001b[38;5;124mhist\u001b[39m\u001b[38;5;124m\"\u001b[39m)\n\u001b[0;32m-> 2096\u001b[0m grid \u001b[38;5;241m=\u001b[39m \u001b[43mPairGrid\u001b[49m\u001b[43m(\u001b[49m\u001b[43mdata\u001b[49m\u001b[43m,\u001b[49m\u001b[43m \u001b[49m\u001b[38;5;28;43mvars\u001b[39;49m\u001b[38;5;241;43m=\u001b[39;49m\u001b[38;5;28;43mvars\u001b[39;49m\u001b[43m,\u001b[49m\u001b[43m \u001b[49m\u001b[43mx_vars\u001b[49m\u001b[38;5;241;43m=\u001b[39;49m\u001b[43mx_vars\u001b[49m\u001b[43m,\u001b[49m\u001b[43m \u001b[49m\u001b[43my_vars\u001b[49m\u001b[38;5;241;43m=\u001b[39;49m\u001b[43my_vars\u001b[49m\u001b[43m,\u001b[49m\u001b[43m \u001b[49m\u001b[43mhue\u001b[49m\u001b[38;5;241;43m=\u001b[39;49m\u001b[43mhue\u001b[49m\u001b[43m,\u001b[49m\n\u001b[1;32m   2097\u001b[0m \u001b[43m                \u001b[49m\u001b[43mhue_order\u001b[49m\u001b[38;5;241;43m=\u001b[39;49m\u001b[43mhue_order\u001b[49m\u001b[43m,\u001b[49m\u001b[43m \u001b[49m\u001b[43mpalette\u001b[49m\u001b[38;5;241;43m=\u001b[39;49m\u001b[43mpalette\u001b[49m\u001b[43m,\u001b[49m\u001b[43m \u001b[49m\u001b[43mcorner\u001b[49m\u001b[38;5;241;43m=\u001b[39;49m\u001b[43mcorner\u001b[49m\u001b[43m,\u001b[49m\n\u001b[1;32m   2098\u001b[0m \u001b[43m                \u001b[49m\u001b[43mheight\u001b[49m\u001b[38;5;241;43m=\u001b[39;49m\u001b[43mheight\u001b[49m\u001b[43m,\u001b[49m\u001b[43m \u001b[49m\u001b[43maspect\u001b[49m\u001b[38;5;241;43m=\u001b[39;49m\u001b[43maspect\u001b[49m\u001b[43m,\u001b[49m\u001b[43m \u001b[49m\u001b[43mdropna\u001b[49m\u001b[38;5;241;43m=\u001b[39;49m\u001b[43mdropna\u001b[49m\u001b[43m,\u001b[49m\u001b[43m \u001b[49m\u001b[38;5;241;43m*\u001b[39;49m\u001b[38;5;241;43m*\u001b[39;49m\u001b[43mgrid_kws\u001b[49m\u001b[43m)\u001b[49m\n\u001b[1;32m   2100\u001b[0m \u001b[38;5;66;03m# Add the markers here as PairGrid has figured out how many levels of the\u001b[39;00m\n\u001b[1;32m   2101\u001b[0m \u001b[38;5;66;03m# hue variable are needed and we don't want to duplicate that process\u001b[39;00m\n\u001b[1;32m   2102\u001b[0m \u001b[38;5;28;01mif\u001b[39;00m markers \u001b[38;5;129;01mis\u001b[39;00m \u001b[38;5;129;01mnot\u001b[39;00m \u001b[38;5;28;01mNone\u001b[39;00m:\n",
      "File \u001b[0;32m/opt/anaconda3/lib/python3.9/site-packages/seaborn/_decorators.py:46\u001b[0m, in \u001b[0;36m_deprecate_positional_args.<locals>.inner_f\u001b[0;34m(*args, **kwargs)\u001b[0m\n\u001b[1;32m     36\u001b[0m     warnings\u001b[38;5;241m.\u001b[39mwarn(\n\u001b[1;32m     37\u001b[0m         \u001b[38;5;124m\"\u001b[39m\u001b[38;5;124mPass the following variable\u001b[39m\u001b[38;5;132;01m{}\u001b[39;00m\u001b[38;5;124m as \u001b[39m\u001b[38;5;132;01m{}\u001b[39;00m\u001b[38;5;124mkeyword arg\u001b[39m\u001b[38;5;132;01m{}\u001b[39;00m\u001b[38;5;124m: \u001b[39m\u001b[38;5;132;01m{}\u001b[39;00m\u001b[38;5;124m. \u001b[39m\u001b[38;5;124m\"\u001b[39m\n\u001b[1;32m     38\u001b[0m         \u001b[38;5;124m\"\u001b[39m\u001b[38;5;124mFrom version 0.12, the only valid positional argument \u001b[39m\u001b[38;5;124m\"\u001b[39m\n\u001b[0;32m   (...)\u001b[0m\n\u001b[1;32m     43\u001b[0m         \u001b[38;5;167;01mFutureWarning\u001b[39;00m\n\u001b[1;32m     44\u001b[0m     )\n\u001b[1;32m     45\u001b[0m kwargs\u001b[38;5;241m.\u001b[39mupdate({k: arg \u001b[38;5;28;01mfor\u001b[39;00m k, arg \u001b[38;5;129;01min\u001b[39;00m \u001b[38;5;28mzip\u001b[39m(sig\u001b[38;5;241m.\u001b[39mparameters, args)})\n\u001b[0;32m---> 46\u001b[0m \u001b[38;5;28;01mreturn\u001b[39;00m \u001b[43mf\u001b[49m\u001b[43m(\u001b[49m\u001b[38;5;241;43m*\u001b[39;49m\u001b[38;5;241;43m*\u001b[39;49m\u001b[43mkwargs\u001b[49m\u001b[43m)\u001b[49m\n",
      "File \u001b[0;32m/opt/anaconda3/lib/python3.9/site-packages/seaborn/axisgrid.py:1212\u001b[0m, in \u001b[0;36mPairGrid.__init__\u001b[0;34m(self, data, hue, hue_order, palette, hue_kws, vars, x_vars, y_vars, corner, diag_sharey, height, aspect, layout_pad, despine, dropna, size)\u001b[0m\n\u001b[1;32m   1209\u001b[0m     warnings\u001b[38;5;241m.\u001b[39mwarn(\u001b[38;5;167;01mUserWarning\u001b[39;00m(msg))\n\u001b[1;32m   1211\u001b[0m \u001b[38;5;66;03m# Sort out the variables that define the grid\u001b[39;00m\n\u001b[0;32m-> 1212\u001b[0m numeric_cols \u001b[38;5;241m=\u001b[39m \u001b[38;5;28;43mself\u001b[39;49m\u001b[38;5;241;43m.\u001b[39;49m\u001b[43m_find_numeric_cols\u001b[49m\u001b[43m(\u001b[49m\u001b[43mdata\u001b[49m\u001b[43m)\u001b[49m\n\u001b[1;32m   1213\u001b[0m \u001b[38;5;28;01mif\u001b[39;00m hue \u001b[38;5;129;01min\u001b[39;00m numeric_cols:\n\u001b[1;32m   1214\u001b[0m     numeric_cols\u001b[38;5;241m.\u001b[39mremove(hue)\n",
      "File \u001b[0;32m/opt/anaconda3/lib/python3.9/site-packages/seaborn/axisgrid.py:1640\u001b[0m, in \u001b[0;36mPairGrid._find_numeric_cols\u001b[0;34m(self, data)\u001b[0m\n\u001b[1;32m   1638\u001b[0m numeric_cols \u001b[38;5;241m=\u001b[39m []\n\u001b[1;32m   1639\u001b[0m \u001b[38;5;28;01mfor\u001b[39;00m col \u001b[38;5;129;01min\u001b[39;00m data:\n\u001b[0;32m-> 1640\u001b[0m     \u001b[38;5;28;01mif\u001b[39;00m \u001b[43mvariable_type\u001b[49m\u001b[43m(\u001b[49m\u001b[43mdata\u001b[49m\u001b[43m[\u001b[49m\u001b[43mcol\u001b[49m\u001b[43m]\u001b[49m\u001b[43m)\u001b[49m \u001b[38;5;241m==\u001b[39m \u001b[38;5;124m\"\u001b[39m\u001b[38;5;124mnumeric\u001b[39m\u001b[38;5;124m\"\u001b[39m:\n\u001b[1;32m   1641\u001b[0m         numeric_cols\u001b[38;5;241m.\u001b[39mappend(col)\n\u001b[1;32m   1642\u001b[0m \u001b[38;5;28;01mreturn\u001b[39;00m numeric_cols\n",
      "File \u001b[0;32m/opt/anaconda3/lib/python3.9/site-packages/seaborn/_core.py:1229\u001b[0m, in \u001b[0;36mvariable_type\u001b[0;34m(vector, boolean_type)\u001b[0m\n\u001b[1;32m   1226\u001b[0m     \u001b[38;5;28;01mreturn\u001b[39;00m \u001b[38;5;124m\"\u001b[39m\u001b[38;5;124mcategorical\u001b[39m\u001b[38;5;124m\"\u001b[39m\n\u001b[1;32m   1228\u001b[0m \u001b[38;5;66;03m# Special-case all-na data, which is always \"numeric\"\u001b[39;00m\n\u001b[0;32m-> 1229\u001b[0m \u001b[38;5;28;01mif\u001b[39;00m pd\u001b[38;5;241m.\u001b[39misna(vector)\u001b[38;5;241m.\u001b[39mall():\n\u001b[1;32m   1230\u001b[0m     \u001b[38;5;28;01mreturn\u001b[39;00m \u001b[38;5;124m\"\u001b[39m\u001b[38;5;124mnumeric\u001b[39m\u001b[38;5;124m\"\u001b[39m\n\u001b[1;32m   1232\u001b[0m \u001b[38;5;66;03m# Special-case binary/boolean data, allow caller to determine\u001b[39;00m\n\u001b[1;32m   1233\u001b[0m \u001b[38;5;66;03m# This triggers a numpy warning when vector has strings/objects\u001b[39;00m\n\u001b[1;32m   1234\u001b[0m \u001b[38;5;66;03m# https://github.com/numpy/numpy/issues/6784\u001b[39;00m\n\u001b[0;32m   (...)\u001b[0m\n\u001b[1;32m   1238\u001b[0m \u001b[38;5;66;03m# https://github.com/numpy/numpy/issues/13548\u001b[39;00m\n\u001b[1;32m   1239\u001b[0m \u001b[38;5;66;03m# This is considered a bug by numpy and will likely go away.\u001b[39;00m\n",
      "File \u001b[0;32m/opt/anaconda3/lib/python3.9/site-packages/pandas/core/generic.py:1527\u001b[0m, in \u001b[0;36mNDFrame.__nonzero__\u001b[0;34m(self)\u001b[0m\n\u001b[1;32m   1525\u001b[0m \u001b[38;5;129m@final\u001b[39m\n\u001b[1;32m   1526\u001b[0m \u001b[38;5;28;01mdef\u001b[39;00m \u001b[38;5;21m__nonzero__\u001b[39m(\u001b[38;5;28mself\u001b[39m):\n\u001b[0;32m-> 1527\u001b[0m     \u001b[38;5;28;01mraise\u001b[39;00m \u001b[38;5;167;01mValueError\u001b[39;00m(\n\u001b[1;32m   1528\u001b[0m         \u001b[38;5;124mf\u001b[39m\u001b[38;5;124m\"\u001b[39m\u001b[38;5;124mThe truth value of a \u001b[39m\u001b[38;5;132;01m{\u001b[39;00m\u001b[38;5;28mtype\u001b[39m(\u001b[38;5;28mself\u001b[39m)\u001b[38;5;241m.\u001b[39m\u001b[38;5;18m__name__\u001b[39m\u001b[38;5;132;01m}\u001b[39;00m\u001b[38;5;124m is ambiguous. \u001b[39m\u001b[38;5;124m\"\u001b[39m\n\u001b[1;32m   1529\u001b[0m         \u001b[38;5;124m\"\u001b[39m\u001b[38;5;124mUse a.empty, a.bool(), a.item(), a.any() or a.all().\u001b[39m\u001b[38;5;124m\"\u001b[39m\n\u001b[1;32m   1530\u001b[0m     )\n",
      "\u001b[0;31mValueError\u001b[0m: The truth value of a Series is ambiguous. Use a.empty, a.bool(), a.item(), a.any() or a.all()."
     ]
    }
   ],
   "source": [
    "colors = {'Morning commuters {short trips to work}' : '#16C835',\n",
    "          'Morning commuters {medium-long trips to work}' : '#FF7C00',\n",
    "          'Evening commuters {short trips from work}' : '#8B2BE2',\n",
    "          'Evening commuters {medium-long trips to work}' : '#843C0C',\n",
    "          'Ordinary cyclists - Long trip {long distance trips distributed throughout the day}': '#023EFF'}\n",
    "\n",
    "g = sns.pairplot(data=df_clusters[['start_time_hourly', 'Trip_Seconds', 'Trip_Seconds','cluster']], \n",
    "             hue = 'cluster', palette=colors, height=4, aspect=1)\n",
    "\n",
    "#styling the output\n",
    "handles = g._legend_data.values()\n",
    "labels = g._legend_data.keys()\n",
    "g._legend.remove()\n",
    "g.fig.legend(handles=handles, labels=labels, loc='upper center', ncol=1)\n",
    "g.fig.subplots_adjust(top=0.89, bottom=0.08)"
   ]
  },
  {
   "cell_type": "code",
   "execution_count": null,
   "id": "87677c1d",
   "metadata": {},
   "outputs": [],
   "source": []
  }
 ],
 "metadata": {
  "kernelspec": {
   "display_name": "Python 3 (ipykernel)",
   "language": "python",
   "name": "python3"
  },
  "language_info": {
   "codemirror_mode": {
    "name": "ipython",
    "version": 3
   },
   "file_extension": ".py",
   "mimetype": "text/x-python",
   "name": "python",
   "nbconvert_exporter": "python",
   "pygments_lexer": "ipython3",
   "version": "3.9.12"
  }
 },
 "nbformat": 4,
 "nbformat_minor": 5
}
