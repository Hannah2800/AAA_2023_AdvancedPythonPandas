{
 "cells": [
  {
   "cell_type": "code",
   "execution_count": 1,
   "id": "b16915e1",
   "metadata": {},
   "outputs": [],
   "source": [
    "# import all necessary packages\n",
    "import pandas as pd\n",
    "import numpy as np\n",
    "import json\n",
    "import datetime\n",
    "import warnings\n",
    "from pandas.core.common import SettingWithCopyWarning\n",
    "#warnings.simplefilter(action=\"ignore\", category=SettingWithCopyWarning)\n",
    "import matplotlib.pyplot as plt\n",
    "from sklearn.svm import SVR\n",
    "from sklearn import datasets\n",
    "from scipy.stats import loguniform\n",
    "# import .py file for prediction methods\n",
    "import predictive as pred"
   ]
  },
  {
   "cell_type": "code",
   "execution_count": 2,
   "id": "f25fee17",
   "metadata": {},
   "outputs": [],
   "source": [
    "# import datasets\n",
    "df_chicago = pd.read_csv(\"data/datasets/df_chicago.csv.zip\")"
   ]
  },
  {
   "cell_type": "markdown",
   "id": "a0d46d93",
   "metadata": {},
   "source": [
    "When researching for the best score to use when deciding which number of cluster to choose for the Gaussian Mixture Model (soft-clustering), we found the Silhouette score and the Bayesian information criterion (BIC)."
   ]
  },
  {
   "cell_type": "code",
   "execution_count": null,
   "id": "a725daf4",
   "metadata": {},
   "outputs": [],
   "source": []
  }
 ],
 "metadata": {
  "kernelspec": {
   "display_name": "Python 3 (ipykernel)",
   "language": "python",
   "name": "python3"
  },
  "language_info": {
   "codemirror_mode": {
    "name": "ipython",
    "version": 3
   },
   "file_extension": ".py",
   "mimetype": "text/x-python",
   "name": "python",
   "nbconvert_exporter": "python",
   "pygments_lexer": "ipython3",
   "version": "3.9.12"
  }
 },
 "nbformat": 4,
 "nbformat_minor": 5
}
