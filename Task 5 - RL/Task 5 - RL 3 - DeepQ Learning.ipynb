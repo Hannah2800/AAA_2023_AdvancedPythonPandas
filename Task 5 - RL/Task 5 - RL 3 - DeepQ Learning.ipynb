{
 "cells": [
  {
   "cell_type": "markdown",
   "metadata": {
    "id": "ArLsGRWsMkqq"
   },
   "source": [
    "## Third RL-model: Deep Q-learning"
   ]
  },
  {
   "cell_type": "code",
   "execution_count": 1,
   "metadata": {
    "executionInfo": {
     "elapsed": 7833,
     "status": "ok",
     "timestamp": 1692090344483,
     "user": {
      "displayName": "Maxschii",
      "userId": "16766951271173749265"
     },
     "user_tz": -120
    },
    "id": "BRXR4BaTMwgJ"
   },
   "outputs": [],
   "source": [
    "from tensorflow.keras.layers import Dense, Activation\n",
    "from tensorflow.keras.models import Sequential, load_model\n",
    "from tensorflow.keras.optimizers.legacy  import Adam\n",
    "import tensorflow as tf\n",
    "import numpy as np\n",
    "import tqdm\n",
    "\n",
    "import reinforcement"
   ]
  },
  {
   "cell_type": "code",
   "execution_count": 2,
   "metadata": {},
   "outputs": [
    {
     "name": "stdout",
     "output_type": "stream",
     "text": [
      "[PhysicalDevice(name='/physical_device:GPU:0', device_type='GPU')]\n"
     ]
    }
   ],
   "source": [
    "print(tf.config.list_physical_devices('GPU'))"
   ]
  },
  {
   "cell_type": "markdown",
   "metadata": {
    "id": "v_MYRVfbM7pc"
   },
   "source": [
    "**Define our Agent**"
   ]
  },
  {
   "cell_type": "code",
   "execution_count": 3,
   "metadata": {
    "executionInfo": {
     "elapsed": 15,
     "status": "ok",
     "timestamp": 1692090344484,
     "user": {
      "displayName": "Maxschii",
      "userId": "16766951271173749265"
     },
     "user_tz": -120
    },
    "id": "hdPxU0yQMymr"
   },
   "outputs": [],
   "source": [
    "class ReplayBuffer(object):\n",
    "    def __init__(self, max_size, input_shape, n_actions, discrete=False):\n",
    "        self.mem_size = max_size\n",
    "        self.memory_counter = 0\n",
    "        self.discrete = discrete\n",
    "        self.state_memory = np.zeros((self.mem_size, input_shape))\n",
    "        self.new_state_memory = np.zeros((self.mem_size, input_shape))\n",
    "        dtype = np.int8 if self.discrete else np.float32\n",
    "        self.action_memory = np.zeros((self.mem_size, n_actions), dtype=dtype)\n",
    "        self.reward_memory = np.zeros(self.mem_size)\n",
    "        self.terminal_memory = np.zeros(self.mem_size, dtype=np.float32)\n",
    "\n",
    "    def store_transition(self, state, action, reward, state_, done):\n",
    "        index = self.memory_counter % self.mem_size\n",
    "        self.state_memory[index] = state\n",
    "        self.new_state_memory[index] = state_\n",
    "        # store one hot encoding of actions, if appropriate\n",
    "        if self.discrete:\n",
    "            actions = np.zeros(self.action_memory.shape[1])\n",
    "            actions[action] = 1.0\n",
    "            self.action_memory[index] = actions\n",
    "        else:\n",
    "            self.action_memory[index] = action\n",
    "        self.reward_memory[index] = reward\n",
    "        self.terminal_memory[index] = 1 - done\n",
    "        self.memory_counter += 1\n",
    "\n",
    "    def sample_buffer(self, batch_size):\n",
    "        max_mem = min(self.memory_counter, self.mem_size)\n",
    "        batch = np.random.choice(max_mem, batch_size)\n",
    "\n",
    "        states = self.state_memory[batch]\n",
    "        actions = self.action_memory[batch]\n",
    "        rewards = self.reward_memory[batch]\n",
    "        states_ = self.new_state_memory[batch]\n",
    "        terminal = self.terminal_memory[batch]\n",
    "\n",
    "        return states, actions, rewards, states_, terminal\n",
    "\n",
    "\n",
    "def build_dqn(lr, n_actions, input_dims, fc1_dims, fc2_dims):\n",
    "    model = Sequential([\n",
    "        Dense(fc1_dims, input_shape=(input_dims,)),\n",
    "        Activation('relu'),\n",
    "        Dense(fc2_dims),\n",
    "        Activation('relu'),\n",
    "        Dense(n_actions)])\n",
    "\n",
    "    model.compile(optimizer=Adam(learning_rate=lr), loss='mse')\n",
    "\n",
    "    return model\n",
    "\n",
    "\n",
    "class DeepQAgent(object):\n",
    "    def __init__(self, alpha, gamma, n_actions, epsilon, batch_size,\n",
    "                 input_dims, epsilon_dec=0.996,  epsilon_end=0.01,\n",
    "                 mem_size=100, fname='dqn_model.keras'):\n",
    "        self.action_space = [i for i in range(n_actions)]\n",
    "        self.gamma = gamma\n",
    "        self.epsilon = epsilon\n",
    "        self.epsilon_dec = epsilon_dec\n",
    "        self.epsilon_min = epsilon_end\n",
    "        self.batch_size = batch_size\n",
    "        self.model_file = fname\n",
    "        self.memory = ReplayBuffer(mem_size, input_dims, n_actions,\n",
    "                                   discrete=True)\n",
    "        self.q_eval = build_dqn(alpha, n_actions, input_dims, 8, 8)\n",
    "\n",
    "    def remember(self, state, action, reward, new_state, done):\n",
    "        self.memory.store_transition(state, action, reward, new_state, done)\n",
    "\n",
    "    def get_action(self, state, env):\n",
    "        state = np.asarray(state)\n",
    "        state = state[np.newaxis, :]\n",
    "        rand = np.random.random()\n",
    "        if rand < self.epsilon:\n",
    "            return env.action_space.sample()\n",
    "        else:\n",
    "            actions = self.q_eval.predict(state, verbose=0)\n",
    "            action = np.argmax(actions)\n",
    "\n",
    "        return action\n",
    "\n",
    "    def learn(self):\n",
    "        if self.memory.memory_counter > self.batch_size:\n",
    "            state, action, reward, new_state, done = \\\n",
    "                self.memory.sample_buffer(self.batch_size)\n",
    "\n",
    "            action_values = np.array(self.action_space, dtype=np.int8)\n",
    "            action_indices = np.dot(action, action_values)\n",
    "\n",
    "            q_eval = self.q_eval.predict(state, verbose=0)\n",
    "\n",
    "            q_next = self.q_eval.predict(new_state, verbose=0)\n",
    "\n",
    "            q_target = q_eval.copy()\n",
    "\n",
    "            batch_index = np.arange(self.batch_size, dtype=np.int32)\n",
    "\n",
    "            q_target[batch_index, action_indices] = reward + \\\n",
    "                self.gamma*np.max(q_next, axis=1)*done\n",
    "\n",
    "            _ = self.q_eval.fit(state, q_target, verbose=0)\n",
    "\n",
    "            self.decay_epsilon()\n",
    "\n",
    "    def decay_epsilon(self):\n",
    "        self.epsilon = max(self.epsilon_min,\n",
    "                           self.epsilon - self.epsilon_dec)\n",
    "\n",
    "    def save_model(self):\n",
    "        self.q_eval.save(self.model_file)\n",
    "\n",
    "    def load_model(self):\n",
    "        self.q_eval = load_model(self.model_file)"
   ]
  },
  {
   "cell_type": "markdown",
   "metadata": {
    "id": "9CCaRBm8NF3X"
   },
   "source": [
    "**Main Loop for learning**"
   ]
  },
  {
   "cell_type": "code",
   "execution_count": 4,
   "metadata": {
    "executionInfo": {
     "elapsed": 14,
     "status": "ok",
     "timestamp": 1692090344484,
     "user": {
      "displayName": "Maxschii",
      "userId": "16766951271173749265"
     },
     "user_tz": -120
    },
    "id": "6VbQzJDjNC8D"
   },
   "outputs": [],
   "source": [
    "def run_deepq_learning(env, deepq_agent, n_episodes, **kwargs):\n",
    "    \"\"\"method to run training\"\"\"\n",
    "    scores = []\n",
    "    eps_history = []\n",
    "\n",
    "    for i in tqdm.tqdm(range(n_episodes)):\n",
    "        done = False\n",
    "        score = 0\n",
    "        observation = env.reset()[0]\n",
    "        while not done:\n",
    "            action = deepq_agent.get_action(observation, env)\n",
    "            observation_, reward, done, info, ff = env.step(action)\n",
    "            score += reward\n",
    "            deepq_agent.remember(observation, action,\n",
    "                                 reward, observation_, int(done))\n",
    "            observation = observation_\n",
    "            deepq_agent.learn()\n",
    "\n",
    "        eps_history.append(deepq_agent.epsilon)\n",
    "        scores.append(score)\n",
    "\n",
    "        # avg_score = np.mean(scores[max(0, i-100):(i+1)])\n",
    "        # print('episode: ', i,'score: %.2f' % score,\n",
    "        #        ' average score %.2f' % avg_score)\n",
    "\n",
    "    deepq_agent.save_model()\n",
    "\n",
    "    return scores, eps_history"
   ]
  },
  {
   "cell_type": "markdown",
   "metadata": {
    "id": "Ah1Fs6G3NIcd"
   },
   "source": [
    "**Run Training**\n",
    "\n",
    "We use a constant epsilon of 0. Using the exploration resulted in always charging 0 kWh."
   ]
  },
  {
   "cell_type": "code",
   "execution_count": 5,
   "metadata": {
    "colab": {
     "base_uri": "https://localhost:8080/"
    },
    "executionInfo": {
     "elapsed": 2559949,
     "status": "ok",
     "timestamp": 1692092904419,
     "user": {
      "displayName": "Maxschii",
      "userId": "16766951271173749265"
     },
     "user_tz": -120
    },
    "id": "NradExw1FeOs",
    "outputId": "1f40c861-fa9f-44c7-8d85-0ba15d3da0c4"
   },
   "outputs": [
    {
     "name": "stderr",
     "output_type": "stream",
     "text": [
      "100%|████████████████████████████████████████████████████████████████████████████████████| 750/750 [16:35<00:00,  1.33s/it]\n"
     ]
    }
   ],
   "source": [
    "# hyperparameter\n",
    "n_episodes = 750\n",
    "learning_rate = 0.001\n",
    "start_epsilon = 0\n",
    "# reduce the exploration over time\n",
    "epsilon_decay = start_epsilon / (n_episodes / 2)\n",
    "final_epsilon = 0\n",
    "\n",
    "env = reinforcement.SmartChargingEnv()\n",
    "\n",
    "deepq_agent = DeepQAgent(alpha=learning_rate, gamma=0.99, epsilon=start_epsilon, epsilon_dec=epsilon_decay,\n",
    "                          epsilon_end=final_epsilon, input_dims=2, n_actions=4, mem_size=1000, batch_size=16)\n",
    "\n",
    "# deepq_agent.load_model()\n",
    "scores, eps_history = run_deepq_learning(env, deepq_agent, n_episodes)\n"
   ]
  },
  {
   "cell_type": "markdown",
   "metadata": {
    "id": "IGvm89XfNWg_"
   },
   "source": [
    "**Results**"
   ]
  },
  {
   "cell_type": "code",
   "execution_count": 6,
   "metadata": {
    "colab": {
     "base_uri": "https://localhost:8080/",
     "height": 524
    },
    "executionInfo": {
     "elapsed": 1417,
     "status": "ok",
     "timestamp": 1692092905825,
     "user": {
      "displayName": "Maxschii",
      "userId": "16766951271173749265"
     },
     "user_tz": -120
    },
    "id": "GoFG-PL2RFM7",
    "outputId": "eddaad2c-f445-4180-8586-9f218affe1ef"
   },
   "outputs": [
    {
     "name": "stdout",
     "output_type": "stream",
     "text": [
      "Actions:  [2, 2, 2, 2, 2, 2, 3, 3]\n",
      "Reward:  -1134.4464871843356\n",
      "Final Battery Level:  36\n"
     ]
    },
    {
     "data": {
      "image/png": "[encoded data removed]",
      "text/plain": [
       "<Figure size 640x480 with 1 Axes>"
      ]
     },
     "metadata": {},
     "output_type": "display_data"
    }
   ],
   "source": [
    "actions, battery_levels, score = reinforcement.run_model(env, deepq_agent)\n",
    "print(\"Actions: \", actions)\n",
    "print(\"Reward: \", score)\n",
    "print(\"Final Battery Level: \", int(battery_levels[-1]))\n",
    "reinforcement.plot_model_run(battery_levels)"
   ]
  },
  {
   "cell_type": "code",
   "execution_count": 7,
   "metadata": {
    "colab": {
     "base_uri": "https://localhost:8080/",
     "height": 0
    },
    "executionInfo": {
     "elapsed": 376,
     "status": "ok",
     "timestamp": 1692092906200,
     "user": {
      "displayName": "Maxschii",
      "userId": "16766951271173749265"
     },
     "user_tz": -120
    },
    "id": "-EQ1ByOINR0e",
    "outputId": "ed149834-137c-4e16-e055-df8c934b1c59"
   },
   "outputs": [
    {
     "data": {
      "image/png": "[encoded data removed]",
      "text/plain": [
       "<Figure size 640x480 with 2 Axes>"
      ]
     },
     "metadata": {},
     "output_type": "display_data"
    }
   ],
   "source": [
    "x = [i+1 for i in range(n_episodes)]\n",
    "reinforcement.plot_learning_rewards_epsilon(\n",
    "    x, scores, eps_history, \"deepqlearning.png\")"
   ]
  },
  {
   "cell_type": "markdown",
   "metadata": {},
   "source": [
    "The results suggest, that the model needs more refinement, e.g adjusting Hyperparameter, more episodes of training or using double DQN."
   ]
  },
  {
   "cell_type": "code",
   "execution_count": 8,
   "metadata": {
    "executionInfo": {
     "elapsed": 4,
     "status": "ok",
     "timestamp": 1692092906201,
     "user": {
      "displayName": "Maxschii",
      "userId": "16766951271173749265"
     },
     "user_tz": -120
    },
    "id": "-wiXJ5ViNU6q"
   },
   "outputs": [],
   "source": [
    "env.close()"
   ]
  }
 ],
 "metadata": {
  "accelerator": "GPU",
  "colab": {
   "authorship_tag": "ABX9TyMo5zpTaJXh4dPe+SP+N1dl",
   "gpuType": "T4",
   "provenance": []
  },
  "kernelspec": {
   "display_name": "conda_kernal",
   "language": "python",
   "name": "conda_kernal"
  },
  "language_info": {
   "codemirror_mode": {
    "name": "ipython",
    "version": 3
   },
   "file_extension": ".py",
   "mimetype": "text/x-python",
   "name": "python",
   "nbconvert_exporter": "python",
   "pygments_lexer": "ipython3",
   "version": "3.9.17"
  }
 },
 "nbformat": 4,
 "nbformat_minor": 4
}
