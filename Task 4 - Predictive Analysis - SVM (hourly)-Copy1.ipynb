{
 "cells": [
  {
   "cell_type": "markdown",
   "id": "400e8ed4",
   "metadata": {},
   "source": [
    "# Support Vector Machine - Hourly Taxi Demand Prediction\n",
    "\n",
    "<hr style=\"border: 1px solid #8888;\">"
   ]
  },
  {
   "cell_type": "code",
   "execution_count": 1,
   "id": "2ab5e5dd",
   "metadata": {},
   "outputs": [],
   "source": [
    "# import all necessary packages\n",
    "import pandas as pd\n",
    "import numpy as np\n",
    "import json\n",
    "import datetime\n",
    "import warnings\n",
    "from pandas.core.common import SettingWithCopyWarning\n",
    "\n",
    "#warnings.simplefilter(action=\"ignore\", category=SettingWithCopyWarning)\n",
    "#import seaborn as sns\n",
    "#import matplotlib as mlp\n",
    "import matplotlib.pyplot as plt\n",
    "#from datetime import datetime\n",
    "from sklearn.pipeline import Pipeline\n",
    "from sklearn.compose import ColumnTransformer\n",
    "from sklearn.preprocessing import OneHotEncoder, StandardScaler\n",
    "from sklearn.linear_model import LinearRegression\n",
    "from sklearn import metrics\n",
    "from sklearn.svm import SVR\n",
    "import math\n",
    "from sklearn import datasets\n",
    "from sklearn.metrics import mean_squared_error\n",
    "from scipy.stats import loguniform\n",
    " \n",
    "from sklearn.model_selection import train_test_split"
   ]
  },
  {
   "cell_type": "code",
   "execution_count": 82,
   "id": "69e6c3d2",
   "metadata": {
    "scrolled": false
   },
   "outputs": [],
   "source": [
    "# import datasets\n",
    "df_h_comar = pd.read_csv(\"data/datasets/df_h_comar.csv\")\n",
    "df_h_hexlow = pd.read_csv(\"data/datasets/df_h_hexlow.csv\")\n",
    "df_h_hexmed = pd.read_csv(\"data/datasets/df_h_hexmed.csv\")\n",
    "df_h_hexhig = pd.read_csv(\"data/datasets/df_h_hexhig.csv\")"
   ]
  },
  {
   "cell_type": "code",
   "execution_count": 84,
   "id": "7b2ec951",
   "metadata": {},
   "outputs": [],
   "source": [
    "df_h_comar.drop(columns = ['date_start'],inplace = True)\n",
    "df_h_hexlow.drop(columns = ['date_start'],inplace = True)\n",
    "df_h_hexmed.drop(columns = ['date_start'],inplace = True)\n",
    "df_h_hexhig.drop(columns = ['date_start'],inplace = True)"
   ]
  },
  {
   "cell_type": "code",
   "execution_count": 87,
   "id": "0cbcf835",
   "metadata": {},
   "outputs": [
    {
     "data": {
      "text/html": [
       "<div>\n",
       "<style scoped>\n",
       "    .dataframe tbody tr th:only-of-type {\n",
       "        vertical-align: middle;\n",
       "    }\n",
       "\n",
       "    .dataframe tbody tr th {\n",
       "        vertical-align: top;\n",
       "    }\n",
       "\n",
       "    .dataframe thead th {\n",
       "        text-align: right;\n",
       "    }\n",
       "</style>\n",
       "<table border=\"1\" class=\"dataframe\">\n",
       "  <thead>\n",
       "    <tr style=\"text-align: right;\">\n",
       "      <th></th>\n",
       "      <th>start_stamp</th>\n",
       "      <th>Pickup_Community_Area</th>\n",
       "      <th>numOfTaxis_area</th>\n",
       "      <th>start_time_hourly</th>\n",
       "      <th>dayOfWeek</th>\n",
       "      <th>isHoliday</th>\n",
       "      <th>isRushhour</th>\n",
       "      <th>start_time_day</th>\n",
       "      <th>start_time_week</th>\n",
       "      <th>start_time_month</th>\n",
       "      <th>pressure</th>\n",
       "      <th>humidity</th>\n",
       "      <th>wind_direction</th>\n",
       "      <th>wind_speed</th>\n",
       "      <th>description</th>\n",
       "      <th>season</th>\n",
       "      <th>temperature_celsius</th>\n",
       "    </tr>\n",
       "  </thead>\n",
       "  <tbody>\n",
       "    <tr>\n",
       "      <th>0</th>\n",
       "      <td>0</td>\n",
       "      <td>1.0</td>\n",
       "      <td>4</td>\n",
       "      <td>0</td>\n",
       "      <td>1</td>\n",
       "      <td>True</td>\n",
       "      <td>False</td>\n",
       "      <td>1</td>\n",
       "      <td>1</td>\n",
       "      <td>1</td>\n",
       "      <td>1024.0</td>\n",
       "      <td>64.0</td>\n",
       "      <td>200.0</td>\n",
       "      <td>4.0</td>\n",
       "      <td>overcast clouds</td>\n",
       "      <td>1</td>\n",
       "      <td>-0.19</td>\n",
       "    </tr>\n",
       "    <tr>\n",
       "      <th>1</th>\n",
       "      <td>0</td>\n",
       "      <td>2.0</td>\n",
       "      <td>1</td>\n",
       "      <td>0</td>\n",
       "      <td>1</td>\n",
       "      <td>True</td>\n",
       "      <td>False</td>\n",
       "      <td>1</td>\n",
       "      <td>1</td>\n",
       "      <td>1</td>\n",
       "      <td>1024.0</td>\n",
       "      <td>64.0</td>\n",
       "      <td>200.0</td>\n",
       "      <td>4.0</td>\n",
       "      <td>overcast clouds</td>\n",
       "      <td>1</td>\n",
       "      <td>-0.19</td>\n",
       "    </tr>\n",
       "    <tr>\n",
       "      <th>2</th>\n",
       "      <td>0</td>\n",
       "      <td>3.0</td>\n",
       "      <td>43</td>\n",
       "      <td>0</td>\n",
       "      <td>1</td>\n",
       "      <td>True</td>\n",
       "      <td>False</td>\n",
       "      <td>1</td>\n",
       "      <td>1</td>\n",
       "      <td>1</td>\n",
       "      <td>1024.0</td>\n",
       "      <td>64.0</td>\n",
       "      <td>200.0</td>\n",
       "      <td>4.0</td>\n",
       "      <td>overcast clouds</td>\n",
       "      <td>1</td>\n",
       "      <td>-0.19</td>\n",
       "    </tr>\n",
       "    <tr>\n",
       "      <th>3</th>\n",
       "      <td>0</td>\n",
       "      <td>4.0</td>\n",
       "      <td>13</td>\n",
       "      <td>0</td>\n",
       "      <td>1</td>\n",
       "      <td>True</td>\n",
       "      <td>False</td>\n",
       "      <td>1</td>\n",
       "      <td>1</td>\n",
       "      <td>1</td>\n",
       "      <td>1024.0</td>\n",
       "      <td>64.0</td>\n",
       "      <td>200.0</td>\n",
       "      <td>4.0</td>\n",
       "      <td>overcast clouds</td>\n",
       "      <td>1</td>\n",
       "      <td>-0.19</td>\n",
       "    </tr>\n",
       "    <tr>\n",
       "      <th>4</th>\n",
       "      <td>0</td>\n",
       "      <td>5.0</td>\n",
       "      <td>17</td>\n",
       "      <td>0</td>\n",
       "      <td>1</td>\n",
       "      <td>True</td>\n",
       "      <td>False</td>\n",
       "      <td>1</td>\n",
       "      <td>1</td>\n",
       "      <td>1</td>\n",
       "      <td>1024.0</td>\n",
       "      <td>64.0</td>\n",
       "      <td>200.0</td>\n",
       "      <td>4.0</td>\n",
       "      <td>overcast clouds</td>\n",
       "      <td>1</td>\n",
       "      <td>-0.19</td>\n",
       "    </tr>\n",
       "    <tr>\n",
       "      <th>...</th>\n",
       "      <td>...</td>\n",
       "      <td>...</td>\n",
       "      <td>...</td>\n",
       "      <td>...</td>\n",
       "      <td>...</td>\n",
       "      <td>...</td>\n",
       "      <td>...</td>\n",
       "      <td>...</td>\n",
       "      <td>...</td>\n",
       "      <td>...</td>\n",
       "      <td>...</td>\n",
       "      <td>...</td>\n",
       "      <td>...</td>\n",
       "      <td>...</td>\n",
       "      <td>...</td>\n",
       "      <td>...</td>\n",
       "      <td>...</td>\n",
       "    </tr>\n",
       "    <tr>\n",
       "      <th>227655</th>\n",
       "      <td>23</td>\n",
       "      <td>59.0</td>\n",
       "      <td>1</td>\n",
       "      <td>23</td>\n",
       "      <td>1</td>\n",
       "      <td>False</td>\n",
       "      <td>False</td>\n",
       "      <td>31</td>\n",
       "      <td>1</td>\n",
       "      <td>12</td>\n",
       "      <td>1023.0</td>\n",
       "      <td>89.0</td>\n",
       "      <td>217.0</td>\n",
       "      <td>1.0</td>\n",
       "      <td>mist</td>\n",
       "      <td>1</td>\n",
       "      <td>-11.00</td>\n",
       "    </tr>\n",
       "    <tr>\n",
       "      <th>227656</th>\n",
       "      <td>23</td>\n",
       "      <td>60.0</td>\n",
       "      <td>3</td>\n",
       "      <td>23</td>\n",
       "      <td>1</td>\n",
       "      <td>False</td>\n",
       "      <td>False</td>\n",
       "      <td>31</td>\n",
       "      <td>1</td>\n",
       "      <td>12</td>\n",
       "      <td>1023.0</td>\n",
       "      <td>89.0</td>\n",
       "      <td>217.0</td>\n",
       "      <td>1.0</td>\n",
       "      <td>mist</td>\n",
       "      <td>1</td>\n",
       "      <td>-11.00</td>\n",
       "    </tr>\n",
       "    <tr>\n",
       "      <th>227657</th>\n",
       "      <td>23</td>\n",
       "      <td>61.0</td>\n",
       "      <td>1</td>\n",
       "      <td>23</td>\n",
       "      <td>1</td>\n",
       "      <td>False</td>\n",
       "      <td>False</td>\n",
       "      <td>31</td>\n",
       "      <td>1</td>\n",
       "      <td>12</td>\n",
       "      <td>1023.0</td>\n",
       "      <td>89.0</td>\n",
       "      <td>217.0</td>\n",
       "      <td>1.0</td>\n",
       "      <td>mist</td>\n",
       "      <td>1</td>\n",
       "      <td>-11.00</td>\n",
       "    </tr>\n",
       "    <tr>\n",
       "      <th>227658</th>\n",
       "      <td>23</td>\n",
       "      <td>76.0</td>\n",
       "      <td>3</td>\n",
       "      <td>23</td>\n",
       "      <td>1</td>\n",
       "      <td>False</td>\n",
       "      <td>False</td>\n",
       "      <td>31</td>\n",
       "      <td>1</td>\n",
       "      <td>12</td>\n",
       "      <td>1023.0</td>\n",
       "      <td>89.0</td>\n",
       "      <td>217.0</td>\n",
       "      <td>1.0</td>\n",
       "      <td>mist</td>\n",
       "      <td>1</td>\n",
       "      <td>-11.00</td>\n",
       "    </tr>\n",
       "    <tr>\n",
       "      <th>227659</th>\n",
       "      <td>23</td>\n",
       "      <td>77.0</td>\n",
       "      <td>45</td>\n",
       "      <td>23</td>\n",
       "      <td>1</td>\n",
       "      <td>False</td>\n",
       "      <td>False</td>\n",
       "      <td>31</td>\n",
       "      <td>1</td>\n",
       "      <td>12</td>\n",
       "      <td>1023.0</td>\n",
       "      <td>89.0</td>\n",
       "      <td>217.0</td>\n",
       "      <td>1.0</td>\n",
       "      <td>mist</td>\n",
       "      <td>1</td>\n",
       "      <td>-11.00</td>\n",
       "    </tr>\n",
       "  </tbody>\n",
       "</table>\n",
       "<p>227660 rows × 17 columns</p>\n",
       "</div>"
      ],
      "text/plain": [
       "        start_stamp  Pickup_Community_Area  numOfTaxis_area  \\\n",
       "0                 0                    1.0                4   \n",
       "1                 0                    2.0                1   \n",
       "2                 0                    3.0               43   \n",
       "3                 0                    4.0               13   \n",
       "4                 0                    5.0               17   \n",
       "...             ...                    ...              ...   \n",
       "227655           23                   59.0                1   \n",
       "227656           23                   60.0                3   \n",
       "227657           23                   61.0                1   \n",
       "227658           23                   76.0                3   \n",
       "227659           23                   77.0               45   \n",
       "\n",
       "        start_time_hourly  dayOfWeek  isHoliday  isRushhour  start_time_day  \\\n",
       "0                       0          1       True       False               1   \n",
       "1                       0          1       True       False               1   \n",
       "2                       0          1       True       False               1   \n",
       "3                       0          1       True       False               1   \n",
       "4                       0          1       True       False               1   \n",
       "...                   ...        ...        ...         ...             ...   \n",
       "227655                 23          1      False       False              31   \n",
       "227656                 23          1      False       False              31   \n",
       "227657                 23          1      False       False              31   \n",
       "227658                 23          1      False       False              31   \n",
       "227659                 23          1      False       False              31   \n",
       "\n",
       "        start_time_week  start_time_month  pressure  humidity  wind_direction  \\\n",
       "0                     1                 1    1024.0      64.0           200.0   \n",
       "1                     1                 1    1024.0      64.0           200.0   \n",
       "2                     1                 1    1024.0      64.0           200.0   \n",
       "3                     1                 1    1024.0      64.0           200.0   \n",
       "4                     1                 1    1024.0      64.0           200.0   \n",
       "...                 ...               ...       ...       ...             ...   \n",
       "227655                1                12    1023.0      89.0           217.0   \n",
       "227656                1                12    1023.0      89.0           217.0   \n",
       "227657                1                12    1023.0      89.0           217.0   \n",
       "227658                1                12    1023.0      89.0           217.0   \n",
       "227659                1                12    1023.0      89.0           217.0   \n",
       "\n",
       "        wind_speed      description  season  temperature_celsius  \n",
       "0              4.0  overcast clouds       1                -0.19  \n",
       "1              4.0  overcast clouds       1                -0.19  \n",
       "2              4.0  overcast clouds       1                -0.19  \n",
       "3              4.0  overcast clouds       1                -0.19  \n",
       "4              4.0  overcast clouds       1                -0.19  \n",
       "...            ...              ...     ...                  ...  \n",
       "227655         1.0             mist       1               -11.00  \n",
       "227656         1.0             mist       1               -11.00  \n",
       "227657         1.0             mist       1               -11.00  \n",
       "227658         1.0             mist       1               -11.00  \n",
       "227659         1.0             mist       1               -11.00  \n",
       "\n",
       "[227660 rows x 17 columns]"
      ]
     },
     "execution_count": 87,
     "metadata": {},
     "output_type": "execute_result"
    }
   ],
   "source": [
    "df_h_comar['dayOfWeek'] = df_h_comar['dayOfWeek'].replace(['Monday', 'Tuesday','Wednesday','Thursday',\n",
    "                                                                  'Friday','Saturday','Sunday'],[0,1,2,3,4,5,6])\n",
    "df_h_comar['season'] = df_h_comar['season'].replace(['summer', 'winter','spring','autumn'],[0,1,2,3])\n",
    "\n",
    "\n",
    "df_h_comar"
   ]
  },
  {
   "cell_type": "code",
   "execution_count": 88,
   "id": "716c3424",
   "metadata": {},
   "outputs": [
    {
     "data": {
      "image/png": "[encoded data removed]",
      "text/plain": [
       "<Figure size 1152x648 with 2 Axes>"
      ]
     },
     "metadata": {
      "needs_background": "light"
     },
     "output_type": "display_data"
    }
   ],
   "source": [
    "######## make named features like season to 0/1/2/3 so they show up here, before we make them a dummy variable like hours\n",
    "import seaborn as sns\n",
    "corr = df_h_comar.corr()\n",
    "plt.figure(figsize = (16,9))\n",
    "ax = sns.heatmap(corr, vmin = -1, vmax= 1, center = 0, annot=True)\n",
    "\n",
    "ax.set_xticklabels(ax.get_xticklabels(),\n",
    "                  rotation = 45,\n",
    "                  horizontalalignment = 'right')\n",
    "\n",
    "ax.set_yticklabels(ax.get_yticklabels(),\n",
    "                   rotation =0,\n",
    "                   horizontalalignment = 'right')\n",
    "\n",
    "plt.show()\n",
    "\n",
    "#### ISSUMMER ETC ADDEN, user_type, (start_month)"
   ]
  },
  {
   "cell_type": "code",
   "execution_count": null,
   "id": "71c09061",
   "metadata": {},
   "outputs": [],
   "source": [
    "df_h_hexlow.drop(columns = ['start_time_hourly'],inplace = True)"
   ]
  },
  {
   "cell_type": "code",
   "execution_count": null,
   "id": "a914605e",
   "metadata": {},
   "outputs": [],
   "source": []
  },
  {
   "cell_type": "code",
   "execution_count": null,
   "id": "f0c8b883",
   "metadata": {},
   "outputs": [],
   "source": []
  },
  {
   "cell_type": "code",
   "execution_count": 34,
   "id": "02f8c5fa",
   "metadata": {},
   "outputs": [],
   "source": [
    "# defining categorical and numeric features of dfPhiladelphia\n",
    "\n",
    "\n",
    "categoric = ['start_stamp', 'Pickup_Community_Area','dayOfWeek','start_time_month','start_time_day','start_time_week',\n",
    "             'isHoliday','description','isRushhour', 'season']\n",
    "numeric = ['temperature_celsius','wind_speed','wind_direction','humidity','pressure']"
   ]
  },
  {
   "cell_type": "code",
   "execution_count": 35,
   "id": "50e5d8a0",
   "metadata": {},
   "outputs": [],
   "source": [
    "# function for normalize numeric and encode categorical features and for create pipeline\n",
    "\n",
    "def pipeline_for_prediction(categoric, numeric, model):\n",
    "    \n",
    "    numeric_transformer = Pipeline(steps=[(\"standard_scaler\", StandardScaler())])\n",
    "    categorical_transformer = Pipeline(\n",
    "        steps=[(\"one_hot_encoder\", OneHotEncoder(handle_unknown=\"ignore\"))]\n",
    "    )\n",
    "    preprocessor = ColumnTransformer(\n",
    "        transformers=[\n",
    "            (\"numerical scaler\", numeric_transformer, numeric),\n",
    "            (\"one hot encoder\", categorical_transformer, categoric),\n",
    "        ]\n",
    "    )\n",
    "    pipeline = Pipeline(\n",
    "        steps=[(\"preprocessor\", preprocessor), (\"model\", model)]\n",
    "    )\n",
    "    return pipeline"
   ]
  },
  {
   "cell_type": "code",
   "execution_count": 36,
   "id": "96acf6c5",
   "metadata": {},
   "outputs": [],
   "source": [
    "# function for getting different scores for a model\n",
    "\n",
    "def get_prediction_scores(y_true, y_predicted):\n",
    "    print(\"MODEL SCORES:\")\n",
    "    print(f\"MAE: {metrics.mean_absolute_error(y_true, y_predicted): .3f}\")\n",
    "    print(f\"MSE: {metrics.mean_squared_error(y_true, y_predicted): .3f}\")\n",
    "    print(f\"RMSE: {math.sqrt(metrics.mean_squared_error(y_true, y_predicted)): .3f}\")\n",
    "    print(f\"Accuracy:\", round((1-(metrics.mean_absolute_error(y_true, y_predicted)/df_h_comar[\"numOfTaxis_area\"].mean()))*100,2), \"%\")\n",
    "    print(f\"R2: {100 * metrics.r2_score(y_true, y_predicted): .3f} %\")\n",
    "    print(f\"Max Residual Error: {metrics.max_error(y_true, y_predicted): .3f}\")"
   ]
  },
  {
   "cell_type": "code",
   "execution_count": 37,
   "id": "59566075",
   "metadata": {},
   "outputs": [],
   "source": [
    "# function for creating pipeline and fitting model (created by the pipeline), predict and printing scores\n",
    "\n",
    "def pipeline_fit_predict(reg, categoric, numeric, x_train, y_train, x_val, y_val):\n",
    "    pipeline = pipeline_for_prediction(categoric, numeric, reg)\n",
    "    pipeline.fit(x_train, y_train)\n",
    "    y_predict = pipeline.predict(x_val)\n",
    "    get_prediction_scores(y_val, y_predict)"
   ]
  },
  {
   "cell_type": "code",
   "execution_count": 38,
   "id": "9a77c668",
   "metadata": {},
   "outputs": [],
   "source": [
    "# function for finding the best hyperparameter by using RandomizedSearchCV and RepeatedStratifiedKFold\n",
    "\"\"\"parameter:\n",
    "   - pipeline: used pipeline for grid search (the pipeline contains the model)\n",
    "   - x_val: data set (features) used for grid search\n",
    "   - y_val: data set (target value) used for grid search\n",
    "   - model_par: parameters for which the grid search is done\n",
    "   - score: used score measure \n",
    "   - n_iter: how often grid search will be done\n",
    "   - n_repeats: how often the data set is randomly splitted (by using the same random hyperparameter) in n_splits\n",
    "   - n_splits: number of splits in RepeatedStratifiedKFold\n",
    "   - verbose: getting information during the grid search\n",
    "\"\"\"\n",
    "\n",
    "\n",
    "from sklearn.model_selection import RandomizedSearchCV, RepeatedStratifiedKFold\n",
    "\n",
    "def find_best_hyperparameters(pipeline, x_val, y_val, model_par, score, n_iter = 50,  \n",
    "                                   n_repeats=3, n_splits=5, n_jobs=1, verbose=True): #  n_repeats=3\n",
    "    \n",
    "    print(f\"Running grid search for the model based on {score}\")\n",
    "    grid_pipeline = RandomizedSearchCV(\n",
    "        estimator=pipeline,\n",
    "        param_distributions=model_par,\n",
    "        n_jobs=n_jobs,\n",
    "        n_iter=n_iter,\n",
    "        cv=RepeatedStratifiedKFold(n_splits=n_splits, n_repeats=n_repeats, random_state=42),\n",
    "        scoring=score,\n",
    "        random_state=42,\n",
    "        verbose=verbose,\n",
    "    )\n",
    "    grid_pipeline.fit(x_val, y_val)\n",
    "    print(f\"Best {score} Score was: {grid_pipeline.best_score_}\")\n",
    "    print(\"The best hyper parameters for the model are:\")\n",
    "    print(grid_pipeline.best_params_)"
   ]
  },
  {
   "cell_type": "code",
   "execution_count": 39,
   "id": "8b11263c",
   "metadata": {},
   "outputs": [],
   "source": [
    "from sklearn.model_selection import train_test_split\n",
    "\n",
    "def train_val_test(df,testsize=0.3,valsize=0.2):\n",
    "    \n",
    "    #split the data set in (1-testsize)% training set and testsize% testing set\n",
    "    x_train, x_test, y_train, y_test = train_test_split(df.drop('numOfTaxis_area', axis=1)\n",
    "                                                    , df['numOfTaxis_area'], \n",
    "                                                    test_size=testsize,random_state=42)\n",
    "\n",
    "    # save the combination of training and validation set in extra variables\n",
    "    x_train_val = x_train\n",
    "    y_train_val = y_train\n",
    "\n",
    "    #split the training data set in 70% training set and 20% validation set to achieve a 50-20-30 split\n",
    "    x_train, x_val, y_train, y_val = train_test_split(x_train, y_train, test_size=(valsize/(1-testsize)), \n",
    "                                                      random_state = 42)\n",
    "    \n",
    "    return x_train_val, y_train_val, x_train, y_train, x_val, y_val, x_test, y_test "
   ]
  },
  {
   "cell_type": "code",
   "execution_count": 40,
   "id": "2e9f5ea9",
   "metadata": {},
   "outputs": [],
   "source": [
    "def sampling_already_splitted(x_set, y_set, dependend, num_samples):\n",
    "    \n",
    "    y_val_df = y_set.to_frame()\n",
    "    df = pd.concat([x_set, y_val_df], axis=1)\n",
    "    df_sample = df.sample(num_samples)\n",
    "    y_val = df_sample[dependend]\n",
    "    x_val = df_sample.drop(columns = dependend)\n",
    "    \n",
    "    return x_val, y_val"
   ]
  },
  {
   "cell_type": "code",
   "execution_count": 41,
   "id": "334b4fc3",
   "metadata": {},
   "outputs": [],
   "source": [
    " #split the data set in 70% training set and 30% testing set\n",
    "    #x_train, x_test, y_train, y_test = train_test_split(x_norm, y, test_size=0.3,random_state=42)\n",
    "  #  x_train, x_test, y_train, y_test = train_test_split(df_h_comar.drop('numOfTaxis_area', axis=1)\n",
    "                                  #                  , df_h_comar['numOfTaxis_area'], \n",
    "                                   #                 test_size=0.3,random_state=42)\n",
    "\n",
    "    # save the combination of training and validation set in extra variables\n",
    "   # x_train_val = x_train\n",
    "    #y_train_val = y_train\n",
    "\n",
    "    #split the training data set in 70% training set and 20% validation set to achieve a 50-20-30 split\n",
    "    #x_train, x_val, y_train, y_val = train_test_split(x_train, y_train, test_size=(0.2/0.7), random_state = 42)"
   ]
  },
  {
   "cell_type": "markdown",
   "id": "e6feb4b0",
   "metadata": {},
   "source": [
    "<hr style=\"border: 1px solid #8888;\">\n",
    "\n",
    "## Hourly Demand - Community Area"
   ]
  },
  {
   "cell_type": "code",
   "execution_count": 42,
   "id": "b17870e5",
   "metadata": {},
   "outputs": [],
   "source": [
    "x_train_val, y_train_val, x_train, y_train, x_val, y_val, x_test, y_test = train_val_test(df_h_comar,\n",
    "                                                                                          testsize=0.3,valsize=0.2)"
   ]
  },
  {
   "cell_type": "markdown",
   "id": "f021d5f4",
   "metadata": {},
   "source": [
    "### Building the model: Checking for the best kernel"
   ]
  },
  {
   "cell_type": "markdown",
   "id": "ba51e804",
   "metadata": {},
   "source": [
    "#### SVR KERNEL: LINEAR"
   ]
  },
  {
   "cell_type": "code",
   "execution_count": 17,
   "id": "ec807ac1",
   "metadata": {},
   "outputs": [],
   "source": [
    "svr_lin = SVR(kernel = 'linear',verbose = 10,cache_size=15000, max_iter=50000)"
   ]
  },
  {
   "cell_type": "code",
   "execution_count": 18,
   "id": "4938d726",
   "metadata": {},
   "outputs": [
    {
     "name": "stdout",
     "output_type": "stream",
     "text": [
      "[LibSVM].................................................WARN: libsvm Solver reached max_iter\n",
      "optimization finished, #iter = 50000\n",
      "obj = -3363473.268517, rho = -11.201561\n",
      "nSV = 95981, nBSV = 95028\n"
     ]
    },
    {
     "name": "stderr",
     "output_type": "stream",
     "text": [
      "/opt/anaconda3/lib/python3.9/site-packages/sklearn/svm/_base.py:299: ConvergenceWarning: Solver terminated early (max_iter=50000).  Consider pre-processing your data with StandardScaler or MinMaxScaler.\n",
      "  warnings.warn(\n"
     ]
    },
    {
     "name": "stdout",
     "output_type": "stream",
     "text": [
      "MODEL SCORES:\n",
      "MAE:  23.337\n",
      "MSE:  4498.339\n",
      "RMSE:  67.070\n",
      "Accuracy: 40.8 %\n",
      "R2:  56.381 %\n",
      "Max Residual Error:  1446.159\n"
     ]
    }
   ],
   "source": [
    "pipeline = pipeline_fit_predict(svr_lin, categoric, numeric, x_train_val, y_train_val, x_test, y_test)"
   ]
  },
  {
   "cell_type": "markdown",
   "id": "41f345e3",
   "metadata": {},
   "source": [
    "#### SVR KERNEL: POLYNOMIAL WITH DEGREE 2"
   ]
  },
  {
   "cell_type": "code",
   "execution_count": 18,
   "id": "4c2ff44d",
   "metadata": {},
   "outputs": [],
   "source": [
    "svr_poly2 = SVR(kernel = 'poly',degree = 2, verbose = 10,cache_size=15000, max_iter=50000)"
   ]
  },
  {
   "cell_type": "code",
   "execution_count": 19,
   "id": "8de7437a",
   "metadata": {},
   "outputs": [
    {
     "name": "stdout",
     "output_type": "stream",
     "text": [
      "[LibSVM].................................................WARN: libsvm Solver reached max_iter\n",
      "optimization finished, #iter = 50000\n",
      "obj = -4735355.356241, rho = -6.414818\n",
      "nSV = 99966, nBSV = 99966\n"
     ]
    },
    {
     "name": "stderr",
     "output_type": "stream",
     "text": [
      "/opt/anaconda3/lib/python3.9/site-packages/sklearn/svm/_base.py:299: ConvergenceWarning: Solver terminated early (max_iter=50000).  Consider pre-processing your data with StandardScaler or MinMaxScaler.\n",
      "  warnings.warn(\n"
     ]
    },
    {
     "name": "stdout",
     "output_type": "stream",
     "text": [
      "MODEL SCORES:\n",
      "MAE:  26.649\n",
      "MSE:  7286.713\n",
      "RMSE:  85.362\n",
      "Accuracy: 32.39 %\n",
      "R2:  29.343 %\n",
      "Max Residual Error:  1635.635\n"
     ]
    }
   ],
   "source": [
    "pipeline = pipeline_fit_predict(svr_poly, categoric, numeric, x_train_val, y_train_val, x_test, y_test)"
   ]
  },
  {
   "cell_type": "markdown",
   "id": "daba3fe2",
   "metadata": {},
   "source": [
    "#### SVR KERNEL: POLYNOMIAL WITH DEGREE 3"
   ]
  },
  {
   "cell_type": "code",
   "execution_count": 13,
   "id": "cc73e48f",
   "metadata": {},
   "outputs": [],
   "source": [
    "svr_poly3 = SVR(kernel = 'poly',verbose = 10,cache_size=15000, max_iter=50000)"
   ]
  },
  {
   "cell_type": "code",
   "execution_count": 14,
   "id": "18bb26dc",
   "metadata": {},
   "outputs": [
    {
     "name": "stdout",
     "output_type": "stream",
     "text": [
      "[LibSVM].................................................WARN: libsvm Solver reached max_iter\n",
      "optimization finished, #iter = 50000\n",
      "obj = -5031586.430808, rho = 4.514757\n",
      "nSV = 99968, nBSV = 99968\n"
     ]
    },
    {
     "name": "stderr",
     "output_type": "stream",
     "text": [
      "/opt/anaconda3/lib/python3.9/site-packages/sklearn/svm/_base.py:299: ConvergenceWarning: Solver terminated early (max_iter=50000).  Consider pre-processing your data with StandardScaler or MinMaxScaler.\n",
      "  warnings.warn(\n"
     ]
    },
    {
     "name": "stdout",
     "output_type": "stream",
     "text": [
      "MODEL SCORES:\n",
      "MAE:  35.897\n",
      "MSE:  8870.264\n",
      "RMSE:  94.182\n",
      "Accuracy: 8.93 %\n",
      "R2:  13.987 %\n",
      "Max Residual Error:  1689.392\n"
     ]
    }
   ],
   "source": [
    "pipeline = pipeline_fit_predict(svr_poly3, categoric, numeric, x_train_val, y_train_val, x_test, y_test)"
   ]
  },
  {
   "cell_type": "markdown",
   "id": "46c78898",
   "metadata": {},
   "source": [
    "#### SVR KERNEL: RBF"
   ]
  },
  {
   "cell_type": "code",
   "execution_count": 16,
   "id": "9e3432ea",
   "metadata": {},
   "outputs": [],
   "source": [
    "svr_rbf = SVR(kernel = 'rbf',verbose = 10,cache_size=15000, max_iter=50000)"
   ]
  },
  {
   "cell_type": "code",
   "execution_count": 17,
   "id": "fee9dc37",
   "metadata": {
    "scrolled": true
   },
   "outputs": [
    {
     "name": "stdout",
     "output_type": "stream",
     "text": [
      "[LibSVM].................................................WARN: libsvm Solver reached max_iter\n",
      "optimization finished, #iter = 50000\n",
      "obj = -4792854.643942, rho = -6.669636\n",
      "nSV = 99984, nBSV = 99984\n"
     ]
    },
    {
     "name": "stderr",
     "output_type": "stream",
     "text": [
      "/opt/anaconda3/lib/python3.9/site-packages/sklearn/svm/_base.py:299: ConvergenceWarning: Solver terminated early (max_iter=50000).  Consider pre-processing your data with StandardScaler or MinMaxScaler.\n",
      "  warnings.warn(\n"
     ]
    },
    {
     "name": "stdout",
     "output_type": "stream",
     "text": [
      "MODEL SCORES:\n",
      "MAE:  26.690\n",
      "MSE:  7261.736\n",
      "RMSE:  85.216\n",
      "Accuracy: 32.29 %\n",
      "R2:  29.585 %\n",
      "Max Residual Error:  1634.289\n"
     ]
    }
   ],
   "source": [
    "pipeline = pipeline_fit_predict(svr_rbf, categoric, numeric, x_train_val, y_train_val, x_test, y_test)"
   ]
  },
  {
   "cell_type": "markdown",
   "id": "c2dd0bcb",
   "metadata": {},
   "source": [
    "<hr style=\"border: 0.5px solid #8888;\">\n",
    "\n",
    "### Hyperparameter Tuning for the best model"
   ]
  },
  {
   "cell_type": "markdown",
   "id": "01860d8d",
   "metadata": {},
   "source": [
    "#### Sampling data for tuning:"
   ]
  },
  {
   "cell_type": "code",
   "execution_count": 43,
   "id": "452b01eb",
   "metadata": {},
   "outputs": [],
   "source": [
    "x_val, y_val = sampling_already_splitted(x_val, y_val, 'numOfTaxis_area', 5000)"
   ]
  },
  {
   "cell_type": "code",
   "execution_count": 44,
   "id": "fb4bcae6",
   "metadata": {},
   "outputs": [],
   "source": [
    "# creating the ranges for model parameter to use in find_best_hyperparameters\n",
    "\n",
    "model_para = {'model__C':loguniform(1e-1, 1e2),        \n",
    "                'model__epsilon':loguniform(1e-1, 1e2)}               "
   ]
  },
  {
   "cell_type": "code",
   "execution_count": 45,
   "id": "37f3abd8",
   "metadata": {},
   "outputs": [],
   "source": [
    "svr_lin = SVR(kernel = 'linear',cache_size=15000, max_iter=50000)"
   ]
  },
  {
   "cell_type": "code",
   "execution_count": 46,
   "id": "8c370ac4",
   "metadata": {},
   "outputs": [],
   "source": [
    "pipeline = pipeline_for_prediction(categoric, numeric, svr_lin)"
   ]
  },
  {
   "cell_type": "code",
   "execution_count": 47,
   "id": "c9d802c2",
   "metadata": {
    "scrolled": true
   },
   "outputs": [
    {
     "name": "stdout",
     "output_type": "stream",
     "text": [
      "Running grid search for the model based on neg_mean_absolute_error\n",
      "Fitting 15 folds for each of 50 candidates, totalling 750 fits\n",
      "[CV 1/15; 1/50] START model__C=1.3292918943162166, model__epsilon=71.14476009343416\n"
     ]
    },
    {
     "name": "stderr",
     "output_type": "stream",
     "text": [
      "/opt/anaconda3/lib/python3.9/site-packages/sklearn/model_selection/_split.py:700: UserWarning: The least populated class in y has only 1 members, which is less than n_splits=5.\n",
      "  warnings.warn(\n",
      "/opt/anaconda3/lib/python3.9/site-packages/sklearn/model_selection/_split.py:700: UserWarning: The least populated class in y has only 1 members, which is less than n_splits=5.\n",
      "  warnings.warn(\n",
      "/opt/anaconda3/lib/python3.9/site-packages/sklearn/model_selection/_split.py:700: UserWarning: The least populated class in y has only 1 members, which is less than n_splits=5.\n",
      "  warnings.warn(\n"
     ]
    },
    {
     "name": "stdout",
     "output_type": "stream",
     "text": [
      "[CV 1/15; 1/50] END model__C=1.3292918943162166, model__epsilon=71.14476009343416;, score=-69.461 total time=   0.3s\n",
      "[CV 2/15; 1/50] START model__C=1.3292918943162166, model__epsilon=71.14476009343416\n",
      "[CV 2/15; 1/50] END model__C=1.3292918943162166, model__epsilon=71.14476009343416;, score=-70.931 total time=   0.3s\n",
      "[CV 3/15; 1/50] START model__C=1.3292918943162166, model__epsilon=71.14476009343416\n",
      "[CV 3/15; 1/50] END model__C=1.3292918943162166, model__epsilon=71.14476009343416;, score=-71.655 total time=   0.3s\n",
      "[CV 4/15; 1/50] START model__C=1.3292918943162166, model__epsilon=71.14476009343416\n",
      "[CV 4/15; 1/50] END model__C=1.3292918943162166, model__epsilon=71.14476009343416;, score=-69.763 total time=   0.3s\n",
      "[CV 5/15; 1/50] START model__C=1.3292918943162166, model__epsilon=71.14476009343416\n",
      "[CV 5/15; 1/50] END model__C=1.3292918943162166, model__epsilon=71.14476009343416;, score=-74.893 total time=   0.3s\n",
      "[CV 6/15; 1/50] START model__C=1.3292918943162166, model__epsilon=71.14476009343416\n",
      "[CV 6/15; 1/50] END model__C=1.3292918943162166, model__epsilon=71.14476009343416;, score=-69.776 total time=   0.3s\n",
      "[CV 7/15; 1/50] START model__C=1.3292918943162166, model__epsilon=71.14476009343416\n",
      "[CV 7/15; 1/50] END model__C=1.3292918943162166, model__epsilon=71.14476009343416;, score=-70.376 total time=   0.3s\n",
      "[CV 8/15; 1/50] START model__C=1.3292918943162166, model__epsilon=71.14476009343416\n",
      "[CV 8/15; 1/50] END model__C=1.3292918943162166, model__epsilon=71.14476009343416;, score=-72.565 total time=   0.3s\n",
      "[CV 9/15; 1/50] START model__C=1.3292918943162166, model__epsilon=71.14476009343416\n",
      "[CV 9/15; 1/50] END model__C=1.3292918943162166, model__epsilon=71.14476009343416;, score=-70.529 total time=   0.3s\n",
      "[CV 10/15; 1/50] START model__C=1.3292918943162166, model__epsilon=71.14476009343416\n",
      "[CV 10/15; 1/50] END model__C=1.3292918943162166, model__epsilon=71.14476009343416;, score=-73.568 total time=   0.3s\n",
      "[CV 11/15; 1/50] START model__C=1.3292918943162166, model__epsilon=71.14476009343416\n",
      "[CV 11/15; 1/50] END model__C=1.3292918943162166, model__epsilon=71.14476009343416;, score=-70.448 total time=   0.3s\n",
      "[CV 12/15; 1/50] START model__C=1.3292918943162166, model__epsilon=71.14476009343416\n",
      "[CV 12/15; 1/50] END model__C=1.3292918943162166, model__epsilon=71.14476009343416;, score=-69.895 total time=   0.3s\n",
      "[CV 13/15; 1/50] START model__C=1.3292918943162166, model__epsilon=71.14476009343416\n",
      "[CV 13/15; 1/50] END model__C=1.3292918943162166, model__epsilon=71.14476009343416;, score=-71.650 total time=   0.3s\n",
      "[CV 14/15; 1/50] START model__C=1.3292918943162166, model__epsilon=71.14476009343416\n",
      "[CV 14/15; 1/50] END model__C=1.3292918943162166, model__epsilon=71.14476009343416;, score=-70.201 total time=   0.3s\n",
      "[CV 15/15; 1/50] START model__C=1.3292918943162166, model__epsilon=71.14476009343416\n",
      "[CV 15/15; 1/50] END model__C=1.3292918943162166, model__epsilon=71.14476009343416;, score=-74.681 total time=   0.3s\n",
      "[CV 1/15; 2/50] START model__C=15.702970884055382, model__epsilon=6.2513735745217485\n"
     ]
    },
    {
     "name": "stderr",
     "output_type": "stream",
     "text": [
      "/opt/anaconda3/lib/python3.9/site-packages/sklearn/svm/_base.py:299: ConvergenceWarning: Solver terminated early (max_iter=50000).  Consider pre-processing your data with StandardScaler or MinMaxScaler.\n",
      "  warnings.warn(\n"
     ]
    },
    {
     "name": "stdout",
     "output_type": "stream",
     "text": [
      "[CV 1/15; 2/50] END model__C=15.702970884055382, model__epsilon=6.2513735745217485;, score=-24.698 total time=   1.1s\n",
      "[CV 2/15; 2/50] START model__C=15.702970884055382, model__epsilon=6.2513735745217485\n"
     ]
    },
    {
     "name": "stderr",
     "output_type": "stream",
     "text": [
      "/opt/anaconda3/lib/python3.9/site-packages/sklearn/svm/_base.py:299: ConvergenceWarning: Solver terminated early (max_iter=50000).  Consider pre-processing your data with StandardScaler or MinMaxScaler.\n",
      "  warnings.warn(\n"
     ]
    },
    {
     "name": "stdout",
     "output_type": "stream",
     "text": [
      "[CV 2/15; 2/50] END model__C=15.702970884055382, model__epsilon=6.2513735745217485;, score=-26.338 total time=   1.1s\n",
      "[CV 3/15; 2/50] START model__C=15.702970884055382, model__epsilon=6.2513735745217485\n"
     ]
    },
    {
     "name": "stderr",
     "output_type": "stream",
     "text": [
      "/opt/anaconda3/lib/python3.9/site-packages/sklearn/svm/_base.py:299: ConvergenceWarning: Solver terminated early (max_iter=50000).  Consider pre-processing your data with StandardScaler or MinMaxScaler.\n",
      "  warnings.warn(\n"
     ]
    },
    {
     "name": "stdout",
     "output_type": "stream",
     "text": [
      "[CV 3/15; 2/50] END model__C=15.702970884055382, model__epsilon=6.2513735745217485;, score=-26.464 total time=   1.1s\n",
      "[CV 4/15; 2/50] START model__C=15.702970884055382, model__epsilon=6.2513735745217485\n"
     ]
    },
    {
     "name": "stderr",
     "output_type": "stream",
     "text": [
      "/opt/anaconda3/lib/python3.9/site-packages/sklearn/svm/_base.py:299: ConvergenceWarning: Solver terminated early (max_iter=50000).  Consider pre-processing your data with StandardScaler or MinMaxScaler.\n",
      "  warnings.warn(\n"
     ]
    },
    {
     "name": "stdout",
     "output_type": "stream",
     "text": [
      "[CV 4/15; 2/50] END model__C=15.702970884055382, model__epsilon=6.2513735745217485;, score=-25.910 total time=   1.1s\n",
      "[CV 5/15; 2/50] START model__C=15.702970884055382, model__epsilon=6.2513735745217485\n"
     ]
    },
    {
     "name": "stderr",
     "output_type": "stream",
     "text": [
      "/opt/anaconda3/lib/python3.9/site-packages/sklearn/svm/_base.py:299: ConvergenceWarning: Solver terminated early (max_iter=50000).  Consider pre-processing your data with StandardScaler or MinMaxScaler.\n",
      "  warnings.warn(\n"
     ]
    },
    {
     "name": "stdout",
     "output_type": "stream",
     "text": [
      "[CV 5/15; 2/50] END model__C=15.702970884055382, model__epsilon=6.2513735745217485;, score=-29.343 total time=   1.1s\n",
      "[CV 6/15; 2/50] START model__C=15.702970884055382, model__epsilon=6.2513735745217485\n"
     ]
    },
    {
     "name": "stderr",
     "output_type": "stream",
     "text": [
      "/opt/anaconda3/lib/python3.9/site-packages/sklearn/svm/_base.py:299: ConvergenceWarning: Solver terminated early (max_iter=50000).  Consider pre-processing your data with StandardScaler or MinMaxScaler.\n",
      "  warnings.warn(\n"
     ]
    },
    {
     "name": "stdout",
     "output_type": "stream",
     "text": [
      "[CV 6/15; 2/50] END model__C=15.702970884055382, model__epsilon=6.2513735745217485;, score=-24.448 total time=   1.1s\n",
      "[CV 7/15; 2/50] START model__C=15.702970884055382, model__epsilon=6.2513735745217485\n"
     ]
    },
    {
     "name": "stderr",
     "output_type": "stream",
     "text": [
      "/opt/anaconda3/lib/python3.9/site-packages/sklearn/svm/_base.py:299: ConvergenceWarning: Solver terminated early (max_iter=50000).  Consider pre-processing your data with StandardScaler or MinMaxScaler.\n",
      "  warnings.warn(\n"
     ]
    },
    {
     "name": "stdout",
     "output_type": "stream",
     "text": [
      "[CV 7/15; 2/50] END model__C=15.702970884055382, model__epsilon=6.2513735745217485;, score=-25.755 total time=   1.1s\n",
      "[CV 8/15; 2/50] START model__C=15.702970884055382, model__epsilon=6.2513735745217485\n"
     ]
    },
    {
     "name": "stderr",
     "output_type": "stream",
     "text": [
      "/opt/anaconda3/lib/python3.9/site-packages/sklearn/svm/_base.py:299: ConvergenceWarning: Solver terminated early (max_iter=50000).  Consider pre-processing your data with StandardScaler or MinMaxScaler.\n",
      "  warnings.warn(\n"
     ]
    },
    {
     "name": "stdout",
     "output_type": "stream",
     "text": [
      "[CV 8/15; 2/50] END model__C=15.702970884055382, model__epsilon=6.2513735745217485;, score=-28.595 total time=   1.1s\n",
      "[CV 9/15; 2/50] START model__C=15.702970884055382, model__epsilon=6.2513735745217485\n"
     ]
    },
    {
     "name": "stderr",
     "output_type": "stream",
     "text": [
      "/opt/anaconda3/lib/python3.9/site-packages/sklearn/svm/_base.py:299: ConvergenceWarning: Solver terminated early (max_iter=50000).  Consider pre-processing your data with StandardScaler or MinMaxScaler.\n",
      "  warnings.warn(\n"
     ]
    },
    {
     "name": "stdout",
     "output_type": "stream",
     "text": [
      "[CV 9/15; 2/50] END model__C=15.702970884055382, model__epsilon=6.2513735745217485;, score=-25.958 total time=   1.1s\n",
      "[CV 10/15; 2/50] START model__C=15.702970884055382, model__epsilon=6.2513735745217485\n"
     ]
    },
    {
     "name": "stderr",
     "output_type": "stream",
     "text": [
      "/opt/anaconda3/lib/python3.9/site-packages/sklearn/svm/_base.py:299: ConvergenceWarning: Solver terminated early (max_iter=50000).  Consider pre-processing your data with StandardScaler or MinMaxScaler.\n",
      "  warnings.warn(\n"
     ]
    },
    {
     "name": "stdout",
     "output_type": "stream",
     "text": [
      "[CV 10/15; 2/50] END model__C=15.702970884055382, model__epsilon=6.2513735745217485;, score=-27.800 total time=   1.1s\n",
      "[CV 11/15; 2/50] START model__C=15.702970884055382, model__epsilon=6.2513735745217485\n"
     ]
    },
    {
     "name": "stderr",
     "output_type": "stream",
     "text": [
      "/opt/anaconda3/lib/python3.9/site-packages/sklearn/svm/_base.py:299: ConvergenceWarning: Solver terminated early (max_iter=50000).  Consider pre-processing your data with StandardScaler or MinMaxScaler.\n",
      "  warnings.warn(\n"
     ]
    },
    {
     "name": "stdout",
     "output_type": "stream",
     "text": [
      "[CV 11/15; 2/50] END model__C=15.702970884055382, model__epsilon=6.2513735745217485;, score=-26.196 total time=   1.1s\n",
      "[CV 12/15; 2/50] START model__C=15.702970884055382, model__epsilon=6.2513735745217485\n"
     ]
    },
    {
     "name": "stderr",
     "output_type": "stream",
     "text": [
      "/opt/anaconda3/lib/python3.9/site-packages/sklearn/svm/_base.py:299: ConvergenceWarning: Solver terminated early (max_iter=50000).  Consider pre-processing your data with StandardScaler or MinMaxScaler.\n",
      "  warnings.warn(\n"
     ]
    },
    {
     "name": "stdout",
     "output_type": "stream",
     "text": [
      "[CV 12/15; 2/50] END model__C=15.702970884055382, model__epsilon=6.2513735745217485;, score=-25.099 total time=   1.1s\n",
      "[CV 13/15; 2/50] START model__C=15.702970884055382, model__epsilon=6.2513735745217485\n"
     ]
    },
    {
     "name": "stderr",
     "output_type": "stream",
     "text": [
      "/opt/anaconda3/lib/python3.9/site-packages/sklearn/svm/_base.py:299: ConvergenceWarning: Solver terminated early (max_iter=50000).  Consider pre-processing your data with StandardScaler or MinMaxScaler.\n",
      "  warnings.warn(\n"
     ]
    },
    {
     "name": "stdout",
     "output_type": "stream",
     "text": [
      "[CV 13/15; 2/50] END model__C=15.702970884055382, model__epsilon=6.2513735745217485;, score=-26.419 total time=   1.1s\n",
      "[CV 14/15; 2/50] START model__C=15.702970884055382, model__epsilon=6.2513735745217485\n"
     ]
    },
    {
     "name": "stderr",
     "output_type": "stream",
     "text": [
      "/opt/anaconda3/lib/python3.9/site-packages/sklearn/svm/_base.py:299: ConvergenceWarning: Solver terminated early (max_iter=50000).  Consider pre-processing your data with StandardScaler or MinMaxScaler.\n",
      "  warnings.warn(\n"
     ]
    },
    {
     "name": "stdout",
     "output_type": "stream",
     "text": [
      "[CV 14/15; 2/50] END model__C=15.702970884055382, model__epsilon=6.2513735745217485;, score=-26.069 total time=   1.1s\n",
      "[CV 15/15; 2/50] START model__C=15.702970884055382, model__epsilon=6.2513735745217485\n"
     ]
    },
    {
     "name": "stderr",
     "output_type": "stream",
     "text": [
      "/opt/anaconda3/lib/python3.9/site-packages/sklearn/svm/_base.py:299: ConvergenceWarning: Solver terminated early (max_iter=50000).  Consider pre-processing your data with StandardScaler or MinMaxScaler.\n",
      "  warnings.warn(\n"
     ]
    },
    {
     "name": "stdout",
     "output_type": "stream",
     "text": [
      "[CV 15/15; 2/50] END model__C=15.702970884055382, model__epsilon=6.2513735745217485;, score=-29.326 total time=   1.1s\n",
      "[CV 1/15; 3/50] START model__C=0.2938027938703535, model__epsilon=0.2937538457632829\n",
      "[CV 1/15; 3/50] END model__C=0.2938027938703535, model__epsilon=0.2937538457632829;, score=-32.829 total time=   1.2s\n",
      "[CV 2/15; 3/50] START model__C=0.2938027938703535, model__epsilon=0.2937538457632829\n",
      "[CV 2/15; 3/50] END model__C=0.2938027938703535, model__epsilon=0.2937538457632829;, score=-33.072 total time=   1.2s\n",
      "[CV 3/15; 3/50] START model__C=0.2938027938703535, model__epsilon=0.2937538457632829\n",
      "[CV 3/15; 3/50] END model__C=0.2938027938703535, model__epsilon=0.2937538457632829;, score=-34.504 total time=   1.2s\n",
      "[CV 4/15; 3/50] START model__C=0.2938027938703535, model__epsilon=0.2937538457632829\n",
      "[CV 4/15; 3/50] END model__C=0.2938027938703535, model__epsilon=0.2937538457632829;, score=-32.644 total time=   1.2s\n",
      "[CV 5/15; 3/50] START model__C=0.2938027938703535, model__epsilon=0.2937538457632829\n",
      "[CV 5/15; 3/50] END model__C=0.2938027938703535, model__epsilon=0.2937538457632829;, score=-37.485 total time=   1.2s\n",
      "[CV 6/15; 3/50] START model__C=0.2938027938703535, model__epsilon=0.2937538457632829\n",
      "[CV 6/15; 3/50] END model__C=0.2938027938703535, model__epsilon=0.2937538457632829;, score=-32.743 total time=   1.2s\n",
      "[CV 7/15; 3/50] START model__C=0.2938027938703535, model__epsilon=0.2937538457632829\n",
      "[CV 7/15; 3/50] END model__C=0.2938027938703535, model__epsilon=0.2937538457632829;, score=-33.099 total time=   1.2s\n",
      "[CV 8/15; 3/50] START model__C=0.2938027938703535, model__epsilon=0.2937538457632829\n",
      "[CV 8/15; 3/50] END model__C=0.2938027938703535, model__epsilon=0.2937538457632829;, score=-34.646 total time=   1.2s\n",
      "[CV 9/15; 3/50] START model__C=0.2938027938703535, model__epsilon=0.2937538457632829\n",
      "[CV 9/15; 3/50] END model__C=0.2938027938703535, model__epsilon=0.2937538457632829;, score=-32.862 total time=   1.2s\n",
      "[CV 10/15; 3/50] START model__C=0.2938027938703535, model__epsilon=0.2937538457632829\n",
      "[CV 10/15; 3/50] END model__C=0.2938027938703535, model__epsilon=0.2937538457632829;, score=-37.213 total time=   1.2s\n",
      "[CV 11/15; 3/50] START model__C=0.2938027938703535, model__epsilon=0.2937538457632829\n",
      "[CV 11/15; 3/50] END model__C=0.2938027938703535, model__epsilon=0.2937538457632829;, score=-32.885 total time=   1.2s\n",
      "[CV 12/15; 3/50] START model__C=0.2938027938703535, model__epsilon=0.2937538457632829\n",
      "[CV 12/15; 3/50] END model__C=0.2938027938703535, model__epsilon=0.2937538457632829;, score=-32.976 total time=   1.2s\n",
      "[CV 13/15; 3/50] START model__C=0.2938027938703535, model__epsilon=0.2937538457632829\n",
      "[CV 13/15; 3/50] END model__C=0.2938027938703535, model__epsilon=0.2937538457632829;, score=-34.809 total time=   1.2s\n",
      "[CV 14/15; 3/50] START model__C=0.2938027938703535, model__epsilon=0.2937538457632829\n",
      "[CV 14/15; 3/50] END model__C=0.2938027938703535, model__epsilon=0.2937538457632829;, score=-32.477 total time=   1.2s\n",
      "[CV 15/15; 3/50] START model__C=0.2938027938703535, model__epsilon=0.2937538457632829\n",
      "[CV 15/15; 3/50] END model__C=0.2938027938703535, model__epsilon=0.2937538457632829;, score=-37.317 total time=   1.2s\n",
      "[CV 1/15; 4/50] START model__C=0.14936568554617632, model__epsilon=39.67605077052987\n",
      "[CV 1/15; 4/50] END model__C=0.14936568554617632, model__epsilon=39.67605077052987;, score=-54.020 total time=   0.4s\n",
      "[CV 2/15; 4/50] START model__C=0.14936568554617632, model__epsilon=39.67605077052987\n",
      "[CV 2/15; 4/50] END model__C=0.14936568554617632, model__epsilon=39.67605077052987;, score=-54.454 total time=   0.4s\n",
      "[CV 3/15; 4/50] START model__C=0.14936568554617632, model__epsilon=39.67605077052987\n",
      "[CV 3/15; 4/50] END model__C=0.14936568554617632, model__epsilon=39.67605077052987;, score=-55.572 total time=   0.5s\n",
      "[CV 4/15; 4/50] START model__C=0.14936568554617632, model__epsilon=39.67605077052987\n",
      "[CV 4/15; 4/50] END model__C=0.14936568554617632, model__epsilon=39.67605077052987;, score=-53.685 total time=   0.5s\n",
      "[CV 5/15; 4/50] START model__C=0.14936568554617632, model__epsilon=39.67605077052987\n",
      "[CV 5/15; 4/50] END model__C=0.14936568554617632, model__epsilon=39.67605077052987;, score=-58.491 total time=   0.4s\n",
      "[CV 6/15; 4/50] START model__C=0.14936568554617632, model__epsilon=39.67605077052987\n",
      "[CV 6/15; 4/50] END model__C=0.14936568554617632, model__epsilon=39.67605077052987;, score=-54.071 total time=   0.4s\n",
      "[CV 7/15; 4/50] START model__C=0.14936568554617632, model__epsilon=39.67605077052987\n",
      "[CV 7/15; 4/50] END model__C=0.14936568554617632, model__epsilon=39.67605077052987;, score=-54.327 total time=   0.5s\n",
      "[CV 8/15; 4/50] START model__C=0.14936568554617632, model__epsilon=39.67605077052987\n",
      "[CV 8/15; 4/50] END model__C=0.14936568554617632, model__epsilon=39.67605077052987;, score=-55.715 total time=   0.4s\n",
      "[CV 9/15; 4/50] START model__C=0.14936568554617632, model__epsilon=39.67605077052987\n",
      "[CV 9/15; 4/50] END model__C=0.14936568554617632, model__epsilon=39.67605077052987;, score=-53.940 total time=   0.5s\n",
      "[CV 10/15; 4/50] START model__C=0.14936568554617632, model__epsilon=39.67605077052987\n",
      "[CV 10/15; 4/50] END model__C=0.14936568554617632, model__epsilon=39.67605077052987;, score=-58.209 total time=   0.4s\n",
      "[CV 11/15; 4/50] START model__C=0.14936568554617632, model__epsilon=39.67605077052987\n",
      "[CV 11/15; 4/50] END model__C=0.14936568554617632, model__epsilon=39.67605077052987;, score=-54.108 total time=   0.5s\n",
      "[CV 12/15; 4/50] START model__C=0.14936568554617632, model__epsilon=39.67605077052987\n",
      "[CV 12/15; 4/50] END model__C=0.14936568554617632, model__epsilon=39.67605077052987;, score=-54.318 total time=   0.4s\n",
      "[CV 13/15; 4/50] START model__C=0.14936568554617632, model__epsilon=39.67605077052987\n",
      "[CV 13/15; 4/50] END model__C=0.14936568554617632, model__epsilon=39.67605077052987;, score=-55.627 total time=   0.5s\n",
      "[CV 14/15; 4/50] START model__C=0.14936568554617632, model__epsilon=39.67605077052987\n",
      "[CV 14/15; 4/50] END model__C=0.14936568554617632, model__epsilon=39.67605077052987;, score=-53.838 total time=   0.5s\n",
      "[CV 15/15; 4/50] START model__C=0.14936568554617632, model__epsilon=39.67605077052987\n",
      "[CV 15/15; 4/50] END model__C=0.14936568554617632, model__epsilon=39.67605077052987;, score=-58.381 total time=   0.4s\n",
      "[CV 1/15; 5/50] START model__C=6.358358856676251, model__epsilon=13.311216080736884\n"
     ]
    },
    {
     "name": "stderr",
     "output_type": "stream",
     "text": [
      "/opt/anaconda3/lib/python3.9/site-packages/sklearn/svm/_base.py:299: ConvergenceWarning: Solver terminated early (max_iter=50000).  Consider pre-processing your data with StandardScaler or MinMaxScaler.\n",
      "  warnings.warn(\n"
     ]
    },
    {
     "name": "stdout",
     "output_type": "stream",
     "text": [
      "[CV 1/15; 5/50] END model__C=6.358358856676251, model__epsilon=13.311216080736884;, score=-26.645 total time=   0.7s\n",
      "[CV 2/15; 5/50] START model__C=6.358358856676251, model__epsilon=13.311216080736884\n"
     ]
    },
    {
     "name": "stderr",
     "output_type": "stream",
     "text": [
      "/opt/anaconda3/lib/python3.9/site-packages/sklearn/svm/_base.py:299: ConvergenceWarning: Solver terminated early (max_iter=50000).  Consider pre-processing your data with StandardScaler or MinMaxScaler.\n",
      "  warnings.warn(\n"
     ]
    },
    {
     "name": "stdout",
     "output_type": "stream",
     "text": [
      "[CV 2/15; 5/50] END model__C=6.358358856676251, model__epsilon=13.311216080736884;, score=-28.110 total time=   0.6s\n",
      "[CV 3/15; 5/50] START model__C=6.358358856676251, model__epsilon=13.311216080736884\n"
     ]
    },
    {
     "name": "stderr",
     "output_type": "stream",
     "text": [
      "/opt/anaconda3/lib/python3.9/site-packages/sklearn/svm/_base.py:299: ConvergenceWarning: Solver terminated early (max_iter=50000).  Consider pre-processing your data with StandardScaler or MinMaxScaler.\n",
      "  warnings.warn(\n"
     ]
    },
    {
     "name": "stdout",
     "output_type": "stream",
     "text": [
      "[CV 3/15; 5/50] END model__C=6.358358856676251, model__epsilon=13.311216080736884;, score=-28.180 total time=   0.7s\n",
      "[CV 4/15; 5/50] START model__C=6.358358856676251, model__epsilon=13.311216080736884\n"
     ]
    },
    {
     "name": "stderr",
     "output_type": "stream",
     "text": [
      "/opt/anaconda3/lib/python3.9/site-packages/sklearn/svm/_base.py:299: ConvergenceWarning: Solver terminated early (max_iter=50000).  Consider pre-processing your data with StandardScaler or MinMaxScaler.\n",
      "  warnings.warn(\n"
     ]
    },
    {
     "name": "stdout",
     "output_type": "stream",
     "text": [
      "[CV 4/15; 5/50] END model__C=6.358358856676251, model__epsilon=13.311216080736884;, score=-27.544 total time=   0.7s\n",
      "[CV 5/15; 5/50] START model__C=6.358358856676251, model__epsilon=13.311216080736884\n"
     ]
    },
    {
     "name": "stderr",
     "output_type": "stream",
     "text": [
      "/opt/anaconda3/lib/python3.9/site-packages/sklearn/svm/_base.py:299: ConvergenceWarning: Solver terminated early (max_iter=50000).  Consider pre-processing your data with StandardScaler or MinMaxScaler.\n",
      "  warnings.warn(\n"
     ]
    },
    {
     "name": "stdout",
     "output_type": "stream",
     "text": [
      "[CV 5/15; 5/50] END model__C=6.358358856676251, model__epsilon=13.311216080736884;, score=-31.494 total time=   0.6s\n",
      "[CV 6/15; 5/50] START model__C=6.358358856676251, model__epsilon=13.311216080736884\n"
     ]
    },
    {
     "name": "stderr",
     "output_type": "stream",
     "text": [
      "/opt/anaconda3/lib/python3.9/site-packages/sklearn/svm/_base.py:299: ConvergenceWarning: Solver terminated early (max_iter=50000).  Consider pre-processing your data with StandardScaler or MinMaxScaler.\n",
      "  warnings.warn(\n"
     ]
    },
    {
     "name": "stdout",
     "output_type": "stream",
     "text": [
      "[CV 6/15; 5/50] END model__C=6.358358856676251, model__epsilon=13.311216080736884;, score=-26.414 total time=   0.7s\n",
      "[CV 7/15; 5/50] START model__C=6.358358856676251, model__epsilon=13.311216080736884\n"
     ]
    },
    {
     "name": "stderr",
     "output_type": "stream",
     "text": [
      "/opt/anaconda3/lib/python3.9/site-packages/sklearn/svm/_base.py:299: ConvergenceWarning: Solver terminated early (max_iter=50000).  Consider pre-processing your data with StandardScaler or MinMaxScaler.\n",
      "  warnings.warn(\n"
     ]
    },
    {
     "name": "stdout",
     "output_type": "stream",
     "text": [
      "[CV 7/15; 5/50] END model__C=6.358358856676251, model__epsilon=13.311216080736884;, score=-27.795 total time=   0.7s\n",
      "[CV 8/15; 5/50] START model__C=6.358358856676251, model__epsilon=13.311216080736884\n"
     ]
    },
    {
     "name": "stderr",
     "output_type": "stream",
     "text": [
      "/opt/anaconda3/lib/python3.9/site-packages/sklearn/svm/_base.py:299: ConvergenceWarning: Solver terminated early (max_iter=50000).  Consider pre-processing your data with StandardScaler or MinMaxScaler.\n",
      "  warnings.warn(\n"
     ]
    },
    {
     "name": "stdout",
     "output_type": "stream",
     "text": [
      "[CV 8/15; 5/50] END model__C=6.358358856676251, model__epsilon=13.311216080736884;, score=-30.163 total time=   0.6s\n",
      "[CV 9/15; 5/50] START model__C=6.358358856676251, model__epsilon=13.311216080736884\n"
     ]
    },
    {
     "name": "stderr",
     "output_type": "stream",
     "text": [
      "/opt/anaconda3/lib/python3.9/site-packages/sklearn/svm/_base.py:299: ConvergenceWarning: Solver terminated early (max_iter=50000).  Consider pre-processing your data with StandardScaler or MinMaxScaler.\n",
      "  warnings.warn(\n"
     ]
    },
    {
     "name": "stdout",
     "output_type": "stream",
     "text": [
      "[CV 9/15; 5/50] END model__C=6.358358856676251, model__epsilon=13.311216080736884;, score=-27.792 total time=   0.6s\n",
      "[CV 10/15; 5/50] START model__C=6.358358856676251, model__epsilon=13.311216080736884\n"
     ]
    },
    {
     "name": "stderr",
     "output_type": "stream",
     "text": [
      "/opt/anaconda3/lib/python3.9/site-packages/sklearn/svm/_base.py:299: ConvergenceWarning: Solver terminated early (max_iter=50000).  Consider pre-processing your data with StandardScaler or MinMaxScaler.\n",
      "  warnings.warn(\n"
     ]
    },
    {
     "name": "stdout",
     "output_type": "stream",
     "text": [
      "[CV 10/15; 5/50] END model__C=6.358358856676251, model__epsilon=13.311216080736884;, score=-29.987 total time=   0.6s\n",
      "[CV 11/15; 5/50] START model__C=6.358358856676251, model__epsilon=13.311216080736884\n"
     ]
    },
    {
     "name": "stderr",
     "output_type": "stream",
     "text": [
      "/opt/anaconda3/lib/python3.9/site-packages/sklearn/svm/_base.py:299: ConvergenceWarning: Solver terminated early (max_iter=50000).  Consider pre-processing your data with StandardScaler or MinMaxScaler.\n",
      "  warnings.warn(\n"
     ]
    },
    {
     "name": "stdout",
     "output_type": "stream",
     "text": [
      "[CV 11/15; 5/50] END model__C=6.358358856676251, model__epsilon=13.311216080736884;, score=-27.820 total time=   0.7s\n",
      "[CV 12/15; 5/50] START model__C=6.358358856676251, model__epsilon=13.311216080736884\n"
     ]
    },
    {
     "name": "stderr",
     "output_type": "stream",
     "text": [
      "/opt/anaconda3/lib/python3.9/site-packages/sklearn/svm/_base.py:299: ConvergenceWarning: Solver terminated early (max_iter=50000).  Consider pre-processing your data with StandardScaler or MinMaxScaler.\n",
      "  warnings.warn(\n"
     ]
    },
    {
     "name": "stdout",
     "output_type": "stream",
     "text": [
      "[CV 12/15; 5/50] END model__C=6.358358856676251, model__epsilon=13.311216080736884;, score=-27.030 total time=   0.7s\n",
      "[CV 13/15; 5/50] START model__C=6.358358856676251, model__epsilon=13.311216080736884\n"
     ]
    },
    {
     "name": "stderr",
     "output_type": "stream",
     "text": [
      "/opt/anaconda3/lib/python3.9/site-packages/sklearn/svm/_base.py:299: ConvergenceWarning: Solver terminated early (max_iter=50000).  Consider pre-processing your data with StandardScaler or MinMaxScaler.\n",
      "  warnings.warn(\n"
     ]
    },
    {
     "name": "stdout",
     "output_type": "stream",
     "text": [
      "[CV 13/15; 5/50] END model__C=6.358358856676251, model__epsilon=13.311216080736884;, score=-28.267 total time=   0.7s\n",
      "[CV 14/15; 5/50] START model__C=6.358358856676251, model__epsilon=13.311216080736884\n"
     ]
    },
    {
     "name": "stderr",
     "output_type": "stream",
     "text": [
      "/opt/anaconda3/lib/python3.9/site-packages/sklearn/svm/_base.py:299: ConvergenceWarning: Solver terminated early (max_iter=50000).  Consider pre-processing your data with StandardScaler or MinMaxScaler.\n",
      "  warnings.warn(\n"
     ]
    },
    {
     "name": "stdout",
     "output_type": "stream",
     "text": [
      "[CV 14/15; 5/50] END model__C=6.358358856676251, model__epsilon=13.311216080736884;, score=-27.821 total time=   0.6s\n",
      "[CV 15/15; 5/50] START model__C=6.358358856676251, model__epsilon=13.311216080736884\n"
     ]
    },
    {
     "name": "stderr",
     "output_type": "stream",
     "text": [
      "/opt/anaconda3/lib/python3.9/site-packages/sklearn/svm/_base.py:299: ConvergenceWarning: Solver terminated early (max_iter=50000).  Consider pre-processing your data with StandardScaler or MinMaxScaler.\n",
      "  warnings.warn(\n"
     ]
    },
    {
     "name": "stdout",
     "output_type": "stream",
     "text": [
      "[CV 15/15; 5/50] END model__C=6.358358856676251, model__epsilon=13.311216080736884;, score=-31.627 total time=   0.6s\n",
      "[CV 1/15; 6/50] START model__C=0.115279871282324, model__epsilon=81.23245085588688\n",
      "[CV 1/15; 6/50] END model__C=0.115279871282324, model__epsilon=81.23245085588688;, score=-83.676 total time=   0.3s\n",
      "[CV 2/15; 6/50] START model__C=0.115279871282324, model__epsilon=81.23245085588688\n",
      "[CV 2/15; 6/50] END model__C=0.115279871282324, model__epsilon=81.23245085588688;, score=-83.840 total time=   0.3s\n",
      "[CV 3/15; 6/50] START model__C=0.115279871282324, model__epsilon=81.23245085588688\n",
      "[CV 3/15; 6/50] END model__C=0.115279871282324, model__epsilon=81.23245085588688;, score=-85.029 total time=   0.3s\n",
      "[CV 4/15; 6/50] START model__C=0.115279871282324, model__epsilon=81.23245085588688\n",
      "[CV 4/15; 6/50] END model__C=0.115279871282324, model__epsilon=81.23245085588688;, score=-83.227 total time=   0.3s\n",
      "[CV 5/15; 6/50] START model__C=0.115279871282324, model__epsilon=81.23245085588688\n",
      "[CV 5/15; 6/50] END model__C=0.115279871282324, model__epsilon=81.23245085588688;, score=-87.534 total time=   0.3s\n",
      "[CV 6/15; 6/50] START model__C=0.115279871282324, model__epsilon=81.23245085588688\n",
      "[CV 6/15; 6/50] END model__C=0.115279871282324, model__epsilon=81.23245085588688;, score=-83.688 total time=   0.3s\n",
      "[CV 7/15; 6/50] START model__C=0.115279871282324, model__epsilon=81.23245085588688\n",
      "[CV 7/15; 6/50] END model__C=0.115279871282324, model__epsilon=81.23245085588688;, score=-83.743 total time=   0.3s\n",
      "[CV 8/15; 6/50] START model__C=0.115279871282324, model__epsilon=81.23245085588688\n",
      "[CV 8/15; 6/50] END model__C=0.115279871282324, model__epsilon=81.23245085588688;, score=-85.116 total time=   0.3s\n",
      "[CV 9/15; 6/50] START model__C=0.115279871282324, model__epsilon=81.23245085588688\n",
      "[CV 9/15; 6/50] END model__C=0.115279871282324, model__epsilon=81.23245085588688;, score=-83.355 total time=   0.3s\n",
      "[CV 10/15; 6/50] START model__C=0.115279871282324, model__epsilon=81.23245085588688\n",
      "[CV 10/15; 6/50] END model__C=0.115279871282324, model__epsilon=81.23245085588688;, score=-87.410 total time=   0.3s\n",
      "[CV 11/15; 6/50] START model__C=0.115279871282324, model__epsilon=81.23245085588688\n",
      "[CV 11/15; 6/50] END model__C=0.115279871282324, model__epsilon=81.23245085588688;, score=-83.747 total time=   0.3s\n",
      "[CV 12/15; 6/50] START model__C=0.115279871282324, model__epsilon=81.23245085588688\n",
      "[CV 12/15; 6/50] END model__C=0.115279871282324, model__epsilon=81.23245085588688;, score=-83.744 total time=   0.3s\n",
      "[CV 13/15; 6/50] START model__C=0.115279871282324, model__epsilon=81.23245085588688\n",
      "[CV 13/15; 6/50] END model__C=0.115279871282324, model__epsilon=81.23245085588688;, score=-84.991 total time=   0.3s\n",
      "[CV 14/15; 6/50] START model__C=0.115279871282324, model__epsilon=81.23245085588688\n",
      "[CV 14/15; 6/50] END model__C=0.115279871282324, model__epsilon=81.23245085588688;, score=-83.282 total time=   0.3s\n",
      "[CV 15/15; 6/50] START model__C=0.115279871282324, model__epsilon=81.23245085588688\n",
      "[CV 15/15; 6/50] END model__C=0.115279871282324, model__epsilon=81.23245085588688;, score=-87.586 total time=   0.3s\n",
      "[CV 1/15; 7/50] START model__C=31.428808908401084, model__epsilon=0.4335281794951565\n"
     ]
    },
    {
     "name": "stderr",
     "output_type": "stream",
     "text": [
      "/opt/anaconda3/lib/python3.9/site-packages/sklearn/svm/_base.py:299: ConvergenceWarning: Solver terminated early (max_iter=50000).  Consider pre-processing your data with StandardScaler or MinMaxScaler.\n",
      "  warnings.warn(\n"
     ]
    },
    {
     "name": "stdout",
     "output_type": "stream",
     "text": [
      "[CV 1/15; 7/50] END model__C=31.428808908401084, model__epsilon=0.4335281794951565;, score=-24.120 total time=   2.6s\n",
      "[CV 2/15; 7/50] START model__C=31.428808908401084, model__epsilon=0.4335281794951565\n"
     ]
    },
    {
     "name": "stderr",
     "output_type": "stream",
     "text": [
      "/opt/anaconda3/lib/python3.9/site-packages/sklearn/svm/_base.py:299: ConvergenceWarning: Solver terminated early (max_iter=50000).  Consider pre-processing your data with StandardScaler or MinMaxScaler.\n",
      "  warnings.warn(\n"
     ]
    },
    {
     "name": "stdout",
     "output_type": "stream",
     "text": [
      "[CV 2/15; 7/50] END model__C=31.428808908401084, model__epsilon=0.4335281794951565;, score=-25.658 total time=   2.6s\n",
      "[CV 3/15; 7/50] START model__C=31.428808908401084, model__epsilon=0.4335281794951565\n"
     ]
    },
    {
     "name": "stderr",
     "output_type": "stream",
     "text": [
      "/opt/anaconda3/lib/python3.9/site-packages/sklearn/svm/_base.py:299: ConvergenceWarning: Solver terminated early (max_iter=50000).  Consider pre-processing your data with StandardScaler or MinMaxScaler.\n",
      "  warnings.warn(\n"
     ]
    },
    {
     "name": "stdout",
     "output_type": "stream",
     "text": [
      "[CV 3/15; 7/50] END model__C=31.428808908401084, model__epsilon=0.4335281794951565;, score=-25.770 total time=   2.6s\n",
      "[CV 4/15; 7/50] START model__C=31.428808908401084, model__epsilon=0.4335281794951565\n"
     ]
    },
    {
     "name": "stderr",
     "output_type": "stream",
     "text": [
      "/opt/anaconda3/lib/python3.9/site-packages/sklearn/svm/_base.py:299: ConvergenceWarning: Solver terminated early (max_iter=50000).  Consider pre-processing your data with StandardScaler or MinMaxScaler.\n",
      "  warnings.warn(\n"
     ]
    },
    {
     "name": "stdout",
     "output_type": "stream",
     "text": [
      "[CV 4/15; 7/50] END model__C=31.428808908401084, model__epsilon=0.4335281794951565;, score=-25.096 total time=   2.6s\n",
      "[CV 5/15; 7/50] START model__C=31.428808908401084, model__epsilon=0.4335281794951565\n"
     ]
    },
    {
     "name": "stderr",
     "output_type": "stream",
     "text": [
      "/opt/anaconda3/lib/python3.9/site-packages/sklearn/svm/_base.py:299: ConvergenceWarning: Solver terminated early (max_iter=50000).  Consider pre-processing your data with StandardScaler or MinMaxScaler.\n",
      "  warnings.warn(\n"
     ]
    },
    {
     "name": "stdout",
     "output_type": "stream",
     "text": [
      "[CV 5/15; 7/50] END model__C=31.428808908401084, model__epsilon=0.4335281794951565;, score=-28.511 total time=   2.6s\n",
      "[CV 6/15; 7/50] START model__C=31.428808908401084, model__epsilon=0.4335281794951565\n"
     ]
    },
    {
     "name": "stderr",
     "output_type": "stream",
     "text": [
      "/opt/anaconda3/lib/python3.9/site-packages/sklearn/svm/_base.py:299: ConvergenceWarning: Solver terminated early (max_iter=50000).  Consider pre-processing your data with StandardScaler or MinMaxScaler.\n",
      "  warnings.warn(\n"
     ]
    },
    {
     "name": "stdout",
     "output_type": "stream",
     "text": [
      "[CV 6/15; 7/50] END model__C=31.428808908401084, model__epsilon=0.4335281794951565;, score=-23.842 total time=   2.6s\n",
      "[CV 7/15; 7/50] START model__C=31.428808908401084, model__epsilon=0.4335281794951565\n"
     ]
    },
    {
     "name": "stderr",
     "output_type": "stream",
     "text": [
      "/opt/anaconda3/lib/python3.9/site-packages/sklearn/svm/_base.py:299: ConvergenceWarning: Solver terminated early (max_iter=50000).  Consider pre-processing your data with StandardScaler or MinMaxScaler.\n",
      "  warnings.warn(\n"
     ]
    },
    {
     "name": "stdout",
     "output_type": "stream",
     "text": [
      "[CV 7/15; 7/50] END model__C=31.428808908401084, model__epsilon=0.4335281794951565;, score=-25.043 total time=   2.6s\n",
      "[CV 8/15; 7/50] START model__C=31.428808908401084, model__epsilon=0.4335281794951565\n"
     ]
    },
    {
     "name": "stderr",
     "output_type": "stream",
     "text": [
      "/opt/anaconda3/lib/python3.9/site-packages/sklearn/svm/_base.py:299: ConvergenceWarning: Solver terminated early (max_iter=50000).  Consider pre-processing your data with StandardScaler or MinMaxScaler.\n",
      "  warnings.warn(\n"
     ]
    },
    {
     "name": "stdout",
     "output_type": "stream",
     "text": [
      "[CV 8/15; 7/50] END model__C=31.428808908401084, model__epsilon=0.4335281794951565;, score=-27.957 total time=   2.6s\n",
      "[CV 9/15; 7/50] START model__C=31.428808908401084, model__epsilon=0.4335281794951565\n"
     ]
    },
    {
     "name": "stderr",
     "output_type": "stream",
     "text": [
      "/opt/anaconda3/lib/python3.9/site-packages/sklearn/svm/_base.py:299: ConvergenceWarning: Solver terminated early (max_iter=50000).  Consider pre-processing your data with StandardScaler or MinMaxScaler.\n",
      "  warnings.warn(\n"
     ]
    },
    {
     "name": "stdout",
     "output_type": "stream",
     "text": [
      "[CV 9/15; 7/50] END model__C=31.428808908401084, model__epsilon=0.4335281794951565;, score=-25.386 total time=   2.6s\n",
      "[CV 10/15; 7/50] START model__C=31.428808908401084, model__epsilon=0.4335281794951565\n"
     ]
    },
    {
     "name": "stderr",
     "output_type": "stream",
     "text": [
      "/opt/anaconda3/lib/python3.9/site-packages/sklearn/svm/_base.py:299: ConvergenceWarning: Solver terminated early (max_iter=50000).  Consider pre-processing your data with StandardScaler or MinMaxScaler.\n",
      "  warnings.warn(\n"
     ]
    },
    {
     "name": "stdout",
     "output_type": "stream",
     "text": [
      "[CV 10/15; 7/50] END model__C=31.428808908401084, model__epsilon=0.4335281794951565;, score=-26.962 total time=   2.6s\n",
      "[CV 11/15; 7/50] START model__C=31.428808908401084, model__epsilon=0.4335281794951565\n"
     ]
    },
    {
     "name": "stderr",
     "output_type": "stream",
     "text": [
      "/opt/anaconda3/lib/python3.9/site-packages/sklearn/svm/_base.py:299: ConvergenceWarning: Solver terminated early (max_iter=50000).  Consider pre-processing your data with StandardScaler or MinMaxScaler.\n",
      "  warnings.warn(\n"
     ]
    },
    {
     "name": "stdout",
     "output_type": "stream",
     "text": [
      "[CV 11/15; 7/50] END model__C=31.428808908401084, model__epsilon=0.4335281794951565;, score=-25.669 total time=   2.6s\n",
      "[CV 12/15; 7/50] START model__C=31.428808908401084, model__epsilon=0.4335281794951565\n"
     ]
    },
    {
     "name": "stderr",
     "output_type": "stream",
     "text": [
      "/opt/anaconda3/lib/python3.9/site-packages/sklearn/svm/_base.py:299: ConvergenceWarning: Solver terminated early (max_iter=50000).  Consider pre-processing your data with StandardScaler or MinMaxScaler.\n",
      "  warnings.warn(\n"
     ]
    },
    {
     "name": "stdout",
     "output_type": "stream",
     "text": [
      "[CV 12/15; 7/50] END model__C=31.428808908401084, model__epsilon=0.4335281794951565;, score=-24.493 total time=   2.6s\n",
      "[CV 13/15; 7/50] START model__C=31.428808908401084, model__epsilon=0.4335281794951565\n"
     ]
    },
    {
     "name": "stderr",
     "output_type": "stream",
     "text": [
      "/opt/anaconda3/lib/python3.9/site-packages/sklearn/svm/_base.py:299: ConvergenceWarning: Solver terminated early (max_iter=50000).  Consider pre-processing your data with StandardScaler or MinMaxScaler.\n",
      "  warnings.warn(\n"
     ]
    },
    {
     "name": "stdout",
     "output_type": "stream",
     "text": [
      "[CV 13/15; 7/50] END model__C=31.428808908401084, model__epsilon=0.4335281794951565;, score=-25.685 total time=   2.6s\n",
      "[CV 14/15; 7/50] START model__C=31.428808908401084, model__epsilon=0.4335281794951565\n"
     ]
    },
    {
     "name": "stderr",
     "output_type": "stream",
     "text": [
      "/opt/anaconda3/lib/python3.9/site-packages/sklearn/svm/_base.py:299: ConvergenceWarning: Solver terminated early (max_iter=50000).  Consider pre-processing your data with StandardScaler or MinMaxScaler.\n",
      "  warnings.warn(\n"
     ]
    },
    {
     "name": "stdout",
     "output_type": "stream",
     "text": [
      "[CV 14/15; 7/50] END model__C=31.428808908401084, model__epsilon=0.4335281794951565;, score=-25.327 total time=   2.6s\n",
      "[CV 15/15; 7/50] START model__C=31.428808908401084, model__epsilon=0.4335281794951565\n"
     ]
    },
    {
     "name": "stderr",
     "output_type": "stream",
     "text": [
      "/opt/anaconda3/lib/python3.9/site-packages/sklearn/svm/_base.py:299: ConvergenceWarning: Solver terminated early (max_iter=50000).  Consider pre-processing your data with StandardScaler or MinMaxScaler.\n",
      "  warnings.warn(\n"
     ]
    },
    {
     "name": "stdout",
     "output_type": "stream",
     "text": [
      "[CV 15/15; 7/50] END model__C=31.428808908401084, model__epsilon=0.4335281794951565;, score=-28.601 total time=   2.6s\n",
      "[CV 1/15; 8/50] START model__C=0.3511356313970407, model__epsilon=0.35498788321965025\n",
      "[CV 1/15; 8/50] END model__C=0.3511356313970407, model__epsilon=0.35498788321965025;, score=-32.113 total time=   1.2s\n",
      "[CV 2/15; 8/50] START model__C=0.3511356313970407, model__epsilon=0.35498788321965025\n",
      "[CV 2/15; 8/50] END model__C=0.3511356313970407, model__epsilon=0.35498788321965025;, score=-32.516 total time=   1.2s\n",
      "[CV 3/15; 8/50] START model__C=0.3511356313970407, model__epsilon=0.35498788321965025\n",
      "[CV 3/15; 8/50] END model__C=0.3511356313970407, model__epsilon=0.35498788321965025;, score=-33.781 total time=   1.2s\n",
      "[CV 4/15; 8/50] START model__C=0.3511356313970407, model__epsilon=0.35498788321965025\n",
      "[CV 4/15; 8/50] END model__C=0.3511356313970407, model__epsilon=0.35498788321965025;, score=-32.049 total time=   1.2s\n",
      "[CV 5/15; 8/50] START model__C=0.3511356313970407, model__epsilon=0.35498788321965025\n",
      "[CV 5/15; 8/50] END model__C=0.3511356313970407, model__epsilon=0.35498788321965025;, score=-36.922 total time=   1.2s\n",
      "[CV 6/15; 8/50] START model__C=0.3511356313970407, model__epsilon=0.35498788321965025\n",
      "[CV 6/15; 8/50] END model__C=0.3511356313970407, model__epsilon=0.35498788321965025;, score=-32.031 total time=   1.2s\n",
      "[CV 7/15; 8/50] START model__C=0.3511356313970407, model__epsilon=0.35498788321965025\n",
      "[CV 7/15; 8/50] END model__C=0.3511356313970407, model__epsilon=0.35498788321965025;, score=-32.462 total time=   1.2s\n",
      "[CV 8/15; 8/50] START model__C=0.3511356313970407, model__epsilon=0.35498788321965025\n",
      "[CV 8/15; 8/50] END model__C=0.3511356313970407, model__epsilon=0.35498788321965025;, score=-34.035 total time=   1.2s\n",
      "[CV 9/15; 8/50] START model__C=0.3511356313970407, model__epsilon=0.35498788321965025\n",
      "[CV 9/15; 8/50] END model__C=0.3511356313970407, model__epsilon=0.35498788321965025;, score=-32.304 total time=   1.2s\n",
      "[CV 10/15; 8/50] START model__C=0.3511356313970407, model__epsilon=0.35498788321965025\n",
      "[CV 10/15; 8/50] END model__C=0.3511356313970407, model__epsilon=0.35498788321965025;, score=-36.565 total time=   1.2s\n",
      "[CV 11/15; 8/50] START model__C=0.3511356313970407, model__epsilon=0.35498788321965025\n",
      "[CV 11/15; 8/50] END model__C=0.3511356313970407, model__epsilon=0.35498788321965025;, score=-32.234 total time=   1.2s\n",
      "[CV 12/15; 8/50] START model__C=0.3511356313970407, model__epsilon=0.35498788321965025\n",
      "[CV 12/15; 8/50] END model__C=0.3511356313970407, model__epsilon=0.35498788321965025;, score=-32.393 total time=   1.2s\n",
      "[CV 13/15; 8/50] START model__C=0.3511356313970407, model__epsilon=0.35498788321965025\n",
      "[CV 13/15; 8/50] END model__C=0.3511356313970407, model__epsilon=0.35498788321965025;, score=-34.144 total time=   1.2s\n",
      "[CV 14/15; 8/50] START model__C=0.3511356313970407, model__epsilon=0.35498788321965025\n",
      "[CV 14/15; 8/50] END model__C=0.3511356313970407, model__epsilon=0.35498788321965025;, score=-31.869 total time=   1.2s\n",
      "[CV 15/15; 8/50] START model__C=0.3511356313970407, model__epsilon=0.35498788321965025\n",
      "[CV 15/15; 8/50] END model__C=0.3511356313970407, model__epsilon=0.35498788321965025;, score=-36.712 total time=   1.2s\n",
      "[CV 1/15; 9/50] START model__C=0.8179499475211672, model__epsilon=3.752055855124281\n",
      "[CV 1/15; 9/50] END model__C=0.8179499475211672, model__epsilon=3.752055855124281;, score=-29.039 total time=   0.9s\n",
      "[CV 2/15; 9/50] START model__C=0.8179499475211672, model__epsilon=3.752055855124281\n",
      "[CV 2/15; 9/50] END model__C=0.8179499475211672, model__epsilon=3.752055855124281;, score=-30.103 total time=   0.9s\n",
      "[CV 3/15; 9/50] START model__C=0.8179499475211672, model__epsilon=3.752055855124281\n",
      "[CV 3/15; 9/50] END model__C=0.8179499475211672, model__epsilon=3.752055855124281;, score=-30.976 total time=   0.9s\n",
      "[CV 4/15; 9/50] START model__C=0.8179499475211672, model__epsilon=3.752055855124281\n",
      "[CV 4/15; 9/50] END model__C=0.8179499475211672, model__epsilon=3.752055855124281;, score=-29.230 total time=   0.9s\n",
      "[CV 5/15; 9/50] START model__C=0.8179499475211672, model__epsilon=3.752055855124281\n",
      "[CV 5/15; 9/50] END model__C=0.8179499475211672, model__epsilon=3.752055855124281;, score=-34.409 total time=   0.9s\n",
      "[CV 6/15; 9/50] START model__C=0.8179499475211672, model__epsilon=3.752055855124281\n",
      "[CV 6/15; 9/50] END model__C=0.8179499475211672, model__epsilon=3.752055855124281;, score=-29.162 total time=   0.9s\n",
      "[CV 7/15; 9/50] START model__C=0.8179499475211672, model__epsilon=3.752055855124281\n",
      "[CV 7/15; 9/50] END model__C=0.8179499475211672, model__epsilon=3.752055855124281;, score=-29.719 total time=   0.9s\n",
      "[CV 8/15; 9/50] START model__C=0.8179499475211672, model__epsilon=3.752055855124281\n",
      "[CV 8/15; 9/50] END model__C=0.8179499475211672, model__epsilon=3.752055855124281;, score=-31.362 total time=   0.9s\n",
      "[CV 9/15; 9/50] START model__C=0.8179499475211672, model__epsilon=3.752055855124281\n",
      "[CV 9/15; 9/50] END model__C=0.8179499475211672, model__epsilon=3.752055855124281;, score=-29.864 total time=   0.9s\n",
      "[CV 10/15; 9/50] START model__C=0.8179499475211672, model__epsilon=3.752055855124281\n",
      "[CV 10/15; 9/50] END model__C=0.8179499475211672, model__epsilon=3.752055855124281;, score=-33.556 total time=   0.9s\n",
      "[CV 11/15; 9/50] START model__C=0.8179499475211672, model__epsilon=3.752055855124281\n",
      "[CV 11/15; 9/50] END model__C=0.8179499475211672, model__epsilon=3.752055855124281;, score=-29.419 total time=   0.9s\n",
      "[CV 12/15; 9/50] START model__C=0.8179499475211672, model__epsilon=3.752055855124281\n",
      "[CV 12/15; 9/50] END model__C=0.8179499475211672, model__epsilon=3.752055855124281;, score=-29.644 total time=   0.9s\n",
      "[CV 13/15; 9/50] START model__C=0.8179499475211672, model__epsilon=3.752055855124281\n",
      "[CV 13/15; 9/50] END model__C=0.8179499475211672, model__epsilon=3.752055855124281;, score=-31.225 total time=   0.9s\n",
      "[CV 14/15; 9/50] START model__C=0.8179499475211672, model__epsilon=3.752055855124281\n",
      "[CV 14/15; 9/50] END model__C=0.8179499475211672, model__epsilon=3.752055855124281;, score=-29.361 total time=   0.9s\n",
      "[CV 15/15; 9/50] START model__C=0.8179499475211672, model__epsilon=3.752055855124281\n",
      "[CV 15/15; 9/50] END model__C=0.8179499475211672, model__epsilon=3.752055855124281;, score=-34.064 total time=   0.9s\n",
      "[CV 1/15; 10/50] START model__C=1.976218934028007, model__epsilon=0.7476312062252299\n"
     ]
    },
    {
     "name": "stderr",
     "output_type": "stream",
     "text": [
      "/opt/anaconda3/lib/python3.9/site-packages/sklearn/svm/_base.py:299: ConvergenceWarning: Solver terminated early (max_iter=50000).  Consider pre-processing your data with StandardScaler or MinMaxScaler.\n",
      "  warnings.warn(\n"
     ]
    },
    {
     "name": "stdout",
     "output_type": "stream",
     "text": [
      "[CV 1/15; 10/50] END model__C=1.976218934028007, model__epsilon=0.7476312062252299;, score=-25.819 total time=   1.3s\n",
      "[CV 2/15; 10/50] START model__C=1.976218934028007, model__epsilon=0.7476312062252299\n"
     ]
    },
    {
     "name": "stderr",
     "output_type": "stream",
     "text": [
      "/opt/anaconda3/lib/python3.9/site-packages/sklearn/svm/_base.py:299: ConvergenceWarning: Solver terminated early (max_iter=50000).  Consider pre-processing your data with StandardScaler or MinMaxScaler.\n",
      "  warnings.warn(\n"
     ]
    },
    {
     "name": "stdout",
     "output_type": "stream",
     "text": [
      "[CV 2/15; 10/50] END model__C=1.976218934028007, model__epsilon=0.7476312062252299;, score=-27.429 total time=   1.3s\n",
      "[CV 3/15; 10/50] START model__C=1.976218934028007, model__epsilon=0.7476312062252299\n"
     ]
    },
    {
     "name": "stderr",
     "output_type": "stream",
     "text": [
      "/opt/anaconda3/lib/python3.9/site-packages/sklearn/svm/_base.py:299: ConvergenceWarning: Solver terminated early (max_iter=50000).  Consider pre-processing your data with StandardScaler or MinMaxScaler.\n",
      "  warnings.warn(\n"
     ]
    },
    {
     "name": "stdout",
     "output_type": "stream",
     "text": [
      "[CV 3/15; 10/50] END model__C=1.976218934028007, model__epsilon=0.7476312062252299;, score=-27.869 total time=   1.3s\n",
      "[CV 4/15; 10/50] START model__C=1.976218934028007, model__epsilon=0.7476312062252299\n"
     ]
    },
    {
     "name": "stderr",
     "output_type": "stream",
     "text": [
      "/opt/anaconda3/lib/python3.9/site-packages/sklearn/svm/_base.py:299: ConvergenceWarning: Solver terminated early (max_iter=50000).  Consider pre-processing your data with StandardScaler or MinMaxScaler.\n",
      "  warnings.warn(\n"
     ]
    },
    {
     "name": "stdout",
     "output_type": "stream",
     "text": [
      "[CV 4/15; 10/50] END model__C=1.976218934028007, model__epsilon=0.7476312062252299;, score=-26.380 total time=   1.3s\n",
      "[CV 5/15; 10/50] START model__C=1.976218934028007, model__epsilon=0.7476312062252299\n"
     ]
    },
    {
     "name": "stderr",
     "output_type": "stream",
     "text": [
      "/opt/anaconda3/lib/python3.9/site-packages/sklearn/svm/_base.py:299: ConvergenceWarning: Solver terminated early (max_iter=50000).  Consider pre-processing your data with StandardScaler or MinMaxScaler.\n",
      "  warnings.warn(\n"
     ]
    },
    {
     "name": "stdout",
     "output_type": "stream",
     "text": [
      "[CV 5/15; 10/50] END model__C=1.976218934028007, model__epsilon=0.7476312062252299;, score=-31.259 total time=   1.3s\n",
      "[CV 6/15; 10/50] START model__C=1.976218934028007, model__epsilon=0.7476312062252299\n"
     ]
    },
    {
     "name": "stderr",
     "output_type": "stream",
     "text": [
      "/opt/anaconda3/lib/python3.9/site-packages/sklearn/svm/_base.py:299: ConvergenceWarning: Solver terminated early (max_iter=50000).  Consider pre-processing your data with StandardScaler or MinMaxScaler.\n",
      "  warnings.warn(\n"
     ]
    },
    {
     "name": "stdout",
     "output_type": "stream",
     "text": [
      "[CV 6/15; 10/50] END model__C=1.976218934028007, model__epsilon=0.7476312062252299;, score=-25.962 total time=   1.3s\n",
      "[CV 7/15; 10/50] START model__C=1.976218934028007, model__epsilon=0.7476312062252299\n"
     ]
    },
    {
     "name": "stderr",
     "output_type": "stream",
     "text": [
      "/opt/anaconda3/lib/python3.9/site-packages/sklearn/svm/_base.py:299: ConvergenceWarning: Solver terminated early (max_iter=50000).  Consider pre-processing your data with StandardScaler or MinMaxScaler.\n",
      "  warnings.warn(\n"
     ]
    },
    {
     "name": "stdout",
     "output_type": "stream",
     "text": [
      "[CV 7/15; 10/50] END model__C=1.976218934028007, model__epsilon=0.7476312062252299;, score=-26.845 total time=   1.3s\n",
      "[CV 8/15; 10/50] START model__C=1.976218934028007, model__epsilon=0.7476312062252299\n"
     ]
    },
    {
     "name": "stderr",
     "output_type": "stream",
     "text": [
      "/opt/anaconda3/lib/python3.9/site-packages/sklearn/svm/_base.py:299: ConvergenceWarning: Solver terminated early (max_iter=50000).  Consider pre-processing your data with StandardScaler or MinMaxScaler.\n",
      "  warnings.warn(\n"
     ]
    },
    {
     "name": "stdout",
     "output_type": "stream",
     "text": [
      "[CV 8/15; 10/50] END model__C=1.976218934028007, model__epsilon=0.7476312062252299;, score=-28.986 total time=   1.3s\n",
      "[CV 9/15; 10/50] START model__C=1.976218934028007, model__epsilon=0.7476312062252299\n"
     ]
    },
    {
     "name": "stderr",
     "output_type": "stream",
     "text": [
      "/opt/anaconda3/lib/python3.9/site-packages/sklearn/svm/_base.py:299: ConvergenceWarning: Solver terminated early (max_iter=50000).  Consider pre-processing your data with StandardScaler or MinMaxScaler.\n",
      "  warnings.warn(\n"
     ]
    },
    {
     "name": "stdout",
     "output_type": "stream",
     "text": [
      "[CV 9/15; 10/50] END model__C=1.976218934028007, model__epsilon=0.7476312062252299;, score=-27.187 total time=   1.3s\n",
      "[CV 10/15; 10/50] START model__C=1.976218934028007, model__epsilon=0.7476312062252299\n"
     ]
    },
    {
     "name": "stderr",
     "output_type": "stream",
     "text": [
      "/opt/anaconda3/lib/python3.9/site-packages/sklearn/svm/_base.py:299: ConvergenceWarning: Solver terminated early (max_iter=50000).  Consider pre-processing your data with StandardScaler or MinMaxScaler.\n",
      "  warnings.warn(\n"
     ]
    },
    {
     "name": "stdout",
     "output_type": "stream",
     "text": [
      "[CV 10/15; 10/50] END model__C=1.976218934028007, model__epsilon=0.7476312062252299;, score=-29.906 total time=   1.3s\n",
      "[CV 11/15; 10/50] START model__C=1.976218934028007, model__epsilon=0.7476312062252299\n"
     ]
    },
    {
     "name": "stderr",
     "output_type": "stream",
     "text": [
      "/opt/anaconda3/lib/python3.9/site-packages/sklearn/svm/_base.py:299: ConvergenceWarning: Solver terminated early (max_iter=50000).  Consider pre-processing your data with StandardScaler or MinMaxScaler.\n",
      "  warnings.warn(\n"
     ]
    },
    {
     "name": "stdout",
     "output_type": "stream",
     "text": [
      "[CV 11/15; 10/50] END model__C=1.976218934028007, model__epsilon=0.7476312062252299;, score=-26.670 total time=   1.3s\n",
      "[CV 12/15; 10/50] START model__C=1.976218934028007, model__epsilon=0.7476312062252299\n"
     ]
    },
    {
     "name": "stderr",
     "output_type": "stream",
     "text": [
      "/opt/anaconda3/lib/python3.9/site-packages/sklearn/svm/_base.py:299: ConvergenceWarning: Solver terminated early (max_iter=50000).  Consider pre-processing your data with StandardScaler or MinMaxScaler.\n",
      "  warnings.warn(\n"
     ]
    },
    {
     "name": "stdout",
     "output_type": "stream",
     "text": [
      "[CV 12/15; 10/50] END model__C=1.976218934028007, model__epsilon=0.7476312062252299;, score=-26.520 total time=   1.3s\n",
      "[CV 13/15; 10/50] START model__C=1.976218934028007, model__epsilon=0.7476312062252299\n"
     ]
    },
    {
     "name": "stderr",
     "output_type": "stream",
     "text": [
      "/opt/anaconda3/lib/python3.9/site-packages/sklearn/svm/_base.py:299: ConvergenceWarning: Solver terminated early (max_iter=50000).  Consider pre-processing your data with StandardScaler or MinMaxScaler.\n",
      "  warnings.warn(\n"
     ]
    },
    {
     "name": "stdout",
     "output_type": "stream",
     "text": [
      "[CV 13/15; 10/50] END model__C=1.976218934028007, model__epsilon=0.7476312062252299;, score=-28.153 total time=   1.3s\n",
      "[CV 14/15; 10/50] START model__C=1.976218934028007, model__epsilon=0.7476312062252299\n"
     ]
    },
    {
     "name": "stderr",
     "output_type": "stream",
     "text": [
      "/opt/anaconda3/lib/python3.9/site-packages/sklearn/svm/_base.py:299: ConvergenceWarning: Solver terminated early (max_iter=50000).  Consider pre-processing your data with StandardScaler or MinMaxScaler.\n",
      "  warnings.warn(\n"
     ]
    },
    {
     "name": "stdout",
     "output_type": "stream",
     "text": [
      "[CV 14/15; 10/50] END model__C=1.976218934028007, model__epsilon=0.7476312062252299;, score=-26.651 total time=   1.3s\n",
      "[CV 15/15; 10/50] START model__C=1.976218934028007, model__epsilon=0.7476312062252299\n"
     ]
    },
    {
     "name": "stderr",
     "output_type": "stream",
     "text": [
      "/opt/anaconda3/lib/python3.9/site-packages/sklearn/svm/_base.py:299: ConvergenceWarning: Solver terminated early (max_iter=50000).  Consider pre-processing your data with StandardScaler or MinMaxScaler.\n",
      "  warnings.warn(\n"
     ]
    },
    {
     "name": "stdout",
     "output_type": "stream",
     "text": [
      "[CV 15/15; 10/50] END model__C=1.976218934028007, model__epsilon=0.7476312062252299;, score=-31.197 total time=   1.3s\n",
      "[CV 1/15; 11/50] START model__C=6.847920095574778, model__epsilon=0.262108787826544\n"
     ]
    },
    {
     "name": "stderr",
     "output_type": "stream",
     "text": [
      "/opt/anaconda3/lib/python3.9/site-packages/sklearn/svm/_base.py:299: ConvergenceWarning: Solver terminated early (max_iter=50000).  Consider pre-processing your data with StandardScaler or MinMaxScaler.\n",
      "  warnings.warn(\n"
     ]
    },
    {
     "name": "stdout",
     "output_type": "stream",
     "text": [
      "[CV 1/15; 11/50] END model__C=6.847920095574778, model__epsilon=0.262108787826544;, score=-24.311 total time=   1.8s\n",
      "[CV 2/15; 11/50] START model__C=6.847920095574778, model__epsilon=0.262108787826544\n"
     ]
    },
    {
     "name": "stderr",
     "output_type": "stream",
     "text": [
      "/opt/anaconda3/lib/python3.9/site-packages/sklearn/svm/_base.py:299: ConvergenceWarning: Solver terminated early (max_iter=50000).  Consider pre-processing your data with StandardScaler or MinMaxScaler.\n",
      "  warnings.warn(\n"
     ]
    },
    {
     "name": "stdout",
     "output_type": "stream",
     "text": [
      "[CV 2/15; 11/50] END model__C=6.847920095574778, model__epsilon=0.262108787826544;, score=-25.803 total time=   1.8s\n",
      "[CV 3/15; 11/50] START model__C=6.847920095574778, model__epsilon=0.262108787826544\n"
     ]
    },
    {
     "name": "stderr",
     "output_type": "stream",
     "text": [
      "/opt/anaconda3/lib/python3.9/site-packages/sklearn/svm/_base.py:299: ConvergenceWarning: Solver terminated early (max_iter=50000).  Consider pre-processing your data with StandardScaler or MinMaxScaler.\n",
      "  warnings.warn(\n"
     ]
    },
    {
     "name": "stdout",
     "output_type": "stream",
     "text": [
      "[CV 3/15; 11/50] END model__C=6.847920095574778, model__epsilon=0.262108787826544;, score=-26.017 total time=   1.8s\n",
      "[CV 4/15; 11/50] START model__C=6.847920095574778, model__epsilon=0.262108787826544\n"
     ]
    },
    {
     "name": "stderr",
     "output_type": "stream",
     "text": [
      "/opt/anaconda3/lib/python3.9/site-packages/sklearn/svm/_base.py:299: ConvergenceWarning: Solver terminated early (max_iter=50000).  Consider pre-processing your data with StandardScaler or MinMaxScaler.\n",
      "  warnings.warn(\n"
     ]
    },
    {
     "name": "stdout",
     "output_type": "stream",
     "text": [
      "[CV 4/15; 11/50] END model__C=6.847920095574778, model__epsilon=0.262108787826544;, score=-25.139 total time=   1.8s\n",
      "[CV 5/15; 11/50] START model__C=6.847920095574778, model__epsilon=0.262108787826544\n"
     ]
    },
    {
     "name": "stderr",
     "output_type": "stream",
     "text": [
      "/opt/anaconda3/lib/python3.9/site-packages/sklearn/svm/_base.py:299: ConvergenceWarning: Solver terminated early (max_iter=50000).  Consider pre-processing your data with StandardScaler or MinMaxScaler.\n",
      "  warnings.warn(\n"
     ]
    },
    {
     "name": "stdout",
     "output_type": "stream",
     "text": [
      "[CV 5/15; 11/50] END model__C=6.847920095574778, model__epsilon=0.262108787826544;, score=-29.210 total time=   1.8s\n",
      "[CV 6/15; 11/50] START model__C=6.847920095574778, model__epsilon=0.262108787826544\n"
     ]
    },
    {
     "name": "stderr",
     "output_type": "stream",
     "text": [
      "/opt/anaconda3/lib/python3.9/site-packages/sklearn/svm/_base.py:299: ConvergenceWarning: Solver terminated early (max_iter=50000).  Consider pre-processing your data with StandardScaler or MinMaxScaler.\n",
      "  warnings.warn(\n"
     ]
    },
    {
     "name": "stdout",
     "output_type": "stream",
     "text": [
      "[CV 6/15; 11/50] END model__C=6.847920095574778, model__epsilon=0.262108787826544;, score=-23.881 total time=   1.8s\n",
      "[CV 7/15; 11/50] START model__C=6.847920095574778, model__epsilon=0.262108787826544\n"
     ]
    },
    {
     "name": "stderr",
     "output_type": "stream",
     "text": [
      "/opt/anaconda3/lib/python3.9/site-packages/sklearn/svm/_base.py:299: ConvergenceWarning: Solver terminated early (max_iter=50000).  Consider pre-processing your data with StandardScaler or MinMaxScaler.\n",
      "  warnings.warn(\n"
     ]
    },
    {
     "name": "stdout",
     "output_type": "stream",
     "text": [
      "[CV 7/15; 11/50] END model__C=6.847920095574778, model__epsilon=0.262108787826544;, score=-25.276 total time=   1.8s\n",
      "[CV 8/15; 11/50] START model__C=6.847920095574778, model__epsilon=0.262108787826544\n"
     ]
    },
    {
     "name": "stderr",
     "output_type": "stream",
     "text": [
      "/opt/anaconda3/lib/python3.9/site-packages/sklearn/svm/_base.py:299: ConvergenceWarning: Solver terminated early (max_iter=50000).  Consider pre-processing your data with StandardScaler or MinMaxScaler.\n",
      "  warnings.warn(\n"
     ]
    },
    {
     "name": "stdout",
     "output_type": "stream",
     "text": [
      "[CV 8/15; 11/50] END model__C=6.847920095574778, model__epsilon=0.262108787826544;, score=-28.071 total time=   1.8s\n",
      "[CV 9/15; 11/50] START model__C=6.847920095574778, model__epsilon=0.262108787826544\n"
     ]
    },
    {
     "name": "stderr",
     "output_type": "stream",
     "text": [
      "/opt/anaconda3/lib/python3.9/site-packages/sklearn/svm/_base.py:299: ConvergenceWarning: Solver terminated early (max_iter=50000).  Consider pre-processing your data with StandardScaler or MinMaxScaler.\n",
      "  warnings.warn(\n"
     ]
    },
    {
     "name": "stdout",
     "output_type": "stream",
     "text": [
      "[CV 9/15; 11/50] END model__C=6.847920095574778, model__epsilon=0.262108787826544;, score=-25.723 total time=   1.8s\n",
      "[CV 10/15; 11/50] START model__C=6.847920095574778, model__epsilon=0.262108787826544\n"
     ]
    },
    {
     "name": "stderr",
     "output_type": "stream",
     "text": [
      "/opt/anaconda3/lib/python3.9/site-packages/sklearn/svm/_base.py:299: ConvergenceWarning: Solver terminated early (max_iter=50000).  Consider pre-processing your data with StandardScaler or MinMaxScaler.\n",
      "  warnings.warn(\n"
     ]
    },
    {
     "name": "stdout",
     "output_type": "stream",
     "text": [
      "[CV 10/15; 11/50] END model__C=6.847920095574778, model__epsilon=0.262108787826544;, score=-27.678 total time=   1.8s\n",
      "[CV 11/15; 11/50] START model__C=6.847920095574778, model__epsilon=0.262108787826544\n"
     ]
    },
    {
     "name": "stderr",
     "output_type": "stream",
     "text": [
      "/opt/anaconda3/lib/python3.9/site-packages/sklearn/svm/_base.py:299: ConvergenceWarning: Solver terminated early (max_iter=50000).  Consider pre-processing your data with StandardScaler or MinMaxScaler.\n",
      "  warnings.warn(\n"
     ]
    },
    {
     "name": "stdout",
     "output_type": "stream",
     "text": [
      "[CV 11/15; 11/50] END model__C=6.847920095574778, model__epsilon=0.262108787826544;, score=-25.737 total time=   1.8s\n",
      "[CV 12/15; 11/50] START model__C=6.847920095574778, model__epsilon=0.262108787826544\n"
     ]
    },
    {
     "name": "stderr",
     "output_type": "stream",
     "text": [
      "/opt/anaconda3/lib/python3.9/site-packages/sklearn/svm/_base.py:299: ConvergenceWarning: Solver terminated early (max_iter=50000).  Consider pre-processing your data with StandardScaler or MinMaxScaler.\n",
      "  warnings.warn(\n"
     ]
    },
    {
     "name": "stdout",
     "output_type": "stream",
     "text": [
      "[CV 12/15; 11/50] END model__C=6.847920095574778, model__epsilon=0.262108787826544;, score=-24.703 total time=   1.8s\n",
      "[CV 13/15; 11/50] START model__C=6.847920095574778, model__epsilon=0.262108787826544\n"
     ]
    },
    {
     "name": "stderr",
     "output_type": "stream",
     "text": [
      "/opt/anaconda3/lib/python3.9/site-packages/sklearn/svm/_base.py:299: ConvergenceWarning: Solver terminated early (max_iter=50000).  Consider pre-processing your data with StandardScaler or MinMaxScaler.\n",
      "  warnings.warn(\n"
     ]
    },
    {
     "name": "stdout",
     "output_type": "stream",
     "text": [
      "[CV 13/15; 11/50] END model__C=6.847920095574778, model__epsilon=0.262108787826544;, score=-26.096 total time=   1.8s\n",
      "[CV 14/15; 11/50] START model__C=6.847920095574778, model__epsilon=0.262108787826544\n"
     ]
    },
    {
     "name": "stderr",
     "output_type": "stream",
     "text": [
      "/opt/anaconda3/lib/python3.9/site-packages/sklearn/svm/_base.py:299: ConvergenceWarning: Solver terminated early (max_iter=50000).  Consider pre-processing your data with StandardScaler or MinMaxScaler.\n",
      "  warnings.warn(\n"
     ]
    },
    {
     "name": "stdout",
     "output_type": "stream",
     "text": [
      "[CV 14/15; 11/50] END model__C=6.847920095574778, model__epsilon=0.262108787826544;, score=-25.345 total time=   1.8s\n",
      "[CV 15/15; 11/50] START model__C=6.847920095574778, model__epsilon=0.262108787826544\n"
     ]
    },
    {
     "name": "stderr",
     "output_type": "stream",
     "text": [
      "/opt/anaconda3/lib/python3.9/site-packages/sklearn/svm/_base.py:299: ConvergenceWarning: Solver terminated early (max_iter=50000).  Consider pre-processing your data with StandardScaler or MinMaxScaler.\n",
      "  warnings.warn(\n"
     ]
    },
    {
     "name": "stdout",
     "output_type": "stream",
     "text": [
      "[CV 15/15; 11/50] END model__C=6.847920095574778, model__epsilon=0.262108787826544;, score=-29.223 total time=   1.9s\n",
      "[CV 1/15; 12/50] START model__C=0.7523742884534856, model__epsilon=1.2562773503807025\n",
      "[CV 1/15; 12/50] END model__C=0.7523742884534856, model__epsilon=1.2562773503807025;, score=-29.139 total time=   1.1s\n",
      "[CV 2/15; 12/50] START model__C=0.7523742884534856, model__epsilon=1.2562773503807025\n",
      "[CV 2/15; 12/50] END model__C=0.7523742884534856, model__epsilon=1.2562773503807025;, score=-30.131 total time=   1.2s\n",
      "[CV 3/15; 12/50] START model__C=0.7523742884534856, model__epsilon=1.2562773503807025\n",
      "[CV 3/15; 12/50] END model__C=0.7523742884534856, model__epsilon=1.2562773503807025;, score=-31.092 total time=   1.2s\n",
      "[CV 4/15; 12/50] START model__C=0.7523742884534856, model__epsilon=1.2562773503807025\n",
      "[CV 4/15; 12/50] END model__C=0.7523742884534856, model__epsilon=1.2562773503807025;, score=-29.180 total time=   1.2s\n",
      "[CV 5/15; 12/50] START model__C=0.7523742884534856, model__epsilon=1.2562773503807025\n",
      "[CV 5/15; 12/50] END model__C=0.7523742884534856, model__epsilon=1.2562773503807025;, score=-34.380 total time=   1.1s\n",
      "[CV 6/15; 12/50] START model__C=0.7523742884534856, model__epsilon=1.2562773503807025\n",
      "[CV 6/15; 12/50] END model__C=0.7523742884534856, model__epsilon=1.2562773503807025;, score=-29.231 total time=   1.1s\n",
      "[CV 7/15; 12/50] START model__C=0.7523742884534856, model__epsilon=1.2562773503807025\n",
      "[CV 7/15; 12/50] END model__C=0.7523742884534856, model__epsilon=1.2562773503807025;, score=-29.711 total time=   1.1s\n",
      "[CV 8/15; 12/50] START model__C=0.7523742884534856, model__epsilon=1.2562773503807025\n",
      "[CV 8/15; 12/50] END model__C=0.7523742884534856, model__epsilon=1.2562773503807025;, score=-31.418 total time=   1.1s\n",
      "[CV 9/15; 12/50] START model__C=0.7523742884534856, model__epsilon=1.2562773503807025\n",
      "[CV 9/15; 12/50] END model__C=0.7523742884534856, model__epsilon=1.2562773503807025;, score=-29.822 total time=   1.2s\n",
      "[CV 10/15; 12/50] START model__C=0.7523742884534856, model__epsilon=1.2562773503807025\n",
      "[CV 10/15; 12/50] END model__C=0.7523742884534856, model__epsilon=1.2562773503807025;, score=-33.646 total time=   1.2s\n",
      "[CV 11/15; 12/50] START model__C=0.7523742884534856, model__epsilon=1.2562773503807025\n",
      "[CV 11/15; 12/50] END model__C=0.7523742884534856, model__epsilon=1.2562773503807025;, score=-29.453 total time=   1.1s\n",
      "[CV 12/15; 12/50] START model__C=0.7523742884534856, model__epsilon=1.2562773503807025\n",
      "[CV 12/15; 12/50] END model__C=0.7523742884534856, model__epsilon=1.2562773503807025;, score=-29.686 total time=   1.1s\n",
      "[CV 13/15; 12/50] START model__C=0.7523742884534856, model__epsilon=1.2562773503807025\n",
      "[CV 13/15; 12/50] END model__C=0.7523742884534856, model__epsilon=1.2562773503807025;, score=-31.337 total time=   1.1s\n",
      "[CV 14/15; 12/50] START model__C=0.7523742884534856, model__epsilon=1.2562773503807025\n",
      "[CV 14/15; 12/50] END model__C=0.7523742884534856, model__epsilon=1.2562773503807025;, score=-29.303 total time=   1.1s\n",
      "[CV 15/15; 12/50] START model__C=0.7523742884534856, model__epsilon=1.2562773503807025\n",
      "[CV 15/15; 12/50] END model__C=0.7523742884534856, model__epsilon=1.2562773503807025;, score=-34.105 total time=   1.1s\n",
      "[CV 1/15; 13/50] START model__C=2.334586407601624, model__epsilon=22.673986523780385\n",
      "[CV 1/15; 13/50] END model__C=2.334586407601624, model__epsilon=22.673986523780385;, score=-31.244 total time=   0.4s\n",
      "[CV 2/15; 13/50] START model__C=2.334586407601624, model__epsilon=22.673986523780385\n",
      "[CV 2/15; 13/50] END model__C=2.334586407601624, model__epsilon=22.673986523780385;, score=-32.828 total time=   0.5s\n",
      "[CV 3/15; 13/50] START model__C=2.334586407601624, model__epsilon=22.673986523780385\n",
      "[CV 3/15; 13/50] END model__C=2.334586407601624, model__epsilon=22.673986523780385;, score=-32.961 total time=   0.4s\n",
      "[CV 4/15; 13/50] START model__C=2.334586407601624, model__epsilon=22.673986523780385\n",
      "[CV 4/15; 13/50] END model__C=2.334586407601624, model__epsilon=22.673986523780385;, score=-31.876 total time=   0.4s\n",
      "[CV 5/15; 13/50] START model__C=2.334586407601624, model__epsilon=22.673986523780385\n",
      "[CV 5/15; 13/50] END model__C=2.334586407601624, model__epsilon=22.673986523780385;, score=-37.128 total time=   0.4s\n",
      "[CV 6/15; 13/50] START model__C=2.334586407601624, model__epsilon=22.673986523780385\n",
      "[CV 6/15; 13/50] END model__C=2.334586407601624, model__epsilon=22.673986523780385;, score=-31.889 total time=   0.4s\n",
      "[CV 7/15; 13/50] START model__C=2.334586407601624, model__epsilon=22.673986523780385\n",
      "[CV 7/15; 13/50] END model__C=2.334586407601624, model__epsilon=22.673986523780385;, score=-32.583 total time=   0.4s\n",
      "[CV 8/15; 13/50] START model__C=2.334586407601624, model__epsilon=22.673986523780385\n",
      "[CV 8/15; 13/50] END model__C=2.334586407601624, model__epsilon=22.673986523780385;, score=-33.812 total time=   0.4s\n",
      "[CV 9/15; 13/50] START model__C=2.334586407601624, model__epsilon=22.673986523780385\n",
      "[CV 9/15; 13/50] END model__C=2.334586407601624, model__epsilon=22.673986523780385;, score=-32.564 total time=   0.4s\n",
      "[CV 10/15; 13/50] START model__C=2.334586407601624, model__epsilon=22.673986523780385\n",
      "[CV 10/15; 13/50] END model__C=2.334586407601624, model__epsilon=22.673986523780385;, score=-35.514 total time=   0.4s\n",
      "[CV 11/15; 13/50] START model__C=2.334586407601624, model__epsilon=22.673986523780385\n",
      "[CV 11/15; 13/50] END model__C=2.334586407601624, model__epsilon=22.673986523780385;, score=-32.189 total time=   0.4s\n",
      "[CV 12/15; 13/50] START model__C=2.334586407601624, model__epsilon=22.673986523780385\n",
      "[CV 12/15; 13/50] END model__C=2.334586407601624, model__epsilon=22.673986523780385;, score=-32.255 total time=   0.4s\n",
      "[CV 13/15; 13/50] START model__C=2.334586407601624, model__epsilon=22.673986523780385\n",
      "[CV 13/15; 13/50] END model__C=2.334586407601624, model__epsilon=22.673986523780385;, score=-33.137 total time=   0.4s\n",
      "[CV 14/15; 13/50] START model__C=2.334586407601624, model__epsilon=22.673986523780385\n",
      "[CV 14/15; 13/50] END model__C=2.334586407601624, model__epsilon=22.673986523780385;, score=-32.087 total time=   0.4s\n",
      "[CV 15/15; 13/50] START model__C=2.334586407601624, model__epsilon=22.673986523780385\n",
      "[CV 15/15; 13/50] END model__C=2.334586407601624, model__epsilon=22.673986523780385;, score=-36.574 total time=   0.4s\n",
      "[CV 1/15; 14/50] START model__C=0.3972110727381912, model__epsilon=3.4890188454913864\n",
      "[CV 1/15; 14/50] END model__C=0.3972110727381912, model__epsilon=3.4890188454913864;, score=-31.859 total time=   0.9s\n",
      "[CV 2/15; 14/50] START model__C=0.3972110727381912, model__epsilon=3.4890188454913864\n",
      "[CV 2/15; 14/50] END model__C=0.3972110727381912, model__epsilon=3.4890188454913864;, score=-32.359 total time=   0.9s\n",
      "[CV 3/15; 14/50] START model__C=0.3972110727381912, model__epsilon=3.4890188454913864\n",
      "[CV 3/15; 14/50] END model__C=0.3972110727381912, model__epsilon=3.4890188454913864;, score=-33.554 total time=   0.9s\n",
      "[CV 4/15; 14/50] START model__C=0.3972110727381912, model__epsilon=3.4890188454913864\n",
      "[CV 4/15; 14/50] END model__C=0.3972110727381912, model__epsilon=3.4890188454913864;, score=-31.813 total time=   0.9s\n",
      "[CV 5/15; 14/50] START model__C=0.3972110727381912, model__epsilon=3.4890188454913864\n",
      "[CV 5/15; 14/50] END model__C=0.3972110727381912, model__epsilon=3.4890188454913864;, score=-36.833 total time=   0.9s\n",
      "[CV 6/15; 14/50] START model__C=0.3972110727381912, model__epsilon=3.4890188454913864\n",
      "[CV 6/15; 14/50] END model__C=0.3972110727381912, model__epsilon=3.4890188454913864;, score=-31.803 total time=   0.9s\n",
      "[CV 7/15; 14/50] START model__C=0.3972110727381912, model__epsilon=3.4890188454913864\n",
      "[CV 7/15; 14/50] END model__C=0.3972110727381912, model__epsilon=3.4890188454913864;, score=-32.261 total time=   0.9s\n",
      "[CV 8/15; 14/50] START model__C=0.3972110727381912, model__epsilon=3.4890188454913864\n",
      "[CV 8/15; 14/50] END model__C=0.3972110727381912, model__epsilon=3.4890188454913864;, score=-33.787 total time=   0.9s\n",
      "[CV 9/15; 14/50] START model__C=0.3972110727381912, model__epsilon=3.4890188454913864\n",
      "[CV 9/15; 14/50] END model__C=0.3972110727381912, model__epsilon=3.4890188454913864;, score=-32.157 total time=   0.9s\n",
      "[CV 10/15; 14/50] START model__C=0.3972110727381912, model__epsilon=3.4890188454913864\n"
     ]
    },
    {
     "name": "stdout",
     "output_type": "stream",
     "text": [
      "[CV 10/15; 14/50] END model__C=0.3972110727381912, model__epsilon=3.4890188454913864;, score=-36.338 total time=   0.9s\n",
      "[CV 11/15; 14/50] START model__C=0.3972110727381912, model__epsilon=3.4890188454913864\n",
      "[CV 11/15; 14/50] END model__C=0.3972110727381912, model__epsilon=3.4890188454913864;, score=-31.976 total time=   0.9s\n",
      "[CV 12/15; 14/50] START model__C=0.3972110727381912, model__epsilon=3.4890188454913864\n",
      "[CV 12/15; 14/50] END model__C=0.3972110727381912, model__epsilon=3.4890188454913864;, score=-32.172 total time=   0.9s\n",
      "[CV 13/15; 14/50] START model__C=0.3972110727381912, model__epsilon=3.4890188454913864\n",
      "[CV 13/15; 14/50] END model__C=0.3972110727381912, model__epsilon=3.4890188454913864;, score=-33.904 total time=   0.9s\n",
      "[CV 14/15; 14/50] START model__C=0.3972110727381912, model__epsilon=3.4890188454913864\n",
      "[CV 14/15; 14/50] END model__C=0.3972110727381912, model__epsilon=3.4890188454913864;, score=-31.708 total time=   0.9s\n",
      "[CV 15/15; 14/50] START model__C=0.3972110727381912, model__epsilon=3.4890188454913864\n",
      "[CV 15/15; 14/50] END model__C=0.3972110727381912, model__epsilon=3.4890188454913864;, score=-36.467 total time=   0.9s\n",
      "[CV 1/15; 15/50] START model__C=5.9874749104613985, model__epsilon=0.13783237455007183\n"
     ]
    },
    {
     "name": "stderr",
     "output_type": "stream",
     "text": [
      "/opt/anaconda3/lib/python3.9/site-packages/sklearn/svm/_base.py:299: ConvergenceWarning: Solver terminated early (max_iter=50000).  Consider pre-processing your data with StandardScaler or MinMaxScaler.\n",
      "  warnings.warn(\n"
     ]
    },
    {
     "name": "stdout",
     "output_type": "stream",
     "text": [
      "[CV 1/15; 15/50] END model__C=5.9874749104613985, model__epsilon=0.13783237455007183;, score=-24.382 total time=   1.8s\n",
      "[CV 2/15; 15/50] START model__C=5.9874749104613985, model__epsilon=0.13783237455007183\n"
     ]
    },
    {
     "name": "stderr",
     "output_type": "stream",
     "text": [
      "/opt/anaconda3/lib/python3.9/site-packages/sklearn/svm/_base.py:299: ConvergenceWarning: Solver terminated early (max_iter=50000).  Consider pre-processing your data with StandardScaler or MinMaxScaler.\n",
      "  warnings.warn(\n"
     ]
    },
    {
     "name": "stdout",
     "output_type": "stream",
     "text": [
      "[CV 2/15; 15/50] END model__C=5.9874749104613985, model__epsilon=0.13783237455007183;, score=-25.859 total time=   1.8s\n",
      "[CV 3/15; 15/50] START model__C=5.9874749104613985, model__epsilon=0.13783237455007183\n"
     ]
    },
    {
     "name": "stderr",
     "output_type": "stream",
     "text": [
      "/opt/anaconda3/lib/python3.9/site-packages/sklearn/svm/_base.py:299: ConvergenceWarning: Solver terminated early (max_iter=50000).  Consider pre-processing your data with StandardScaler or MinMaxScaler.\n",
      "  warnings.warn(\n"
     ]
    },
    {
     "name": "stdout",
     "output_type": "stream",
     "text": [
      "[CV 3/15; 15/50] END model__C=5.9874749104613985, model__epsilon=0.13783237455007183;, score=-26.096 total time=   1.8s\n",
      "[CV 4/15; 15/50] START model__C=5.9874749104613985, model__epsilon=0.13783237455007183\n"
     ]
    },
    {
     "name": "stderr",
     "output_type": "stream",
     "text": [
      "/opt/anaconda3/lib/python3.9/site-packages/sklearn/svm/_base.py:299: ConvergenceWarning: Solver terminated early (max_iter=50000).  Consider pre-processing your data with StandardScaler or MinMaxScaler.\n",
      "  warnings.warn(\n"
     ]
    },
    {
     "name": "stdout",
     "output_type": "stream",
     "text": [
      "[CV 4/15; 15/50] END model__C=5.9874749104613985, model__epsilon=0.13783237455007183;, score=-25.135 total time=   1.8s\n",
      "[CV 5/15; 15/50] START model__C=5.9874749104613985, model__epsilon=0.13783237455007183\n"
     ]
    },
    {
     "name": "stderr",
     "output_type": "stream",
     "text": [
      "/opt/anaconda3/lib/python3.9/site-packages/sklearn/svm/_base.py:299: ConvergenceWarning: Solver terminated early (max_iter=50000).  Consider pre-processing your data with StandardScaler or MinMaxScaler.\n",
      "  warnings.warn(\n"
     ]
    },
    {
     "name": "stdout",
     "output_type": "stream",
     "text": [
      "[CV 5/15; 15/50] END model__C=5.9874749104613985, model__epsilon=0.13783237455007183;, score=-29.360 total time=   1.8s\n",
      "[CV 6/15; 15/50] START model__C=5.9874749104613985, model__epsilon=0.13783237455007183\n"
     ]
    },
    {
     "name": "stderr",
     "output_type": "stream",
     "text": [
      "/opt/anaconda3/lib/python3.9/site-packages/sklearn/svm/_base.py:299: ConvergenceWarning: Solver terminated early (max_iter=50000).  Consider pre-processing your data with StandardScaler or MinMaxScaler.\n",
      "  warnings.warn(\n"
     ]
    },
    {
     "name": "stdout",
     "output_type": "stream",
     "text": [
      "[CV 6/15; 15/50] END model__C=5.9874749104613985, model__epsilon=0.13783237455007183;, score=-23.944 total time=   1.8s\n",
      "[CV 7/15; 15/50] START model__C=5.9874749104613985, model__epsilon=0.13783237455007183\n"
     ]
    },
    {
     "name": "stderr",
     "output_type": "stream",
     "text": [
      "/opt/anaconda3/lib/python3.9/site-packages/sklearn/svm/_base.py:299: ConvergenceWarning: Solver terminated early (max_iter=50000).  Consider pre-processing your data with StandardScaler or MinMaxScaler.\n",
      "  warnings.warn(\n"
     ]
    },
    {
     "name": "stdout",
     "output_type": "stream",
     "text": [
      "[CV 7/15; 15/50] END model__C=5.9874749104613985, model__epsilon=0.13783237455007183;, score=-25.361 total time=   1.8s\n",
      "[CV 8/15; 15/50] START model__C=5.9874749104613985, model__epsilon=0.13783237455007183\n"
     ]
    },
    {
     "name": "stderr",
     "output_type": "stream",
     "text": [
      "/opt/anaconda3/lib/python3.9/site-packages/sklearn/svm/_base.py:299: ConvergenceWarning: Solver terminated early (max_iter=50000).  Consider pre-processing your data with StandardScaler or MinMaxScaler.\n",
      "  warnings.warn(\n"
     ]
    },
    {
     "name": "stdout",
     "output_type": "stream",
     "text": [
      "[CV 8/15; 15/50] END model__C=5.9874749104613985, model__epsilon=0.13783237455007183;, score=-28.089 total time=   1.8s\n",
      "[CV 9/15; 15/50] START model__C=5.9874749104613985, model__epsilon=0.13783237455007183\n"
     ]
    },
    {
     "name": "stderr",
     "output_type": "stream",
     "text": [
      "/opt/anaconda3/lib/python3.9/site-packages/sklearn/svm/_base.py:299: ConvergenceWarning: Solver terminated early (max_iter=50000).  Consider pre-processing your data with StandardScaler or MinMaxScaler.\n",
      "  warnings.warn(\n"
     ]
    },
    {
     "name": "stdout",
     "output_type": "stream",
     "text": [
      "[CV 9/15; 15/50] END model__C=5.9874749104613985, model__epsilon=0.13783237455007183;, score=-25.828 total time=   1.8s\n",
      "[CV 10/15; 15/50] START model__C=5.9874749104613985, model__epsilon=0.13783237455007183\n"
     ]
    },
    {
     "name": "stderr",
     "output_type": "stream",
     "text": [
      "/opt/anaconda3/lib/python3.9/site-packages/sklearn/svm/_base.py:299: ConvergenceWarning: Solver terminated early (max_iter=50000).  Consider pre-processing your data with StandardScaler or MinMaxScaler.\n",
      "  warnings.warn(\n"
     ]
    },
    {
     "name": "stdout",
     "output_type": "stream",
     "text": [
      "[CV 10/15; 15/50] END model__C=5.9874749104613985, model__epsilon=0.13783237455007183;, score=-27.794 total time=   1.8s\n",
      "[CV 11/15; 15/50] START model__C=5.9874749104613985, model__epsilon=0.13783237455007183\n"
     ]
    },
    {
     "name": "stderr",
     "output_type": "stream",
     "text": [
      "/opt/anaconda3/lib/python3.9/site-packages/sklearn/svm/_base.py:299: ConvergenceWarning: Solver terminated early (max_iter=50000).  Consider pre-processing your data with StandardScaler or MinMaxScaler.\n",
      "  warnings.warn(\n"
     ]
    },
    {
     "name": "stdout",
     "output_type": "stream",
     "text": [
      "[CV 11/15; 15/50] END model__C=5.9874749104613985, model__epsilon=0.13783237455007183;, score=-25.627 total time=   1.8s\n",
      "[CV 12/15; 15/50] START model__C=5.9874749104613985, model__epsilon=0.13783237455007183\n"
     ]
    },
    {
     "name": "stderr",
     "output_type": "stream",
     "text": [
      "/opt/anaconda3/lib/python3.9/site-packages/sklearn/svm/_base.py:299: ConvergenceWarning: Solver terminated early (max_iter=50000).  Consider pre-processing your data with StandardScaler or MinMaxScaler.\n",
      "  warnings.warn(\n"
     ]
    },
    {
     "name": "stdout",
     "output_type": "stream",
     "text": [
      "[CV 12/15; 15/50] END model__C=5.9874749104613985, model__epsilon=0.13783237455007183;, score=-24.810 total time=   1.8s\n",
      "[CV 13/15; 15/50] START model__C=5.9874749104613985, model__epsilon=0.13783237455007183\n"
     ]
    },
    {
     "name": "stderr",
     "output_type": "stream",
     "text": [
      "/opt/anaconda3/lib/python3.9/site-packages/sklearn/svm/_base.py:299: ConvergenceWarning: Solver terminated early (max_iter=50000).  Consider pre-processing your data with StandardScaler or MinMaxScaler.\n",
      "  warnings.warn(\n"
     ]
    },
    {
     "name": "stdout",
     "output_type": "stream",
     "text": [
      "[CV 13/15; 15/50] END model__C=5.9874749104613985, model__epsilon=0.13783237455007183;, score=-26.199 total time=   1.8s\n",
      "[CV 14/15; 15/50] START model__C=5.9874749104613985, model__epsilon=0.13783237455007183\n"
     ]
    },
    {
     "name": "stderr",
     "output_type": "stream",
     "text": [
      "/opt/anaconda3/lib/python3.9/site-packages/sklearn/svm/_base.py:299: ConvergenceWarning: Solver terminated early (max_iter=50000).  Consider pre-processing your data with StandardScaler or MinMaxScaler.\n",
      "  warnings.warn(\n"
     ]
    },
    {
     "name": "stdout",
     "output_type": "stream",
     "text": [
      "[CV 14/15; 15/50] END model__C=5.9874749104613985, model__epsilon=0.13783237455007183;, score=-25.364 total time=   1.8s\n",
      "[CV 15/15; 15/50] START model__C=5.9874749104613985, model__epsilon=0.13783237455007183\n"
     ]
    },
    {
     "name": "stderr",
     "output_type": "stream",
     "text": [
      "/opt/anaconda3/lib/python3.9/site-packages/sklearn/svm/_base.py:299: ConvergenceWarning: Solver terminated early (max_iter=50000).  Consider pre-processing your data with StandardScaler or MinMaxScaler.\n",
      "  warnings.warn(\n"
     ]
    },
    {
     "name": "stdout",
     "output_type": "stream",
     "text": [
      "[CV 15/15; 15/50] END model__C=5.9874749104613985, model__epsilon=0.13783237455007183;, score=-29.290 total time=   1.8s\n",
      "[CV 1/15; 16/50] START model__C=6.647135865318027, model__epsilon=0.32476735706274484\n"
     ]
    },
    {
     "name": "stderr",
     "output_type": "stream",
     "text": [
      "/opt/anaconda3/lib/python3.9/site-packages/sklearn/svm/_base.py:299: ConvergenceWarning: Solver terminated early (max_iter=50000).  Consider pre-processing your data with StandardScaler or MinMaxScaler.\n",
      "  warnings.warn(\n"
     ]
    },
    {
     "name": "stdout",
     "output_type": "stream",
     "text": [
      "[CV 1/15; 16/50] END model__C=6.647135865318027, model__epsilon=0.32476735706274484;, score=-24.319 total time=   1.8s\n",
      "[CV 2/15; 16/50] START model__C=6.647135865318027, model__epsilon=0.32476735706274484\n"
     ]
    },
    {
     "name": "stderr",
     "output_type": "stream",
     "text": [
      "/opt/anaconda3/lib/python3.9/site-packages/sklearn/svm/_base.py:299: ConvergenceWarning: Solver terminated early (max_iter=50000).  Consider pre-processing your data with StandardScaler or MinMaxScaler.\n",
      "  warnings.warn(\n"
     ]
    },
    {
     "name": "stdout",
     "output_type": "stream",
     "text": [
      "[CV 2/15; 16/50] END model__C=6.647135865318027, model__epsilon=0.32476735706274484;, score=-25.856 total time=   1.8s\n",
      "[CV 3/15; 16/50] START model__C=6.647135865318027, model__epsilon=0.32476735706274484\n"
     ]
    },
    {
     "name": "stderr",
     "output_type": "stream",
     "text": [
      "/opt/anaconda3/lib/python3.9/site-packages/sklearn/svm/_base.py:299: ConvergenceWarning: Solver terminated early (max_iter=50000).  Consider pre-processing your data with StandardScaler or MinMaxScaler.\n",
      "  warnings.warn(\n"
     ]
    },
    {
     "name": "stdout",
     "output_type": "stream",
     "text": [
      "[CV 3/15; 16/50] END model__C=6.647135865318027, model__epsilon=0.32476735706274484;, score=-26.032 total time=   1.8s\n",
      "[CV 4/15; 16/50] START model__C=6.647135865318027, model__epsilon=0.32476735706274484\n"
     ]
    },
    {
     "name": "stderr",
     "output_type": "stream",
     "text": [
      "/opt/anaconda3/lib/python3.9/site-packages/sklearn/svm/_base.py:299: ConvergenceWarning: Solver terminated early (max_iter=50000).  Consider pre-processing your data with StandardScaler or MinMaxScaler.\n",
      "  warnings.warn(\n"
     ]
    },
    {
     "name": "stdout",
     "output_type": "stream",
     "text": [
      "[CV 4/15; 16/50] END model__C=6.647135865318027, model__epsilon=0.32476735706274484;, score=-25.141 total time=   1.8s\n",
      "[CV 5/15; 16/50] START model__C=6.647135865318027, model__epsilon=0.32476735706274484\n"
     ]
    },
    {
     "name": "stderr",
     "output_type": "stream",
     "text": [
      "/opt/anaconda3/lib/python3.9/site-packages/sklearn/svm/_base.py:299: ConvergenceWarning: Solver terminated early (max_iter=50000).  Consider pre-processing your data with StandardScaler or MinMaxScaler.\n",
      "  warnings.warn(\n"
     ]
    },
    {
     "name": "stdout",
     "output_type": "stream",
     "text": [
      "[CV 5/15; 16/50] END model__C=6.647135865318027, model__epsilon=0.32476735706274484;, score=-29.227 total time=   1.8s\n",
      "[CV 6/15; 16/50] START model__C=6.647135865318027, model__epsilon=0.32476735706274484\n"
     ]
    },
    {
     "name": "stderr",
     "output_type": "stream",
     "text": [
      "/opt/anaconda3/lib/python3.9/site-packages/sklearn/svm/_base.py:299: ConvergenceWarning: Solver terminated early (max_iter=50000).  Consider pre-processing your data with StandardScaler or MinMaxScaler.\n",
      "  warnings.warn(\n"
     ]
    },
    {
     "name": "stdout",
     "output_type": "stream",
     "text": [
      "[CV 6/15; 16/50] END model__C=6.647135865318027, model__epsilon=0.32476735706274484;, score=-23.893 total time=   1.8s\n",
      "[CV 7/15; 16/50] START model__C=6.647135865318027, model__epsilon=0.32476735706274484\n"
     ]
    },
    {
     "name": "stderr",
     "output_type": "stream",
     "text": [
      "/opt/anaconda3/lib/python3.9/site-packages/sklearn/svm/_base.py:299: ConvergenceWarning: Solver terminated early (max_iter=50000).  Consider pre-processing your data with StandardScaler or MinMaxScaler.\n",
      "  warnings.warn(\n"
     ]
    },
    {
     "name": "stdout",
     "output_type": "stream",
     "text": [
      "[CV 7/15; 16/50] END model__C=6.647135865318027, model__epsilon=0.32476735706274484;, score=-25.283 total time=   1.8s\n",
      "[CV 8/15; 16/50] START model__C=6.647135865318027, model__epsilon=0.32476735706274484\n"
     ]
    },
    {
     "name": "stderr",
     "output_type": "stream",
     "text": [
      "/opt/anaconda3/lib/python3.9/site-packages/sklearn/svm/_base.py:299: ConvergenceWarning: Solver terminated early (max_iter=50000).  Consider pre-processing your data with StandardScaler or MinMaxScaler.\n",
      "  warnings.warn(\n"
     ]
    },
    {
     "name": "stdout",
     "output_type": "stream",
     "text": [
      "[CV 8/15; 16/50] END model__C=6.647135865318027, model__epsilon=0.32476735706274484;, score=-28.058 total time=   1.8s\n",
      "[CV 9/15; 16/50] START model__C=6.647135865318027, model__epsilon=0.32476735706274484\n"
     ]
    },
    {
     "name": "stderr",
     "output_type": "stream",
     "text": [
      "/opt/anaconda3/lib/python3.9/site-packages/sklearn/svm/_base.py:299: ConvergenceWarning: Solver terminated early (max_iter=50000).  Consider pre-processing your data with StandardScaler or MinMaxScaler.\n",
      "  warnings.warn(\n"
     ]
    },
    {
     "name": "stdout",
     "output_type": "stream",
     "text": [
      "[CV 9/15; 16/50] END model__C=6.647135865318027, model__epsilon=0.32476735706274484;, score=-25.739 total time=   1.8s\n",
      "[CV 10/15; 16/50] START model__C=6.647135865318027, model__epsilon=0.32476735706274484\n"
     ]
    },
    {
     "name": "stderr",
     "output_type": "stream",
     "text": [
      "/opt/anaconda3/lib/python3.9/site-packages/sklearn/svm/_base.py:299: ConvergenceWarning: Solver terminated early (max_iter=50000).  Consider pre-processing your data with StandardScaler or MinMaxScaler.\n",
      "  warnings.warn(\n"
     ]
    },
    {
     "name": "stdout",
     "output_type": "stream",
     "text": [
      "[CV 10/15; 16/50] END model__C=6.647135865318027, model__epsilon=0.32476735706274484;, score=-27.679 total time=   1.8s\n",
      "[CV 11/15; 16/50] START model__C=6.647135865318027, model__epsilon=0.32476735706274484\n"
     ]
    },
    {
     "name": "stderr",
     "output_type": "stream",
     "text": [
      "/opt/anaconda3/lib/python3.9/site-packages/sklearn/svm/_base.py:299: ConvergenceWarning: Solver terminated early (max_iter=50000).  Consider pre-processing your data with StandardScaler or MinMaxScaler.\n",
      "  warnings.warn(\n"
     ]
    },
    {
     "name": "stdout",
     "output_type": "stream",
     "text": [
      "[CV 11/15; 16/50] END model__C=6.647135865318027, model__epsilon=0.32476735706274484;, score=-25.746 total time=   1.8s\n",
      "[CV 12/15; 16/50] START model__C=6.647135865318027, model__epsilon=0.32476735706274484\n"
     ]
    },
    {
     "name": "stderr",
     "output_type": "stream",
     "text": [
      "/opt/anaconda3/lib/python3.9/site-packages/sklearn/svm/_base.py:299: ConvergenceWarning: Solver terminated early (max_iter=50000).  Consider pre-processing your data with StandardScaler or MinMaxScaler.\n",
      "  warnings.warn(\n"
     ]
    },
    {
     "name": "stdout",
     "output_type": "stream",
     "text": [
      "[CV 12/15; 16/50] END model__C=6.647135865318027, model__epsilon=0.32476735706274484;, score=-24.719 total time=   1.8s\n",
      "[CV 13/15; 16/50] START model__C=6.647135865318027, model__epsilon=0.32476735706274484\n"
     ]
    },
    {
     "name": "stderr",
     "output_type": "stream",
     "text": [
      "/opt/anaconda3/lib/python3.9/site-packages/sklearn/svm/_base.py:299: ConvergenceWarning: Solver terminated early (max_iter=50000).  Consider pre-processing your data with StandardScaler or MinMaxScaler.\n",
      "  warnings.warn(\n"
     ]
    },
    {
     "name": "stdout",
     "output_type": "stream",
     "text": [
      "[CV 13/15; 16/50] END model__C=6.647135865318027, model__epsilon=0.32476735706274484;, score=-26.104 total time=   1.8s\n",
      "[CV 14/15; 16/50] START model__C=6.647135865318027, model__epsilon=0.32476735706274484\n"
     ]
    },
    {
     "name": "stderr",
     "output_type": "stream",
     "text": [
      "/opt/anaconda3/lib/python3.9/site-packages/sklearn/svm/_base.py:299: ConvergenceWarning: Solver terminated early (max_iter=50000).  Consider pre-processing your data with StandardScaler or MinMaxScaler.\n",
      "  warnings.warn(\n"
     ]
    },
    {
     "name": "stdout",
     "output_type": "stream",
     "text": [
      "[CV 14/15; 16/50] END model__C=6.647135865318027, model__epsilon=0.32476735706274484;, score=-25.343 total time=   1.8s\n",
      "[CV 15/15; 16/50] START model__C=6.647135865318027, model__epsilon=0.32476735706274484\n"
     ]
    },
    {
     "name": "stderr",
     "output_type": "stream",
     "text": [
      "/opt/anaconda3/lib/python3.9/site-packages/sklearn/svm/_base.py:299: ConvergenceWarning: Solver terminated early (max_iter=50000).  Consider pre-processing your data with StandardScaler or MinMaxScaler.\n",
      "  warnings.warn(\n"
     ]
    },
    {
     "name": "stdout",
     "output_type": "stream",
     "text": [
      "[CV 15/15; 16/50] END model__C=6.647135865318027, model__epsilon=0.32476735706274484;, score=-29.231 total time=   1.8s\n",
      "[CV 1/15; 17/50] START model__C=0.15673095467235415, model__epsilon=70.25166339242152\n",
      "[CV 1/15; 17/50] END model__C=0.15673095467235415, model__epsilon=70.25166339242152;, score=-75.188 total time=   0.4s\n",
      "[CV 2/15; 17/50] START model__C=0.15673095467235415, model__epsilon=70.25166339242152\n",
      "[CV 2/15; 17/50] END model__C=0.15673095467235415, model__epsilon=70.25166339242152;, score=-75.491 total time=   0.4s\n",
      "[CV 3/15; 17/50] START model__C=0.15673095467235415, model__epsilon=70.25166339242152\n",
      "[CV 3/15; 17/50] END model__C=0.15673095467235415, model__epsilon=70.25166339242152;, score=-76.744 total time=   0.4s\n",
      "[CV 4/15; 17/50] START model__C=0.15673095467235415, model__epsilon=70.25166339242152\n",
      "[CV 4/15; 17/50] END model__C=0.15673095467235415, model__epsilon=70.25166339242152;, score=-74.808 total time=   0.4s\n",
      "[CV 5/15; 17/50] START model__C=0.15673095467235415, model__epsilon=70.25166339242152\n",
      "[CV 5/15; 17/50] END model__C=0.15673095467235415, model__epsilon=70.25166339242152;, score=-79.239 total time=   0.4s\n",
      "[CV 6/15; 17/50] START model__C=0.15673095467235415, model__epsilon=70.25166339242152\n",
      "[CV 6/15; 17/50] END model__C=0.15673095467235415, model__epsilon=70.25166339242152;, score=-75.290 total time=   0.4s\n",
      "[CV 7/15; 17/50] START model__C=0.15673095467235415, model__epsilon=70.25166339242152\n",
      "[CV 7/15; 17/50] END model__C=0.15673095467235415, model__epsilon=70.25166339242152;, score=-75.338 total time=   0.4s\n",
      "[CV 8/15; 17/50] START model__C=0.15673095467235415, model__epsilon=70.25166339242152\n",
      "[CV 8/15; 17/50] END model__C=0.15673095467235415, model__epsilon=70.25166339242152;, score=-76.804 total time=   0.4s\n",
      "[CV 9/15; 17/50] START model__C=0.15673095467235415, model__epsilon=70.25166339242152\n",
      "[CV 9/15; 17/50] END model__C=0.15673095467235415, model__epsilon=70.25166339242152;, score=-74.970 total time=   0.4s\n",
      "[CV 10/15; 17/50] START model__C=0.15673095467235415, model__epsilon=70.25166339242152\n",
      "[CV 10/15; 17/50] END model__C=0.15673095467235415, model__epsilon=70.25166339242152;, score=-79.079 total time=   0.4s\n",
      "[CV 11/15; 17/50] START model__C=0.15673095467235415, model__epsilon=70.25166339242152\n",
      "[CV 11/15; 17/50] END model__C=0.15673095467235415, model__epsilon=70.25166339242152;, score=-75.331 total time=   0.4s\n",
      "[CV 12/15; 17/50] START model__C=0.15673095467235415, model__epsilon=70.25166339242152\n",
      "[CV 12/15; 17/50] END model__C=0.15673095467235415, model__epsilon=70.25166339242152;, score=-75.386 total time=   0.4s\n",
      "[CV 13/15; 17/50] START model__C=0.15673095467235415, model__epsilon=70.25166339242152\n",
      "[CV 13/15; 17/50] END model__C=0.15673095467235415, model__epsilon=70.25166339242152;, score=-76.642 total time=   0.4s\n",
      "[CV 14/15; 17/50] START model__C=0.15673095467235415, model__epsilon=70.25166339242152\n",
      "[CV 14/15; 17/50] END model__C=0.15673095467235415, model__epsilon=70.25166339242152;, score=-74.889 total time=   0.4s\n",
      "[CV 15/15; 17/50] START model__C=0.15673095467235415, model__epsilon=70.25166339242152\n",
      "[CV 15/15; 17/50] END model__C=0.15673095467235415, model__epsilon=70.25166339242152;, score=-79.287 total time=   0.4s\n",
      "[CV 1/15; 18/50] START model__C=78.86714129990483, model__epsilon=26.619018884890558\n"
     ]
    },
    {
     "name": "stderr",
     "output_type": "stream",
     "text": [
      "/opt/anaconda3/lib/python3.9/site-packages/sklearn/svm/_base.py:299: ConvergenceWarning: Solver terminated early (max_iter=50000).  Consider pre-processing your data with StandardScaler or MinMaxScaler.\n",
      "  warnings.warn(\n"
     ]
    },
    {
     "name": "stdout",
     "output_type": "stream",
     "text": [
      "[CV 1/15; 18/50] END model__C=78.86714129990483, model__epsilon=26.619018884890558;, score=-30.447 total time=   0.8s\n",
      "[CV 2/15; 18/50] START model__C=78.86714129990483, model__epsilon=26.619018884890558\n"
     ]
    },
    {
     "name": "stderr",
     "output_type": "stream",
     "text": [
      "/opt/anaconda3/lib/python3.9/site-packages/sklearn/svm/_base.py:299: ConvergenceWarning: Solver terminated early (max_iter=50000).  Consider pre-processing your data with StandardScaler or MinMaxScaler.\n",
      "  warnings.warn(\n"
     ]
    },
    {
     "name": "stdout",
     "output_type": "stream",
     "text": [
      "[CV 2/15; 18/50] END model__C=78.86714129990483, model__epsilon=26.619018884890558;, score=-31.858 total time=   0.8s\n",
      "[CV 3/15; 18/50] START model__C=78.86714129990483, model__epsilon=26.619018884890558\n"
     ]
    },
    {
     "name": "stderr",
     "output_type": "stream",
     "text": [
      "/opt/anaconda3/lib/python3.9/site-packages/sklearn/svm/_base.py:299: ConvergenceWarning: Solver terminated early (max_iter=50000).  Consider pre-processing your data with StandardScaler or MinMaxScaler.\n",
      "  warnings.warn(\n"
     ]
    },
    {
     "name": "stdout",
     "output_type": "stream",
     "text": [
      "[CV 3/15; 18/50] END model__C=78.86714129990483, model__epsilon=26.619018884890558;, score=-31.910 total time=   0.8s\n",
      "[CV 4/15; 18/50] START model__C=78.86714129990483, model__epsilon=26.619018884890558\n"
     ]
    },
    {
     "name": "stderr",
     "output_type": "stream",
     "text": [
      "/opt/anaconda3/lib/python3.9/site-packages/sklearn/svm/_base.py:299: ConvergenceWarning: Solver terminated early (max_iter=50000).  Consider pre-processing your data with StandardScaler or MinMaxScaler.\n",
      "  warnings.warn(\n"
     ]
    },
    {
     "name": "stdout",
     "output_type": "stream",
     "text": [
      "[CV 4/15; 18/50] END model__C=78.86714129990483, model__epsilon=26.619018884890558;, score=-31.647 total time=   0.8s\n",
      "[CV 5/15; 18/50] START model__C=78.86714129990483, model__epsilon=26.619018884890558\n"
     ]
    },
    {
     "name": "stderr",
     "output_type": "stream",
     "text": [
      "/opt/anaconda3/lib/python3.9/site-packages/sklearn/svm/_base.py:299: ConvergenceWarning: Solver terminated early (max_iter=50000).  Consider pre-processing your data with StandardScaler or MinMaxScaler.\n",
      "  warnings.warn(\n"
     ]
    },
    {
     "name": "stdout",
     "output_type": "stream",
     "text": [
      "[CV 5/15; 18/50] END model__C=78.86714129990483, model__epsilon=26.619018884890558;, score=-34.014 total time=   0.8s\n",
      "[CV 6/15; 18/50] START model__C=78.86714129990483, model__epsilon=26.619018884890558\n"
     ]
    },
    {
     "name": "stderr",
     "output_type": "stream",
     "text": [
      "/opt/anaconda3/lib/python3.9/site-packages/sklearn/svm/_base.py:299: ConvergenceWarning: Solver terminated early (max_iter=50000).  Consider pre-processing your data with StandardScaler or MinMaxScaler.\n",
      "  warnings.warn(\n"
     ]
    },
    {
     "name": "stdout",
     "output_type": "stream",
     "text": [
      "[CV 6/15; 18/50] END model__C=78.86714129990483, model__epsilon=26.619018884890558;, score=-30.485 total time=   0.8s\n",
      "[CV 7/15; 18/50] START model__C=78.86714129990483, model__epsilon=26.619018884890558\n"
     ]
    },
    {
     "name": "stderr",
     "output_type": "stream",
     "text": [
      "/opt/anaconda3/lib/python3.9/site-packages/sklearn/svm/_base.py:299: ConvergenceWarning: Solver terminated early (max_iter=50000).  Consider pre-processing your data with StandardScaler or MinMaxScaler.\n",
      "  warnings.warn(\n"
     ]
    },
    {
     "name": "stdout",
     "output_type": "stream",
     "text": [
      "[CV 7/15; 18/50] END model__C=78.86714129990483, model__epsilon=26.619018884890558;, score=-31.651 total time=   0.8s\n",
      "[CV 8/15; 18/50] START model__C=78.86714129990483, model__epsilon=26.619018884890558\n"
     ]
    },
    {
     "name": "stderr",
     "output_type": "stream",
     "text": [
      "/opt/anaconda3/lib/python3.9/site-packages/sklearn/svm/_base.py:299: ConvergenceWarning: Solver terminated early (max_iter=50000).  Consider pre-processing your data with StandardScaler or MinMaxScaler.\n",
      "  warnings.warn(\n"
     ]
    },
    {
     "name": "stdout",
     "output_type": "stream",
     "text": [
      "[CV 8/15; 18/50] END model__C=78.86714129990483, model__epsilon=26.619018884890558;, score=-34.196 total time=   0.8s\n",
      "[CV 9/15; 18/50] START model__C=78.86714129990483, model__epsilon=26.619018884890558\n"
     ]
    },
    {
     "name": "stderr",
     "output_type": "stream",
     "text": [
      "/opt/anaconda3/lib/python3.9/site-packages/sklearn/svm/_base.py:299: ConvergenceWarning: Solver terminated early (max_iter=50000).  Consider pre-processing your data with StandardScaler or MinMaxScaler.\n",
      "  warnings.warn(\n"
     ]
    },
    {
     "name": "stdout",
     "output_type": "stream",
     "text": [
      "[CV 9/15; 18/50] END model__C=78.86714129990483, model__epsilon=26.619018884890558;, score=-30.881 total time=   0.8s\n",
      "[CV 10/15; 18/50] START model__C=78.86714129990483, model__epsilon=26.619018884890558\n"
     ]
    },
    {
     "name": "stderr",
     "output_type": "stream",
     "text": [
      "/opt/anaconda3/lib/python3.9/site-packages/sklearn/svm/_base.py:299: ConvergenceWarning: Solver terminated early (max_iter=50000).  Consider pre-processing your data with StandardScaler or MinMaxScaler.\n",
      "  warnings.warn(\n"
     ]
    },
    {
     "name": "stdout",
     "output_type": "stream",
     "text": [
      "[CV 10/15; 18/50] END model__C=78.86714129990483, model__epsilon=26.619018884890558;, score=-32.848 total time=   0.8s\n",
      "[CV 11/15; 18/50] START model__C=78.86714129990483, model__epsilon=26.619018884890558\n"
     ]
    },
    {
     "name": "stderr",
     "output_type": "stream",
     "text": [
      "/opt/anaconda3/lib/python3.9/site-packages/sklearn/svm/_base.py:299: ConvergenceWarning: Solver terminated early (max_iter=50000).  Consider pre-processing your data with StandardScaler or MinMaxScaler.\n",
      "  warnings.warn(\n"
     ]
    },
    {
     "name": "stdout",
     "output_type": "stream",
     "text": [
      "[CV 11/15; 18/50] END model__C=78.86714129990483, model__epsilon=26.619018884890558;, score=-32.201 total time=   0.8s\n",
      "[CV 12/15; 18/50] START model__C=78.86714129990483, model__epsilon=26.619018884890558\n"
     ]
    },
    {
     "name": "stderr",
     "output_type": "stream",
     "text": [
      "/opt/anaconda3/lib/python3.9/site-packages/sklearn/svm/_base.py:299: ConvergenceWarning: Solver terminated early (max_iter=50000).  Consider pre-processing your data with StandardScaler or MinMaxScaler.\n",
      "  warnings.warn(\n"
     ]
    },
    {
     "name": "stdout",
     "output_type": "stream",
     "text": [
      "[CV 12/15; 18/50] END model__C=78.86714129990483, model__epsilon=26.619018884890558;, score=-30.468 total time=   0.8s\n",
      "[CV 13/15; 18/50] START model__C=78.86714129990483, model__epsilon=26.619018884890558\n"
     ]
    },
    {
     "name": "stderr",
     "output_type": "stream",
     "text": [
      "/opt/anaconda3/lib/python3.9/site-packages/sklearn/svm/_base.py:299: ConvergenceWarning: Solver terminated early (max_iter=50000).  Consider pre-processing your data with StandardScaler or MinMaxScaler.\n",
      "  warnings.warn(\n"
     ]
    },
    {
     "name": "stdout",
     "output_type": "stream",
     "text": [
      "[CV 13/15; 18/50] END model__C=78.86714129990483, model__epsilon=26.619018884890558;, score=-31.738 total time=   0.8s\n",
      "[CV 14/15; 18/50] START model__C=78.86714129990483, model__epsilon=26.619018884890558\n"
     ]
    },
    {
     "name": "stderr",
     "output_type": "stream",
     "text": [
      "/opt/anaconda3/lib/python3.9/site-packages/sklearn/svm/_base.py:299: ConvergenceWarning: Solver terminated early (max_iter=50000).  Consider pre-processing your data with StandardScaler or MinMaxScaler.\n",
      "  warnings.warn(\n"
     ]
    },
    {
     "name": "stdout",
     "output_type": "stream",
     "text": [
      "[CV 14/15; 18/50] END model__C=78.86714129990483, model__epsilon=26.619018884890558;, score=-31.256 total time=   0.8s\n",
      "[CV 15/15; 18/50] START model__C=78.86714129990483, model__epsilon=26.619018884890558\n"
     ]
    },
    {
     "name": "stderr",
     "output_type": "stream",
     "text": [
      "/opt/anaconda3/lib/python3.9/site-packages/sklearn/svm/_base.py:299: ConvergenceWarning: Solver terminated early (max_iter=50000).  Consider pre-processing your data with StandardScaler or MinMaxScaler.\n",
      "  warnings.warn(\n"
     ]
    },
    {
     "name": "stdout",
     "output_type": "stream",
     "text": [
      "[CV 15/15; 18/50] END model__C=78.86714129990483, model__epsilon=26.619018884890558;, score=-34.275 total time=   0.8s\n",
      "[CV 1/15; 19/50] START model__C=0.8200518402245829, model__epsilon=0.1963434157293333\n",
      "[CV 1/15; 19/50] END model__C=0.8200518402245829, model__epsilon=0.1963434157293333;, score=-28.807 total time=   1.3s\n",
      "[CV 2/15; 19/50] START model__C=0.8200518402245829, model__epsilon=0.1963434157293333\n",
      "[CV 2/15; 19/50] END model__C=0.8200518402245829, model__epsilon=0.1963434157293333;, score=-29.826 total time=   1.3s\n",
      "[CV 3/15; 19/50] START model__C=0.8200518402245829, model__epsilon=0.1963434157293333\n"
     ]
    },
    {
     "name": "stderr",
     "output_type": "stream",
     "text": [
      "/opt/anaconda3/lib/python3.9/site-packages/sklearn/svm/_base.py:299: ConvergenceWarning: Solver terminated early (max_iter=50000).  Consider pre-processing your data with StandardScaler or MinMaxScaler.\n",
      "  warnings.warn(\n"
     ]
    },
    {
     "name": "stdout",
     "output_type": "stream",
     "text": [
      "[CV 3/15; 19/50] END model__C=0.8200518402245829, model__epsilon=0.1963434157293333;, score=-30.738 total time=   1.4s\n",
      "[CV 4/15; 19/50] START model__C=0.8200518402245829, model__epsilon=0.1963434157293333\n",
      "[CV 4/15; 19/50] END model__C=0.8200518402245829, model__epsilon=0.1963434157293333;, score=-28.857 total time=   1.3s\n",
      "[CV 5/15; 19/50] START model__C=0.8200518402245829, model__epsilon=0.1963434157293333\n",
      "[CV 5/15; 19/50] END model__C=0.8200518402245829, model__epsilon=0.1963434157293333;, score=-34.096 total time=   1.3s\n",
      "[CV 6/15; 19/50] START model__C=0.8200518402245829, model__epsilon=0.1963434157293333\n"
     ]
    },
    {
     "name": "stderr",
     "output_type": "stream",
     "text": [
      "/opt/anaconda3/lib/python3.9/site-packages/sklearn/svm/_base.py:299: ConvergenceWarning: Solver terminated early (max_iter=50000).  Consider pre-processing your data with StandardScaler or MinMaxScaler.\n",
      "  warnings.warn(\n"
     ]
    },
    {
     "name": "stdout",
     "output_type": "stream",
     "text": [
      "[CV 6/15; 19/50] END model__C=0.8200518402245829, model__epsilon=0.1963434157293333;, score=-28.920 total time=   1.4s\n",
      "[CV 7/15; 19/50] START model__C=0.8200518402245829, model__epsilon=0.1963434157293333\n",
      "[CV 7/15; 19/50] END model__C=0.8200518402245829, model__epsilon=0.1963434157293333;, score=-29.421 total time=   1.4s\n",
      "[CV 8/15; 19/50] START model__C=0.8200518402245829, model__epsilon=0.1963434157293333\n",
      "[CV 8/15; 19/50] END model__C=0.8200518402245829, model__epsilon=0.1963434157293333;, score=-31.143 total time=   1.4s\n",
      "[CV 9/15; 19/50] START model__C=0.8200518402245829, model__epsilon=0.1963434157293333\n",
      "[CV 9/15; 19/50] END model__C=0.8200518402245829, model__epsilon=0.1963434157293333;, score=-29.593 total time=   1.4s\n",
      "[CV 10/15; 19/50] START model__C=0.8200518402245829, model__epsilon=0.1963434157293333\n"
     ]
    },
    {
     "name": "stderr",
     "output_type": "stream",
     "text": [
      "/opt/anaconda3/lib/python3.9/site-packages/sklearn/svm/_base.py:299: ConvergenceWarning: Solver terminated early (max_iter=50000).  Consider pre-processing your data with StandardScaler or MinMaxScaler.\n",
      "  warnings.warn(\n"
     ]
    },
    {
     "name": "stdout",
     "output_type": "stream",
     "text": [
      "[CV 10/15; 19/50] END model__C=0.8200518402245829, model__epsilon=0.1963434157293333;, score=-33.327 total time=   1.4s\n",
      "[CV 11/15; 19/50] START model__C=0.8200518402245829, model__epsilon=0.1963434157293333\n",
      "[CV 11/15; 19/50] END model__C=0.8200518402245829, model__epsilon=0.1963434157293333;, score=-29.231 total time=   1.3s\n",
      "[CV 12/15; 19/50] START model__C=0.8200518402245829, model__epsilon=0.1963434157293333\n"
     ]
    },
    {
     "name": "stderr",
     "output_type": "stream",
     "text": [
      "/opt/anaconda3/lib/python3.9/site-packages/sklearn/svm/_base.py:299: ConvergenceWarning: Solver terminated early (max_iter=50000).  Consider pre-processing your data with StandardScaler or MinMaxScaler.\n",
      "  warnings.warn(\n"
     ]
    },
    {
     "name": "stdout",
     "output_type": "stream",
     "text": [
      "[CV 12/15; 19/50] END model__C=0.8200518402245829, model__epsilon=0.1963434157293333;, score=-29.393 total time=   1.4s\n",
      "[CV 13/15; 19/50] START model__C=0.8200518402245829, model__epsilon=0.1963434157293333\n"
     ]
    },
    {
     "name": "stderr",
     "output_type": "stream",
     "text": [
      "/opt/anaconda3/lib/python3.9/site-packages/sklearn/svm/_base.py:299: ConvergenceWarning: Solver terminated early (max_iter=50000).  Consider pre-processing your data with StandardScaler or MinMaxScaler.\n",
      "  warnings.warn(\n"
     ]
    },
    {
     "name": "stdout",
     "output_type": "stream",
     "text": [
      "[CV 13/15; 19/50] END model__C=0.8200518402245829, model__epsilon=0.1963434157293333;, score=-30.979 total time=   1.4s\n",
      "[CV 14/15; 19/50] START model__C=0.8200518402245829, model__epsilon=0.1963434157293333\n"
     ]
    },
    {
     "name": "stderr",
     "output_type": "stream",
     "text": [
      "/opt/anaconda3/lib/python3.9/site-packages/sklearn/svm/_base.py:299: ConvergenceWarning: Solver terminated early (max_iter=50000).  Consider pre-processing your data with StandardScaler or MinMaxScaler.\n",
      "  warnings.warn(\n"
     ]
    },
    {
     "name": "stdout",
     "output_type": "stream",
     "text": [
      "[CV 14/15; 19/50] END model__C=0.8200518402245829, model__epsilon=0.1963434157293333;, score=-29.009 total time=   1.4s\n",
      "[CV 15/15; 19/50] START model__C=0.8200518402245829, model__epsilon=0.1963434157293333\n",
      "[CV 15/15; 19/50] END model__C=0.8200518402245829, model__epsilon=0.1963434157293333;, score=-33.783 total time=   1.3s\n",
      "[CV 1/15; 20/50] START model__C=11.290133559092672, model__epsilon=2.0914981329035602\n"
     ]
    },
    {
     "name": "stderr",
     "output_type": "stream",
     "text": [
      "/opt/anaconda3/lib/python3.9/site-packages/sklearn/svm/_base.py:299: ConvergenceWarning: Solver terminated early (max_iter=50000).  Consider pre-processing your data with StandardScaler or MinMaxScaler.\n",
      "  warnings.warn(\n"
     ]
    },
    {
     "name": "stdout",
     "output_type": "stream",
     "text": [
      "[CV 1/15; 20/50] END model__C=11.290133559092672, model__epsilon=2.0914981329035602;, score=-24.215 total time=   1.5s\n",
      "[CV 2/15; 20/50] START model__C=11.290133559092672, model__epsilon=2.0914981329035602\n"
     ]
    },
    {
     "name": "stderr",
     "output_type": "stream",
     "text": [
      "/opt/anaconda3/lib/python3.9/site-packages/sklearn/svm/_base.py:299: ConvergenceWarning: Solver terminated early (max_iter=50000).  Consider pre-processing your data with StandardScaler or MinMaxScaler.\n",
      "  warnings.warn(\n"
     ]
    },
    {
     "name": "stdout",
     "output_type": "stream",
     "text": [
      "[CV 2/15; 20/50] END model__C=11.290133559092672, model__epsilon=2.0914981329035602;, score=-25.763 total time=   1.5s\n",
      "[CV 3/15; 20/50] START model__C=11.290133559092672, model__epsilon=2.0914981329035602\n"
     ]
    },
    {
     "name": "stderr",
     "output_type": "stream",
     "text": [
      "/opt/anaconda3/lib/python3.9/site-packages/sklearn/svm/_base.py:299: ConvergenceWarning: Solver terminated early (max_iter=50000).  Consider pre-processing your data with StandardScaler or MinMaxScaler.\n",
      "  warnings.warn(\n"
     ]
    },
    {
     "name": "stdout",
     "output_type": "stream",
     "text": [
      "[CV 3/15; 20/50] END model__C=11.290133559092672, model__epsilon=2.0914981329035602;, score=-25.951 total time=   1.5s\n",
      "[CV 4/15; 20/50] START model__C=11.290133559092672, model__epsilon=2.0914981329035602\n"
     ]
    },
    {
     "name": "stderr",
     "output_type": "stream",
     "text": [
      "/opt/anaconda3/lib/python3.9/site-packages/sklearn/svm/_base.py:299: ConvergenceWarning: Solver terminated early (max_iter=50000).  Consider pre-processing your data with StandardScaler or MinMaxScaler.\n",
      "  warnings.warn(\n"
     ]
    },
    {
     "name": "stdout",
     "output_type": "stream",
     "text": [
      "[CV 4/15; 20/50] END model__C=11.290133559092672, model__epsilon=2.0914981329035602;, score=-25.228 total time=   1.5s\n",
      "[CV 5/15; 20/50] START model__C=11.290133559092672, model__epsilon=2.0914981329035602\n"
     ]
    },
    {
     "name": "stderr",
     "output_type": "stream",
     "text": [
      "/opt/anaconda3/lib/python3.9/site-packages/sklearn/svm/_base.py:299: ConvergenceWarning: Solver terminated early (max_iter=50000).  Consider pre-processing your data with StandardScaler or MinMaxScaler.\n",
      "  warnings.warn(\n"
     ]
    },
    {
     "name": "stdout",
     "output_type": "stream",
     "text": [
      "[CV 5/15; 20/50] END model__C=11.290133559092672, model__epsilon=2.0914981329035602;, score=-28.966 total time=   1.5s\n",
      "[CV 6/15; 20/50] START model__C=11.290133559092672, model__epsilon=2.0914981329035602\n"
     ]
    },
    {
     "name": "stderr",
     "output_type": "stream",
     "text": [
      "/opt/anaconda3/lib/python3.9/site-packages/sklearn/svm/_base.py:299: ConvergenceWarning: Solver terminated early (max_iter=50000).  Consider pre-processing your data with StandardScaler or MinMaxScaler.\n",
      "  warnings.warn(\n"
     ]
    },
    {
     "name": "stdout",
     "output_type": "stream",
     "text": [
      "[CV 6/15; 20/50] END model__C=11.290133559092672, model__epsilon=2.0914981329035602;, score=-23.880 total time=   1.5s\n",
      "[CV 7/15; 20/50] START model__C=11.290133559092672, model__epsilon=2.0914981329035602\n"
     ]
    },
    {
     "name": "stderr",
     "output_type": "stream",
     "text": [
      "/opt/anaconda3/lib/python3.9/site-packages/sklearn/svm/_base.py:299: ConvergenceWarning: Solver terminated early (max_iter=50000).  Consider pre-processing your data with StandardScaler or MinMaxScaler.\n",
      "  warnings.warn(\n"
     ]
    },
    {
     "name": "stdout",
     "output_type": "stream",
     "text": [
      "[CV 7/15; 20/50] END model__C=11.290133559092672, model__epsilon=2.0914981329035602;, score=-25.205 total time=   1.5s\n",
      "[CV 8/15; 20/50] START model__C=11.290133559092672, model__epsilon=2.0914981329035602\n"
     ]
    },
    {
     "name": "stderr",
     "output_type": "stream",
     "text": [
      "/opt/anaconda3/lib/python3.9/site-packages/sklearn/svm/_base.py:299: ConvergenceWarning: Solver terminated early (max_iter=50000).  Consider pre-processing your data with StandardScaler or MinMaxScaler.\n",
      "  warnings.warn(\n"
     ]
    },
    {
     "name": "stdout",
     "output_type": "stream",
     "text": [
      "[CV 8/15; 20/50] END model__C=11.290133559092672, model__epsilon=2.0914981329035602;, score=-28.037 total time=   1.5s\n",
      "[CV 9/15; 20/50] START model__C=11.290133559092672, model__epsilon=2.0914981329035602\n"
     ]
    },
    {
     "name": "stderr",
     "output_type": "stream",
     "text": [
      "/opt/anaconda3/lib/python3.9/site-packages/sklearn/svm/_base.py:299: ConvergenceWarning: Solver terminated early (max_iter=50000).  Consider pre-processing your data with StandardScaler or MinMaxScaler.\n",
      "  warnings.warn(\n"
     ]
    },
    {
     "name": "stdout",
     "output_type": "stream",
     "text": [
      "[CV 9/15; 20/50] END model__C=11.290133559092672, model__epsilon=2.0914981329035602;, score=-25.590 total time=   1.5s\n",
      "[CV 10/15; 20/50] START model__C=11.290133559092672, model__epsilon=2.0914981329035602\n"
     ]
    },
    {
     "name": "stderr",
     "output_type": "stream",
     "text": [
      "/opt/anaconda3/lib/python3.9/site-packages/sklearn/svm/_base.py:299: ConvergenceWarning: Solver terminated early (max_iter=50000).  Consider pre-processing your data with StandardScaler or MinMaxScaler.\n",
      "  warnings.warn(\n"
     ]
    },
    {
     "name": "stdout",
     "output_type": "stream",
     "text": [
      "[CV 10/15; 20/50] END model__C=11.290133559092672, model__epsilon=2.0914981329035602;, score=-27.489 total time=   1.5s\n",
      "[CV 11/15; 20/50] START model__C=11.290133559092672, model__epsilon=2.0914981329035602\n"
     ]
    },
    {
     "name": "stderr",
     "output_type": "stream",
     "text": [
      "/opt/anaconda3/lib/python3.9/site-packages/sklearn/svm/_base.py:299: ConvergenceWarning: Solver terminated early (max_iter=50000).  Consider pre-processing your data with StandardScaler or MinMaxScaler.\n",
      "  warnings.warn(\n"
     ]
    },
    {
     "name": "stdout",
     "output_type": "stream",
     "text": [
      "[CV 11/15; 20/50] END model__C=11.290133559092672, model__epsilon=2.0914981329035602;, score=-25.741 total time=   1.5s\n",
      "[CV 12/15; 20/50] START model__C=11.290133559092672, model__epsilon=2.0914981329035602\n"
     ]
    },
    {
     "name": "stderr",
     "output_type": "stream",
     "text": [
      "/opt/anaconda3/lib/python3.9/site-packages/sklearn/svm/_base.py:299: ConvergenceWarning: Solver terminated early (max_iter=50000).  Consider pre-processing your data with StandardScaler or MinMaxScaler.\n",
      "  warnings.warn(\n"
     ]
    },
    {
     "name": "stdout",
     "output_type": "stream",
     "text": [
      "[CV 12/15; 20/50] END model__C=11.290133559092672, model__epsilon=2.0914981329035602;, score=-24.562 total time=   1.5s\n",
      "[CV 13/15; 20/50] START model__C=11.290133559092672, model__epsilon=2.0914981329035602\n"
     ]
    },
    {
     "name": "stderr",
     "output_type": "stream",
     "text": [
      "/opt/anaconda3/lib/python3.9/site-packages/sklearn/svm/_base.py:299: ConvergenceWarning: Solver terminated early (max_iter=50000).  Consider pre-processing your data with StandardScaler or MinMaxScaler.\n",
      "  warnings.warn(\n"
     ]
    },
    {
     "name": "stdout",
     "output_type": "stream",
     "text": [
      "[CV 13/15; 20/50] END model__C=11.290133559092672, model__epsilon=2.0914981329035602;, score=-25.936 total time=   1.5s\n",
      "[CV 14/15; 20/50] START model__C=11.290133559092672, model__epsilon=2.0914981329035602\n"
     ]
    },
    {
     "name": "stderr",
     "output_type": "stream",
     "text": [
      "/opt/anaconda3/lib/python3.9/site-packages/sklearn/svm/_base.py:299: ConvergenceWarning: Solver terminated early (max_iter=50000).  Consider pre-processing your data with StandardScaler or MinMaxScaler.\n",
      "  warnings.warn(\n"
     ]
    },
    {
     "name": "stdout",
     "output_type": "stream",
     "text": [
      "[CV 14/15; 20/50] END model__C=11.290133559092672, model__epsilon=2.0914981329035602;, score=-25.400 total time=   1.5s\n",
      "[CV 15/15; 20/50] START model__C=11.290133559092672, model__epsilon=2.0914981329035602\n"
     ]
    },
    {
     "name": "stderr",
     "output_type": "stream",
     "text": [
      "/opt/anaconda3/lib/python3.9/site-packages/sklearn/svm/_base.py:299: ConvergenceWarning: Solver terminated early (max_iter=50000).  Consider pre-processing your data with StandardScaler or MinMaxScaler.\n",
      "  warnings.warn(\n"
     ]
    },
    {
     "name": "stdout",
     "output_type": "stream",
     "text": [
      "[CV 15/15; 20/50] END model__C=11.290133559092672, model__epsilon=2.0914981329035602;, score=-28.986 total time=   1.5s\n",
      "[CV 1/15; 21/50] START model__C=0.2323350351539011, model__epsilon=3.0586566669785253\n",
      "[CV 1/15; 21/50] END model__C=0.2323350351539011, model__epsilon=3.0586566669785253;, score=-33.859 total time=   0.9s\n",
      "[CV 2/15; 21/50] START model__C=0.2323350351539011, model__epsilon=3.0586566669785253\n",
      "[CV 2/15; 21/50] END model__C=0.2323350351539011, model__epsilon=3.0586566669785253;, score=-34.117 total time=   0.9s\n",
      "[CV 3/15; 21/50] START model__C=0.2323350351539011, model__epsilon=3.0586566669785253\n",
      "[CV 3/15; 21/50] END model__C=0.2323350351539011, model__epsilon=3.0586566669785253;, score=-35.551 total time=   0.9s\n",
      "[CV 4/15; 21/50] START model__C=0.2323350351539011, model__epsilon=3.0586566669785253\n",
      "[CV 4/15; 21/50] END model__C=0.2323350351539011, model__epsilon=3.0586566669785253;, score=-33.723 total time=   0.9s\n",
      "[CV 5/15; 21/50] START model__C=0.2323350351539011, model__epsilon=3.0586566669785253\n",
      "[CV 5/15; 21/50] END model__C=0.2323350351539011, model__epsilon=3.0586566669785253;, score=-38.546 total time=   0.9s\n",
      "[CV 6/15; 21/50] START model__C=0.2323350351539011, model__epsilon=3.0586566669785253\n",
      "[CV 6/15; 21/50] END model__C=0.2323350351539011, model__epsilon=3.0586566669785253;, score=-33.833 total time=   0.9s\n",
      "[CV 7/15; 21/50] START model__C=0.2323350351539011, model__epsilon=3.0586566669785253\n",
      "[CV 7/15; 21/50] END model__C=0.2323350351539011, model__epsilon=3.0586566669785253;, score=-34.137 total time=   0.9s\n",
      "[CV 8/15; 21/50] START model__C=0.2323350351539011, model__epsilon=3.0586566669785253\n",
      "[CV 8/15; 21/50] END model__C=0.2323350351539011, model__epsilon=3.0586566669785253;, score=-35.598 total time=   0.9s\n",
      "[CV 9/15; 21/50] START model__C=0.2323350351539011, model__epsilon=3.0586566669785253\n",
      "[CV 9/15; 21/50] END model__C=0.2323350351539011, model__epsilon=3.0586566669785253;, score=-33.892 total time=   0.9s\n",
      "[CV 10/15; 21/50] START model__C=0.2323350351539011, model__epsilon=3.0586566669785253\n",
      "[CV 10/15; 21/50] END model__C=0.2323350351539011, model__epsilon=3.0586566669785253;, score=-38.290 total time=   0.9s\n",
      "[CV 11/15; 21/50] START model__C=0.2323350351539011, model__epsilon=3.0586566669785253\n",
      "[CV 11/15; 21/50] END model__C=0.2323350351539011, model__epsilon=3.0586566669785253;, score=-33.973 total time=   0.9s\n",
      "[CV 12/15; 21/50] START model__C=0.2323350351539011, model__epsilon=3.0586566669785253\n",
      "[CV 12/15; 21/50] END model__C=0.2323350351539011, model__epsilon=3.0586566669785253;, score=-34.066 total time=   0.9s\n",
      "[CV 13/15; 21/50] START model__C=0.2323350351539011, model__epsilon=3.0586566669785253\n",
      "[CV 13/15; 21/50] END model__C=0.2323350351539011, model__epsilon=3.0586566669785253;, score=-35.824 total time=   0.9s\n",
      "[CV 14/15; 21/50] START model__C=0.2323350351539011, model__epsilon=3.0586566669785253\n",
      "[CV 14/15; 21/50] END model__C=0.2323350351539011, model__epsilon=3.0586566669785253;, score=-33.550 total time=   0.9s\n",
      "[CV 15/15; 21/50] START model__C=0.2323350351539011, model__epsilon=3.0586566669785253\n",
      "[CV 15/15; 21/50] END model__C=0.2323350351539011, model__epsilon=3.0586566669785253;, score=-38.283 total time=   0.9s\n",
      "[CV 1/15; 22/50] START model__C=0.12681352169084595, model__epsilon=53.45166110646818\n",
      "[CV 1/15; 22/50] END model__C=0.12681352169084595, model__epsilon=53.45166110646818;, score=-63.366 total time=   0.4s\n",
      "[CV 2/15; 22/50] START model__C=0.12681352169084595, model__epsilon=53.45166110646818\n",
      "[CV 2/15; 22/50] END model__C=0.12681352169084595, model__epsilon=53.45166110646818;, score=-63.718 total time=   0.4s\n",
      "[CV 3/15; 22/50] START model__C=0.12681352169084595, model__epsilon=53.45166110646818\n",
      "[CV 3/15; 22/50] END model__C=0.12681352169084595, model__epsilon=53.45166110646818;, score=-64.983 total time=   0.4s\n",
      "[CV 4/15; 22/50] START model__C=0.12681352169084595, model__epsilon=53.45166110646818\n",
      "[CV 4/15; 22/50] END model__C=0.12681352169084595, model__epsilon=53.45166110646818;, score=-62.991 total time=   0.4s\n",
      "[CV 5/15; 22/50] START model__C=0.12681352169084595, model__epsilon=53.45166110646818\n",
      "[CV 5/15; 22/50] END model__C=0.12681352169084595, model__epsilon=53.45166110646818;, score=-67.645 total time=   0.4s\n",
      "[CV 6/15; 22/50] START model__C=0.12681352169084595, model__epsilon=53.45166110646818\n",
      "[CV 6/15; 22/50] END model__C=0.12681352169084595, model__epsilon=53.45166110646818;, score=-63.460 total time=   0.4s\n",
      "[CV 7/15; 22/50] START model__C=0.12681352169084595, model__epsilon=53.45166110646818\n",
      "[CV 7/15; 22/50] END model__C=0.12681352169084595, model__epsilon=53.45166110646818;, score=-63.603 total time=   0.4s\n",
      "[CV 8/15; 22/50] START model__C=0.12681352169084595, model__epsilon=53.45166110646818\n",
      "[CV 8/15; 22/50] END model__C=0.12681352169084595, model__epsilon=53.45166110646818;, score=-65.001 total time=   0.4s\n",
      "[CV 9/15; 22/50] START model__C=0.12681352169084595, model__epsilon=53.45166110646818\n",
      "[CV 9/15; 22/50] END model__C=0.12681352169084595, model__epsilon=53.45166110646818;, score=-63.192 total time=   0.4s\n",
      "[CV 10/15; 22/50] START model__C=0.12681352169084595, model__epsilon=53.45166110646818\n",
      "[CV 10/15; 22/50] END model__C=0.12681352169084595, model__epsilon=53.45166110646818;, score=-67.480 total time=   0.4s\n",
      "[CV 11/15; 22/50] START model__C=0.12681352169084595, model__epsilon=53.45166110646818\n",
      "[CV 11/15; 22/50] END model__C=0.12681352169084595, model__epsilon=53.45166110646818;, score=-63.498 total time=   0.4s\n",
      "[CV 12/15; 22/50] START model__C=0.12681352169084595, model__epsilon=53.45166110646818\n",
      "[CV 12/15; 22/50] END model__C=0.12681352169084595, model__epsilon=53.45166110646818;, score=-63.599 total time=   0.4s\n",
      "[CV 13/15; 22/50] START model__C=0.12681352169084595, model__epsilon=53.45166110646818\n",
      "[CV 13/15; 22/50] END model__C=0.12681352169084595, model__epsilon=53.45166110646818;, score=-64.912 total time=   0.4s\n",
      "[CV 14/15; 22/50] START model__C=0.12681352169084595, model__epsilon=53.45166110646818\n",
      "[CV 14/15; 22/50] END model__C=0.12681352169084595, model__epsilon=53.45166110646818;, score=-63.092 total time=   0.4s\n",
      "[CV 15/15; 22/50] START model__C=0.12681352169084595, model__epsilon=53.45166110646818\n",
      "[CV 15/15; 22/50] END model__C=0.12681352169084595, model__epsilon=53.45166110646818;, score=-67.631 total time=   0.4s\n",
      "[CV 1/15; 23/50] START model__C=0.5975027999960293, model__epsilon=9.717775305059629\n",
      "[CV 1/15; 23/50] END model__C=0.5975027999960293, model__epsilon=9.717775305059629;, score=-31.539 total time=   0.6s\n",
      "[CV 2/15; 23/50] START model__C=0.5975027999960293, model__epsilon=9.717775305059629\n",
      "[CV 2/15; 23/50] END model__C=0.5975027999960293, model__epsilon=9.717775305059629;, score=-32.649 total time=   0.6s\n",
      "[CV 3/15; 23/50] START model__C=0.5975027999960293, model__epsilon=9.717775305059629\n",
      "[CV 3/15; 23/50] END model__C=0.5975027999960293, model__epsilon=9.717775305059629;, score=-33.555 total time=   0.6s\n",
      "[CV 4/15; 23/50] START model__C=0.5975027999960293, model__epsilon=9.717775305059629\n",
      "[CV 4/15; 23/50] END model__C=0.5975027999960293, model__epsilon=9.717775305059629;, score=-31.746 total time=   0.6s\n",
      "[CV 5/15; 23/50] START model__C=0.5975027999960293, model__epsilon=9.717775305059629\n",
      "[CV 5/15; 23/50] END model__C=0.5975027999960293, model__epsilon=9.717775305059629;, score=-37.040 total time=   0.6s\n",
      "[CV 6/15; 23/50] START model__C=0.5975027999960293, model__epsilon=9.717775305059629\n",
      "[CV 6/15; 23/50] END model__C=0.5975027999960293, model__epsilon=9.717775305059629;, score=-31.875 total time=   0.6s\n",
      "[CV 7/15; 23/50] START model__C=0.5975027999960293, model__epsilon=9.717775305059629\n",
      "[CV 7/15; 23/50] END model__C=0.5975027999960293, model__epsilon=9.717775305059629;, score=-32.482 total time=   0.6s\n",
      "[CV 8/15; 23/50] START model__C=0.5975027999960293, model__epsilon=9.717775305059629\n",
      "[CV 8/15; 23/50] END model__C=0.5975027999960293, model__epsilon=9.717775305059629;, score=-33.716 total time=   0.6s\n",
      "[CV 9/15; 23/50] START model__C=0.5975027999960293, model__epsilon=9.717775305059629\n",
      "[CV 9/15; 23/50] END model__C=0.5975027999960293, model__epsilon=9.717775305059629;, score=-32.426 total time=   0.6s\n",
      "[CV 10/15; 23/50] START model__C=0.5975027999960293, model__epsilon=9.717775305059629\n"
     ]
    },
    {
     "name": "stdout",
     "output_type": "stream",
     "text": [
      "[CV 10/15; 23/50] END model__C=0.5975027999960293, model__epsilon=9.717775305059629;, score=-36.194 total time=   0.6s\n",
      "[CV 11/15; 23/50] START model__C=0.5975027999960293, model__epsilon=9.717775305059629\n",
      "[CV 11/15; 23/50] END model__C=0.5975027999960293, model__epsilon=9.717775305059629;, score=-31.904 total time=   0.6s\n",
      "[CV 12/15; 23/50] START model__C=0.5975027999960293, model__epsilon=9.717775305059629\n",
      "[CV 12/15; 23/50] END model__C=0.5975027999960293, model__epsilon=9.717775305059629;, score=-32.228 total time=   0.6s\n",
      "[CV 13/15; 23/50] START model__C=0.5975027999960293, model__epsilon=9.717775305059629\n",
      "[CV 13/15; 23/50] END model__C=0.5975027999960293, model__epsilon=9.717775305059629;, score=-33.711 total time=   0.6s\n",
      "[CV 14/15; 23/50] START model__C=0.5975027999960293, model__epsilon=9.717775305059629\n",
      "[CV 14/15; 23/50] END model__C=0.5975027999960293, model__epsilon=9.717775305059629;, score=-31.956 total time=   0.6s\n",
      "[CV 15/15; 23/50] START model__C=0.5975027999960293, model__epsilon=9.717775305059629\n",
      "[CV 15/15; 23/50] END model__C=0.5975027999960293, model__epsilon=9.717775305059629;, score=-36.649 total time=   0.6s\n",
      "[CV 1/15; 24/50] START model__C=0.8612579192594884, model__epsilon=3.632486956676605\n",
      "[CV 1/15; 24/50] END model__C=0.8612579192594884, model__epsilon=3.632486956676605;, score=-28.854 total time=   0.9s\n",
      "[CV 2/15; 24/50] START model__C=0.8612579192594884, model__epsilon=3.632486956676605\n",
      "[CV 2/15; 24/50] END model__C=0.8612579192594884, model__epsilon=3.632486956676605;, score=-29.938 total time=   0.9s\n",
      "[CV 3/15; 24/50] START model__C=0.8612579192594884, model__epsilon=3.632486956676605\n",
      "[CV 3/15; 24/50] END model__C=0.8612579192594884, model__epsilon=3.632486956676605;, score=-30.757 total time=   0.9s\n",
      "[CV 4/15; 24/50] START model__C=0.8612579192594884, model__epsilon=3.632486956676605\n",
      "[CV 4/15; 24/50] END model__C=0.8612579192594884, model__epsilon=3.632486956676605;, score=-29.016 total time=   0.9s\n",
      "[CV 5/15; 24/50] START model__C=0.8612579192594884, model__epsilon=3.632486956676605\n",
      "[CV 5/15; 24/50] END model__C=0.8612579192594884, model__epsilon=3.632486956676605;, score=-34.243 total time=   0.9s\n",
      "[CV 6/15; 24/50] START model__C=0.8612579192594884, model__epsilon=3.632486956676605\n",
      "[CV 6/15; 24/50] END model__C=0.8612579192594884, model__epsilon=3.632486956676605;, score=-29.001 total time=   0.9s\n",
      "[CV 7/15; 24/50] START model__C=0.8612579192594884, model__epsilon=3.632486956676605\n",
      "[CV 7/15; 24/50] END model__C=0.8612579192594884, model__epsilon=3.632486956676605;, score=-29.533 total time=   0.9s\n",
      "[CV 8/15; 24/50] START model__C=0.8612579192594884, model__epsilon=3.632486956676605\n",
      "[CV 8/15; 24/50] END model__C=0.8612579192594884, model__epsilon=3.632486956676605;, score=-31.220 total time=   0.9s\n",
      "[CV 9/15; 24/50] START model__C=0.8612579192594884, model__epsilon=3.632486956676605\n",
      "[CV 9/15; 24/50] END model__C=0.8612579192594884, model__epsilon=3.632486956676605;, score=-29.725 total time=   0.9s\n",
      "[CV 10/15; 24/50] START model__C=0.8612579192594884, model__epsilon=3.632486956676605\n",
      "[CV 10/15; 24/50] END model__C=0.8612579192594884, model__epsilon=3.632486956676605;, score=-33.389 total time=   0.9s\n",
      "[CV 11/15; 24/50] START model__C=0.8612579192594884, model__epsilon=3.632486956676605\n",
      "[CV 11/15; 24/50] END model__C=0.8612579192594884, model__epsilon=3.632486956676605;, score=-29.273 total time=   0.9s\n",
      "[CV 12/15; 24/50] START model__C=0.8612579192594884, model__epsilon=3.632486956676605\n",
      "[CV 12/15; 24/50] END model__C=0.8612579192594884, model__epsilon=3.632486956676605;, score=-29.496 total time=   0.9s\n",
      "[CV 13/15; 24/50] START model__C=0.8612579192594884, model__epsilon=3.632486956676605\n",
      "[CV 13/15; 24/50] END model__C=0.8612579192594884, model__epsilon=3.632486956676605;, score=-31.026 total time=   0.9s\n",
      "[CV 14/15; 24/50] START model__C=0.8612579192594884, model__epsilon=3.632486956676605\n",
      "[CV 14/15; 24/50] END model__C=0.8612579192594884, model__epsilon=3.632486956676605;, score=-29.204 total time=   0.9s\n",
      "[CV 15/15; 24/50] START model__C=0.8612579192594884, model__epsilon=3.632486956676605\n",
      "[CV 15/15; 24/50] END model__C=0.8612579192594884, model__epsilon=3.632486956676605;, score=-33.846 total time=   0.9s\n",
      "[CV 1/15; 25/50] START model__C=4.366473592979633, model__epsilon=0.35856126103453967\n"
     ]
    },
    {
     "name": "stderr",
     "output_type": "stream",
     "text": [
      "/opt/anaconda3/lib/python3.9/site-packages/sklearn/svm/_base.py:299: ConvergenceWarning: Solver terminated early (max_iter=50000).  Consider pre-processing your data with StandardScaler or MinMaxScaler.\n",
      "  warnings.warn(\n"
     ]
    },
    {
     "name": "stdout",
     "output_type": "stream",
     "text": [
      "[CV 1/15; 25/50] END model__C=4.366473592979633, model__epsilon=0.35856126103453967;, score=-24.595 total time=   1.6s\n",
      "[CV 2/15; 25/50] START model__C=4.366473592979633, model__epsilon=0.35856126103453967\n"
     ]
    },
    {
     "name": "stderr",
     "output_type": "stream",
     "text": [
      "/opt/anaconda3/lib/python3.9/site-packages/sklearn/svm/_base.py:299: ConvergenceWarning: Solver terminated early (max_iter=50000).  Consider pre-processing your data with StandardScaler or MinMaxScaler.\n",
      "  warnings.warn(\n"
     ]
    },
    {
     "name": "stdout",
     "output_type": "stream",
     "text": [
      "[CV 2/15; 25/50] END model__C=4.366473592979633, model__epsilon=0.35856126103453967;, score=-26.190 total time=   1.6s\n",
      "[CV 3/15; 25/50] START model__C=4.366473592979633, model__epsilon=0.35856126103453967\n"
     ]
    },
    {
     "name": "stderr",
     "output_type": "stream",
     "text": [
      "/opt/anaconda3/lib/python3.9/site-packages/sklearn/svm/_base.py:299: ConvergenceWarning: Solver terminated early (max_iter=50000).  Consider pre-processing your data with StandardScaler or MinMaxScaler.\n",
      "  warnings.warn(\n"
     ]
    },
    {
     "name": "stdout",
     "output_type": "stream",
     "text": [
      "[CV 3/15; 25/50] END model__C=4.366473592979633, model__epsilon=0.35856126103453967;, score=-26.255 total time=   1.6s\n",
      "[CV 4/15; 25/50] START model__C=4.366473592979633, model__epsilon=0.35856126103453967\n"
     ]
    },
    {
     "name": "stderr",
     "output_type": "stream",
     "text": [
      "/opt/anaconda3/lib/python3.9/site-packages/sklearn/svm/_base.py:299: ConvergenceWarning: Solver terminated early (max_iter=50000).  Consider pre-processing your data with StandardScaler or MinMaxScaler.\n",
      "  warnings.warn(\n"
     ]
    },
    {
     "name": "stdout",
     "output_type": "stream",
     "text": [
      "[CV 4/15; 25/50] END model__C=4.366473592979633, model__epsilon=0.35856126103453967;, score=-25.256 total time=   1.6s\n",
      "[CV 5/15; 25/50] START model__C=4.366473592979633, model__epsilon=0.35856126103453967\n"
     ]
    },
    {
     "name": "stderr",
     "output_type": "stream",
     "text": [
      "/opt/anaconda3/lib/python3.9/site-packages/sklearn/svm/_base.py:299: ConvergenceWarning: Solver terminated early (max_iter=50000).  Consider pre-processing your data with StandardScaler or MinMaxScaler.\n",
      "  warnings.warn(\n"
     ]
    },
    {
     "name": "stdout",
     "output_type": "stream",
     "text": [
      "[CV 5/15; 25/50] END model__C=4.366473592979633, model__epsilon=0.35856126103453967;, score=-29.725 total time=   1.6s\n",
      "[CV 6/15; 25/50] START model__C=4.366473592979633, model__epsilon=0.35856126103453967\n"
     ]
    },
    {
     "name": "stderr",
     "output_type": "stream",
     "text": [
      "/opt/anaconda3/lib/python3.9/site-packages/sklearn/svm/_base.py:299: ConvergenceWarning: Solver terminated early (max_iter=50000).  Consider pre-processing your data with StandardScaler or MinMaxScaler.\n",
      "  warnings.warn(\n"
     ]
    },
    {
     "name": "stdout",
     "output_type": "stream",
     "text": [
      "[CV 6/15; 25/50] END model__C=4.366473592979633, model__epsilon=0.35856126103453967;, score=-24.244 total time=   1.6s\n",
      "[CV 7/15; 25/50] START model__C=4.366473592979633, model__epsilon=0.35856126103453967\n"
     ]
    },
    {
     "name": "stderr",
     "output_type": "stream",
     "text": [
      "/opt/anaconda3/lib/python3.9/site-packages/sklearn/svm/_base.py:299: ConvergenceWarning: Solver terminated early (max_iter=50000).  Consider pre-processing your data with StandardScaler or MinMaxScaler.\n",
      "  warnings.warn(\n"
     ]
    },
    {
     "name": "stdout",
     "output_type": "stream",
     "text": [
      "[CV 7/15; 25/50] END model__C=4.366473592979633, model__epsilon=0.35856126103453967;, score=-25.674 total time=   1.6s\n",
      "[CV 8/15; 25/50] START model__C=4.366473592979633, model__epsilon=0.35856126103453967\n"
     ]
    },
    {
     "name": "stderr",
     "output_type": "stream",
     "text": [
      "/opt/anaconda3/lib/python3.9/site-packages/sklearn/svm/_base.py:299: ConvergenceWarning: Solver terminated early (max_iter=50000).  Consider pre-processing your data with StandardScaler or MinMaxScaler.\n",
      "  warnings.warn(\n"
     ]
    },
    {
     "name": "stdout",
     "output_type": "stream",
     "text": [
      "[CV 8/15; 25/50] END model__C=4.366473592979633, model__epsilon=0.35856126103453967;, score=-28.177 total time=   1.6s\n",
      "[CV 9/15; 25/50] START model__C=4.366473592979633, model__epsilon=0.35856126103453967\n"
     ]
    },
    {
     "name": "stderr",
     "output_type": "stream",
     "text": [
      "/opt/anaconda3/lib/python3.9/site-packages/sklearn/svm/_base.py:299: ConvergenceWarning: Solver terminated early (max_iter=50000).  Consider pre-processing your data with StandardScaler or MinMaxScaler.\n",
      "  warnings.warn(\n"
     ]
    },
    {
     "name": "stdout",
     "output_type": "stream",
     "text": [
      "[CV 9/15; 25/50] END model__C=4.366473592979633, model__epsilon=0.35856126103453967;, score=-25.979 total time=   1.6s\n",
      "[CV 10/15; 25/50] START model__C=4.366473592979633, model__epsilon=0.35856126103453967\n"
     ]
    },
    {
     "name": "stderr",
     "output_type": "stream",
     "text": [
      "/opt/anaconda3/lib/python3.9/site-packages/sklearn/svm/_base.py:299: ConvergenceWarning: Solver terminated early (max_iter=50000).  Consider pre-processing your data with StandardScaler or MinMaxScaler.\n",
      "  warnings.warn(\n"
     ]
    },
    {
     "name": "stdout",
     "output_type": "stream",
     "text": [
      "[CV 10/15; 25/50] END model__C=4.366473592979633, model__epsilon=0.35856126103453967;, score=-28.150 total time=   1.6s\n",
      "[CV 11/15; 25/50] START model__C=4.366473592979633, model__epsilon=0.35856126103453967\n"
     ]
    },
    {
     "name": "stderr",
     "output_type": "stream",
     "text": [
      "/opt/anaconda3/lib/python3.9/site-packages/sklearn/svm/_base.py:299: ConvergenceWarning: Solver terminated early (max_iter=50000).  Consider pre-processing your data with StandardScaler or MinMaxScaler.\n",
      "  warnings.warn(\n"
     ]
    },
    {
     "name": "stdout",
     "output_type": "stream",
     "text": [
      "[CV 11/15; 25/50] END model__C=4.366473592979633, model__epsilon=0.35856126103453967;, score=-25.687 total time=   1.6s\n",
      "[CV 12/15; 25/50] START model__C=4.366473592979633, model__epsilon=0.35856126103453967\n"
     ]
    },
    {
     "name": "stderr",
     "output_type": "stream",
     "text": [
      "/opt/anaconda3/lib/python3.9/site-packages/sklearn/svm/_base.py:299: ConvergenceWarning: Solver terminated early (max_iter=50000).  Consider pre-processing your data with StandardScaler or MinMaxScaler.\n",
      "  warnings.warn(\n"
     ]
    },
    {
     "name": "stdout",
     "output_type": "stream",
     "text": [
      "[CV 12/15; 25/50] END model__C=4.366473592979633, model__epsilon=0.35856126103453967;, score=-25.173 total time=   1.6s\n",
      "[CV 13/15; 25/50] START model__C=4.366473592979633, model__epsilon=0.35856126103453967\n"
     ]
    },
    {
     "name": "stderr",
     "output_type": "stream",
     "text": [
      "/opt/anaconda3/lib/python3.9/site-packages/sklearn/svm/_base.py:299: ConvergenceWarning: Solver terminated early (max_iter=50000).  Consider pre-processing your data with StandardScaler or MinMaxScaler.\n",
      "  warnings.warn(\n"
     ]
    },
    {
     "name": "stdout",
     "output_type": "stream",
     "text": [
      "[CV 13/15; 25/50] END model__C=4.366473592979633, model__epsilon=0.35856126103453967;, score=-26.405 total time=   1.6s\n",
      "[CV 14/15; 25/50] START model__C=4.366473592979633, model__epsilon=0.35856126103453967\n"
     ]
    },
    {
     "name": "stderr",
     "output_type": "stream",
     "text": [
      "/opt/anaconda3/lib/python3.9/site-packages/sklearn/svm/_base.py:299: ConvergenceWarning: Solver terminated early (max_iter=50000).  Consider pre-processing your data with StandardScaler or MinMaxScaler.\n",
      "  warnings.warn(\n"
     ]
    },
    {
     "name": "stdout",
     "output_type": "stream",
     "text": [
      "[CV 14/15; 25/50] END model__C=4.366473592979633, model__epsilon=0.35856126103453967;, score=-25.469 total time=   1.6s\n",
      "[CV 15/15; 25/50] START model__C=4.366473592979633, model__epsilon=0.35856126103453967\n"
     ]
    },
    {
     "name": "stderr",
     "output_type": "stream",
     "text": [
      "/opt/anaconda3/lib/python3.9/site-packages/sklearn/svm/_base.py:299: ConvergenceWarning: Solver terminated early (max_iter=50000).  Consider pre-processing your data with StandardScaler or MinMaxScaler.\n",
      "  warnings.warn(\n"
     ]
    },
    {
     "name": "stdout",
     "output_type": "stream",
     "text": [
      "[CV 15/15; 25/50] END model__C=4.366473592979633, model__epsilon=0.35856126103453967;, score=-29.688 total time=   1.6s\n",
      "[CV 1/15; 26/50] START model__C=81.05016126411583, model__epsilon=21.154290797261208\n"
     ]
    },
    {
     "name": "stderr",
     "output_type": "stream",
     "text": [
      "/opt/anaconda3/lib/python3.9/site-packages/sklearn/svm/_base.py:299: ConvergenceWarning: Solver terminated early (max_iter=50000).  Consider pre-processing your data with StandardScaler or MinMaxScaler.\n",
      "  warnings.warn(\n"
     ]
    },
    {
     "name": "stdout",
     "output_type": "stream",
     "text": [
      "[CV 1/15; 26/50] END model__C=81.05016126411583, model__epsilon=21.154290797261208;, score=-28.804 total time=   1.0s\n",
      "[CV 2/15; 26/50] START model__C=81.05016126411583, model__epsilon=21.154290797261208\n"
     ]
    },
    {
     "name": "stderr",
     "output_type": "stream",
     "text": [
      "/opt/anaconda3/lib/python3.9/site-packages/sklearn/svm/_base.py:299: ConvergenceWarning: Solver terminated early (max_iter=50000).  Consider pre-processing your data with StandardScaler or MinMaxScaler.\n",
      "  warnings.warn(\n"
     ]
    },
    {
     "name": "stdout",
     "output_type": "stream",
     "text": [
      "[CV 2/15; 26/50] END model__C=81.05016126411583, model__epsilon=21.154290797261208;, score=-30.257 total time=   0.9s\n",
      "[CV 3/15; 26/50] START model__C=81.05016126411583, model__epsilon=21.154290797261208\n"
     ]
    },
    {
     "name": "stderr",
     "output_type": "stream",
     "text": [
      "/opt/anaconda3/lib/python3.9/site-packages/sklearn/svm/_base.py:299: ConvergenceWarning: Solver terminated early (max_iter=50000).  Consider pre-processing your data with StandardScaler or MinMaxScaler.\n",
      "  warnings.warn(\n"
     ]
    },
    {
     "name": "stdout",
     "output_type": "stream",
     "text": [
      "[CV 3/15; 26/50] END model__C=81.05016126411583, model__epsilon=21.154290797261208;, score=-30.051 total time=   0.9s\n",
      "[CV 4/15; 26/50] START model__C=81.05016126411583, model__epsilon=21.154290797261208\n"
     ]
    },
    {
     "name": "stderr",
     "output_type": "stream",
     "text": [
      "/opt/anaconda3/lib/python3.9/site-packages/sklearn/svm/_base.py:299: ConvergenceWarning: Solver terminated early (max_iter=50000).  Consider pre-processing your data with StandardScaler or MinMaxScaler.\n",
      "  warnings.warn(\n"
     ]
    },
    {
     "name": "stdout",
     "output_type": "stream",
     "text": [
      "[CV 4/15; 26/50] END model__C=81.05016126411583, model__epsilon=21.154290797261208;, score=-29.834 total time=   1.0s\n",
      "[CV 5/15; 26/50] START model__C=81.05016126411583, model__epsilon=21.154290797261208\n"
     ]
    },
    {
     "name": "stderr",
     "output_type": "stream",
     "text": [
      "/opt/anaconda3/lib/python3.9/site-packages/sklearn/svm/_base.py:299: ConvergenceWarning: Solver terminated early (max_iter=50000).  Consider pre-processing your data with StandardScaler or MinMaxScaler.\n",
      "  warnings.warn(\n"
     ]
    },
    {
     "name": "stdout",
     "output_type": "stream",
     "text": [
      "[CV 5/15; 26/50] END model__C=81.05016126411583, model__epsilon=21.154290797261208;, score=-32.308 total time=   0.9s\n",
      "[CV 6/15; 26/50] START model__C=81.05016126411583, model__epsilon=21.154290797261208\n"
     ]
    },
    {
     "name": "stderr",
     "output_type": "stream",
     "text": [
      "/opt/anaconda3/lib/python3.9/site-packages/sklearn/svm/_base.py:299: ConvergenceWarning: Solver terminated early (max_iter=50000).  Consider pre-processing your data with StandardScaler or MinMaxScaler.\n",
      "  warnings.warn(\n"
     ]
    },
    {
     "name": "stdout",
     "output_type": "stream",
     "text": [
      "[CV 6/15; 26/50] END model__C=81.05016126411583, model__epsilon=21.154290797261208;, score=-28.550 total time=   1.0s\n",
      "[CV 7/15; 26/50] START model__C=81.05016126411583, model__epsilon=21.154290797261208\n"
     ]
    },
    {
     "name": "stderr",
     "output_type": "stream",
     "text": [
      "/opt/anaconda3/lib/python3.9/site-packages/sklearn/svm/_base.py:299: ConvergenceWarning: Solver terminated early (max_iter=50000).  Consider pre-processing your data with StandardScaler or MinMaxScaler.\n",
      "  warnings.warn(\n"
     ]
    },
    {
     "name": "stdout",
     "output_type": "stream",
     "text": [
      "[CV 7/15; 26/50] END model__C=81.05016126411583, model__epsilon=21.154290797261208;, score=-29.783 total time=   0.9s\n",
      "[CV 8/15; 26/50] START model__C=81.05016126411583, model__epsilon=21.154290797261208\n"
     ]
    },
    {
     "name": "stderr",
     "output_type": "stream",
     "text": [
      "/opt/anaconda3/lib/python3.9/site-packages/sklearn/svm/_base.py:299: ConvergenceWarning: Solver terminated early (max_iter=50000).  Consider pre-processing your data with StandardScaler or MinMaxScaler.\n",
      "  warnings.warn(\n"
     ]
    },
    {
     "name": "stdout",
     "output_type": "stream",
     "text": [
      "[CV 8/15; 26/50] END model__C=81.05016126411583, model__epsilon=21.154290797261208;, score=-32.481 total time=   0.9s\n",
      "[CV 9/15; 26/50] START model__C=81.05016126411583, model__epsilon=21.154290797261208\n"
     ]
    },
    {
     "name": "stderr",
     "output_type": "stream",
     "text": [
      "/opt/anaconda3/lib/python3.9/site-packages/sklearn/svm/_base.py:299: ConvergenceWarning: Solver terminated early (max_iter=50000).  Consider pre-processing your data with StandardScaler or MinMaxScaler.\n",
      "  warnings.warn(\n"
     ]
    },
    {
     "name": "stdout",
     "output_type": "stream",
     "text": [
      "[CV 9/15; 26/50] END model__C=81.05016126411583, model__epsilon=21.154290797261208;, score=-29.234 total time=   0.9s\n",
      "[CV 10/15; 26/50] START model__C=81.05016126411583, model__epsilon=21.154290797261208\n"
     ]
    },
    {
     "name": "stderr",
     "output_type": "stream",
     "text": [
      "/opt/anaconda3/lib/python3.9/site-packages/sklearn/svm/_base.py:299: ConvergenceWarning: Solver terminated early (max_iter=50000).  Consider pre-processing your data with StandardScaler or MinMaxScaler.\n",
      "  warnings.warn(\n"
     ]
    },
    {
     "name": "stdout",
     "output_type": "stream",
     "text": [
      "[CV 10/15; 26/50] END model__C=81.05016126411583, model__epsilon=21.154290797261208;, score=-31.020 total time=   0.9s\n",
      "[CV 11/15; 26/50] START model__C=81.05016126411583, model__epsilon=21.154290797261208\n"
     ]
    },
    {
     "name": "stderr",
     "output_type": "stream",
     "text": [
      "/opt/anaconda3/lib/python3.9/site-packages/sklearn/svm/_base.py:299: ConvergenceWarning: Solver terminated early (max_iter=50000).  Consider pre-processing your data with StandardScaler or MinMaxScaler.\n",
      "  warnings.warn(\n"
     ]
    },
    {
     "name": "stdout",
     "output_type": "stream",
     "text": [
      "[CV 11/15; 26/50] END model__C=81.05016126411583, model__epsilon=21.154290797261208;, score=-30.559 total time=   1.0s\n",
      "[CV 12/15; 26/50] START model__C=81.05016126411583, model__epsilon=21.154290797261208\n"
     ]
    },
    {
     "name": "stderr",
     "output_type": "stream",
     "text": [
      "/opt/anaconda3/lib/python3.9/site-packages/sklearn/svm/_base.py:299: ConvergenceWarning: Solver terminated early (max_iter=50000).  Consider pre-processing your data with StandardScaler or MinMaxScaler.\n",
      "  warnings.warn(\n"
     ]
    },
    {
     "name": "stdout",
     "output_type": "stream",
     "text": [
      "[CV 12/15; 26/50] END model__C=81.05016126411583, model__epsilon=21.154290797261208;, score=-28.649 total time=   0.9s\n",
      "[CV 13/15; 26/50] START model__C=81.05016126411583, model__epsilon=21.154290797261208\n"
     ]
    },
    {
     "name": "stderr",
     "output_type": "stream",
     "text": [
      "/opt/anaconda3/lib/python3.9/site-packages/sklearn/svm/_base.py:299: ConvergenceWarning: Solver terminated early (max_iter=50000).  Consider pre-processing your data with StandardScaler or MinMaxScaler.\n",
      "  warnings.warn(\n"
     ]
    },
    {
     "name": "stdout",
     "output_type": "stream",
     "text": [
      "[CV 13/15; 26/50] END model__C=81.05016126411583, model__epsilon=21.154290797261208;, score=-30.128 total time=   0.9s\n",
      "[CV 14/15; 26/50] START model__C=81.05016126411583, model__epsilon=21.154290797261208\n"
     ]
    },
    {
     "name": "stderr",
     "output_type": "stream",
     "text": [
      "/opt/anaconda3/lib/python3.9/site-packages/sklearn/svm/_base.py:299: ConvergenceWarning: Solver terminated early (max_iter=50000).  Consider pre-processing your data with StandardScaler or MinMaxScaler.\n",
      "  warnings.warn(\n"
     ]
    },
    {
     "name": "stdout",
     "output_type": "stream",
     "text": [
      "[CV 14/15; 26/50] END model__C=81.05016126411583, model__epsilon=21.154290797261208;, score=-29.686 total time=   0.9s\n",
      "[CV 15/15; 26/50] START model__C=81.05016126411583, model__epsilon=21.154290797261208\n"
     ]
    },
    {
     "name": "stderr",
     "output_type": "stream",
     "text": [
      "/opt/anaconda3/lib/python3.9/site-packages/sklearn/svm/_base.py:299: ConvergenceWarning: Solver terminated early (max_iter=50000).  Consider pre-processing your data with StandardScaler or MinMaxScaler.\n",
      "  warnings.warn(\n"
     ]
    },
    {
     "name": "stdout",
     "output_type": "stream",
     "text": [
      "[CV 15/15; 26/50] END model__C=81.05016126411583, model__epsilon=21.154290797261208;, score=-32.709 total time=   0.9s\n",
      "[CV 1/15; 27/50] START model__C=65.84106160121607, model__epsilon=48.35952776465949\n"
     ]
    },
    {
     "name": "stderr",
     "output_type": "stream",
     "text": [
      "/opt/anaconda3/lib/python3.9/site-packages/sklearn/svm/_base.py:299: ConvergenceWarning: Solver terminated early (max_iter=50000).  Consider pre-processing your data with StandardScaler or MinMaxScaler.\n",
      "  warnings.warn(\n"
     ]
    },
    {
     "name": "stdout",
     "output_type": "stream",
     "text": [
      "[CV 1/15; 27/50] END model__C=65.84106160121607, model__epsilon=48.35952776465949;, score=-36.986 total time=   0.5s\n",
      "[CV 2/15; 27/50] START model__C=65.84106160121607, model__epsilon=48.35952776465949\n"
     ]
    },
    {
     "name": "stderr",
     "output_type": "stream",
     "text": [
      "/opt/anaconda3/lib/python3.9/site-packages/sklearn/svm/_base.py:299: ConvergenceWarning: Solver terminated early (max_iter=50000).  Consider pre-processing your data with StandardScaler or MinMaxScaler.\n",
      "  warnings.warn(\n"
     ]
    },
    {
     "name": "stdout",
     "output_type": "stream",
     "text": [
      "[CV 2/15; 27/50] END model__C=65.84106160121607, model__epsilon=48.35952776465949;, score=-38.872 total time=   0.5s\n",
      "[CV 3/15; 27/50] START model__C=65.84106160121607, model__epsilon=48.35952776465949\n"
     ]
    },
    {
     "name": "stderr",
     "output_type": "stream",
     "text": [
      "/opt/anaconda3/lib/python3.9/site-packages/sklearn/svm/_base.py:299: ConvergenceWarning: Solver terminated early (max_iter=50000).  Consider pre-processing your data with StandardScaler or MinMaxScaler.\n",
      "  warnings.warn(\n"
     ]
    },
    {
     "name": "stdout",
     "output_type": "stream",
     "text": [
      "[CV 3/15; 27/50] END model__C=65.84106160121607, model__epsilon=48.35952776465949;, score=-38.857 total time=   0.5s\n",
      "[CV 4/15; 27/50] START model__C=65.84106160121607, model__epsilon=48.35952776465949\n"
     ]
    },
    {
     "name": "stderr",
     "output_type": "stream",
     "text": [
      "/opt/anaconda3/lib/python3.9/site-packages/sklearn/svm/_base.py:299: ConvergenceWarning: Solver terminated early (max_iter=50000).  Consider pre-processing your data with StandardScaler or MinMaxScaler.\n",
      "  warnings.warn(\n"
     ]
    },
    {
     "name": "stdout",
     "output_type": "stream",
     "text": [
      "[CV 4/15; 27/50] END model__C=65.84106160121607, model__epsilon=48.35952776465949;, score=-37.927 total time=   0.5s\n",
      "[CV 5/15; 27/50] START model__C=65.84106160121607, model__epsilon=48.35952776465949\n"
     ]
    },
    {
     "name": "stderr",
     "output_type": "stream",
     "text": [
      "/opt/anaconda3/lib/python3.9/site-packages/sklearn/svm/_base.py:299: ConvergenceWarning: Solver terminated early (max_iter=50000).  Consider pre-processing your data with StandardScaler or MinMaxScaler.\n",
      "  warnings.warn(\n"
     ]
    },
    {
     "name": "stdout",
     "output_type": "stream",
     "text": [
      "[CV 5/15; 27/50] END model__C=65.84106160121607, model__epsilon=48.35952776465949;, score=-40.384 total time=   0.5s\n",
      "[CV 6/15; 27/50] START model__C=65.84106160121607, model__epsilon=48.35952776465949\n"
     ]
    },
    {
     "name": "stderr",
     "output_type": "stream",
     "text": [
      "/opt/anaconda3/lib/python3.9/site-packages/sklearn/svm/_base.py:299: ConvergenceWarning: Solver terminated early (max_iter=50000).  Consider pre-processing your data with StandardScaler or MinMaxScaler.\n",
      "  warnings.warn(\n"
     ]
    },
    {
     "name": "stdout",
     "output_type": "stream",
     "text": [
      "[CV 6/15; 27/50] END model__C=65.84106160121607, model__epsilon=48.35952776465949;, score=-37.732 total time=   0.5s\n",
      "[CV 7/15; 27/50] START model__C=65.84106160121607, model__epsilon=48.35952776465949\n"
     ]
    },
    {
     "name": "stderr",
     "output_type": "stream",
     "text": [
      "/opt/anaconda3/lib/python3.9/site-packages/sklearn/svm/_base.py:299: ConvergenceWarning: Solver terminated early (max_iter=50000).  Consider pre-processing your data with StandardScaler or MinMaxScaler.\n",
      "  warnings.warn(\n"
     ]
    },
    {
     "name": "stdout",
     "output_type": "stream",
     "text": [
      "[CV 7/15; 27/50] END model__C=65.84106160121607, model__epsilon=48.35952776465949;, score=-38.874 total time=   0.5s\n",
      "[CV 8/15; 27/50] START model__C=65.84106160121607, model__epsilon=48.35952776465949\n"
     ]
    },
    {
     "name": "stderr",
     "output_type": "stream",
     "text": [
      "/opt/anaconda3/lib/python3.9/site-packages/sklearn/svm/_base.py:299: ConvergenceWarning: Solver terminated early (max_iter=50000).  Consider pre-processing your data with StandardScaler or MinMaxScaler.\n",
      "  warnings.warn(\n"
     ]
    },
    {
     "name": "stdout",
     "output_type": "stream",
     "text": [
      "[CV 8/15; 27/50] END model__C=65.84106160121607, model__epsilon=48.35952776465949;, score=-40.832 total time=   0.5s\n",
      "[CV 9/15; 27/50] START model__C=65.84106160121607, model__epsilon=48.35952776465949\n"
     ]
    },
    {
     "name": "stderr",
     "output_type": "stream",
     "text": [
      "/opt/anaconda3/lib/python3.9/site-packages/sklearn/svm/_base.py:299: ConvergenceWarning: Solver terminated early (max_iter=50000).  Consider pre-processing your data with StandardScaler or MinMaxScaler.\n",
      "  warnings.warn(\n"
     ]
    },
    {
     "name": "stdout",
     "output_type": "stream",
     "text": [
      "[CV 9/15; 27/50] END model__C=65.84106160121607, model__epsilon=48.35952776465949;, score=-37.380 total time=   0.5s\n",
      "[CV 10/15; 27/50] START model__C=65.84106160121607, model__epsilon=48.35952776465949\n"
     ]
    },
    {
     "name": "stderr",
     "output_type": "stream",
     "text": [
      "/opt/anaconda3/lib/python3.9/site-packages/sklearn/svm/_base.py:299: ConvergenceWarning: Solver terminated early (max_iter=50000).  Consider pre-processing your data with StandardScaler or MinMaxScaler.\n",
      "  warnings.warn(\n"
     ]
    },
    {
     "name": "stdout",
     "output_type": "stream",
     "text": [
      "[CV 10/15; 27/50] END model__C=65.84106160121607, model__epsilon=48.35952776465949;, score=-39.100 total time=   0.5s\n",
      "[CV 11/15; 27/50] START model__C=65.84106160121607, model__epsilon=48.35952776465949\n"
     ]
    },
    {
     "name": "stderr",
     "output_type": "stream",
     "text": [
      "/opt/anaconda3/lib/python3.9/site-packages/sklearn/svm/_base.py:299: ConvergenceWarning: Solver terminated early (max_iter=50000).  Consider pre-processing your data with StandardScaler or MinMaxScaler.\n",
      "  warnings.warn(\n"
     ]
    },
    {
     "name": "stdout",
     "output_type": "stream",
     "text": [
      "[CV 11/15; 27/50] END model__C=65.84106160121607, model__epsilon=48.35952776465949;, score=-38.365 total time=   0.5s\n",
      "[CV 12/15; 27/50] START model__C=65.84106160121607, model__epsilon=48.35952776465949\n"
     ]
    },
    {
     "name": "stderr",
     "output_type": "stream",
     "text": [
      "/opt/anaconda3/lib/python3.9/site-packages/sklearn/svm/_base.py:299: ConvergenceWarning: Solver terminated early (max_iter=50000).  Consider pre-processing your data with StandardScaler or MinMaxScaler.\n",
      "  warnings.warn(\n"
     ]
    },
    {
     "name": "stdout",
     "output_type": "stream",
     "text": [
      "[CV 12/15; 27/50] END model__C=65.84106160121607, model__epsilon=48.35952776465949;, score=-37.845 total time=   0.5s\n",
      "[CV 13/15; 27/50] START model__C=65.84106160121607, model__epsilon=48.35952776465949\n"
     ]
    },
    {
     "name": "stderr",
     "output_type": "stream",
     "text": [
      "/opt/anaconda3/lib/python3.9/site-packages/sklearn/svm/_base.py:299: ConvergenceWarning: Solver terminated early (max_iter=50000).  Consider pre-processing your data with StandardScaler or MinMaxScaler.\n",
      "  warnings.warn(\n"
     ]
    },
    {
     "name": "stdout",
     "output_type": "stream",
     "text": [
      "[CV 13/15; 27/50] END model__C=65.84106160121607, model__epsilon=48.35952776465949;, score=-38.838 total time=   0.5s\n",
      "[CV 14/15; 27/50] START model__C=65.84106160121607, model__epsilon=48.35952776465949\n"
     ]
    },
    {
     "name": "stderr",
     "output_type": "stream",
     "text": [
      "/opt/anaconda3/lib/python3.9/site-packages/sklearn/svm/_base.py:299: ConvergenceWarning: Solver terminated early (max_iter=50000).  Consider pre-processing your data with StandardScaler or MinMaxScaler.\n",
      "  warnings.warn(\n"
     ]
    },
    {
     "name": "stdout",
     "output_type": "stream",
     "text": [
      "[CV 14/15; 27/50] END model__C=65.84106160121607, model__epsilon=48.35952776465949;, score=-37.430 total time=   0.5s\n",
      "[CV 15/15; 27/50] START model__C=65.84106160121607, model__epsilon=48.35952776465949\n"
     ]
    },
    {
     "name": "stderr",
     "output_type": "stream",
     "text": [
      "/opt/anaconda3/lib/python3.9/site-packages/sklearn/svm/_base.py:299: ConvergenceWarning: Solver terminated early (max_iter=50000).  Consider pre-processing your data with StandardScaler or MinMaxScaler.\n",
      "  warnings.warn(\n"
     ]
    },
    {
     "name": "stdout",
     "output_type": "stream",
     "text": [
      "[CV 15/15; 27/50] END model__C=65.84106160121607, model__epsilon=48.35952776465949;, score=-40.638 total time=   0.5s\n",
      "[CV 1/15; 28/50] START model__C=6.218704727769076, model__epsilon=58.293845429947346\n",
      "[CV 1/15; 28/50] END model__C=6.218704727769076, model__epsilon=58.293845429947346;, score=-42.034 total time=   0.3s\n",
      "[CV 2/15; 28/50] START model__C=6.218704727769076, model__epsilon=58.293845429947346\n",
      "[CV 2/15; 28/50] END model__C=6.218704727769076, model__epsilon=58.293845429947346;, score=-43.858 total time=   0.3s\n",
      "[CV 3/15; 28/50] START model__C=6.218704727769076, model__epsilon=58.293845429947346\n",
      "[CV 3/15; 28/50] END model__C=6.218704727769076, model__epsilon=58.293845429947346;, score=-44.637 total time=   0.3s\n",
      "[CV 4/15; 28/50] START model__C=6.218704727769076, model__epsilon=58.293845429947346\n",
      "[CV 4/15; 28/50] END model__C=6.218704727769076, model__epsilon=58.293845429947346;, score=-43.182 total time=   0.3s\n",
      "[CV 5/15; 28/50] START model__C=6.218704727769076, model__epsilon=58.293845429947346\n",
      "[CV 5/15; 28/50] END model__C=6.218704727769076, model__epsilon=58.293845429947346;, score=-48.348 total time=   0.3s\n",
      "[CV 6/15; 28/50] START model__C=6.218704727769076, model__epsilon=58.293845429947346\n",
      "[CV 6/15; 28/50] END model__C=6.218704727769076, model__epsilon=58.293845429947346;, score=-44.014 total time=   0.3s\n",
      "[CV 7/15; 28/50] START model__C=6.218704727769076, model__epsilon=58.293845429947346\n",
      "[CV 7/15; 28/50] END model__C=6.218704727769076, model__epsilon=58.293845429947346;, score=-44.000 total time=   0.3s\n",
      "[CV 8/15; 28/50] START model__C=6.218704727769076, model__epsilon=58.293845429947346\n",
      "[CV 8/15; 28/50] END model__C=6.218704727769076, model__epsilon=58.293845429947346;, score=-45.100 total time=   0.3s\n",
      "[CV 9/15; 28/50] START model__C=6.218704727769076, model__epsilon=58.293845429947346\n",
      "[CV 9/15; 28/50] END model__C=6.218704727769076, model__epsilon=58.293845429947346;, score=-43.625 total time=   0.3s\n",
      "[CV 10/15; 28/50] START model__C=6.218704727769076, model__epsilon=58.293845429947346\n",
      "[CV 10/15; 28/50] END model__C=6.218704727769076, model__epsilon=58.293845429947346;, score=-45.663 total time=   0.3s\n",
      "[CV 11/15; 28/50] START model__C=6.218704727769076, model__epsilon=58.293845429947346\n",
      "[CV 11/15; 28/50] END model__C=6.218704727769076, model__epsilon=58.293845429947346;, score=-44.456 total time=   0.3s\n",
      "[CV 12/15; 28/50] START model__C=6.218704727769076, model__epsilon=58.293845429947346\n",
      "[CV 12/15; 28/50] END model__C=6.218704727769076, model__epsilon=58.293845429947346;, score=-42.995 total time=   0.3s\n",
      "[CV 13/15; 28/50] START model__C=6.218704727769076, model__epsilon=58.293845429947346\n",
      "[CV 13/15; 28/50] END model__C=6.218704727769076, model__epsilon=58.293845429947346;, score=-44.084 total time=   0.3s\n",
      "[CV 14/15; 28/50] START model__C=6.218704727769076, model__epsilon=58.293845429947346\n",
      "[CV 14/15; 28/50] END model__C=6.218704727769076, model__epsilon=58.293845429947346;, score=-43.520 total time=   0.3s\n",
      "[CV 15/15; 28/50] START model__C=6.218704727769076, model__epsilon=58.293845429947346\n",
      "[CV 15/15; 28/50] END model__C=6.218704727769076, model__epsilon=58.293845429947346;, score=-47.490 total time=   0.3s\n",
      "[CV 1/15; 29/50] START model__C=0.18427970406864538, model__epsilon=0.3872118032174582\n",
      "[CV 1/15; 29/50] END model__C=0.18427970406864538, model__epsilon=0.3872118032174582;, score=-34.490 total time=   1.2s\n",
      "[CV 2/15; 29/50] START model__C=0.18427970406864538, model__epsilon=0.3872118032174582\n",
      "[CV 2/15; 29/50] END model__C=0.18427970406864538, model__epsilon=0.3872118032174582;, score=-34.723 total time=   1.2s\n",
      "[CV 3/15; 29/50] START model__C=0.18427970406864538, model__epsilon=0.3872118032174582\n",
      "[CV 3/15; 29/50] END model__C=0.18427970406864538, model__epsilon=0.3872118032174582;, score=-36.187 total time=   1.2s\n",
      "[CV 4/15; 29/50] START model__C=0.18427970406864538, model__epsilon=0.3872118032174582\n",
      "[CV 4/15; 29/50] END model__C=0.18427970406864538, model__epsilon=0.3872118032174582;, score=-34.346 total time=   1.2s\n",
      "[CV 5/15; 29/50] START model__C=0.18427970406864538, model__epsilon=0.3872118032174582\n",
      "[CV 5/15; 29/50] END model__C=0.18427970406864538, model__epsilon=0.3872118032174582;, score=-38.990 total time=   1.2s\n",
      "[CV 6/15; 29/50] START model__C=0.18427970406864538, model__epsilon=0.3872118032174582\n",
      "[CV 6/15; 29/50] END model__C=0.18427970406864538, model__epsilon=0.3872118032174582;, score=-34.423 total time=   1.2s\n",
      "[CV 7/15; 29/50] START model__C=0.18427970406864538, model__epsilon=0.3872118032174582\n",
      "[CV 7/15; 29/50] END model__C=0.18427970406864538, model__epsilon=0.3872118032174582;, score=-34.721 total time=   1.2s\n",
      "[CV 8/15; 29/50] START model__C=0.18427970406864538, model__epsilon=0.3872118032174582\n",
      "[CV 8/15; 29/50] END model__C=0.18427970406864538, model__epsilon=0.3872118032174582;, score=-36.258 total time=   1.2s\n",
      "[CV 9/15; 29/50] START model__C=0.18427970406864538, model__epsilon=0.3872118032174582\n",
      "[CV 9/15; 29/50] END model__C=0.18427970406864538, model__epsilon=0.3872118032174582;, score=-34.407 total time=   1.2s\n",
      "[CV 10/15; 29/50] START model__C=0.18427970406864538, model__epsilon=0.3872118032174582\n",
      "[CV 10/15; 29/50] END model__C=0.18427970406864538, model__epsilon=0.3872118032174582;, score=-38.904 total time=   1.2s\n",
      "[CV 11/15; 29/50] START model__C=0.18427970406864538, model__epsilon=0.3872118032174582\n",
      "[CV 11/15; 29/50] END model__C=0.18427970406864538, model__epsilon=0.3872118032174582;, score=-34.550 total time=   1.2s\n",
      "[CV 12/15; 29/50] START model__C=0.18427970406864538, model__epsilon=0.3872118032174582\n",
      "[CV 12/15; 29/50] END model__C=0.18427970406864538, model__epsilon=0.3872118032174582;, score=-34.640 total time=   1.2s\n",
      "[CV 13/15; 29/50] START model__C=0.18427970406864538, model__epsilon=0.3872118032174582\n",
      "[CV 13/15; 29/50] END model__C=0.18427970406864538, model__epsilon=0.3872118032174582;, score=-36.401 total time=   1.2s\n",
      "[CV 14/15; 29/50] START model__C=0.18427970406864538, model__epsilon=0.3872118032174582\n",
      "[CV 14/15; 29/50] END model__C=0.18427970406864538, model__epsilon=0.3872118032174582;, score=-34.121 total time=   1.2s\n",
      "[CV 15/15; 29/50] START model__C=0.18427970406864538, model__epsilon=0.3872118032174582\n",
      "[CV 15/15; 29/50] END model__C=0.18427970406864538, model__epsilon=0.3872118032174582;, score=-38.892 total time=   1.2s\n",
      "[CV 1/15; 30/50] START model__C=0.13667272915456222, model__epsilon=0.946217535646149\n",
      "[CV 1/15; 30/50] END model__C=0.13667272915456222, model__epsilon=0.946217535646149;, score=-35.522 total time=   1.1s\n",
      "[CV 2/15; 30/50] START model__C=0.13667272915456222, model__epsilon=0.946217535646149\n",
      "[CV 2/15; 30/50] END model__C=0.13667272915456222, model__epsilon=0.946217535646149;, score=-35.797 total time=   1.1s\n",
      "[CV 3/15; 30/50] START model__C=0.13667272915456222, model__epsilon=0.946217535646149\n",
      "[CV 3/15; 30/50] END model__C=0.13667272915456222, model__epsilon=0.946217535646149;, score=-37.186 total time=   1.1s\n",
      "[CV 4/15; 30/50] START model__C=0.13667272915456222, model__epsilon=0.946217535646149\n",
      "[CV 4/15; 30/50] END model__C=0.13667272915456222, model__epsilon=0.946217535646149;, score=-35.361 total time=   1.1s\n",
      "[CV 5/15; 30/50] START model__C=0.13667272915456222, model__epsilon=0.946217535646149\n",
      "[CV 5/15; 30/50] END model__C=0.13667272915456222, model__epsilon=0.946217535646149;, score=-40.005 total time=   1.1s\n",
      "[CV 6/15; 30/50] START model__C=0.13667272915456222, model__epsilon=0.946217535646149\n",
      "[CV 6/15; 30/50] END model__C=0.13667272915456222, model__epsilon=0.946217535646149;, score=-35.478 total time=   1.1s\n",
      "[CV 7/15; 30/50] START model__C=0.13667272915456222, model__epsilon=0.946217535646149\n",
      "[CV 7/15; 30/50] END model__C=0.13667272915456222, model__epsilon=0.946217535646149;, score=-35.716 total time=   1.1s\n",
      "[CV 8/15; 30/50] START model__C=0.13667272915456222, model__epsilon=0.946217535646149\n",
      "[CV 8/15; 30/50] END model__C=0.13667272915456222, model__epsilon=0.946217535646149;, score=-37.310 total time=   1.1s\n",
      "[CV 9/15; 30/50] START model__C=0.13667272915456222, model__epsilon=0.946217535646149\n",
      "[CV 9/15; 30/50] END model__C=0.13667272915456222, model__epsilon=0.946217535646149;, score=-35.440 total time=   1.1s\n",
      "[CV 10/15; 30/50] START model__C=0.13667272915456222, model__epsilon=0.946217535646149\n"
     ]
    },
    {
     "name": "stdout",
     "output_type": "stream",
     "text": [
      "[CV 10/15; 30/50] END model__C=0.13667272915456222, model__epsilon=0.946217535646149;, score=-39.925 total time=   1.1s\n",
      "[CV 11/15; 30/50] START model__C=0.13667272915456222, model__epsilon=0.946217535646149\n",
      "[CV 11/15; 30/50] END model__C=0.13667272915456222, model__epsilon=0.946217535646149;, score=-35.589 total time=   1.1s\n",
      "[CV 12/15; 30/50] START model__C=0.13667272915456222, model__epsilon=0.946217535646149\n",
      "[CV 12/15; 30/50] END model__C=0.13667272915456222, model__epsilon=0.946217535646149;, score=-35.705 total time=   1.1s\n",
      "[CV 13/15; 30/50] START model__C=0.13667272915456222, model__epsilon=0.946217535646149\n",
      "[CV 13/15; 30/50] END model__C=0.13667272915456222, model__epsilon=0.946217535646149;, score=-37.414 total time=   1.1s\n",
      "[CV 14/15; 30/50] START model__C=0.13667272915456222, model__epsilon=0.946217535646149\n",
      "[CV 14/15; 30/50] END model__C=0.13667272915456222, model__epsilon=0.946217535646149;, score=-35.221 total time=   1.1s\n",
      "[CV 15/15; 30/50] START model__C=0.13667272915456222, model__epsilon=0.946217535646149\n",
      "[CV 15/15; 30/50] END model__C=0.13667272915456222, model__epsilon=0.946217535646149;, score=-39.875 total time=   1.1s\n",
      "[CV 1/15; 31/50] START model__C=1.4656553886225332, model__epsilon=0.6516990611177174\n"
     ]
    },
    {
     "name": "stderr",
     "output_type": "stream",
     "text": [
      "/opt/anaconda3/lib/python3.9/site-packages/sklearn/svm/_base.py:299: ConvergenceWarning: Solver terminated early (max_iter=50000).  Consider pre-processing your data with StandardScaler or MinMaxScaler.\n",
      "  warnings.warn(\n"
     ]
    },
    {
     "name": "stdout",
     "output_type": "stream",
     "text": [
      "[CV 1/15; 31/50] END model__C=1.4656553886225332, model__epsilon=0.6516990611177174;, score=-26.871 total time=   1.3s\n",
      "[CV 2/15; 31/50] START model__C=1.4656553886225332, model__epsilon=0.6516990611177174\n"
     ]
    },
    {
     "name": "stderr",
     "output_type": "stream",
     "text": [
      "/opt/anaconda3/lib/python3.9/site-packages/sklearn/svm/_base.py:299: ConvergenceWarning: Solver terminated early (max_iter=50000).  Consider pre-processing your data with StandardScaler or MinMaxScaler.\n",
      "  warnings.warn(\n"
     ]
    },
    {
     "name": "stdout",
     "output_type": "stream",
     "text": [
      "[CV 2/15; 31/50] END model__C=1.4656553886225332, model__epsilon=0.6516990611177174;, score=-28.306 total time=   1.3s\n",
      "[CV 3/15; 31/50] START model__C=1.4656553886225332, model__epsilon=0.6516990611177174\n"
     ]
    },
    {
     "name": "stderr",
     "output_type": "stream",
     "text": [
      "/opt/anaconda3/lib/python3.9/site-packages/sklearn/svm/_base.py:299: ConvergenceWarning: Solver terminated early (max_iter=50000).  Consider pre-processing your data with StandardScaler or MinMaxScaler.\n",
      "  warnings.warn(\n"
     ]
    },
    {
     "name": "stdout",
     "output_type": "stream",
     "text": [
      "[CV 3/15; 31/50] END model__C=1.4656553886225332, model__epsilon=0.6516990611177174;, score=-29.020 total time=   1.3s\n",
      "[CV 4/15; 31/50] START model__C=1.4656553886225332, model__epsilon=0.6516990611177174\n"
     ]
    },
    {
     "name": "stderr",
     "output_type": "stream",
     "text": [
      "/opt/anaconda3/lib/python3.9/site-packages/sklearn/svm/_base.py:299: ConvergenceWarning: Solver terminated early (max_iter=50000).  Consider pre-processing your data with StandardScaler or MinMaxScaler.\n",
      "  warnings.warn(\n"
     ]
    },
    {
     "name": "stdout",
     "output_type": "stream",
     "text": [
      "[CV 4/15; 31/50] END model__C=1.4656553886225332, model__epsilon=0.6516990611177174;, score=-27.227 total time=   1.3s\n",
      "[CV 5/15; 31/50] START model__C=1.4656553886225332, model__epsilon=0.6516990611177174\n"
     ]
    },
    {
     "name": "stderr",
     "output_type": "stream",
     "text": [
      "/opt/anaconda3/lib/python3.9/site-packages/sklearn/svm/_base.py:299: ConvergenceWarning: Solver terminated early (max_iter=50000).  Consider pre-processing your data with StandardScaler or MinMaxScaler.\n",
      "  warnings.warn(\n"
     ]
    },
    {
     "name": "stdout",
     "output_type": "stream",
     "text": [
      "[CV 5/15; 31/50] END model__C=1.4656553886225332, model__epsilon=0.6516990611177174;, score=-32.330 total time=   1.3s\n",
      "[CV 6/15; 31/50] START model__C=1.4656553886225332, model__epsilon=0.6516990611177174\n"
     ]
    },
    {
     "name": "stderr",
     "output_type": "stream",
     "text": [
      "/opt/anaconda3/lib/python3.9/site-packages/sklearn/svm/_base.py:299: ConvergenceWarning: Solver terminated early (max_iter=50000).  Consider pre-processing your data with StandardScaler or MinMaxScaler.\n",
      "  warnings.warn(\n"
     ]
    },
    {
     "name": "stdout",
     "output_type": "stream",
     "text": [
      "[CV 6/15; 31/50] END model__C=1.4656553886225332, model__epsilon=0.6516990611177174;, score=-27.158 total time=   1.3s\n",
      "[CV 7/15; 31/50] START model__C=1.4656553886225332, model__epsilon=0.6516990611177174\n"
     ]
    },
    {
     "name": "stderr",
     "output_type": "stream",
     "text": [
      "/opt/anaconda3/lib/python3.9/site-packages/sklearn/svm/_base.py:299: ConvergenceWarning: Solver terminated early (max_iter=50000).  Consider pre-processing your data with StandardScaler or MinMaxScaler.\n",
      "  warnings.warn(\n"
     ]
    },
    {
     "name": "stdout",
     "output_type": "stream",
     "text": [
      "[CV 7/15; 31/50] END model__C=1.4656553886225332, model__epsilon=0.6516990611177174;, score=-27.667 total time=   1.3s\n",
      "[CV 8/15; 31/50] START model__C=1.4656553886225332, model__epsilon=0.6516990611177174\n"
     ]
    },
    {
     "name": "stderr",
     "output_type": "stream",
     "text": [
      "/opt/anaconda3/lib/python3.9/site-packages/sklearn/svm/_base.py:299: ConvergenceWarning: Solver terminated early (max_iter=50000).  Consider pre-processing your data with StandardScaler or MinMaxScaler.\n",
      "  warnings.warn(\n"
     ]
    },
    {
     "name": "stdout",
     "output_type": "stream",
     "text": [
      "[CV 8/15; 31/50] END model__C=1.4656553886225332, model__epsilon=0.6516990611177174;, score=-29.689 total time=   1.3s\n",
      "[CV 9/15; 31/50] START model__C=1.4656553886225332, model__epsilon=0.6516990611177174\n"
     ]
    },
    {
     "name": "stderr",
     "output_type": "stream",
     "text": [
      "/opt/anaconda3/lib/python3.9/site-packages/sklearn/svm/_base.py:299: ConvergenceWarning: Solver terminated early (max_iter=50000).  Consider pre-processing your data with StandardScaler or MinMaxScaler.\n",
      "  warnings.warn(\n"
     ]
    },
    {
     "name": "stdout",
     "output_type": "stream",
     "text": [
      "[CV 9/15; 31/50] END model__C=1.4656553886225332, model__epsilon=0.6516990611177174;, score=-28.133 total time=   1.3s\n",
      "[CV 10/15; 31/50] START model__C=1.4656553886225332, model__epsilon=0.6516990611177174\n"
     ]
    },
    {
     "name": "stderr",
     "output_type": "stream",
     "text": [
      "/opt/anaconda3/lib/python3.9/site-packages/sklearn/svm/_base.py:299: ConvergenceWarning: Solver terminated early (max_iter=50000).  Consider pre-processing your data with StandardScaler or MinMaxScaler.\n",
      "  warnings.warn(\n"
     ]
    },
    {
     "name": "stdout",
     "output_type": "stream",
     "text": [
      "[CV 10/15; 31/50] END model__C=1.4656553886225332, model__epsilon=0.6516990611177174;, score=-31.133 total time=   1.3s\n",
      "[CV 11/15; 31/50] START model__C=1.4656553886225332, model__epsilon=0.6516990611177174\n"
     ]
    },
    {
     "name": "stderr",
     "output_type": "stream",
     "text": [
      "/opt/anaconda3/lib/python3.9/site-packages/sklearn/svm/_base.py:299: ConvergenceWarning: Solver terminated early (max_iter=50000).  Consider pre-processing your data with StandardScaler or MinMaxScaler.\n",
      "  warnings.warn(\n"
     ]
    },
    {
     "name": "stdout",
     "output_type": "stream",
     "text": [
      "[CV 11/15; 31/50] END model__C=1.4656553886225332, model__epsilon=0.6516990611177174;, score=-27.481 total time=   1.3s\n",
      "[CV 12/15; 31/50] START model__C=1.4656553886225332, model__epsilon=0.6516990611177174\n"
     ]
    },
    {
     "name": "stderr",
     "output_type": "stream",
     "text": [
      "/opt/anaconda3/lib/python3.9/site-packages/sklearn/svm/_base.py:299: ConvergenceWarning: Solver terminated early (max_iter=50000).  Consider pre-processing your data with StandardScaler or MinMaxScaler.\n",
      "  warnings.warn(\n"
     ]
    },
    {
     "name": "stdout",
     "output_type": "stream",
     "text": [
      "[CV 12/15; 31/50] END model__C=1.4656553886225332, model__epsilon=0.6516990611177174;, score=-27.523 total time=   1.3s\n",
      "[CV 13/15; 31/50] START model__C=1.4656553886225332, model__epsilon=0.6516990611177174\n"
     ]
    },
    {
     "name": "stderr",
     "output_type": "stream",
     "text": [
      "/opt/anaconda3/lib/python3.9/site-packages/sklearn/svm/_base.py:299: ConvergenceWarning: Solver terminated early (max_iter=50000).  Consider pre-processing your data with StandardScaler or MinMaxScaler.\n",
      "  warnings.warn(\n"
     ]
    },
    {
     "name": "stdout",
     "output_type": "stream",
     "text": [
      "[CV 13/15; 31/50] END model__C=1.4656553886225332, model__epsilon=0.6516990611177174;, score=-29.274 total time=   1.3s\n",
      "[CV 14/15; 31/50] START model__C=1.4656553886225332, model__epsilon=0.6516990611177174\n"
     ]
    },
    {
     "name": "stderr",
     "output_type": "stream",
     "text": [
      "/opt/anaconda3/lib/python3.9/site-packages/sklearn/svm/_base.py:299: ConvergenceWarning: Solver terminated early (max_iter=50000).  Consider pre-processing your data with StandardScaler or MinMaxScaler.\n",
      "  warnings.warn(\n"
     ]
    },
    {
     "name": "stdout",
     "output_type": "stream",
     "text": [
      "[CV 14/15; 31/50] END model__C=1.4656553886225332, model__epsilon=0.6516990611177174;, score=-27.417 total time=   1.3s\n",
      "[CV 15/15; 31/50] START model__C=1.4656553886225332, model__epsilon=0.6516990611177174\n"
     ]
    },
    {
     "name": "stderr",
     "output_type": "stream",
     "text": [
      "/opt/anaconda3/lib/python3.9/site-packages/sklearn/svm/_base.py:299: ConvergenceWarning: Solver terminated early (max_iter=50000).  Consider pre-processing your data with StandardScaler or MinMaxScaler.\n",
      "  warnings.warn(\n"
     ]
    },
    {
     "name": "stdout",
     "output_type": "stream",
     "text": [
      "[CV 15/15; 31/50] END model__C=1.4656553886225332, model__epsilon=0.6516990611177174;, score=-32.129 total time=   1.3s\n",
      "[CV 1/15; 32/50] START model__C=30.634622106220824, model__epsilon=1.1756010900231848\n"
     ]
    },
    {
     "name": "stderr",
     "output_type": "stream",
     "text": [
      "/opt/anaconda3/lib/python3.9/site-packages/sklearn/svm/_base.py:299: ConvergenceWarning: Solver terminated early (max_iter=50000).  Consider pre-processing your data with StandardScaler or MinMaxScaler.\n",
      "  warnings.warn(\n"
     ]
    },
    {
     "name": "stdout",
     "output_type": "stream",
     "text": [
      "[CV 1/15; 32/50] END model__C=30.634622106220824, model__epsilon=1.1756010900231848;, score=-24.149 total time=   2.3s\n",
      "[CV 2/15; 32/50] START model__C=30.634622106220824, model__epsilon=1.1756010900231848\n"
     ]
    },
    {
     "name": "stderr",
     "output_type": "stream",
     "text": [
      "/opt/anaconda3/lib/python3.9/site-packages/sklearn/svm/_base.py:299: ConvergenceWarning: Solver terminated early (max_iter=50000).  Consider pre-processing your data with StandardScaler or MinMaxScaler.\n",
      "  warnings.warn(\n"
     ]
    },
    {
     "name": "stdout",
     "output_type": "stream",
     "text": [
      "[CV 2/15; 32/50] END model__C=30.634622106220824, model__epsilon=1.1756010900231848;, score=-25.671 total time=   2.3s\n",
      "[CV 3/15; 32/50] START model__C=30.634622106220824, model__epsilon=1.1756010900231848\n"
     ]
    },
    {
     "name": "stderr",
     "output_type": "stream",
     "text": [
      "/opt/anaconda3/lib/python3.9/site-packages/sklearn/svm/_base.py:299: ConvergenceWarning: Solver terminated early (max_iter=50000).  Consider pre-processing your data with StandardScaler or MinMaxScaler.\n",
      "  warnings.warn(\n"
     ]
    },
    {
     "name": "stdout",
     "output_type": "stream",
     "text": [
      "[CV 3/15; 32/50] END model__C=30.634622106220824, model__epsilon=1.1756010900231848;, score=-25.821 total time=   2.3s\n",
      "[CV 4/15; 32/50] START model__C=30.634622106220824, model__epsilon=1.1756010900231848\n"
     ]
    },
    {
     "name": "stderr",
     "output_type": "stream",
     "text": [
      "/opt/anaconda3/lib/python3.9/site-packages/sklearn/svm/_base.py:299: ConvergenceWarning: Solver terminated early (max_iter=50000).  Consider pre-processing your data with StandardScaler or MinMaxScaler.\n",
      "  warnings.warn(\n"
     ]
    },
    {
     "name": "stdout",
     "output_type": "stream",
     "text": [
      "[CV 4/15; 32/50] END model__C=30.634622106220824, model__epsilon=1.1756010900231848;, score=-25.161 total time=   2.3s\n",
      "[CV 5/15; 32/50] START model__C=30.634622106220824, model__epsilon=1.1756010900231848\n"
     ]
    },
    {
     "name": "stderr",
     "output_type": "stream",
     "text": [
      "/opt/anaconda3/lib/python3.9/site-packages/sklearn/svm/_base.py:299: ConvergenceWarning: Solver terminated early (max_iter=50000).  Consider pre-processing your data with StandardScaler or MinMaxScaler.\n",
      "  warnings.warn(\n"
     ]
    },
    {
     "name": "stdout",
     "output_type": "stream",
     "text": [
      "[CV 5/15; 32/50] END model__C=30.634622106220824, model__epsilon=1.1756010900231848;, score=-28.532 total time=   2.3s\n",
      "[CV 6/15; 32/50] START model__C=30.634622106220824, model__epsilon=1.1756010900231848\n"
     ]
    },
    {
     "name": "stderr",
     "output_type": "stream",
     "text": [
      "/opt/anaconda3/lib/python3.9/site-packages/sklearn/svm/_base.py:299: ConvergenceWarning: Solver terminated early (max_iter=50000).  Consider pre-processing your data with StandardScaler or MinMaxScaler.\n",
      "  warnings.warn(\n"
     ]
    },
    {
     "name": "stdout",
     "output_type": "stream",
     "text": [
      "[CV 6/15; 32/50] END model__C=30.634622106220824, model__epsilon=1.1756010900231848;, score=-23.868 total time=   2.3s\n",
      "[CV 7/15; 32/50] START model__C=30.634622106220824, model__epsilon=1.1756010900231848\n"
     ]
    },
    {
     "name": "stderr",
     "output_type": "stream",
     "text": [
      "/opt/anaconda3/lib/python3.9/site-packages/sklearn/svm/_base.py:299: ConvergenceWarning: Solver terminated early (max_iter=50000).  Consider pre-processing your data with StandardScaler or MinMaxScaler.\n",
      "  warnings.warn(\n"
     ]
    },
    {
     "name": "stdout",
     "output_type": "stream",
     "text": [
      "[CV 7/15; 32/50] END model__C=30.634622106220824, model__epsilon=1.1756010900231848;, score=-25.114 total time=   2.3s\n",
      "[CV 8/15; 32/50] START model__C=30.634622106220824, model__epsilon=1.1756010900231848\n"
     ]
    },
    {
     "name": "stderr",
     "output_type": "stream",
     "text": [
      "/opt/anaconda3/lib/python3.9/site-packages/sklearn/svm/_base.py:299: ConvergenceWarning: Solver terminated early (max_iter=50000).  Consider pre-processing your data with StandardScaler or MinMaxScaler.\n",
      "  warnings.warn(\n"
     ]
    },
    {
     "name": "stdout",
     "output_type": "stream",
     "text": [
      "[CV 8/15; 32/50] END model__C=30.634622106220824, model__epsilon=1.1756010900231848;, score=-27.955 total time=   2.3s\n",
      "[CV 9/15; 32/50] START model__C=30.634622106220824, model__epsilon=1.1756010900231848\n"
     ]
    },
    {
     "name": "stderr",
     "output_type": "stream",
     "text": [
      "/opt/anaconda3/lib/python3.9/site-packages/sklearn/svm/_base.py:299: ConvergenceWarning: Solver terminated early (max_iter=50000).  Consider pre-processing your data with StandardScaler or MinMaxScaler.\n",
      "  warnings.warn(\n"
     ]
    },
    {
     "name": "stdout",
     "output_type": "stream",
     "text": [
      "[CV 9/15; 32/50] END model__C=30.634622106220824, model__epsilon=1.1756010900231848;, score=-25.352 total time=   2.3s\n",
      "[CV 10/15; 32/50] START model__C=30.634622106220824, model__epsilon=1.1756010900231848\n"
     ]
    },
    {
     "name": "stderr",
     "output_type": "stream",
     "text": [
      "/opt/anaconda3/lib/python3.9/site-packages/sklearn/svm/_base.py:299: ConvergenceWarning: Solver terminated early (max_iter=50000).  Consider pre-processing your data with StandardScaler or MinMaxScaler.\n",
      "  warnings.warn(\n"
     ]
    },
    {
     "name": "stdout",
     "output_type": "stream",
     "text": [
      "[CV 10/15; 32/50] END model__C=30.634622106220824, model__epsilon=1.1756010900231848;, score=-27.021 total time=   2.3s\n",
      "[CV 11/15; 32/50] START model__C=30.634622106220824, model__epsilon=1.1756010900231848\n"
     ]
    },
    {
     "name": "stderr",
     "output_type": "stream",
     "text": [
      "/opt/anaconda3/lib/python3.9/site-packages/sklearn/svm/_base.py:299: ConvergenceWarning: Solver terminated early (max_iter=50000).  Consider pre-processing your data with StandardScaler or MinMaxScaler.\n",
      "  warnings.warn(\n"
     ]
    },
    {
     "name": "stdout",
     "output_type": "stream",
     "text": [
      "[CV 11/15; 32/50] END model__C=30.634622106220824, model__epsilon=1.1756010900231848;, score=-25.693 total time=   2.3s\n",
      "[CV 12/15; 32/50] START model__C=30.634622106220824, model__epsilon=1.1756010900231848\n"
     ]
    },
    {
     "name": "stderr",
     "output_type": "stream",
     "text": [
      "/opt/anaconda3/lib/python3.9/site-packages/sklearn/svm/_base.py:299: ConvergenceWarning: Solver terminated early (max_iter=50000).  Consider pre-processing your data with StandardScaler or MinMaxScaler.\n",
      "  warnings.warn(\n"
     ]
    },
    {
     "name": "stdout",
     "output_type": "stream",
     "text": [
      "[CV 12/15; 32/50] END model__C=30.634622106220824, model__epsilon=1.1756010900231848;, score=-24.507 total time=   2.3s\n",
      "[CV 13/15; 32/50] START model__C=30.634622106220824, model__epsilon=1.1756010900231848\n"
     ]
    },
    {
     "name": "stderr",
     "output_type": "stream",
     "text": [
      "/opt/anaconda3/lib/python3.9/site-packages/sklearn/svm/_base.py:299: ConvergenceWarning: Solver terminated early (max_iter=50000).  Consider pre-processing your data with StandardScaler or MinMaxScaler.\n",
      "  warnings.warn(\n"
     ]
    },
    {
     "name": "stdout",
     "output_type": "stream",
     "text": [
      "[CV 13/15; 32/50] END model__C=30.634622106220824, model__epsilon=1.1756010900231848;, score=-25.687 total time=   2.3s\n",
      "[CV 14/15; 32/50] START model__C=30.634622106220824, model__epsilon=1.1756010900231848\n"
     ]
    },
    {
     "name": "stderr",
     "output_type": "stream",
     "text": [
      "/opt/anaconda3/lib/python3.9/site-packages/sklearn/svm/_base.py:299: ConvergenceWarning: Solver terminated early (max_iter=50000).  Consider pre-processing your data with StandardScaler or MinMaxScaler.\n",
      "  warnings.warn(\n"
     ]
    },
    {
     "name": "stdout",
     "output_type": "stream",
     "text": [
      "[CV 14/15; 32/50] END model__C=30.634622106220824, model__epsilon=1.1756010900231848;, score=-25.312 total time=   2.3s\n",
      "[CV 15/15; 32/50] START model__C=30.634622106220824, model__epsilon=1.1756010900231848\n"
     ]
    },
    {
     "name": "stderr",
     "output_type": "stream",
     "text": [
      "/opt/anaconda3/lib/python3.9/site-packages/sklearn/svm/_base.py:299: ConvergenceWarning: Solver terminated early (max_iter=50000).  Consider pre-processing your data with StandardScaler or MinMaxScaler.\n",
      "  warnings.warn(\n"
     ]
    },
    {
     "name": "stdout",
     "output_type": "stream",
     "text": [
      "[CV 15/15; 32/50] END model__C=30.634622106220824, model__epsilon=1.1756010900231848;, score=-28.578 total time=   2.3s\n",
      "[CV 1/15; 33/50] START model__C=0.6963114377829286, model__epsilon=4.247058562261868\n",
      "[CV 1/15; 33/50] END model__C=0.6963114377829286, model__epsilon=4.247058562261868;, score=-29.710 total time=   0.8s\n",
      "[CV 2/15; 33/50] START model__C=0.6963114377829286, model__epsilon=4.247058562261868\n",
      "[CV 2/15; 33/50] END model__C=0.6963114377829286, model__epsilon=4.247058562261868;, score=-30.715 total time=   0.8s\n",
      "[CV 3/15; 33/50] START model__C=0.6963114377829286, model__epsilon=4.247058562261868\n",
      "[CV 3/15; 33/50] END model__C=0.6963114377829286, model__epsilon=4.247058562261868;, score=-31.592 total time=   0.9s\n",
      "[CV 4/15; 33/50] START model__C=0.6963114377829286, model__epsilon=4.247058562261868\n",
      "[CV 4/15; 33/50] END model__C=0.6963114377829286, model__epsilon=4.247058562261868;, score=-29.828 total time=   0.9s\n",
      "[CV 5/15; 33/50] START model__C=0.6963114377829286, model__epsilon=4.247058562261868\n",
      "[CV 5/15; 33/50] END model__C=0.6963114377829286, model__epsilon=4.247058562261868;, score=-35.012 total time=   0.8s\n",
      "[CV 6/15; 33/50] START model__C=0.6963114377829286, model__epsilon=4.247058562261868\n",
      "[CV 6/15; 33/50] END model__C=0.6963114377829286, model__epsilon=4.247058562261868;, score=-29.831 total time=   0.8s\n",
      "[CV 7/15; 33/50] START model__C=0.6963114377829286, model__epsilon=4.247058562261868\n",
      "[CV 7/15; 33/50] END model__C=0.6963114377829286, model__epsilon=4.247058562261868;, score=-30.337 total time=   0.9s\n",
      "[CV 8/15; 33/50] START model__C=0.6963114377829286, model__epsilon=4.247058562261868\n",
      "[CV 8/15; 33/50] END model__C=0.6963114377829286, model__epsilon=4.247058562261868;, score=-31.933 total time=   0.8s\n",
      "[CV 9/15; 33/50] START model__C=0.6963114377829286, model__epsilon=4.247058562261868\n",
      "[CV 9/15; 33/50] END model__C=0.6963114377829286, model__epsilon=4.247058562261868;, score=-30.460 total time=   0.8s\n",
      "[CV 10/15; 33/50] START model__C=0.6963114377829286, model__epsilon=4.247058562261868\n",
      "[CV 10/15; 33/50] END model__C=0.6963114377829286, model__epsilon=4.247058562261868;, score=-34.259 total time=   0.8s\n",
      "[CV 11/15; 33/50] START model__C=0.6963114377829286, model__epsilon=4.247058562261868\n",
      "[CV 11/15; 33/50] END model__C=0.6963114377829286, model__epsilon=4.247058562261868;, score=-30.009 total time=   0.8s\n",
      "[CV 12/15; 33/50] START model__C=0.6963114377829286, model__epsilon=4.247058562261868\n",
      "[CV 12/15; 33/50] END model__C=0.6963114377829286, model__epsilon=4.247058562261868;, score=-30.331 total time=   0.9s\n",
      "[CV 13/15; 33/50] START model__C=0.6963114377829286, model__epsilon=4.247058562261868\n",
      "[CV 13/15; 33/50] END model__C=0.6963114377829286, model__epsilon=4.247058562261868;, score=-31.898 total time=   0.8s\n",
      "[CV 14/15; 33/50] START model__C=0.6963114377829286, model__epsilon=4.247058562261868\n",
      "[CV 14/15; 33/50] END model__C=0.6963114377829286, model__epsilon=4.247058562261868;, score=-29.932 total time=   0.8s\n",
      "[CV 15/15; 33/50] START model__C=0.6963114377829286, model__epsilon=4.247058562261868\n",
      "[CV 15/15; 33/50] END model__C=0.6963114377829286, model__epsilon=4.247058562261868;, score=-34.610 total time=   0.8s\n",
      "[CV 1/15; 34/50] START model__C=0.2647114182821816, model__epsilon=25.50298070162892\n",
      "[CV 1/15; 34/50] END model__C=0.2647114182821816, model__epsilon=25.50298070162892;, score=-43.841 total time=   0.5s\n",
      "[CV 2/15; 34/50] START model__C=0.2647114182821816, model__epsilon=25.50298070162892\n",
      "[CV 2/15; 34/50] END model__C=0.2647114182821816, model__epsilon=25.50298070162892;, score=-44.554 total time=   0.5s\n",
      "[CV 3/15; 34/50] START model__C=0.2647114182821816, model__epsilon=25.50298070162892\n",
      "[CV 3/15; 34/50] END model__C=0.2647114182821816, model__epsilon=25.50298070162892;, score=-45.546 total time=   0.5s\n",
      "[CV 4/15; 34/50] START model__C=0.2647114182821816, model__epsilon=25.50298070162892\n",
      "[CV 4/15; 34/50] END model__C=0.2647114182821816, model__epsilon=25.50298070162892;, score=-43.665 total time=   0.5s\n",
      "[CV 5/15; 34/50] START model__C=0.2647114182821816, model__epsilon=25.50298070162892\n",
      "[CV 5/15; 34/50] END model__C=0.2647114182821816, model__epsilon=25.50298070162892;, score=-48.683 total time=   0.5s\n",
      "[CV 6/15; 34/50] START model__C=0.2647114182821816, model__epsilon=25.50298070162892\n",
      "[CV 6/15; 34/50] END model__C=0.2647114182821816, model__epsilon=25.50298070162892;, score=-43.909 total time=   0.5s\n",
      "[CV 7/15; 34/50] START model__C=0.2647114182821816, model__epsilon=25.50298070162892\n",
      "[CV 7/15; 34/50] END model__C=0.2647114182821816, model__epsilon=25.50298070162892;, score=-44.383 total time=   0.5s\n",
      "[CV 8/15; 34/50] START model__C=0.2647114182821816, model__epsilon=25.50298070162892\n",
      "[CV 8/15; 34/50] END model__C=0.2647114182821816, model__epsilon=25.50298070162892;, score=-45.743 total time=   0.5s\n",
      "[CV 9/15; 34/50] START model__C=0.2647114182821816, model__epsilon=25.50298070162892\n",
      "[CV 9/15; 34/50] END model__C=0.2647114182821816, model__epsilon=25.50298070162892;, score=-44.084 total time=   0.5s\n",
      "[CV 10/15; 34/50] START model__C=0.2647114182821816, model__epsilon=25.50298070162892\n",
      "[CV 10/15; 34/50] END model__C=0.2647114182821816, model__epsilon=25.50298070162892;, score=-48.263 total time=   0.5s\n",
      "[CV 11/15; 34/50] START model__C=0.2647114182821816, model__epsilon=25.50298070162892\n",
      "[CV 11/15; 34/50] END model__C=0.2647114182821816, model__epsilon=25.50298070162892;, score=-44.042 total time=   0.5s\n",
      "[CV 12/15; 34/50] START model__C=0.2647114182821816, model__epsilon=25.50298070162892\n",
      "[CV 12/15; 34/50] END model__C=0.2647114182821816, model__epsilon=25.50298070162892;, score=-44.304 total time=   0.5s\n",
      "[CV 13/15; 34/50] START model__C=0.2647114182821816, model__epsilon=25.50298070162892\n",
      "[CV 13/15; 34/50] END model__C=0.2647114182821816, model__epsilon=25.50298070162892;, score=-45.644 total time=   0.5s\n",
      "[CV 14/15; 34/50] START model__C=0.2647114182821816, model__epsilon=25.50298070162892\n",
      "[CV 14/15; 34/50] END model__C=0.2647114182821816, model__epsilon=25.50298070162892;, score=-43.789 total time=   0.5s\n",
      "[CV 15/15; 34/50] START model__C=0.2647114182821816, model__epsilon=25.50298070162892\n",
      "[CV 15/15; 34/50] END model__C=0.2647114182821816, model__epsilon=25.50298070162892;, score=-48.521 total time=   0.5s\n",
      "[CV 1/15; 35/50] START model__C=0.16736010167825777, model__epsilon=91.33995846860967\n",
      "[CV 1/15; 35/50] END model__C=0.16736010167825777, model__epsilon=91.33995846860967;, score=-91.221 total time=   0.3s\n",
      "[CV 2/15; 35/50] START model__C=0.16736010167825777, model__epsilon=91.33995846860967\n",
      "[CV 2/15; 35/50] END model__C=0.16736010167825777, model__epsilon=91.33995846860967;, score=-91.448 total time=   0.3s\n",
      "[CV 3/15; 35/50] START model__C=0.16736010167825777, model__epsilon=91.33995846860967\n",
      "[CV 3/15; 35/50] END model__C=0.16736010167825777, model__epsilon=91.33995846860967;, score=-92.470 total time=   0.3s\n",
      "[CV 4/15; 35/50] START model__C=0.16736010167825777, model__epsilon=91.33995846860967\n",
      "[CV 4/15; 35/50] END model__C=0.16736010167825777, model__epsilon=91.33995846860967;, score=-90.850 total time=   0.3s\n",
      "[CV 5/15; 35/50] START model__C=0.16736010167825777, model__epsilon=91.33995846860967\n",
      "[CV 5/15; 35/50] END model__C=0.16736010167825777, model__epsilon=91.33995846860967;, score=-94.984 total time=   0.3s\n",
      "[CV 6/15; 35/50] START model__C=0.16736010167825777, model__epsilon=91.33995846860967\n",
      "[CV 6/15; 35/50] END model__C=0.16736010167825777, model__epsilon=91.33995846860967;, score=-91.228 total time=   0.3s\n",
      "[CV 7/15; 35/50] START model__C=0.16736010167825777, model__epsilon=91.33995846860967\n",
      "[CV 7/15; 35/50] END model__C=0.16736010167825777, model__epsilon=91.33995846860967;, score=-91.338 total time=   0.3s\n",
      "[CV 8/15; 35/50] START model__C=0.16736010167825777, model__epsilon=91.33995846860967\n",
      "[CV 8/15; 35/50] END model__C=0.16736010167825777, model__epsilon=91.33995846860967;, score=-92.636 total time=   0.3s\n",
      "[CV 9/15; 35/50] START model__C=0.16736010167825777, model__epsilon=91.33995846860967\n",
      "[CV 9/15; 35/50] END model__C=0.16736010167825777, model__epsilon=91.33995846860967;, score=-90.986 total time=   0.3s\n",
      "[CV 10/15; 35/50] START model__C=0.16736010167825777, model__epsilon=91.33995846860967\n",
      "[CV 10/15; 35/50] END model__C=0.16736010167825777, model__epsilon=91.33995846860967;, score=-94.847 total time=   0.3s\n",
      "[CV 11/15; 35/50] START model__C=0.16736010167825777, model__epsilon=91.33995846860967\n"
     ]
    },
    {
     "name": "stdout",
     "output_type": "stream",
     "text": [
      "[CV 11/15; 35/50] END model__C=0.16736010167825777, model__epsilon=91.33995846860967;, score=-91.341 total time=   0.3s\n",
      "[CV 12/15; 35/50] START model__C=0.16736010167825777, model__epsilon=91.33995846860967\n",
      "[CV 12/15; 35/50] END model__C=0.16736010167825777, model__epsilon=91.33995846860967;, score=-91.302 total time=   0.3s\n",
      "[CV 13/15; 35/50] START model__C=0.16736010167825777, model__epsilon=91.33995846860967\n",
      "[CV 13/15; 35/50] END model__C=0.16736010167825777, model__epsilon=91.33995846860967;, score=-92.498 total time=   0.3s\n",
      "[CV 14/15; 35/50] START model__C=0.16736010167825777, model__epsilon=91.33995846860967\n",
      "[CV 14/15; 35/50] END model__C=0.16736010167825777, model__epsilon=91.33995846860967;, score=-90.893 total time=   0.3s\n",
      "[CV 15/15; 35/50] START model__C=0.16736010167825777, model__epsilon=91.33995846860967\n",
      "[CV 15/15; 35/50] END model__C=0.16736010167825777, model__epsilon=91.33995846860967;, score=-95.019 total time=   0.3s\n",
      "[CV 1/15; 36/50] START model__C=20.73644517790503, model__epsilon=0.39459088111.\n"
     ]
    },
    {
     "name": "stderr",
     "output_type": "stream",
     "text": [
      "/opt/anaconda3/lib/python3.9/site-packages/sklearn/svm/_base.py:299: ConvergenceWarning: Solver terminated early (max_iter=50000).  Consider pre-processing your data with StandardScaler or MinMaxScaler.\n",
      "  warnings.warn(\n"
     ]
    },
    {
     "name": "stdout",
     "output_type": "stream",
     "text": [
      "[CV 1/15; 36/50] END model__C=20.73644517790503, model__epsilon=0.39459088111;, score=-24.113 total time=   2.4s\n",
      "[CV 2/15; 36/50] START model__C=20.73644517790503, model__epsilon=0.39459088111.\n"
     ]
    },
    {
     "name": "stderr",
     "output_type": "stream",
     "text": [
      "/opt/anaconda3/lib/python3.9/site-packages/sklearn/svm/_base.py:299: ConvergenceWarning: Solver terminated early (max_iter=50000).  Consider pre-processing your data with StandardScaler or MinMaxScaler.\n",
      "  warnings.warn(\n"
     ]
    },
    {
     "name": "stdout",
     "output_type": "stream",
     "text": [
      "[CV 2/15; 36/50] END model__C=20.73644517790503, model__epsilon=0.39459088111;, score=-25.643 total time=   2.3s\n",
      "[CV 3/15; 36/50] START model__C=20.73644517790503, model__epsilon=0.39459088111.\n"
     ]
    },
    {
     "name": "stderr",
     "output_type": "stream",
     "text": [
      "/opt/anaconda3/lib/python3.9/site-packages/sklearn/svm/_base.py:299: ConvergenceWarning: Solver terminated early (max_iter=50000).  Consider pre-processing your data with StandardScaler or MinMaxScaler.\n",
      "  warnings.warn(\n"
     ]
    },
    {
     "name": "stdout",
     "output_type": "stream",
     "text": [
      "[CV 3/15; 36/50] END model__C=20.73644517790503, model__epsilon=0.39459088111;, score=-25.754 total time=   2.3s\n",
      "[CV 4/15; 36/50] START model__C=20.73644517790503, model__epsilon=0.39459088111.\n"
     ]
    },
    {
     "name": "stderr",
     "output_type": "stream",
     "text": [
      "/opt/anaconda3/lib/python3.9/site-packages/sklearn/svm/_base.py:299: ConvergenceWarning: Solver terminated early (max_iter=50000).  Consider pre-processing your data with StandardScaler or MinMaxScaler.\n",
      "  warnings.warn(\n"
     ]
    },
    {
     "name": "stdout",
     "output_type": "stream",
     "text": [
      "[CV 4/15; 36/50] END model__C=20.73644517790503, model__epsilon=0.39459088111;, score=-25.147 total time=   2.3s\n",
      "[CV 5/15; 36/50] START model__C=20.73644517790503, model__epsilon=0.39459088111.\n"
     ]
    },
    {
     "name": "stderr",
     "output_type": "stream",
     "text": [
      "/opt/anaconda3/lib/python3.9/site-packages/sklearn/svm/_base.py:299: ConvergenceWarning: Solver terminated early (max_iter=50000).  Consider pre-processing your data with StandardScaler or MinMaxScaler.\n",
      "  warnings.warn(\n"
     ]
    },
    {
     "name": "stdout",
     "output_type": "stream",
     "text": [
      "[CV 5/15; 36/50] END model__C=20.73644517790503, model__epsilon=0.39459088111;, score=-28.621 total time=   2.4s\n",
      "[CV 6/15; 36/50] START model__C=20.73644517790503, model__epsilon=0.39459088111.\n"
     ]
    },
    {
     "name": "stderr",
     "output_type": "stream",
     "text": [
      "/opt/anaconda3/lib/python3.9/site-packages/sklearn/svm/_base.py:299: ConvergenceWarning: Solver terminated early (max_iter=50000).  Consider pre-processing your data with StandardScaler or MinMaxScaler.\n",
      "  warnings.warn(\n"
     ]
    },
    {
     "name": "stdout",
     "output_type": "stream",
     "text": [
      "[CV 6/15; 36/50] END model__C=20.73644517790503, model__epsilon=0.39459088111;, score=-23.740 total time=   2.4s\n",
      "[CV 7/15; 36/50] START model__C=20.73644517790503, model__epsilon=0.39459088111.\n"
     ]
    },
    {
     "name": "stderr",
     "output_type": "stream",
     "text": [
      "/opt/anaconda3/lib/python3.9/site-packages/sklearn/svm/_base.py:299: ConvergenceWarning: Solver terminated early (max_iter=50000).  Consider pre-processing your data with StandardScaler or MinMaxScaler.\n",
      "  warnings.warn(\n"
     ]
    },
    {
     "name": "stdout",
     "output_type": "stream",
     "text": [
      "[CV 7/15; 36/50] END model__C=20.73644517790503, model__epsilon=0.39459088111;, score=-25.069 total time=   2.4s\n",
      "[CV 8/15; 36/50] START model__C=20.73644517790503, model__epsilon=0.39459088111.\n"
     ]
    },
    {
     "name": "stderr",
     "output_type": "stream",
     "text": [
      "/opt/anaconda3/lib/python3.9/site-packages/sklearn/svm/_base.py:299: ConvergenceWarning: Solver terminated early (max_iter=50000).  Consider pre-processing your data with StandardScaler or MinMaxScaler.\n",
      "  warnings.warn(\n"
     ]
    },
    {
     "name": "stdout",
     "output_type": "stream",
     "text": [
      "[CV 8/15; 36/50] END model__C=20.73644517790503, model__epsilon=0.39459088111;, score=-27.956 total time=   2.4s\n",
      "[CV 9/15; 36/50] START model__C=20.73644517790503, model__epsilon=0.39459088111.\n"
     ]
    },
    {
     "name": "stderr",
     "output_type": "stream",
     "text": [
      "/opt/anaconda3/lib/python3.9/site-packages/sklearn/svm/_base.py:299: ConvergenceWarning: Solver terminated early (max_iter=50000).  Consider pre-processing your data with StandardScaler or MinMaxScaler.\n",
      "  warnings.warn(\n"
     ]
    },
    {
     "name": "stdout",
     "output_type": "stream",
     "text": [
      "[CV 9/15; 36/50] END model__C=20.73644517790503, model__epsilon=0.39459088111;, score=-25.390 total time=   2.4s\n",
      "[CV 10/15; 36/50] START model__C=20.73644517790503, model__epsilon=0.39459088111\n"
     ]
    },
    {
     "name": "stderr",
     "output_type": "stream",
     "text": [
      "/opt/anaconda3/lib/python3.9/site-packages/sklearn/svm/_base.py:299: ConvergenceWarning: Solver terminated early (max_iter=50000).  Consider pre-processing your data with StandardScaler or MinMaxScaler.\n",
      "  warnings.warn(\n"
     ]
    },
    {
     "name": "stdout",
     "output_type": "stream",
     "text": [
      "[CV 10/15; 36/50] END model__C=20.73644517790503, model__epsilon=0.39459088111;, score=-27.019 total time=   2.4s\n",
      "[CV 11/15; 36/50] START model__C=20.73644517790503, model__epsilon=0.39459088111\n"
     ]
    },
    {
     "name": "stderr",
     "output_type": "stream",
     "text": [
      "/opt/anaconda3/lib/python3.9/site-packages/sklearn/svm/_base.py:299: ConvergenceWarning: Solver terminated early (max_iter=50000).  Consider pre-processing your data with StandardScaler or MinMaxScaler.\n",
      "  warnings.warn(\n"
     ]
    },
    {
     "name": "stdout",
     "output_type": "stream",
     "text": [
      "[CV 11/15; 36/50] END model__C=20.73644517790503, model__epsilon=0.39459088111;, score=-25.705 total time=   2.4s\n",
      "[CV 12/15; 36/50] START model__C=20.73644517790503, model__epsilon=0.39459088111\n"
     ]
    },
    {
     "name": "stderr",
     "output_type": "stream",
     "text": [
      "/opt/anaconda3/lib/python3.9/site-packages/sklearn/svm/_base.py:299: ConvergenceWarning: Solver terminated early (max_iter=50000).  Consider pre-processing your data with StandardScaler or MinMaxScaler.\n",
      "  warnings.warn(\n"
     ]
    },
    {
     "name": "stdout",
     "output_type": "stream",
     "text": [
      "[CV 12/15; 36/50] END model__C=20.73644517790503, model__epsilon=0.39459088111;, score=-24.478 total time=   2.4s\n",
      "[CV 13/15; 36/50] START model__C=20.73644517790503, model__epsilon=0.39459088111\n"
     ]
    },
    {
     "name": "stderr",
     "output_type": "stream",
     "text": [
      "/opt/anaconda3/lib/python3.9/site-packages/sklearn/svm/_base.py:299: ConvergenceWarning: Solver terminated early (max_iter=50000).  Consider pre-processing your data with StandardScaler or MinMaxScaler.\n",
      "  warnings.warn(\n"
     ]
    },
    {
     "name": "stdout",
     "output_type": "stream",
     "text": [
      "[CV 13/15; 36/50] END model__C=20.73644517790503, model__epsilon=0.39459088111;, score=-25.784 total time=   2.4s\n",
      "[CV 14/15; 36/50] START model__C=20.73644517790503, model__epsilon=0.39459088111\n"
     ]
    },
    {
     "name": "stderr",
     "output_type": "stream",
     "text": [
      "/opt/anaconda3/lib/python3.9/site-packages/sklearn/svm/_base.py:299: ConvergenceWarning: Solver terminated early (max_iter=50000).  Consider pre-processing your data with StandardScaler or MinMaxScaler.\n",
      "  warnings.warn(\n"
     ]
    },
    {
     "name": "stdout",
     "output_type": "stream",
     "text": [
      "[CV 14/15; 36/50] END model__C=20.73644517790503, model__epsilon=0.39459088111;, score=-25.288 total time=   2.3s\n",
      "[CV 15/15; 36/50] START model__C=20.73644517790503, model__epsilon=0.39459088111\n"
     ]
    },
    {
     "name": "stderr",
     "output_type": "stream",
     "text": [
      "/opt/anaconda3/lib/python3.9/site-packages/sklearn/svm/_base.py:299: ConvergenceWarning: Solver terminated early (max_iter=50000).  Consider pre-processing your data with StandardScaler or MinMaxScaler.\n",
      "  warnings.warn(\n"
     ]
    },
    {
     "name": "stdout",
     "output_type": "stream",
     "text": [
      "[CV 15/15; 36/50] END model__C=20.73644517790503, model__epsilon=0.39459088111;, score=-28.665 total time=   2.4s\n",
      "[CV 1/15; 37/50] START model__C=0.10388823104027935, model__epsilon=27.95015916508335\n",
      "[CV 1/15; 37/50] END model__C=0.10388823104027935, model__epsilon=27.95015916508335;, score=-47.503 total time=   0.5s\n",
      "[CV 2/15; 37/50] START model__C=0.10388823104027935, model__epsilon=27.95015916508335\n",
      "[CV 2/15; 37/50] END model__C=0.10388823104027935, model__epsilon=27.95015916508335;, score=-47.781 total time=   0.5s\n",
      "[CV 3/15; 37/50] START model__C=0.10388823104027935, model__epsilon=27.95015916508335\n",
      "[CV 3/15; 37/50] END model__C=0.10388823104027935, model__epsilon=27.95015916508335;, score=-49.110 total time=   0.5s\n",
      "[CV 4/15; 37/50] START model__C=0.10388823104027935, model__epsilon=27.95015916508335\n",
      "[CV 4/15; 37/50] END model__C=0.10388823104027935, model__epsilon=27.95015916508335;, score=-47.233 total time=   0.5s\n",
      "[CV 5/15; 37/50] START model__C=0.10388823104027935, model__epsilon=27.95015916508335\n",
      "[CV 5/15; 37/50] END model__C=0.10388823104027935, model__epsilon=27.95015916508335;, score=-51.994 total time=   0.5s\n",
      "[CV 6/15; 37/50] START model__C=0.10388823104027935, model__epsilon=27.95015916508335\n",
      "[CV 6/15; 37/50] END model__C=0.10388823104027935, model__epsilon=27.95015916508335;, score=-47.437 total time=   0.5s\n",
      "[CV 7/15; 37/50] START model__C=0.10388823104027935, model__epsilon=27.95015916508335\n",
      "[CV 7/15; 37/50] END model__C=0.10388823104027935, model__epsilon=27.95015916508335;, score=-47.801 total time=   0.5s\n",
      "[CV 8/15; 37/50] START model__C=0.10388823104027935, model__epsilon=27.95015916508335\n",
      "[CV 8/15; 37/50] END model__C=0.10388823104027935, model__epsilon=27.95015916508335;, score=-49.165 total time=   0.5s\n",
      "[CV 9/15; 37/50] START model__C=0.10388823104027935, model__epsilon=27.95015916508335\n",
      "[CV 9/15; 37/50] END model__C=0.10388823104027935, model__epsilon=27.95015916508335;, score=-47.384 total time=   0.5s\n",
      "[CV 10/15; 37/50] START model__C=0.10388823104027935, model__epsilon=27.95015916508335\n",
      "[CV 10/15; 37/50] END model__C=0.10388823104027935, model__epsilon=27.95015916508335;, score=-51.829 total time=   0.5s\n",
      "[CV 11/15; 37/50] START model__C=0.10388823104027935, model__epsilon=27.95015916508335\n",
      "[CV 11/15; 37/50] END model__C=0.10388823104027935, model__epsilon=27.95015916508335;, score=-47.539 total time=   0.5s\n",
      "[CV 12/15; 37/50] START model__C=0.10388823104027935, model__epsilon=27.95015916508335\n",
      "[CV 12/15; 37/50] END model__C=0.10388823104027935, model__epsilon=27.95015916508335;, score=-47.731 total time=   0.5s\n",
      "[CV 13/15; 37/50] START model__C=0.10388823104027935, model__epsilon=27.95015916508335\n",
      "[CV 13/15; 37/50] END model__C=0.10388823104027935, model__epsilon=27.95015916508335;, score=-49.170 total time=   0.5s\n",
      "[CV 14/15; 37/50] START model__C=0.10388823104027935, model__epsilon=27.95015916508335\n",
      "[CV 14/15; 37/50] END model__C=0.10388823104027935, model__epsilon=27.95015916508335;, score=-47.236 total time=   0.5s\n",
      "[CV 15/15; 37/50] START model__C=0.10388823104027935, model__epsilon=27.95015916508335\n",
      "[CV 15/15; 37/50] END model__C=0.10388823104027935, model__epsilon=27.95015916508335;, score=-51.944 total time=   0.5s\n",
      "[CV 1/15; 38/50] START model__C=13.199942261535016, model__epsilon=15.382308040278993\n"
     ]
    },
    {
     "name": "stderr",
     "output_type": "stream",
     "text": [
      "/opt/anaconda3/lib/python3.9/site-packages/sklearn/svm/_base.py:299: ConvergenceWarning: Solver terminated early (max_iter=50000).  Consider pre-processing your data with StandardScaler or MinMaxScaler.\n",
      "  warnings.warn(\n"
     ]
    },
    {
     "name": "stdout",
     "output_type": "stream",
     "text": [
      "[CV 1/15; 38/50] END model__C=13.199942261535016, model__epsilon=15.382308040278993;, score=-26.945 total time=   0.7s\n",
      "[CV 2/15; 38/50] START model__C=13.199942261535016, model__epsilon=15.382308040278993\n"
     ]
    },
    {
     "name": "stderr",
     "output_type": "stream",
     "text": [
      "/opt/anaconda3/lib/python3.9/site-packages/sklearn/svm/_base.py:299: ConvergenceWarning: Solver terminated early (max_iter=50000).  Consider pre-processing your data with StandardScaler or MinMaxScaler.\n",
      "  warnings.warn(\n"
     ]
    },
    {
     "name": "stdout",
     "output_type": "stream",
     "text": [
      "[CV 2/15; 38/50] END model__C=13.199942261535016, model__epsilon=15.382308040278993;, score=-28.486 total time=   0.7s\n",
      "[CV 3/15; 38/50] START model__C=13.199942261535016, model__epsilon=15.382308040278993\n"
     ]
    },
    {
     "name": "stderr",
     "output_type": "stream",
     "text": [
      "/opt/anaconda3/lib/python3.9/site-packages/sklearn/svm/_base.py:299: ConvergenceWarning: Solver terminated early (max_iter=50000).  Consider pre-processing your data with StandardScaler or MinMaxScaler.\n",
      "  warnings.warn(\n"
     ]
    },
    {
     "name": "stdout",
     "output_type": "stream",
     "text": [
      "[CV 3/15; 38/50] END model__C=13.199942261535016, model__epsilon=15.382308040278993;, score=-28.492 total time=   0.7s\n",
      "[CV 4/15; 38/50] START model__C=13.199942261535016, model__epsilon=15.382308040278993\n"
     ]
    },
    {
     "name": "stderr",
     "output_type": "stream",
     "text": [
      "/opt/anaconda3/lib/python3.9/site-packages/sklearn/svm/_base.py:299: ConvergenceWarning: Solver terminated early (max_iter=50000).  Consider pre-processing your data with StandardScaler or MinMaxScaler.\n",
      "  warnings.warn(\n"
     ]
    },
    {
     "name": "stdout",
     "output_type": "stream",
     "text": [
      "[CV 4/15; 38/50] END model__C=13.199942261535016, model__epsilon=15.382308040278993;, score=-28.105 total time=   0.7s\n",
      "[CV 5/15; 38/50] START model__C=13.199942261535016, model__epsilon=15.382308040278993\n"
     ]
    },
    {
     "name": "stderr",
     "output_type": "stream",
     "text": [
      "/opt/anaconda3/lib/python3.9/site-packages/sklearn/svm/_base.py:299: ConvergenceWarning: Solver terminated early (max_iter=50000).  Consider pre-processing your data with StandardScaler or MinMaxScaler.\n",
      "  warnings.warn(\n"
     ]
    },
    {
     "name": "stdout",
     "output_type": "stream",
     "text": [
      "[CV 5/15; 38/50] END model__C=13.199942261535016, model__epsilon=15.382308040278993;, score=-31.225 total time=   0.7s\n",
      "[CV 6/15; 38/50] START model__C=13.199942261535016, model__epsilon=15.382308040278993\n"
     ]
    },
    {
     "name": "stderr",
     "output_type": "stream",
     "text": [
      "/opt/anaconda3/lib/python3.9/site-packages/sklearn/svm/_base.py:299: ConvergenceWarning: Solver terminated early (max_iter=50000).  Consider pre-processing your data with StandardScaler or MinMaxScaler.\n",
      "  warnings.warn(\n"
     ]
    },
    {
     "name": "stdout",
     "output_type": "stream",
     "text": [
      "[CV 6/15; 38/50] END model__C=13.199942261535016, model__epsilon=15.382308040278993;, score=-26.730 total time=   0.7s\n",
      "[CV 7/15; 38/50] START model__C=13.199942261535016, model__epsilon=15.382308040278993\n"
     ]
    },
    {
     "name": "stderr",
     "output_type": "stream",
     "text": [
      "/opt/anaconda3/lib/python3.9/site-packages/sklearn/svm/_base.py:299: ConvergenceWarning: Solver terminated early (max_iter=50000).  Consider pre-processing your data with StandardScaler or MinMaxScaler.\n",
      "  warnings.warn(\n"
     ]
    },
    {
     "name": "stdout",
     "output_type": "stream",
     "text": [
      "[CV 7/15; 38/50] END model__C=13.199942261535016, model__epsilon=15.382308040278993;, score=-28.042 total time=   0.7s\n",
      "[CV 8/15; 38/50] START model__C=13.199942261535016, model__epsilon=15.382308040278993\n"
     ]
    },
    {
     "name": "stderr",
     "output_type": "stream",
     "text": [
      "/opt/anaconda3/lib/python3.9/site-packages/sklearn/svm/_base.py:299: ConvergenceWarning: Solver terminated early (max_iter=50000).  Consider pre-processing your data with StandardScaler or MinMaxScaler.\n",
      "  warnings.warn(\n"
     ]
    },
    {
     "name": "stdout",
     "output_type": "stream",
     "text": [
      "[CV 8/15; 38/50] END model__C=13.199942261535016, model__epsilon=15.382308040278993;, score=-30.687 total time=   0.7s\n",
      "[CV 9/15; 38/50] START model__C=13.199942261535016, model__epsilon=15.382308040278993\n"
     ]
    },
    {
     "name": "stderr",
     "output_type": "stream",
     "text": [
      "/opt/anaconda3/lib/python3.9/site-packages/sklearn/svm/_base.py:299: ConvergenceWarning: Solver terminated early (max_iter=50000).  Consider pre-processing your data with StandardScaler or MinMaxScaler.\n",
      "  warnings.warn(\n"
     ]
    },
    {
     "name": "stdout",
     "output_type": "stream",
     "text": [
      "[CV 9/15; 38/50] END model__C=13.199942261535016, model__epsilon=15.382308040278993;, score=-27.890 total time=   0.7s\n",
      "[CV 10/15; 38/50] START model__C=13.199942261535016, model__epsilon=15.382308040278993\n"
     ]
    },
    {
     "name": "stderr",
     "output_type": "stream",
     "text": [
      "/opt/anaconda3/lib/python3.9/site-packages/sklearn/svm/_base.py:299: ConvergenceWarning: Solver terminated early (max_iter=50000).  Consider pre-processing your data with StandardScaler or MinMaxScaler.\n",
      "  warnings.warn(\n"
     ]
    },
    {
     "name": "stdout",
     "output_type": "stream",
     "text": [
      "[CV 10/15; 38/50] END model__C=13.199942261535016, model__epsilon=15.382308040278993;, score=-29.943 total time=   0.7s\n",
      "[CV 11/15; 38/50] START model__C=13.199942261535016, model__epsilon=15.382308040278993\n"
     ]
    },
    {
     "name": "stderr",
     "output_type": "stream",
     "text": [
      "/opt/anaconda3/lib/python3.9/site-packages/sklearn/svm/_base.py:299: ConvergenceWarning: Solver terminated early (max_iter=50000).  Consider pre-processing your data with StandardScaler or MinMaxScaler.\n",
      "  warnings.warn(\n"
     ]
    },
    {
     "name": "stdout",
     "output_type": "stream",
     "text": [
      "[CV 11/15; 38/50] END model__C=13.199942261535016, model__epsilon=15.382308040278993;, score=-28.353 total time=   0.7s\n",
      "[CV 12/15; 38/50] START model__C=13.199942261535016, model__epsilon=15.382308040278993\n"
     ]
    },
    {
     "name": "stderr",
     "output_type": "stream",
     "text": [
      "/opt/anaconda3/lib/python3.9/site-packages/sklearn/svm/_base.py:299: ConvergenceWarning: Solver terminated early (max_iter=50000).  Consider pre-processing your data with StandardScaler or MinMaxScaler.\n",
      "  warnings.warn(\n"
     ]
    },
    {
     "name": "stdout",
     "output_type": "stream",
     "text": [
      "[CV 12/15; 38/50] END model__C=13.199942261535016, model__epsilon=15.382308040278993;, score=-27.249 total time=   0.7s\n",
      "[CV 13/15; 38/50] START model__C=13.199942261535016, model__epsilon=15.382308040278993\n"
     ]
    },
    {
     "name": "stderr",
     "output_type": "stream",
     "text": [
      "/opt/anaconda3/lib/python3.9/site-packages/sklearn/svm/_base.py:299: ConvergenceWarning: Solver terminated early (max_iter=50000).  Consider pre-processing your data with StandardScaler or MinMaxScaler.\n",
      "  warnings.warn(\n"
     ]
    },
    {
     "name": "stdout",
     "output_type": "stream",
     "text": [
      "[CV 13/15; 38/50] END model__C=13.199942261535016, model__epsilon=15.382308040278993;, score=-28.457 total time=   0.7s\n",
      "[CV 14/15; 38/50] START model__C=13.199942261535016, model__epsilon=15.382308040278993\n"
     ]
    },
    {
     "name": "stderr",
     "output_type": "stream",
     "text": [
      "/opt/anaconda3/lib/python3.9/site-packages/sklearn/svm/_base.py:299: ConvergenceWarning: Solver terminated early (max_iter=50000).  Consider pre-processing your data with StandardScaler or MinMaxScaler.\n",
      "  warnings.warn(\n"
     ]
    },
    {
     "name": "stdout",
     "output_type": "stream",
     "text": [
      "[CV 14/15; 38/50] END model__C=13.199942261535016, model__epsilon=15.382308040278993;, score=-28.115 total time=   0.7s\n",
      "[CV 15/15; 38/50] START model__C=13.199942261535016, model__epsilon=15.382308040278993\n"
     ]
    },
    {
     "name": "stderr",
     "output_type": "stream",
     "text": [
      "/opt/anaconda3/lib/python3.9/site-packages/sklearn/svm/_base.py:299: ConvergenceWarning: Solver terminated early (max_iter=50000).  Consider pre-processing your data with StandardScaler or MinMaxScaler.\n",
      "  warnings.warn(\n"
     ]
    },
    {
     "name": "stdout",
     "output_type": "stream",
     "text": [
      "[CV 15/15; 38/50] END model__C=13.199942261535016, model__epsilon=15.382308040278993;, score=-31.548 total time=   0.7s\n",
      "[CV 1/15; 39/50] START model__C=20.59733535743719, model__epsilon=0.16677615430197912\n"
     ]
    },
    {
     "name": "stderr",
     "output_type": "stream",
     "text": [
      "/opt/anaconda3/lib/python3.9/site-packages/sklearn/svm/_base.py:299: ConvergenceWarning: Solver terminated early (max_iter=50000).  Consider pre-processing your data with StandardScaler or MinMaxScaler.\n",
      "  warnings.warn(\n"
     ]
    },
    {
     "name": "stdout",
     "output_type": "stream",
     "text": [
      "[CV 1/15; 39/50] END model__C=20.59733535743719, model__epsilon=0.16677615430197912;, score=-24.132 total time=   2.4s\n",
      "[CV 2/15; 39/50] START model__C=20.59733535743719, model__epsilon=0.16677615430197912\n"
     ]
    },
    {
     "name": "stderr",
     "output_type": "stream",
     "text": [
      "/opt/anaconda3/lib/python3.9/site-packages/sklearn/svm/_base.py:299: ConvergenceWarning: Solver terminated early (max_iter=50000).  Consider pre-processing your data with StandardScaler or MinMaxScaler.\n",
      "  warnings.warn(\n"
     ]
    },
    {
     "name": "stdout",
     "output_type": "stream",
     "text": [
      "[CV 2/15; 39/50] END model__C=20.59733535743719, model__epsilon=0.16677615430197912;, score=-25.661 total time=   2.4s\n",
      "[CV 3/15; 39/50] START model__C=20.59733535743719, model__epsilon=0.16677615430197912\n"
     ]
    },
    {
     "name": "stderr",
     "output_type": "stream",
     "text": [
      "/opt/anaconda3/lib/python3.9/site-packages/sklearn/svm/_base.py:299: ConvergenceWarning: Solver terminated early (max_iter=50000).  Consider pre-processing your data with StandardScaler or MinMaxScaler.\n",
      "  warnings.warn(\n"
     ]
    },
    {
     "name": "stdout",
     "output_type": "stream",
     "text": [
      "[CV 3/15; 39/50] END model__C=20.59733535743719, model__epsilon=0.16677615430197912;, score=-25.784 total time=   2.4s\n",
      "[CV 4/15; 39/50] START model__C=20.59733535743719, model__epsilon=0.16677615430197912\n"
     ]
    },
    {
     "name": "stderr",
     "output_type": "stream",
     "text": [
      "/opt/anaconda3/lib/python3.9/site-packages/sklearn/svm/_base.py:299: ConvergenceWarning: Solver terminated early (max_iter=50000).  Consider pre-processing your data with StandardScaler or MinMaxScaler.\n",
      "  warnings.warn(\n"
     ]
    },
    {
     "name": "stdout",
     "output_type": "stream",
     "text": [
      "[CV 4/15; 39/50] END model__C=20.59733535743719, model__epsilon=0.16677615430197912;, score=-25.129 total time=   2.4s\n",
      "[CV 5/15; 39/50] START model__C=20.59733535743719, model__epsilon=0.16677615430197912\n"
     ]
    },
    {
     "name": "stderr",
     "output_type": "stream",
     "text": [
      "/opt/anaconda3/lib/python3.9/site-packages/sklearn/svm/_base.py:299: ConvergenceWarning: Solver terminated early (max_iter=50000).  Consider pre-processing your data with StandardScaler or MinMaxScaler.\n",
      "  warnings.warn(\n"
     ]
    },
    {
     "name": "stdout",
     "output_type": "stream",
     "text": [
      "[CV 5/15; 39/50] END model__C=20.59733535743719, model__epsilon=0.16677615430197912;, score=-28.622 total time=   2.4s\n",
      "[CV 6/15; 39/50] START model__C=20.59733535743719, model__epsilon=0.16677615430197912\n"
     ]
    },
    {
     "name": "stderr",
     "output_type": "stream",
     "text": [
      "/opt/anaconda3/lib/python3.9/site-packages/sklearn/svm/_base.py:299: ConvergenceWarning: Solver terminated early (max_iter=50000).  Consider pre-processing your data with StandardScaler or MinMaxScaler.\n",
      "  warnings.warn(\n"
     ]
    },
    {
     "name": "stdout",
     "output_type": "stream",
     "text": [
      "[CV 6/15; 39/50] END model__C=20.59733535743719, model__epsilon=0.16677615430197912;, score=-23.739 total time=   2.4s\n",
      "[CV 7/15; 39/50] START model__C=20.59733535743719, model__epsilon=0.16677615430197912\n"
     ]
    },
    {
     "name": "stderr",
     "output_type": "stream",
     "text": [
      "/opt/anaconda3/lib/python3.9/site-packages/sklearn/svm/_base.py:299: ConvergenceWarning: Solver terminated early (max_iter=50000).  Consider pre-processing your data with StandardScaler or MinMaxScaler.\n",
      "  warnings.warn(\n"
     ]
    },
    {
     "name": "stdout",
     "output_type": "stream",
     "text": [
      "[CV 7/15; 39/50] END model__C=20.59733535743719, model__epsilon=0.16677615430197912;, score=-25.089 total time=   2.4s\n",
      "[CV 8/15; 39/50] START model__C=20.59733535743719, model__epsilon=0.16677615430197912\n"
     ]
    },
    {
     "name": "stderr",
     "output_type": "stream",
     "text": [
      "/opt/anaconda3/lib/python3.9/site-packages/sklearn/svm/_base.py:299: ConvergenceWarning: Solver terminated early (max_iter=50000).  Consider pre-processing your data with StandardScaler or MinMaxScaler.\n",
      "  warnings.warn(\n"
     ]
    },
    {
     "name": "stdout",
     "output_type": "stream",
     "text": [
      "[CV 8/15; 39/50] END model__C=20.59733535743719, model__epsilon=0.16677615430197912;, score=-27.944 total time=   2.5s\n",
      "[CV 9/15; 39/50] START model__C=20.59733535743719, model__epsilon=0.16677615430197912\n"
     ]
    },
    {
     "name": "stderr",
     "output_type": "stream",
     "text": [
      "/opt/anaconda3/lib/python3.9/site-packages/sklearn/svm/_base.py:299: ConvergenceWarning: Solver terminated early (max_iter=50000).  Consider pre-processing your data with StandardScaler or MinMaxScaler.\n",
      "  warnings.warn(\n"
     ]
    },
    {
     "name": "stdout",
     "output_type": "stream",
     "text": [
      "[CV 9/15; 39/50] END model__C=20.59733535743719, model__epsilon=0.16677615430197912;, score=-25.423 total time=   2.5s\n",
      "[CV 10/15; 39/50] START model__C=20.59733535743719, model__epsilon=0.16677615430197912\n"
     ]
    },
    {
     "name": "stderr",
     "output_type": "stream",
     "text": [
      "/opt/anaconda3/lib/python3.9/site-packages/sklearn/svm/_base.py:299: ConvergenceWarning: Solver terminated early (max_iter=50000).  Consider pre-processing your data with StandardScaler or MinMaxScaler.\n",
      "  warnings.warn(\n"
     ]
    },
    {
     "name": "stdout",
     "output_type": "stream",
     "text": [
      "[CV 10/15; 39/50] END model__C=20.59733535743719, model__epsilon=0.16677615430197912;, score=-26.980 total time=   2.5s\n",
      "[CV 11/15; 39/50] START model__C=20.59733535743719, model__epsilon=0.16677615430197912\n"
     ]
    },
    {
     "name": "stderr",
     "output_type": "stream",
     "text": [
      "/opt/anaconda3/lib/python3.9/site-packages/sklearn/svm/_base.py:299: ConvergenceWarning: Solver terminated early (max_iter=50000).  Consider pre-processing your data with StandardScaler or MinMaxScaler.\n",
      "  warnings.warn(\n"
     ]
    },
    {
     "name": "stdout",
     "output_type": "stream",
     "text": [
      "[CV 11/15; 39/50] END model__C=20.59733535743719, model__epsilon=0.16677615430197912;, score=-25.678 total time=   2.4s\n",
      "[CV 12/15; 39/50] START model__C=20.59733535743719, model__epsilon=0.16677615430197912\n"
     ]
    },
    {
     "name": "stderr",
     "output_type": "stream",
     "text": [
      "/opt/anaconda3/lib/python3.9/site-packages/sklearn/svm/_base.py:299: ConvergenceWarning: Solver terminated early (max_iter=50000).  Consider pre-processing your data with StandardScaler or MinMaxScaler.\n",
      "  warnings.warn(\n"
     ]
    },
    {
     "name": "stdout",
     "output_type": "stream",
     "text": [
      "[CV 12/15; 39/50] END model__C=20.59733535743719, model__epsilon=0.16677615430197912;, score=-24.481 total time=   2.5s\n",
      "[CV 13/15; 39/50] START model__C=20.59733535743719, model__epsilon=0.16677615430197912\n"
     ]
    },
    {
     "name": "stderr",
     "output_type": "stream",
     "text": [
      "/opt/anaconda3/lib/python3.9/site-packages/sklearn/svm/_base.py:299: ConvergenceWarning: Solver terminated early (max_iter=50000).  Consider pre-processing your data with StandardScaler or MinMaxScaler.\n",
      "  warnings.warn(\n"
     ]
    },
    {
     "name": "stdout",
     "output_type": "stream",
     "text": [
      "[CV 13/15; 39/50] END model__C=20.59733535743719, model__epsilon=0.16677615430197912;, score=-25.802 total time=   2.5s\n",
      "[CV 14/15; 39/50] START model__C=20.59733535743719, model__epsilon=0.16677615430197912\n"
     ]
    },
    {
     "name": "stderr",
     "output_type": "stream",
     "text": [
      "/opt/anaconda3/lib/python3.9/site-packages/sklearn/svm/_base.py:299: ConvergenceWarning: Solver terminated early (max_iter=50000).  Consider pre-processing your data with StandardScaler or MinMaxScaler.\n",
      "  warnings.warn(\n"
     ]
    },
    {
     "name": "stdout",
     "output_type": "stream",
     "text": [
      "[CV 14/15; 39/50] END model__C=20.59733535743719, model__epsilon=0.16677615430197912;, score=-25.344 total time=   2.4s\n",
      "[CV 15/15; 39/50] START model__C=20.59733535743719, model__epsilon=0.16677615430197912\n"
     ]
    },
    {
     "name": "stderr",
     "output_type": "stream",
     "text": [
      "/opt/anaconda3/lib/python3.9/site-packages/sklearn/svm/_base.py:299: ConvergenceWarning: Solver terminated early (max_iter=50000).  Consider pre-processing your data with StandardScaler or MinMaxScaler.\n",
      "  warnings.warn(\n"
     ]
    },
    {
     "name": "stdout",
     "output_type": "stream",
     "text": [
      "[CV 15/15; 39/50] END model__C=20.59733535743719, model__epsilon=0.16677615430197912;, score=-28.685 total time=   2.5s\n",
      "[CV 1/15; 40/50] START model__C=1.1895896737553546, model__epsilon=0.22264204303769677\n"
     ]
    },
    {
     "name": "stderr",
     "output_type": "stream",
     "text": [
      "/opt/anaconda3/lib/python3.9/site-packages/sklearn/svm/_base.py:299: ConvergenceWarning: Solver terminated early (max_iter=50000).  Consider pre-processing your data with StandardScaler or MinMaxScaler.\n",
      "  warnings.warn(\n"
     ]
    },
    {
     "name": "stdout",
     "output_type": "stream",
     "text": [
      "[CV 1/15; 40/50] END model__C=1.1895896737553546, model__epsilon=0.22264204303769677;, score=-27.367 total time=   1.4s\n",
      "[CV 2/15; 40/50] START model__C=1.1895896737553546, model__epsilon=0.22264204303769677\n"
     ]
    },
    {
     "name": "stderr",
     "output_type": "stream",
     "text": [
      "/opt/anaconda3/lib/python3.9/site-packages/sklearn/svm/_base.py:299: ConvergenceWarning: Solver terminated early (max_iter=50000).  Consider pre-processing your data with StandardScaler or MinMaxScaler.\n",
      "  warnings.warn(\n"
     ]
    },
    {
     "name": "stdout",
     "output_type": "stream",
     "text": [
      "[CV 2/15; 40/50] END model__C=1.1895896737553546, model__epsilon=0.22264204303769677;, score=-28.830 total time=   1.4s\n",
      "[CV 3/15; 40/50] START model__C=1.1895896737553546, model__epsilon=0.22264204303769677\n"
     ]
    },
    {
     "name": "stderr",
     "output_type": "stream",
     "text": [
      "/opt/anaconda3/lib/python3.9/site-packages/sklearn/svm/_base.py:299: ConvergenceWarning: Solver terminated early (max_iter=50000).  Consider pre-processing your data with StandardScaler or MinMaxScaler.\n",
      "  warnings.warn(\n"
     ]
    },
    {
     "name": "stdout",
     "output_type": "stream",
     "text": [
      "[CV 3/15; 40/50] END model__C=1.1895896737553546, model__epsilon=0.22264204303769677;, score=-29.487 total time=   1.4s\n",
      "[CV 4/15; 40/50] START model__C=1.1895896737553546, model__epsilon=0.22264204303769677\n"
     ]
    },
    {
     "name": "stderr",
     "output_type": "stream",
     "text": [
      "/opt/anaconda3/lib/python3.9/site-packages/sklearn/svm/_base.py:299: ConvergenceWarning: Solver terminated early (max_iter=50000).  Consider pre-processing your data with StandardScaler or MinMaxScaler.\n",
      "  warnings.warn(\n"
     ]
    },
    {
     "name": "stdout",
     "output_type": "stream",
     "text": [
      "[CV 4/15; 40/50] END model__C=1.1895896737553546, model__epsilon=0.22264204303769677;, score=-27.742 total time=   1.4s\n",
      "[CV 5/15; 40/50] START model__C=1.1895896737553546, model__epsilon=0.22264204303769677\n"
     ]
    },
    {
     "name": "stderr",
     "output_type": "stream",
     "text": [
      "/opt/anaconda3/lib/python3.9/site-packages/sklearn/svm/_base.py:299: ConvergenceWarning: Solver terminated early (max_iter=50000).  Consider pre-processing your data with StandardScaler or MinMaxScaler.\n",
      "  warnings.warn(\n"
     ]
    },
    {
     "name": "stdout",
     "output_type": "stream",
     "text": [
      "[CV 5/15; 40/50] END model__C=1.1895896737553546, model__epsilon=0.22264204303769677;, score=-32.839 total time=   1.4s\n",
      "[CV 6/15; 40/50] START model__C=1.1895896737553546, model__epsilon=0.22264204303769677\n"
     ]
    },
    {
     "name": "stderr",
     "output_type": "stream",
     "text": [
      "/opt/anaconda3/lib/python3.9/site-packages/sklearn/svm/_base.py:299: ConvergenceWarning: Solver terminated early (max_iter=50000).  Consider pre-processing your data with StandardScaler or MinMaxScaler.\n",
      "  warnings.warn(\n"
     ]
    },
    {
     "name": "stdout",
     "output_type": "stream",
     "text": [
      "[CV 6/15; 40/50] END model__C=1.1895896737553546, model__epsilon=0.22264204303769677;, score=-27.616 total time=   1.4s\n",
      "[CV 7/15; 40/50] START model__C=1.1895896737553546, model__epsilon=0.22264204303769677\n",
      "[CV 7/15; 40/50] END model__C=1.1895896737553546, model__epsilon=0.22264204303769677;, score=-28.133 total time=   1.4s\n",
      "[CV 8/15; 40/50] START model__C=1.1895896737553546, model__epsilon=0.22264204303769677\n"
     ]
    },
    {
     "name": "stderr",
     "output_type": "stream",
     "text": [
      "/opt/anaconda3/lib/python3.9/site-packages/sklearn/svm/_base.py:299: ConvergenceWarning: Solver terminated early (max_iter=50000).  Consider pre-processing your data with StandardScaler or MinMaxScaler.\n",
      "  warnings.warn(\n"
     ]
    },
    {
     "name": "stdout",
     "output_type": "stream",
     "text": [
      "[CV 8/15; 40/50] END model__C=1.1895896737553546, model__epsilon=0.22264204303769677;, score=-30.138 total time=   1.4s\n",
      "[CV 9/15; 40/50] START model__C=1.1895896737553546, model__epsilon=0.22264204303769677\n"
     ]
    },
    {
     "name": "stderr",
     "output_type": "stream",
     "text": [
      "/opt/anaconda3/lib/python3.9/site-packages/sklearn/svm/_base.py:299: ConvergenceWarning: Solver terminated early (max_iter=50000).  Consider pre-processing your data with StandardScaler or MinMaxScaler.\n",
      "  warnings.warn(\n"
     ]
    },
    {
     "name": "stdout",
     "output_type": "stream",
     "text": [
      "[CV 9/15; 40/50] END model__C=1.1895896737553546, model__epsilon=0.22264204303769677;, score=-28.621 total time=   1.4s\n",
      "[CV 10/15; 40/50] START model__C=1.1895896737553546, model__epsilon=0.22264204303769677\n"
     ]
    },
    {
     "name": "stderr",
     "output_type": "stream",
     "text": [
      "/opt/anaconda3/lib/python3.9/site-packages/sklearn/svm/_base.py:299: ConvergenceWarning: Solver terminated early (max_iter=50000).  Consider pre-processing your data with StandardScaler or MinMaxScaler.\n",
      "  warnings.warn(\n"
     ]
    },
    {
     "name": "stdout",
     "output_type": "stream",
     "text": [
      "[CV 10/15; 40/50] END model__C=1.1895896737553546, model__epsilon=0.22264204303769677;, score=-31.887 total time=   1.4s\n",
      "[CV 11/15; 40/50] START model__C=1.1895896737553546, model__epsilon=0.22264204303769677\n"
     ]
    },
    {
     "name": "stderr",
     "output_type": "stream",
     "text": [
      "/opt/anaconda3/lib/python3.9/site-packages/sklearn/svm/_base.py:299: ConvergenceWarning: Solver terminated early (max_iter=50000).  Consider pre-processing your data with StandardScaler or MinMaxScaler.\n",
      "  warnings.warn(\n"
     ]
    },
    {
     "name": "stdout",
     "output_type": "stream",
     "text": [
      "[CV 11/15; 40/50] END model__C=1.1895896737553546, model__epsilon=0.22264204303769677;, score=-27.838 total time=   1.4s\n",
      "[CV 12/15; 40/50] START model__C=1.1895896737553546, model__epsilon=0.22264204303769677\n"
     ]
    },
    {
     "name": "stderr",
     "output_type": "stream",
     "text": [
      "/opt/anaconda3/lib/python3.9/site-packages/sklearn/svm/_base.py:299: ConvergenceWarning: Solver terminated early (max_iter=50000).  Consider pre-processing your data with StandardScaler or MinMaxScaler.\n",
      "  warnings.warn(\n"
     ]
    },
    {
     "name": "stdout",
     "output_type": "stream",
     "text": [
      "[CV 12/15; 40/50] END model__C=1.1895896737553546, model__epsilon=0.22264204303769677;, score=-28.012 total time=   1.4s\n",
      "[CV 13/15; 40/50] START model__C=1.1895896737553546, model__epsilon=0.22264204303769677\n"
     ]
    },
    {
     "name": "stderr",
     "output_type": "stream",
     "text": [
      "/opt/anaconda3/lib/python3.9/site-packages/sklearn/svm/_base.py:299: ConvergenceWarning: Solver terminated early (max_iter=50000).  Consider pre-processing your data with StandardScaler or MinMaxScaler.\n",
      "  warnings.warn(\n"
     ]
    },
    {
     "name": "stdout",
     "output_type": "stream",
     "text": [
      "[CV 13/15; 40/50] END model__C=1.1895896737553546, model__epsilon=0.22264204303769677;, score=-29.761 total time=   1.4s\n",
      "[CV 14/15; 40/50] START model__C=1.1895896737553546, model__epsilon=0.22264204303769677\n"
     ]
    },
    {
     "name": "stderr",
     "output_type": "stream",
     "text": [
      "/opt/anaconda3/lib/python3.9/site-packages/sklearn/svm/_base.py:299: ConvergenceWarning: Solver terminated early (max_iter=50000).  Consider pre-processing your data with StandardScaler or MinMaxScaler.\n",
      "  warnings.warn(\n"
     ]
    },
    {
     "name": "stdout",
     "output_type": "stream",
     "text": [
      "[CV 14/15; 40/50] END model__C=1.1895896737553546, model__epsilon=0.22264204303769677;, score=-28.024 total time=   1.4s\n",
      "[CV 15/15; 40/50] START model__C=1.1895896737553546, model__epsilon=0.22264204303769677\n"
     ]
    },
    {
     "name": "stderr",
     "output_type": "stream",
     "text": [
      "/opt/anaconda3/lib/python3.9/site-packages/sklearn/svm/_base.py:299: ConvergenceWarning: Solver terminated early (max_iter=50000).  Consider pre-processing your data with StandardScaler or MinMaxScaler.\n",
      "  warnings.warn(\n"
     ]
    },
    {
     "name": "stdout",
     "output_type": "stream",
     "text": [
      "[CV 15/15; 40/50] END model__C=1.1895896737553546, model__epsilon=0.22264204303769677;, score=-32.681 total time=   1.4s\n",
      "[CV 1/15; 41/50] START model__C=38.8427775470314, model__epsilon=7.41129978108324\n"
     ]
    },
    {
     "name": "stderr",
     "output_type": "stream",
     "text": [
      "/opt/anaconda3/lib/python3.9/site-packages/sklearn/svm/_base.py:299: ConvergenceWarning: Solver terminated early (max_iter=50000).  Consider pre-processing your data with StandardScaler or MinMaxScaler.\n",
      "  warnings.warn(\n"
     ]
    },
    {
     "name": "stdout",
     "output_type": "stream",
     "text": [
      "[CV 1/15; 41/50] END model__C=38.8427775470314, model__epsilon=7.41129978108324;, score=-25.054 total time=   1.3s\n",
      "[CV 2/15; 41/50] START model__C=38.8427775470314, model__epsilon=7.41129978108324\n"
     ]
    },
    {
     "name": "stderr",
     "output_type": "stream",
     "text": [
      "/opt/anaconda3/lib/python3.9/site-packages/sklearn/svm/_base.py:299: ConvergenceWarning: Solver terminated early (max_iter=50000).  Consider pre-processing your data with StandardScaler or MinMaxScaler.\n",
      "  warnings.warn(\n"
     ]
    },
    {
     "name": "stdout",
     "output_type": "stream",
     "text": [
      "[CV 2/15; 41/50] END model__C=38.8427775470314, model__epsilon=7.41129978108324;, score=-26.624 total time=   1.3s\n",
      "[CV 3/15; 41/50] START model__C=38.8427775470314, model__epsilon=7.41129978108324\n"
     ]
    },
    {
     "name": "stderr",
     "output_type": "stream",
     "text": [
      "/opt/anaconda3/lib/python3.9/site-packages/sklearn/svm/_base.py:299: ConvergenceWarning: Solver terminated early (max_iter=50000).  Consider pre-processing your data with StandardScaler or MinMaxScaler.\n",
      "  warnings.warn(\n"
     ]
    },
    {
     "name": "stdout",
     "output_type": "stream",
     "text": [
      "[CV 3/15; 41/50] END model__C=38.8427775470314, model__epsilon=7.41129978108324;, score=-26.628 total time=   1.3s\n",
      "[CV 4/15; 41/50] START model__C=38.8427775470314, model__epsilon=7.41129978108324\n"
     ]
    },
    {
     "name": "stderr",
     "output_type": "stream",
     "text": [
      "/opt/anaconda3/lib/python3.9/site-packages/sklearn/svm/_base.py:299: ConvergenceWarning: Solver terminated early (max_iter=50000).  Consider pre-processing your data with StandardScaler or MinMaxScaler.\n",
      "  warnings.warn(\n"
     ]
    },
    {
     "name": "stdout",
     "output_type": "stream",
     "text": [
      "[CV 4/15; 41/50] END model__C=38.8427775470314, model__epsilon=7.41129978108324;, score=-26.066 total time=   1.3s\n",
      "[CV 5/15; 41/50] START model__C=38.8427775470314, model__epsilon=7.41129978108324\n"
     ]
    },
    {
     "name": "stderr",
     "output_type": "stream",
     "text": [
      "/opt/anaconda3/lib/python3.9/site-packages/sklearn/svm/_base.py:299: ConvergenceWarning: Solver terminated early (max_iter=50000).  Consider pre-processing your data with StandardScaler or MinMaxScaler.\n",
      "  warnings.warn(\n"
     ]
    },
    {
     "name": "stdout",
     "output_type": "stream",
     "text": [
      "[CV 5/15; 41/50] END model__C=38.8427775470314, model__epsilon=7.41129978108324;, score=-29.267 total time=   1.3s\n",
      "[CV 6/15; 41/50] START model__C=38.8427775470314, model__epsilon=7.41129978108324\n"
     ]
    },
    {
     "name": "stderr",
     "output_type": "stream",
     "text": [
      "/opt/anaconda3/lib/python3.9/site-packages/sklearn/svm/_base.py:299: ConvergenceWarning: Solver terminated early (max_iter=50000).  Consider pre-processing your data with StandardScaler or MinMaxScaler.\n",
      "  warnings.warn(\n"
     ]
    },
    {
     "name": "stdout",
     "output_type": "stream",
     "text": [
      "[CV 6/15; 41/50] END model__C=38.8427775470314, model__epsilon=7.41129978108324;, score=-24.794 total time=   1.3s\n",
      "[CV 7/15; 41/50] START model__C=38.8427775470314, model__epsilon=7.41129978108324\n"
     ]
    },
    {
     "name": "stderr",
     "output_type": "stream",
     "text": [
      "/opt/anaconda3/lib/python3.9/site-packages/sklearn/svm/_base.py:299: ConvergenceWarning: Solver terminated early (max_iter=50000).  Consider pre-processing your data with StandardScaler or MinMaxScaler.\n",
      "  warnings.warn(\n"
     ]
    },
    {
     "name": "stdout",
     "output_type": "stream",
     "text": [
      "[CV 7/15; 41/50] END model__C=38.8427775470314, model__epsilon=7.41129978108324;, score=-25.922 total time=   1.3s\n",
      "[CV 8/15; 41/50] START model__C=38.8427775470314, model__epsilon=7.41129978108324\n"
     ]
    },
    {
     "name": "stderr",
     "output_type": "stream",
     "text": [
      "/opt/anaconda3/lib/python3.9/site-packages/sklearn/svm/_base.py:299: ConvergenceWarning: Solver terminated early (max_iter=50000).  Consider pre-processing your data with StandardScaler or MinMaxScaler.\n",
      "  warnings.warn(\n"
     ]
    },
    {
     "name": "stdout",
     "output_type": "stream",
     "text": [
      "[CV 8/15; 41/50] END model__C=38.8427775470314, model__epsilon=7.41129978108324;, score=-28.817 total time=   1.3s\n",
      "[CV 9/15; 41/50] START model__C=38.8427775470314, model__epsilon=7.41129978108324\n"
     ]
    },
    {
     "name": "stderr",
     "output_type": "stream",
     "text": [
      "/opt/anaconda3/lib/python3.9/site-packages/sklearn/svm/_base.py:299: ConvergenceWarning: Solver terminated early (max_iter=50000).  Consider pre-processing your data with StandardScaler or MinMaxScaler.\n",
      "  warnings.warn(\n"
     ]
    },
    {
     "name": "stdout",
     "output_type": "stream",
     "text": [
      "[CV 9/15; 41/50] END model__C=38.8427775470314, model__epsilon=7.41129978108324;, score=-26.094 total time=   1.3s\n",
      "[CV 10/15; 41/50] START model__C=38.8427775470314, model__epsilon=7.41129978108324\n"
     ]
    },
    {
     "name": "stderr",
     "output_type": "stream",
     "text": [
      "/opt/anaconda3/lib/python3.9/site-packages/sklearn/svm/_base.py:299: ConvergenceWarning: Solver terminated early (max_iter=50000).  Consider pre-processing your data with StandardScaler or MinMaxScaler.\n",
      "  warnings.warn(\n"
     ]
    },
    {
     "name": "stdout",
     "output_type": "stream",
     "text": [
      "[CV 10/15; 41/50] END model__C=38.8427775470314, model__epsilon=7.41129978108324;, score=-27.825 total time=   1.3s\n",
      "[CV 11/15; 41/50] START model__C=38.8427775470314, model__epsilon=7.41129978108324\n"
     ]
    },
    {
     "name": "stderr",
     "output_type": "stream",
     "text": [
      "/opt/anaconda3/lib/python3.9/site-packages/sklearn/svm/_base.py:299: ConvergenceWarning: Solver terminated early (max_iter=50000).  Consider pre-processing your data with StandardScaler or MinMaxScaler.\n",
      "  warnings.warn(\n"
     ]
    },
    {
     "name": "stdout",
     "output_type": "stream",
     "text": [
      "[CV 11/15; 41/50] END model__C=38.8427775470314, model__epsilon=7.41129978108324;, score=-26.537 total time=   1.3s\n",
      "[CV 12/15; 41/50] START model__C=38.8427775470314, model__epsilon=7.41129978108324\n"
     ]
    },
    {
     "name": "stderr",
     "output_type": "stream",
     "text": [
      "/opt/anaconda3/lib/python3.9/site-packages/sklearn/svm/_base.py:299: ConvergenceWarning: Solver terminated early (max_iter=50000).  Consider pre-processing your data with StandardScaler or MinMaxScaler.\n",
      "  warnings.warn(\n"
     ]
    },
    {
     "name": "stdout",
     "output_type": "stream",
     "text": [
      "[CV 12/15; 41/50] END model__C=38.8427775470314, model__epsilon=7.41129978108324;, score=-25.384 total time=   1.3s\n",
      "[CV 13/15; 41/50] START model__C=38.8427775470314, model__epsilon=7.41129978108324\n"
     ]
    },
    {
     "name": "stderr",
     "output_type": "stream",
     "text": [
      "/opt/anaconda3/lib/python3.9/site-packages/sklearn/svm/_base.py:299: ConvergenceWarning: Solver terminated early (max_iter=50000).  Consider pre-processing your data with StandardScaler or MinMaxScaler.\n",
      "  warnings.warn(\n"
     ]
    },
    {
     "name": "stdout",
     "output_type": "stream",
     "text": [
      "[CV 13/15; 41/50] END model__C=38.8427775470314, model__epsilon=7.41129978108324;, score=-26.502 total time=   1.3s\n",
      "[CV 14/15; 41/50] START model__C=38.8427775470314, model__epsilon=7.41129978108324\n"
     ]
    },
    {
     "name": "stderr",
     "output_type": "stream",
     "text": [
      "/opt/anaconda3/lib/python3.9/site-packages/sklearn/svm/_base.py:299: ConvergenceWarning: Solver terminated early (max_iter=50000).  Consider pre-processing your data with StandardScaler or MinMaxScaler.\n",
      "  warnings.warn(\n"
     ]
    },
    {
     "name": "stdout",
     "output_type": "stream",
     "text": [
      "[CV 14/15; 41/50] END model__C=38.8427775470314, model__epsilon=7.41129978108324;, score=-26.312 total time=   1.3s\n",
      "[CV 15/15; 41/50] START model__C=38.8427775470314, model__epsilon=7.41129978108324\n"
     ]
    },
    {
     "name": "stderr",
     "output_type": "stream",
     "text": [
      "/opt/anaconda3/lib/python3.9/site-packages/sklearn/svm/_base.py:299: ConvergenceWarning: Solver terminated early (max_iter=50000).  Consider pre-processing your data with StandardScaler or MinMaxScaler.\n",
      "  warnings.warn(\n"
     ]
    },
    {
     "name": "stdout",
     "output_type": "stream",
     "text": [
      "[CV 15/15; 41/50] END model__C=38.8427775470314, model__epsilon=7.41129978108324;, score=-29.350 total time=   1.3s\n",
      "[CV 1/15; 42/50] START model__C=0.9833181933644887, model__epsilon=0.15512259126484748\n",
      "[CV 1/15; 42/50] END model__C=0.9833181933644887, model__epsilon=0.15512259126484748;, score=-28.080 total time=   1.4s\n",
      "[CV 2/15; 42/50] START model__C=0.9833181933644887, model__epsilon=0.15512259126484748\n"
     ]
    },
    {
     "name": "stderr",
     "output_type": "stream",
     "text": [
      "/opt/anaconda3/lib/python3.9/site-packages/sklearn/svm/_base.py:299: ConvergenceWarning: Solver terminated early (max_iter=50000).  Consider pre-processing your data with StandardScaler or MinMaxScaler.\n",
      "  warnings.warn(\n"
     ]
    },
    {
     "name": "stdout",
     "output_type": "stream",
     "text": [
      "[CV 2/15; 42/50] END model__C=0.9833181933644887, model__epsilon=0.15512259126484748;, score=-29.245 total time=   1.4s\n",
      "[CV 3/15; 42/50] START model__C=0.9833181933644887, model__epsilon=0.15512259126484748\n"
     ]
    },
    {
     "name": "stderr",
     "output_type": "stream",
     "text": [
      "/opt/anaconda3/lib/python3.9/site-packages/sklearn/svm/_base.py:299: ConvergenceWarning: Solver terminated early (max_iter=50000).  Consider pre-processing your data with StandardScaler or MinMaxScaler.\n",
      "  warnings.warn(\n"
     ]
    },
    {
     "name": "stdout",
     "output_type": "stream",
     "text": [
      "[CV 3/15; 42/50] END model__C=0.9833181933644887, model__epsilon=0.15512259126484748;, score=-30.075 total time=   1.4s\n",
      "[CV 4/15; 42/50] START model__C=0.9833181933644887, model__epsilon=0.15512259126484748\n",
      "[CV 4/15; 42/50] END model__C=0.9833181933644887, model__epsilon=0.15512259126484748;, score=-28.316 total time=   1.4s\n",
      "[CV 5/15; 42/50] START model__C=0.9833181933644887, model__epsilon=0.15512259126484748\n"
     ]
    },
    {
     "name": "stderr",
     "output_type": "stream",
     "text": [
      "/opt/anaconda3/lib/python3.9/site-packages/sklearn/svm/_base.py:299: ConvergenceWarning: Solver terminated early (max_iter=50000).  Consider pre-processing your data with StandardScaler or MinMaxScaler.\n",
      "  warnings.warn(\n"
     ]
    },
    {
     "name": "stdout",
     "output_type": "stream",
     "text": [
      "[CV 5/15; 42/50] END model__C=0.9833181933644887, model__epsilon=0.15512259126484748;, score=-33.380 total time=   1.4s\n",
      "[CV 6/15; 42/50] START model__C=0.9833181933644887, model__epsilon=0.15512259126484748\n",
      "[CV 6/15; 42/50] END model__C=0.9833181933644887, model__epsilon=0.15512259126484748;, score=-28.190 total time=   1.4s\n",
      "[CV 7/15; 42/50] START model__C=0.9833181933644887, model__epsilon=0.15512259126484748\n"
     ]
    },
    {
     "name": "stderr",
     "output_type": "stream",
     "text": [
      "/opt/anaconda3/lib/python3.9/site-packages/sklearn/svm/_base.py:299: ConvergenceWarning: Solver terminated early (max_iter=50000).  Consider pre-processing your data with StandardScaler or MinMaxScaler.\n",
      "  warnings.warn(\n"
     ]
    },
    {
     "name": "stdout",
     "output_type": "stream",
     "text": [
      "[CV 7/15; 42/50] END model__C=0.9833181933644887, model__epsilon=0.15512259126484748;, score=-28.722 total time=   1.4s\n",
      "[CV 8/15; 42/50] START model__C=0.9833181933644887, model__epsilon=0.15512259126484748\n"
     ]
    },
    {
     "name": "stderr",
     "output_type": "stream",
     "text": [
      "/opt/anaconda3/lib/python3.9/site-packages/sklearn/svm/_base.py:299: ConvergenceWarning: Solver terminated early (max_iter=50000).  Consider pre-processing your data with StandardScaler or MinMaxScaler.\n",
      "  warnings.warn(\n"
     ]
    },
    {
     "name": "stdout",
     "output_type": "stream",
     "text": [
      "[CV 8/15; 42/50] END model__C=0.9833181933644887, model__epsilon=0.15512259126484748;, score=-30.599 total time=   1.4s\n",
      "[CV 9/15; 42/50] START model__C=0.9833181933644887, model__epsilon=0.15512259126484748\n"
     ]
    },
    {
     "name": "stderr",
     "output_type": "stream",
     "text": [
      "/opt/anaconda3/lib/python3.9/site-packages/sklearn/svm/_base.py:299: ConvergenceWarning: Solver terminated early (max_iter=50000).  Consider pre-processing your data with StandardScaler or MinMaxScaler.\n",
      "  warnings.warn(\n"
     ]
    },
    {
     "name": "stdout",
     "output_type": "stream",
     "text": [
      "[CV 9/15; 42/50] END model__C=0.9833181933644887, model__epsilon=0.15512259126484748;, score=-29.071 total time=   1.4s\n",
      "[CV 10/15; 42/50] START model__C=0.9833181933644887, model__epsilon=0.15512259126484748\n",
      "[CV 10/15; 42/50] END model__C=0.9833181933644887, model__epsilon=0.15512259126484748;, score=-32.574 total time=   1.4s\n",
      "[CV 11/15; 42/50] START model__C=0.9833181933644887, model__epsilon=0.15512259126484748\n"
     ]
    },
    {
     "name": "stderr",
     "output_type": "stream",
     "text": [
      "/opt/anaconda3/lib/python3.9/site-packages/sklearn/svm/_base.py:299: ConvergenceWarning: Solver terminated early (max_iter=50000).  Consider pre-processing your data with StandardScaler or MinMaxScaler.\n",
      "  warnings.warn(\n"
     ]
    },
    {
     "name": "stdout",
     "output_type": "stream",
     "text": [
      "[CV 11/15; 42/50] END model__C=0.9833181933644887, model__epsilon=0.15512259126484748;, score=-28.517 total time=   1.4s\n",
      "[CV 12/15; 42/50] START model__C=0.9833181933644887, model__epsilon=0.15512259126484748\n"
     ]
    },
    {
     "name": "stderr",
     "output_type": "stream",
     "text": [
      "/opt/anaconda3/lib/python3.9/site-packages/sklearn/svm/_base.py:299: ConvergenceWarning: Solver terminated early (max_iter=50000).  Consider pre-processing your data with StandardScaler or MinMaxScaler.\n",
      "  warnings.warn(\n"
     ]
    },
    {
     "name": "stdout",
     "output_type": "stream",
     "text": [
      "[CV 12/15; 42/50] END model__C=0.9833181933644887, model__epsilon=0.15512259126484748;, score=-28.604 total time=   1.4s\n",
      "[CV 13/15; 42/50] START model__C=0.9833181933644887, model__epsilon=0.15512259126484748\n"
     ]
    },
    {
     "name": "stderr",
     "output_type": "stream",
     "text": [
      "/opt/anaconda3/lib/python3.9/site-packages/sklearn/svm/_base.py:299: ConvergenceWarning: Solver terminated early (max_iter=50000).  Consider pre-processing your data with StandardScaler or MinMaxScaler.\n",
      "  warnings.warn(\n"
     ]
    },
    {
     "name": "stdout",
     "output_type": "stream",
     "text": [
      "[CV 13/15; 42/50] END model__C=0.9833181933644887, model__epsilon=0.15512259126484748;, score=-30.384 total time=   1.4s\n",
      "[CV 14/15; 42/50] START model__C=0.9833181933644887, model__epsilon=0.15512259126484748\n"
     ]
    },
    {
     "name": "stderr",
     "output_type": "stream",
     "text": [
      "/opt/anaconda3/lib/python3.9/site-packages/sklearn/svm/_base.py:299: ConvergenceWarning: Solver terminated early (max_iter=50000).  Consider pre-processing your data with StandardScaler or MinMaxScaler.\n",
      "  warnings.warn(\n"
     ]
    },
    {
     "name": "stdout",
     "output_type": "stream",
     "text": [
      "[CV 14/15; 42/50] END model__C=0.9833181933644887, model__epsilon=0.15512259126484748;, score=-28.472 total time=   1.4s\n",
      "[CV 15/15; 42/50] START model__C=0.9833181933644887, model__epsilon=0.15512259126484748\n",
      "[CV 15/15; 42/50] END model__C=0.9833181933644887, model__epsilon=0.15512259126484748;, score=-33.214 total time=   1.4s\n",
      "[CV 1/15; 43/50] START model__C=0.8569331925053982, model__epsilon=0.9452571391072306\n"
     ]
    },
    {
     "name": "stderr",
     "output_type": "stream",
     "text": [
      "/opt/anaconda3/lib/python3.9/site-packages/sklearn/svm/_base.py:299: ConvergenceWarning: Solver terminated early (max_iter=50000).  Consider pre-processing your data with StandardScaler or MinMaxScaler.\n",
      "  warnings.warn(\n"
     ]
    },
    {
     "name": "stdout",
     "output_type": "stream",
     "text": [
      "[CV 1/15; 43/50] END model__C=0.8569331925053982, model__epsilon=0.9452571391072306;, score=-28.647 total time=   1.2s\n",
      "[CV 2/15; 43/50] START model__C=0.8569331925053982, model__epsilon=0.9452571391072306\n"
     ]
    },
    {
     "name": "stderr",
     "output_type": "stream",
     "text": [
      "/opt/anaconda3/lib/python3.9/site-packages/sklearn/svm/_base.py:299: ConvergenceWarning: Solver terminated early (max_iter=50000).  Consider pre-processing your data with StandardScaler or MinMaxScaler.\n",
      "  warnings.warn(\n"
     ]
    },
    {
     "name": "stdout",
     "output_type": "stream",
     "text": [
      "[CV 2/15; 43/50] END model__C=0.8569331925053982, model__epsilon=0.9452571391072306;, score=-29.705 total time=   1.2s\n",
      "[CV 3/15; 43/50] START model__C=0.8569331925053982, model__epsilon=0.9452571391072306\n",
      "[CV 3/15; 43/50] END model__C=0.8569331925053982, model__epsilon=0.9452571391072306;, score=-30.625 total time=   1.2s\n",
      "[CV 4/15; 43/50] START model__C=0.8569331925053982, model__epsilon=0.9452571391072306\n"
     ]
    },
    {
     "name": "stderr",
     "output_type": "stream",
     "text": [
      "/opt/anaconda3/lib/python3.9/site-packages/sklearn/svm/_base.py:299: ConvergenceWarning: Solver terminated early (max_iter=50000).  Consider pre-processing your data with StandardScaler or MinMaxScaler.\n",
      "  warnings.warn(\n"
     ]
    },
    {
     "name": "stdout",
     "output_type": "stream",
     "text": [
      "[CV 4/15; 43/50] END model__C=0.8569331925053982, model__epsilon=0.9452571391072306;, score=-28.771 total time=   1.2s\n",
      "[CV 5/15; 43/50] START model__C=0.8569331925053982, model__epsilon=0.9452571391072306\n"
     ]
    },
    {
     "name": "stderr",
     "output_type": "stream",
     "text": [
      "/opt/anaconda3/lib/python3.9/site-packages/sklearn/svm/_base.py:299: ConvergenceWarning: Solver terminated early (max_iter=50000).  Consider pre-processing your data with StandardScaler or MinMaxScaler.\n",
      "  warnings.warn(\n"
     ]
    },
    {
     "name": "stdout",
     "output_type": "stream",
     "text": [
      "[CV 5/15; 43/50] END model__C=0.8569331925053982, model__epsilon=0.9452571391072306;, score=-33.954 total time=   1.2s\n",
      "[CV 6/15; 43/50] START model__C=0.8569331925053982, model__epsilon=0.9452571391072306\n",
      "[CV 6/15; 43/50] END model__C=0.8569331925053982, model__epsilon=0.9452571391072306;, score=-28.775 total time=   1.2s\n",
      "[CV 7/15; 43/50] START model__C=0.8569331925053982, model__epsilon=0.9452571391072306\n",
      "[CV 7/15; 43/50] END model__C=0.8569331925053982, model__epsilon=0.9452571391072306;, score=-29.251 total time=   1.2s\n",
      "[CV 8/15; 43/50] START model__C=0.8569331925053982, model__epsilon=0.9452571391072306\n"
     ]
    },
    {
     "name": "stderr",
     "output_type": "stream",
     "text": [
      "/opt/anaconda3/lib/python3.9/site-packages/sklearn/svm/_base.py:299: ConvergenceWarning: Solver terminated early (max_iter=50000).  Consider pre-processing your data with StandardScaler or MinMaxScaler.\n",
      "  warnings.warn(\n"
     ]
    },
    {
     "name": "stdout",
     "output_type": "stream",
     "text": [
      "[CV 8/15; 43/50] END model__C=0.8569331925053982, model__epsilon=0.9452571391072306;, score=-30.992 total time=   1.2s\n",
      "[CV 9/15; 43/50] START model__C=0.8569331925053982, model__epsilon=0.9452571391072306\n",
      "[CV 9/15; 43/50] END model__C=0.8569331925053982, model__epsilon=0.9452571391072306;, score=-29.459 total time=   1.2s\n",
      "[CV 10/15; 43/50] START model__C=0.8569331925053982, model__epsilon=0.9452571391072306\n",
      "[CV 10/15; 43/50] END model__C=0.8569331925053982, model__epsilon=0.9452571391072306;, score=-33.198 total time=   1.2s\n",
      "[CV 11/15; 43/50] START model__C=0.8569331925053982, model__epsilon=0.9452571391072306\n",
      "[CV 11/15; 43/50] END model__C=0.8569331925053982, model__epsilon=0.9452571391072306;, score=-29.045 total time=   1.2s\n",
      "[CV 12/15; 43/50] START model__C=0.8569331925053982, model__epsilon=0.9452571391072306\n",
      "[CV 12/15; 43/50] END model__C=0.8569331925053982, model__epsilon=0.9452571391072306;, score=-29.213 total time=   1.2s\n",
      "[CV 13/15; 43/50] START model__C=0.8569331925053982, model__epsilon=0.9452571391072306\n"
     ]
    },
    {
     "name": "stderr",
     "output_type": "stream",
     "text": [
      "/opt/anaconda3/lib/python3.9/site-packages/sklearn/svm/_base.py:299: ConvergenceWarning: Solver terminated early (max_iter=50000).  Consider pre-processing your data with StandardScaler or MinMaxScaler.\n",
      "  warnings.warn(\n"
     ]
    },
    {
     "name": "stdout",
     "output_type": "stream",
     "text": [
      "[CV 13/15; 43/50] END model__C=0.8569331925053982, model__epsilon=0.9452571391072306;, score=-30.873 total time=   1.2s\n",
      "[CV 14/15; 43/50] START model__C=0.8569331925053982, model__epsilon=0.9452571391072306\n",
      "[CV 14/15; 43/50] END model__C=0.8569331925053982, model__epsilon=0.9452571391072306;, score=-28.897 total time=   1.2s\n",
      "[CV 15/15; 43/50] START model__C=0.8569331925053982, model__epsilon=0.9452571391072306\n"
     ]
    },
    {
     "name": "stderr",
     "output_type": "stream",
     "text": [
      "/opt/anaconda3/lib/python3.9/site-packages/sklearn/svm/_base.py:299: ConvergenceWarning: Solver terminated early (max_iter=50000).  Consider pre-processing your data with StandardScaler or MinMaxScaler.\n",
      "  warnings.warn(\n"
     ]
    },
    {
     "name": "stdout",
     "output_type": "stream",
     "text": [
      "[CV 15/15; 43/50] END model__C=0.8569331925053982, model__epsilon=0.9452571391072306;, score=-33.671 total time=   1.2s\n",
      "[CV 1/15; 44/50] START model__C=15.446089075047073, model__epsilon=8.178476574339538\n"
     ]
    },
    {
     "name": "stderr",
     "output_type": "stream",
     "text": [
      "/opt/anaconda3/lib/python3.9/site-packages/sklearn/svm/_base.py:299: ConvergenceWarning: Solver terminated early (max_iter=50000).  Consider pre-processing your data with StandardScaler or MinMaxScaler.\n",
      "  warnings.warn(\n"
     ]
    },
    {
     "name": "stdout",
     "output_type": "stream",
     "text": [
      "[CV 1/15; 44/50] END model__C=15.446089075047073, model__epsilon=8.178476574339538;, score=-25.067 total time=   1.0s\n",
      "[CV 2/15; 44/50] START model__C=15.446089075047073, model__epsilon=8.178476574339538\n"
     ]
    },
    {
     "name": "stderr",
     "output_type": "stream",
     "text": [
      "/opt/anaconda3/lib/python3.9/site-packages/sklearn/svm/_base.py:299: ConvergenceWarning: Solver terminated early (max_iter=50000).  Consider pre-processing your data with StandardScaler or MinMaxScaler.\n",
      "  warnings.warn(\n"
     ]
    },
    {
     "name": "stdout",
     "output_type": "stream",
     "text": [
      "[CV 2/15; 44/50] END model__C=15.446089075047073, model__epsilon=8.178476574339538;, score=-26.757 total time=   1.0s\n",
      "[CV 3/15; 44/50] START model__C=15.446089075047073, model__epsilon=8.178476574339538\n"
     ]
    },
    {
     "name": "stderr",
     "output_type": "stream",
     "text": [
      "/opt/anaconda3/lib/python3.9/site-packages/sklearn/svm/_base.py:299: ConvergenceWarning: Solver terminated early (max_iter=50000).  Consider pre-processing your data with StandardScaler or MinMaxScaler.\n",
      "  warnings.warn(\n"
     ]
    },
    {
     "name": "stdout",
     "output_type": "stream",
     "text": [
      "[CV 3/15; 44/50] END model__C=15.446089075047073, model__epsilon=8.178476574339538;, score=-26.782 total time=   0.9s\n",
      "[CV 4/15; 44/50] START model__C=15.446089075047073, model__epsilon=8.178476574339538\n"
     ]
    },
    {
     "name": "stderr",
     "output_type": "stream",
     "text": [
      "/opt/anaconda3/lib/python3.9/site-packages/sklearn/svm/_base.py:299: ConvergenceWarning: Solver terminated early (max_iter=50000).  Consider pre-processing your data with StandardScaler or MinMaxScaler.\n",
      "  warnings.warn(\n"
     ]
    },
    {
     "name": "stdout",
     "output_type": "stream",
     "text": [
      "[CV 4/15; 44/50] END model__C=15.446089075047073, model__epsilon=8.178476574339538;, score=-26.174 total time=   1.0s\n",
      "[CV 5/15; 44/50] START model__C=15.446089075047073, model__epsilon=8.178476574339538\n"
     ]
    },
    {
     "name": "stderr",
     "output_type": "stream",
     "text": [
      "/opt/anaconda3/lib/python3.9/site-packages/sklearn/svm/_base.py:299: ConvergenceWarning: Solver terminated early (max_iter=50000).  Consider pre-processing your data with StandardScaler or MinMaxScaler.\n",
      "  warnings.warn(\n"
     ]
    },
    {
     "name": "stdout",
     "output_type": "stream",
     "text": [
      "[CV 5/15; 44/50] END model__C=15.446089075047073, model__epsilon=8.178476574339538;, score=-29.685 total time=   0.9s\n",
      "[CV 6/15; 44/50] START model__C=15.446089075047073, model__epsilon=8.178476574339538\n"
     ]
    },
    {
     "name": "stderr",
     "output_type": "stream",
     "text": [
      "/opt/anaconda3/lib/python3.9/site-packages/sklearn/svm/_base.py:299: ConvergenceWarning: Solver terminated early (max_iter=50000).  Consider pre-processing your data with StandardScaler or MinMaxScaler.\n",
      "  warnings.warn(\n"
     ]
    },
    {
     "name": "stdout",
     "output_type": "stream",
     "text": [
      "[CV 6/15; 44/50] END model__C=15.446089075047073, model__epsilon=8.178476574339538;, score=-24.848 total time=   1.0s\n",
      "[CV 7/15; 44/50] START model__C=15.446089075047073, model__epsilon=8.178476574339538\n"
     ]
    },
    {
     "name": "stderr",
     "output_type": "stream",
     "text": [
      "/opt/anaconda3/lib/python3.9/site-packages/sklearn/svm/_base.py:299: ConvergenceWarning: Solver terminated early (max_iter=50000).  Consider pre-processing your data with StandardScaler or MinMaxScaler.\n",
      "  warnings.warn(\n"
     ]
    },
    {
     "name": "stdout",
     "output_type": "stream",
     "text": [
      "[CV 7/15; 44/50] END model__C=15.446089075047073, model__epsilon=8.178476574339538;, score=-26.106 total time=   0.9s\n",
      "[CV 8/15; 44/50] START model__C=15.446089075047073, model__epsilon=8.178476574339538\n"
     ]
    },
    {
     "name": "stderr",
     "output_type": "stream",
     "text": [
      "/opt/anaconda3/lib/python3.9/site-packages/sklearn/svm/_base.py:299: ConvergenceWarning: Solver terminated early (max_iter=50000).  Consider pre-processing your data with StandardScaler or MinMaxScaler.\n",
      "  warnings.warn(\n"
     ]
    },
    {
     "name": "stdout",
     "output_type": "stream",
     "text": [
      "[CV 8/15; 44/50] END model__C=15.446089075047073, model__epsilon=8.178476574339538;, score=-28.901 total time=   1.0s\n",
      "[CV 9/15; 44/50] START model__C=15.446089075047073, model__epsilon=8.178476574339538\n"
     ]
    },
    {
     "name": "stderr",
     "output_type": "stream",
     "text": [
      "/opt/anaconda3/lib/python3.9/site-packages/sklearn/svm/_base.py:299: ConvergenceWarning: Solver terminated early (max_iter=50000).  Consider pre-processing your data with StandardScaler or MinMaxScaler.\n",
      "  warnings.warn(\n"
     ]
    },
    {
     "name": "stdout",
     "output_type": "stream",
     "text": [
      "[CV 9/15; 44/50] END model__C=15.446089075047073, model__epsilon=8.178476574339538;, score=-26.381 total time=   1.0s\n",
      "[CV 10/15; 44/50] START model__C=15.446089075047073, model__epsilon=8.178476574339538\n"
     ]
    },
    {
     "name": "stderr",
     "output_type": "stream",
     "text": [
      "/opt/anaconda3/lib/python3.9/site-packages/sklearn/svm/_base.py:299: ConvergenceWarning: Solver terminated early (max_iter=50000).  Consider pre-processing your data with StandardScaler or MinMaxScaler.\n",
      "  warnings.warn(\n"
     ]
    },
    {
     "name": "stdout",
     "output_type": "stream",
     "text": [
      "[CV 10/15; 44/50] END model__C=15.446089075047073, model__epsilon=8.178476574339538;, score=-28.128 total time=   0.9s\n",
      "[CV 11/15; 44/50] START model__C=15.446089075047073, model__epsilon=8.178476574339538\n"
     ]
    },
    {
     "name": "stderr",
     "output_type": "stream",
     "text": [
      "/opt/anaconda3/lib/python3.9/site-packages/sklearn/svm/_base.py:299: ConvergenceWarning: Solver terminated early (max_iter=50000).  Consider pre-processing your data with StandardScaler or MinMaxScaler.\n",
      "  warnings.warn(\n"
     ]
    },
    {
     "name": "stdout",
     "output_type": "stream",
     "text": [
      "[CV 11/15; 44/50] END model__C=15.446089075047073, model__epsilon=8.178476574339538;, score=-26.655 total time=   1.0s\n",
      "[CV 12/15; 44/50] START model__C=15.446089075047073, model__epsilon=8.178476574339538\n"
     ]
    },
    {
     "name": "stderr",
     "output_type": "stream",
     "text": [
      "/opt/anaconda3/lib/python3.9/site-packages/sklearn/svm/_base.py:299: ConvergenceWarning: Solver terminated early (max_iter=50000).  Consider pre-processing your data with StandardScaler or MinMaxScaler.\n",
      "  warnings.warn(\n"
     ]
    },
    {
     "name": "stdout",
     "output_type": "stream",
     "text": [
      "[CV 12/15; 44/50] END model__C=15.446089075047073, model__epsilon=8.178476574339538;, score=-25.508 total time=   1.0s\n",
      "[CV 13/15; 44/50] START model__C=15.446089075047073, model__epsilon=8.178476574339538\n"
     ]
    },
    {
     "name": "stderr",
     "output_type": "stream",
     "text": [
      "/opt/anaconda3/lib/python3.9/site-packages/sklearn/svm/_base.py:299: ConvergenceWarning: Solver terminated early (max_iter=50000).  Consider pre-processing your data with StandardScaler or MinMaxScaler.\n",
      "  warnings.warn(\n"
     ]
    },
    {
     "name": "stdout",
     "output_type": "stream",
     "text": [
      "[CV 13/15; 44/50] END model__C=15.446089075047073, model__epsilon=8.178476574339538;, score=-26.780 total time=   1.0s\n",
      "[CV 14/15; 44/50] START model__C=15.446089075047073, model__epsilon=8.178476574339538\n"
     ]
    },
    {
     "name": "stderr",
     "output_type": "stream",
     "text": [
      "/opt/anaconda3/lib/python3.9/site-packages/sklearn/svm/_base.py:299: ConvergenceWarning: Solver terminated early (max_iter=50000).  Consider pre-processing your data with StandardScaler or MinMaxScaler.\n",
      "  warnings.warn(\n"
     ]
    },
    {
     "name": "stdout",
     "output_type": "stream",
     "text": [
      "[CV 14/15; 44/50] END model__C=15.446089075047073, model__epsilon=8.178476574339538;, score=-26.464 total time=   0.9s\n",
      "[CV 15/15; 44/50] START model__C=15.446089075047073, model__epsilon=8.178476574339538\n"
     ]
    },
    {
     "name": "stderr",
     "output_type": "stream",
     "text": [
      "/opt/anaconda3/lib/python3.9/site-packages/sklearn/svm/_base.py:299: ConvergenceWarning: Solver terminated early (max_iter=50000).  Consider pre-processing your data with StandardScaler or MinMaxScaler.\n",
      "  warnings.warn(\n"
     ]
    },
    {
     "name": "stdout",
     "output_type": "stream",
     "text": [
      "[CV 15/15; 44/50] END model__C=15.446089075047073, model__epsilon=8.178476574339538;, score=-29.719 total time=   0.9s\n",
      "[CV 1/15; 45/50] START model__C=45.88156549160973, model__epsilon=2.610025650613476\n"
     ]
    },
    {
     "name": "stderr",
     "output_type": "stream",
     "text": [
      "/opt/anaconda3/lib/python3.9/site-packages/sklearn/svm/_base.py:299: ConvergenceWarning: Solver terminated early (max_iter=50000).  Consider pre-processing your data with StandardScaler or MinMaxScaler.\n",
      "  warnings.warn(\n"
     ]
    },
    {
     "name": "stdout",
     "output_type": "stream",
     "text": [
      "[CV 1/15; 45/50] END model__C=45.88156549160973, model__epsilon=2.610025650613476;, score=-24.338 total time=   2.1s\n",
      "[CV 2/15; 45/50] START model__C=45.88156549160973, model__epsilon=2.610025650613476\n"
     ]
    },
    {
     "name": "stderr",
     "output_type": "stream",
     "text": [
      "/opt/anaconda3/lib/python3.9/site-packages/sklearn/svm/_base.py:299: ConvergenceWarning: Solver terminated early (max_iter=50000).  Consider pre-processing your data with StandardScaler or MinMaxScaler.\n",
      "  warnings.warn(\n"
     ]
    },
    {
     "name": "stdout",
     "output_type": "stream",
     "text": [
      "[CV 2/15; 45/50] END model__C=45.88156549160973, model__epsilon=2.610025650613476;, score=-25.823 total time=   2.2s\n",
      "[CV 3/15; 45/50] START model__C=45.88156549160973, model__epsilon=2.610025650613476\n"
     ]
    },
    {
     "name": "stderr",
     "output_type": "stream",
     "text": [
      "/opt/anaconda3/lib/python3.9/site-packages/sklearn/svm/_base.py:299: ConvergenceWarning: Solver terminated early (max_iter=50000).  Consider pre-processing your data with StandardScaler or MinMaxScaler.\n",
      "  warnings.warn(\n"
     ]
    },
    {
     "name": "stdout",
     "output_type": "stream",
     "text": [
      "[CV 3/15; 45/50] END model__C=45.88156549160973, model__epsilon=2.610025650613476;, score=-25.953 total time=   2.2s\n",
      "[CV 4/15; 45/50] START model__C=45.88156549160973, model__epsilon=2.610025650613476\n"
     ]
    },
    {
     "name": "stderr",
     "output_type": "stream",
     "text": [
      "/opt/anaconda3/lib/python3.9/site-packages/sklearn/svm/_base.py:299: ConvergenceWarning: Solver terminated early (max_iter=50000).  Consider pre-processing your data with StandardScaler or MinMaxScaler.\n",
      "  warnings.warn(\n"
     ]
    },
    {
     "name": "stdout",
     "output_type": "stream",
     "text": [
      "[CV 4/15; 45/50] END model__C=45.88156549160973, model__epsilon=2.610025650613476;, score=-25.205 total time=   2.2s\n",
      "[CV 5/15; 45/50] START model__C=45.88156549160973, model__epsilon=2.610025650613476\n"
     ]
    },
    {
     "name": "stderr",
     "output_type": "stream",
     "text": [
      "/opt/anaconda3/lib/python3.9/site-packages/sklearn/svm/_base.py:299: ConvergenceWarning: Solver terminated early (max_iter=50000).  Consider pre-processing your data with StandardScaler or MinMaxScaler.\n",
      "  warnings.warn(\n"
     ]
    },
    {
     "name": "stdout",
     "output_type": "stream",
     "text": [
      "[CV 5/15; 45/50] END model__C=45.88156549160973, model__epsilon=2.610025650613476;, score=-28.591 total time=   2.2s\n",
      "[CV 6/15; 45/50] START model__C=45.88156549160973, model__epsilon=2.610025650613476\n"
     ]
    },
    {
     "name": "stderr",
     "output_type": "stream",
     "text": [
      "/opt/anaconda3/lib/python3.9/site-packages/sklearn/svm/_base.py:299: ConvergenceWarning: Solver terminated early (max_iter=50000).  Consider pre-processing your data with StandardScaler or MinMaxScaler.\n",
      "  warnings.warn(\n"
     ]
    },
    {
     "name": "stdout",
     "output_type": "stream",
     "text": [
      "[CV 6/15; 45/50] END model__C=45.88156549160973, model__epsilon=2.610025650613476;, score=-24.072 total time=   2.1s\n",
      "[CV 7/15; 45/50] START model__C=45.88156549160973, model__epsilon=2.610025650613476\n"
     ]
    },
    {
     "name": "stderr",
     "output_type": "stream",
     "text": [
      "/opt/anaconda3/lib/python3.9/site-packages/sklearn/svm/_base.py:299: ConvergenceWarning: Solver terminated early (max_iter=50000).  Consider pre-processing your data with StandardScaler or MinMaxScaler.\n",
      "  warnings.warn(\n"
     ]
    },
    {
     "name": "stdout",
     "output_type": "stream",
     "text": [
      "[CV 7/15; 45/50] END model__C=45.88156549160973, model__epsilon=2.610025650613476;, score=-25.238 total time=   2.1s\n",
      "[CV 8/15; 45/50] START model__C=45.88156549160973, model__epsilon=2.610025650613476\n"
     ]
    },
    {
     "name": "stderr",
     "output_type": "stream",
     "text": [
      "/opt/anaconda3/lib/python3.9/site-packages/sklearn/svm/_base.py:299: ConvergenceWarning: Solver terminated early (max_iter=50000).  Consider pre-processing your data with StandardScaler or MinMaxScaler.\n",
      "  warnings.warn(\n"
     ]
    },
    {
     "name": "stdout",
     "output_type": "stream",
     "text": [
      "[CV 8/15; 45/50] END model__C=45.88156549160973, model__epsilon=2.610025650613476;, score=-28.153 total time=   2.1s\n",
      "[CV 9/15; 45/50] START model__C=45.88156549160973, model__epsilon=2.610025650613476\n"
     ]
    },
    {
     "name": "stderr",
     "output_type": "stream",
     "text": [
      "/opt/anaconda3/lib/python3.9/site-packages/sklearn/svm/_base.py:299: ConvergenceWarning: Solver terminated early (max_iter=50000).  Consider pre-processing your data with StandardScaler or MinMaxScaler.\n",
      "  warnings.warn(\n"
     ]
    },
    {
     "name": "stdout",
     "output_type": "stream",
     "text": [
      "[CV 9/15; 45/50] END model__C=45.88156549160973, model__epsilon=2.610025650613476;, score=-25.478 total time=   2.1s\n",
      "[CV 10/15; 45/50] START model__C=45.88156549160973, model__epsilon=2.610025650613476\n"
     ]
    },
    {
     "name": "stderr",
     "output_type": "stream",
     "text": [
      "/opt/anaconda3/lib/python3.9/site-packages/sklearn/svm/_base.py:299: ConvergenceWarning: Solver terminated early (max_iter=50000).  Consider pre-processing your data with StandardScaler or MinMaxScaler.\n",
      "  warnings.warn(\n"
     ]
    },
    {
     "name": "stdout",
     "output_type": "stream",
     "text": [
      "[CV 10/15; 45/50] END model__C=45.88156549160973, model__epsilon=2.610025650613476;, score=-27.158 total time=   2.2s\n",
      "[CV 11/15; 45/50] START model__C=45.88156549160973, model__epsilon=2.610025650613476\n"
     ]
    },
    {
     "name": "stderr",
     "output_type": "stream",
     "text": [
      "/opt/anaconda3/lib/python3.9/site-packages/sklearn/svm/_base.py:299: ConvergenceWarning: Solver terminated early (max_iter=50000).  Consider pre-processing your data with StandardScaler or MinMaxScaler.\n",
      "  warnings.warn(\n"
     ]
    },
    {
     "name": "stdout",
     "output_type": "stream",
     "text": [
      "[CV 11/15; 45/50] END model__C=45.88156549160973, model__epsilon=2.610025650613476;, score=-25.875 total time=   2.1s\n",
      "[CV 12/15; 45/50] START model__C=45.88156549160973, model__epsilon=2.610025650613476\n"
     ]
    },
    {
     "name": "stderr",
     "output_type": "stream",
     "text": [
      "/opt/anaconda3/lib/python3.9/site-packages/sklearn/svm/_base.py:299: ConvergenceWarning: Solver terminated early (max_iter=50000).  Consider pre-processing your data with StandardScaler or MinMaxScaler.\n",
      "  warnings.warn(\n"
     ]
    },
    {
     "name": "stdout",
     "output_type": "stream",
     "text": [
      "[CV 12/15; 45/50] END model__C=45.88156549160973, model__epsilon=2.610025650613476;, score=-24.621 total time=   2.2s\n",
      "[CV 13/15; 45/50] START model__C=45.88156549160973, model__epsilon=2.610025650613476\n"
     ]
    },
    {
     "name": "stderr",
     "output_type": "stream",
     "text": [
      "/opt/anaconda3/lib/python3.9/site-packages/sklearn/svm/_base.py:299: ConvergenceWarning: Solver terminated early (max_iter=50000).  Consider pre-processing your data with StandardScaler or MinMaxScaler.\n",
      "  warnings.warn(\n"
     ]
    },
    {
     "name": "stdout",
     "output_type": "stream",
     "text": [
      "[CV 13/15; 45/50] END model__C=45.88156549160973, model__epsilon=2.610025650613476;, score=-25.820 total time=   2.2s\n",
      "[CV 14/15; 45/50] START model__C=45.88156549160973, model__epsilon=2.610025650613476\n"
     ]
    },
    {
     "name": "stderr",
     "output_type": "stream",
     "text": [
      "/opt/anaconda3/lib/python3.9/site-packages/sklearn/svm/_base.py:299: ConvergenceWarning: Solver terminated early (max_iter=50000).  Consider pre-processing your data with StandardScaler or MinMaxScaler.\n",
      "  warnings.warn(\n"
     ]
    },
    {
     "name": "stdout",
     "output_type": "stream",
     "text": [
      "[CV 14/15; 45/50] END model__C=45.88156549160973, model__epsilon=2.610025650613476;, score=-25.407 total time=   2.1s\n",
      "[CV 15/15; 45/50] START model__C=45.88156549160973, model__epsilon=2.610025650613476\n"
     ]
    },
    {
     "name": "stderr",
     "output_type": "stream",
     "text": [
      "/opt/anaconda3/lib/python3.9/site-packages/sklearn/svm/_base.py:299: ConvergenceWarning: Solver terminated early (max_iter=50000).  Consider pre-processing your data with StandardScaler or MinMaxScaler.\n",
      "  warnings.warn(\n"
     ]
    },
    {
     "name": "stdout",
     "output_type": "stream",
     "text": [
      "[CV 15/15; 45/50] END model__C=45.88156549160973, model__epsilon=2.610025650613476;, score=-28.528 total time=   2.2s\n",
      "[CV 1/15; 46/50] START model__C=0.22844556850020528, model__epsilon=13.795402040204177\n",
      "[CV 1/15; 46/50] END model__C=0.22844556850020528, model__epsilon=13.795402040204177;, score=-37.842 total time=   0.6s\n",
      "[CV 2/15; 46/50] START model__C=0.22844556850020528, model__epsilon=13.795402040204177\n",
      "[CV 2/15; 46/50] END model__C=0.22844556850020528, model__epsilon=13.795402040204177;, score=-38.283 total time=   0.6s\n",
      "[CV 3/15; 46/50] START model__C=0.22844556850020528, model__epsilon=13.795402040204177\n",
      "[CV 3/15; 46/50] END model__C=0.22844556850020528, model__epsilon=13.795402040204177;, score=-39.564 total time=   0.6s\n",
      "[CV 4/15; 46/50] START model__C=0.22844556850020528, model__epsilon=13.795402040204177\n",
      "[CV 4/15; 46/50] END model__C=0.22844556850020528, model__epsilon=13.795402040204177;, score=-37.733 total time=   0.6s\n",
      "[CV 5/15; 46/50] START model__C=0.22844556850020528, model__epsilon=13.795402040204177\n",
      "[CV 5/15; 46/50] END model__C=0.22844556850020528, model__epsilon=13.795402040204177;, score=-42.697 total time=   0.6s\n",
      "[CV 6/15; 46/50] START model__C=0.22844556850020528, model__epsilon=13.795402040204177\n",
      "[CV 6/15; 46/50] END model__C=0.22844556850020528, model__epsilon=13.795402040204177;, score=-37.826 total time=   0.6s\n",
      "[CV 7/15; 46/50] START model__C=0.22844556850020528, model__epsilon=13.795402040204177\n",
      "[CV 7/15; 46/50] END model__C=0.22844556850020528, model__epsilon=13.795402040204177;, score=-38.332 total time=   0.6s\n",
      "[CV 8/15; 46/50] START model__C=0.22844556850020528, model__epsilon=13.795402040204177\n",
      "[CV 8/15; 46/50] END model__C=0.22844556850020528, model__epsilon=13.795402040204177;, score=-39.669 total time=   0.6s\n",
      "[CV 9/15; 46/50] START model__C=0.22844556850020528, model__epsilon=13.795402040204177\n",
      "[CV 9/15; 46/50] END model__C=0.22844556850020528, model__epsilon=13.795402040204177;, score=-37.967 total time=   0.6s\n",
      "[CV 10/15; 46/50] START model__C=0.22844556850020528, model__epsilon=13.795402040204177\n",
      "[CV 10/15; 46/50] END model__C=0.22844556850020528, model__epsilon=13.795402040204177;, score=-42.329 total time=   0.6s\n",
      "[CV 11/15; 46/50] START model__C=0.22844556850020528, model__epsilon=13.795402040204177\n",
      "[CV 11/15; 46/50] END model__C=0.22844556850020528, model__epsilon=13.795402040204177;, score=-37.973 total time=   0.6s\n",
      "[CV 12/15; 46/50] START model__C=0.22844556850020528, model__epsilon=13.795402040204177\n",
      "[CV 12/15; 46/50] END model__C=0.22844556850020528, model__epsilon=13.795402040204177;, score=-38.130 total time=   0.6s\n",
      "[CV 13/15; 46/50] START model__C=0.22844556850020528, model__epsilon=13.795402040204177\n",
      "[CV 13/15; 46/50] END model__C=0.22844556850020528, model__epsilon=13.795402040204177;, score=-39.755 total time=   0.6s\n",
      "[CV 14/15; 46/50] START model__C=0.22844556850020528, model__epsilon=13.795402040204177\n",
      "[CV 14/15; 46/50] END model__C=0.22844556850020528, model__epsilon=13.795402040204177;, score=-37.716 total time=   0.6s\n",
      "[CV 15/15; 46/50] START model__C=0.22844556850020528, model__epsilon=13.795402040204177\n",
      "[CV 15/15; 46/50] END model__C=0.22844556850020528, model__epsilon=13.795402040204177;, score=-42.505 total time=   0.6s\n",
      "[CV 1/15; 47/50] START model__C=19.158219548093165, model__epsilon=4.8287152161792095\n"
     ]
    },
    {
     "name": "stderr",
     "output_type": "stream",
     "text": [
      "/opt/anaconda3/lib/python3.9/site-packages/sklearn/svm/_base.py:299: ConvergenceWarning: Solver terminated early (max_iter=50000).  Consider pre-processing your data with StandardScaler or MinMaxScaler.\n",
      "  warnings.warn(\n"
     ]
    },
    {
     "name": "stdout",
     "output_type": "stream",
     "text": [
      "[CV 1/15; 47/50] END model__C=19.158219548093165, model__epsilon=4.8287152161792095;, score=-24.458 total time=   1.3s\n",
      "[CV 2/15; 47/50] START model__C=19.158219548093165, model__epsilon=4.8287152161792095\n"
     ]
    },
    {
     "name": "stderr",
     "output_type": "stream",
     "text": [
      "/opt/anaconda3/lib/python3.9/site-packages/sklearn/svm/_base.py:299: ConvergenceWarning: Solver terminated early (max_iter=50000).  Consider pre-processing your data with StandardScaler or MinMaxScaler.\n",
      "  warnings.warn(\n"
     ]
    },
    {
     "name": "stdout",
     "output_type": "stream",
     "text": [
      "[CV 2/15; 47/50] END model__C=19.158219548093165, model__epsilon=4.8287152161792095;, score=-26.067 total time=   1.3s\n",
      "[CV 3/15; 47/50] START model__C=19.158219548093165, model__epsilon=4.8287152161792095\n"
     ]
    },
    {
     "name": "stderr",
     "output_type": "stream",
     "text": [
      "/opt/anaconda3/lib/python3.9/site-packages/sklearn/svm/_base.py:299: ConvergenceWarning: Solver terminated early (max_iter=50000).  Consider pre-processing your data with StandardScaler or MinMaxScaler.\n",
      "  warnings.warn(\n"
     ]
    },
    {
     "name": "stdout",
     "output_type": "stream",
     "text": [
      "[CV 3/15; 47/50] END model__C=19.158219548093165, model__epsilon=4.8287152161792095;, score=-26.181 total time=   1.2s\n",
      "[CV 4/15; 47/50] START model__C=19.158219548093165, model__epsilon=4.8287152161792095\n"
     ]
    },
    {
     "name": "stderr",
     "output_type": "stream",
     "text": [
      "/opt/anaconda3/lib/python3.9/site-packages/sklearn/svm/_base.py:299: ConvergenceWarning: Solver terminated early (max_iter=50000).  Consider pre-processing your data with StandardScaler or MinMaxScaler.\n",
      "  warnings.warn(\n"
     ]
    },
    {
     "name": "stdout",
     "output_type": "stream",
     "text": [
      "[CV 4/15; 47/50] END model__C=19.158219548093165, model__epsilon=4.8287152161792095;, score=-25.584 total time=   1.3s\n",
      "[CV 5/15; 47/50] START model__C=19.158219548093165, model__epsilon=4.8287152161792095\n"
     ]
    },
    {
     "name": "stderr",
     "output_type": "stream",
     "text": [
      "/opt/anaconda3/lib/python3.9/site-packages/sklearn/svm/_base.py:299: ConvergenceWarning: Solver terminated early (max_iter=50000).  Consider pre-processing your data with StandardScaler or MinMaxScaler.\n",
      "  warnings.warn(\n"
     ]
    },
    {
     "name": "stdout",
     "output_type": "stream",
     "text": [
      "[CV 5/15; 47/50] END model__C=19.158219548093165, model__epsilon=4.8287152161792095;, score=-28.954 total time=   1.2s\n",
      "[CV 6/15; 47/50] START model__C=19.158219548093165, model__epsilon=4.8287152161792095\n"
     ]
    },
    {
     "name": "stderr",
     "output_type": "stream",
     "text": [
      "/opt/anaconda3/lib/python3.9/site-packages/sklearn/svm/_base.py:299: ConvergenceWarning: Solver terminated early (max_iter=50000).  Consider pre-processing your data with StandardScaler or MinMaxScaler.\n",
      "  warnings.warn(\n"
     ]
    },
    {
     "name": "stdout",
     "output_type": "stream",
     "text": [
      "[CV 6/15; 47/50] END model__C=19.158219548093165, model__epsilon=4.8287152161792095;, score=-24.164 total time=   1.3s\n",
      "[CV 7/15; 47/50] START model__C=19.158219548093165, model__epsilon=4.8287152161792095\n"
     ]
    },
    {
     "name": "stderr",
     "output_type": "stream",
     "text": [
      "/opt/anaconda3/lib/python3.9/site-packages/sklearn/svm/_base.py:299: ConvergenceWarning: Solver terminated early (max_iter=50000).  Consider pre-processing your data with StandardScaler or MinMaxScaler.\n",
      "  warnings.warn(\n"
     ]
    },
    {
     "name": "stdout",
     "output_type": "stream",
     "text": [
      "[CV 7/15; 47/50] END model__C=19.158219548093165, model__epsilon=4.8287152161792095;, score=-25.494 total time=   1.3s\n",
      "[CV 8/15; 47/50] START model__C=19.158219548093165, model__epsilon=4.8287152161792095\n"
     ]
    },
    {
     "name": "stderr",
     "output_type": "stream",
     "text": [
      "/opt/anaconda3/lib/python3.9/site-packages/sklearn/svm/_base.py:299: ConvergenceWarning: Solver terminated early (max_iter=50000).  Consider pre-processing your data with StandardScaler or MinMaxScaler.\n",
      "  warnings.warn(\n"
     ]
    },
    {
     "name": "stdout",
     "output_type": "stream",
     "text": [
      "[CV 8/15; 47/50] END model__C=19.158219548093165, model__epsilon=4.8287152161792095;, score=-28.353 total time=   1.3s\n",
      "[CV 9/15; 47/50] START model__C=19.158219548093165, model__epsilon=4.8287152161792095\n"
     ]
    },
    {
     "name": "stderr",
     "output_type": "stream",
     "text": [
      "/opt/anaconda3/lib/python3.9/site-packages/sklearn/svm/_base.py:299: ConvergenceWarning: Solver terminated early (max_iter=50000).  Consider pre-processing your data with StandardScaler or MinMaxScaler.\n",
      "  warnings.warn(\n"
     ]
    },
    {
     "name": "stdout",
     "output_type": "stream",
     "text": [
      "[CV 9/15; 47/50] END model__C=19.158219548093165, model__epsilon=4.8287152161792095;, score=-25.708 total time=   1.3s\n",
      "[CV 10/15; 47/50] START model__C=19.158219548093165, model__epsilon=4.8287152161792095\n"
     ]
    },
    {
     "name": "stderr",
     "output_type": "stream",
     "text": [
      "/opt/anaconda3/lib/python3.9/site-packages/sklearn/svm/_base.py:299: ConvergenceWarning: Solver terminated early (max_iter=50000).  Consider pre-processing your data with StandardScaler or MinMaxScaler.\n",
      "  warnings.warn(\n"
     ]
    },
    {
     "name": "stdout",
     "output_type": "stream",
     "text": [
      "[CV 10/15; 47/50] END model__C=19.158219548093165, model__epsilon=4.8287152161792095;, score=-27.506 total time=   1.3s\n",
      "[CV 11/15; 47/50] START model__C=19.158219548093165, model__epsilon=4.8287152161792095\n"
     ]
    },
    {
     "name": "stderr",
     "output_type": "stream",
     "text": [
      "/opt/anaconda3/lib/python3.9/site-packages/sklearn/svm/_base.py:299: ConvergenceWarning: Solver terminated early (max_iter=50000).  Consider pre-processing your data with StandardScaler or MinMaxScaler.\n",
      "  warnings.warn(\n"
     ]
    },
    {
     "name": "stdout",
     "output_type": "stream",
     "text": [
      "[CV 11/15; 47/50] END model__C=19.158219548093165, model__epsilon=4.8287152161792095;, score=-26.032 total time=   1.3s\n",
      "[CV 12/15; 47/50] START model__C=19.158219548093165, model__epsilon=4.8287152161792095\n"
     ]
    },
    {
     "name": "stderr",
     "output_type": "stream",
     "text": [
      "/opt/anaconda3/lib/python3.9/site-packages/sklearn/svm/_base.py:299: ConvergenceWarning: Solver terminated early (max_iter=50000).  Consider pre-processing your data with StandardScaler or MinMaxScaler.\n",
      "  warnings.warn(\n"
     ]
    },
    {
     "name": "stdout",
     "output_type": "stream",
     "text": [
      "[CV 12/15; 47/50] END model__C=19.158219548093165, model__epsilon=4.8287152161792095;, score=-24.864 total time=   1.3s\n",
      "[CV 13/15; 47/50] START model__C=19.158219548093165, model__epsilon=4.8287152161792095\n"
     ]
    },
    {
     "name": "stderr",
     "output_type": "stream",
     "text": [
      "/opt/anaconda3/lib/python3.9/site-packages/sklearn/svm/_base.py:299: ConvergenceWarning: Solver terminated early (max_iter=50000).  Consider pre-processing your data with StandardScaler or MinMaxScaler.\n",
      "  warnings.warn(\n"
     ]
    },
    {
     "name": "stdout",
     "output_type": "stream",
     "text": [
      "[CV 13/15; 47/50] END model__C=19.158219548093165, model__epsilon=4.8287152161792095;, score=-26.116 total time=   1.3s\n",
      "[CV 14/15; 47/50] START model__C=19.158219548093165, model__epsilon=4.8287152161792095\n"
     ]
    },
    {
     "name": "stderr",
     "output_type": "stream",
     "text": [
      "/opt/anaconda3/lib/python3.9/site-packages/sklearn/svm/_base.py:299: ConvergenceWarning: Solver terminated early (max_iter=50000).  Consider pre-processing your data with StandardScaler or MinMaxScaler.\n",
      "  warnings.warn(\n"
     ]
    },
    {
     "name": "stdout",
     "output_type": "stream",
     "text": [
      "[CV 14/15; 47/50] END model__C=19.158219548093165, model__epsilon=4.8287152161792095;, score=-25.776 total time=   1.3s\n",
      "[CV 15/15; 47/50] START model__C=19.158219548093165, model__epsilon=4.8287152161792095\n"
     ]
    },
    {
     "name": "stderr",
     "output_type": "stream",
     "text": [
      "/opt/anaconda3/lib/python3.9/site-packages/sklearn/svm/_base.py:299: ConvergenceWarning: Solver terminated early (max_iter=50000).  Consider pre-processing your data with StandardScaler or MinMaxScaler.\n",
      "  warnings.warn(\n"
     ]
    },
    {
     "name": "stdout",
     "output_type": "stream",
     "text": [
      "[CV 15/15; 47/50] END model__C=19.158219548093165, model__epsilon=4.8287152161792095;, score=-28.976 total time=   1.3s\n",
      "[CV 1/15; 48/50] START model__C=20.55424552015074, model__epsilon=3.0296104428212476\n"
     ]
    },
    {
     "name": "stderr",
     "output_type": "stream",
     "text": [
      "/opt/anaconda3/lib/python3.9/site-packages/sklearn/svm/_base.py:299: ConvergenceWarning: Solver terminated early (max_iter=50000).  Consider pre-processing your data with StandardScaler or MinMaxScaler.\n",
      "  warnings.warn(\n"
     ]
    },
    {
     "name": "stdout",
     "output_type": "stream",
     "text": [
      "[CV 1/15; 48/50] END model__C=20.55424552015074, model__epsilon=3.0296104428212476;, score=-24.217 total time=   1.6s\n",
      "[CV 2/15; 48/50] START model__C=20.55424552015074, model__epsilon=3.0296104428212476\n"
     ]
    },
    {
     "name": "stderr",
     "output_type": "stream",
     "text": [
      "/opt/anaconda3/lib/python3.9/site-packages/sklearn/svm/_base.py:299: ConvergenceWarning: Solver terminated early (max_iter=50000).  Consider pre-processing your data with StandardScaler or MinMaxScaler.\n",
      "  warnings.warn(\n"
     ]
    },
    {
     "name": "stdout",
     "output_type": "stream",
     "text": [
      "[CV 2/15; 48/50] END model__C=20.55424552015074, model__epsilon=3.0296104428212476;, score=-25.848 total time=   1.6s\n",
      "[CV 3/15; 48/50] START model__C=20.55424552015074, model__epsilon=3.0296104428212476\n"
     ]
    },
    {
     "name": "stderr",
     "output_type": "stream",
     "text": [
      "/opt/anaconda3/lib/python3.9/site-packages/sklearn/svm/_base.py:299: ConvergenceWarning: Solver terminated early (max_iter=50000).  Consider pre-processing your data with StandardScaler or MinMaxScaler.\n",
      "  warnings.warn(\n"
     ]
    },
    {
     "name": "stdout",
     "output_type": "stream",
     "text": [
      "[CV 3/15; 48/50] END model__C=20.55424552015074, model__epsilon=3.0296104428212476;, score=-25.944 total time=   1.6s\n",
      "[CV 4/15; 48/50] START model__C=20.55424552015074, model__epsilon=3.0296104428212476\n"
     ]
    },
    {
     "name": "stderr",
     "output_type": "stream",
     "text": [
      "/opt/anaconda3/lib/python3.9/site-packages/sklearn/svm/_base.py:299: ConvergenceWarning: Solver terminated early (max_iter=50000).  Consider pre-processing your data with StandardScaler or MinMaxScaler.\n",
      "  warnings.warn(\n"
     ]
    },
    {
     "name": "stdout",
     "output_type": "stream",
     "text": [
      "[CV 4/15; 48/50] END model__C=20.55424552015074, model__epsilon=3.0296104428212476;, score=-25.311 total time=   1.6s\n",
      "[CV 5/15; 48/50] START model__C=20.55424552015074, model__epsilon=3.0296104428212476\n"
     ]
    },
    {
     "name": "stderr",
     "output_type": "stream",
     "text": [
      "/opt/anaconda3/lib/python3.9/site-packages/sklearn/svm/_base.py:299: ConvergenceWarning: Solver terminated early (max_iter=50000).  Consider pre-processing your data with StandardScaler or MinMaxScaler.\n",
      "  warnings.warn(\n"
     ]
    },
    {
     "name": "stdout",
     "output_type": "stream",
     "text": [
      "[CV 5/15; 48/50] END model__C=20.55424552015074, model__epsilon=3.0296104428212476;, score=-28.689 total time=   1.6s\n",
      "[CV 6/15; 48/50] START model__C=20.55424552015074, model__epsilon=3.0296104428212476\n"
     ]
    },
    {
     "name": "stderr",
     "output_type": "stream",
     "text": [
      "/opt/anaconda3/lib/python3.9/site-packages/sklearn/svm/_base.py:299: ConvergenceWarning: Solver terminated early (max_iter=50000).  Consider pre-processing your data with StandardScaler or MinMaxScaler.\n",
      "  warnings.warn(\n"
     ]
    },
    {
     "name": "stdout",
     "output_type": "stream",
     "text": [
      "[CV 6/15; 48/50] END model__C=20.55424552015074, model__epsilon=3.0296104428212476;, score=-23.919 total time=   1.6s\n",
      "[CV 7/15; 48/50] START model__C=20.55424552015074, model__epsilon=3.0296104428212476\n"
     ]
    },
    {
     "name": "stderr",
     "output_type": "stream",
     "text": [
      "/opt/anaconda3/lib/python3.9/site-packages/sklearn/svm/_base.py:299: ConvergenceWarning: Solver terminated early (max_iter=50000).  Consider pre-processing your data with StandardScaler or MinMaxScaler.\n",
      "  warnings.warn(\n"
     ]
    },
    {
     "name": "stdout",
     "output_type": "stream",
     "text": [
      "[CV 7/15; 48/50] END model__C=20.55424552015074, model__epsilon=3.0296104428212476;, score=-25.276 total time=   1.6s\n",
      "[CV 8/15; 48/50] START model__C=20.55424552015074, model__epsilon=3.0296104428212476\n"
     ]
    },
    {
     "name": "stderr",
     "output_type": "stream",
     "text": [
      "/opt/anaconda3/lib/python3.9/site-packages/sklearn/svm/_base.py:299: ConvergenceWarning: Solver terminated early (max_iter=50000).  Consider pre-processing your data with StandardScaler or MinMaxScaler.\n",
      "  warnings.warn(\n"
     ]
    },
    {
     "name": "stdout",
     "output_type": "stream",
     "text": [
      "[CV 8/15; 48/50] END model__C=20.55424552015074, model__epsilon=3.0296104428212476;, score=-28.133 total time=   1.6s\n",
      "[CV 9/15; 48/50] START model__C=20.55424552015074, model__epsilon=3.0296104428212476\n"
     ]
    },
    {
     "name": "stderr",
     "output_type": "stream",
     "text": [
      "/opt/anaconda3/lib/python3.9/site-packages/sklearn/svm/_base.py:299: ConvergenceWarning: Solver terminated early (max_iter=50000).  Consider pre-processing your data with StandardScaler or MinMaxScaler.\n",
      "  warnings.warn(\n"
     ]
    },
    {
     "name": "stdout",
     "output_type": "stream",
     "text": [
      "[CV 9/15; 48/50] END model__C=20.55424552015074, model__epsilon=3.0296104428212476;, score=-25.496 total time=   1.6s\n",
      "[CV 10/15; 48/50] START model__C=20.55424552015074, model__epsilon=3.0296104428212476\n"
     ]
    },
    {
     "name": "stderr",
     "output_type": "stream",
     "text": [
      "/opt/anaconda3/lib/python3.9/site-packages/sklearn/svm/_base.py:299: ConvergenceWarning: Solver terminated early (max_iter=50000).  Consider pre-processing your data with StandardScaler or MinMaxScaler.\n",
      "  warnings.warn(\n"
     ]
    },
    {
     "name": "stdout",
     "output_type": "stream",
     "text": [
      "[CV 10/15; 48/50] END model__C=20.55424552015074, model__epsilon=3.0296104428212476;, score=-27.251 total time=   1.6s\n",
      "[CV 11/15; 48/50] START model__C=20.55424552015074, model__epsilon=3.0296104428212476\n"
     ]
    },
    {
     "name": "stderr",
     "output_type": "stream",
     "text": [
      "/opt/anaconda3/lib/python3.9/site-packages/sklearn/svm/_base.py:299: ConvergenceWarning: Solver terminated early (max_iter=50000).  Consider pre-processing your data with StandardScaler or MinMaxScaler.\n",
      "  warnings.warn(\n"
     ]
    },
    {
     "name": "stdout",
     "output_type": "stream",
     "text": [
      "[CV 11/15; 48/50] END model__C=20.55424552015074, model__epsilon=3.0296104428212476;, score=-25.871 total time=   1.6s\n",
      "[CV 12/15; 48/50] START model__C=20.55424552015074, model__epsilon=3.0296104428212476\n"
     ]
    },
    {
     "name": "stderr",
     "output_type": "stream",
     "text": [
      "/opt/anaconda3/lib/python3.9/site-packages/sklearn/svm/_base.py:299: ConvergenceWarning: Solver terminated early (max_iter=50000).  Consider pre-processing your data with StandardScaler or MinMaxScaler.\n",
      "  warnings.warn(\n"
     ]
    },
    {
     "name": "stdout",
     "output_type": "stream",
     "text": [
      "[CV 12/15; 48/50] END model__C=20.55424552015074, model__epsilon=3.0296104428212476;, score=-24.608 total time=   1.6s\n",
      "[CV 13/15; 48/50] START model__C=20.55424552015074, model__epsilon=3.0296104428212476\n"
     ]
    },
    {
     "name": "stderr",
     "output_type": "stream",
     "text": [
      "/opt/anaconda3/lib/python3.9/site-packages/sklearn/svm/_base.py:299: ConvergenceWarning: Solver terminated early (max_iter=50000).  Consider pre-processing your data with StandardScaler or MinMaxScaler.\n",
      "  warnings.warn(\n"
     ]
    },
    {
     "name": "stdout",
     "output_type": "stream",
     "text": [
      "[CV 13/15; 48/50] END model__C=20.55424552015074, model__epsilon=3.0296104428212476;, score=-25.877 total time=   1.6s\n",
      "[CV 14/15; 48/50] START model__C=20.55424552015074, model__epsilon=3.0296104428212476\n"
     ]
    },
    {
     "name": "stderr",
     "output_type": "stream",
     "text": [
      "/opt/anaconda3/lib/python3.9/site-packages/sklearn/svm/_base.py:299: ConvergenceWarning: Solver terminated early (max_iter=50000).  Consider pre-processing your data with StandardScaler or MinMaxScaler.\n",
      "  warnings.warn(\n"
     ]
    },
    {
     "name": "stdout",
     "output_type": "stream",
     "text": [
      "[CV 14/15; 48/50] END model__C=20.55424552015074, model__epsilon=3.0296104428212476;, score=-25.470 total time=   1.6s\n",
      "[CV 15/15; 48/50] START model__C=20.55424552015074, model__epsilon=3.0296104428212476\n"
     ]
    },
    {
     "name": "stderr",
     "output_type": "stream",
     "text": [
      "/opt/anaconda3/lib/python3.9/site-packages/sklearn/svm/_base.py:299: ConvergenceWarning: Solver terminated early (max_iter=50000).  Consider pre-processing your data with StandardScaler or MinMaxScaler.\n",
      "  warnings.warn(\n"
     ]
    },
    {
     "name": "stdout",
     "output_type": "stream",
     "text": [
      "[CV 15/15; 48/50] END model__C=20.55424552015074, model__epsilon=3.0296104428212476;, score=-28.764 total time=   1.6s\n",
      "[CV 1/15; 49/50] START model__C=3.699972431463808, model__epsilon=1.9170041589170652\n"
     ]
    },
    {
     "name": "stderr",
     "output_type": "stream",
     "text": [
      "/opt/anaconda3/lib/python3.9/site-packages/sklearn/svm/_base.py:299: ConvergenceWarning: Solver terminated early (max_iter=50000).  Consider pre-processing your data with StandardScaler or MinMaxScaler.\n",
      "  warnings.warn(\n"
     ]
    },
    {
     "name": "stdout",
     "output_type": "stream",
     "text": [
      "[CV 1/15; 49/50] END model__C=3.699972431463808, model__epsilon=1.9170041589170652;, score=-24.830 total time=   1.2s\n",
      "[CV 2/15; 49/50] START model__C=3.699972431463808, model__epsilon=1.9170041589170652\n"
     ]
    },
    {
     "name": "stderr",
     "output_type": "stream",
     "text": [
      "/opt/anaconda3/lib/python3.9/site-packages/sklearn/svm/_base.py:299: ConvergenceWarning: Solver terminated early (max_iter=50000).  Consider pre-processing your data with StandardScaler or MinMaxScaler.\n",
      "  warnings.warn(\n"
     ]
    },
    {
     "name": "stdout",
     "output_type": "stream",
     "text": [
      "[CV 2/15; 49/50] END model__C=3.699972431463808, model__epsilon=1.9170041589170652;, score=-26.419 total time=   1.2s\n",
      "[CV 3/15; 49/50] START model__C=3.699972431463808, model__epsilon=1.9170041589170652\n"
     ]
    },
    {
     "name": "stderr",
     "output_type": "stream",
     "text": [
      "/opt/anaconda3/lib/python3.9/site-packages/sklearn/svm/_base.py:299: ConvergenceWarning: Solver terminated early (max_iter=50000).  Consider pre-processing your data with StandardScaler or MinMaxScaler.\n",
      "  warnings.warn(\n"
     ]
    },
    {
     "name": "stdout",
     "output_type": "stream",
     "text": [
      "[CV 3/15; 49/50] END model__C=3.699972431463808, model__epsilon=1.9170041589170652;, score=-26.464 total time=   1.2s\n",
      "[CV 4/15; 49/50] START model__C=3.699972431463808, model__epsilon=1.9170041589170652\n"
     ]
    },
    {
     "name": "stderr",
     "output_type": "stream",
     "text": [
      "/opt/anaconda3/lib/python3.9/site-packages/sklearn/svm/_base.py:299: ConvergenceWarning: Solver terminated early (max_iter=50000).  Consider pre-processing your data with StandardScaler or MinMaxScaler.\n",
      "  warnings.warn(\n"
     ]
    },
    {
     "name": "stdout",
     "output_type": "stream",
     "text": [
      "[CV 4/15; 49/50] END model__C=3.699972431463808, model__epsilon=1.9170041589170652;, score=-25.575 total time=   1.2s\n",
      "[CV 5/15; 49/50] START model__C=3.699972431463808, model__epsilon=1.9170041589170652\n"
     ]
    },
    {
     "name": "stderr",
     "output_type": "stream",
     "text": [
      "/opt/anaconda3/lib/python3.9/site-packages/sklearn/svm/_base.py:299: ConvergenceWarning: Solver terminated early (max_iter=50000).  Consider pre-processing your data with StandardScaler or MinMaxScaler.\n",
      "  warnings.warn(\n"
     ]
    },
    {
     "name": "stdout",
     "output_type": "stream",
     "text": [
      "[CV 5/15; 49/50] END model__C=3.699972431463808, model__epsilon=1.9170041589170652;, score=-29.958 total time=   1.2s\n",
      "[CV 6/15; 49/50] START model__C=3.699972431463808, model__epsilon=1.9170041589170652\n"
     ]
    },
    {
     "name": "stderr",
     "output_type": "stream",
     "text": [
      "/opt/anaconda3/lib/python3.9/site-packages/sklearn/svm/_base.py:299: ConvergenceWarning: Solver terminated early (max_iter=50000).  Consider pre-processing your data with StandardScaler or MinMaxScaler.\n",
      "  warnings.warn(\n"
     ]
    },
    {
     "name": "stdout",
     "output_type": "stream",
     "text": [
      "[CV 6/15; 49/50] END model__C=3.699972431463808, model__epsilon=1.9170041589170652;, score=-24.505 total time=   1.2s\n",
      "[CV 7/15; 49/50] START model__C=3.699972431463808, model__epsilon=1.9170041589170652\n"
     ]
    },
    {
     "name": "stderr",
     "output_type": "stream",
     "text": [
      "/opt/anaconda3/lib/python3.9/site-packages/sklearn/svm/_base.py:299: ConvergenceWarning: Solver terminated early (max_iter=50000).  Consider pre-processing your data with StandardScaler or MinMaxScaler.\n",
      "  warnings.warn(\n"
     ]
    },
    {
     "name": "stdout",
     "output_type": "stream",
     "text": [
      "[CV 7/15; 49/50] END model__C=3.699972431463808, model__epsilon=1.9170041589170652;, score=-25.826 total time=   1.2s\n",
      "[CV 8/15; 49/50] START model__C=3.699972431463808, model__epsilon=1.9170041589170652\n"
     ]
    },
    {
     "name": "stderr",
     "output_type": "stream",
     "text": [
      "/opt/anaconda3/lib/python3.9/site-packages/sklearn/svm/_base.py:299: ConvergenceWarning: Solver terminated early (max_iter=50000).  Consider pre-processing your data with StandardScaler or MinMaxScaler.\n",
      "  warnings.warn(\n"
     ]
    },
    {
     "name": "stdout",
     "output_type": "stream",
     "text": [
      "[CV 8/15; 49/50] END model__C=3.699972431463808, model__epsilon=1.9170041589170652;, score=-28.294 total time=   1.2s\n",
      "[CV 9/15; 49/50] START model__C=3.699972431463808, model__epsilon=1.9170041589170652\n"
     ]
    },
    {
     "name": "stderr",
     "output_type": "stream",
     "text": [
      "/opt/anaconda3/lib/python3.9/site-packages/sklearn/svm/_base.py:299: ConvergenceWarning: Solver terminated early (max_iter=50000).  Consider pre-processing your data with StandardScaler or MinMaxScaler.\n",
      "  warnings.warn(\n"
     ]
    },
    {
     "name": "stdout",
     "output_type": "stream",
     "text": [
      "[CV 9/15; 49/50] END model__C=3.699972431463808, model__epsilon=1.9170041589170652;, score=-26.140 total time=   1.2s\n",
      "[CV 10/15; 49/50] START model__C=3.699972431463808, model__epsilon=1.9170041589170652\n"
     ]
    },
    {
     "name": "stderr",
     "output_type": "stream",
     "text": [
      "/opt/anaconda3/lib/python3.9/site-packages/sklearn/svm/_base.py:299: ConvergenceWarning: Solver terminated early (max_iter=50000).  Consider pre-processing your data with StandardScaler or MinMaxScaler.\n",
      "  warnings.warn(\n"
     ]
    },
    {
     "name": "stdout",
     "output_type": "stream",
     "text": [
      "[CV 10/15; 49/50] END model__C=3.699972431463808, model__epsilon=1.9170041589170652;, score=-28.457 total time=   1.2s\n",
      "[CV 11/15; 49/50] START model__C=3.699972431463808, model__epsilon=1.9170041589170652\n"
     ]
    },
    {
     "name": "stderr",
     "output_type": "stream",
     "text": [
      "/opt/anaconda3/lib/python3.9/site-packages/sklearn/svm/_base.py:299: ConvergenceWarning: Solver terminated early (max_iter=50000).  Consider pre-processing your data with StandardScaler or MinMaxScaler.\n",
      "  warnings.warn(\n"
     ]
    },
    {
     "name": "stdout",
     "output_type": "stream",
     "text": [
      "[CV 11/15; 49/50] END model__C=3.699972431463808, model__epsilon=1.9170041589170652;, score=-25.801 total time=   1.2s\n",
      "[CV 12/15; 49/50] START model__C=3.699972431463808, model__epsilon=1.9170041589170652\n"
     ]
    },
    {
     "name": "stderr",
     "output_type": "stream",
     "text": [
      "/opt/anaconda3/lib/python3.9/site-packages/sklearn/svm/_base.py:299: ConvergenceWarning: Solver terminated early (max_iter=50000).  Consider pre-processing your data with StandardScaler or MinMaxScaler.\n",
      "  warnings.warn(\n"
     ]
    },
    {
     "name": "stdout",
     "output_type": "stream",
     "text": [
      "[CV 12/15; 49/50] END model__C=3.699972431463808, model__epsilon=1.9170041589170652;, score=-25.466 total time=   1.3s\n",
      "[CV 13/15; 49/50] START model__C=3.699972431463808, model__epsilon=1.9170041589170652\n"
     ]
    },
    {
     "name": "stderr",
     "output_type": "stream",
     "text": [
      "/opt/anaconda3/lib/python3.9/site-packages/sklearn/svm/_base.py:299: ConvergenceWarning: Solver terminated early (max_iter=50000).  Consider pre-processing your data with StandardScaler or MinMaxScaler.\n",
      "  warnings.warn(\n"
     ]
    },
    {
     "name": "stdout",
     "output_type": "stream",
     "text": [
      "[CV 13/15; 49/50] END model__C=3.699972431463808, model__epsilon=1.9170041589170652;, score=-26.664 total time=   1.3s\n",
      "[CV 14/15; 49/50] START model__C=3.699972431463808, model__epsilon=1.9170041589170652\n"
     ]
    },
    {
     "name": "stderr",
     "output_type": "stream",
     "text": [
      "/opt/anaconda3/lib/python3.9/site-packages/sklearn/svm/_base.py:299: ConvergenceWarning: Solver terminated early (max_iter=50000).  Consider pre-processing your data with StandardScaler or MinMaxScaler.\n",
      "  warnings.warn(\n"
     ]
    },
    {
     "name": "stdout",
     "output_type": "stream",
     "text": [
      "[CV 14/15; 49/50] END model__C=3.699972431463808, model__epsilon=1.9170041589170652;, score=-25.836 total time=   1.2s\n",
      "[CV 15/15; 49/50] START model__C=3.699972431463808, model__epsilon=1.9170041589170652\n"
     ]
    },
    {
     "name": "stderr",
     "output_type": "stream",
     "text": [
      "/opt/anaconda3/lib/python3.9/site-packages/sklearn/svm/_base.py:299: ConvergenceWarning: Solver terminated early (max_iter=50000).  Consider pre-processing your data with StandardScaler or MinMaxScaler.\n",
      "  warnings.warn(\n"
     ]
    },
    {
     "name": "stdout",
     "output_type": "stream",
     "text": [
      "[CV 15/15; 49/50] END model__C=3.699972431463808, model__epsilon=1.9170041589170652;, score=-30.001 total time=   1.2s\n",
      "[CV 1/15; 50/50] START model__C=0.11919481947918735, model__epsilon=0.21070472806578233\n",
      "[CV 1/15; 50/50] END model__C=0.11919481947918735, model__epsilon=0.21070472806578233;, score=-35.997 total time=   1.2s\n",
      "[CV 2/15; 50/50] START model__C=0.11919481947918735, model__epsilon=0.21070472806578233\n",
      "[CV 2/15; 50/50] END model__C=0.11919481947918735, model__epsilon=0.21070472806578233;, score=-36.244 total time=   1.2s\n",
      "[CV 3/15; 50/50] START model__C=0.11919481947918735, model__epsilon=0.21070472806578233\n",
      "[CV 3/15; 50/50] END model__C=0.11919481947918735, model__epsilon=0.21070472806578233;, score=-37.635 total time=   1.2s\n",
      "[CV 4/15; 50/50] START model__C=0.11919481947918735, model__epsilon=0.21070472806578233\n",
      "[CV 4/15; 50/50] END model__C=0.11919481947918735, model__epsilon=0.21070472806578233;, score=-35.799 total time=   1.2s\n",
      "[CV 5/15; 50/50] START model__C=0.11919481947918735, model__epsilon=0.21070472806578233\n",
      "[CV 5/15; 50/50] END model__C=0.11919481947918735, model__epsilon=0.21070472806578233;, score=-40.422 total time=   1.2s\n",
      "[CV 6/15; 50/50] START model__C=0.11919481947918735, model__epsilon=0.21070472806578233\n",
      "[CV 6/15; 50/50] END model__C=0.11919481947918735, model__epsilon=0.21070472806578233;, score=-35.923 total time=   1.2s\n",
      "[CV 7/15; 50/50] START model__C=0.11919481947918735, model__epsilon=0.21070472806578233\n",
      "[CV 7/15; 50/50] END model__C=0.11919481947918735, model__epsilon=0.21070472806578233;, score=-36.161 total time=   1.2s\n",
      "[CV 8/15; 50/50] START model__C=0.11919481947918735, model__epsilon=0.21070472806578233\n",
      "[CV 8/15; 50/50] END model__C=0.11919481947918735, model__epsilon=0.21070472806578233;, score=-37.752 total time=   1.2s\n",
      "[CV 9/15; 50/50] START model__C=0.11919481947918735, model__epsilon=0.21070472806578233\n",
      "[CV 9/15; 50/50] END model__C=0.11919481947918735, model__epsilon=0.21070472806578233;, score=-35.862 total time=   1.2s\n",
      "[CV 10/15; 50/50] START model__C=0.11919481947918735, model__epsilon=0.21070472806578233\n",
      "[CV 10/15; 50/50] END model__C=0.11919481947918735, model__epsilon=0.21070472806578233;, score=-40.350 total time=   1.2s\n",
      "[CV 11/15; 50/50] START model__C=0.11919481947918735, model__epsilon=0.21070472806578233\n",
      "[CV 11/15; 50/50] END model__C=0.11919481947918735, model__epsilon=0.21070472806578233;, score=-36.038 total time=   1.2s\n",
      "[CV 12/15; 50/50] START model__C=0.11919481947918735, model__epsilon=0.21070472806578233\n",
      "[CV 12/15; 50/50] END model__C=0.11919481947918735, model__epsilon=0.21070472806578233;, score=-36.163 total time=   1.2s\n",
      "[CV 13/15; 50/50] START model__C=0.11919481947918735, model__epsilon=0.21070472806578233\n",
      "[CV 13/15; 50/50] END model__C=0.11919481947918735, model__epsilon=0.21070472806578233;, score=-37.821 total time=   1.2s\n",
      "[CV 14/15; 50/50] START model__C=0.11919481947918735, model__epsilon=0.21070472806578233\n",
      "[CV 14/15; 50/50] END model__C=0.11919481947918735, model__epsilon=0.21070472806578233;, score=-35.680 total time=   1.2s\n",
      "[CV 15/15; 50/50] START model__C=0.11919481947918735, model__epsilon=0.21070472806578233\n",
      "[CV 15/15; 50/50] END model__C=0.11919481947918735, model__epsilon=0.21070472806578233;, score=-40.297 total time=   1.2s\n",
      "Best neg_mean_absolute_error Score was: -25.874659172994914\n",
      "The best hyper parameters for the model are:\n",
      "{'model__C': 31.428808908401084, 'model__epsilon': 0.4335281794951565}\n"
     ]
    },
    {
     "name": "stderr",
     "output_type": "stream",
     "text": [
      "/opt/anaconda3/lib/python3.9/site-packages/sklearn/svm/_base.py:299: ConvergenceWarning: Solver terminated early (max_iter=50000).  Consider pre-processing your data with StandardScaler or MinMaxScaler.\n",
      "  warnings.warn(\n"
     ]
    }
   ],
   "source": [
    "find_best_hyperparameters(pipeline, x_val, y_val, model_para, score = 'neg_mean_absolute_error', verbose=10)"
   ]
  },
  {
   "cell_type": "code",
   "execution_count": 28,
   "id": "f57c7973",
   "metadata": {},
   "outputs": [],
   "source": [
    "svr_lin_daily = SVR(kernel = 'linear',cache_size=15000, max_iter=50000,epsilon = 0.4335281794951565, C= 31.428808908401084,verbose = 10)"
   ]
  },
  {
   "cell_type": "code",
   "execution_count": 29,
   "id": "8b3afa9b",
   "metadata": {},
   "outputs": [
    {
     "name": "stdout",
     "output_type": "stream",
     "text": [
      "[LibSVM].................................................WARN: libsvm Solver reached max_iter\n",
      "optimization finished, #iter = 50000\n",
      "obj = -76078035.061420, rho = -11.288018\n",
      "nSV = 52114, nBSV = 36293\n"
     ]
    },
    {
     "name": "stderr",
     "output_type": "stream",
     "text": [
      "/opt/anaconda3/lib/python3.9/site-packages/sklearn/svm/_base.py:299: ConvergenceWarning: Solver terminated early (max_iter=50000).  Consider pre-processing your data with StandardScaler or MinMaxScaler.\n",
      "  warnings.warn(\n"
     ]
    },
    {
     "name": "stdout",
     "output_type": "stream",
     "text": [
      "MODEL SCORES:\n",
      "MAE:  25.027\n",
      "MSE:  4387.254\n",
      "RMSE:  66.236\n",
      "Accuracy: 36.51 %\n",
      "R2:  57.458 %\n",
      "Max Residual Error:  1429.699\n"
     ]
    }
   ],
   "source": [
    "pipeline = pipeline_fit_predict(svr_lin_daily, categoric, numeric, x_train, y_train, x_test, y_test)"
   ]
  },
  {
   "cell_type": "markdown",
   "id": "7a576bfe",
   "metadata": {},
   "source": [
    "<hr style=\"border: 0.5px solid #8888;\">\n",
    "\n",
    "\n",
    "## Hourly Demand - hexagon low resolution "
   ]
  },
  {
   "cell_type": "code",
   "execution_count": 57,
   "id": "1492e757",
   "metadata": {},
   "outputs": [],
   "source": [
    "def get_prediction_scores(y_true, y_predicted):\n",
    "    print(\"MODEL SCORES:\")\n",
    "    print(f\"MAE: {metrics.mean_absolute_error(y_true, y_predicted): .3f}\")\n",
    "    print(f\"MSE: {metrics.mean_squared_error(y_true, y_predicted): .3f}\")\n",
    "    print(f\"RMSE: {math.sqrt(metrics.mean_squared_error(y_true, y_predicted)): .3f}\")\n",
    "    print(f\"Accuracy:\", round((1-(metrics.mean_absolute_error(y_true, y_predicted)/df_h_hexlow[\"numOfTaxis_area\"].mean()))*100,2), \"%\")\n",
    "    print(f\"R2: {100 * metrics.r2_score(y_true, y_predicted): .3f} %\")\n",
    "    print(f\"Max Residual Error: {metrics.max_error(y_true, y_predicted): .3f}\")"
   ]
  },
  {
   "cell_type": "code",
   "execution_count": 58,
   "id": "91c337cf",
   "metadata": {},
   "outputs": [],
   "source": [
    "# defining categorical and numeric features of dfPhiladelphia\n",
    "\n",
    "categoric = ['start_stamp', 'h3_hex_id_low_res','dayOfWeek','start_time_month','start_time_day','start_time_week',\n",
    "             'isHoliday','description','isRushhour', 'season']\n",
    "numeric = ['temperature_celsius','wind_speed','wind_direction','humidity','pressure']"
   ]
  },
  {
   "cell_type": "code",
   "execution_count": 59,
   "id": "72a3a9e3",
   "metadata": {},
   "outputs": [],
   "source": [
    "x_train_val, y_train_val, x_train, y_train, x_val, y_val, x_test, y_test = train_val_test(df_h_hexlow,\n",
    "                                                                                          testsize=0.3,valsize=0.2)"
   ]
  },
  {
   "cell_type": "code",
   "execution_count": 60,
   "id": "e87b8c72",
   "metadata": {},
   "outputs": [],
   "source": [
    "svr_lin_daily = SVR(kernel = 'linear',cache_size=15000, max_iter=50000,epsilon = 0.4335281794951565, C= 31.428808908401084, verbose =10)"
   ]
  },
  {
   "cell_type": "code",
   "execution_count": 61,
   "id": "d51b9e84",
   "metadata": {},
   "outputs": [
    {
     "name": "stdout",
     "output_type": "stream",
     "text": [
      "[LibSVM].................................................WARN: libsvm Solver reached max_iter\n",
      "optimization finished, #iter = 50000\n",
      "obj = -106216334.908176, rho = -31.404760\n",
      "nSV = 45998, nBSV = 34352\n"
     ]
    },
    {
     "name": "stderr",
     "output_type": "stream",
     "text": [
      "/opt/anaconda3/lib/python3.9/site-packages/sklearn/svm/_base.py:299: ConvergenceWarning: Solver terminated early (max_iter=50000).  Consider pre-processing your data with StandardScaler or MinMaxScaler.\n",
      "  warnings.warn(\n"
     ]
    },
    {
     "name": "stdout",
     "output_type": "stream",
     "text": [
      "MODEL SCORES:\n",
      "MAE:  49.649\n",
      "MSE:  19335.192\n",
      "RMSE:  139.051\n",
      "Accuracy: 42.61 %\n",
      "R2:  59.394 %\n",
      "Max Residual Error:  1997.387\n"
     ]
    }
   ],
   "source": [
    "pipeline = pipeline_fit_predict(svr_lin_daily, categoric, numeric, x_train_val, y_train_val, x_test, y_test)"
   ]
  },
  {
   "cell_type": "markdown",
   "id": "0a8a9fd3",
   "metadata": {},
   "source": [
    "<hr style=\"border: 0.5px solid #8888;\">\n",
    "\n",
    "\n",
    "## Hourly Demand - hexagon medium resolution"
   ]
  },
  {
   "cell_type": "code",
   "execution_count": 69,
   "id": "a48cb846",
   "metadata": {},
   "outputs": [],
   "source": [
    "def get_prediction_scores(y_true, y_predicted):\n",
    "    print(\"MODEL SCORES:\")\n",
    "    print(f\"MAE: {metrics.mean_absolute_error(y_true, y_predicted): .3f}\")\n",
    "    print(f\"MSE: {metrics.mean_squared_error(y_true, y_predicted): .3f}\")\n",
    "    print(f\"RMSE: {math.sqrt(metrics.mean_squared_error(y_true, y_predicted)): .3f}\")\n",
    "    print(f\"Accuracy:\", round((1-(metrics.mean_absolute_error(y_true, y_predicted)/df_h_hexmed[\"numOfTaxis_area\"].mean()))*100,2), \"%\")\n",
    "    print(f\"R2: {100 * metrics.r2_score(y_true, y_predicted): .3f} %\")\n",
    "    print(f\"Max Residual Error: {metrics.max_error(y_true, y_predicted): .3f}\")"
   ]
  },
  {
   "cell_type": "code",
   "execution_count": 70,
   "id": "202dd235",
   "metadata": {},
   "outputs": [],
   "source": [
    "# defining categorical and numeric features of dfPhiladelphia\n",
    "\n",
    "categoric = ['start_stamp', 'h3_hex_id_medium_res','dayOfWeek','start_time_month','start_time_day','start_time_week',\n",
    "             'isHoliday','description','isRushhour', 'season']\n",
    "numeric = ['temperature_celsius','wind_speed','wind_direction','humidity','pressure']"
   ]
  },
  {
   "cell_type": "code",
   "execution_count": 71,
   "id": "8ceb7b07",
   "metadata": {},
   "outputs": [],
   "source": [
    "x_train_val, y_train_val, x_train, y_train, x_val, y_val, x_test, y_test = train_val_test(df_h_hexmed,\n",
    "                                                                                          testsize=0.3,valsize=0.2)"
   ]
  },
  {
   "cell_type": "code",
   "execution_count": 72,
   "id": "96b24b0f",
   "metadata": {},
   "outputs": [],
   "source": [
    "svr_lin_daily = SVR(kernel = 'linear',cache_size=15000, max_iter=50000,epsilon = 0.4335281794951565, C= 31.428808908401084, verbose =10)"
   ]
  },
  {
   "cell_type": "code",
   "execution_count": 73,
   "id": "e15bf926",
   "metadata": {},
   "outputs": [
    {
     "name": "stdout",
     "output_type": "stream",
     "text": [
      "[LibSVM].................................................WARN: libsvm Solver reached max_iter\n",
      "optimization finished, #iter = 50000\n",
      "obj = -71769692.922822, rho = -9.900635\n",
      "nSV = 53540, nBSV = 36094\n"
     ]
    },
    {
     "name": "stderr",
     "output_type": "stream",
     "text": [
      "/opt/anaconda3/lib/python3.9/site-packages/sklearn/svm/_base.py:299: ConvergenceWarning: Solver terminated early (max_iter=50000).  Consider pre-processing your data with StandardScaler or MinMaxScaler.\n",
      "  warnings.warn(\n"
     ]
    },
    {
     "name": "stdout",
     "output_type": "stream",
     "text": [
      "MODEL SCORES:\n",
      "MAE:  21.106\n",
      "MSE:  3232.545\n",
      "RMSE:  56.855\n",
      "Accuracy: 34.96 %\n",
      "R2:  60.551 %\n",
      "Max Residual Error:  1298.962\n"
     ]
    }
   ],
   "source": [
    "pipeline = pipeline_fit_predict(svr_lin_daily, categoric, numeric, x_train, y_train, x_test, y_test)"
   ]
  },
  {
   "cell_type": "markdown",
   "id": "763893bd",
   "metadata": {},
   "source": [
    "<hr style=\"border: 0.5px solid #8888;\">\n",
    "\n",
    "\n",
    "## Hourly Demand - hexagon high resolution"
   ]
  },
  {
   "cell_type": "code",
   "execution_count": 74,
   "id": "58e33059",
   "metadata": {},
   "outputs": [],
   "source": [
    "def get_prediction_scores(y_true, y_predicted):\n",
    "    print(\"MODEL SCORES:\")\n",
    "    print(f\"MAE: {metrics.mean_absolute_error(y_true, y_predicted): .3f}\")\n",
    "    print(f\"MSE: {metrics.mean_squared_error(y_true, y_predicted): .3f}\")\n",
    "    print(f\"RMSE: {math.sqrt(metrics.mean_squared_error(y_true, y_predicted)): .3f}\")\n",
    "    print(f\"Accuracy:\", round((1-(metrics.mean_absolute_error(y_true, y_predicted)/df_h_hexhig[\"numOfTaxis_area\"].mean()))*100,2), \"%\")\n",
    "    print(f\"R2: {100 * metrics.r2_score(y_true, y_predicted): .3f} %\")\n",
    "    print(f\"Max Residual Error: {metrics.max_error(y_true, y_predicted): .3f}\")"
   ]
  },
  {
   "cell_type": "code",
   "execution_count": 75,
   "id": "4ba56b53",
   "metadata": {},
   "outputs": [],
   "source": [
    "# defining categorical and numeric features of dfPhiladelphia\n",
    "\n",
    "categoric = ['start_stamp', 'h3_hex_id_high_res','dayOfWeek','start_time_month','start_time_day','start_time_week',\n",
    "             'isHoliday','description','isRushhour', 'season']\n",
    "numeric = ['temperature_celsius','wind_speed','wind_direction','humidity','pressure']"
   ]
  },
  {
   "cell_type": "code",
   "execution_count": 77,
   "id": "279b1d2a",
   "metadata": {},
   "outputs": [],
   "source": [
    "x_train_val, y_train_val, x_train, y_train, x_val, y_val, x_test, y_test = train_val_test(df_h_hexhig,\n",
    "                                                                                          testsize=0.3,valsize=0.2)"
   ]
  },
  {
   "cell_type": "code",
   "execution_count": 78,
   "id": "2a1e39a2",
   "metadata": {},
   "outputs": [],
   "source": [
    "svr_lin_daily = SVR(kernel = 'linear',cache_size=15000, max_iter=50000,epsilon = 0.4335281794951565, C= 31.428808908401084, verbose =10)"
   ]
  },
  {
   "cell_type": "code",
   "execution_count": 79,
   "id": "256f4480",
   "metadata": {},
   "outputs": [
    {
     "name": "stdout",
     "output_type": "stream",
     "text": [
      "[LibSVM].................................................WARN: libsvm Solver reached max_iter\n",
      "optimization finished, #iter = 50000\n",
      "obj = -54172541.831035, rho = -1.700378\n",
      "nSV = 59016, nBSV = 39918\n"
     ]
    },
    {
     "name": "stderr",
     "output_type": "stream",
     "text": [
      "/opt/anaconda3/lib/python3.9/site-packages/sklearn/svm/_base.py:299: ConvergenceWarning: Solver terminated early (max_iter=50000).  Consider pre-processing your data with StandardScaler or MinMaxScaler.\n",
      "  warnings.warn(\n"
     ]
    },
    {
     "name": "stdout",
     "output_type": "stream",
     "text": [
      "MODEL SCORES:\n",
      "MAE:  13.751\n",
      "MSE:  628.844\n",
      "RMSE:  25.077\n",
      "Accuracy: 16.63 %\n",
      "R2:  45.458 %\n",
      "Max Residual Error:  599.243\n"
     ]
    }
   ],
   "source": [
    "pipeline = pipeline_fit_predict(svr_lin_daily, categoric, numeric, x_train, y_train, x_test, y_test)"
   ]
  },
  {
   "cell_type": "code",
   "execution_count": null,
   "id": "c55e2039",
   "metadata": {},
   "outputs": [],
   "source": []
  }
 ],
 "metadata": {
  "kernelspec": {
   "display_name": "Python 3 (ipykernel)",
   "language": "python",
   "name": "python3"
  },
  "language_info": {
   "codemirror_mode": {
    "name": "ipython",
    "version": 3
   },
   "file_extension": ".py",
   "mimetype": "text/x-python",
   "name": "python",
   "nbconvert_exporter": "python",
   "pygments_lexer": "ipython3",
   "version": "3.9.12"
  }
 },
 "nbformat": 4,
 "nbformat_minor": 5
}
