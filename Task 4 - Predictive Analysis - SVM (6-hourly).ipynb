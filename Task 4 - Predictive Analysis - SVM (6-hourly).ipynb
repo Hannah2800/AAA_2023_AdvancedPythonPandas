{
 "cells": [
  {
   "cell_type": "code",
   "execution_count": 1,
   "id": "bf065068",
   "metadata": {},
   "outputs": [],
   "source": [
    "# import all necessary packages\n",
    "import pandas as pd\n",
    "import numpy as np\n",
    "import json\n",
    "import datetime\n",
    "import warnings\n",
    "from pandas.core.common import SettingWithCopyWarning\n",
    "\n",
    "#warnings.simplefilter(action=\"ignore\", category=SettingWithCopyWarning)\n",
    "#import seaborn as sns\n",
    "#import matplotlib as mlp\n",
    "import matplotlib.pyplot as plt\n",
    "#from datetime import datetime\n",
    "from sklearn.pipeline import Pipeline\n",
    "from sklearn.compose import ColumnTransformer\n",
    "from sklearn.preprocessing import OneHotEncoder, StandardScaler\n",
    "from sklearn.linear_model import LinearRegression\n",
    "from sklearn import metrics\n",
    "from sklearn.svm import SVR\n",
    "import math\n",
    "from sklearn import datasets\n",
    "from sklearn.metrics import mean_squared_error\n",
    "from scipy.stats import loguniform"
   ]
  },
  {
   "cell_type": "code",
   "execution_count": 2,
   "id": "40e8c8f3",
   "metadata": {},
   "outputs": [],
   "source": [
    "# import datasets\n",
    "df_6h_comar = pd.read_csv(\"data/datasets/df_6h_comar.csv\")\n",
    "df_6h_hexlow = pd.read_csv(\"data/datasets/df_6h_hexlow.csv\")\n",
    "df_6h_hexmed = pd.read_csv(\"data/datasets/df_6h_hexmed.csv\")\n",
    "df_6h_hexhig = pd.read_csv(\"data/datasets/df_6h_hexhig.csv\")"
   ]
  },
  {
   "cell_type": "code",
   "execution_count": 6,
   "id": "06a01fc9",
   "metadata": {},
   "outputs": [],
   "source": [
    "import hannah as h"
   ]
  }
 ],
 "metadata": {
  "kernelspec": {
   "display_name": "Python 3 (ipykernel)",
   "language": "python",
   "name": "python3"
  },
  "language_info": {
   "codemirror_mode": {
    "name": "ipython",
    "version": 3
   },
   "file_extension": ".py",
   "mimetype": "text/x-python",
   "name": "python",
   "nbconvert_exporter": "python",
   "pygments_lexer": "ipython3",
   "version": "3.9.12"
  }
 },
 "nbformat": 4,
 "nbformat_minor": 5
}
