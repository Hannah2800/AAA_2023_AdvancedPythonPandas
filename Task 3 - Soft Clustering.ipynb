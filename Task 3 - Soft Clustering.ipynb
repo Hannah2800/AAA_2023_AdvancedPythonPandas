{
 "cells": [
  {
   "cell_type": "code",
   "execution_count": 1,
   "id": "b16915e1",
   "metadata": {},
   "outputs": [],
   "source": [
    "# import all necessary packages\n",
    "import pandas as pd\n",
    "import numpy as np\n",
    "import json\n",
    "import datetime\n",
    "import warnings\n",
    "from pandas.core.common import SettingWithCopyWarning\n",
    "#warnings.simplefilter(action=\"ignore\", category=SettingWithCopyWarning)\n",
    "import matplotlib.pyplot as plt\n",
    "from sklearn.svm import SVR\n",
    "from sklearn import datasets\n",
    "from scipy.stats import loguniform\n",
    "# import .py file for prediction methods\n",
    "import predictive as pred"
   ]
  },
  {
   "cell_type": "code",
   "execution_count": 2,
   "id": "f25fee17",
   "metadata": {},
   "outputs": [],
   "source": [
    "# import datasets\n",
    "df_chicago = pd.read_csv(\"data/datasets/df_chicago.csv.zip\")"
   ]
  },
  {
   "cell_type": "code",
   "execution_count": 17,
   "id": "02a189be",
   "metadata": {},
   "outputs": [
    {
     "data": {
      "text/html": [
       "<div>\n",
       "<style scoped>\n",
       "    .dataframe tbody tr th:only-of-type {\n",
       "        vertical-align: middle;\n",
       "    }\n",
       "\n",
       "    .dataframe tbody tr th {\n",
       "        vertical-align: top;\n",
       "    }\n",
       "\n",
       "    .dataframe thead th {\n",
       "        text-align: right;\n",
       "    }\n",
       "</style>\n",
       "<table border=\"1\" class=\"dataframe\">\n",
       "  <thead>\n",
       "    <tr style=\"text-align: right;\">\n",
       "      <th></th>\n",
       "      <th>start_time_hourly</th>\n",
       "      <th>Trip_Seconds</th>\n",
       "      <th>Trip_Miles</th>\n",
       "    </tr>\n",
       "  </thead>\n",
       "  <tbody>\n",
       "    <tr>\n",
       "      <th>0</th>\n",
       "      <td>0</td>\n",
       "      <td>900.0</td>\n",
       "      <td>2.7</td>\n",
       "    </tr>\n",
       "    <tr>\n",
       "      <th>1</th>\n",
       "      <td>0</td>\n",
       "      <td>240.0</td>\n",
       "      <td>0.4</td>\n",
       "    </tr>\n",
       "    <tr>\n",
       "      <th>2</th>\n",
       "      <td>0</td>\n",
       "      <td>1920.0</td>\n",
       "      <td>0.6</td>\n",
       "    </tr>\n",
       "    <tr>\n",
       "      <th>3</th>\n",
       "      <td>0</td>\n",
       "      <td>180.0</td>\n",
       "      <td>1.0</td>\n",
       "    </tr>\n",
       "    <tr>\n",
       "      <th>4</th>\n",
       "      <td>0</td>\n",
       "      <td>240.0</td>\n",
       "      <td>0.3</td>\n",
       "    </tr>\n",
       "    <tr>\n",
       "      <th>...</th>\n",
       "      <td>...</td>\n",
       "      <td>...</td>\n",
       "      <td>...</td>\n",
       "    </tr>\n",
       "    <tr>\n",
       "      <th>8974515</th>\n",
       "      <td>23</td>\n",
       "      <td>540.0</td>\n",
       "      <td>1.4</td>\n",
       "    </tr>\n",
       "    <tr>\n",
       "      <th>8974516</th>\n",
       "      <td>23</td>\n",
       "      <td>1860.0</td>\n",
       "      <td>5.9</td>\n",
       "    </tr>\n",
       "    <tr>\n",
       "      <th>8974517</th>\n",
       "      <td>23</td>\n",
       "      <td>720.0</td>\n",
       "      <td>2.0</td>\n",
       "    </tr>\n",
       "    <tr>\n",
       "      <th>8974518</th>\n",
       "      <td>23</td>\n",
       "      <td>660.0</td>\n",
       "      <td>3.5</td>\n",
       "    </tr>\n",
       "    <tr>\n",
       "      <th>8974519</th>\n",
       "      <td>23</td>\n",
       "      <td>1320.0</td>\n",
       "      <td>5.9</td>\n",
       "    </tr>\n",
       "  </tbody>\n",
       "</table>\n",
       "<p>8974520 rows × 3 columns</p>\n",
       "</div>"
      ],
      "text/plain": [
       "         start_time_hourly  Trip_Seconds  Trip_Miles\n",
       "0                        0         900.0         2.7\n",
       "1                        0         240.0         0.4\n",
       "2                        0        1920.0         0.6\n",
       "3                        0         180.0         1.0\n",
       "4                        0         240.0         0.3\n",
       "...                    ...           ...         ...\n",
       "8974515                 23         540.0         1.4\n",
       "8974516                 23        1860.0         5.9\n",
       "8974517                 23         720.0         2.0\n",
       "8974518                 23         660.0         3.5\n",
       "8974519                 23        1320.0         5.9\n",
       "\n",
       "[8974520 rows x 3 columns]"
      ]
     },
     "execution_count": 17,
     "metadata": {},
     "output_type": "execute_result"
    }
   ],
   "source": [
    "df_chicago_cluster = df_chicago[['start_time_hourly','Trip_Seconds',\"Trip_Miles\"]]\n",
    "df_chicago_cluster"
   ]
  },
  {
   "cell_type": "markdown",
   "id": "a0d46d93",
   "metadata": {},
   "source": [
    "When researching for the best score to use when deciding which number of cluster to choose for the Gaussian Mixture Model (soft-clustering), we found the Silhouette score and the Bayesian information criterion (BIC)."
   ]
  },
  {
   "cell_type": "markdown",
   "id": "febf6edd",
   "metadata": {},
   "source": [
    "### Silhouette score"
   ]
  },
  {
   "cell_type": "code",
   "execution_count": null,
   "id": "d05171cf",
   "metadata": {},
   "outputs": [],
   "source": []
  },
  {
   "cell_type": "markdown",
   "id": "8d482c2c",
   "metadata": {},
   "source": [
    "### Bayesian information criterion (BIC)"
   ]
  },
  {
   "cell_type": "code",
   "execution_count": null,
   "id": "ddfdf6f1",
   "metadata": {},
   "outputs": [],
   "source": []
  }
 ],
 "metadata": {
  "kernelspec": {
   "display_name": "Python 3 (ipykernel)",
   "language": "python",
   "name": "python3"
  },
  "language_info": {
   "codemirror_mode": {
    "name": "ipython",
    "version": 3
   },
   "file_extension": ".py",
   "mimetype": "text/x-python",
   "name": "python",
   "nbconvert_exporter": "python",
   "pygments_lexer": "ipython3",
   "version": "3.9.12"
  }
 },
 "nbformat": 4,
 "nbformat_minor": 5
}
