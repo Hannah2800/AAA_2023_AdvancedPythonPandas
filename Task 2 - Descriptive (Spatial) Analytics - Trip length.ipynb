{
 "cells": [
  {
   "attachments": {},
   "cell_type": "markdown",
   "metadata": {},
   "source": [
    "# Descriptive (Spatial) Analytics\n",
    "\n",
    "Analyze taxi demand patterns for the relevant one-year period and \n",
    "city (please check carefully which year your team has been allocated). \n",
    "\n",
    "Specifically show how these\n",
    "patterns (start time, trip length, start and end location, price, average idle time between trips, and so \n",
    "on) for the given sample varies in different spatio-temporal resolution (i.e., census tract vs. varying\n",
    "hexagon diameter and/or temporal bin sizes). \n",
    "\n",
    "Give possible reasons for the observed patterns."
   ]
  },
  {
   "cell_type": "code",
   "execution_count": 1,
   "metadata": {},
   "outputs": [],
   "source": [
    "import pandas as pd\n",
    "import seaborn as sns\n",
    "import matplotlib.pyplot as plt"
   ]
  },
  {
   "attachments": {},
   "cell_type": "markdown",
   "metadata": {},
   "source": [
    "## Trip length"
   ]
  },
  {
   "cell_type": "code",
   "execution_count": 3,
   "metadata": {},
   "outputs": [
    {
     "name": "stdout",
     "output_type": "stream",
     "text": [
      "<class 'pandas.core.frame.DataFrame'>\n",
      "RangeIndex: 8760 entries, 0 to 8759\n",
      "Data columns (total 18 columns):\n",
      " #   Column                Non-Null Count  Dtype  \n",
      "---  ------                --------------  -----  \n",
      " 0   dayOfWeek             8760 non-null   object \n",
      " 1   isHoliday             8760 non-null   bool   \n",
      " 2   season                8760 non-null   object \n",
      " 3   start_time_hourly     8760 non-null   int64  \n",
      " 4   start_time_day        8760 non-null   int64  \n",
      " 5   start_time_week       8760 non-null   int64  \n",
      " 6   start_time_month      8760 non-null   int64  \n",
      " 7   isRushhour            8760 non-null   bool   \n",
      " 8   pressure              8760 non-null   float64\n",
      " 9   humidity              8760 non-null   float64\n",
      " 10  temperature_celsius   8760 non-null   float64\n",
      " 11  wind_direction        8760 non-null   float64\n",
      " 12  wind_speed            8760 non-null   float64\n",
      " 13  description           8760 non-null   object \n",
      " 14  h3_hex_id_high_res    8760 non-null   object \n",
      " 15  h3_hex_id_medium_res  8760 non-null   object \n",
      " 16  h3_hex_id_low_res     8760 non-null   object \n",
      " 17  numOfTaxisHourly      8760 non-null   int64  \n",
      "dtypes: bool(2), float64(5), int64(5), object(6)\n",
      "memory usage: 1.1+ MB\n"
     ]
    },
    {
     "data": {
      "text/plain": [
       "0       overcast clouds\n",
       "1         broken clouds\n",
       "2       overcast clouds\n",
       "3       overcast clouds\n",
       "4         broken clouds\n",
       "             ...       \n",
       "8755      broken clouds\n",
       "8756      broken clouds\n",
       "8757         light snow\n",
       "8758               snow\n",
       "8759               mist\n",
       "Name: description, Length: 8760, dtype: object"
      ]
     },
     "execution_count": 3,
     "metadata": {},
     "output_type": "execute_result"
    }
   ],
   "source": [
    "#import dataset\n",
    "df = pd.read_csv(\"./data/datasets/df_chicago_hourly.csv\") ## df_chicago\n",
    "df.info()"
   ]
  },
  {
   "cell_type": "code",
   "execution_count": 4,
   "metadata": {},
   "outputs": [
    {
     "data": {
      "text/plain": [
       "array(['overcast clouds', 'broken clouds', 'sky is clear',\n",
       "       'scattered clouds', 'few clouds', 'heavy snow', 'haze', 'mist',\n",
       "       'light rain', 'light rain and snow', 'moderate rain',\n",
       "       'heavy intensity rain', 'light intensity drizzle', 'fog', 'snow',\n",
       "       'light snow', 'thunderstorm with rain',\n",
       "       'thunderstorm with light rain', 'drizzle',\n",
       "       'proximity thunderstorm', 'thunderstorm with heavy rain',\n",
       "       'very heavy rain', 'thunderstorm', 'heavy intensity drizzle'],\n",
       "      dtype=object)"
      ]
     },
     "execution_count": 4,
     "metadata": {},
     "output_type": "execute_result"
    }
   ],
   "source": [
    "df[\"description\"].unique()"
   ]
  },
  {
   "cell_type": "code",
   "execution_count": null,
   "metadata": {},
   "outputs": [],
   "source": [
    "palette = \"turbo\"\n",
    "def create_boxplot(x,y, data):\n",
    "    sns.boxplot(x=x,y=y,data=data,palette=palette,hue=\"dayOfWeek\",hue_order=['Monday','Tuesday','Wednesday','Thursday','Friday','Saturday','Sunday'])\n",
    "    fig = plt.gcf()\n",
    "    fig.set_size_inches(16, 9)\n",
    "    plt.title(\"Daily Fleet Usage Per Unique Hour & Weekday\", fontsize=18)\n",
    "    plt.xlabel(\"Starting Hour of Rental\", fontsize=14, style='oblique')\n",
    "    plt.ylabel(\"Number of rented bikes (per hour)\", fontsize=14, style='oblique')\n",
    "    plt.show()"
   ]
  },
  {
   "cell_type": "markdown",
   "metadata": {},
   "source": [
    "#### Trip seconds"
   ]
  },
  {
   "cell_type": "code",
   "execution_count": null,
   "metadata": {},
   "outputs": [],
   "source": [
    "# Histogram\n",
    "df_seconds = df[\"Trip_Seconds\"]\n",
    "df_seconds.hist()"
   ]
  },
  {
   "cell_type": "markdown",
   "metadata": {},
   "source": [
    "#### Trip Miles"
   ]
  },
  {
   "cell_type": "code",
   "execution_count": null,
   "metadata": {},
   "outputs": [],
   "source": [
    "# Histogram\n",
    "df_miles = df[\"Trip_Miles\"]\n",
    "df_miles.hist()"
   ]
  },
  {
   "attachments": {},
   "cell_type": "markdown",
   "metadata": {},
   "source": [
    "### Census tract vs. varying hexagon diameter"
   ]
  },
  {
   "attachments": {},
   "cell_type": "markdown",
   "metadata": {},
   "source": [
    "### Census tract vs. diff temporal bin sizes"
   ]
  }
 ],
 "metadata": {
  "kernelspec": {
   "display_name": "Python 3",
   "language": "python",
   "name": "python3"
  },
  "language_info": {
   "codemirror_mode": {
    "name": "ipython",
    "version": 3
   },
   "file_extension": ".py",
   "mimetype": "text/x-python",
   "name": "python",
   "nbconvert_exporter": "python",
   "pygments_lexer": "ipython3",
   "version": "3.11.3"
  },
  "orig_nbformat": 4
 },
 "nbformat": 4,
 "nbformat_minor": 2
}
