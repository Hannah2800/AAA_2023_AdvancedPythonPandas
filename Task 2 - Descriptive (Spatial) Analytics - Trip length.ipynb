{
 "cells": [
  {
   "attachments": {},
   "cell_type": "markdown",
   "metadata": {},
   "source": [
    "# Descriptive (Spatial) Analytics\n",
    "\n",
    "Analyze taxi demand patterns for the relevant one-year period and \n",
    "city (please check carefully which year your team has been allocated). \n",
    "\n",
    "Specifically show how these\n",
    "patterns (start time, trip length, start and end location, price, average idle time between trips, and so \n",
    "on) for the given sample varies in different spatio-temporal resolution (i.e., census tract vs. varying\n",
    "hexagon diameter and/or temporal bin sizes). \n",
    "\n",
    "Give possible reasons for the observed patterns."
   ]
  },
  {
   "cell_type": "markdown",
   "metadata": {},
   "source": [
    "Notes:\n",
    "\n",
    "- Histogram for distribution\n",
    "- trip length on census tract -> districts\n",
    "- trip length on varying hexagon diamater\n",
    "- trip length on tempotal bin sizes\n",
    "\n",
    "Features: \n",
    "- for both trip minutes and trip miles"
   ]
  },
  {
   "cell_type": "code",
   "execution_count": 3,
   "metadata": {},
   "outputs": [],
   "source": [
    "import pandas as pd\n",
    "import seaborn as sns\n",
    "import matplotlib.pyplot as plt\n",
    "import numpy as np\n",
    "\n",
    "import descriptive as desc"
   ]
  },
  {
   "cell_type": "code",
   "execution_count": 4,
   "metadata": {},
   "outputs": [
    {
     "name": "stdout",
     "output_type": "stream",
     "text": [
      "<class 'pandas.core.frame.DataFrame'>\n",
      "RangeIndex: 8974520 entries, 0 to 8974519\n",
      "Data columns (total 44 columns):\n",
      " #   Column                         Dtype  \n",
      "---  ------                         -----  \n",
      " 0   Trip_ID                        object \n",
      " 1   Taxi_ID                        object \n",
      " 2   Trip_Start_Timestamp           object \n",
      " 3   Trip_End_Timestamp             object \n",
      " 4   Trip_Seconds                   float64\n",
      " 5   Trip_Miles                     float64\n",
      " 6   Pickup_Census_Tract            float64\n",
      " 7   Dropoff_Census_Tract           float64\n",
      " 8   Pickup_Community_Area          float64\n",
      " 9   Dropoff_Community_Area         float64\n",
      " 10  Fare                           float64\n",
      " 11  Tips                           float64\n",
      " 12  Tolls                          float64\n",
      " 13  Extras                         float64\n",
      " 14  Payment_Type                   object \n",
      " 15  Pickup_Centroid_Latitude       float64\n",
      " 16  Pickup_Centroid_Longitude      float64\n",
      " 17  Pickup_Centroid_Location       object \n",
      " 18  Dropoff_Centroid_Latitude      float64\n",
      " 19  Dropoff_Centroid_Longitude     float64\n",
      " 20  Dropoff_Centroid__Location     object \n",
      " 21  Community_Areas                float64\n",
      " 22  Original_Trip_Start_Timestamp  object \n",
      " 23  Original_Trip_End_Timestamp    object \n",
      " 24  date_start                     object \n",
      " 25  dayOfWeek                      object \n",
      " 26  isHoliday                      bool   \n",
      " 27  season                         object \n",
      " 28  start_time_hourly              int64  \n",
      " 29  start_time_day                 int64  \n",
      " 30  start_time_week                int64  \n",
      " 31  start_time_month               int64  \n",
      " 32  isRushhour                     bool   \n",
      " 33  velocity_(miles/h)             float64\n",
      " 34  pressure                       float64\n",
      " 35  datetime                       object \n",
      " 36  humidity                       float64\n",
      " 37  temperature_celsius            float64\n",
      " 38  wind_direction                 float64\n",
      " 39  wind_speed                     float64\n",
      " 40  description                    object \n",
      " 41  h3_hex_id_high_res             object \n",
      " 42  h3_hex_id_medium_res           object \n",
      " 43  h3_hex_id_low_res              object \n",
      "dtypes: bool(2), float64(21), int64(4), object(17)\n",
      "memory usage: 2.8+ GB\n"
     ]
    }
   ],
   "source": [
    "#import dataset\n",
    "df = pd.read_csv(\"./data/datasets/df_chicago.csv.zip\") ## df_chicago\n",
    "df.info()"
   ]
  },
  {
   "attachments": {},
   "cell_type": "markdown",
   "metadata": {},
   "source": [
    "## Trip length (minutes)"
   ]
  },
  {
   "cell_type": "code",
   "execution_count": 5,
   "metadata": {},
   "outputs": [],
   "source": [
    "palette = \"turbo\"\n",
    "def create_boxplot(x,y, data):\n",
    "    sns.boxplot(x=x,y=y,data=data,palette=palette,hue=\"dayOfWeek\",hue_order=['Monday','Tuesday','Wednesday','Thursday','Friday','Saturday','Sunday'])\n",
    "    fig = plt.gcf()\n",
    "    fig.set_size_inches(16, 9)\n",
    "    plt.title(\"Daily Fleet Usage Per Unique Hour & Weekday\", fontsize=18)\n",
    "    plt.xlabel(\"Starting Hour of Rental\", fontsize=14, style='oblique')\n",
    "    plt.ylabel(\"Number of rented bikes (per hour)\", fontsize=14, style='oblique')\n",
    "    plt.show()"
   ]
  },
  {
   "cell_type": "markdown",
   "metadata": {},
   "source": [
    "#### Trip seconds"
   ]
  },
  {
   "cell_type": "code",
   "execution_count": 6,
   "metadata": {},
   "outputs": [
    {
     "data": {
      "text/plain": [
       "<Axes: xlabel='Trip_Minutes', ylabel='Count'>"
      ]
     },
     "execution_count": 6,
     "metadata": {},
     "output_type": "execute_result"
    },
    {
     "data": {
      "image/png": "[encoded data removed]",
      "text/plain": [
       "<Figure size 640x480 with 1 Axes>"
      ]
     },
     "metadata": {},
     "output_type": "display_data"
    }
   ],
   "source": [
    "df[\"Trip_Minutes\"] = np.floor(df[\"Trip_Seconds\"] / 60)\n",
    "sns.histplot(df[\"Trip_Minutes\"])"
   ]
  },
  {
   "cell_type": "code",
   "execution_count": 7,
   "metadata": {},
   "outputs": [
    {
     "data": {
      "text/html": [
       "<div>\n",
       "<style scoped>\n",
       "    .dataframe tbody tr th:only-of-type {\n",
       "        vertical-align: middle;\n",
       "    }\n",
       "\n",
       "    .dataframe tbody tr th {\n",
       "        vertical-align: top;\n",
       "    }\n",
       "\n",
       "    .dataframe thead th {\n",
       "        text-align: right;\n",
       "    }\n",
       "</style>\n",
       "<table border=\"1\" class=\"dataframe\">\n",
       "  <thead>\n",
       "    <tr style=\"text-align: right;\">\n",
       "      <th></th>\n",
       "      <th>Count</th>\n",
       "    </tr>\n",
       "    <tr>\n",
       "      <th>Pickup_Census_Tract</th>\n",
       "      <th></th>\n",
       "    </tr>\n",
       "  </thead>\n",
       "  <tbody>\n",
       "    <tr>\n",
       "      <th>1.703128e+10</th>\n",
       "      <td>280532</td>\n",
       "    </tr>\n",
       "    <tr>\n",
       "      <th>1.703108e+10</th>\n",
       "      <td>363559</td>\n",
       "    </tr>\n",
       "    <tr>\n",
       "      <th>1.703108e+10</th>\n",
       "      <td>382655</td>\n",
       "    </tr>\n",
       "    <tr>\n",
       "      <th>1.703132e+10</th>\n",
       "      <td>485983</td>\n",
       "    </tr>\n",
       "    <tr>\n",
       "      <th>1.703184e+10</th>\n",
       "      <td>814316</td>\n",
       "    </tr>\n",
       "  </tbody>\n",
       "</table>\n",
       "</div>"
      ],
      "text/plain": [
       "                      Count\n",
       "Pickup_Census_Tract        \n",
       "1.703128e+10         280532\n",
       "1.703108e+10         363559\n",
       "1.703108e+10         382655\n",
       "1.703132e+10         485983\n",
       "1.703184e+10         814316"
      ]
     },
     "execution_count": 7,
     "metadata": {},
     "output_type": "execute_result"
    }
   ],
   "source": [
    "#How many rides start per district\n",
    "grouped = df[[\"Pickup_Census_Tract\", \"Trip_Minutes\"]].groupby(\"Pickup_Census_Tract\").count().sort_values(by=\"Trip_Minutes\").rename(columns={\"Trip_Minutes\": \"Count\"})\n",
    "grouped.tail()"
   ]
  },
  {
   "cell_type": "code",
   "execution_count": 8,
   "metadata": {},
   "outputs": [
    {
     "data": {
      "text/html": [
       "<div>\n",
       "<style scoped>\n",
       "    .dataframe tbody tr th:only-of-type {\n",
       "        vertical-align: middle;\n",
       "    }\n",
       "\n",
       "    .dataframe tbody tr th {\n",
       "        vertical-align: top;\n",
       "    }\n",
       "\n",
       "    .dataframe thead th {\n",
       "        text-align: right;\n",
       "    }\n",
       "</style>\n",
       "<table border=\"1\" class=\"dataframe\">\n",
       "  <thead>\n",
       "    <tr style=\"text-align: right;\">\n",
       "      <th></th>\n",
       "      <th>Count</th>\n",
       "    </tr>\n",
       "    <tr>\n",
       "      <th>Dropoff_Census_Tract</th>\n",
       "      <th></th>\n",
       "    </tr>\n",
       "  </thead>\n",
       "  <tbody>\n",
       "    <tr>\n",
       "      <th>1.703128e+10</th>\n",
       "      <td>283616</td>\n",
       "    </tr>\n",
       "    <tr>\n",
       "      <th>1.703108e+10</th>\n",
       "      <td>286083</td>\n",
       "    </tr>\n",
       "    <tr>\n",
       "      <th>1.703108e+10</th>\n",
       "      <td>309481</td>\n",
       "    </tr>\n",
       "    <tr>\n",
       "      <th>1.703132e+10</th>\n",
       "      <td>410732</td>\n",
       "    </tr>\n",
       "    <tr>\n",
       "      <th>1.703184e+10</th>\n",
       "      <td>741576</td>\n",
       "    </tr>\n",
       "  </tbody>\n",
       "</table>\n",
       "</div>"
      ],
      "text/plain": [
       "                       Count\n",
       "Dropoff_Census_Tract        \n",
       "1.703128e+10          283616\n",
       "1.703108e+10          286083\n",
       "1.703108e+10          309481\n",
       "1.703132e+10          410732\n",
       "1.703184e+10          741576"
      ]
     },
     "execution_count": 8,
     "metadata": {},
     "output_type": "execute_result"
    }
   ],
   "source": [
    "#How many rides end per district\n",
    "grouped = df[[\"Dropoff_Census_Tract\", \"Trip_Minutes\"]].groupby(\"Dropoff_Census_Tract\").count().sort_values(by=\"Trip_Minutes\").rename(columns={\"Trip_Minutes\": \"Count\"})\n",
    "grouped.tail()"
   ]
  },
  {
   "cell_type": "code",
   "execution_count": 9,
   "metadata": {},
   "outputs": [
    {
     "data": {
      "text/html": [
       "<div>\n",
       "<style scoped>\n",
       "    .dataframe tbody tr th:only-of-type {\n",
       "        vertical-align: middle;\n",
       "    }\n",
       "\n",
       "    .dataframe tbody tr th {\n",
       "        vertical-align: top;\n",
       "    }\n",
       "\n",
       "    .dataframe thead th {\n",
       "        text-align: right;\n",
       "    }\n",
       "</style>\n",
       "<table border=\"1\" class=\"dataframe\">\n",
       "  <thead>\n",
       "    <tr style=\"text-align: right;\">\n",
       "      <th></th>\n",
       "      <th>Sum</th>\n",
       "    </tr>\n",
       "    <tr>\n",
       "      <th>Pickup_Census_Tract</th>\n",
       "      <th></th>\n",
       "    </tr>\n",
       "  </thead>\n",
       "  <tbody>\n",
       "    <tr>\n",
       "      <th>1.703128e+10</th>\n",
       "      <td>2736640.0</td>\n",
       "    </tr>\n",
       "    <tr>\n",
       "      <th>1.703108e+10</th>\n",
       "      <td>3118761.0</td>\n",
       "    </tr>\n",
       "    <tr>\n",
       "      <th>1.703108e+10</th>\n",
       "      <td>3527478.0</td>\n",
       "    </tr>\n",
       "    <tr>\n",
       "      <th>1.703132e+10</th>\n",
       "      <td>4316242.0</td>\n",
       "    </tr>\n",
       "    <tr>\n",
       "      <th>1.703184e+10</th>\n",
       "      <td>7296215.0</td>\n",
       "    </tr>\n",
       "  </tbody>\n",
       "</table>\n",
       "</div>"
      ],
      "text/plain": [
       "                           Sum\n",
       "Pickup_Census_Tract           \n",
       "1.703128e+10         2736640.0\n",
       "1.703108e+10         3118761.0\n",
       "1.703108e+10         3527478.0\n",
       "1.703132e+10         4316242.0\n",
       "1.703184e+10         7296215.0"
      ]
     },
     "execution_count": 9,
     "metadata": {},
     "output_type": "execute_result"
    }
   ],
   "source": [
    "#How many minutes start per district\n",
    "grouped = df[[\"Pickup_Census_Tract\", \"Trip_Minutes\"]].groupby(\"Pickup_Census_Tract\").sum().sort_values(by=\"Trip_Minutes\").rename(columns={\"Trip_Minutes\": \"Sum\"})\n",
    "grouped.tail()"
   ]
  },
  {
   "cell_type": "code",
   "execution_count": 10,
   "metadata": {},
   "outputs": [
    {
     "data": {
      "text/html": [
       "<div>\n",
       "<style scoped>\n",
       "    .dataframe tbody tr th:only-of-type {\n",
       "        vertical-align: middle;\n",
       "    }\n",
       "\n",
       "    .dataframe tbody tr th {\n",
       "        vertical-align: top;\n",
       "    }\n",
       "\n",
       "    .dataframe thead th {\n",
       "        text-align: right;\n",
       "    }\n",
       "</style>\n",
       "<table border=\"1\" class=\"dataframe\">\n",
       "  <thead>\n",
       "    <tr style=\"text-align: right;\">\n",
       "      <th></th>\n",
       "      <th>Sum</th>\n",
       "    </tr>\n",
       "    <tr>\n",
       "      <th>Dropoff_Census_Tract</th>\n",
       "      <th></th>\n",
       "    </tr>\n",
       "  </thead>\n",
       "  <tbody>\n",
       "    <tr>\n",
       "      <th>1.703108e+10</th>\n",
       "      <td>2557554.0</td>\n",
       "    </tr>\n",
       "    <tr>\n",
       "      <th>1.703108e+10</th>\n",
       "      <td>2580645.0</td>\n",
       "    </tr>\n",
       "    <tr>\n",
       "      <th>1.703128e+10</th>\n",
       "      <td>2624710.0</td>\n",
       "    </tr>\n",
       "    <tr>\n",
       "      <th>1.703132e+10</th>\n",
       "      <td>3533035.0</td>\n",
       "    </tr>\n",
       "    <tr>\n",
       "      <th>1.703184e+10</th>\n",
       "      <td>6405596.0</td>\n",
       "    </tr>\n",
       "  </tbody>\n",
       "</table>\n",
       "</div>"
      ],
      "text/plain": [
       "                            Sum\n",
       "Dropoff_Census_Tract           \n",
       "1.703108e+10          2557554.0\n",
       "1.703108e+10          2580645.0\n",
       "1.703128e+10          2624710.0\n",
       "1.703132e+10          3533035.0\n",
       "1.703184e+10          6405596.0"
      ]
     },
     "execution_count": 10,
     "metadata": {},
     "output_type": "execute_result"
    }
   ],
   "source": [
    "#How many minutes end per district\n",
    "grouped = df[[\"Dropoff_Census_Tract\", \"Trip_Minutes\"]].groupby(\"Dropoff_Census_Tract\").sum().sort_values(by=\"Trip_Minutes\").rename(columns={\"Trip_Minutes\": \"Sum\"})\n",
    "grouped.tail()"
   ]
  },
  {
   "cell_type": "code",
   "execution_count": 11,
   "metadata": {},
   "outputs": [
    {
     "data": {
      "text/html": [
       "<div>\n",
       "<style scoped>\n",
       "    .dataframe tbody tr th:only-of-type {\n",
       "        vertical-align: middle;\n",
       "    }\n",
       "\n",
       "    .dataframe tbody tr th {\n",
       "        vertical-align: top;\n",
       "    }\n",
       "\n",
       "    .dataframe thead th {\n",
       "        text-align: right;\n",
       "    }\n",
       "</style>\n",
       "<table border=\"1\" class=\"dataframe\">\n",
       "  <thead>\n",
       "    <tr style=\"text-align: right;\">\n",
       "      <th></th>\n",
       "      <th>Average</th>\n",
       "    </tr>\n",
       "    <tr>\n",
       "      <th>Pickup_Census_Tract</th>\n",
       "      <th></th>\n",
       "    </tr>\n",
       "  </thead>\n",
       "  <tbody>\n",
       "    <tr>\n",
       "      <th>1.703156e+10</th>\n",
       "      <td>30.0</td>\n",
       "    </tr>\n",
       "    <tr>\n",
       "      <th>1.703171e+10</th>\n",
       "      <td>31.0</td>\n",
       "    </tr>\n",
       "    <tr>\n",
       "      <th>1.703144e+10</th>\n",
       "      <td>32.0</td>\n",
       "    </tr>\n",
       "    <tr>\n",
       "      <th>1.703110e+10</th>\n",
       "      <td>35.0</td>\n",
       "    </tr>\n",
       "    <tr>\n",
       "      <th>1.703121e+10</th>\n",
       "      <td>37.0</td>\n",
       "    </tr>\n",
       "  </tbody>\n",
       "</table>\n",
       "</div>"
      ],
      "text/plain": [
       "                     Average\n",
       "Pickup_Census_Tract         \n",
       "1.703156e+10            30.0\n",
       "1.703171e+10            31.0\n",
       "1.703144e+10            32.0\n",
       "1.703110e+10            35.0\n",
       "1.703121e+10            37.0"
      ]
     },
     "execution_count": 11,
     "metadata": {},
     "output_type": "execute_result"
    }
   ],
   "source": [
    "#How many minutes start on average per district\n",
    "grouped = df[[\"Pickup_Census_Tract\", \"Trip_Minutes\"]].groupby(\"Pickup_Census_Tract\").mean().sort_values(by=\"Trip_Minutes\").rename(columns={\"Trip_Minutes\": \"Average\"})\n",
    "grouped.tail()"
   ]
  },
  {
   "cell_type": "code",
   "execution_count": 12,
   "metadata": {},
   "outputs": [
    {
     "data": {
      "text/html": [
       "<div>\n",
       "<style scoped>\n",
       "    .dataframe tbody tr th:only-of-type {\n",
       "        vertical-align: middle;\n",
       "    }\n",
       "\n",
       "    .dataframe tbody tr th {\n",
       "        vertical-align: top;\n",
       "    }\n",
       "\n",
       "    .dataframe thead th {\n",
       "        text-align: right;\n",
       "    }\n",
       "</style>\n",
       "<table border=\"1\" class=\"dataframe\">\n",
       "  <thead>\n",
       "    <tr style=\"text-align: right;\">\n",
       "      <th></th>\n",
       "      <th>Average</th>\n",
       "    </tr>\n",
       "    <tr>\n",
       "      <th>Dropoff_Census_Tract</th>\n",
       "      <th></th>\n",
       "    </tr>\n",
       "  </thead>\n",
       "  <tbody>\n",
       "    <tr>\n",
       "      <th>1.703173e+10</th>\n",
       "      <td>28.0</td>\n",
       "    </tr>\n",
       "    <tr>\n",
       "      <th>1.703162e+10</th>\n",
       "      <td>30.0</td>\n",
       "    </tr>\n",
       "    <tr>\n",
       "      <th>1.703102e+10</th>\n",
       "      <td>30.0</td>\n",
       "    </tr>\n",
       "    <tr>\n",
       "      <th>1.703125e+10</th>\n",
       "      <td>30.0</td>\n",
       "    </tr>\n",
       "    <tr>\n",
       "      <th>1.703125e+10</th>\n",
       "      <td>30.0</td>\n",
       "    </tr>\n",
       "  </tbody>\n",
       "</table>\n",
       "</div>"
      ],
      "text/plain": [
       "                      Average\n",
       "Dropoff_Census_Tract         \n",
       "1.703173e+10             28.0\n",
       "1.703162e+10             30.0\n",
       "1.703102e+10             30.0\n",
       "1.703125e+10             30.0\n",
       "1.703125e+10             30.0"
      ]
     },
     "execution_count": 12,
     "metadata": {},
     "output_type": "execute_result"
    }
   ],
   "source": [
    "#How many minutes end on average per district\n",
    "grouped = df[[\"Dropoff_Census_Tract\", \"Trip_Minutes\"]].groupby(\"Dropoff_Census_Tract\").mean().sort_values(by=\"Trip_Minutes\").rename(columns={\"Trip_Minutes\": \"Average\"})\n",
    "grouped.tail()"
   ]
  },
  {
   "cell_type": "code",
   "execution_count": 15,
   "metadata": {},
   "outputs": [
    {
     "data": {
      "image/png": "[encoded data removed]",
      "text/plain": [
       "<Figure size 1600x1200 with 1 Axes>"
      ]
     },
     "metadata": {},
     "output_type": "display_data"
    }
   ],
   "source": [
    "grouped_hours = df[[\"start_time_hourly\", \"Trip_Minutes\"]].groupby(\"start_time_hourly\").count()\n",
    "grouped_hours.plot(kind='bar', ylabel='Number of rides', xlabel='hour', figsize=(16,12), alpha=1)\n",
    "plt.grid()\n",
    "plt.xlabel(\"Hour\")\n",
    "plt.ylabel(\"Number of rides\")\n",
    "# plt.title(\"Average number of rides per hour\")\n",
    "# plt.legend([\"Average number of rides\"])\n",
    "plt.show()"
   ]
  },
  {
   "cell_type": "code",
   "execution_count": null,
   "metadata": {},
   "outputs": [
    {
     "data": {
      "text/html": [
       "<div>\n",
       "<style scoped>\n",
       "    .dataframe tbody tr th:only-of-type {\n",
       "        vertical-align: middle;\n",
       "    }\n",
       "\n",
       "    .dataframe tbody tr th {\n",
       "        vertical-align: top;\n",
       "    }\n",
       "\n",
       "    .dataframe thead th {\n",
       "        text-align: right;\n",
       "    }\n",
       "</style>\n",
       "<table border=\"1\" class=\"dataframe\">\n",
       "  <thead>\n",
       "    <tr style=\"text-align: right;\">\n",
       "      <th></th>\n",
       "      <th>Trip_Miles</th>\n",
       "    </tr>\n",
       "    <tr>\n",
       "      <th>Pickup_Census_Tract</th>\n",
       "      <th></th>\n",
       "    </tr>\n",
       "  </thead>\n",
       "  <tbody>\n",
       "    <tr>\n",
       "      <th>1.703128e+10</th>\n",
       "      <td>280527</td>\n",
       "    </tr>\n",
       "    <tr>\n",
       "      <th>1.703108e+10</th>\n",
       "      <td>363515</td>\n",
       "    </tr>\n",
       "    <tr>\n",
       "      <th>1.703108e+10</th>\n",
       "      <td>382609</td>\n",
       "    </tr>\n",
       "    <tr>\n",
       "      <th>1.703132e+10</th>\n",
       "      <td>485957</td>\n",
       "    </tr>\n",
       "    <tr>\n",
       "      <th>1.703184e+10</th>\n",
       "      <td>814282</td>\n",
       "    </tr>\n",
       "  </tbody>\n",
       "</table>\n",
       "</div>"
      ],
      "text/plain": [
       "                     Trip_Miles\n",
       "Pickup_Census_Tract            \n",
       "1.703128e+10             280527\n",
       "1.703108e+10             363515\n",
       "1.703108e+10             382609\n",
       "1.703132e+10             485957\n",
       "1.703184e+10             814282"
      ]
     },
     "execution_count": 52,
     "metadata": {},
     "output_type": "execute_result"
    }
   ],
   "source": [
    "#How many rides start per district\n",
    "grouped = df[[\"Pickup_Census_Tract\", \"Trip_Miles\"]].groupby(\"Pickup_Census_Tract\").count().sort_values(by=\"Trip_Miles\").rename(columns={\"Trip_Miles\": \"Count\"})\n",
    "grouped.tail()"
   ]
  },
  {
   "cell_type": "code",
   "execution_count": null,
   "metadata": {},
   "outputs": [
    {
     "data": {
      "text/html": [
       "<div>\n",
       "<style scoped>\n",
       "    .dataframe tbody tr th:only-of-type {\n",
       "        vertical-align: middle;\n",
       "    }\n",
       "\n",
       "    .dataframe tbody tr th {\n",
       "        vertical-align: top;\n",
       "    }\n",
       "\n",
       "    .dataframe thead th {\n",
       "        text-align: right;\n",
       "    }\n",
       "</style>\n",
       "<table border=\"1\" class=\"dataframe\">\n",
       "  <thead>\n",
       "    <tr style=\"text-align: right;\">\n",
       "      <th></th>\n",
       "      <th>Trip_Miles</th>\n",
       "    </tr>\n",
       "    <tr>\n",
       "      <th>Dropoff_Census_Tract</th>\n",
       "      <th></th>\n",
       "    </tr>\n",
       "  </thead>\n",
       "  <tbody>\n",
       "    <tr>\n",
       "      <th>1.703128e+10</th>\n",
       "      <td>283609</td>\n",
       "    </tr>\n",
       "    <tr>\n",
       "      <th>1.703108e+10</th>\n",
       "      <td>286058</td>\n",
       "    </tr>\n",
       "    <tr>\n",
       "      <th>1.703108e+10</th>\n",
       "      <td>309451</td>\n",
       "    </tr>\n",
       "    <tr>\n",
       "      <th>1.703132e+10</th>\n",
       "      <td>410715</td>\n",
       "    </tr>\n",
       "    <tr>\n",
       "      <th>1.703184e+10</th>\n",
       "      <td>741563</td>\n",
       "    </tr>\n",
       "  </tbody>\n",
       "</table>\n",
       "</div>"
      ],
      "text/plain": [
       "                      Trip_Miles\n",
       "Dropoff_Census_Tract            \n",
       "1.703128e+10              283609\n",
       "1.703108e+10              286058\n",
       "1.703108e+10              309451\n",
       "1.703132e+10              410715\n",
       "1.703184e+10              741563"
      ]
     },
     "execution_count": 53,
     "metadata": {},
     "output_type": "execute_result"
    }
   ],
   "source": [
    "#How many rides end per district\n",
    "grouped = df[[\"Dropoff_Census_Tract\", \"Trip_Miles\"]].groupby(\"Dropoff_Census_Tract\").count().sort_values(by=\"Trip_Miles\").rename(columns={\"Trip_Miles\": \"Count\"})\n",
    "grouped.tail()"
   ]
  },
  {
   "cell_type": "code",
   "execution_count": null,
   "metadata": {},
   "outputs": [
    {
     "data": {
      "text/html": [
       "<div>\n",
       "<style scoped>\n",
       "    .dataframe tbody tr th:only-of-type {\n",
       "        vertical-align: middle;\n",
       "    }\n",
       "\n",
       "    .dataframe tbody tr th {\n",
       "        vertical-align: top;\n",
       "    }\n",
       "\n",
       "    .dataframe thead th {\n",
       "        text-align: right;\n",
       "    }\n",
       "</style>\n",
       "<table border=\"1\" class=\"dataframe\">\n",
       "  <thead>\n",
       "    <tr style=\"text-align: right;\">\n",
       "      <th></th>\n",
       "      <th>Trip_Miles</th>\n",
       "    </tr>\n",
       "    <tr>\n",
       "      <th>Pickup_Census_Tract</th>\n",
       "      <th></th>\n",
       "    </tr>\n",
       "  </thead>\n",
       "  <tbody>\n",
       "    <tr>\n",
       "      <th>1.703198e+10</th>\n",
       "      <td>542587.71</td>\n",
       "    </tr>\n",
       "    <tr>\n",
       "      <th>1.703108e+10</th>\n",
       "      <td>589789.58</td>\n",
       "    </tr>\n",
       "    <tr>\n",
       "      <th>1.703108e+10</th>\n",
       "      <td>656860.28</td>\n",
       "    </tr>\n",
       "    <tr>\n",
       "      <th>1.703132e+10</th>\n",
       "      <td>836171.04</td>\n",
       "    </tr>\n",
       "    <tr>\n",
       "      <th>1.703184e+10</th>\n",
       "      <td>1323167.61</td>\n",
       "    </tr>\n",
       "  </tbody>\n",
       "</table>\n",
       "</div>"
      ],
      "text/plain": [
       "                     Trip_Miles\n",
       "Pickup_Census_Tract            \n",
       "1.703198e+10          542587.71\n",
       "1.703108e+10          589789.58\n",
       "1.703108e+10          656860.28\n",
       "1.703132e+10          836171.04\n",
       "1.703184e+10         1323167.61"
      ]
     },
     "execution_count": 54,
     "metadata": {},
     "output_type": "execute_result"
    }
   ],
   "source": [
    "#How many minutes start per district\n",
    "grouped = df[[\"Pickup_Census_Tract\", \"Trip_Miles\"]].groupby(\"Pickup_Census_Tract\").sum().sort_values(by=\"Trip_Miles\").rename(columns={\"Trip_Miles\": \"Sum\"})\n",
    "grouped.tail()"
   ]
  },
  {
   "cell_type": "code",
   "execution_count": null,
   "metadata": {},
   "outputs": [
    {
     "data": {
      "text/html": [
       "<div>\n",
       "<style scoped>\n",
       "    .dataframe tbody tr th:only-of-type {\n",
       "        vertical-align: middle;\n",
       "    }\n",
       "\n",
       "    .dataframe tbody tr th {\n",
       "        vertical-align: top;\n",
       "    }\n",
       "\n",
       "    .dataframe thead th {\n",
       "        text-align: right;\n",
       "    }\n",
       "</style>\n",
       "<table border=\"1\" class=\"dataframe\">\n",
       "  <thead>\n",
       "    <tr style=\"text-align: right;\">\n",
       "      <th></th>\n",
       "      <th>Trip_Miles</th>\n",
       "    </tr>\n",
       "    <tr>\n",
       "      <th>Dropoff_Census_Tract</th>\n",
       "      <th></th>\n",
       "    </tr>\n",
       "  </thead>\n",
       "  <tbody>\n",
       "    <tr>\n",
       "      <th>1.703108e+10</th>\n",
       "      <td>457166.13</td>\n",
       "    </tr>\n",
       "    <tr>\n",
       "      <th>1.703133e+10</th>\n",
       "      <td>472786.75</td>\n",
       "    </tr>\n",
       "    <tr>\n",
       "      <th>1.703198e+10</th>\n",
       "      <td>644929.81</td>\n",
       "    </tr>\n",
       "    <tr>\n",
       "      <th>1.703132e+10</th>\n",
       "      <td>651340.93</td>\n",
       "    </tr>\n",
       "    <tr>\n",
       "      <th>1.703184e+10</th>\n",
       "      <td>1090535.94</td>\n",
       "    </tr>\n",
       "  </tbody>\n",
       "</table>\n",
       "</div>"
      ],
      "text/plain": [
       "                      Trip_Miles\n",
       "Dropoff_Census_Tract            \n",
       "1.703108e+10           457166.13\n",
       "1.703133e+10           472786.75\n",
       "1.703198e+10           644929.81\n",
       "1.703132e+10           651340.93\n",
       "1.703184e+10          1090535.94"
      ]
     },
     "execution_count": 55,
     "metadata": {},
     "output_type": "execute_result"
    }
   ],
   "source": [
    "#How many minutes end per district\n",
    "grouped = df[[\"Dropoff_Census_Tract\", \"Trip_Miles\"]].groupby(\"Dropoff_Census_Tract\").sum().sort_values(by=\"Trip_Miles\").rename(columns={\"Trip_Miles\": \"Sum\"})\n",
    "grouped.tail()"
   ]
  },
  {
   "cell_type": "code",
   "execution_count": null,
   "metadata": {},
   "outputs": [
    {
     "data": {
      "text/html": [
       "<div>\n",
       "<style scoped>\n",
       "    .dataframe tbody tr th:only-of-type {\n",
       "        vertical-align: middle;\n",
       "    }\n",
       "\n",
       "    .dataframe tbody tr th {\n",
       "        vertical-align: top;\n",
       "    }\n",
       "\n",
       "    .dataframe thead th {\n",
       "        text-align: right;\n",
       "    }\n",
       "</style>\n",
       "<table border=\"1\" class=\"dataframe\">\n",
       "  <thead>\n",
       "    <tr style=\"text-align: right;\">\n",
       "      <th></th>\n",
       "      <th>Trip_Miles</th>\n",
       "    </tr>\n",
       "    <tr>\n",
       "      <th>Pickup_Census_Tract</th>\n",
       "      <th></th>\n",
       "    </tr>\n",
       "  </thead>\n",
       "  <tbody>\n",
       "    <tr>\n",
       "      <th>1.703119e+10</th>\n",
       "      <td>11.400000</td>\n",
       "    </tr>\n",
       "    <tr>\n",
       "      <th>1.703143e+10</th>\n",
       "      <td>11.433333</td>\n",
       "    </tr>\n",
       "    <tr>\n",
       "      <th>1.703145e+10</th>\n",
       "      <td>11.800000</td>\n",
       "    </tr>\n",
       "    <tr>\n",
       "      <th>1.703121e+10</th>\n",
       "      <td>12.300000</td>\n",
       "    </tr>\n",
       "    <tr>\n",
       "      <th>1.703102e+10</th>\n",
       "      <td>12.700000</td>\n",
       "    </tr>\n",
       "  </tbody>\n",
       "</table>\n",
       "</div>"
      ],
      "text/plain": [
       "                     Trip_Miles\n",
       "Pickup_Census_Tract            \n",
       "1.703119e+10          11.400000\n",
       "1.703143e+10          11.433333\n",
       "1.703145e+10          11.800000\n",
       "1.703121e+10          12.300000\n",
       "1.703102e+10          12.700000"
      ]
     },
     "execution_count": 56,
     "metadata": {},
     "output_type": "execute_result"
    }
   ],
   "source": [
    "#How many minutes start on average per district\n",
    "grouped = df[[\"Pickup_Census_Tract\", \"Trip_Miles\"]].groupby(\"Pickup_Census_Tract\").mean().sort_values(by=\"Trip_Miles\").rename(columns={\"Trip_Miles\": \"Average\"})\n",
    "grouped.tail()"
   ]
  },
  {
   "cell_type": "code",
   "execution_count": null,
   "metadata": {},
   "outputs": [
    {
     "data": {
      "text/html": [
       "<div>\n",
       "<style scoped>\n",
       "    .dataframe tbody tr th:only-of-type {\n",
       "        vertical-align: middle;\n",
       "    }\n",
       "\n",
       "    .dataframe tbody tr th {\n",
       "        vertical-align: top;\n",
       "    }\n",
       "\n",
       "    .dataframe thead th {\n",
       "        text-align: right;\n",
       "    }\n",
       "</style>\n",
       "<table border=\"1\" class=\"dataframe\">\n",
       "  <thead>\n",
       "    <tr style=\"text-align: right;\">\n",
       "      <th></th>\n",
       "      <th>Trip_Miles</th>\n",
       "    </tr>\n",
       "    <tr>\n",
       "      <th>Dropoff_Census_Tract</th>\n",
       "      <th></th>\n",
       "    </tr>\n",
       "  </thead>\n",
       "  <tbody>\n",
       "    <tr>\n",
       "      <th>1.703140e+10</th>\n",
       "      <td>9.75</td>\n",
       "    </tr>\n",
       "    <tr>\n",
       "      <th>1.703125e+10</th>\n",
       "      <td>10.30</td>\n",
       "    </tr>\n",
       "    <tr>\n",
       "      <th>1.703158e+10</th>\n",
       "      <td>10.40</td>\n",
       "    </tr>\n",
       "    <tr>\n",
       "      <th>1.703164e+10</th>\n",
       "      <td>11.30</td>\n",
       "    </tr>\n",
       "    <tr>\n",
       "      <th>1.703177e+10</th>\n",
       "      <td>11.40</td>\n",
       "    </tr>\n",
       "  </tbody>\n",
       "</table>\n",
       "</div>"
      ],
      "text/plain": [
       "                      Trip_Miles\n",
       "Dropoff_Census_Tract            \n",
       "1.703140e+10                9.75\n",
       "1.703125e+10               10.30\n",
       "1.703158e+10               10.40\n",
       "1.703164e+10               11.30\n",
       "1.703177e+10               11.40"
      ]
     },
     "execution_count": 57,
     "metadata": {},
     "output_type": "execute_result"
    }
   ],
   "source": [
    "#How many minutes end on average per district\n",
    "grouped = df[[\"Dropoff_Census_Tract\", \"Trip_Miles\"]].groupby(\"Dropoff_Census_Tract\").mean().sort_values(by=\"Trip_Miles\").rename(columns={\"Trip_Miles\": \"Average\"})\n",
    "grouped.tail()"
   ]
  },
  {
   "cell_type": "markdown",
   "metadata": {},
   "source": [
    "### Different Hexagon Resolutions"
   ]
  },
  {
   "cell_type": "code",
   "execution_count": null,
   "metadata": {},
   "outputs": [
    {
     "data": {
      "text/html": [
       "<div>\n",
       "<style scoped>\n",
       "    .dataframe tbody tr th:only-of-type {\n",
       "        vertical-align: middle;\n",
       "    }\n",
       "\n",
       "    .dataframe tbody tr th {\n",
       "        vertical-align: top;\n",
       "    }\n",
       "\n",
       "    .dataframe thead th {\n",
       "        text-align: right;\n",
       "    }\n",
       "</style>\n",
       "<table border=\"1\" class=\"dataframe\">\n",
       "  <thead>\n",
       "    <tr style=\"text-align: right;\">\n",
       "      <th></th>\n",
       "      <th>Trip_Miles</th>\n",
       "    </tr>\n",
       "    <tr>\n",
       "      <th>h3_hex_id_low_res</th>\n",
       "      <th></th>\n",
       "    </tr>\n",
       "  </thead>\n",
       "  <tbody>\n",
       "    <tr>\n",
       "      <th>862664ca7ffffff</th>\n",
       "      <td>298214</td>\n",
       "    </tr>\n",
       "    <tr>\n",
       "      <th>862664d8fffffff</th>\n",
       "      <td>425809</td>\n",
       "    </tr>\n",
       "    <tr>\n",
       "      <th>862664cafffffff</th>\n",
       "      <td>765438</td>\n",
       "    </tr>\n",
       "    <tr>\n",
       "      <th>862664c17ffffff</th>\n",
       "      <td>1951115</td>\n",
       "    </tr>\n",
       "    <tr>\n",
       "      <th>862664c1fffffff</th>\n",
       "      <td>5220199</td>\n",
       "    </tr>\n",
       "  </tbody>\n",
       "</table>\n",
       "</div>"
      ],
      "text/plain": [
       "                   Trip_Miles\n",
       "h3_hex_id_low_res            \n",
       "862664ca7ffffff        298214\n",
       "862664d8fffffff        425809\n",
       "862664cafffffff        765438\n",
       "862664c17ffffff       1951115\n",
       "862664c1fffffff       5220199"
      ]
     },
     "execution_count": 58,
     "metadata": {},
     "output_type": "execute_result"
    }
   ],
   "source": [
    "#How many rides start per district\n",
    "grouped = df[[\"h3_hex_id_low_res\", \"Trip_Miles\"]].groupby(\"h3_hex_id_low_res\").count().sort_values(by=\"Trip_Miles\").rename(columns={\"Trip_Miles\": \"Count\"})\n",
    "grouped.tail()"
   ]
  },
  {
   "cell_type": "code",
   "execution_count": null,
   "metadata": {},
   "outputs": [
    {
     "data": {
      "text/html": [
       "<div>\n",
       "<style scoped>\n",
       "    .dataframe tbody tr th:only-of-type {\n",
       "        vertical-align: middle;\n",
       "    }\n",
       "\n",
       "    .dataframe tbody tr th {\n",
       "        vertical-align: top;\n",
       "    }\n",
       "\n",
       "    .dataframe thead th {\n",
       "        text-align: right;\n",
       "    }\n",
       "</style>\n",
       "<table border=\"1\" class=\"dataframe\">\n",
       "  <thead>\n",
       "    <tr style=\"text-align: right;\">\n",
       "      <th></th>\n",
       "      <th>Trip_Miles</th>\n",
       "    </tr>\n",
       "    <tr>\n",
       "      <th>h3_hex_id_low_res</th>\n",
       "      <th></th>\n",
       "    </tr>\n",
       "  </thead>\n",
       "  <tbody>\n",
       "    <tr>\n",
       "      <th>862664ca7ffffff</th>\n",
       "      <td>841351.16</td>\n",
       "    </tr>\n",
       "    <tr>\n",
       "      <th>862664d8fffffff</th>\n",
       "      <td>1235793.03</td>\n",
       "    </tr>\n",
       "    <tr>\n",
       "      <th>862664cafffffff</th>\n",
       "      <td>1807736.78</td>\n",
       "    </tr>\n",
       "    <tr>\n",
       "      <th>862664c17ffffff</th>\n",
       "      <td>4355317.81</td>\n",
       "    </tr>\n",
       "    <tr>\n",
       "      <th>862664c1fffffff</th>\n",
       "      <td>10184633.47</td>\n",
       "    </tr>\n",
       "  </tbody>\n",
       "</table>\n",
       "</div>"
      ],
      "text/plain": [
       "                    Trip_Miles\n",
       "h3_hex_id_low_res             \n",
       "862664ca7ffffff      841351.16\n",
       "862664d8fffffff     1235793.03\n",
       "862664cafffffff     1807736.78\n",
       "862664c17ffffff     4355317.81\n",
       "862664c1fffffff    10184633.47"
      ]
     },
     "execution_count": 59,
     "metadata": {},
     "output_type": "execute_result"
    }
   ],
   "source": [
    "#How many minutes start per district\n",
    "grouped = df[[\"h3_hex_id_low_res\", \"Trip_Miles\"]].groupby(\"h3_hex_id_low_res\").sum().sort_values(by=\"Trip_Miles\").rename(columns={\"Trip_Miles\": \"Sum\"})\n",
    "grouped.tail()"
   ]
  },
  {
   "cell_type": "code",
   "execution_count": null,
   "metadata": {},
   "outputs": [
    {
     "data": {
      "text/html": [
       "<div>\n",
       "<style scoped>\n",
       "    .dataframe tbody tr th:only-of-type {\n",
       "        vertical-align: middle;\n",
       "    }\n",
       "\n",
       "    .dataframe tbody tr th {\n",
       "        vertical-align: top;\n",
       "    }\n",
       "\n",
       "    .dataframe thead th {\n",
       "        text-align: right;\n",
       "    }\n",
       "</style>\n",
       "<table border=\"1\" class=\"dataframe\">\n",
       "  <thead>\n",
       "    <tr style=\"text-align: right;\">\n",
       "      <th></th>\n",
       "      <th>Trip_Miles</th>\n",
       "    </tr>\n",
       "    <tr>\n",
       "      <th>h3_hex_id_low_res</th>\n",
       "      <th></th>\n",
       "    </tr>\n",
       "  </thead>\n",
       "  <tbody>\n",
       "    <tr>\n",
       "      <th>86266452fffffff</th>\n",
       "      <td>4.573803</td>\n",
       "    </tr>\n",
       "    <tr>\n",
       "      <th>86266456fffffff</th>\n",
       "      <td>4.675000</td>\n",
       "    </tr>\n",
       "    <tr>\n",
       "      <th>862664d87ffffff</th>\n",
       "      <td>6.016000</td>\n",
       "    </tr>\n",
       "    <tr>\n",
       "      <th>862759347ffffff</th>\n",
       "      <td>7.327827</td>\n",
       "    </tr>\n",
       "    <tr>\n",
       "      <th>862664527ffffff</th>\n",
       "      <td>7.544964</td>\n",
       "    </tr>\n",
       "  </tbody>\n",
       "</table>\n",
       "</div>"
      ],
      "text/plain": [
       "                   Trip_Miles\n",
       "h3_hex_id_low_res            \n",
       "86266452fffffff      4.573803\n",
       "86266456fffffff      4.675000\n",
       "862664d87ffffff      6.016000\n",
       "862759347ffffff      7.327827\n",
       "862664527ffffff      7.544964"
      ]
     },
     "execution_count": 60,
     "metadata": {},
     "output_type": "execute_result"
    }
   ],
   "source": [
    "#How many minutes start on average per district\n",
    "grouped = df[[\"h3_hex_id_low_res\", \"Trip_Miles\"]].groupby(\"h3_hex_id_low_res\").mean().sort_values(by=\"Trip_Miles\").rename(columns={\"Trip_Miles\": \"Average\"})\n",
    "grouped.tail()"
   ]
  },
  {
   "cell_type": "code",
   "execution_count": null,
   "metadata": {},
   "outputs": [
    {
     "data": {
      "text/html": [
       "<div>\n",
       "<style scoped>\n",
       "    .dataframe tbody tr th:only-of-type {\n",
       "        vertical-align: middle;\n",
       "    }\n",
       "\n",
       "    .dataframe tbody tr th {\n",
       "        vertical-align: top;\n",
       "    }\n",
       "\n",
       "    .dataframe thead th {\n",
       "        text-align: right;\n",
       "    }\n",
       "</style>\n",
       "<table border=\"1\" class=\"dataframe\">\n",
       "  <thead>\n",
       "    <tr style=\"text-align: right;\">\n",
       "      <th></th>\n",
       "      <th>Trip_Miles</th>\n",
       "    </tr>\n",
       "    <tr>\n",
       "      <th>h3_hex_id_medium_res</th>\n",
       "      <th></th>\n",
       "    </tr>\n",
       "  </thead>\n",
       "  <tbody>\n",
       "    <tr>\n",
       "      <th>872664cacffffff</th>\n",
       "      <td>383544</td>\n",
       "    </tr>\n",
       "    <tr>\n",
       "      <th>872664c13ffffff</th>\n",
       "      <td>517422</td>\n",
       "    </tr>\n",
       "    <tr>\n",
       "      <th>872664c16ffffff</th>\n",
       "      <td>702683</td>\n",
       "    </tr>\n",
       "    <tr>\n",
       "      <th>872664c1affffff</th>\n",
       "      <td>1654640</td>\n",
       "    </tr>\n",
       "    <tr>\n",
       "      <th>872664c1effffff</th>\n",
       "      <td>3277479</td>\n",
       "    </tr>\n",
       "  </tbody>\n",
       "</table>\n",
       "</div>"
      ],
      "text/plain": [
       "                      Trip_Miles\n",
       "h3_hex_id_medium_res            \n",
       "872664cacffffff           383544\n",
       "872664c13ffffff           517422\n",
       "872664c16ffffff           702683\n",
       "872664c1affffff          1654640\n",
       "872664c1effffff          3277479"
      ]
     },
     "execution_count": 61,
     "metadata": {},
     "output_type": "execute_result"
    }
   ],
   "source": [
    "#How many rides start per district\n",
    "grouped = df[[\"h3_hex_id_medium_res\", \"Trip_Miles\"]].groupby(\"h3_hex_id_medium_res\").count().sort_values(by=\"Trip_Miles\").rename(columns={\"Trip_Miles\": \"Count\"})\n",
    "grouped.tail()"
   ]
  },
  {
   "cell_type": "code",
   "execution_count": null,
   "metadata": {},
   "outputs": [
    {
     "data": {
      "text/html": [
       "<div>\n",
       "<style scoped>\n",
       "    .dataframe tbody tr th:only-of-type {\n",
       "        vertical-align: middle;\n",
       "    }\n",
       "\n",
       "    .dataframe tbody tr th {\n",
       "        vertical-align: top;\n",
       "    }\n",
       "\n",
       "    .dataframe thead th {\n",
       "        text-align: right;\n",
       "    }\n",
       "</style>\n",
       "<table border=\"1\" class=\"dataframe\">\n",
       "  <thead>\n",
       "    <tr style=\"text-align: right;\">\n",
       "      <th></th>\n",
       "      <th>Trip_Miles</th>\n",
       "    </tr>\n",
       "    <tr>\n",
       "      <th>h3_hex_id_medium_res</th>\n",
       "      <th></th>\n",
       "    </tr>\n",
       "  </thead>\n",
       "  <tbody>\n",
       "    <tr>\n",
       "      <th>872664cacffffff</th>\n",
       "      <td>877021.45</td>\n",
       "    </tr>\n",
       "    <tr>\n",
       "      <th>872664c13ffffff</th>\n",
       "      <td>1066992.94</td>\n",
       "    </tr>\n",
       "    <tr>\n",
       "      <th>872664c16ffffff</th>\n",
       "      <td>1776840.40</td>\n",
       "    </tr>\n",
       "    <tr>\n",
       "      <th>872664c1affffff</th>\n",
       "      <td>3321996.97</td>\n",
       "    </tr>\n",
       "    <tr>\n",
       "      <th>872664c1effffff</th>\n",
       "      <td>6264143.47</td>\n",
       "    </tr>\n",
       "  </tbody>\n",
       "</table>\n",
       "</div>"
      ],
      "text/plain": [
       "                      Trip_Miles\n",
       "h3_hex_id_medium_res            \n",
       "872664cacffffff        877021.45\n",
       "872664c13ffffff       1066992.94\n",
       "872664c16ffffff       1776840.40\n",
       "872664c1affffff       3321996.97\n",
       "872664c1effffff       6264143.47"
      ]
     },
     "execution_count": 62,
     "metadata": {},
     "output_type": "execute_result"
    }
   ],
   "source": [
    "#How many minutes start per district\n",
    "grouped = df[[\"h3_hex_id_medium_res\", \"Trip_Miles\"]].groupby(\"h3_hex_id_medium_res\").sum().sort_values(by=\"Trip_Miles\").rename(columns={\"Trip_Miles\": \"Sum\"})\n",
    "grouped.tail()"
   ]
  },
  {
   "cell_type": "code",
   "execution_count": null,
   "metadata": {},
   "outputs": [
    {
     "data": {
      "text/html": [
       "<div>\n",
       "<style scoped>\n",
       "    .dataframe tbody tr th:only-of-type {\n",
       "        vertical-align: middle;\n",
       "    }\n",
       "\n",
       "    .dataframe tbody tr th {\n",
       "        vertical-align: top;\n",
       "    }\n",
       "\n",
       "    .dataframe thead th {\n",
       "        text-align: right;\n",
       "    }\n",
       "</style>\n",
       "<table border=\"1\" class=\"dataframe\">\n",
       "  <thead>\n",
       "    <tr style=\"text-align: right;\">\n",
       "      <th></th>\n",
       "      <th>Trip_Miles</th>\n",
       "    </tr>\n",
       "    <tr>\n",
       "      <th>h3_hex_id_medium_res</th>\n",
       "      <th></th>\n",
       "    </tr>\n",
       "  </thead>\n",
       "  <tbody>\n",
       "    <tr>\n",
       "      <th>872759343ffffff</th>\n",
       "      <td>7.782336</td>\n",
       "    </tr>\n",
       "    <tr>\n",
       "      <th>872664521ffffff</th>\n",
       "      <td>7.939956</td>\n",
       "    </tr>\n",
       "    <tr>\n",
       "      <th>872664c83ffffff</th>\n",
       "      <td>9.350000</td>\n",
       "    </tr>\n",
       "    <tr>\n",
       "      <th>872664c8bffffff</th>\n",
       "      <td>10.250000</td>\n",
       "    </tr>\n",
       "    <tr>\n",
       "      <th>872664cebffffff</th>\n",
       "      <td>11.433333</td>\n",
       "    </tr>\n",
       "  </tbody>\n",
       "</table>\n",
       "</div>"
      ],
      "text/plain": [
       "                      Trip_Miles\n",
       "h3_hex_id_medium_res            \n",
       "872759343ffffff         7.782336\n",
       "872664521ffffff         7.939956\n",
       "872664c83ffffff         9.350000\n",
       "872664c8bffffff        10.250000\n",
       "872664cebffffff        11.433333"
      ]
     },
     "execution_count": 63,
     "metadata": {},
     "output_type": "execute_result"
    }
   ],
   "source": [
    "#How many minutes start on average per district\n",
    "grouped = df[[\"h3_hex_id_medium_res\", \"Trip_Miles\"]].groupby(\"h3_hex_id_medium_res\").mean().sort_values(by=\"Trip_Miles\").rename(columns={\"Trip_Miles\": \"Average\"})\n",
    "grouped.tail()"
   ]
  },
  {
   "cell_type": "code",
   "execution_count": null,
   "metadata": {},
   "outputs": [
    {
     "data": {
      "text/html": [
       "<div>\n",
       "<style scoped>\n",
       "    .dataframe tbody tr th:only-of-type {\n",
       "        vertical-align: middle;\n",
       "    }\n",
       "\n",
       "    .dataframe tbody tr th {\n",
       "        vertical-align: top;\n",
       "    }\n",
       "\n",
       "    .dataframe thead th {\n",
       "        text-align: right;\n",
       "    }\n",
       "</style>\n",
       "<table border=\"1\" class=\"dataframe\">\n",
       "  <thead>\n",
       "    <tr style=\"text-align: right;\">\n",
       "      <th></th>\n",
       "      <th>Trip_Miles</th>\n",
       "    </tr>\n",
       "    <tr>\n",
       "      <th>h3_hex_id_high_res</th>\n",
       "      <th></th>\n",
       "    </tr>\n",
       "  </thead>\n",
       "  <tbody>\n",
       "    <tr>\n",
       "      <th>882664c163fffff</th>\n",
       "      <td>517108</td>\n",
       "    </tr>\n",
       "    <tr>\n",
       "      <th>882664c1e3fffff</th>\n",
       "      <td>726653</td>\n",
       "    </tr>\n",
       "    <tr>\n",
       "      <th>882664c1edfffff</th>\n",
       "      <td>749389</td>\n",
       "    </tr>\n",
       "    <tr>\n",
       "      <th>882664c1e1fffff</th>\n",
       "      <td>798286</td>\n",
       "    </tr>\n",
       "    <tr>\n",
       "      <th>882664c1a9fffff</th>\n",
       "      <td>1070522</td>\n",
       "    </tr>\n",
       "  </tbody>\n",
       "</table>\n",
       "</div>"
      ],
      "text/plain": [
       "                    Trip_Miles\n",
       "h3_hex_id_high_res            \n",
       "882664c163fffff         517108\n",
       "882664c1e3fffff         726653\n",
       "882664c1edfffff         749389\n",
       "882664c1e1fffff         798286\n",
       "882664c1a9fffff        1070522"
      ]
     },
     "execution_count": 64,
     "metadata": {},
     "output_type": "execute_result"
    }
   ],
   "source": [
    "#How many rides start per district\n",
    "grouped = df[[\"h3_hex_id_high_res\", \"Trip_Miles\"]].groupby(\"h3_hex_id_high_res\").count().sort_values(by=\"Trip_Miles\").rename(columns={\"Trip_Miles\": \"Count\"})\n",
    "grouped.tail()"
   ]
  },
  {
   "cell_type": "code",
   "execution_count": null,
   "metadata": {},
   "outputs": [
    {
     "data": {
      "text/html": [
       "<div>\n",
       "<style scoped>\n",
       "    .dataframe tbody tr th:only-of-type {\n",
       "        vertical-align: middle;\n",
       "    }\n",
       "\n",
       "    .dataframe tbody tr th {\n",
       "        vertical-align: top;\n",
       "    }\n",
       "\n",
       "    .dataframe thead th {\n",
       "        text-align: right;\n",
       "    }\n",
       "</style>\n",
       "<table border=\"1\" class=\"dataframe\">\n",
       "  <thead>\n",
       "    <tr style=\"text-align: right;\">\n",
       "      <th></th>\n",
       "      <th>Trip_Miles</th>\n",
       "    </tr>\n",
       "    <tr>\n",
       "      <th>h3_hex_id_high_res</th>\n",
       "      <th></th>\n",
       "    </tr>\n",
       "  </thead>\n",
       "  <tbody>\n",
       "    <tr>\n",
       "      <th>882664c1e3fffff</th>\n",
       "      <td>1264562.66</td>\n",
       "    </tr>\n",
       "    <tr>\n",
       "      <th>882664c163fffff</th>\n",
       "      <td>1290254.50</td>\n",
       "    </tr>\n",
       "    <tr>\n",
       "      <th>882664c1e1fffff</th>\n",
       "      <td>1357848.39</td>\n",
       "    </tr>\n",
       "    <tr>\n",
       "      <th>882664c1edfffff</th>\n",
       "      <td>1985703.86</td>\n",
       "    </tr>\n",
       "    <tr>\n",
       "      <th>882664c1a9fffff</th>\n",
       "      <td>2292197.85</td>\n",
       "    </tr>\n",
       "  </tbody>\n",
       "</table>\n",
       "</div>"
      ],
      "text/plain": [
       "                    Trip_Miles\n",
       "h3_hex_id_high_res            \n",
       "882664c1e3fffff     1264562.66\n",
       "882664c163fffff     1290254.50\n",
       "882664c1e1fffff     1357848.39\n",
       "882664c1edfffff     1985703.86\n",
       "882664c1a9fffff     2292197.85"
      ]
     },
     "execution_count": 65,
     "metadata": {},
     "output_type": "execute_result"
    }
   ],
   "source": [
    "#How many minutes start per district\n",
    "grouped = df[[\"h3_hex_id_high_res\", \"Trip_Miles\"]].groupby(\"h3_hex_id_high_res\").sum().sort_values(by=\"Trip_Miles\").rename(columns={\"Trip_Miles\": \"Sum\"})\n",
    "grouped.tail()"
   ]
  },
  {
   "cell_type": "code",
   "execution_count": null,
   "metadata": {},
   "outputs": [
    {
     "data": {
      "text/html": [
       "<div>\n",
       "<style scoped>\n",
       "    .dataframe tbody tr th:only-of-type {\n",
       "        vertical-align: middle;\n",
       "    }\n",
       "\n",
       "    .dataframe tbody tr th {\n",
       "        vertical-align: top;\n",
       "    }\n",
       "\n",
       "    .dataframe thead th {\n",
       "        text-align: right;\n",
       "    }\n",
       "</style>\n",
       "<table border=\"1\" class=\"dataframe\">\n",
       "  <thead>\n",
       "    <tr style=\"text-align: right;\">\n",
       "      <th></th>\n",
       "      <th>Trip_Miles</th>\n",
       "    </tr>\n",
       "    <tr>\n",
       "      <th>h3_hex_id_high_res</th>\n",
       "      <th></th>\n",
       "    </tr>\n",
       "  </thead>\n",
       "  <tbody>\n",
       "    <tr>\n",
       "      <th>882664cce1fffff</th>\n",
       "      <td>10.600000</td>\n",
       "    </tr>\n",
       "    <tr>\n",
       "      <th>88275936bbfffff</th>\n",
       "      <td>10.900000</td>\n",
       "    </tr>\n",
       "    <tr>\n",
       "      <th>882664ca25fffff</th>\n",
       "      <td>11.400000</td>\n",
       "    </tr>\n",
       "    <tr>\n",
       "      <th>882664ceb1fffff</th>\n",
       "      <td>11.433333</td>\n",
       "    </tr>\n",
       "    <tr>\n",
       "      <th>882664d8edfffff</th>\n",
       "      <td>12.700000</td>\n",
       "    </tr>\n",
       "  </tbody>\n",
       "</table>\n",
       "</div>"
      ],
      "text/plain": [
       "                    Trip_Miles\n",
       "h3_hex_id_high_res            \n",
       "882664cce1fffff      10.600000\n",
       "88275936bbfffff      10.900000\n",
       "882664ca25fffff      11.400000\n",
       "882664ceb1fffff      11.433333\n",
       "882664d8edfffff      12.700000"
      ]
     },
     "execution_count": 66,
     "metadata": {},
     "output_type": "execute_result"
    }
   ],
   "source": [
    "#How many minutes start on average per district\n",
    "grouped = df[[\"h3_hex_id_high_res\", \"Trip_Miles\"]].groupby(\"h3_hex_id_high_res\").mean().sort_values(by=\"Trip_Miles\").rename(columns={\"Trip_Miles\": \"Average\"})\n",
    "grouped.tail()"
   ]
  },
  {
   "cell_type": "markdown",
   "metadata": {},
   "source": [
    "### Different time bins"
   ]
  },
  {
   "cell_type": "markdown",
   "metadata": {},
   "source": []
  },
  {
   "cell_type": "markdown",
   "metadata": {},
   "source": []
  },
  {
   "cell_type": "markdown",
   "metadata": {},
   "source": []
  },
  {
   "cell_type": "code",
   "execution_count": null,
   "metadata": {},
   "outputs": [
    {
     "data": {
      "text/html": [
       "<div>\n",
       "<style scoped>\n",
       "    .dataframe tbody tr th:only-of-type {\n",
       "        vertical-align: middle;\n",
       "    }\n",
       "\n",
       "    .dataframe tbody tr th {\n",
       "        vertical-align: top;\n",
       "    }\n",
       "\n",
       "    .dataframe thead th {\n",
       "        text-align: right;\n",
       "    }\n",
       "</style>\n",
       "<table border=\"1\" class=\"dataframe\">\n",
       "  <thead>\n",
       "    <tr style=\"text-align: right;\">\n",
       "      <th></th>\n",
       "      <th>Average</th>\n",
       "    </tr>\n",
       "    <tr>\n",
       "      <th>dayOfWeek</th>\n",
       "      <th></th>\n",
       "    </tr>\n",
       "  </thead>\n",
       "  <tbody>\n",
       "    <tr>\n",
       "      <th>Sunday</th>\n",
       "      <td>10.675342</td>\n",
       "    </tr>\n",
       "    <tr>\n",
       "      <th>Wednesday</th>\n",
       "      <td>10.752214</td>\n",
       "    </tr>\n",
       "    <tr>\n",
       "      <th>Thursday</th>\n",
       "      <td>10.869998</td>\n",
       "    </tr>\n",
       "    <tr>\n",
       "      <th>Saturday</th>\n",
       "      <td>10.978194</td>\n",
       "    </tr>\n",
       "    <tr>\n",
       "      <th>Friday</th>\n",
       "      <td>11.175963</td>\n",
       "    </tr>\n",
       "  </tbody>\n",
       "</table>\n",
       "</div>"
      ],
      "text/plain": [
       "             Average\n",
       "dayOfWeek           \n",
       "Sunday     10.675342\n",
       "Wednesday  10.752214\n",
       "Thursday   10.869998\n",
       "Saturday   10.978194\n",
       "Friday     11.175963"
      ]
     },
     "metadata": {},
     "output_type": "display_data"
    }
   ],
   "source": [
    "#How many minutes start on average per district\n",
    "grouped = df[[\"dayOfWeek\", \"Trip_Minutes\"]].groupby(\"dayOfWeek\").mean().sort_values(by=\"Trip_Minutes\").rename(columns={\"Trip_Minutes\": \"Average\"})\n",
    "grouped.tail()"
   ]
  },
  {
   "cell_type": "markdown",
   "metadata": {},
   "source": [
    "#### Month bin size"
   ]
  },
  {
   "cell_type": "code",
   "execution_count": null,
   "metadata": {},
   "outputs": [
    {
     "data": {
      "text/plain": [
       "<Axes: xlabel='start_time_month', ylabel='Count'>"
      ]
     },
     "metadata": {},
     "output_type": "display_data"
    },
    {
     "data": {
      "image/png": "[encoded data removed]",
      "text/plain": [
       "<Figure size 640x480 with 1 Axes>"
      ]
     },
     "metadata": {},
     "output_type": "display_data"
    }
   ],
   "source": [
    "sns.histplot(df[\"start_time_month\"])"
   ]
  },
  {
   "cell_type": "code",
   "execution_count": null,
   "metadata": {},
   "outputs": [
    {
     "data": {
      "text/html": [
       "<div>\n",
       "<style scoped>\n",
       "    .dataframe tbody tr th:only-of-type {\n",
       "        vertical-align: middle;\n",
       "    }\n",
       "\n",
       "    .dataframe tbody tr th {\n",
       "        vertical-align: top;\n",
       "    }\n",
       "\n",
       "    .dataframe thead th {\n",
       "        text-align: right;\n",
       "    }\n",
       "</style>\n",
       "<table border=\"1\" class=\"dataframe\">\n",
       "  <thead>\n",
       "    <tr style=\"text-align: right;\">\n",
       "      <th></th>\n",
       "      <th>Count</th>\n",
       "    </tr>\n",
       "    <tr>\n",
       "      <th>start_time_month</th>\n",
       "      <th></th>\n",
       "    </tr>\n",
       "  </thead>\n",
       "  <tbody>\n",
       "    <tr>\n",
       "      <th>9</th>\n",
       "      <td>749200</td>\n",
       "    </tr>\n",
       "    <tr>\n",
       "      <th>8</th>\n",
       "      <td>782930</td>\n",
       "    </tr>\n",
       "    <tr>\n",
       "      <th>10</th>\n",
       "      <td>860663</td>\n",
       "    </tr>\n",
       "    <tr>\n",
       "      <th>11</th>\n",
       "      <td>908771</td>\n",
       "    </tr>\n",
       "    <tr>\n",
       "      <th>12</th>\n",
       "      <td>1046948</td>\n",
       "    </tr>\n",
       "  </tbody>\n",
       "</table>\n",
       "</div>"
      ],
      "text/plain": [
       "                    Count\n",
       "start_time_month         \n",
       "9                  749200\n",
       "8                  782930\n",
       "10                 860663\n",
       "11                 908771\n",
       "12                1046948"
      ]
     },
     "metadata": {},
     "output_type": "display_data"
    }
   ],
   "source": [
    "#How many rides start per district\n",
    "grouped = df[[\"start_time_month\", \"Trip_Minutes\"]].groupby(\"start_time_month\").count().sort_values(by=\"Trip_Minutes\").rename(columns={\"Trip_Minutes\": \"Count\"})\n",
    "grouped.tail()"
   ]
  },
  {
   "cell_type": "code",
   "execution_count": null,
   "metadata": {},
   "outputs": [
    {
     "data": {
      "text/html": [
       "<div>\n",
       "<style scoped>\n",
       "    .dataframe tbody tr th:only-of-type {\n",
       "        vertical-align: middle;\n",
       "    }\n",
       "\n",
       "    .dataframe tbody tr th {\n",
       "        vertical-align: top;\n",
       "    }\n",
       "\n",
       "    .dataframe thead th {\n",
       "        text-align: right;\n",
       "    }\n",
       "</style>\n",
       "<table border=\"1\" class=\"dataframe\">\n",
       "  <thead>\n",
       "    <tr style=\"text-align: right;\">\n",
       "      <th></th>\n",
       "      <th>Sum</th>\n",
       "    </tr>\n",
       "    <tr>\n",
       "      <th>start_time_month</th>\n",
       "      <th></th>\n",
       "    </tr>\n",
       "  </thead>\n",
       "  <tbody>\n",
       "    <tr>\n",
       "      <th>9</th>\n",
       "      <td>8303900.0</td>\n",
       "    </tr>\n",
       "    <tr>\n",
       "      <th>8</th>\n",
       "      <td>8637599.0</td>\n",
       "    </tr>\n",
       "    <tr>\n",
       "      <th>10</th>\n",
       "      <td>9521845.0</td>\n",
       "    </tr>\n",
       "    <tr>\n",
       "      <th>11</th>\n",
       "      <td>9889261.0</td>\n",
       "    </tr>\n",
       "    <tr>\n",
       "      <th>12</th>\n",
       "      <td>11572220.0</td>\n",
       "    </tr>\n",
       "  </tbody>\n",
       "</table>\n",
       "</div>"
      ],
      "text/plain": [
       "                         Sum\n",
       "start_time_month            \n",
       "9                  8303900.0\n",
       "8                  8637599.0\n",
       "10                 9521845.0\n",
       "11                 9889261.0\n",
       "12                11572220.0"
      ]
     },
     "metadata": {},
     "output_type": "display_data"
    }
   ],
   "source": [
    "#How many rides start per district\n",
    "grouped = df[[\"start_time_month\", \"Trip_Minutes\"]].groupby(\"start_time_month\").sum().sort_values(by=\"Trip_Minutes\").rename(columns={\"Trip_Minutes\": \"Sum\"})\n",
    "grouped.tail()"
   ]
  },
  {
   "cell_type": "code",
   "execution_count": null,
   "metadata": {},
   "outputs": [
    {
     "data": {
      "text/html": [
       "<div>\n",
       "<style scoped>\n",
       "    .dataframe tbody tr th:only-of-type {\n",
       "        vertical-align: middle;\n",
       "    }\n",
       "\n",
       "    .dataframe tbody tr th {\n",
       "        vertical-align: top;\n",
       "    }\n",
       "\n",
       "    .dataframe thead th {\n",
       "        text-align: right;\n",
       "    }\n",
       "</style>\n",
       "<table border=\"1\" class=\"dataframe\">\n",
       "  <thead>\n",
       "    <tr style=\"text-align: right;\">\n",
       "      <th></th>\n",
       "      <th>Average</th>\n",
       "    </tr>\n",
       "    <tr>\n",
       "      <th>start_time_month</th>\n",
       "      <th></th>\n",
       "    </tr>\n",
       "  </thead>\n",
       "  <tbody>\n",
       "    <tr>\n",
       "      <th>12</th>\n",
       "      <td>11.053290</td>\n",
       "    </tr>\n",
       "    <tr>\n",
       "      <th>10</th>\n",
       "      <td>11.063384</td>\n",
       "    </tr>\n",
       "    <tr>\n",
       "      <th>9</th>\n",
       "      <td>11.083689</td>\n",
       "    </tr>\n",
       "    <tr>\n",
       "      <th>6</th>\n",
       "      <td>11.141958</td>\n",
       "    </tr>\n",
       "    <tr>\n",
       "      <th>7</th>\n",
       "      <td>11.174886</td>\n",
       "    </tr>\n",
       "  </tbody>\n",
       "</table>\n",
       "</div>"
      ],
      "text/plain": [
       "                    Average\n",
       "start_time_month           \n",
       "12                11.053290\n",
       "10                11.063384\n",
       "9                 11.083689\n",
       "6                 11.141958\n",
       "7                 11.174886"
      ]
     },
     "metadata": {},
     "output_type": "display_data"
    }
   ],
   "source": [
    "#How many rides start per district\n",
    "grouped = df[[\"start_time_month\", \"Trip_Minutes\"]].groupby(\"start_time_month\").mean().sort_values(by=\"Trip_Minutes\").rename(columns={\"Trip_Minutes\": \"Average\"})\n",
    "grouped.tail()"
   ]
  },
  {
   "cell_type": "code",
   "execution_count": null,
   "metadata": {},
   "outputs": [],
   "source": []
  },
  {
   "cell_type": "markdown",
   "metadata": {},
   "source": []
  },
  {
   "cell_type": "markdown",
   "metadata": {},
   "source": []
  },
  {
   "cell_type": "markdown",
   "metadata": {},
   "source": [
    "Ab hier aber keine Info mehr über minutes "
   ]
  },
  {
   "cell_type": "code",
   "execution_count": null,
   "metadata": {},
   "outputs": [
    {
     "name": "stdout",
     "output_type": "stream",
     "text": [
      "<class 'pandas.core.frame.DataFrame'>\n",
      "RangeIndex: 162765 entries, 0 to 162764\n",
      "Data columns (total 18 columns):\n",
      " #   Column                Non-Null Count   Dtype  \n",
      "---  ------                --------------   -----  \n",
      " 0   date_start            162765 non-null  object \n",
      " 1   start_stamp           162765 non-null  int64  \n",
      " 2   h3_hex_id_medium_res  162765 non-null  object \n",
      " 3   numOfTaxis_area       162765 non-null  int64  \n",
      " 4   start_time_hourly     162765 non-null  int64  \n",
      " 5   dayOfWeek             162765 non-null  object \n",
      " 6   isHoliday             162765 non-null  bool   \n",
      " 7   isRushhour            162765 non-null  bool   \n",
      " 8   start_time_day        162765 non-null  int64  \n",
      " 9   start_time_week       162765 non-null  int64  \n",
      " 10  start_time_month      162765 non-null  int64  \n",
      " 11  pressure              162765 non-null  float64\n",
      " 12  humidity              162765 non-null  float64\n",
      " 13  wind_direction        162765 non-null  float64\n",
      " 14  wind_speed            162765 non-null  float64\n",
      " 15  description           162765 non-null  object \n",
      " 16  season                162765 non-null  object \n",
      " 17  temperature_celsius   162765 non-null  float64\n",
      "dtypes: bool(2), float64(5), int64(6), object(5)\n",
      "memory usage: 20.2+ MB\n"
     ]
    }
   ],
   "source": [
    "df_2h_bin = pd.read_csv(\"./data/datasets/df_2h_hexmed.csv\")\n",
    "df_2h_bin.info()"
   ]
  },
  {
   "cell_type": "code",
   "execution_count": null,
   "metadata": {},
   "outputs": [
    {
     "data": {
      "text/html": [
       "<div>\n",
       "<style scoped>\n",
       "    .dataframe tbody tr th:only-of-type {\n",
       "        vertical-align: middle;\n",
       "    }\n",
       "\n",
       "    .dataframe tbody tr th {\n",
       "        vertical-align: top;\n",
       "    }\n",
       "\n",
       "    .dataframe thead th {\n",
       "        text-align: right;\n",
       "    }\n",
       "</style>\n",
       "<table border=\"1\" class=\"dataframe\">\n",
       "  <thead>\n",
       "    <tr style=\"text-align: right;\">\n",
       "      <th></th>\n",
       "      <th>date_start</th>\n",
       "    </tr>\n",
       "    <tr>\n",
       "      <th>start_time_hourly</th>\n",
       "      <th></th>\n",
       "    </tr>\n",
       "  </thead>\n",
       "  <tbody>\n",
       "    <tr>\n",
       "      <th>12</th>\n",
       "      <td>12205</td>\n",
       "    </tr>\n",
       "    <tr>\n",
       "      <th>18</th>\n",
       "      <td>12230</td>\n",
       "    </tr>\n",
       "    <tr>\n",
       "      <th>10</th>\n",
       "      <td>12523</td>\n",
       "    </tr>\n",
       "    <tr>\n",
       "      <th>22</th>\n",
       "      <td>12559</td>\n",
       "    </tr>\n",
       "    <tr>\n",
       "      <th>20</th>\n",
       "      <td>12636</td>\n",
       "    </tr>\n",
       "  </tbody>\n",
       "</table>\n",
       "</div>"
      ],
      "text/plain": [
       "                   date_start\n",
       "start_time_hourly            \n",
       "12                      12205\n",
       "18                      12230\n",
       "10                      12523\n",
       "22                      12559\n",
       "20                      12636"
      ]
     },
     "metadata": {},
     "output_type": "display_data"
    }
   ],
   "source": [
    "#How many rides start per district\n",
    "grouped = df_2h_bin[[\"start_time_hourly\", \"date_start\"]].groupby(\"start_time_hourly\").count().sort_values(by=\"date_start\")\n",
    "grouped.tail()"
   ]
  },
  {
   "cell_type": "code",
   "execution_count": null,
   "metadata": {},
   "outputs": [
    {
     "ename": "KeyError",
     "evalue": "\"['Trip_Minutes'] not in index\"",
     "output_type": "error",
     "traceback": [
      "\u001b[1;31m---------------------------------------------------------------------------\u001b[0m\n",
      "\u001b[1;31mKeyError\u001b[0m                                  Traceback (most recent call last)\n",
      "Cell \u001b[1;32mIn[38], line 2\u001b[0m\n",
      "\u001b[0;32m      1\u001b[0m \u001b[39m#How many minutes start per district\u001b[39;00m\n",
      "\u001b[1;32m----> 2\u001b[0m grouped \u001b[39m=\u001b[39m df_2h_bin[[\u001b[39m\"\u001b[39;49m\u001b[39mstart_time_hourly\u001b[39;49m\u001b[39m\"\u001b[39;49m, \u001b[39m\"\u001b[39;49m\u001b[39mTrip_Minutes\u001b[39;49m\u001b[39m\"\u001b[39;49m]]\u001b[39m.\u001b[39mgroupby(\u001b[39m\"\u001b[39m\u001b[39mstart_time_hourly\u001b[39m\u001b[39m\"\u001b[39m)\u001b[39m.\u001b[39msum()\u001b[39m.\u001b[39msort_values(by\u001b[39m=\u001b[39m\u001b[39m\"\u001b[39m\u001b[39mTrip_Minutes\u001b[39m\u001b[39m\"\u001b[39m)\u001b[39m.\u001b[39mrename(columns\u001b[39m=\u001b[39m{\u001b[39m\"\u001b[39m\u001b[39mTrip_Minutes\u001b[39m\u001b[39m\"\u001b[39m: \u001b[39m\"\u001b[39m\u001b[39mSum\u001b[39m\u001b[39m\"\u001b[39m})\n",
      "\u001b[0;32m      3\u001b[0m grouped\u001b[39m.\u001b[39mtail()\n",
      "\n",
      "File \u001b[1;32mc:\\Users\\Fabi\\AppData\\Local\\Programs\\Python\\Python311\\Lib\\site-packages\\pandas\\core\\frame.py:3767\u001b[0m, in \u001b[0;36mDataFrame.__getitem__\u001b[1;34m(self, key)\u001b[0m\n",
      "\u001b[0;32m   3765\u001b[0m     \u001b[39mif\u001b[39;00m is_iterator(key):\n",
      "\u001b[0;32m   3766\u001b[0m         key \u001b[39m=\u001b[39m \u001b[39mlist\u001b[39m(key)\n",
      "\u001b[1;32m-> 3767\u001b[0m     indexer \u001b[39m=\u001b[39m \u001b[39mself\u001b[39;49m\u001b[39m.\u001b[39;49mcolumns\u001b[39m.\u001b[39;49m_get_indexer_strict(key, \u001b[39m\"\u001b[39;49m\u001b[39mcolumns\u001b[39;49m\u001b[39m\"\u001b[39;49m)[\u001b[39m1\u001b[39m]\n",
      "\u001b[0;32m   3769\u001b[0m \u001b[39m# take() does not accept boolean indexers\u001b[39;00m\n",
      "\u001b[0;32m   3770\u001b[0m \u001b[39mif\u001b[39;00m \u001b[39mgetattr\u001b[39m(indexer, \u001b[39m\"\u001b[39m\u001b[39mdtype\u001b[39m\u001b[39m\"\u001b[39m, \u001b[39mNone\u001b[39;00m) \u001b[39m==\u001b[39m \u001b[39mbool\u001b[39m:\n",
      "\n",
      "File \u001b[1;32mc:\\Users\\Fabi\\AppData\\Local\\Programs\\Python\\Python311\\Lib\\site-packages\\pandas\\core\\indexes\\base.py:5877\u001b[0m, in \u001b[0;36mIndex._get_indexer_strict\u001b[1;34m(self, key, axis_name)\u001b[0m\n",
      "\u001b[0;32m   5874\u001b[0m \u001b[39melse\u001b[39;00m:\n",
      "\u001b[0;32m   5875\u001b[0m     keyarr, indexer, new_indexer \u001b[39m=\u001b[39m \u001b[39mself\u001b[39m\u001b[39m.\u001b[39m_reindex_non_unique(keyarr)\n",
      "\u001b[1;32m-> 5877\u001b[0m \u001b[39mself\u001b[39;49m\u001b[39m.\u001b[39;49m_raise_if_missing(keyarr, indexer, axis_name)\n",
      "\u001b[0;32m   5879\u001b[0m keyarr \u001b[39m=\u001b[39m \u001b[39mself\u001b[39m\u001b[39m.\u001b[39mtake(indexer)\n",
      "\u001b[0;32m   5880\u001b[0m \u001b[39mif\u001b[39;00m \u001b[39misinstance\u001b[39m(key, Index):\n",
      "\u001b[0;32m   5881\u001b[0m     \u001b[39m# GH 42790 - Preserve name from an Index\u001b[39;00m\n",
      "\n",
      "File \u001b[1;32mc:\\Users\\Fabi\\AppData\\Local\\Programs\\Python\\Python311\\Lib\\site-packages\\pandas\\core\\indexes\\base.py:5941\u001b[0m, in \u001b[0;36mIndex._raise_if_missing\u001b[1;34m(self, key, indexer, axis_name)\u001b[0m\n",
      "\u001b[0;32m   5938\u001b[0m     \u001b[39mraise\u001b[39;00m \u001b[39mKeyError\u001b[39;00m(\u001b[39mf\u001b[39m\u001b[39m\"\u001b[39m\u001b[39mNone of [\u001b[39m\u001b[39m{\u001b[39;00mkey\u001b[39m}\u001b[39;00m\u001b[39m] are in the [\u001b[39m\u001b[39m{\u001b[39;00maxis_name\u001b[39m}\u001b[39;00m\u001b[39m]\u001b[39m\u001b[39m\"\u001b[39m)\n",
      "\u001b[0;32m   5940\u001b[0m not_found \u001b[39m=\u001b[39m \u001b[39mlist\u001b[39m(ensure_index(key)[missing_mask\u001b[39m.\u001b[39mnonzero()[\u001b[39m0\u001b[39m]]\u001b[39m.\u001b[39munique())\n",
      "\u001b[1;32m-> 5941\u001b[0m \u001b[39mraise\u001b[39;00m \u001b[39mKeyError\u001b[39;00m(\u001b[39mf\u001b[39m\u001b[39m\"\u001b[39m\u001b[39m{\u001b[39;00mnot_found\u001b[39m}\u001b[39;00m\u001b[39m not in index\u001b[39m\u001b[39m\"\u001b[39m)\n",
      "\n",
      "\u001b[1;31mKeyError\u001b[0m: \"['Trip_Minutes'] not in index\""
     ]
    }
   ],
   "source": [
    "#How many minutes start per district\n",
    "grouped = df_2h_bin[[\"start_time_hourly\", \"Trip_Minutes\"]].groupby(\"start_time_hourly\").sum().sort_values(by=\"Trip_Minutes\").rename(columns={\"Trip_Minutes\": \"Sum\"})\n",
    "grouped.tail()"
   ]
  },
  {
   "cell_type": "code",
   "execution_count": null,
   "metadata": {},
   "outputs": [
    {
     "data": {
      "text/html": [
       "<div>\n",
       "<style scoped>\n",
       "    .dataframe tbody tr th:only-of-type {\n",
       "        vertical-align: middle;\n",
       "    }\n",
       "\n",
       "    .dataframe tbody tr th {\n",
       "        vertical-align: top;\n",
       "    }\n",
       "\n",
       "    .dataframe thead th {\n",
       "        text-align: right;\n",
       "    }\n",
       "</style>\n",
       "<table border=\"1\" class=\"dataframe\">\n",
       "  <thead>\n",
       "    <tr style=\"text-align: right;\">\n",
       "      <th></th>\n",
       "      <th>Trip_Minutes</th>\n",
       "    </tr>\n",
       "    <tr>\n",
       "      <th>start_time_hourly</th>\n",
       "      <th></th>\n",
       "    </tr>\n",
       "  </thead>\n",
       "  <tbody>\n",
       "    <tr>\n",
       "      <th>9</th>\n",
       "      <td>11.153113</td>\n",
       "    </tr>\n",
       "    <tr>\n",
       "      <th>16</th>\n",
       "      <td>11.411572</td>\n",
       "    </tr>\n",
       "    <tr>\n",
       "      <th>19</th>\n",
       "      <td>11.618563</td>\n",
       "    </tr>\n",
       "    <tr>\n",
       "      <th>17</th>\n",
       "      <td>12.028749</td>\n",
       "    </tr>\n",
       "    <tr>\n",
       "      <th>18</th>\n",
       "      <td>12.289184</td>\n",
       "    </tr>\n",
       "  </tbody>\n",
       "</table>\n",
       "</div>"
      ],
      "text/plain": [
       "                   Trip_Minutes\n",
       "start_time_hourly              \n",
       "9                     11.153113\n",
       "16                    11.411572\n",
       "19                    11.618563\n",
       "17                    12.028749\n",
       "18                    12.289184"
      ]
     },
     "metadata": {},
     "output_type": "display_data"
    }
   ],
   "source": [
    "#How many minutes start on average per district\n",
    "grouped = df_2h_bin[[\"start_time_hourly\", \"Trip_Minutes\"]].groupby(\"start_time_hourly\").mean().sort_values(by=\"Trip_Minutes\").rename(columns={\"Trip_Minutes\": \"Average\"})\n",
    "grouped.tail()"
   ]
  }
 ],
 "metadata": {
  "kernelspec": {
   "display_name": "Python 3",
   "language": "python",
   "name": "python3"
  },
  "language_info": {
   "codemirror_mode": {
    "name": "ipython",
    "version": 3
   },
   "file_extension": ".py",
   "mimetype": "text/x-python",
   "name": "python",
   "nbconvert_exporter": "python",
   "pygments_lexer": "ipython3",
   "version": "3.11.4"
  },
  "orig_nbformat": 4
 },
 "nbformat": 4,
 "nbformat_minor": 2
}
