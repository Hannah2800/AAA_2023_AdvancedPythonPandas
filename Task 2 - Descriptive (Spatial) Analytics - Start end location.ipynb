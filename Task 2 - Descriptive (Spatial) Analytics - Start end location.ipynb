{
 "cells": [
  {
   "attachments": {},
   "cell_type": "markdown",
   "metadata": {},
   "source": [
    "# Descriptive (Spatial) Analytics\n",
    "\n",
    "Analyze taxi demand patterns for the relevant one-year period and \n",
    "city (please check carefully which year your team has been allocated). \n",
    "\n",
    "Specifically show how these\n",
    "patterns (start time, trip length, start and end location, price, average idle time between trips, and so \n",
    "on) for the given sample varies in different spatio-temporal resolution (i.e., census tract vs. varying\n",
    "hexagon diameter and/or temporal bin sizes). \n",
    "\n",
    "Give possible reasons for the observed patterns."
   ]
  },
  {
   "cell_type": "markdown",
   "metadata": {},
   "source": [
    "Notes:\n",
    "- Where do the most rides start/end in?\n",
    "- Which combinations of start -> end are most frequent?\n",
    "    - in which time periods \n",
    "\n",
    "- The Census Tract where the trip began. For privacy, this Census Tract is not shown for some trips. This column often will be blank for locations outside Chicago."
   ]
  },
  {
   "cell_type": "code",
   "execution_count": 20,
   "metadata": {},
   "outputs": [],
   "source": [
    "import pandas as pd\n",
    "import seaborn as sns\n",
    "import matplotlib.pyplot as plt\n",
    "import numpy as np\n",
    "\n",
    "import descriptive as desc"
   ]
  },
  {
   "cell_type": "code",
   "execution_count": 21,
   "metadata": {},
   "outputs": [
    {
     "name": "stdout",
     "output_type": "stream",
     "text": [
      "<class 'pandas.core.frame.DataFrame'>\n",
      "RangeIndex: 8974520 entries, 0 to 8974519\n",
      "Data columns (total 45 columns):\n",
      " #   Column                         Dtype  \n",
      "---  ------                         -----  \n",
      " 0   Trip_ID                        object \n",
      " 1   Taxi_ID                        object \n",
      " 2   Trip_Start_Timestamp           object \n",
      " 3   Trip_End_Timestamp             object \n",
      " 4   Trip_Seconds                   float64\n",
      " 5   Trip_Miles                     float64\n",
      " 6   Pickup_Census_Tract            float64\n",
      " 7   Dropoff_Census_Tract           float64\n",
      " 8   Pickup_Community_Area          float64\n",
      " 9   Dropoff_Community_Area         float64\n",
      " 10  Fare                           float64\n",
      " 11  Tips                           float64\n",
      " 12  Tolls                          float64\n",
      " 13  Extras                         float64\n",
      " 14  Payment_Type                   object \n",
      " 15  Pickup_Centroid_Latitude       float64\n",
      " 16  Pickup_Centroid_Longitude      float64\n",
      " 17  Pickup_Centroid_Location       object \n",
      " 18  Dropoff_Centroid_Latitude      float64\n",
      " 19  Dropoff_Centroid_Longitude     float64\n",
      " 20  Dropoff_Centroid__Location     object \n",
      " 21  Community_Areas                float64\n",
      " 22  Original_Trip_Start_Timestamp  object \n",
      " 23  Original_Trip_End_Timestamp    object \n",
      " 24  date_start                     object \n",
      " 25  dayOfWeek                      object \n",
      " 26  isHoliday                      bool   \n",
      " 27  season                         object \n",
      " 28  start_time_hourly              int64  \n",
      " 29  start_time_day                 int64  \n",
      " 30  start_time_week                int64  \n",
      " 31  start_time_month               int64  \n",
      " 32  isRushhour                     bool   \n",
      " 33  velocity_(miles/h)             float64\n",
      " 34  pressure                       float64\n",
      " 35  datetime                       object \n",
      " 36  humidity                       float64\n",
      " 37  temperature_celsius            float64\n",
      " 38  wind_direction                 float64\n",
      " 39  wind_speed                     float64\n",
      " 40  description                    object \n",
      " 41  h3_hex_id_high_res             object \n",
      " 42  h3_hex_id_medium_res           object \n",
      " 43  h3_hex_id_low_res              object \n",
      " 44  Trip_Minutes                   float64\n",
      "dtypes: bool(2), float64(22), int64(4), object(17)\n",
      "memory usage: 2.9+ GB\n"
     ]
    }
   ],
   "source": [
    "#import dataset\n",
    "df = pd.read_csv(\"./data/datasets/df_chicago.csv.zip\") ## df_chicago\n",
    "df[\"Trip_Minutes\"] = np.floor(df[\"Trip_Seconds\"] / 60)\n",
    "df.info()"
   ]
  },
  {
   "attachments": {},
   "cell_type": "markdown",
   "metadata": {},
   "source": [
    "## Start and end location"
   ]
  },
  {
   "attachments": {},
   "cell_type": "markdown",
   "metadata": {},
   "source": [
    "### Census tract"
   ]
  },
  {
   "cell_type": "code",
   "execution_count": 51,
   "metadata": {},
   "outputs": [
    {
     "data": {
      "text/html": [
       "<div>\n",
       "<style scoped>\n",
       "    .dataframe tbody tr th:only-of-type {\n",
       "        vertical-align: middle;\n",
       "    }\n",
       "\n",
       "    .dataframe tbody tr th {\n",
       "        vertical-align: top;\n",
       "    }\n",
       "\n",
       "    .dataframe thead th {\n",
       "        text-align: right;\n",
       "    }\n",
       "</style>\n",
       "<table border=\"1\" class=\"dataframe\">\n",
       "  <thead>\n",
       "    <tr style=\"text-align: right;\">\n",
       "      <th></th>\n",
       "      <th>Trip_ID</th>\n",
       "      <th>Taxi_ID</th>\n",
       "      <th>Trip_Start_Timestamp</th>\n",
       "      <th>Trip_End_Timestamp</th>\n",
       "      <th>Trip_Seconds</th>\n",
       "      <th>Trip_Miles</th>\n",
       "      <th>Pickup_Census_Tract</th>\n",
       "      <th>Dropoff_Census_Tract</th>\n",
       "      <th>Pickup_Community_Area</th>\n",
       "      <th>Dropoff_Community_Area</th>\n",
       "      <th>...</th>\n",
       "      <th>humidity</th>\n",
       "      <th>temperature_celsius</th>\n",
       "      <th>wind_direction</th>\n",
       "      <th>wind_speed</th>\n",
       "      <th>description</th>\n",
       "      <th>h3_hex_id_high_res</th>\n",
       "      <th>h3_hex_id_medium_res</th>\n",
       "      <th>h3_hex_id_low_res</th>\n",
       "      <th>Trip_Minutes</th>\n",
       "      <th>Pickup_C-&gt;Dropoff_C</th>\n",
       "    </tr>\n",
       "  </thead>\n",
       "  <tbody>\n",
       "    <tr>\n",
       "      <th>0</th>\n",
       "      <td>27ad87f629bf14fa3cb894daad514cdad4736f9c</td>\n",
       "      <td>4b38941e0745acdeefe630832a438a59fdaac78640f68a...</td>\n",
       "      <td>2013-01-01 00:00:00</td>\n",
       "      <td>2013-01-01 00:00:00</td>\n",
       "      <td>900.0</td>\n",
       "      <td>2.7</td>\n",
       "      <td>NaN</td>\n",
       "      <td>NaN</td>\n",
       "      <td>28.0</td>\n",
       "      <td>8.0</td>\n",
       "      <td>...</td>\n",
       "      <td>64.0</td>\n",
       "      <td>-0.19</td>\n",
       "      <td>200.0</td>\n",
       "      <td>4.0</td>\n",
       "      <td>overcast clouds</td>\n",
       "      <td>882664ca91fffff</td>\n",
       "      <td>872664ca9ffffff</td>\n",
       "      <td>862664cafffffff</td>\n",
       "      <td>15.0</td>\n",
       "      <td>nan-&gt;nan</td>\n",
       "    </tr>\n",
       "    <tr>\n",
       "      <th>1</th>\n",
       "      <td>9a9d9902dfa267b88400a22a2c9f0cf74384b372</td>\n",
       "      <td>1a1189d1e9f4f676bbeaf49903912684b94453576a234f...</td>\n",
       "      <td>2013-01-01 00:00:00</td>\n",
       "      <td>2013-01-01 00:00:00</td>\n",
       "      <td>240.0</td>\n",
       "      <td>0.4</td>\n",
       "      <td>1.703107e+10</td>\n",
       "      <td>1.703107e+10</td>\n",
       "      <td>7.0</td>\n",
       "      <td>7.0</td>\n",
       "      <td>...</td>\n",
       "      <td>64.0</td>\n",
       "      <td>-0.19</td>\n",
       "      <td>200.0</td>\n",
       "      <td>4.0</td>\n",
       "      <td>overcast clouds</td>\n",
       "      <td>882664c12bfffff</td>\n",
       "      <td>872664c12ffffff</td>\n",
       "      <td>862664c17ffffff</td>\n",
       "      <td>4.0</td>\n",
       "      <td>17031070400.0-&gt;17031070300.0</td>\n",
       "    </tr>\n",
       "    <tr>\n",
       "      <th>2</th>\n",
       "      <td>5e07d8d10a2314fb71214c71ca3f19beab79652d</td>\n",
       "      <td>0826a2682f598bf0e39aa460479bc87757bd2fcb72c171...</td>\n",
       "      <td>2013-01-01 00:00:00</td>\n",
       "      <td>2013-01-01 00:00:00</td>\n",
       "      <td>1920.0</td>\n",
       "      <td>0.6</td>\n",
       "      <td>1.703122e+10</td>\n",
       "      <td>1.703104e+10</td>\n",
       "      <td>22.0</td>\n",
       "      <td>4.0</td>\n",
       "      <td>...</td>\n",
       "      <td>64.0</td>\n",
       "      <td>-0.19</td>\n",
       "      <td>200.0</td>\n",
       "      <td>4.0</td>\n",
       "      <td>overcast clouds</td>\n",
       "      <td>882664ca11fffff</td>\n",
       "      <td>872664ca1ffffff</td>\n",
       "      <td>862664ca7ffffff</td>\n",
       "      <td>32.0</td>\n",
       "      <td>17031221300.0-&gt;17031040600.0</td>\n",
       "    </tr>\n",
       "    <tr>\n",
       "      <th>3</th>\n",
       "      <td>6deda34a1a498737aaa64734fa2c09a0bf335f18</td>\n",
       "      <td>48c42d95f8331cbfbcab8a6d5299dbb654a041f3c2efff...</td>\n",
       "      <td>2013-01-01 00:00:00</td>\n",
       "      <td>2013-01-01 00:00:00</td>\n",
       "      <td>180.0</td>\n",
       "      <td>1.0</td>\n",
       "      <td>NaN</td>\n",
       "      <td>NaN</td>\n",
       "      <td>24.0</td>\n",
       "      <td>24.0</td>\n",
       "      <td>...</td>\n",
       "      <td>64.0</td>\n",
       "      <td>-0.19</td>\n",
       "      <td>200.0</td>\n",
       "      <td>4.0</td>\n",
       "      <td>overcast clouds</td>\n",
       "      <td>882664cac3fffff</td>\n",
       "      <td>872664cacffffff</td>\n",
       "      <td>862664cafffffff</td>\n",
       "      <td>3.0</td>\n",
       "      <td>nan-&gt;nan</td>\n",
       "    </tr>\n",
       "    <tr>\n",
       "      <th>4</th>\n",
       "      <td>faa2c909d0b88f3f54217135c6919a7fdd73a366</td>\n",
       "      <td>2e75c09511f6a1e2dee45f65888243ab9093f6c1558f10...</td>\n",
       "      <td>2013-01-01 00:00:00</td>\n",
       "      <td>2013-01-01 00:00:00</td>\n",
       "      <td>240.0</td>\n",
       "      <td>0.3</td>\n",
       "      <td>1.703128e+10</td>\n",
       "      <td>1.703132e+10</td>\n",
       "      <td>28.0</td>\n",
       "      <td>32.0</td>\n",
       "      <td>...</td>\n",
       "      <td>64.0</td>\n",
       "      <td>-0.19</td>\n",
       "      <td>200.0</td>\n",
       "      <td>4.0</td>\n",
       "      <td>overcast clouds</td>\n",
       "      <td>882664c1adfffff</td>\n",
       "      <td>872664c1affffff</td>\n",
       "      <td>862664c1fffffff</td>\n",
       "      <td>4.0</td>\n",
       "      <td>17031281900.0-&gt;17031320400.0</td>\n",
       "    </tr>\n",
       "  </tbody>\n",
       "</table>\n",
       "<p>5 rows × 46 columns</p>\n",
       "</div>"
      ],
      "text/plain": [
       "                                    Trip_ID  \\\n",
       "0  27ad87f629bf14fa3cb894daad514cdad4736f9c   \n",
       "1  9a9d9902dfa267b88400a22a2c9f0cf74384b372   \n",
       "2  5e07d8d10a2314fb71214c71ca3f19beab79652d   \n",
       "3  6deda34a1a498737aaa64734fa2c09a0bf335f18   \n",
       "4  faa2c909d0b88f3f54217135c6919a7fdd73a366   \n",
       "\n",
       "                                             Taxi_ID Trip_Start_Timestamp  \\\n",
       "0  4b38941e0745acdeefe630832a438a59fdaac78640f68a...  2013-01-01 00:00:00   \n",
       "1  1a1189d1e9f4f676bbeaf49903912684b94453576a234f...  2013-01-01 00:00:00   \n",
       "2  0826a2682f598bf0e39aa460479bc87757bd2fcb72c171...  2013-01-01 00:00:00   \n",
       "3  48c42d95f8331cbfbcab8a6d5299dbb654a041f3c2efff...  2013-01-01 00:00:00   \n",
       "4  2e75c09511f6a1e2dee45f65888243ab9093f6c1558f10...  2013-01-01 00:00:00   \n",
       "\n",
       "    Trip_End_Timestamp  Trip_Seconds  Trip_Miles  Pickup_Census_Tract  \\\n",
       "0  2013-01-01 00:00:00         900.0         2.7                  NaN   \n",
       "1  2013-01-01 00:00:00         240.0         0.4         1.703107e+10   \n",
       "2  2013-01-01 00:00:00        1920.0         0.6         1.703122e+10   \n",
       "3  2013-01-01 00:00:00         180.0         1.0                  NaN   \n",
       "4  2013-01-01 00:00:00         240.0         0.3         1.703128e+10   \n",
       "\n",
       "   Dropoff_Census_Tract  Pickup_Community_Area  Dropoff_Community_Area  ...  \\\n",
       "0                   NaN                   28.0                     8.0  ...   \n",
       "1          1.703107e+10                    7.0                     7.0  ...   \n",
       "2          1.703104e+10                   22.0                     4.0  ...   \n",
       "3                   NaN                   24.0                    24.0  ...   \n",
       "4          1.703132e+10                   28.0                    32.0  ...   \n",
       "\n",
       "   humidity  temperature_celsius  wind_direction  wind_speed      description  \\\n",
       "0      64.0                -0.19           200.0         4.0  overcast clouds   \n",
       "1      64.0                -0.19           200.0         4.0  overcast clouds   \n",
       "2      64.0                -0.19           200.0         4.0  overcast clouds   \n",
       "3      64.0                -0.19           200.0         4.0  overcast clouds   \n",
       "4      64.0                -0.19           200.0         4.0  overcast clouds   \n",
       "\n",
       "   h3_hex_id_high_res  h3_hex_id_medium_res h3_hex_id_low_res  Trip_Minutes  \\\n",
       "0     882664ca91fffff       872664ca9ffffff   862664cafffffff          15.0   \n",
       "1     882664c12bfffff       872664c12ffffff   862664c17ffffff           4.0   \n",
       "2     882664ca11fffff       872664ca1ffffff   862664ca7ffffff          32.0   \n",
       "3     882664cac3fffff       872664cacffffff   862664cafffffff           3.0   \n",
       "4     882664c1adfffff       872664c1affffff   862664c1fffffff           4.0   \n",
       "\n",
       "            Pickup_C->Dropoff_C  \n",
       "0                      nan->nan  \n",
       "1  17031070400.0->17031070300.0  \n",
       "2  17031221300.0->17031040600.0  \n",
       "3                      nan->nan  \n",
       "4  17031281900.0->17031320400.0  \n",
       "\n",
       "[5 rows x 46 columns]"
      ]
     },
     "execution_count": 51,
     "metadata": {},
     "output_type": "execute_result"
    }
   ],
   "source": [
    "df[\"Pickup_C->Dropoff_C\"] = df[\"Pickup_Census_Tract\"].astype(str)+\"->\"+df[\"Dropoff_Census_Tract\"].astype(str)"
   ]
  },
  {
   "cell_type": "code",
   "execution_count": 52,
   "metadata": {},
   "outputs": [
    {
     "data": {
      "text/html": [
       "<div>\n",
       "<style scoped>\n",
       "    .dataframe tbody tr th:only-of-type {\n",
       "        vertical-align: middle;\n",
       "    }\n",
       "\n",
       "    .dataframe tbody tr th {\n",
       "        vertical-align: top;\n",
       "    }\n",
       "\n",
       "    .dataframe thead th {\n",
       "        text-align: right;\n",
       "    }\n",
       "</style>\n",
       "<table border=\"1\" class=\"dataframe\">\n",
       "  <thead>\n",
       "    <tr style=\"text-align: right;\">\n",
       "      <th></th>\n",
       "      <th>Count</th>\n",
       "    </tr>\n",
       "    <tr>\n",
       "      <th>Pickup_Census_Tract</th>\n",
       "      <th></th>\n",
       "    </tr>\n",
       "  </thead>\n",
       "  <tbody>\n",
       "    <tr>\n",
       "      <th>1.703128e+10</th>\n",
       "      <td>280532</td>\n",
       "    </tr>\n",
       "    <tr>\n",
       "      <th>1.703108e+10</th>\n",
       "      <td>363559</td>\n",
       "    </tr>\n",
       "    <tr>\n",
       "      <th>1.703108e+10</th>\n",
       "      <td>382655</td>\n",
       "    </tr>\n",
       "    <tr>\n",
       "      <th>1.703132e+10</th>\n",
       "      <td>485983</td>\n",
       "    </tr>\n",
       "    <tr>\n",
       "      <th>1.703184e+10</th>\n",
       "      <td>814316</td>\n",
       "    </tr>\n",
       "  </tbody>\n",
       "</table>\n",
       "</div>"
      ],
      "text/plain": [
       "                      Count\n",
       "Pickup_Census_Tract        \n",
       "1.703128e+10         280532\n",
       "1.703108e+10         363559\n",
       "1.703108e+10         382655\n",
       "1.703132e+10         485983\n",
       "1.703184e+10         814316"
      ]
     },
     "execution_count": 52,
     "metadata": {},
     "output_type": "execute_result"
    }
   ],
   "source": [
    "#How many rides start per district\n",
    "grouped = df[[\"Pickup_Census_Tract\", \"Trip_Minutes\"]].groupby(\"Pickup_Census_Tract\").count().sort_values(by=\"Trip_Minutes\").rename(columns={\"Trip_Minutes\": \"Count\"})\n",
    "grouped.tail()"
   ]
  },
  {
   "cell_type": "code",
   "execution_count": 53,
   "metadata": {},
   "outputs": [
    {
     "data": {
      "text/html": [
       "<div>\n",
       "<style scoped>\n",
       "    .dataframe tbody tr th:only-of-type {\n",
       "        vertical-align: middle;\n",
       "    }\n",
       "\n",
       "    .dataframe tbody tr th {\n",
       "        vertical-align: top;\n",
       "    }\n",
       "\n",
       "    .dataframe thead th {\n",
       "        text-align: right;\n",
       "    }\n",
       "</style>\n",
       "<table border=\"1\" class=\"dataframe\">\n",
       "  <thead>\n",
       "    <tr style=\"text-align: right;\">\n",
       "      <th></th>\n",
       "      <th>Count</th>\n",
       "    </tr>\n",
       "    <tr>\n",
       "      <th>Dropoff_Census_Tract</th>\n",
       "      <th></th>\n",
       "    </tr>\n",
       "  </thead>\n",
       "  <tbody>\n",
       "    <tr>\n",
       "      <th>1.703128e+10</th>\n",
       "      <td>283616</td>\n",
       "    </tr>\n",
       "    <tr>\n",
       "      <th>1.703108e+10</th>\n",
       "      <td>286083</td>\n",
       "    </tr>\n",
       "    <tr>\n",
       "      <th>1.703108e+10</th>\n",
       "      <td>309481</td>\n",
       "    </tr>\n",
       "    <tr>\n",
       "      <th>1.703132e+10</th>\n",
       "      <td>410732</td>\n",
       "    </tr>\n",
       "    <tr>\n",
       "      <th>1.703184e+10</th>\n",
       "      <td>741576</td>\n",
       "    </tr>\n",
       "  </tbody>\n",
       "</table>\n",
       "</div>"
      ],
      "text/plain": [
       "                       Count\n",
       "Dropoff_Census_Tract        \n",
       "1.703128e+10          283616\n",
       "1.703108e+10          286083\n",
       "1.703108e+10          309481\n",
       "1.703132e+10          410732\n",
       "1.703184e+10          741576"
      ]
     },
     "execution_count": 53,
     "metadata": {},
     "output_type": "execute_result"
    }
   ],
   "source": [
    "#How many rides end per district\n",
    "grouped = df[[\"Dropoff_Census_Tract\", \"Trip_Minutes\"]].groupby(\"Dropoff_Census_Tract\").count().sort_values(by=\"Trip_Minutes\").rename(columns={\"Trip_Minutes\": \"Count\"})\n",
    "grouped.tail()"
   ]
  },
  {
   "cell_type": "code",
   "execution_count": 54,
   "metadata": {},
   "outputs": [
    {
     "data": {
      "text/html": [
       "<div>\n",
       "<style scoped>\n",
       "    .dataframe tbody tr th:only-of-type {\n",
       "        vertical-align: middle;\n",
       "    }\n",
       "\n",
       "    .dataframe tbody tr th {\n",
       "        vertical-align: top;\n",
       "    }\n",
       "\n",
       "    .dataframe thead th {\n",
       "        text-align: right;\n",
       "    }\n",
       "</style>\n",
       "<table border=\"1\" class=\"dataframe\">\n",
       "  <thead>\n",
       "    <tr style=\"text-align: right;\">\n",
       "      <th></th>\n",
       "      <th>Count</th>\n",
       "    </tr>\n",
       "    <tr>\n",
       "      <th>Pickup_C-&gt;Dropoff_C</th>\n",
       "      <th></th>\n",
       "    </tr>\n",
       "  </thead>\n",
       "  <tbody>\n",
       "    <tr>\n",
       "      <th>17031081500.0-&gt;17031839100.0</th>\n",
       "      <td>60865</td>\n",
       "    </tr>\n",
       "    <tr>\n",
       "      <th>17031839100.0-&gt;17031320100.0</th>\n",
       "      <td>61548</td>\n",
       "    </tr>\n",
       "    <tr>\n",
       "      <th>17031839100.0-&gt;17031839100.0</th>\n",
       "      <td>77024</td>\n",
       "    </tr>\n",
       "    <tr>\n",
       "      <th>17031320100.0-&gt;17031839100.0</th>\n",
       "      <td>77573</td>\n",
       "    </tr>\n",
       "    <tr>\n",
       "      <th>nan-&gt;nan</th>\n",
       "      <td>2621863</td>\n",
       "    </tr>\n",
       "  </tbody>\n",
       "</table>\n",
       "</div>"
      ],
      "text/plain": [
       "                                Count\n",
       "Pickup_C->Dropoff_C                  \n",
       "17031081500.0->17031839100.0    60865\n",
       "17031839100.0->17031320100.0    61548\n",
       "17031839100.0->17031839100.0    77024\n",
       "17031320100.0->17031839100.0    77573\n",
       "nan->nan                      2621863"
      ]
     },
     "execution_count": 54,
     "metadata": {},
     "output_type": "execute_result"
    }
   ],
   "source": [
    "#How many rides start per district\n",
    "grouped = df[[\"Pickup_C->Dropoff_C\", \"Trip_Minutes\"]].groupby(\"Pickup_C->Dropoff_C\").count().sort_values(by=\"Trip_Minutes\").rename(columns={\"Trip_Minutes\": \"Count\"})\n",
    "grouped.tail()"
   ]
  },
  {
   "attachments": {},
   "cell_type": "markdown",
   "metadata": {},
   "source": [
    "### Diff temporal bin sizes\n",
    "\n",
    "Hour, Day, Week, Month"
   ]
  },
  {
   "cell_type": "markdown",
   "metadata": {},
   "source": [
    "#### Hour bin size"
   ]
  },
  {
   "cell_type": "code",
   "execution_count": 55,
   "metadata": {},
   "outputs": [
    {
     "data": {
      "text/plain": [
       "<Axes: xlabel='start_time_hourly', ylabel='Count'>"
      ]
     },
     "execution_count": 55,
     "metadata": {},
     "output_type": "execute_result"
    },
    {
     "data": {
      "image/png": "[encoded data removed]",
      "text/plain": [
       "<Figure size 640x480 with 1 Axes>"
      ]
     },
     "metadata": {},
     "output_type": "display_data"
    }
   ],
   "source": [
    "sns.histplot(df[\"start_time_hourly\"])"
   ]
  },
  {
   "cell_type": "code",
   "execution_count": 56,
   "metadata": {},
   "outputs": [
    {
     "data": {
      "text/html": [
       "<div>\n",
       "<style scoped>\n",
       "    .dataframe tbody tr th:only-of-type {\n",
       "        vertical-align: middle;\n",
       "    }\n",
       "\n",
       "    .dataframe tbody tr th {\n",
       "        vertical-align: top;\n",
       "    }\n",
       "\n",
       "    .dataframe thead th {\n",
       "        text-align: right;\n",
       "    }\n",
       "</style>\n",
       "<table border=\"1\" class=\"dataframe\">\n",
       "  <thead>\n",
       "    <tr style=\"text-align: right;\">\n",
       "      <th></th>\n",
       "      <th></th>\n",
       "      <th>Count</th>\n",
       "    </tr>\n",
       "    <tr>\n",
       "      <th>Pickup_Census_Tract</th>\n",
       "      <th>start_time_hourly</th>\n",
       "      <th></th>\n",
       "    </tr>\n",
       "  </thead>\n",
       "  <tbody>\n",
       "    <tr>\n",
       "      <th rowspan=\"5\" valign=\"top\">1.703184e+10</th>\n",
       "      <th>16</th>\n",
       "      <td>59048</td>\n",
       "    </tr>\n",
       "    <tr>\n",
       "      <th>20</th>\n",
       "      <td>61118</td>\n",
       "    </tr>\n",
       "    <tr>\n",
       "      <th>17</th>\n",
       "      <td>69155</td>\n",
       "    </tr>\n",
       "    <tr>\n",
       "      <th>19</th>\n",
       "      <td>76536</td>\n",
       "    </tr>\n",
       "    <tr>\n",
       "      <th>18</th>\n",
       "      <td>77026</td>\n",
       "    </tr>\n",
       "  </tbody>\n",
       "</table>\n",
       "</div>"
      ],
      "text/plain": [
       "                                       Count\n",
       "Pickup_Census_Tract start_time_hourly       \n",
       "1.703184e+10        16                 59048\n",
       "                    20                 61118\n",
       "                    17                 69155\n",
       "                    19                 76536\n",
       "                    18                 77026"
      ]
     },
     "execution_count": 56,
     "metadata": {},
     "output_type": "execute_result"
    }
   ],
   "source": [
    "#How many rides start per district\n",
    "grouped = df[[\"Pickup_Census_Tract\", \"start_time_hourly\", \"Trip_Minutes\"]].groupby([\"Pickup_Census_Tract\", \"start_time_hourly\"]).count().sort_values(by=\"Trip_Minutes\").rename(columns={\"Trip_Minutes\": \"Count\"})\n",
    "grouped.tail()"
   ]
  },
  {
   "cell_type": "code",
   "execution_count": 57,
   "metadata": {},
   "outputs": [
    {
     "data": {
      "text/html": [
       "<div>\n",
       "<style scoped>\n",
       "    .dataframe tbody tr th:only-of-type {\n",
       "        vertical-align: middle;\n",
       "    }\n",
       "\n",
       "    .dataframe tbody tr th {\n",
       "        vertical-align: top;\n",
       "    }\n",
       "\n",
       "    .dataframe thead th {\n",
       "        text-align: right;\n",
       "    }\n",
       "</style>\n",
       "<table border=\"1\" class=\"dataframe\">\n",
       "  <thead>\n",
       "    <tr style=\"text-align: right;\">\n",
       "      <th></th>\n",
       "      <th></th>\n",
       "      <th>Count</th>\n",
       "    </tr>\n",
       "    <tr>\n",
       "      <th>Dropoff_Census_Tract</th>\n",
       "      <th>start_time_hourly</th>\n",
       "      <th></th>\n",
       "    </tr>\n",
       "  </thead>\n",
       "  <tbody>\n",
       "    <tr>\n",
       "      <th rowspan=\"5\" valign=\"top\">1.703184e+10</th>\n",
       "      <th>11</th>\n",
       "      <td>48422</td>\n",
       "    </tr>\n",
       "    <tr>\n",
       "      <th>13</th>\n",
       "      <td>50064</td>\n",
       "    </tr>\n",
       "    <tr>\n",
       "      <th>10</th>\n",
       "      <td>66452</td>\n",
       "    </tr>\n",
       "    <tr>\n",
       "      <th>8</th>\n",
       "      <td>81307</td>\n",
       "    </tr>\n",
       "    <tr>\n",
       "      <th>9</th>\n",
       "      <td>91961</td>\n",
       "    </tr>\n",
       "  </tbody>\n",
       "</table>\n",
       "</div>"
      ],
      "text/plain": [
       "                                        Count\n",
       "Dropoff_Census_Tract start_time_hourly       \n",
       "1.703184e+10         11                 48422\n",
       "                     13                 50064\n",
       "                     10                 66452\n",
       "                     8                  81307\n",
       "                     9                  91961"
      ]
     },
     "execution_count": 57,
     "metadata": {},
     "output_type": "execute_result"
    }
   ],
   "source": [
    "#How many rides end per district\n",
    "grouped = df[[\"Dropoff_Census_Tract\", \"start_time_hourly\", \"Trip_Minutes\"]].groupby([\"Dropoff_Census_Tract\", \"start_time_hourly\"]).count().sort_values(by=\"Trip_Minutes\").rename(columns={\"Trip_Minutes\": \"Count\"})\n",
    "grouped.tail()"
   ]
  },
  {
   "cell_type": "code",
   "execution_count": 58,
   "metadata": {},
   "outputs": [
    {
     "data": {
      "text/html": [
       "<div>\n",
       "<style scoped>\n",
       "    .dataframe tbody tr th:only-of-type {\n",
       "        vertical-align: middle;\n",
       "    }\n",
       "\n",
       "    .dataframe tbody tr th {\n",
       "        vertical-align: top;\n",
       "    }\n",
       "\n",
       "    .dataframe thead th {\n",
       "        text-align: right;\n",
       "    }\n",
       "</style>\n",
       "<table border=\"1\" class=\"dataframe\">\n",
       "  <thead>\n",
       "    <tr style=\"text-align: right;\">\n",
       "      <th></th>\n",
       "      <th></th>\n",
       "      <th>Count</th>\n",
       "    </tr>\n",
       "    <tr>\n",
       "      <th>Pickup_C-&gt;Dropoff_C</th>\n",
       "      <th>start_time_hourly</th>\n",
       "      <th></th>\n",
       "    </tr>\n",
       "  </thead>\n",
       "  <tbody>\n",
       "    <tr>\n",
       "      <th rowspan=\"5\" valign=\"top\">nan-&gt;nan</th>\n",
       "      <th>20</th>\n",
       "      <td>139997</td>\n",
       "    </tr>\n",
       "    <tr>\n",
       "      <th>21</th>\n",
       "      <td>142222</td>\n",
       "    </tr>\n",
       "    <tr>\n",
       "      <th>19</th>\n",
       "      <td>142648</td>\n",
       "    </tr>\n",
       "    <tr>\n",
       "      <th>23</th>\n",
       "      <td>143718</td>\n",
       "    </tr>\n",
       "    <tr>\n",
       "      <th>22</th>\n",
       "      <td>146346</td>\n",
       "    </tr>\n",
       "  </tbody>\n",
       "</table>\n",
       "</div>"
      ],
      "text/plain": [
       "                                        Count\n",
       "Pickup_C->Dropoff_C start_time_hourly        \n",
       "nan->nan            20                 139997\n",
       "                    21                 142222\n",
       "                    19                 142648\n",
       "                    23                 143718\n",
       "                    22                 146346"
      ]
     },
     "execution_count": 58,
     "metadata": {},
     "output_type": "execute_result"
    }
   ],
   "source": [
    "#How many rides start-end combination \n",
    "grouped = df[[\"Pickup_C->Dropoff_C\", \"start_time_hourly\", \"Trip_Minutes\"]].groupby([\"Pickup_C->Dropoff_C\", \"start_time_hourly\"]).count().sort_values(by=\"Trip_Minutes\").rename(columns={\"Trip_Minutes\": \"Count\"})\n",
    "grouped.tail()"
   ]
  },
  {
   "cell_type": "markdown",
   "metadata": {},
   "source": [
    "#### Day Bin size"
   ]
  },
  {
   "cell_type": "code",
   "execution_count": 79,
   "metadata": {},
   "outputs": [
    {
     "data": {
      "text/plain": [
       "<Axes: xlabel='Day_Ordered', ylabel='Count'>"
      ]
     },
     "execution_count": 79,
     "metadata": {},
     "output_type": "execute_result"
    },
    {
     "data": {
      "image/png": "[encoded data removed]",
      "text/plain": [
       "<Figure size 640x480 with 1 Axes>"
      ]
     },
     "metadata": {},
     "output_type": "display_data"
    }
   ],
   "source": [
    "#How many rides per day\n",
    "df['Day_Ordered'] = pd.Categorical(df['dayOfWeek'], [\"Monday\", \"Tuesday\", \"Wednesday\", \"Thursday\", \"Friday\", \"Saturday\", \"Sunday\"])\n",
    "sns.histplot(df[\"Day_Ordered\"])"
   ]
  },
  {
   "cell_type": "code",
   "execution_count": 60,
   "metadata": {},
   "outputs": [
    {
     "data": {
      "text/html": [
       "<div>\n",
       "<style scoped>\n",
       "    .dataframe tbody tr th:only-of-type {\n",
       "        vertical-align: middle;\n",
       "    }\n",
       "\n",
       "    .dataframe tbody tr th {\n",
       "        vertical-align: top;\n",
       "    }\n",
       "\n",
       "    .dataframe thead th {\n",
       "        text-align: right;\n",
       "    }\n",
       "</style>\n",
       "<table border=\"1\" class=\"dataframe\">\n",
       "  <thead>\n",
       "    <tr style=\"text-align: right;\">\n",
       "      <th></th>\n",
       "      <th>Count</th>\n",
       "    </tr>\n",
       "    <tr>\n",
       "      <th>dayOfWeek</th>\n",
       "      <th></th>\n",
       "    </tr>\n",
       "  </thead>\n",
       "  <tbody>\n",
       "    <tr>\n",
       "      <th>Wednesday</th>\n",
       "      <td>1131020</td>\n",
       "    </tr>\n",
       "    <tr>\n",
       "      <th>Thursday</th>\n",
       "      <td>1244321</td>\n",
       "    </tr>\n",
       "    <tr>\n",
       "      <th>Sunday</th>\n",
       "      <td>1258763</td>\n",
       "    </tr>\n",
       "    <tr>\n",
       "      <th>Friday</th>\n",
       "      <td>1522147</td>\n",
       "    </tr>\n",
       "    <tr>\n",
       "      <th>Saturday</th>\n",
       "      <td>1663204</td>\n",
       "    </tr>\n",
       "  </tbody>\n",
       "</table>\n",
       "</div>"
      ],
      "text/plain": [
       "             Count\n",
       "dayOfWeek         \n",
       "Wednesday  1131020\n",
       "Thursday   1244321\n",
       "Sunday     1258763\n",
       "Friday     1522147\n",
       "Saturday   1663204"
      ]
     },
     "execution_count": 60,
     "metadata": {},
     "output_type": "execute_result"
    }
   ],
   "source": [
    "#How many rides start per district\n",
    "grouped = df[[\"dayOfWeek\", \"Trip_Minutes\"]].groupby(\"dayOfWeek\").count().sort_values(by=\"Trip_Minutes\").rename(columns={\"Trip_Minutes\": \"Count\"})\n",
    "grouped.tail()"
   ]
  },
  {
   "cell_type": "code",
   "execution_count": 61,
   "metadata": {},
   "outputs": [
    {
     "data": {
      "text/html": [
       "<div>\n",
       "<style scoped>\n",
       "    .dataframe tbody tr th:only-of-type {\n",
       "        vertical-align: middle;\n",
       "    }\n",
       "\n",
       "    .dataframe tbody tr th {\n",
       "        vertical-align: top;\n",
       "    }\n",
       "\n",
       "    .dataframe thead th {\n",
       "        text-align: right;\n",
       "    }\n",
       "</style>\n",
       "<table border=\"1\" class=\"dataframe\">\n",
       "  <thead>\n",
       "    <tr style=\"text-align: right;\">\n",
       "      <th></th>\n",
       "      <th></th>\n",
       "      <th>Count</th>\n",
       "    </tr>\n",
       "    <tr>\n",
       "      <th>Pickup_Census_Tract</th>\n",
       "      <th>dayOfWeek</th>\n",
       "      <th></th>\n",
       "    </tr>\n",
       "  </thead>\n",
       "  <tbody>\n",
       "    <tr>\n",
       "      <th rowspan=\"5\" valign=\"top\">1.703184e+10</th>\n",
       "      <th>Monday</th>\n",
       "      <td>120791</td>\n",
       "    </tr>\n",
       "    <tr>\n",
       "      <th>Tuesday</th>\n",
       "      <td>144136</td>\n",
       "    </tr>\n",
       "    <tr>\n",
       "      <th>Wednesday</th>\n",
       "      <td>147758</td>\n",
       "    </tr>\n",
       "    <tr>\n",
       "      <th>Friday</th>\n",
       "      <td>148850</td>\n",
       "    </tr>\n",
       "    <tr>\n",
       "      <th>Thursday</th>\n",
       "      <td>151455</td>\n",
       "    </tr>\n",
       "  </tbody>\n",
       "</table>\n",
       "</div>"
      ],
      "text/plain": [
       "                                Count\n",
       "Pickup_Census_Tract dayOfWeek        \n",
       "1.703184e+10        Monday     120791\n",
       "                    Tuesday    144136\n",
       "                    Wednesday  147758\n",
       "                    Friday     148850\n",
       "                    Thursday   151455"
      ]
     },
     "execution_count": 61,
     "metadata": {},
     "output_type": "execute_result"
    }
   ],
   "source": [
    "#How many rides start per district\n",
    "grouped = df[[\"Pickup_Census_Tract\", \"dayOfWeek\", \"Trip_Minutes\"]].groupby([\"Pickup_Census_Tract\", \"dayOfWeek\"]).count().sort_values(by=\"Trip_Minutes\").rename(columns={\"Trip_Minutes\": \"Count\"})\n",
    "grouped.tail()"
   ]
  },
  {
   "cell_type": "code",
   "execution_count": 62,
   "metadata": {},
   "outputs": [
    {
     "data": {
      "text/html": [
       "<div>\n",
       "<style scoped>\n",
       "    .dataframe tbody tr th:only-of-type {\n",
       "        vertical-align: middle;\n",
       "    }\n",
       "\n",
       "    .dataframe tbody tr th {\n",
       "        vertical-align: top;\n",
       "    }\n",
       "\n",
       "    .dataframe thead th {\n",
       "        text-align: right;\n",
       "    }\n",
       "</style>\n",
       "<table border=\"1\" class=\"dataframe\">\n",
       "  <thead>\n",
       "    <tr style=\"text-align: right;\">\n",
       "      <th></th>\n",
       "      <th></th>\n",
       "      <th>Count</th>\n",
       "    </tr>\n",
       "    <tr>\n",
       "      <th>Dropoff_Census_Tract</th>\n",
       "      <th>dayOfWeek</th>\n",
       "      <th></th>\n",
       "    </tr>\n",
       "  </thead>\n",
       "  <tbody>\n",
       "    <tr>\n",
       "      <th rowspan=\"5\" valign=\"top\">1.703184e+10</th>\n",
       "      <th>Monday</th>\n",
       "      <td>110901</td>\n",
       "    </tr>\n",
       "    <tr>\n",
       "      <th>Tuesday</th>\n",
       "      <td>130366</td>\n",
       "    </tr>\n",
       "    <tr>\n",
       "      <th>Friday</th>\n",
       "      <td>133871</td>\n",
       "    </tr>\n",
       "    <tr>\n",
       "      <th>Wednesday</th>\n",
       "      <td>134280</td>\n",
       "    </tr>\n",
       "    <tr>\n",
       "      <th>Thursday</th>\n",
       "      <td>138618</td>\n",
       "    </tr>\n",
       "  </tbody>\n",
       "</table>\n",
       "</div>"
      ],
      "text/plain": [
       "                                 Count\n",
       "Dropoff_Census_Tract dayOfWeek        \n",
       "1.703184e+10         Monday     110901\n",
       "                     Tuesday    130366\n",
       "                     Friday     133871\n",
       "                     Wednesday  134280\n",
       "                     Thursday   138618"
      ]
     },
     "execution_count": 62,
     "metadata": {},
     "output_type": "execute_result"
    }
   ],
   "source": [
    "#How many rides end per district\n",
    "grouped = df[[\"Dropoff_Census_Tract\", \"dayOfWeek\", \"Trip_Minutes\"]].groupby([\"Dropoff_Census_Tract\", \"dayOfWeek\"]).count().sort_values(by=\"Trip_Minutes\").rename(columns={\"Trip_Minutes\": \"Count\"})\n",
    "grouped.tail()"
   ]
  },
  {
   "cell_type": "code",
   "execution_count": 63,
   "metadata": {},
   "outputs": [
    {
     "data": {
      "text/html": [
       "<div>\n",
       "<style scoped>\n",
       "    .dataframe tbody tr th:only-of-type {\n",
       "        vertical-align: middle;\n",
       "    }\n",
       "\n",
       "    .dataframe tbody tr th {\n",
       "        vertical-align: top;\n",
       "    }\n",
       "\n",
       "    .dataframe thead th {\n",
       "        text-align: right;\n",
       "    }\n",
       "</style>\n",
       "<table border=\"1\" class=\"dataframe\">\n",
       "  <thead>\n",
       "    <tr style=\"text-align: right;\">\n",
       "      <th></th>\n",
       "      <th></th>\n",
       "      <th>Count</th>\n",
       "    </tr>\n",
       "    <tr>\n",
       "      <th>Pickup_C-&gt;Dropoff_C</th>\n",
       "      <th>dayOfWeek</th>\n",
       "      <th></th>\n",
       "    </tr>\n",
       "  </thead>\n",
       "  <tbody>\n",
       "    <tr>\n",
       "      <th rowspan=\"5\" valign=\"top\">nan-&gt;nan</th>\n",
       "      <th>Monday</th>\n",
       "      <td>348756</td>\n",
       "    </tr>\n",
       "    <tr>\n",
       "      <th>Thursday</th>\n",
       "      <td>355218</td>\n",
       "    </tr>\n",
       "    <tr>\n",
       "      <th>Friday</th>\n",
       "      <td>400381</td>\n",
       "    </tr>\n",
       "    <tr>\n",
       "      <th>Sunday</th>\n",
       "      <td>412968</td>\n",
       "    </tr>\n",
       "    <tr>\n",
       "      <th>Saturday</th>\n",
       "      <td>434691</td>\n",
       "    </tr>\n",
       "  </tbody>\n",
       "</table>\n",
       "</div>"
      ],
      "text/plain": [
       "                                Count\n",
       "Pickup_C->Dropoff_C dayOfWeek        \n",
       "nan->nan            Monday     348756\n",
       "                    Thursday   355218\n",
       "                    Friday     400381\n",
       "                    Sunday     412968\n",
       "                    Saturday   434691"
      ]
     },
     "execution_count": 63,
     "metadata": {},
     "output_type": "execute_result"
    }
   ],
   "source": [
    "#How many rides start-end combination \n",
    "grouped = df[[\"Pickup_C->Dropoff_C\", \"dayOfWeek\", \"Trip_Minutes\"]].groupby([\"Pickup_C->Dropoff_C\", \"dayOfWeek\"]).count().sort_values(by=\"Trip_Minutes\").rename(columns={\"Trip_Minutes\": \"Count\"})\n",
    "grouped.tail()"
   ]
  },
  {
   "cell_type": "markdown",
   "metadata": {},
   "source": [
    "#### Week bin size"
   ]
  },
  {
   "cell_type": "code",
   "execution_count": 64,
   "metadata": {},
   "outputs": [
    {
     "data": {
      "text/plain": [
       "<Axes: xlabel='start_time_week', ylabel='Count'>"
      ]
     },
     "execution_count": 64,
     "metadata": {},
     "output_type": "execute_result"
    },
    {
     "data": {
      "image/png": "[encoded data removed]",
      "text/plain": [
       "<Figure size 640x480 with 1 Axes>"
      ]
     },
     "metadata": {},
     "output_type": "display_data"
    }
   ],
   "source": [
    "sns.histplot(df[\"start_time_week\"])"
   ]
  },
  {
   "cell_type": "code",
   "execution_count": 65,
   "metadata": {},
   "outputs": [
    {
     "data": {
      "text/html": [
       "<div>\n",
       "<style scoped>\n",
       "    .dataframe tbody tr th:only-of-type {\n",
       "        vertical-align: middle;\n",
       "    }\n",
       "\n",
       "    .dataframe tbody tr th {\n",
       "        vertical-align: top;\n",
       "    }\n",
       "\n",
       "    .dataframe thead th {\n",
       "        text-align: right;\n",
       "    }\n",
       "</style>\n",
       "<table border=\"1\" class=\"dataframe\">\n",
       "  <thead>\n",
       "    <tr style=\"text-align: right;\">\n",
       "      <th></th>\n",
       "      <th>Count</th>\n",
       "    </tr>\n",
       "    <tr>\n",
       "      <th>start_time_week</th>\n",
       "      <th></th>\n",
       "    </tr>\n",
       "  </thead>\n",
       "  <tbody>\n",
       "    <tr>\n",
       "      <th>46</th>\n",
       "      <td>219786</td>\n",
       "    </tr>\n",
       "    <tr>\n",
       "      <th>47</th>\n",
       "      <td>220916</td>\n",
       "    </tr>\n",
       "    <tr>\n",
       "      <th>49</th>\n",
       "      <td>249387</td>\n",
       "    </tr>\n",
       "    <tr>\n",
       "      <th>51</th>\n",
       "      <td>258418</td>\n",
       "    </tr>\n",
       "    <tr>\n",
       "      <th>50</th>\n",
       "      <td>270631</td>\n",
       "    </tr>\n",
       "  </tbody>\n",
       "</table>\n",
       "</div>"
      ],
      "text/plain": [
       "                  Count\n",
       "start_time_week        \n",
       "46               219786\n",
       "47               220916\n",
       "49               249387\n",
       "51               258418\n",
       "50               270631"
      ]
     },
     "execution_count": 65,
     "metadata": {},
     "output_type": "execute_result"
    }
   ],
   "source": [
    "#How many rides start per district\n",
    "grouped = df[[\"start_time_week\", \"Trip_Minutes\"]].groupby(\"start_time_week\").count().sort_values(by=\"Trip_Minutes\").rename(columns={\"Trip_Minutes\": \"Count\"})\n",
    "grouped.tail()"
   ]
  },
  {
   "cell_type": "code",
   "execution_count": 66,
   "metadata": {},
   "outputs": [
    {
     "data": {
      "text/html": [
       "<div>\n",
       "<style scoped>\n",
       "    .dataframe tbody tr th:only-of-type {\n",
       "        vertical-align: middle;\n",
       "    }\n",
       "\n",
       "    .dataframe tbody tr th {\n",
       "        vertical-align: top;\n",
       "    }\n",
       "\n",
       "    .dataframe thead th {\n",
       "        text-align: right;\n",
       "    }\n",
       "</style>\n",
       "<table border=\"1\" class=\"dataframe\">\n",
       "  <thead>\n",
       "    <tr style=\"text-align: right;\">\n",
       "      <th></th>\n",
       "      <th></th>\n",
       "      <th>Count</th>\n",
       "    </tr>\n",
       "    <tr>\n",
       "      <th>Pickup_Census_Tract</th>\n",
       "      <th>start_time_week</th>\n",
       "      <th></th>\n",
       "    </tr>\n",
       "  </thead>\n",
       "  <tbody>\n",
       "    <tr>\n",
       "      <th rowspan=\"5\" valign=\"top\">1.703184e+10</th>\n",
       "      <th>45</th>\n",
       "      <td>20749</td>\n",
       "    </tr>\n",
       "    <tr>\n",
       "      <th>47</th>\n",
       "      <td>21437</td>\n",
       "    </tr>\n",
       "    <tr>\n",
       "      <th>49</th>\n",
       "      <td>24100</td>\n",
       "    </tr>\n",
       "    <tr>\n",
       "      <th>50</th>\n",
       "      <td>26586</td>\n",
       "    </tr>\n",
       "    <tr>\n",
       "      <th>51</th>\n",
       "      <td>26867</td>\n",
       "    </tr>\n",
       "  </tbody>\n",
       "</table>\n",
       "</div>"
      ],
      "text/plain": [
       "                                     Count\n",
       "Pickup_Census_Tract start_time_week       \n",
       "1.703184e+10        45               20749\n",
       "                    47               21437\n",
       "                    49               24100\n",
       "                    50               26586\n",
       "                    51               26867"
      ]
     },
     "execution_count": 66,
     "metadata": {},
     "output_type": "execute_result"
    }
   ],
   "source": [
    "#How many rides start per district\n",
    "grouped = df[[\"Pickup_Census_Tract\", \"start_time_week\", \"Trip_Minutes\"]].groupby([\"Pickup_Census_Tract\", \"start_time_week\"]).count().sort_values(by=\"Trip_Minutes\").rename(columns={\"Trip_Minutes\": \"Count\"})\n",
    "grouped.tail()"
   ]
  },
  {
   "cell_type": "code",
   "execution_count": 67,
   "metadata": {},
   "outputs": [
    {
     "data": {
      "text/html": [
       "<div>\n",
       "<style scoped>\n",
       "    .dataframe tbody tr th:only-of-type {\n",
       "        vertical-align: middle;\n",
       "    }\n",
       "\n",
       "    .dataframe tbody tr th {\n",
       "        vertical-align: top;\n",
       "    }\n",
       "\n",
       "    .dataframe thead th {\n",
       "        text-align: right;\n",
       "    }\n",
       "</style>\n",
       "<table border=\"1\" class=\"dataframe\">\n",
       "  <thead>\n",
       "    <tr style=\"text-align: right;\">\n",
       "      <th></th>\n",
       "      <th></th>\n",
       "      <th>Count</th>\n",
       "    </tr>\n",
       "    <tr>\n",
       "      <th>Dropoff_Census_Tract</th>\n",
       "      <th>start_time_week</th>\n",
       "      <th></th>\n",
       "    </tr>\n",
       "  </thead>\n",
       "  <tbody>\n",
       "    <tr>\n",
       "      <th rowspan=\"5\" valign=\"top\">1.703184e+10</th>\n",
       "      <th>45</th>\n",
       "      <td>18478</td>\n",
       "    </tr>\n",
       "    <tr>\n",
       "      <th>47</th>\n",
       "      <td>19072</td>\n",
       "    </tr>\n",
       "    <tr>\n",
       "      <th>49</th>\n",
       "      <td>21622</td>\n",
       "    </tr>\n",
       "    <tr>\n",
       "      <th>51</th>\n",
       "      <td>24305</td>\n",
       "    </tr>\n",
       "    <tr>\n",
       "      <th>50</th>\n",
       "      <td>24814</td>\n",
       "    </tr>\n",
       "  </tbody>\n",
       "</table>\n",
       "</div>"
      ],
      "text/plain": [
       "                                      Count\n",
       "Dropoff_Census_Tract start_time_week       \n",
       "1.703184e+10         45               18478\n",
       "                     47               19072\n",
       "                     49               21622\n",
       "                     51               24305\n",
       "                     50               24814"
      ]
     },
     "execution_count": 67,
     "metadata": {},
     "output_type": "execute_result"
    }
   ],
   "source": [
    "#How many rides end per district\n",
    "grouped = df[[\"Dropoff_Census_Tract\", \"start_time_week\", \"Trip_Minutes\"]].groupby([\"Dropoff_Census_Tract\", \"start_time_week\"]).count().sort_values(by=\"Trip_Minutes\").rename(columns={\"Trip_Minutes\": \"Count\"})\n",
    "grouped.tail()"
   ]
  },
  {
   "cell_type": "code",
   "execution_count": 68,
   "metadata": {},
   "outputs": [
    {
     "data": {
      "text/html": [
       "<div>\n",
       "<style scoped>\n",
       "    .dataframe tbody tr th:only-of-type {\n",
       "        vertical-align: middle;\n",
       "    }\n",
       "\n",
       "    .dataframe tbody tr th {\n",
       "        vertical-align: top;\n",
       "    }\n",
       "\n",
       "    .dataframe thead th {\n",
       "        text-align: right;\n",
       "    }\n",
       "</style>\n",
       "<table border=\"1\" class=\"dataframe\">\n",
       "  <thead>\n",
       "    <tr style=\"text-align: right;\">\n",
       "      <th></th>\n",
       "      <th></th>\n",
       "      <th>Count</th>\n",
       "    </tr>\n",
       "    <tr>\n",
       "      <th>Pickup_C-&gt;Dropoff_C</th>\n",
       "      <th>start_time_week</th>\n",
       "      <th></th>\n",
       "    </tr>\n",
       "  </thead>\n",
       "  <tbody>\n",
       "    <tr>\n",
       "      <th rowspan=\"5\" valign=\"top\">nan-&gt;nan</th>\n",
       "      <th>52</th>\n",
       "      <td>58027</td>\n",
       "    </tr>\n",
       "    <tr>\n",
       "      <th>47</th>\n",
       "      <td>58341</td>\n",
       "    </tr>\n",
       "    <tr>\n",
       "      <th>49</th>\n",
       "      <td>59586</td>\n",
       "    </tr>\n",
       "    <tr>\n",
       "      <th>50</th>\n",
       "      <td>66400</td>\n",
       "    </tr>\n",
       "    <tr>\n",
       "      <th>51</th>\n",
       "      <td>67445</td>\n",
       "    </tr>\n",
       "  </tbody>\n",
       "</table>\n",
       "</div>"
      ],
      "text/plain": [
       "                                     Count\n",
       "Pickup_C->Dropoff_C start_time_week       \n",
       "nan->nan            52               58027\n",
       "                    47               58341\n",
       "                    49               59586\n",
       "                    50               66400\n",
       "                    51               67445"
      ]
     },
     "execution_count": 68,
     "metadata": {},
     "output_type": "execute_result"
    }
   ],
   "source": [
    "#How many rides start-end combination \n",
    "grouped = df[[\"Pickup_C->Dropoff_C\", \"start_time_week\", \"Trip_Minutes\"]].groupby([\"Pickup_C->Dropoff_C\", \"start_time_week\"]).count().sort_values(by=\"Trip_Minutes\").rename(columns={\"Trip_Minutes\": \"Count\"})\n",
    "grouped.tail()"
   ]
  },
  {
   "cell_type": "markdown",
   "metadata": {},
   "source": [
    "#### Month bin size"
   ]
  },
  {
   "cell_type": "code",
   "execution_count": 69,
   "metadata": {},
   "outputs": [
    {
     "data": {
      "text/plain": [
       "<Axes: xlabel='start_time_month', ylabel='Count'>"
      ]
     },
     "execution_count": 69,
     "metadata": {},
     "output_type": "execute_result"
    },
    {
     "data": {
      "image/png": "[encoded data removed]",
      "text/plain": [
       "<Figure size 640x480 with 1 Axes>"
      ]
     },
     "metadata": {},
     "output_type": "display_data"
    }
   ],
   "source": [
    "sns.histplot(df[\"start_time_month\"])"
   ]
  },
  {
   "cell_type": "code",
   "execution_count": 70,
   "metadata": {},
   "outputs": [
    {
     "data": {
      "text/html": [
       "<div>\n",
       "<style scoped>\n",
       "    .dataframe tbody tr th:only-of-type {\n",
       "        vertical-align: middle;\n",
       "    }\n",
       "\n",
       "    .dataframe tbody tr th {\n",
       "        vertical-align: top;\n",
       "    }\n",
       "\n",
       "    .dataframe thead th {\n",
       "        text-align: right;\n",
       "    }\n",
       "</style>\n",
       "<table border=\"1\" class=\"dataframe\">\n",
       "  <thead>\n",
       "    <tr style=\"text-align: right;\">\n",
       "      <th></th>\n",
       "      <th>Count</th>\n",
       "    </tr>\n",
       "    <tr>\n",
       "      <th>start_time_month</th>\n",
       "      <th></th>\n",
       "    </tr>\n",
       "  </thead>\n",
       "  <tbody>\n",
       "    <tr>\n",
       "      <th>9</th>\n",
       "      <td>749200</td>\n",
       "    </tr>\n",
       "    <tr>\n",
       "      <th>8</th>\n",
       "      <td>782930</td>\n",
       "    </tr>\n",
       "    <tr>\n",
       "      <th>10</th>\n",
       "      <td>860663</td>\n",
       "    </tr>\n",
       "    <tr>\n",
       "      <th>11</th>\n",
       "      <td>908771</td>\n",
       "    </tr>\n",
       "    <tr>\n",
       "      <th>12</th>\n",
       "      <td>1046948</td>\n",
       "    </tr>\n",
       "  </tbody>\n",
       "</table>\n",
       "</div>"
      ],
      "text/plain": [
       "                    Count\n",
       "start_time_month         \n",
       "9                  749200\n",
       "8                  782930\n",
       "10                 860663\n",
       "11                 908771\n",
       "12                1046948"
      ]
     },
     "execution_count": 70,
     "metadata": {},
     "output_type": "execute_result"
    }
   ],
   "source": [
    "#How many rides start per district\n",
    "grouped = df[[\"start_time_month\", \"Trip_Minutes\"]].groupby(\"start_time_month\").count().sort_values(by=\"Trip_Minutes\").rename(columns={\"Trip_Minutes\": \"Count\"})\n",
    "grouped.tail()"
   ]
  },
  {
   "cell_type": "code",
   "execution_count": 71,
   "metadata": {},
   "outputs": [
    {
     "data": {
      "text/html": [
       "<div>\n",
       "<style scoped>\n",
       "    .dataframe tbody tr th:only-of-type {\n",
       "        vertical-align: middle;\n",
       "    }\n",
       "\n",
       "    .dataframe tbody tr th {\n",
       "        vertical-align: top;\n",
       "    }\n",
       "\n",
       "    .dataframe thead th {\n",
       "        text-align: right;\n",
       "    }\n",
       "</style>\n",
       "<table border=\"1\" class=\"dataframe\">\n",
       "  <thead>\n",
       "    <tr style=\"text-align: right;\">\n",
       "      <th></th>\n",
       "      <th></th>\n",
       "      <th>Count</th>\n",
       "    </tr>\n",
       "    <tr>\n",
       "      <th>Pickup_Census_Tract</th>\n",
       "      <th>start_time_month</th>\n",
       "      <th></th>\n",
       "    </tr>\n",
       "  </thead>\n",
       "  <tbody>\n",
       "    <tr>\n",
       "      <th rowspan=\"5\" valign=\"top\">1.703184e+10</th>\n",
       "      <th>4</th>\n",
       "      <td>65421</td>\n",
       "    </tr>\n",
       "    <tr>\n",
       "      <th>8</th>\n",
       "      <td>67180</td>\n",
       "    </tr>\n",
       "    <tr>\n",
       "      <th>10</th>\n",
       "      <td>80476</td>\n",
       "    </tr>\n",
       "    <tr>\n",
       "      <th>11</th>\n",
       "      <td>81617</td>\n",
       "    </tr>\n",
       "    <tr>\n",
       "      <th>12</th>\n",
       "      <td>94886</td>\n",
       "    </tr>\n",
       "  </tbody>\n",
       "</table>\n",
       "</div>"
      ],
      "text/plain": [
       "                                      Count\n",
       "Pickup_Census_Tract start_time_month       \n",
       "1.703184e+10        4                 65421\n",
       "                    8                 67180\n",
       "                    10                80476\n",
       "                    11                81617\n",
       "                    12                94886"
      ]
     },
     "execution_count": 71,
     "metadata": {},
     "output_type": "execute_result"
    }
   ],
   "source": [
    "#How many rides start per district\n",
    "grouped = df[[\"Pickup_Census_Tract\", \"start_time_month\", \"Trip_Minutes\"]].groupby([\"Pickup_Census_Tract\", \"start_time_month\"]).count().sort_values(by=\"Trip_Minutes\").rename(columns={\"Trip_Minutes\": \"Count\"})\n",
    "grouped.tail()"
   ]
  },
  {
   "cell_type": "code",
   "execution_count": 72,
   "metadata": {},
   "outputs": [
    {
     "data": {
      "text/html": [
       "<div>\n",
       "<style scoped>\n",
       "    .dataframe tbody tr th:only-of-type {\n",
       "        vertical-align: middle;\n",
       "    }\n",
       "\n",
       "    .dataframe tbody tr th {\n",
       "        vertical-align: top;\n",
       "    }\n",
       "\n",
       "    .dataframe thead th {\n",
       "        text-align: right;\n",
       "    }\n",
       "</style>\n",
       "<table border=\"1\" class=\"dataframe\">\n",
       "  <thead>\n",
       "    <tr style=\"text-align: right;\">\n",
       "      <th></th>\n",
       "      <th></th>\n",
       "      <th>Count</th>\n",
       "    </tr>\n",
       "    <tr>\n",
       "      <th>Dropoff_Census_Tract</th>\n",
       "      <th>start_time_month</th>\n",
       "      <th></th>\n",
       "    </tr>\n",
       "  </thead>\n",
       "  <tbody>\n",
       "    <tr>\n",
       "      <th rowspan=\"5\" valign=\"top\">1.703184e+10</th>\n",
       "      <th>4</th>\n",
       "      <td>59705</td>\n",
       "    </tr>\n",
       "    <tr>\n",
       "      <th>8</th>\n",
       "      <td>62684</td>\n",
       "    </tr>\n",
       "    <tr>\n",
       "      <th>10</th>\n",
       "      <td>72750</td>\n",
       "    </tr>\n",
       "    <tr>\n",
       "      <th>11</th>\n",
       "      <td>72901</td>\n",
       "    </tr>\n",
       "    <tr>\n",
       "      <th>12</th>\n",
       "      <td>85985</td>\n",
       "    </tr>\n",
       "  </tbody>\n",
       "</table>\n",
       "</div>"
      ],
      "text/plain": [
       "                                       Count\n",
       "Dropoff_Census_Tract start_time_month       \n",
       "1.703184e+10         4                 59705\n",
       "                     8                 62684\n",
       "                     10                72750\n",
       "                     11                72901\n",
       "                     12                85985"
      ]
     },
     "execution_count": 72,
     "metadata": {},
     "output_type": "execute_result"
    }
   ],
   "source": [
    "#How many rides end per district\n",
    "grouped = df[[\"Dropoff_Census_Tract\", \"start_time_month\", \"Trip_Minutes\"]].groupby([\"Dropoff_Census_Tract\", \"start_time_month\"]).count().sort_values(by=\"Trip_Minutes\").rename(columns={\"Trip_Minutes\": \"Count\"})\n",
    "grouped.tail()"
   ]
  },
  {
   "cell_type": "code",
   "execution_count": 73,
   "metadata": {},
   "outputs": [
    {
     "data": {
      "text/html": [
       "<div>\n",
       "<style scoped>\n",
       "    .dataframe tbody tr th:only-of-type {\n",
       "        vertical-align: middle;\n",
       "    }\n",
       "\n",
       "    .dataframe tbody tr th {\n",
       "        vertical-align: top;\n",
       "    }\n",
       "\n",
       "    .dataframe thead th {\n",
       "        text-align: right;\n",
       "    }\n",
       "</style>\n",
       "<table border=\"1\" class=\"dataframe\">\n",
       "  <thead>\n",
       "    <tr style=\"text-align: right;\">\n",
       "      <th></th>\n",
       "      <th></th>\n",
       "      <th>Count</th>\n",
       "    </tr>\n",
       "    <tr>\n",
       "      <th>Pickup_C-&gt;Dropoff_C</th>\n",
       "      <th>start_time_month</th>\n",
       "      <th></th>\n",
       "    </tr>\n",
       "  </thead>\n",
       "  <tbody>\n",
       "    <tr>\n",
       "      <th rowspan=\"5\" valign=\"top\">nan-&gt;nan</th>\n",
       "      <th>9</th>\n",
       "      <td>215897</td>\n",
       "    </tr>\n",
       "    <tr>\n",
       "      <th>8</th>\n",
       "      <td>224334</td>\n",
       "    </tr>\n",
       "    <tr>\n",
       "      <th>10</th>\n",
       "      <td>235517</td>\n",
       "    </tr>\n",
       "    <tr>\n",
       "      <th>11</th>\n",
       "      <td>248637</td>\n",
       "    </tr>\n",
       "    <tr>\n",
       "      <th>12</th>\n",
       "      <td>278739</td>\n",
       "    </tr>\n",
       "  </tbody>\n",
       "</table>\n",
       "</div>"
      ],
      "text/plain": [
       "                                       Count\n",
       "Pickup_C->Dropoff_C start_time_month        \n",
       "nan->nan            9                 215897\n",
       "                    8                 224334\n",
       "                    10                235517\n",
       "                    11                248637\n",
       "                    12                278739"
      ]
     },
     "execution_count": 73,
     "metadata": {},
     "output_type": "execute_result"
    }
   ],
   "source": [
    "#How many rides start-end combination \n",
    "grouped = df[[\"Pickup_C->Dropoff_C\", \"start_time_month\", \"Trip_Minutes\"]].groupby([\"Pickup_C->Dropoff_C\", \"start_time_month\"]).count().sort_values(by=\"Trip_Minutes\").rename(columns={\"Trip_Minutes\": \"Count\"})\n",
    "grouped.tail()"
   ]
  },
  {
   "attachments": {},
   "cell_type": "markdown",
   "metadata": {},
   "source": [
    "## More features"
   ]
  },
  {
   "cell_type": "markdown",
   "metadata": {},
   "source": [
    "### Points of Interest"
   ]
  }
 ],
 "metadata": {
  "kernelspec": {
   "display_name": "Python 3",
   "language": "python",
   "name": "python3"
  },
  "language_info": {
   "codemirror_mode": {
    "name": "ipython",
    "version": 3
   },
   "file_extension": ".py",
   "mimetype": "text/x-python",
   "name": "python",
   "nbconvert_exporter": "python",
   "pygments_lexer": "ipython3",
   "version": "3.11.4"
  },
  "orig_nbformat": 4
 },
 "nbformat": 4,
 "nbformat_minor": 2
}
