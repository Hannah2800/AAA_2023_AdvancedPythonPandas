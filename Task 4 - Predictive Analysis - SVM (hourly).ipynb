{
 "cells": [
  {
   "cell_type": "code",
   "execution_count": 2,
   "id": "2ab5e5dd",
   "metadata": {},
   "outputs": [],
   "source": [
    "# import all necessary packages\n",
    "import pandas as pd\n",
    "import numpy as np\n",
    "import json\n",
    "import datetime\n",
    "import warnings\n",
    "from pandas.core.common import SettingWithCopyWarning\n",
    "\n",
    "#warnings.simplefilter(action=\"ignore\", category=SettingWithCopyWarning)\n",
    "#import seaborn as sns\n",
    "#import matplotlib as mlp\n",
    "import matplotlib.pyplot as plt\n",
    "#from datetime import datetime\n",
    "from sklearn.pipeline import Pipeline\n",
    "from sklearn.compose import ColumnTransformer\n",
    "from sklearn.preprocessing import OneHotEncoder, StandardScaler\n",
    "from sklearn.linear_model import LinearRegression\n",
    "from sklearn import metrics\n",
    "from sklearn.svm import SVR\n",
    "import math\n",
    "from sklearn import datasets\n",
    "from sklearn.metrics import mean_squared_error"
   ]
  },
  {
   "cell_type": "code",
   "execution_count": 3,
   "id": "69e6c3d2",
   "metadata": {
    "scrolled": false
   },
   "outputs": [],
   "source": [
    "# import datasets\n",
    "df_h_comar = pd.read_csv(\"data/datasets/df_h_comar.csv\")\n",
    "df_h_hexlow = pd.read_csv(\"data/datasets/df_h_hexlow.csv\")\n",
    "df_h_hexmed = pd.read_csv(\"data/datasets/df_h_hexmed.csv\")\n",
    "df_h_hexhig = pd.read_csv(\"data/datasets/df_h_hexhig.csv\")"
   ]
  },
  {
   "cell_type": "code",
   "execution_count": 8,
   "id": "7b2ec951",
   "metadata": {},
   "outputs": [],
   "source": [
    "df_h_comar.drop(columns = ['date_start'],inplace = True)\n",
    "df_h_hexlow.drop(columns = ['date_start'],inplace = True)\n",
    "df_h_hexmed.drop(columns = ['date_start'],inplace = True)\n",
    "df_h_hexhig.drop(columns = ['date_start'],inplace = True)"
   ]
  },
  {
   "cell_type": "code",
   "execution_count": 4,
   "id": "02f8c5fa",
   "metadata": {},
   "outputs": [],
   "source": [
    "# defining categorical and numeric features of dfPhiladelphia\n",
    "\n",
    "categoric = ['start_stamp', 'Pickup_Community_Area','dayOfWeek','start_time_month','start_time_day','start_time_week',\n",
    "             'isHoliday','description','isRushhour', 'season']\n",
    "numeric = ['temperature_celsius','wind_speed','wind_direction','humidity','pressure']\n"
   ]
  },
  {
   "cell_type": "code",
   "execution_count": 5,
   "id": "50e5d8a0",
   "metadata": {},
   "outputs": [],
   "source": [
    "# function for normalize numeric and encode categorical features and for create pipeline\n",
    "\n",
    "def pipeline_for_prediction(categoric, numeric, model):\n",
    "    \n",
    "    numeric_transformer = Pipeline(steps=[(\"standard_scaler\", StandardScaler())])\n",
    "    categorical_transformer = Pipeline(\n",
    "        steps=[(\"one_hot_encoder\", OneHotEncoder(handle_unknown=\"ignore\"))]\n",
    "    )\n",
    "    preprocessor = ColumnTransformer(\n",
    "        transformers=[\n",
    "            (\"numerical scaler\", numeric_transformer, numeric),\n",
    "            (\"one hot encoder\", categorical_transformer, categoric),\n",
    "        ]\n",
    "    )\n",
    "    pipeline = Pipeline(\n",
    "        steps=[(\"preprocessor\", preprocessor), (\"model\", model)]\n",
    "    )\n",
    "    return pipeline"
   ]
  },
  {
   "cell_type": "code",
   "execution_count": 6,
   "id": "96acf6c5",
   "metadata": {},
   "outputs": [],
   "source": [
    "# function for getting different scores for a model\n",
    "\n",
    "def get_prediction_scores(y_true, y_predicted):\n",
    "    print(\"MODEL SCORES:\")\n",
    "    print(f\"MAE: {metrics.mean_absolute_error(y_true, y_predicted): .3f}\")\n",
    "    print(f\"MSE: {metrics.mean_squared_error(y_true, y_predicted): .3f}\")\n",
    "    print(f\"RMSE: {math.sqrt(metrics.mean_squared_error(y_true, y_predicted)): .3f}\")\n",
    "    print(f\"Accuracy:\", round((1-(metrics.mean_absolute_error(y_true, y_predicted)/df_h_comar[\"numOfTaxis_area\"].mean()))*100,2), \"%\")\n",
    "    print(f\"R2: {100 * metrics.r2_score(y_true, y_predicted): .3f} %\")\n",
    "    print(f\"Max Residual Error: {metrics.max_error(y_true, y_predicted): .3f}\")"
   ]
  },
  {
   "cell_type": "code",
   "execution_count": 7,
   "id": "59566075",
   "metadata": {},
   "outputs": [],
   "source": [
    "# function for creating pipeline and fitting model (created by the pipeline), predict and printing scores\n",
    "\n",
    "def pipeline_fit_predict(reg, categoric, numeric, x_train, y_train, x_val, y_val):\n",
    "    pipeline = pipeline_for_prediction(categoric, numeric, reg)\n",
    "    pipeline.fit(x_train, y_train)\n",
    "    y_predict = pipeline.predict(x_val)\n",
    "    get_prediction_scores(y_val, y_predict)"
   ]
  },
  {
   "cell_type": "code",
   "execution_count": 8,
   "id": "2410088d",
   "metadata": {},
   "outputs": [],
   "source": [
    "from sklearn.model_selection import train_test_split\n",
    "\n",
    "#split the data set in 70% training set and 30% testing set\n",
    "#x_train, x_test, y_train, y_test = train_test_split(x_norm, y, test_size=0.3,random_state=42)\n",
    "x_train, x_test, y_train, y_test = train_test_split(df_h_comar.drop('numOfTaxis_area', axis=1)\n",
    "                                                    , df_h_comar['numOfTaxis_area'], \n",
    "                                                    test_size=0.3,random_state=42)\n",
    "\n",
    "# save the combination of training and validation set in extra variables\n",
    "x_train_val = x_train\n",
    "y_train_val = y_train\n",
    "\n",
    "#split the training data set in 70% training set and 20% validation set to achieve a 50-20-30 split\n",
    "x_train, x_val, y_train, y_val = train_test_split(x_train, y_train, test_size=(0.2/0.7), random_state = 42)"
   ]
  },
  {
   "cell_type": "code",
   "execution_count": null,
   "id": "56104cab",
   "metadata": {},
   "outputs": [],
   "source": []
  },
  {
   "cell_type": "markdown",
   "id": "5824ffb1",
   "metadata": {},
   "source": [
    "## Linear Regression (as Benchmark)"
   ]
  },
  {
   "cell_type": "code",
   "execution_count": 9,
   "id": "4260c0e5",
   "metadata": {},
   "outputs": [],
   "source": [
    "# creating the regression model\n",
    "\n",
    "lin_reg = LinearRegression()"
   ]
  },
  {
   "cell_type": "code",
   "execution_count": 10,
   "id": "a87e1faf",
   "metadata": {},
   "outputs": [
    {
     "name": "stdout",
     "output_type": "stream",
     "text": [
      "MODEL SCORES:\n",
      "MAE:  30.758\n",
      "MSE:  3904.656\n",
      "RMSE:  62.487\n",
      "Accuracy: 21.97 %\n",
      "R2:  62.137 %\n",
      "Max Residual Error:  1339.486\n"
     ]
    }
   ],
   "source": [
    "pipeline = pipeline_fit_predict(lin_reg, categoric, numeric, x_train_val, y_train_val, x_test, y_test)"
   ]
  },
  {
   "cell_type": "code",
   "execution_count": null,
   "id": "9a77c668",
   "metadata": {},
   "outputs": [],
   "source": []
  },
  {
   "cell_type": "code",
   "execution_count": null,
   "id": "96fed9a7",
   "metadata": {},
   "outputs": [],
   "source": []
  },
  {
   "cell_type": "markdown",
   "id": "106ee7e5",
   "metadata": {},
   "source": [
    "## Support Vector Machine"
   ]
  },
  {
   "cell_type": "markdown",
   "id": "f021d5f4",
   "metadata": {},
   "source": [
    "### Checking for the best kernel"
   ]
  },
  {
   "cell_type": "markdown",
   "id": "ba51e804",
   "metadata": {},
   "source": [
    "#### Kernel: linear"
   ]
  },
  {
   "cell_type": "code",
   "execution_count": 24,
   "id": "ec807ac1",
   "metadata": {},
   "outputs": [],
   "source": [
    "svr_lin = SVR(kernel = 'linear',verbose = 10,cache_size=15000, max_iter=50000)"
   ]
  },
  {
   "cell_type": "code",
   "execution_count": null,
   "id": "6093878d",
   "metadata": {},
   "outputs": [],
   "source": []
  },
  {
   "cell_type": "code",
   "execution_count": 12,
   "id": "4938d726",
   "metadata": {},
   "outputs": [
    {
     "name": "stdout",
     "output_type": "stream",
     "text": [
      "[LibSVM].................................................WARN: libsvm Solver reached max_iter\n",
      "optimization finished, #iter = 50000\n",
      "obj = -3363473.268517, rho = -11.201561\n",
      "nSV = 95981, nBSV = 95028\n"
     ]
    },
    {
     "name": "stderr",
     "output_type": "stream",
     "text": [
      "/opt/anaconda3/lib/python3.9/site-packages/sklearn/svm/_base.py:299: ConvergenceWarning: Solver terminated early (max_iter=50000).  Consider pre-processing your data with StandardScaler or MinMaxScaler.\n",
      "  warnings.warn(\n"
     ]
    },
    {
     "name": "stdout",
     "output_type": "stream",
     "text": [
      "MODEL SCORES:\n",
      "MAE:  23.337\n",
      "MSE:  4498.339\n",
      "RMSE:  67.070\n",
      "Accuracy: 40.8 %\n",
      "R2:  56.381 %\n",
      "Max Residual Error:  1446.159\n"
     ]
    }
   ],
   "source": [
    "pipeline = pipeline_fit_predict(svr_lin, categoric, numeric, x_train_val, y_train_val, x_test, y_test)"
   ]
  },
  {
   "cell_type": "markdown",
   "id": "41f345e3",
   "metadata": {},
   "source": [
    "#### Kernel: poly degree 2"
   ]
  },
  {
   "cell_type": "code",
   "execution_count": 18,
   "id": "4c2ff44d",
   "metadata": {},
   "outputs": [],
   "source": [
    "svr_poly2 = SVR(kernel = 'poly',degree = 2, verbose = 10,cache_size=15000, max_iter=50000)"
   ]
  },
  {
   "cell_type": "code",
   "execution_count": 19,
   "id": "8de7437a",
   "metadata": {},
   "outputs": [
    {
     "name": "stdout",
     "output_type": "stream",
     "text": [
      "[LibSVM].................................................WARN: libsvm Solver reached max_iter\n",
      "optimization finished, #iter = 50000\n",
      "obj = -4735355.356241, rho = -6.414818\n",
      "nSV = 99966, nBSV = 99966\n"
     ]
    },
    {
     "name": "stderr",
     "output_type": "stream",
     "text": [
      "/opt/anaconda3/lib/python3.9/site-packages/sklearn/svm/_base.py:299: ConvergenceWarning: Solver terminated early (max_iter=50000).  Consider pre-processing your data with StandardScaler or MinMaxScaler.\n",
      "  warnings.warn(\n"
     ]
    },
    {
     "name": "stdout",
     "output_type": "stream",
     "text": [
      "MODEL SCORES:\n",
      "MAE:  26.649\n",
      "MSE:  7286.713\n",
      "RMSE:  85.362\n",
      "Accuracy: 32.39 %\n",
      "R2:  29.343 %\n",
      "Max Residual Error:  1635.635\n"
     ]
    }
   ],
   "source": [
    "pipeline = pipeline_fit_predict(svr_poly, categoric, numeric, x_train_val, y_train_val, x_test, y_test)"
   ]
  },
  {
   "cell_type": "markdown",
   "id": "daba3fe2",
   "metadata": {},
   "source": [
    "#### Kernel: poly degree 3"
   ]
  },
  {
   "cell_type": "code",
   "execution_count": 13,
   "id": "cc73e48f",
   "metadata": {},
   "outputs": [],
   "source": [
    "svr_poly3 = SVR(kernel = 'poly',verbose = 10,cache_size=15000, max_iter=50000)"
   ]
  },
  {
   "cell_type": "code",
   "execution_count": 14,
   "id": "18bb26dc",
   "metadata": {},
   "outputs": [
    {
     "name": "stdout",
     "output_type": "stream",
     "text": [
      "[LibSVM].................................................WARN: libsvm Solver reached max_iter\n",
      "optimization finished, #iter = 50000\n",
      "obj = -5031586.430808, rho = 4.514757\n",
      "nSV = 99968, nBSV = 99968\n"
     ]
    },
    {
     "name": "stderr",
     "output_type": "stream",
     "text": [
      "/opt/anaconda3/lib/python3.9/site-packages/sklearn/svm/_base.py:299: ConvergenceWarning: Solver terminated early (max_iter=50000).  Consider pre-processing your data with StandardScaler or MinMaxScaler.\n",
      "  warnings.warn(\n"
     ]
    },
    {
     "name": "stdout",
     "output_type": "stream",
     "text": [
      "MODEL SCORES:\n",
      "MAE:  35.897\n",
      "MSE:  8870.264\n",
      "RMSE:  94.182\n",
      "Accuracy: 8.93 %\n",
      "R2:  13.987 %\n",
      "Max Residual Error:  1689.392\n"
     ]
    }
   ],
   "source": [
    "pipeline = pipeline_fit_predict(svr_poly3, categoric, numeric, x_train_val, y_train_val, x_test, y_test)"
   ]
  },
  {
   "cell_type": "markdown",
   "id": "46c78898",
   "metadata": {},
   "source": [
    "#### Kernel: rbf"
   ]
  },
  {
   "cell_type": "code",
   "execution_count": 16,
   "id": "9e3432ea",
   "metadata": {},
   "outputs": [],
   "source": [
    "svr_rbf = SVR(kernel = 'rbf',verbose = 10,cache_size=15000, max_iter=50000)"
   ]
  },
  {
   "cell_type": "code",
   "execution_count": 17,
   "id": "fee9dc37",
   "metadata": {},
   "outputs": [
    {
     "name": "stdout",
     "output_type": "stream",
     "text": [
      "[LibSVM].................................................WARN: libsvm Solver reached max_iter\n",
      "optimization finished, #iter = 50000\n",
      "obj = -4792854.643942, rho = -6.669636\n",
      "nSV = 99984, nBSV = 99984\n"
     ]
    },
    {
     "name": "stderr",
     "output_type": "stream",
     "text": [
      "/opt/anaconda3/lib/python3.9/site-packages/sklearn/svm/_base.py:299: ConvergenceWarning: Solver terminated early (max_iter=50000).  Consider pre-processing your data with StandardScaler or MinMaxScaler.\n",
      "  warnings.warn(\n"
     ]
    },
    {
     "name": "stdout",
     "output_type": "stream",
     "text": [
      "MODEL SCORES:\n",
      "MAE:  26.690\n",
      "MSE:  7261.736\n",
      "RMSE:  85.216\n",
      "Accuracy: 32.29 %\n",
      "R2:  29.585 %\n",
      "Max Residual Error:  1634.289\n"
     ]
    }
   ],
   "source": [
    "pipeline = pipeline_fit_predict(svr_rbf, categoric, numeric, x_train_val, y_train_val, x_test, y_test)"
   ]
  },
  {
   "cell_type": "code",
   "execution_count": null,
   "id": "0759d1f6",
   "metadata": {},
   "outputs": [],
   "source": []
  },
  {
   "cell_type": "code",
   "execution_count": null,
   "id": "0eabc7d4",
   "metadata": {},
   "outputs": [],
   "source": []
  },
  {
   "cell_type": "code",
   "execution_count": 9,
   "id": "061c1488",
   "metadata": {},
   "outputs": [],
   "source": [
    "# function for finding the best hyperparameter by using RandomizedSearchCV and RepeatedStratifiedKFold\n",
    "\"\"\"parameter:\n",
    "   - pipeline: used pipeline for grid search (the pipeline contains the model)\n",
    "   - x_val: data set (features) used for grid search\n",
    "   - y_val: data set (target value) used for grid search\n",
    "   - model_par: parameters for which the grid search is done\n",
    "   - score: used score measure \n",
    "   - n_iter: how often grid search will be done\n",
    "   - n_repeats: how often the data set is randomly splitted (by using the same random hyperparameter) in n_splits\n",
    "   - n_splits: number of splits in RepeatedStratifiedKFold\n",
    "   - verbose: getting information during the grid search\n",
    "\"\"\"\n",
    "\n",
    "\n",
    "from sklearn.model_selection import RandomizedSearchCV, RepeatedStratifiedKFold\n",
    "\n",
    "def find_best_hyperparameters(pipeline, x_val, y_val, model_par, score, n_iter = 50,  \n",
    "                                   n_repeats=3, n_splits=5, n_jobs=1, verbose=True): \n",
    "    \n",
    "    print(f\"Running grid search for the model based on {score}\")\n",
    "    grid_pipeline = RandomizedSearchCV(\n",
    "        estimator=pipeline,\n",
    "        param_distributions=model_par,\n",
    "        n_jobs=n_jobs,\n",
    "        n_iter=n_iter,\n",
    "        cv=RepeatedStratifiedKFold(n_splits=n_splits, n_repeats=n_repeats, random_state=42),\n",
    "        scoring=score,\n",
    "        random_state=42,\n",
    "        verbose=verbose,\n",
    "    )\n",
    "    grid_pipeline.fit(x_val, y_val)\n",
    "    print(f\"Best {score} Score was: {grid_pipeline.best_score_}\")\n",
    "    print(\"The best hyper parameters for the model are:\")\n",
    "    print(grid_pipeline.best_params_)"
   ]
  },
  {
   "cell_type": "code",
   "execution_count": 10,
   "id": "fb4bcae6",
   "metadata": {},
   "outputs": [],
   "source": [
    "# creating the ranges for model parameter to use in find_best_hyperparameters\n",
    "\n",
    "from scipy.stats import loguniform\n",
    "\n",
    "model_para = {'model__C':loguniform(1e-1, 1e2),        \n",
    "                'model__epsilon':loguniform(1e-1, 1e2)\n",
    "             }               "
   ]
  },
  {
   "cell_type": "code",
   "execution_count": 11,
   "id": "37f3abd8",
   "metadata": {},
   "outputs": [],
   "source": [
    "svr_lin = SVR(kernel = 'linear',cache_size=15000, max_iter=50000)"
   ]
  },
  {
   "cell_type": "code",
   "execution_count": 12,
   "id": "8c370ac4",
   "metadata": {},
   "outputs": [],
   "source": [
    "pipeline = pipeline_for_prediction(categoric, numeric, svr_lin)"
   ]
  },
  {
   "cell_type": "code",
   "execution_count": null,
   "id": "c9d802c2",
   "metadata": {
    "scrolled": true
   },
   "outputs": [
    {
     "name": "stdout",
     "output_type": "stream",
     "text": [
      "Running grid search for the model based on neg_mean_absolute_error\n",
      "Fitting 5 folds for each of 50 candidates, totalling 250 fits\n",
      "[CV 1/5; 1/50] START model__C=1.3292918943162162, model__epsilon=71.14476009343417\n"
     ]
    },
    {
     "name": "stderr",
     "output_type": "stream",
     "text": [
      "/opt/anaconda3/lib/python3.9/site-packages/sklearn/model_selection/_split.py:700: UserWarning: The least populated class in y has only 1 members, which is less than n_splits=5.\n",
      "  warnings.warn(\n"
     ]
    },
    {
     "name": "stdout",
     "output_type": "stream",
     "text": [
      "[CV 1/5; 1/50] END model__C=1.3292918943162162, model__epsilon=71.14476009343417;, score=-50.789 total time=  11.2s\n",
      "[CV 2/5; 1/50] START model__C=1.3292918943162162, model__epsilon=71.14476009343417\n",
      "[CV 2/5; 1/50] END model__C=1.3292918943162162, model__epsilon=71.14476009343417;, score=-50.442 total time=  11.2s\n",
      "[CV 3/5; 1/50] START model__C=1.3292918943162162, model__epsilon=71.14476009343417\n",
      "[CV 3/5; 1/50] END model__C=1.3292918943162162, model__epsilon=71.14476009343417;, score=-50.972 total time=  11.1s\n",
      "[CV 4/5; 1/50] START model__C=1.3292918943162162, model__epsilon=71.14476009343417\n",
      "[CV 4/5; 1/50] END model__C=1.3292918943162162, model__epsilon=71.14476009343417;, score=-50.549 total time=  11.2s\n",
      "[CV 5/5; 1/50] START model__C=1.3292918943162162, model__epsilon=71.14476009343417\n",
      "[CV 5/5; 1/50] END model__C=1.3292918943162162, model__epsilon=71.14476009343417;, score=-51.020 total time=  11.0s\n",
      "[CV 1/5; 2/50] START model__C=15.702970884055382, model__epsilon=6.251373574521747\n"
     ]
    },
    {
     "name": "stderr",
     "output_type": "stream",
     "text": [
      "/opt/anaconda3/lib/python3.9/site-packages/sklearn/svm/_base.py:299: ConvergenceWarning: Solver terminated early (max_iter=30000).  Consider pre-processing your data with StandardScaler or MinMaxScaler.\n",
      "  warnings.warn(\n"
     ]
    },
    {
     "name": "stdout",
     "output_type": "stream",
     "text": [
      "[CV 1/5; 2/50] END model__C=15.702970884055382, model__epsilon=6.251373574521747;, score=-23.971 total time=  56.8s\n",
      "[CV 2/5; 2/50] START model__C=15.702970884055382, model__epsilon=6.251373574521747\n"
     ]
    },
    {
     "name": "stderr",
     "output_type": "stream",
     "text": [
      "/opt/anaconda3/lib/python3.9/site-packages/sklearn/svm/_base.py:299: ConvergenceWarning: Solver terminated early (max_iter=30000).  Consider pre-processing your data with StandardScaler or MinMaxScaler.\n",
      "  warnings.warn(\n"
     ]
    },
    {
     "name": "stdout",
     "output_type": "stream",
     "text": [
      "[CV 2/5; 2/50] END model__C=15.702970884055382, model__epsilon=6.251373574521747;, score=-24.277 total time=  56.5s\n",
      "[CV 3/5; 2/50] START model__C=15.702970884055382, model__epsilon=6.251373574521747\n"
     ]
    },
    {
     "name": "stderr",
     "output_type": "stream",
     "text": [
      "/opt/anaconda3/lib/python3.9/site-packages/sklearn/svm/_base.py:299: ConvergenceWarning: Solver terminated early (max_iter=30000).  Consider pre-processing your data with StandardScaler or MinMaxScaler.\n",
      "  warnings.warn(\n"
     ]
    },
    {
     "name": "stdout",
     "output_type": "stream",
     "text": [
      "[CV 3/5; 2/50] END model__C=15.702970884055382, model__epsilon=6.251373574521747;, score=-24.119 total time=  56.6s\n",
      "[CV 4/5; 2/50] START model__C=15.702970884055382, model__epsilon=6.251373574521747\n"
     ]
    },
    {
     "name": "stderr",
     "output_type": "stream",
     "text": [
      "/opt/anaconda3/lib/python3.9/site-packages/sklearn/svm/_base.py:299: ConvergenceWarning: Solver terminated early (max_iter=30000).  Consider pre-processing your data with StandardScaler or MinMaxScaler.\n",
      "  warnings.warn(\n"
     ]
    },
    {
     "name": "stdout",
     "output_type": "stream",
     "text": [
      "[CV 4/5; 2/50] END model__C=15.702970884055382, model__epsilon=6.251373574521747;, score=-23.707 total time=  56.5s\n",
      "[CV 5/5; 2/50] START model__C=15.702970884055382, model__epsilon=6.251373574521747\n"
     ]
    },
    {
     "name": "stderr",
     "output_type": "stream",
     "text": [
      "/opt/anaconda3/lib/python3.9/site-packages/sklearn/svm/_base.py:299: ConvergenceWarning: Solver terminated early (max_iter=30000).  Consider pre-processing your data with StandardScaler or MinMaxScaler.\n",
      "  warnings.warn(\n"
     ]
    },
    {
     "name": "stdout",
     "output_type": "stream",
     "text": [
      "[CV 5/5; 2/50] END model__C=15.702970884055382, model__epsilon=6.251373574521747;, score=-24.450 total time=  56.9s\n",
      "[CV 1/5; 3/50] START model__C=0.2938027938703535, model__epsilon=0.29375384576328284\n"
     ]
    },
    {
     "name": "stderr",
     "output_type": "stream",
     "text": [
      "/opt/anaconda3/lib/python3.9/site-packages/sklearn/svm/_base.py:299: ConvergenceWarning: Solver terminated early (max_iter=30000).  Consider pre-processing your data with StandardScaler or MinMaxScaler.\n",
      "  warnings.warn(\n"
     ]
    },
    {
     "name": "stdout",
     "output_type": "stream",
     "text": [
      "[CV 1/5; 3/50] END model__C=0.2938027938703535, model__epsilon=0.29375384576328284;, score=-24.622 total time= 1.6min\n",
      "[CV 2/5; 3/50] START model__C=0.2938027938703535, model__epsilon=0.29375384576328284\n"
     ]
    },
    {
     "name": "stderr",
     "output_type": "stream",
     "text": [
      "/opt/anaconda3/lib/python3.9/site-packages/sklearn/svm/_base.py:299: ConvergenceWarning: Solver terminated early (max_iter=30000).  Consider pre-processing your data with StandardScaler or MinMaxScaler.\n",
      "  warnings.warn(\n"
     ]
    },
    {
     "name": "stdout",
     "output_type": "stream",
     "text": [
      "[CV 2/5; 3/50] END model__C=0.2938027938703535, model__epsilon=0.29375384576328284;, score=-25.112 total time= 1.6min\n",
      "[CV 3/5; 3/50] START model__C=0.2938027938703535, model__epsilon=0.29375384576328284\n"
     ]
    },
    {
     "name": "stderr",
     "output_type": "stream",
     "text": [
      "/opt/anaconda3/lib/python3.9/site-packages/sklearn/svm/_base.py:299: ConvergenceWarning: Solver terminated early (max_iter=30000).  Consider pre-processing your data with StandardScaler or MinMaxScaler.\n",
      "  warnings.warn(\n"
     ]
    },
    {
     "name": "stdout",
     "output_type": "stream",
     "text": [
      "[CV 3/5; 3/50] END model__C=0.2938027938703535, model__epsilon=0.29375384576328284;, score=-24.796 total time= 1.6min\n",
      "[CV 4/5; 3/50] START model__C=0.2938027938703535, model__epsilon=0.29375384576328284\n"
     ]
    }
   ],
   "source": [
    "find_best_hyperparameters(pipeline, x_val, y_val, model_para, score = 'neg_mean_absolute_error', verbose=10)"
   ]
  },
  {
   "cell_type": "code",
   "execution_count": null,
   "id": "ab5b40ac",
   "metadata": {},
   "outputs": [],
   "source": []
  }
 ],
 "metadata": {
  "kernelspec": {
   "display_name": "Python 3 (ipykernel)",
   "language": "python",
   "name": "python3"
  },
  "language_info": {
   "codemirror_mode": {
    "name": "ipython",
    "version": 3
   },
   "file_extension": ".py",
   "mimetype": "text/x-python",
   "name": "python",
   "nbconvert_exporter": "python",
   "pygments_lexer": "ipython3",
   "version": "3.9.12"
  }
 },
 "nbformat": 4,
 "nbformat_minor": 5
}
