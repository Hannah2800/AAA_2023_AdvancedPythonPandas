{
 "cells": [
  {
   "cell_type": "markdown",
   "id": "400e8ed4",
   "metadata": {},
   "source": [
    "# Support Vector Machine - Hourly Taxi Demand Prediction\n",
    "\n",
    "<hr style=\"border: 1px solid #8888;\">"
   ]
  },
  {
   "cell_type": "code",
   "execution_count": 6,
   "id": "2ab5e5dd",
   "metadata": {},
   "outputs": [],
   "source": [
    "# import all necessary packages\n",
    "import pandas as pd\n",
    "import numpy as np\n",
    "import json\n",
    "import datetime\n",
    "import warnings\n",
    "from pandas.core.common import SettingWithCopyWarning\n",
    "\n",
    "#warnings.simplefilter(action=\"ignore\", category=SettingWithCopyWarning)\n",
    "#import seaborn as sns\n",
    "#import matplotlib as mlp\n",
    "import matplotlib.pyplot as plt\n",
    "#from datetime import datetime\n",
    "from sklearn.pipeline import Pipeline\n",
    "from sklearn.compose import ColumnTransformer\n",
    "from sklearn.preprocessing import OneHotEncoder, StandardScaler\n",
    "from sklearn.linear_model import LinearRegression\n",
    "from sklearn import metrics\n",
    "from sklearn.svm import SVR\n",
    "import math\n",
    "from sklearn import datasets\n",
    "from sklearn.metrics import mean_squared_error\n",
    "from scipy.stats import loguniform"
   ]
  },
  {
   "cell_type": "code",
   "execution_count": 7,
   "id": "69e6c3d2",
   "metadata": {
    "scrolled": false
   },
   "outputs": [],
   "source": [
    "# import datasets\n",
    "df_h_comar = pd.read_csv(\"data/datasets/df_h_comar.csv\")\n",
    "df_h_hexlow = pd.read_csv(\"data/datasets/df_h_hexlow.csv\")\n",
    "df_h_hexmed = pd.read_csv(\"data/datasets/df_h_hexmed.csv\")\n",
    "df_h_hexhig = pd.read_csv(\"data/datasets/df_h_hexhig.csv\")"
   ]
  },
  {
   "cell_type": "code",
   "execution_count": 8,
   "id": "7b2ec951",
   "metadata": {},
   "outputs": [],
   "source": [
    "df_h_comar.drop(columns = ['date_start'],inplace = True)\n",
    "df_h_hexlow.drop(columns = ['date_start'],inplace = True)\n",
    "df_h_hexmed.drop(columns = ['date_start'],inplace = True)\n",
    "df_h_hexhig.drop(columns = ['date_start'],inplace = True)"
   ]
  },
  {
   "cell_type": "code",
   "execution_count": 9,
   "id": "02f8c5fa",
   "metadata": {},
   "outputs": [],
   "source": [
    "# defining categorical and numeric features of dfPhiladelphia\n",
    "\n",
    "categoric = ['start_stamp', 'Pickup_Community_Area','dayOfWeek','start_time_month','start_time_day','start_time_week',\n",
    "             'isHoliday','description','isRushhour', 'season']\n",
    "numeric = ['temperature_celsius','wind_speed','wind_direction','humidity','pressure']"
   ]
  },
  {
   "cell_type": "code",
   "execution_count": 10,
   "id": "50e5d8a0",
   "metadata": {},
   "outputs": [],
   "source": [
    "# function for normalize numeric and encode categorical features and for create pipeline\n",
    "\n",
    "def pipeline_for_prediction(categoric, numeric, model):\n",
    "    \n",
    "    numeric_transformer = Pipeline(steps=[(\"standard_scaler\", StandardScaler())])\n",
    "    categorical_transformer = Pipeline(\n",
    "        steps=[(\"one_hot_encoder\", OneHotEncoder(handle_unknown=\"ignore\"))]\n",
    "    )\n",
    "    preprocessor = ColumnTransformer(\n",
    "        transformers=[\n",
    "            (\"numerical scaler\", numeric_transformer, numeric),\n",
    "            (\"one hot encoder\", categorical_transformer, categoric),\n",
    "        ]\n",
    "    )\n",
    "    pipeline = Pipeline(\n",
    "        steps=[(\"preprocessor\", preprocessor), (\"model\", model)]\n",
    "    )\n",
    "    return pipeline"
   ]
  },
  {
   "cell_type": "code",
   "execution_count": 11,
   "id": "96acf6c5",
   "metadata": {},
   "outputs": [],
   "source": [
    "# function for getting different scores for a model\n",
    "\n",
    "def get_prediction_scores(y_true, y_predicted):\n",
    "    print(\"MODEL SCORES:\")\n",
    "    print(f\"MAE: {metrics.mean_absolute_error(y_true, y_predicted): .3f}\")\n",
    "    print(f\"MSE: {metrics.mean_squared_error(y_true, y_predicted): .3f}\")\n",
    "    print(f\"RMSE: {math.sqrt(metrics.mean_squared_error(y_true, y_predicted)): .3f}\")\n",
    "    print(f\"Accuracy:\", round((1-(metrics.mean_absolute_error(y_true, y_predicted)/df_h_comar[\"numOfTaxis_area\"].mean()))*100,2), \"%\")\n",
    "    print(f\"R2: {100 * metrics.r2_score(y_true, y_predicted): .3f} %\")\n",
    "    print(f\"Max Residual Error: {metrics.max_error(y_true, y_predicted): .3f}\")"
   ]
  },
  {
   "cell_type": "code",
   "execution_count": 21,
   "id": "59566075",
   "metadata": {},
   "outputs": [],
   "source": [
    "# function for creating pipeline and fitting model (created by the pipeline), predict and printing scores\n",
    "\n",
    "def pipeline_fit_predict(reg, categoric, numeric, x_train, y_train, x_val, y_val):\n",
    "    pipeline = pipeline_for_prediction(categoric, numeric, reg)\n",
    "    pipeline.fit(x_train, y_train)\n",
    "    y_predict = pipeline.predict(x_val)\n",
    "    get_prediction_scores(y_val, y_predict)"
   ]
  },
  {
   "cell_type": "code",
   "execution_count": null,
   "id": "9a77c668",
   "metadata": {},
   "outputs": [],
   "source": [
    "# function for finding the best hyperparameter by using RandomizedSearchCV and RepeatedStratifiedKFold\n",
    "\"\"\"parameter:\n",
    "   - pipeline: used pipeline for grid search (the pipeline contains the model)\n",
    "   - x_val: data set (features) used for grid search\n",
    "   - y_val: data set (target value) used for grid search\n",
    "   - model_par: parameters for which the grid search is done\n",
    "   - score: used score measure \n",
    "   - n_iter: how often grid search will be done\n",
    "   - n_repeats: how often the data set is randomly splitted (by using the same random hyperparameter) in n_splits\n",
    "   - n_splits: number of splits in RepeatedStratifiedKFold\n",
    "   - verbose: getting information during the grid search\n",
    "\"\"\"\n",
    "\n",
    "\n",
    "from sklearn.model_selection import RandomizedSearchCV, RepeatedStratifiedKFold\n",
    "\n",
    "def find_best_hyperparameters(pipeline, x_val, y_val, model_par, score, n_iter = 50,  \n",
    "                                   n_repeats=1, n_splits=5, n_jobs=1, verbose=True): #  n_repeats=3\n",
    "    \n",
    "    print(f\"Running grid search for the model based on {score}\")\n",
    "    grid_pipeline = RandomizedSearchCV(\n",
    "        estimator=pipeline,\n",
    "        param_distributions=model_par,\n",
    "        n_jobs=n_jobs,\n",
    "        n_iter=n_iter,\n",
    "        cv=RepeatedStratifiedKFold(n_splits=n_splits, n_repeats=n_repeats, random_state=42),\n",
    "        scoring=score,\n",
    "        random_state=42,\n",
    "        verbose=verbose,\n",
    "    )\n",
    "    grid_pipeline.fit(x_val, y_val)\n",
    "    print(f\"Best {score} Score was: {grid_pipeline.best_score_}\")\n",
    "    print(\"The best hyper parameters for the model are:\")\n",
    "    print(grid_pipeline.best_params_)"
   ]
  },
  {
   "cell_type": "code",
   "execution_count": null,
   "id": "8b11263c",
   "metadata": {},
   "outputs": [],
   "source": [
    "from sklearn.model_selection import train_test_split\n",
    "\n",
    "def train_val_test(df,testsize=0.3,valsize=0.2):\n",
    "    \n",
    "    #split the data set in (1-testsize)% training set and testsize% testing set\n",
    "    x_train, x_test, y_train, y_test = train_test_split(df.drop('numOfTaxis_area', axis=1)\n",
    "                                                    , df['numOfTaxis_area'], \n",
    "                                                    test_size=testsize,random_state=42)\n",
    "\n",
    "    # save the combination of training and validation set in extra variables\n",
    "    x_train_val = x_train\n",
    "    y_train_val = y_train\n",
    "\n",
    "    #split the training data set in 70% training set and 20% validation set to achieve a 50-20-30 split\n",
    "    x_train, x_val, y_train, y_val = train_test_split(x_train, y_train, test_size=(valsize/(1-testsize)), \n",
    "                                                      random_state = 42)\n",
    "    \n",
    "    return x_train_val, y_train_val, x_train, y_train, x_val, y_val"
   ]
  },
  {
   "cell_type": "code",
   "execution_count": null,
   "id": "334b4fc3",
   "metadata": {},
   "outputs": [],
   "source": [
    " #split the data set in 70% training set and 30% testing set\n",
    "    #x_train, x_test, y_train, y_test = train_test_split(x_norm, y, test_size=0.3,random_state=42)\n",
    "  #  x_train, x_test, y_train, y_test = train_test_split(df_h_comar.drop('numOfTaxis_area', axis=1)\n",
    "                                  #                  , df_h_comar['numOfTaxis_area'], \n",
    "                                   #                 test_size=0.3,random_state=42)\n",
    "\n",
    "    # save the combination of training and validation set in extra variables\n",
    "   # x_train_val = x_train\n",
    "    #y_train_val = y_train\n",
    "\n",
    "    #split the training data set in 70% training set and 20% validation set to achieve a 50-20-30 split\n",
    "    #x_train, x_val, y_train, y_val = train_test_split(x_train, y_train, test_size=(0.2/0.7), random_state = 42)"
   ]
  },
  {
   "cell_type": "markdown",
   "id": "e6feb4b0",
   "metadata": {},
   "source": [
    "<hr style=\"border: 1px solid #8888;\">\n",
    "\n",
    "## Hourly Demand - Community Area"
   ]
  },
  {
   "cell_type": "markdown",
   "id": "f021d5f4",
   "metadata": {},
   "source": [
    "### Building the model: Checking for the best kernel"
   ]
  },
  {
   "cell_type": "markdown",
   "id": "ba51e804",
   "metadata": {},
   "source": [
    "### SVR Kernel: linear"
   ]
  },
  {
   "cell_type": "code",
   "execution_count": null,
   "id": "77ab1fce",
   "metadata": {},
   "outputs": [],
   "source": []
  },
  {
   "cell_type": "code",
   "execution_count": 24,
   "id": "ec807ac1",
   "metadata": {},
   "outputs": [],
   "source": [
    "svr_lin = SVR(kernel = 'linear',verbose = 10,cache_size=15000, max_iter=50000)"
   ]
  },
  {
   "cell_type": "code",
   "execution_count": 12,
   "id": "4938d726",
   "metadata": {},
   "outputs": [
    {
     "name": "stdout",
     "output_type": "stream",
     "text": [
      "[LibSVM].................................................WARN: libsvm Solver reached max_iter\n",
      "optimization finished, #iter = 50000\n",
      "obj = -3363473.268517, rho = -11.201561\n",
      "nSV = 95981, nBSV = 95028\n"
     ]
    },
    {
     "name": "stderr",
     "output_type": "stream",
     "text": [
      "/opt/anaconda3/lib/python3.9/site-packages/sklearn/svm/_base.py:299: ConvergenceWarning: Solver terminated early (max_iter=50000).  Consider pre-processing your data with StandardScaler or MinMaxScaler.\n",
      "  warnings.warn(\n"
     ]
    },
    {
     "name": "stdout",
     "output_type": "stream",
     "text": [
      "MODEL SCORES:\n",
      "MAE:  23.337\n",
      "MSE:  4498.339\n",
      "RMSE:  67.070\n",
      "Accuracy: 40.8 %\n",
      "R2:  56.381 %\n",
      "Max Residual Error:  1446.159\n"
     ]
    }
   ],
   "source": [
    "pipeline = pipeline_fit_predict(svr_lin, categoric, numeric, x_train_val, y_train_val, x_test, y_test)"
   ]
  },
  {
   "cell_type": "markdown",
   "id": "41f345e3",
   "metadata": {},
   "source": [
    "### SVR Kernel: polynomial degree 2"
   ]
  },
  {
   "cell_type": "code",
   "execution_count": 18,
   "id": "4c2ff44d",
   "metadata": {},
   "outputs": [],
   "source": [
    "svr_poly2 = SVR(kernel = 'poly',degree = 2, verbose = 10,cache_size=15000, max_iter=50000)"
   ]
  },
  {
   "cell_type": "code",
   "execution_count": 19,
   "id": "8de7437a",
   "metadata": {},
   "outputs": [
    {
     "name": "stdout",
     "output_type": "stream",
     "text": [
      "[LibSVM].................................................WARN: libsvm Solver reached max_iter\n",
      "optimization finished, #iter = 50000\n",
      "obj = -4735355.356241, rho = -6.414818\n",
      "nSV = 99966, nBSV = 99966\n"
     ]
    },
    {
     "name": "stderr",
     "output_type": "stream",
     "text": [
      "/opt/anaconda3/lib/python3.9/site-packages/sklearn/svm/_base.py:299: ConvergenceWarning: Solver terminated early (max_iter=50000).  Consider pre-processing your data with StandardScaler or MinMaxScaler.\n",
      "  warnings.warn(\n"
     ]
    },
    {
     "name": "stdout",
     "output_type": "stream",
     "text": [
      "MODEL SCORES:\n",
      "MAE:  26.649\n",
      "MSE:  7286.713\n",
      "RMSE:  85.362\n",
      "Accuracy: 32.39 %\n",
      "R2:  29.343 %\n",
      "Max Residual Error:  1635.635\n"
     ]
    }
   ],
   "source": [
    "pipeline = pipeline_fit_predict(svr_poly, categoric, numeric, x_train_val, y_train_val, x_test, y_test)"
   ]
  },
  {
   "cell_type": "markdown",
   "id": "daba3fe2",
   "metadata": {},
   "source": [
    "### SVR Kernel: polynomial degree 3"
   ]
  },
  {
   "cell_type": "code",
   "execution_count": 13,
   "id": "cc73e48f",
   "metadata": {},
   "outputs": [],
   "source": [
    "svr_poly3 = SVR(kernel = 'poly',verbose = 10,cache_size=15000, max_iter=50000)"
   ]
  },
  {
   "cell_type": "code",
   "execution_count": 14,
   "id": "18bb26dc",
   "metadata": {},
   "outputs": [
    {
     "name": "stdout",
     "output_type": "stream",
     "text": [
      "[LibSVM].................................................WARN: libsvm Solver reached max_iter\n",
      "optimization finished, #iter = 50000\n",
      "obj = -5031586.430808, rho = 4.514757\n",
      "nSV = 99968, nBSV = 99968\n"
     ]
    },
    {
     "name": "stderr",
     "output_type": "stream",
     "text": [
      "/opt/anaconda3/lib/python3.9/site-packages/sklearn/svm/_base.py:299: ConvergenceWarning: Solver terminated early (max_iter=50000).  Consider pre-processing your data with StandardScaler or MinMaxScaler.\n",
      "  warnings.warn(\n"
     ]
    },
    {
     "name": "stdout",
     "output_type": "stream",
     "text": [
      "MODEL SCORES:\n",
      "MAE:  35.897\n",
      "MSE:  8870.264\n",
      "RMSE:  94.182\n",
      "Accuracy: 8.93 %\n",
      "R2:  13.987 %\n",
      "Max Residual Error:  1689.392\n"
     ]
    }
   ],
   "source": [
    "pipeline = pipeline_fit_predict(svr_poly3, categoric, numeric, x_train_val, y_train_val, x_test, y_test)"
   ]
  },
  {
   "cell_type": "markdown",
   "id": "46c78898",
   "metadata": {},
   "source": [
    "### SVR Kernel: rbf"
   ]
  },
  {
   "cell_type": "code",
   "execution_count": 16,
   "id": "9e3432ea",
   "metadata": {},
   "outputs": [],
   "source": [
    "svr_rbf = SVR(kernel = 'rbf',verbose = 10,cache_size=15000, max_iter=50000)"
   ]
  },
  {
   "cell_type": "code",
   "execution_count": 17,
   "id": "fee9dc37",
   "metadata": {
    "scrolled": true
   },
   "outputs": [
    {
     "name": "stdout",
     "output_type": "stream",
     "text": [
      "[LibSVM].................................................WARN: libsvm Solver reached max_iter\n",
      "optimization finished, #iter = 50000\n",
      "obj = -4792854.643942, rho = -6.669636\n",
      "nSV = 99984, nBSV = 99984\n"
     ]
    },
    {
     "name": "stderr",
     "output_type": "stream",
     "text": [
      "/opt/anaconda3/lib/python3.9/site-packages/sklearn/svm/_base.py:299: ConvergenceWarning: Solver terminated early (max_iter=50000).  Consider pre-processing your data with StandardScaler or MinMaxScaler.\n",
      "  warnings.warn(\n"
     ]
    },
    {
     "name": "stdout",
     "output_type": "stream",
     "text": [
      "MODEL SCORES:\n",
      "MAE:  26.690\n",
      "MSE:  7261.736\n",
      "RMSE:  85.216\n",
      "Accuracy: 32.29 %\n",
      "R2:  29.585 %\n",
      "Max Residual Error:  1634.289\n"
     ]
    }
   ],
   "source": [
    "pipeline = pipeline_fit_predict(svr_rbf, categoric, numeric, x_train_val, y_train_val, x_test, y_test)"
   ]
  },
  {
   "cell_type": "markdown",
   "id": "c2dd0bcb",
   "metadata": {},
   "source": [
    "<hr style=\"border: 0.5px solid #8888;\">\n",
    "\n",
    "### Hyperparameter Tuning for the best model"
   ]
  },
  {
   "cell_type": "code",
   "execution_count": 15,
   "id": "fb4bcae6",
   "metadata": {},
   "outputs": [],
   "source": [
    "# creating the ranges for model parameter to use in find_best_hyperparameters\n",
    "\n",
    "model_para = {'model__C':loguniform(1e-1, 1e2),        \n",
    "                'model__epsilon':loguniform(1e-1, 1e2)}               "
   ]
  },
  {
   "cell_type": "code",
   "execution_count": 16,
   "id": "37f3abd8",
   "metadata": {},
   "outputs": [],
   "source": [
    "svr_lin = SVR(kernel = 'linear',cache_size=15000, max_iter=50000)"
   ]
  },
  {
   "cell_type": "code",
   "execution_count": 17,
   "id": "8c370ac4",
   "metadata": {},
   "outputs": [],
   "source": [
    "pipeline = pipeline_for_prediction(categoric, numeric, svr_lin)"
   ]
  },
  {
   "cell_type": "code",
   "execution_count": 18,
   "id": "c9d802c2",
   "metadata": {
    "scrolled": true
   },
   "outputs": [
    {
     "name": "stdout",
     "output_type": "stream",
     "text": [
      "Running grid search for the model based on neg_mean_absolute_error\n",
      "Fitting 5 folds for each of 50 candidates, totalling 250 fits\n",
      "[CV 1/5; 1/50] START model__C=1.3292918943162166, model__epsilon=71.14476009343416\n"
     ]
    },
    {
     "name": "stderr",
     "output_type": "stream",
     "text": [
      "/opt/anaconda3/lib/python3.9/site-packages/sklearn/model_selection/_split.py:700: UserWarning: The least populated class in y has only 1 members, which is less than n_splits=5.\n",
      "  warnings.warn(\n"
     ]
    },
    {
     "name": "stdout",
     "output_type": "stream",
     "text": [
      "[CV 1/5; 1/50] END model__C=1.3292918943162166, model__epsilon=71.14476009343416;, score=-50.789 total time=  11.2s\n",
      "[CV 2/5; 1/50] START model__C=1.3292918943162166, model__epsilon=71.14476009343416\n",
      "[CV 2/5; 1/50] END model__C=1.3292918943162166, model__epsilon=71.14476009343416;, score=-50.442 total time=  11.0s\n",
      "[CV 3/5; 1/50] START model__C=1.3292918943162166, model__epsilon=71.14476009343416\n",
      "[CV 3/5; 1/50] END model__C=1.3292918943162166, model__epsilon=71.14476009343416;, score=-50.972 total time=  11.0s\n",
      "[CV 4/5; 1/50] START model__C=1.3292918943162166, model__epsilon=71.14476009343416\n",
      "[CV 4/5; 1/50] END model__C=1.3292918943162166, model__epsilon=71.14476009343416;, score=-50.549 total time=  11.1s\n",
      "[CV 5/5; 1/50] START model__C=1.3292918943162166, model__epsilon=71.14476009343416\n",
      "[CV 5/5; 1/50] END model__C=1.3292918943162166, model__epsilon=71.14476009343416;, score=-51.020 total time=  11.2s\n",
      "[CV 1/5; 2/50] START model__C=15.702970884055382, model__epsilon=6.2513735745217485\n"
     ]
    },
    {
     "name": "stderr",
     "output_type": "stream",
     "text": [
      "/opt/anaconda3/lib/python3.9/site-packages/sklearn/svm/_base.py:299: ConvergenceWarning: Solver terminated early (max_iter=50000).  Consider pre-processing your data with StandardScaler or MinMaxScaler.\n",
      "  warnings.warn(\n"
     ]
    },
    {
     "name": "stdout",
     "output_type": "stream",
     "text": [
      "[CV 1/5; 2/50] END model__C=15.702970884055382, model__epsilon=6.2513735745217485;, score=-23.825 total time= 1.1min\n",
      "[CV 2/5; 2/50] START model__C=15.702970884055382, model__epsilon=6.2513735745217485\n"
     ]
    },
    {
     "name": "stderr",
     "output_type": "stream",
     "text": [
      "/opt/anaconda3/lib/python3.9/site-packages/sklearn/svm/_base.py:299: ConvergenceWarning: Solver terminated early (max_iter=50000).  Consider pre-processing your data with StandardScaler or MinMaxScaler.\n",
      "  warnings.warn(\n"
     ]
    },
    {
     "name": "stdout",
     "output_type": "stream",
     "text": [
      "[CV 2/5; 2/50] END model__C=15.702970884055382, model__epsilon=6.2513735745217485;, score=-24.145 total time= 1.1min\n",
      "[CV 3/5; 2/50] START model__C=15.702970884055382, model__epsilon=6.2513735745217485\n"
     ]
    },
    {
     "name": "stderr",
     "output_type": "stream",
     "text": [
      "/opt/anaconda3/lib/python3.9/site-packages/sklearn/svm/_base.py:299: ConvergenceWarning: Solver terminated early (max_iter=50000).  Consider pre-processing your data with StandardScaler or MinMaxScaler.\n",
      "  warnings.warn(\n"
     ]
    },
    {
     "name": "stdout",
     "output_type": "stream",
     "text": [
      "[CV 3/5; 2/50] END model__C=15.702970884055382, model__epsilon=6.2513735745217485;, score=-23.865 total time= 1.1min\n",
      "[CV 4/5; 2/50] START model__C=15.702970884055382, model__epsilon=6.2513735745217485\n"
     ]
    },
    {
     "name": "stderr",
     "output_type": "stream",
     "text": [
      "/opt/anaconda3/lib/python3.9/site-packages/sklearn/svm/_base.py:299: ConvergenceWarning: Solver terminated early (max_iter=50000).  Consider pre-processing your data with StandardScaler or MinMaxScaler.\n",
      "  warnings.warn(\n"
     ]
    },
    {
     "name": "stdout",
     "output_type": "stream",
     "text": [
      "[CV 4/5; 2/50] END model__C=15.702970884055382, model__epsilon=6.2513735745217485;, score=-23.728 total time= 1.1min\n",
      "[CV 5/5; 2/50] START model__C=15.702970884055382, model__epsilon=6.2513735745217485\n"
     ]
    },
    {
     "name": "stderr",
     "output_type": "stream",
     "text": [
      "/opt/anaconda3/lib/python3.9/site-packages/sklearn/svm/_base.py:299: ConvergenceWarning: Solver terminated early (max_iter=50000).  Consider pre-processing your data with StandardScaler or MinMaxScaler.\n",
      "  warnings.warn(\n"
     ]
    },
    {
     "name": "stdout",
     "output_type": "stream",
     "text": [
      "[CV 5/5; 2/50] END model__C=15.702970884055382, model__epsilon=6.2513735745217485;, score=-24.182 total time= 1.1min\n",
      "[CV 1/5; 3/50] START model__C=0.2938027938703535, model__epsilon=0.2937538457632829\n"
     ]
    },
    {
     "name": "stderr",
     "output_type": "stream",
     "text": [
      "/opt/anaconda3/lib/python3.9/site-packages/sklearn/svm/_base.py:299: ConvergenceWarning: Solver terminated early (max_iter=50000).  Consider pre-processing your data with StandardScaler or MinMaxScaler.\n",
      "  warnings.warn(\n"
     ]
    },
    {
     "name": "stdout",
     "output_type": "stream",
     "text": [
      "[CV 1/5; 3/50] END model__C=0.2938027938703535, model__epsilon=0.2937538457632829;, score=-24.622 total time= 1.6min\n",
      "[CV 2/5; 3/50] START model__C=0.2938027938703535, model__epsilon=0.2937538457632829\n"
     ]
    },
    {
     "name": "stderr",
     "output_type": "stream",
     "text": [
      "/opt/anaconda3/lib/python3.9/site-packages/sklearn/svm/_base.py:299: ConvergenceWarning: Solver terminated early (max_iter=50000).  Consider pre-processing your data with StandardScaler or MinMaxScaler.\n",
      "  warnings.warn(\n"
     ]
    },
    {
     "name": "stdout",
     "output_type": "stream",
     "text": [
      "[CV 2/5; 3/50] END model__C=0.2938027938703535, model__epsilon=0.2937538457632829;, score=-25.111 total time= 1.6min\n",
      "[CV 3/5; 3/50] START model__C=0.2938027938703535, model__epsilon=0.2937538457632829\n"
     ]
    },
    {
     "name": "stderr",
     "output_type": "stream",
     "text": [
      "/opt/anaconda3/lib/python3.9/site-packages/sklearn/svm/_base.py:299: ConvergenceWarning: Solver terminated early (max_iter=50000).  Consider pre-processing your data with StandardScaler or MinMaxScaler.\n",
      "  warnings.warn(\n"
     ]
    },
    {
     "name": "stdout",
     "output_type": "stream",
     "text": [
      "[CV 3/5; 3/50] END model__C=0.2938027938703535, model__epsilon=0.2937538457632829;, score=-24.795 total time= 1.6min\n",
      "[CV 4/5; 3/50] START model__C=0.2938027938703535, model__epsilon=0.2937538457632829\n"
     ]
    },
    {
     "name": "stderr",
     "output_type": "stream",
     "text": [
      "/opt/anaconda3/lib/python3.9/site-packages/sklearn/svm/_base.py:299: ConvergenceWarning: Solver terminated early (max_iter=50000).  Consider pre-processing your data with StandardScaler or MinMaxScaler.\n",
      "  warnings.warn(\n"
     ]
    },
    {
     "name": "stdout",
     "output_type": "stream",
     "text": [
      "[CV 4/5; 3/50] END model__C=0.2938027938703535, model__epsilon=0.2937538457632829;, score=-24.462 total time= 1.6min\n",
      "[CV 5/5; 3/50] START model__C=0.2938027938703535, model__epsilon=0.2937538457632829\n"
     ]
    },
    {
     "name": "stderr",
     "output_type": "stream",
     "text": [
      "/opt/anaconda3/lib/python3.9/site-packages/sklearn/svm/_base.py:299: ConvergenceWarning: Solver terminated early (max_iter=50000).  Consider pre-processing your data with StandardScaler or MinMaxScaler.\n",
      "  warnings.warn(\n"
     ]
    },
    {
     "name": "stdout",
     "output_type": "stream",
     "text": [
      "[CV 5/5; 3/50] END model__C=0.2938027938703535, model__epsilon=0.2937538457632829;, score=-25.025 total time= 1.6min\n",
      "[CV 1/5; 4/50] START model__C=0.14936568554617632, model__epsilon=39.67605077052987\n",
      "[CV 1/5; 4/50] END model__C=0.14936568554617632, model__epsilon=39.67605077052987;, score=-45.247 total time=  21.6s\n",
      "[CV 2/5; 4/50] START model__C=0.14936568554617632, model__epsilon=39.67605077052987\n",
      "[CV 2/5; 4/50] END model__C=0.14936568554617632, model__epsilon=39.67605077052987;, score=-45.524 total time=  21.2s\n",
      "[CV 3/5; 4/50] START model__C=0.14936568554617632, model__epsilon=39.67605077052987\n",
      "[CV 3/5; 4/50] END model__C=0.14936568554617632, model__epsilon=39.67605077052987;, score=-45.280 total time=  21.4s\n",
      "[CV 4/5; 4/50] START model__C=0.14936568554617632, model__epsilon=39.67605077052987\n",
      "[CV 4/5; 4/50] END model__C=0.14936568554617632, model__epsilon=39.67605077052987;, score=-45.232 total time=  21.4s\n",
      "[CV 5/5; 4/50] START model__C=0.14936568554617632, model__epsilon=39.67605077052987\n",
      "[CV 5/5; 4/50] END model__C=0.14936568554617632, model__epsilon=39.67605077052987;, score=-45.632 total time=  21.6s\n",
      "[CV 1/5; 5/50] START model__C=6.358358856676251, model__epsilon=13.311216080736884\n"
     ]
    },
    {
     "name": "stderr",
     "output_type": "stream",
     "text": [
      "/opt/anaconda3/lib/python3.9/site-packages/sklearn/svm/_base.py:299: ConvergenceWarning: Solver terminated early (max_iter=50000).  Consider pre-processing your data with StandardScaler or MinMaxScaler.\n",
      "  warnings.warn(\n"
     ]
    },
    {
     "name": "stdout",
     "output_type": "stream",
     "text": [
      "[CV 1/5; 5/50] END model__C=6.358358856676251, model__epsilon=13.311216080736884;, score=-25.486 total time=  38.8s\n",
      "[CV 2/5; 5/50] START model__C=6.358358856676251, model__epsilon=13.311216080736884\n"
     ]
    },
    {
     "name": "stderr",
     "output_type": "stream",
     "text": [
      "/opt/anaconda3/lib/python3.9/site-packages/sklearn/svm/_base.py:299: ConvergenceWarning: Solver terminated early (max_iter=50000).  Consider pre-processing your data with StandardScaler or MinMaxScaler.\n",
      "  warnings.warn(\n"
     ]
    },
    {
     "name": "stdout",
     "output_type": "stream",
     "text": [
      "[CV 2/5; 5/50] END model__C=6.358358856676251, model__epsilon=13.311216080736884;, score=-25.784 total time=  38.4s\n",
      "[CV 3/5; 5/50] START model__C=6.358358856676251, model__epsilon=13.311216080736884\n"
     ]
    },
    {
     "name": "stderr",
     "output_type": "stream",
     "text": [
      "/opt/anaconda3/lib/python3.9/site-packages/sklearn/svm/_base.py:299: ConvergenceWarning: Solver terminated early (max_iter=50000).  Consider pre-processing your data with StandardScaler or MinMaxScaler.\n",
      "  warnings.warn(\n"
     ]
    },
    {
     "name": "stdout",
     "output_type": "stream",
     "text": [
      "[CV 3/5; 5/50] END model__C=6.358358856676251, model__epsilon=13.311216080736884;, score=-25.597 total time=  38.4s\n",
      "[CV 4/5; 5/50] START model__C=6.358358856676251, model__epsilon=13.311216080736884\n"
     ]
    },
    {
     "name": "stderr",
     "output_type": "stream",
     "text": [
      "/opt/anaconda3/lib/python3.9/site-packages/sklearn/svm/_base.py:299: ConvergenceWarning: Solver terminated early (max_iter=50000).  Consider pre-processing your data with StandardScaler or MinMaxScaler.\n",
      "  warnings.warn(\n"
     ]
    },
    {
     "name": "stdout",
     "output_type": "stream",
     "text": [
      "[CV 4/5; 5/50] END model__C=6.358358856676251, model__epsilon=13.311216080736884;, score=-25.202 total time=  38.3s\n",
      "[CV 5/5; 5/50] START model__C=6.358358856676251, model__epsilon=13.311216080736884\n"
     ]
    },
    {
     "name": "stderr",
     "output_type": "stream",
     "text": [
      "/opt/anaconda3/lib/python3.9/site-packages/sklearn/svm/_base.py:299: ConvergenceWarning: Solver terminated early (max_iter=50000).  Consider pre-processing your data with StandardScaler or MinMaxScaler.\n",
      "  warnings.warn(\n"
     ]
    },
    {
     "name": "stdout",
     "output_type": "stream",
     "text": [
      "[CV 5/5; 5/50] END model__C=6.358358856676251, model__epsilon=13.311216080736884;, score=-25.942 total time=  38.6s\n",
      "[CV 1/5; 6/50] START model__C=0.115279871282324, model__epsilon=81.23245085588688\n",
      "[CV 1/5; 6/50] END model__C=0.115279871282324, model__epsilon=81.23245085588688;, score=-79.852 total time=  14.9s\n",
      "[CV 2/5; 6/50] START model__C=0.115279871282324, model__epsilon=81.23245085588688\n",
      "[CV 2/5; 6/50] END model__C=0.115279871282324, model__epsilon=81.23245085588688;, score=-79.983 total time=  14.7s\n",
      "[CV 3/5; 6/50] START model__C=0.115279871282324, model__epsilon=81.23245085588688\n",
      "[CV 3/5; 6/50] END model__C=0.115279871282324, model__epsilon=81.23245085588688;, score=-79.860 total time=  14.8s\n",
      "[CV 4/5; 6/50] START model__C=0.115279871282324, model__epsilon=81.23245085588688\n",
      "[CV 4/5; 6/50] END model__C=0.115279871282324, model__epsilon=81.23245085588688;, score=-79.689 total time=  14.6s\n",
      "[CV 5/5; 6/50] START model__C=0.115279871282324, model__epsilon=81.23245085588688\n",
      "[CV 5/5; 6/50] END model__C=0.115279871282324, model__epsilon=81.23245085588688;, score=-80.226 total time=  14.9s\n",
      "[CV 1/5; 7/50] START model__C=31.428808908401084, model__epsilon=0.4335281794951565\n"
     ]
    },
    {
     "name": "stderr",
     "output_type": "stream",
     "text": [
      "/opt/anaconda3/lib/python3.9/site-packages/sklearn/svm/_base.py:299: ConvergenceWarning: Solver terminated early (max_iter=50000).  Consider pre-processing your data with StandardScaler or MinMaxScaler.\n",
      "  warnings.warn(\n"
     ]
    },
    {
     "name": "stdout",
     "output_type": "stream",
     "text": [
      "[CV 1/5; 7/50] END model__C=31.428808908401084, model__epsilon=0.4335281794951565;, score=-23.697 total time= 1.5min\n",
      "[CV 2/5; 7/50] START model__C=31.428808908401084, model__epsilon=0.4335281794951565\n"
     ]
    },
    {
     "name": "stderr",
     "output_type": "stream",
     "text": [
      "/opt/anaconda3/lib/python3.9/site-packages/sklearn/svm/_base.py:299: ConvergenceWarning: Solver terminated early (max_iter=50000).  Consider pre-processing your data with StandardScaler or MinMaxScaler.\n",
      "  warnings.warn(\n"
     ]
    },
    {
     "name": "stdout",
     "output_type": "stream",
     "text": [
      "[CV 2/5; 7/50] END model__C=31.428808908401084, model__epsilon=0.4335281794951565;, score=-24.423 total time= 1.5min\n",
      "[CV 3/5; 7/50] START model__C=31.428808908401084, model__epsilon=0.4335281794951565\n"
     ]
    },
    {
     "name": "stderr",
     "output_type": "stream",
     "text": [
      "/opt/anaconda3/lib/python3.9/site-packages/sklearn/svm/_base.py:299: ConvergenceWarning: Solver terminated early (max_iter=50000).  Consider pre-processing your data with StandardScaler or MinMaxScaler.\n",
      "  warnings.warn(\n"
     ]
    },
    {
     "name": "stdout",
     "output_type": "stream",
     "text": [
      "[CV 3/5; 7/50] END model__C=31.428808908401084, model__epsilon=0.4335281794951565;, score=-23.919 total time= 1.5min\n",
      "[CV 4/5; 7/50] START model__C=31.428808908401084, model__epsilon=0.4335281794951565\n"
     ]
    },
    {
     "name": "stderr",
     "output_type": "stream",
     "text": [
      "/opt/anaconda3/lib/python3.9/site-packages/sklearn/svm/_base.py:299: ConvergenceWarning: Solver terminated early (max_iter=50000).  Consider pre-processing your data with StandardScaler or MinMaxScaler.\n",
      "  warnings.warn(\n"
     ]
    },
    {
     "name": "stdout",
     "output_type": "stream",
     "text": [
      "[CV 4/5; 7/50] END model__C=31.428808908401084, model__epsilon=0.4335281794951565;, score=-23.588 total time= 1.5min\n",
      "[CV 5/5; 7/50] START model__C=31.428808908401084, model__epsilon=0.4335281794951565\n"
     ]
    },
    {
     "name": "stderr",
     "output_type": "stream",
     "text": [
      "/opt/anaconda3/lib/python3.9/site-packages/sklearn/svm/_base.py:299: ConvergenceWarning: Solver terminated early (max_iter=50000).  Consider pre-processing your data with StandardScaler or MinMaxScaler.\n",
      "  warnings.warn(\n"
     ]
    },
    {
     "name": "stdout",
     "output_type": "stream",
     "text": [
      "[CV 5/5; 7/50] END model__C=31.428808908401084, model__epsilon=0.4335281794951565;, score=-24.227 total time= 1.5min\n",
      "[CV 1/5; 8/50] START model__C=0.3511356313970407, model__epsilon=0.35498788321965025\n"
     ]
    },
    {
     "name": "stderr",
     "output_type": "stream",
     "text": [
      "/opt/anaconda3/lib/python3.9/site-packages/sklearn/svm/_base.py:299: ConvergenceWarning: Solver terminated early (max_iter=50000).  Consider pre-processing your data with StandardScaler or MinMaxScaler.\n",
      "  warnings.warn(\n"
     ]
    },
    {
     "name": "stdout",
     "output_type": "stream",
     "text": [
      "[CV 1/5; 8/50] END model__C=0.3511356313970407, model__epsilon=0.35498788321965025;, score=-24.301 total time= 1.6min\n",
      "[CV 2/5; 8/50] START model__C=0.3511356313970407, model__epsilon=0.35498788321965025\n"
     ]
    },
    {
     "name": "stderr",
     "output_type": "stream",
     "text": [
      "/opt/anaconda3/lib/python3.9/site-packages/sklearn/svm/_base.py:299: ConvergenceWarning: Solver terminated early (max_iter=50000).  Consider pre-processing your data with StandardScaler or MinMaxScaler.\n",
      "  warnings.warn(\n"
     ]
    },
    {
     "name": "stdout",
     "output_type": "stream",
     "text": [
      "[CV 2/5; 8/50] END model__C=0.3511356313970407, model__epsilon=0.35498788321965025;, score=-24.770 total time= 1.6min\n",
      "[CV 3/5; 8/50] START model__C=0.3511356313970407, model__epsilon=0.35498788321965025\n"
     ]
    },
    {
     "name": "stderr",
     "output_type": "stream",
     "text": [
      "/opt/anaconda3/lib/python3.9/site-packages/sklearn/svm/_base.py:299: ConvergenceWarning: Solver terminated early (max_iter=50000).  Consider pre-processing your data with StandardScaler or MinMaxScaler.\n",
      "  warnings.warn(\n"
     ]
    },
    {
     "name": "stdout",
     "output_type": "stream",
     "text": [
      "[CV 3/5; 8/50] END model__C=0.3511356313970407, model__epsilon=0.35498788321965025;, score=-24.451 total time= 1.6min\n",
      "[CV 4/5; 8/50] START model__C=0.3511356313970407, model__epsilon=0.35498788321965025\n"
     ]
    },
    {
     "name": "stderr",
     "output_type": "stream",
     "text": [
      "/opt/anaconda3/lib/python3.9/site-packages/sklearn/svm/_base.py:299: ConvergenceWarning: Solver terminated early (max_iter=50000).  Consider pre-processing your data with StandardScaler or MinMaxScaler.\n",
      "  warnings.warn(\n"
     ]
    },
    {
     "name": "stdout",
     "output_type": "stream",
     "text": [
      "[CV 4/5; 8/50] END model__C=0.3511356313970407, model__epsilon=0.35498788321965025;, score=-24.087 total time= 1.6min\n",
      "[CV 5/5; 8/50] START model__C=0.3511356313970407, model__epsilon=0.35498788321965025\n"
     ]
    },
    {
     "name": "stderr",
     "output_type": "stream",
     "text": [
      "/opt/anaconda3/lib/python3.9/site-packages/sklearn/svm/_base.py:299: ConvergenceWarning: Solver terminated early (max_iter=50000).  Consider pre-processing your data with StandardScaler or MinMaxScaler.\n",
      "  warnings.warn(\n"
     ]
    },
    {
     "name": "stdout",
     "output_type": "stream",
     "text": [
      "[CV 5/5; 8/50] END model__C=0.3511356313970407, model__epsilon=0.35498788321965025;, score=-24.663 total time= 1.6min\n",
      "[CV 1/5; 9/50] START model__C=0.8179499475211672, model__epsilon=3.752055855124281\n"
     ]
    },
    {
     "name": "stderr",
     "output_type": "stream",
     "text": [
      "/opt/anaconda3/lib/python3.9/site-packages/sklearn/svm/_base.py:299: ConvergenceWarning: Solver terminated early (max_iter=50000).  Consider pre-processing your data with StandardScaler or MinMaxScaler.\n",
      "  warnings.warn(\n"
     ]
    },
    {
     "name": "stdout",
     "output_type": "stream",
     "text": [
      "[CV 1/5; 9/50] END model__C=0.8179499475211672, model__epsilon=3.752055855124281;, score=-23.596 total time=  59.8s\n",
      "[CV 2/5; 9/50] START model__C=0.8179499475211672, model__epsilon=3.752055855124281\n"
     ]
    },
    {
     "name": "stderr",
     "output_type": "stream",
     "text": [
      "/opt/anaconda3/lib/python3.9/site-packages/sklearn/svm/_base.py:299: ConvergenceWarning: Solver terminated early (max_iter=50000).  Consider pre-processing your data with StandardScaler or MinMaxScaler.\n",
      "  warnings.warn(\n"
     ]
    },
    {
     "name": "stdout",
     "output_type": "stream",
     "text": [
      "[CV 2/5; 9/50] END model__C=0.8179499475211672, model__epsilon=3.752055855124281;, score=-24.088 total time=  59.6s\n",
      "[CV 3/5; 9/50] START model__C=0.8179499475211672, model__epsilon=3.752055855124281\n"
     ]
    },
    {
     "name": "stderr",
     "output_type": "stream",
     "text": [
      "/opt/anaconda3/lib/python3.9/site-packages/sklearn/svm/_base.py:299: ConvergenceWarning: Solver terminated early (max_iter=50000).  Consider pre-processing your data with StandardScaler or MinMaxScaler.\n",
      "  warnings.warn(\n"
     ]
    },
    {
     "name": "stdout",
     "output_type": "stream",
     "text": [
      "[CV 3/5; 9/50] END model__C=0.8179499475211672, model__epsilon=3.752055855124281;, score=-23.796 total time=  59.4s\n",
      "[CV 4/5; 9/50] START model__C=0.8179499475211672, model__epsilon=3.752055855124281\n"
     ]
    },
    {
     "name": "stderr",
     "output_type": "stream",
     "text": [
      "/opt/anaconda3/lib/python3.9/site-packages/sklearn/svm/_base.py:299: ConvergenceWarning: Solver terminated early (max_iter=50000).  Consider pre-processing your data with StandardScaler or MinMaxScaler.\n",
      "  warnings.warn(\n"
     ]
    },
    {
     "name": "stdout",
     "output_type": "stream",
     "text": [
      "[CV 4/5; 9/50] END model__C=0.8179499475211672, model__epsilon=3.752055855124281;, score=-23.441 total time=  59.1s\n",
      "[CV 5/5; 9/50] START model__C=0.8179499475211672, model__epsilon=3.752055855124281\n"
     ]
    },
    {
     "name": "stderr",
     "output_type": "stream",
     "text": [
      "/opt/anaconda3/lib/python3.9/site-packages/sklearn/svm/_base.py:299: ConvergenceWarning: Solver terminated early (max_iter=50000).  Consider pre-processing your data with StandardScaler or MinMaxScaler.\n",
      "  warnings.warn(\n"
     ]
    },
    {
     "name": "stdout",
     "output_type": "stream",
     "text": [
      "[CV 5/5; 9/50] END model__C=0.8179499475211672, model__epsilon=3.752055855124281;, score=-24.090 total time=  59.5s\n",
      "[CV 1/5; 10/50] START model__C=1.976218934028007, model__epsilon=0.7476312062252299\n"
     ]
    },
    {
     "name": "stderr",
     "output_type": "stream",
     "text": [
      "/opt/anaconda3/lib/python3.9/site-packages/sklearn/svm/_base.py:299: ConvergenceWarning: Solver terminated early (max_iter=50000).  Consider pre-processing your data with StandardScaler or MinMaxScaler.\n",
      "  warnings.warn(\n"
     ]
    },
    {
     "name": "stdout",
     "output_type": "stream",
     "text": [
      "[CV 1/5; 10/50] END model__C=1.976218934028007, model__epsilon=0.7476312062252299;, score=-23.155 total time= 1.6min\n",
      "[CV 2/5; 10/50] START model__C=1.976218934028007, model__epsilon=0.7476312062252299\n"
     ]
    },
    {
     "name": "stderr",
     "output_type": "stream",
     "text": [
      "/opt/anaconda3/lib/python3.9/site-packages/sklearn/svm/_base.py:299: ConvergenceWarning: Solver terminated early (max_iter=50000).  Consider pre-processing your data with StandardScaler or MinMaxScaler.\n",
      "  warnings.warn(\n"
     ]
    },
    {
     "name": "stdout",
     "output_type": "stream",
     "text": [
      "[CV 2/5; 10/50] END model__C=1.976218934028007, model__epsilon=0.7476312062252299;, score=-23.578 total time= 1.6min\n",
      "[CV 3/5; 10/50] START model__C=1.976218934028007, model__epsilon=0.7476312062252299\n"
     ]
    },
    {
     "name": "stderr",
     "output_type": "stream",
     "text": [
      "/opt/anaconda3/lib/python3.9/site-packages/sklearn/svm/_base.py:299: ConvergenceWarning: Solver terminated early (max_iter=50000).  Consider pre-processing your data with StandardScaler or MinMaxScaler.\n",
      "  warnings.warn(\n"
     ]
    },
    {
     "name": "stdout",
     "output_type": "stream",
     "text": [
      "[CV 3/5; 10/50] END model__C=1.976218934028007, model__epsilon=0.7476312062252299;, score=-23.304 total time= 1.6min\n",
      "[CV 4/5; 10/50] START model__C=1.976218934028007, model__epsilon=0.7476312062252299\n"
     ]
    },
    {
     "name": "stderr",
     "output_type": "stream",
     "text": [
      "/opt/anaconda3/lib/python3.9/site-packages/sklearn/svm/_base.py:299: ConvergenceWarning: Solver terminated early (max_iter=50000).  Consider pre-processing your data with StandardScaler or MinMaxScaler.\n",
      "  warnings.warn(\n"
     ]
    },
    {
     "name": "stdout",
     "output_type": "stream",
     "text": [
      "[CV 4/5; 10/50] END model__C=1.976218934028007, model__epsilon=0.7476312062252299;, score=-23.027 total time= 1.6min\n",
      "[CV 5/5; 10/50] START model__C=1.976218934028007, model__epsilon=0.7476312062252299\n"
     ]
    },
    {
     "name": "stderr",
     "output_type": "stream",
     "text": [
      "/opt/anaconda3/lib/python3.9/site-packages/sklearn/svm/_base.py:299: ConvergenceWarning: Solver terminated early (max_iter=50000).  Consider pre-processing your data with StandardScaler or MinMaxScaler.\n",
      "  warnings.warn(\n"
     ]
    },
    {
     "name": "stdout",
     "output_type": "stream",
     "text": [
      "[CV 5/5; 10/50] END model__C=1.976218934028007, model__epsilon=0.7476312062252299;, score=-23.589 total time= 1.6min\n",
      "[CV 1/5; 11/50] START model__C=6.847920095574778, model__epsilon=0.262108787826544\n"
     ]
    },
    {
     "name": "stderr",
     "output_type": "stream",
     "text": [
      "/opt/anaconda3/lib/python3.9/site-packages/sklearn/svm/_base.py:299: ConvergenceWarning: Solver terminated early (max_iter=50000).  Consider pre-processing your data with StandardScaler or MinMaxScaler.\n",
      "  warnings.warn(\n"
     ]
    },
    {
     "name": "stdout",
     "output_type": "stream",
     "text": [
      "[CV 1/5; 11/50] END model__C=6.847920095574778, model__epsilon=0.262108787826544;, score=-23.213 total time= 1.8min\n",
      "[CV 2/5; 11/50] START model__C=6.847920095574778, model__epsilon=0.262108787826544\n"
     ]
    },
    {
     "name": "stderr",
     "output_type": "stream",
     "text": [
      "/opt/anaconda3/lib/python3.9/site-packages/sklearn/svm/_base.py:299: ConvergenceWarning: Solver terminated early (max_iter=50000).  Consider pre-processing your data with StandardScaler or MinMaxScaler.\n",
      "  warnings.warn(\n"
     ]
    },
    {
     "name": "stdout",
     "output_type": "stream",
     "text": [
      "[CV 2/5; 11/50] END model__C=6.847920095574778, model__epsilon=0.262108787826544;, score=-23.559 total time= 1.8min\n",
      "[CV 3/5; 11/50] START model__C=6.847920095574778, model__epsilon=0.262108787826544\n"
     ]
    },
    {
     "name": "stderr",
     "output_type": "stream",
     "text": [
      "/opt/anaconda3/lib/python3.9/site-packages/sklearn/svm/_base.py:299: ConvergenceWarning: Solver terminated early (max_iter=50000).  Consider pre-processing your data with StandardScaler or MinMaxScaler.\n",
      "  warnings.warn(\n"
     ]
    },
    {
     "name": "stdout",
     "output_type": "stream",
     "text": [
      "[CV 3/5; 11/50] END model__C=6.847920095574778, model__epsilon=0.262108787826544;, score=-23.317 total time= 1.8min\n",
      "[CV 4/5; 11/50] START model__C=6.847920095574778, model__epsilon=0.262108787826544\n"
     ]
    },
    {
     "name": "stderr",
     "output_type": "stream",
     "text": [
      "/opt/anaconda3/lib/python3.9/site-packages/sklearn/svm/_base.py:299: ConvergenceWarning: Solver terminated early (max_iter=50000).  Consider pre-processing your data with StandardScaler or MinMaxScaler.\n",
      "  warnings.warn(\n"
     ]
    },
    {
     "name": "stdout",
     "output_type": "stream",
     "text": [
      "[CV 4/5; 11/50] END model__C=6.847920095574778, model__epsilon=0.262108787826544;, score=-23.098 total time= 1.8min\n",
      "[CV 5/5; 11/50] START model__C=6.847920095574778, model__epsilon=0.262108787826544\n"
     ]
    },
    {
     "name": "stderr",
     "output_type": "stream",
     "text": [
      "/opt/anaconda3/lib/python3.9/site-packages/sklearn/svm/_base.py:299: ConvergenceWarning: Solver terminated early (max_iter=50000).  Consider pre-processing your data with StandardScaler or MinMaxScaler.\n",
      "  warnings.warn(\n"
     ]
    },
    {
     "name": "stdout",
     "output_type": "stream",
     "text": [
      "[CV 5/5; 11/50] END model__C=6.847920095574778, model__epsilon=0.262108787826544;, score=-23.528 total time= 1.8min\n",
      "[CV 1/5; 12/50] START model__C=0.7523742884534856, model__epsilon=1.2562773503807025\n"
     ]
    },
    {
     "name": "stderr",
     "output_type": "stream",
     "text": [
      "/opt/anaconda3/lib/python3.9/site-packages/sklearn/svm/_base.py:299: ConvergenceWarning: Solver terminated early (max_iter=50000).  Consider pre-processing your data with StandardScaler or MinMaxScaler.\n",
      "  warnings.warn(\n"
     ]
    },
    {
     "name": "stdout",
     "output_type": "stream",
     "text": [
      "[CV 1/5; 12/50] END model__C=0.7523742884534856, model__epsilon=1.2562773503807025;, score=-23.443 total time= 1.4min\n",
      "[CV 2/5; 12/50] START model__C=0.7523742884534856, model__epsilon=1.2562773503807025\n"
     ]
    },
    {
     "name": "stderr",
     "output_type": "stream",
     "text": [
      "/opt/anaconda3/lib/python3.9/site-packages/sklearn/svm/_base.py:299: ConvergenceWarning: Solver terminated early (max_iter=50000).  Consider pre-processing your data with StandardScaler or MinMaxScaler.\n",
      "  warnings.warn(\n"
     ]
    },
    {
     "name": "stdout",
     "output_type": "stream",
     "text": [
      "[CV 2/5; 12/50] END model__C=0.7523742884534856, model__epsilon=1.2562773503807025;, score=-23.968 total time= 1.4min\n",
      "[CV 3/5; 12/50] START model__C=0.7523742884534856, model__epsilon=1.2562773503807025\n"
     ]
    },
    {
     "name": "stderr",
     "output_type": "stream",
     "text": [
      "/opt/anaconda3/lib/python3.9/site-packages/sklearn/svm/_base.py:299: ConvergenceWarning: Solver terminated early (max_iter=50000).  Consider pre-processing your data with StandardScaler or MinMaxScaler.\n",
      "  warnings.warn(\n"
     ]
    },
    {
     "name": "stdout",
     "output_type": "stream",
     "text": [
      "[CV 3/5; 12/50] END model__C=0.7523742884534856, model__epsilon=1.2562773503807025;, score=-23.658 total time= 1.4min\n",
      "[CV 4/5; 12/50] START model__C=0.7523742884534856, model__epsilon=1.2562773503807025\n"
     ]
    },
    {
     "name": "stderr",
     "output_type": "stream",
     "text": [
      "/opt/anaconda3/lib/python3.9/site-packages/sklearn/svm/_base.py:299: ConvergenceWarning: Solver terminated early (max_iter=50000).  Consider pre-processing your data with StandardScaler or MinMaxScaler.\n",
      "  warnings.warn(\n"
     ]
    },
    {
     "name": "stdout",
     "output_type": "stream",
     "text": [
      "[CV 4/5; 12/50] END model__C=0.7523742884534856, model__epsilon=1.2562773503807025;, score=-23.316 total time= 1.4min\n",
      "[CV 5/5; 12/50] START model__C=0.7523742884534856, model__epsilon=1.2562773503807025\n"
     ]
    },
    {
     "name": "stderr",
     "output_type": "stream",
     "text": [
      "/opt/anaconda3/lib/python3.9/site-packages/sklearn/svm/_base.py:299: ConvergenceWarning: Solver terminated early (max_iter=50000).  Consider pre-processing your data with StandardScaler or MinMaxScaler.\n",
      "  warnings.warn(\n"
     ]
    },
    {
     "name": "stdout",
     "output_type": "stream",
     "text": [
      "[CV 5/5; 12/50] END model__C=0.7523742884534856, model__epsilon=1.2562773503807025;, score=-23.928 total time= 1.4min\n",
      "[CV 1/5; 13/50] START model__C=2.334586407601624, model__epsilon=22.673986523780385\n"
     ]
    },
    {
     "name": "stderr",
     "output_type": "stream",
     "text": [
      "/opt/anaconda3/lib/python3.9/site-packages/sklearn/svm/_base.py:299: ConvergenceWarning: Solver terminated early (max_iter=50000).  Consider pre-processing your data with StandardScaler or MinMaxScaler.\n",
      "  warnings.warn(\n"
     ]
    },
    {
     "name": "stdout",
     "output_type": "stream",
     "text": [
      "[CV 1/5; 13/50] END model__C=2.334586407601624, model__epsilon=22.673986523780385;, score=-28.675 total time=  26.2s\n",
      "[CV 2/5; 13/50] START model__C=2.334586407601624, model__epsilon=22.673986523780385\n"
     ]
    },
    {
     "name": "stderr",
     "output_type": "stream",
     "text": [
      "/opt/anaconda3/lib/python3.9/site-packages/sklearn/svm/_base.py:299: ConvergenceWarning: Solver terminated early (max_iter=50000).  Consider pre-processing your data with StandardScaler or MinMaxScaler.\n",
      "  warnings.warn(\n"
     ]
    },
    {
     "name": "stdout",
     "output_type": "stream",
     "text": [
      "[CV 2/5; 13/50] END model__C=2.334586407601624, model__epsilon=22.673986523780385;, score=-29.040 total time=  25.8s\n",
      "[CV 3/5; 13/50] START model__C=2.334586407601624, model__epsilon=22.673986523780385\n"
     ]
    },
    {
     "name": "stderr",
     "output_type": "stream",
     "text": [
      "/opt/anaconda3/lib/python3.9/site-packages/sklearn/svm/_base.py:299: ConvergenceWarning: Solver terminated early (max_iter=50000).  Consider pre-processing your data with StandardScaler or MinMaxScaler.\n",
      "  warnings.warn(\n"
     ]
    },
    {
     "name": "stdout",
     "output_type": "stream",
     "text": [
      "[CV 3/5; 13/50] END model__C=2.334586407601624, model__epsilon=22.673986523780385;, score=-28.921 total time=  26.2s\n",
      "[CV 4/5; 13/50] START model__C=2.334586407601624, model__epsilon=22.673986523780385\n"
     ]
    },
    {
     "name": "stderr",
     "output_type": "stream",
     "text": [
      "/opt/anaconda3/lib/python3.9/site-packages/sklearn/svm/_base.py:299: ConvergenceWarning: Solver terminated early (max_iter=50000).  Consider pre-processing your data with StandardScaler or MinMaxScaler.\n",
      "  warnings.warn(\n"
     ]
    },
    {
     "name": "stdout",
     "output_type": "stream",
     "text": [
      "[CV 4/5; 13/50] END model__C=2.334586407601624, model__epsilon=22.673986523780385;, score=-28.273 total time=  25.9s\n",
      "[CV 5/5; 13/50] START model__C=2.334586407601624, model__epsilon=22.673986523780385\n"
     ]
    },
    {
     "name": "stderr",
     "output_type": "stream",
     "text": [
      "/opt/anaconda3/lib/python3.9/site-packages/sklearn/svm/_base.py:299: ConvergenceWarning: Solver terminated early (max_iter=50000).  Consider pre-processing your data with StandardScaler or MinMaxScaler.\n",
      "  warnings.warn(\n"
     ]
    },
    {
     "name": "stdout",
     "output_type": "stream",
     "text": [
      "[CV 5/5; 13/50] END model__C=2.334586407601624, model__epsilon=22.673986523780385;, score=-29.188 total time=  26.1s\n",
      "[CV 1/5; 14/50] START model__C=0.3972110727381912, model__epsilon=3.4890188454913864\n"
     ]
    },
    {
     "name": "stderr",
     "output_type": "stream",
     "text": [
      "/opt/anaconda3/lib/python3.9/site-packages/sklearn/svm/_base.py:299: ConvergenceWarning: Solver terminated early (max_iter=50000).  Consider pre-processing your data with StandardScaler or MinMaxScaler.\n",
      "  warnings.warn(\n"
     ]
    },
    {
     "name": "stdout",
     "output_type": "stream",
     "text": [
      "[CV 1/5; 14/50] END model__C=0.3972110727381912, model__epsilon=3.4890188454913864;, score=-24.305 total time= 1.0min\n",
      "[CV 2/5; 14/50] START model__C=0.3972110727381912, model__epsilon=3.4890188454913864\n"
     ]
    },
    {
     "name": "stderr",
     "output_type": "stream",
     "text": [
      "/opt/anaconda3/lib/python3.9/site-packages/sklearn/svm/_base.py:299: ConvergenceWarning: Solver terminated early (max_iter=50000).  Consider pre-processing your data with StandardScaler or MinMaxScaler.\n",
      "  warnings.warn(\n"
     ]
    },
    {
     "name": "stdout",
     "output_type": "stream",
     "text": [
      "[CV 2/5; 14/50] END model__C=0.3972110727381912, model__epsilon=3.4890188454913864;, score=-24.783 total time=  59.7s\n",
      "[CV 3/5; 14/50] START model__C=0.3972110727381912, model__epsilon=3.4890188454913864\n"
     ]
    },
    {
     "name": "stderr",
     "output_type": "stream",
     "text": [
      "/opt/anaconda3/lib/python3.9/site-packages/sklearn/svm/_base.py:299: ConvergenceWarning: Solver terminated early (max_iter=50000).  Consider pre-processing your data with StandardScaler or MinMaxScaler.\n",
      "  warnings.warn(\n"
     ]
    },
    {
     "name": "stdout",
     "output_type": "stream",
     "text": [
      "[CV 3/5; 14/50] END model__C=0.3972110727381912, model__epsilon=3.4890188454913864;, score=-24.454 total time=  59.8s\n",
      "[CV 4/5; 14/50] START model__C=0.3972110727381912, model__epsilon=3.4890188454913864\n"
     ]
    },
    {
     "name": "stderr",
     "output_type": "stream",
     "text": [
      "/opt/anaconda3/lib/python3.9/site-packages/sklearn/svm/_base.py:299: ConvergenceWarning: Solver terminated early (max_iter=50000).  Consider pre-processing your data with StandardScaler or MinMaxScaler.\n",
      "  warnings.warn(\n"
     ]
    },
    {
     "name": "stdout",
     "output_type": "stream",
     "text": [
      "[CV 4/5; 14/50] END model__C=0.3972110727381912, model__epsilon=3.4890188454913864;, score=-24.089 total time=  59.7s\n",
      "[CV 5/5; 14/50] START model__C=0.3972110727381912, model__epsilon=3.4890188454913864\n"
     ]
    },
    {
     "name": "stderr",
     "output_type": "stream",
     "text": [
      "/opt/anaconda3/lib/python3.9/site-packages/sklearn/svm/_base.py:299: ConvergenceWarning: Solver terminated early (max_iter=50000).  Consider pre-processing your data with StandardScaler or MinMaxScaler.\n",
      "  warnings.warn(\n"
     ]
    },
    {
     "name": "stdout",
     "output_type": "stream",
     "text": [
      "[CV 5/5; 14/50] END model__C=0.3972110727381912, model__epsilon=3.4890188454913864;, score=-24.693 total time=  59.6s\n",
      "[CV 1/5; 15/50] START model__C=5.9874749104613985, model__epsilon=0.13783237455007183\n"
     ]
    },
    {
     "name": "stderr",
     "output_type": "stream",
     "text": [
      "/opt/anaconda3/lib/python3.9/site-packages/sklearn/svm/_base.py:299: ConvergenceWarning: Solver terminated early (max_iter=50000).  Consider pre-processing your data with StandardScaler or MinMaxScaler.\n",
      "  warnings.warn(\n"
     ]
    },
    {
     "name": "stdout",
     "output_type": "stream",
     "text": [
      "[CV 1/5; 15/50] END model__C=5.9874749104613985, model__epsilon=0.13783237455007183;, score=-23.129 total time= 1.8min\n",
      "[CV 2/5; 15/50] START model__C=5.9874749104613985, model__epsilon=0.13783237455007183\n"
     ]
    },
    {
     "name": "stderr",
     "output_type": "stream",
     "text": [
      "/opt/anaconda3/lib/python3.9/site-packages/sklearn/svm/_base.py:299: ConvergenceWarning: Solver terminated early (max_iter=50000).  Consider pre-processing your data with StandardScaler or MinMaxScaler.\n",
      "  warnings.warn(\n"
     ]
    },
    {
     "name": "stdout",
     "output_type": "stream",
     "text": [
      "[CV 2/5; 15/50] END model__C=5.9874749104613985, model__epsilon=0.13783237455007183;, score=-23.576 total time= 1.8min\n",
      "[CV 3/5; 15/50] START model__C=5.9874749104613985, model__epsilon=0.13783237455007183\n"
     ]
    },
    {
     "name": "stderr",
     "output_type": "stream",
     "text": [
      "/opt/anaconda3/lib/python3.9/site-packages/sklearn/svm/_base.py:299: ConvergenceWarning: Solver terminated early (max_iter=50000).  Consider pre-processing your data with StandardScaler or MinMaxScaler.\n",
      "  warnings.warn(\n"
     ]
    },
    {
     "name": "stdout",
     "output_type": "stream",
     "text": [
      "[CV 3/5; 15/50] END model__C=5.9874749104613985, model__epsilon=0.13783237455007183;, score=-23.323 total time= 1.8min\n",
      "[CV 4/5; 15/50] START model__C=5.9874749104613985, model__epsilon=0.13783237455007183\n"
     ]
    },
    {
     "name": "stderr",
     "output_type": "stream",
     "text": [
      "/opt/anaconda3/lib/python3.9/site-packages/sklearn/svm/_base.py:299: ConvergenceWarning: Solver terminated early (max_iter=50000).  Consider pre-processing your data with StandardScaler or MinMaxScaler.\n",
      "  warnings.warn(\n"
     ]
    },
    {
     "name": "stdout",
     "output_type": "stream",
     "text": [
      "[CV 4/5; 15/50] END model__C=5.9874749104613985, model__epsilon=0.13783237455007183;, score=-23.074 total time= 1.8min\n",
      "[CV 5/5; 15/50] START model__C=5.9874749104613985, model__epsilon=0.13783237455007183\n"
     ]
    },
    {
     "name": "stderr",
     "output_type": "stream",
     "text": [
      "/opt/anaconda3/lib/python3.9/site-packages/sklearn/svm/_base.py:299: ConvergenceWarning: Solver terminated early (max_iter=50000).  Consider pre-processing your data with StandardScaler or MinMaxScaler.\n",
      "  warnings.warn(\n"
     ]
    },
    {
     "name": "stdout",
     "output_type": "stream",
     "text": [
      "[CV 5/5; 15/50] END model__C=5.9874749104613985, model__epsilon=0.13783237455007183;, score=-23.557 total time= 1.8min\n",
      "[CV 1/5; 16/50] START model__C=6.647135865318027, model__epsilon=0.32476735706274484\n"
     ]
    },
    {
     "name": "stderr",
     "output_type": "stream",
     "text": [
      "/opt/anaconda3/lib/python3.9/site-packages/sklearn/svm/_base.py:299: ConvergenceWarning: Solver terminated early (max_iter=50000).  Consider pre-processing your data with StandardScaler or MinMaxScaler.\n",
      "  warnings.warn(\n"
     ]
    },
    {
     "name": "stdout",
     "output_type": "stream",
     "text": [
      "[CV 1/5; 16/50] END model__C=6.647135865318027, model__epsilon=0.32476735706274484;, score=-23.256 total time= 1.8min\n",
      "[CV 2/5; 16/50] START model__C=6.647135865318027, model__epsilon=0.32476735706274484\n"
     ]
    },
    {
     "name": "stderr",
     "output_type": "stream",
     "text": [
      "/opt/anaconda3/lib/python3.9/site-packages/sklearn/svm/_base.py:299: ConvergenceWarning: Solver terminated early (max_iter=50000).  Consider pre-processing your data with StandardScaler or MinMaxScaler.\n",
      "  warnings.warn(\n"
     ]
    },
    {
     "name": "stdout",
     "output_type": "stream",
     "text": [
      "[CV 2/5; 16/50] END model__C=6.647135865318027, model__epsilon=0.32476735706274484;, score=-23.547 total time= 1.7min\n",
      "[CV 3/5; 16/50] START model__C=6.647135865318027, model__epsilon=0.32476735706274484\n"
     ]
    },
    {
     "name": "stderr",
     "output_type": "stream",
     "text": [
      "/opt/anaconda3/lib/python3.9/site-packages/sklearn/svm/_base.py:299: ConvergenceWarning: Solver terminated early (max_iter=50000).  Consider pre-processing your data with StandardScaler or MinMaxScaler.\n",
      "  warnings.warn(\n"
     ]
    },
    {
     "name": "stdout",
     "output_type": "stream",
     "text": [
      "[CV 3/5; 16/50] END model__C=6.647135865318027, model__epsilon=0.32476735706274484;, score=-23.306 total time= 1.7min\n",
      "[CV 4/5; 16/50] START model__C=6.647135865318027, model__epsilon=0.32476735706274484\n"
     ]
    },
    {
     "name": "stderr",
     "output_type": "stream",
     "text": [
      "/opt/anaconda3/lib/python3.9/site-packages/sklearn/svm/_base.py:299: ConvergenceWarning: Solver terminated early (max_iter=50000).  Consider pre-processing your data with StandardScaler or MinMaxScaler.\n",
      "  warnings.warn(\n"
     ]
    },
    {
     "name": "stdout",
     "output_type": "stream",
     "text": [
      "[CV 4/5; 16/50] END model__C=6.647135865318027, model__epsilon=0.32476735706274484;, score=-23.075 total time= 1.7min\n",
      "[CV 5/5; 16/50] START model__C=6.647135865318027, model__epsilon=0.32476735706274484\n"
     ]
    },
    {
     "name": "stderr",
     "output_type": "stream",
     "text": [
      "/opt/anaconda3/lib/python3.9/site-packages/sklearn/svm/_base.py:299: ConvergenceWarning: Solver terminated early (max_iter=50000).  Consider pre-processing your data with StandardScaler or MinMaxScaler.\n",
      "  warnings.warn(\n"
     ]
    },
    {
     "name": "stdout",
     "output_type": "stream",
     "text": [
      "[CV 5/5; 16/50] END model__C=6.647135865318027, model__epsilon=0.32476735706274484;, score=-23.551 total time= 1.7min\n",
      "[CV 1/5; 17/50] START model__C=0.15673095467235415, model__epsilon=70.25166339242152\n",
      "[CV 1/5; 17/50] END model__C=0.15673095467235415, model__epsilon=70.25166339242152;, score=-69.608 total time=  15.4s\n",
      "[CV 2/5; 17/50] START model__C=0.15673095467235415, model__epsilon=70.25166339242152\n",
      "[CV 2/5; 17/50] END model__C=0.15673095467235415, model__epsilon=70.25166339242152;, score=-69.689 total time=  15.2s\n",
      "[CV 3/5; 17/50] START model__C=0.15673095467235415, model__epsilon=70.25166339242152\n",
      "[CV 3/5; 17/50] END model__C=0.15673095467235415, model__epsilon=70.25166339242152;, score=-69.531 total time=  15.3s\n",
      "[CV 4/5; 17/50] START model__C=0.15673095467235415, model__epsilon=70.25166339242152\n",
      "[CV 4/5; 17/50] END model__C=0.15673095467235415, model__epsilon=70.25166339242152;, score=-69.449 total time=  15.2s\n",
      "[CV 5/5; 17/50] START model__C=0.15673095467235415, model__epsilon=70.25166339242152\n",
      "[CV 5/5; 17/50] END model__C=0.15673095467235415, model__epsilon=70.25166339242152;, score=-69.985 total time=  15.3s\n",
      "[CV 1/5; 18/50] START model__C=78.86714129990483, model__epsilon=26.619018884890558\n"
     ]
    },
    {
     "name": "stderr",
     "output_type": "stream",
     "text": [
      "/opt/anaconda3/lib/python3.9/site-packages/sklearn/svm/_base.py:299: ConvergenceWarning: Solver terminated early (max_iter=50000).  Consider pre-processing your data with StandardScaler or MinMaxScaler.\n",
      "  warnings.warn(\n"
     ]
    },
    {
     "name": "stdout",
     "output_type": "stream",
     "text": [
      "[CV 1/5; 18/50] END model__C=78.86714129990483, model__epsilon=26.619018884890558;, score=-30.557 total time=  42.1s\n",
      "[CV 2/5; 18/50] START model__C=78.86714129990483, model__epsilon=26.619018884890558\n"
     ]
    },
    {
     "name": "stderr",
     "output_type": "stream",
     "text": [
      "/opt/anaconda3/lib/python3.9/site-packages/sklearn/svm/_base.py:299: ConvergenceWarning: Solver terminated early (max_iter=50000).  Consider pre-processing your data with StandardScaler or MinMaxScaler.\n",
      "  warnings.warn(\n"
     ]
    },
    {
     "name": "stdout",
     "output_type": "stream",
     "text": [
      "[CV 2/5; 18/50] END model__C=78.86714129990483, model__epsilon=26.619018884890558;, score=-30.583 total time=  41.9s\n",
      "[CV 3/5; 18/50] START model__C=78.86714129990483, model__epsilon=26.619018884890558\n"
     ]
    },
    {
     "name": "stderr",
     "output_type": "stream",
     "text": [
      "/opt/anaconda3/lib/python3.9/site-packages/sklearn/svm/_base.py:299: ConvergenceWarning: Solver terminated early (max_iter=50000).  Consider pre-processing your data with StandardScaler or MinMaxScaler.\n",
      "  warnings.warn(\n"
     ]
    },
    {
     "name": "stdout",
     "output_type": "stream",
     "text": [
      "[CV 3/5; 18/50] END model__C=78.86714129990483, model__epsilon=26.619018884890558;, score=-30.749 total time=  41.6s\n",
      "[CV 4/5; 18/50] START model__C=78.86714129990483, model__epsilon=26.619018884890558\n"
     ]
    },
    {
     "name": "stderr",
     "output_type": "stream",
     "text": [
      "/opt/anaconda3/lib/python3.9/site-packages/sklearn/svm/_base.py:299: ConvergenceWarning: Solver terminated early (max_iter=50000).  Consider pre-processing your data with StandardScaler or MinMaxScaler.\n",
      "  warnings.warn(\n"
     ]
    },
    {
     "name": "stdout",
     "output_type": "stream",
     "text": [
      "[CV 4/5; 18/50] END model__C=78.86714129990483, model__epsilon=26.619018884890558;, score=-30.302 total time=  41.4s\n",
      "[CV 5/5; 18/50] START model__C=78.86714129990483, model__epsilon=26.619018884890558\n"
     ]
    },
    {
     "name": "stderr",
     "output_type": "stream",
     "text": [
      "/opt/anaconda3/lib/python3.9/site-packages/sklearn/svm/_base.py:299: ConvergenceWarning: Solver terminated early (max_iter=50000).  Consider pre-processing your data with StandardScaler or MinMaxScaler.\n",
      "  warnings.warn(\n"
     ]
    },
    {
     "name": "stdout",
     "output_type": "stream",
     "text": [
      "[CV 5/5; 18/50] END model__C=78.86714129990483, model__epsilon=26.619018884890558;, score=-30.853 total time=  41.7s\n",
      "[CV 1/5; 19/50] START model__C=0.8200518402245829, model__epsilon=0.1963434157293333\n"
     ]
    },
    {
     "name": "stderr",
     "output_type": "stream",
     "text": [
      "/opt/anaconda3/lib/python3.9/site-packages/sklearn/svm/_base.py:299: ConvergenceWarning: Solver terminated early (max_iter=50000).  Consider pre-processing your data with StandardScaler or MinMaxScaler.\n",
      "  warnings.warn(\n"
     ]
    },
    {
     "name": "stdout",
     "output_type": "stream",
     "text": [
      "[CV 1/5; 19/50] END model__C=0.8200518402245829, model__epsilon=0.1963434157293333;, score=-23.370 total time= 1.7min\n",
      "[CV 2/5; 19/50] START model__C=0.8200518402245829, model__epsilon=0.1963434157293333\n"
     ]
    },
    {
     "name": "stderr",
     "output_type": "stream",
     "text": [
      "/opt/anaconda3/lib/python3.9/site-packages/sklearn/svm/_base.py:299: ConvergenceWarning: Solver terminated early (max_iter=50000).  Consider pre-processing your data with StandardScaler or MinMaxScaler.\n",
      "  warnings.warn(\n"
     ]
    },
    {
     "name": "stdout",
     "output_type": "stream",
     "text": [
      "[CV 2/5; 19/50] END model__C=0.8200518402245829, model__epsilon=0.1963434157293333;, score=-23.899 total time= 1.7min\n",
      "[CV 3/5; 19/50] START model__C=0.8200518402245829, model__epsilon=0.1963434157293333\n"
     ]
    },
    {
     "name": "stderr",
     "output_type": "stream",
     "text": [
      "/opt/anaconda3/lib/python3.9/site-packages/sklearn/svm/_base.py:299: ConvergenceWarning: Solver terminated early (max_iter=50000).  Consider pre-processing your data with StandardScaler or MinMaxScaler.\n",
      "  warnings.warn(\n"
     ]
    },
    {
     "name": "stdout",
     "output_type": "stream",
     "text": [
      "[CV 3/5; 19/50] END model__C=0.8200518402245829, model__epsilon=0.1963434157293333;, score=-23.590 total time= 1.7min\n",
      "[CV 4/5; 19/50] START model__C=0.8200518402245829, model__epsilon=0.1963434157293333\n"
     ]
    },
    {
     "name": "stderr",
     "output_type": "stream",
     "text": [
      "/opt/anaconda3/lib/python3.9/site-packages/sklearn/svm/_base.py:299: ConvergenceWarning: Solver terminated early (max_iter=50000).  Consider pre-processing your data with StandardScaler or MinMaxScaler.\n",
      "  warnings.warn(\n"
     ]
    },
    {
     "name": "stdout",
     "output_type": "stream",
     "text": [
      "[CV 4/5; 19/50] END model__C=0.8200518402245829, model__epsilon=0.1963434157293333;, score=-23.250 total time= 1.7min\n",
      "[CV 5/5; 19/50] START model__C=0.8200518402245829, model__epsilon=0.1963434157293333\n"
     ]
    },
    {
     "name": "stderr",
     "output_type": "stream",
     "text": [
      "/opt/anaconda3/lib/python3.9/site-packages/sklearn/svm/_base.py:299: ConvergenceWarning: Solver terminated early (max_iter=50000).  Consider pre-processing your data with StandardScaler or MinMaxScaler.\n",
      "  warnings.warn(\n"
     ]
    },
    {
     "name": "stdout",
     "output_type": "stream",
     "text": [
      "[CV 5/5; 19/50] END model__C=0.8200518402245829, model__epsilon=0.1963434157293333;, score=-23.863 total time= 1.7min\n",
      "[CV 1/5; 20/50] START model__C=11.290133559092672, model__epsilon=2.0914981329035602\n"
     ]
    },
    {
     "name": "stderr",
     "output_type": "stream",
     "text": [
      "/opt/anaconda3/lib/python3.9/site-packages/sklearn/svm/_base.py:299: ConvergenceWarning: Solver terminated early (max_iter=50000).  Consider pre-processing your data with StandardScaler or MinMaxScaler.\n",
      "  warnings.warn(\n"
     ]
    },
    {
     "name": "stdout",
     "output_type": "stream",
     "text": [
      "[CV 1/5; 20/50] END model__C=11.290133559092672, model__epsilon=2.0914981329035602;, score=-23.299 total time= 1.4min\n",
      "[CV 2/5; 20/50] START model__C=11.290133559092672, model__epsilon=2.0914981329035602\n"
     ]
    },
    {
     "name": "stderr",
     "output_type": "stream",
     "text": [
      "/opt/anaconda3/lib/python3.9/site-packages/sklearn/svm/_base.py:299: ConvergenceWarning: Solver terminated early (max_iter=50000).  Consider pre-processing your data with StandardScaler or MinMaxScaler.\n",
      "  warnings.warn(\n"
     ]
    },
    {
     "name": "stdout",
     "output_type": "stream",
     "text": [
      "[CV 2/5; 20/50] END model__C=11.290133559092672, model__epsilon=2.0914981329035602;, score=-23.609 total time= 1.4min\n",
      "[CV 3/5; 20/50] START model__C=11.290133559092672, model__epsilon=2.0914981329035602\n"
     ]
    },
    {
     "name": "stderr",
     "output_type": "stream",
     "text": [
      "/opt/anaconda3/lib/python3.9/site-packages/sklearn/svm/_base.py:299: ConvergenceWarning: Solver terminated early (max_iter=50000).  Consider pre-processing your data with StandardScaler or MinMaxScaler.\n",
      "  warnings.warn(\n"
     ]
    },
    {
     "name": "stdout",
     "output_type": "stream",
     "text": [
      "[CV 3/5; 20/50] END model__C=11.290133559092672, model__epsilon=2.0914981329035602;, score=-23.345 total time= 1.4min\n",
      "[CV 4/5; 20/50] START model__C=11.290133559092672, model__epsilon=2.0914981329035602\n"
     ]
    },
    {
     "name": "stderr",
     "output_type": "stream",
     "text": [
      "/opt/anaconda3/lib/python3.9/site-packages/sklearn/svm/_base.py:299: ConvergenceWarning: Solver terminated early (max_iter=50000).  Consider pre-processing your data with StandardScaler or MinMaxScaler.\n",
      "  warnings.warn(\n"
     ]
    },
    {
     "name": "stdout",
     "output_type": "stream",
     "text": [
      "[CV 4/5; 20/50] END model__C=11.290133559092672, model__epsilon=2.0914981329035602;, score=-23.147 total time= 1.4min\n",
      "[CV 5/5; 20/50] START model__C=11.290133559092672, model__epsilon=2.0914981329035602\n"
     ]
    },
    {
     "name": "stderr",
     "output_type": "stream",
     "text": [
      "/opt/anaconda3/lib/python3.9/site-packages/sklearn/svm/_base.py:299: ConvergenceWarning: Solver terminated early (max_iter=50000).  Consider pre-processing your data with StandardScaler or MinMaxScaler.\n",
      "  warnings.warn(\n"
     ]
    },
    {
     "name": "stdout",
     "output_type": "stream",
     "text": [
      "[CV 5/5; 20/50] END model__C=11.290133559092672, model__epsilon=2.0914981329035602;, score=-23.623 total time= 1.4min\n",
      "[CV 1/5; 21/50] START model__C=0.2323350351539011, model__epsilon=3.0586566669785253\n"
     ]
    },
    {
     "name": "stderr",
     "output_type": "stream",
     "text": [
      "/opt/anaconda3/lib/python3.9/site-packages/sklearn/svm/_base.py:299: ConvergenceWarning: Solver terminated early (max_iter=50000).  Consider pre-processing your data with StandardScaler or MinMaxScaler.\n",
      "  warnings.warn(\n"
     ]
    },
    {
     "name": "stdout",
     "output_type": "stream",
     "text": [
      "[CV 1/5; 21/50] END model__C=0.2323350351539011, model__epsilon=3.0586566669785253;, score=-25.246 total time= 1.0min\n",
      "[CV 2/5; 21/50] START model__C=0.2323350351539011, model__epsilon=3.0586566669785253\n"
     ]
    },
    {
     "name": "stderr",
     "output_type": "stream",
     "text": [
      "/opt/anaconda3/lib/python3.9/site-packages/sklearn/svm/_base.py:299: ConvergenceWarning: Solver terminated early (max_iter=50000).  Consider pre-processing your data with StandardScaler or MinMaxScaler.\n",
      "  warnings.warn(\n"
     ]
    },
    {
     "name": "stdout",
     "output_type": "stream",
     "text": [
      "[CV 2/5; 21/50] END model__C=0.2323350351539011, model__epsilon=3.0586566669785253;, score=-25.683 total time= 1.0min\n",
      "[CV 3/5; 21/50] START model__C=0.2323350351539011, model__epsilon=3.0586566669785253\n"
     ]
    },
    {
     "name": "stderr",
     "output_type": "stream",
     "text": [
      "/opt/anaconda3/lib/python3.9/site-packages/sklearn/svm/_base.py:299: ConvergenceWarning: Solver terminated early (max_iter=50000).  Consider pre-processing your data with StandardScaler or MinMaxScaler.\n",
      "  warnings.warn(\n"
     ]
    },
    {
     "name": "stdout",
     "output_type": "stream",
     "text": [
      "[CV 3/5; 21/50] END model__C=0.2323350351539011, model__epsilon=3.0586566669785253;, score=-25.437 total time= 1.0min\n",
      "[CV 4/5; 21/50] START model__C=0.2323350351539011, model__epsilon=3.0586566669785253\n",
      "[CV 4/5; 21/50] END model__C=0.2323350351539011, model__epsilon=3.0586566669785253;, score=-25.095 total time= 1.0min\n",
      "[CV 5/5; 21/50] START model__C=0.2323350351539011, model__epsilon=3.0586566669785253\n"
     ]
    },
    {
     "name": "stderr",
     "output_type": "stream",
     "text": [
      "/opt/anaconda3/lib/python3.9/site-packages/sklearn/svm/_base.py:299: ConvergenceWarning: Solver terminated early (max_iter=50000).  Consider pre-processing your data with StandardScaler or MinMaxScaler.\n",
      "  warnings.warn(\n"
     ]
    },
    {
     "name": "stdout",
     "output_type": "stream",
     "text": [
      "[CV 5/5; 21/50] END model__C=0.2323350351539011, model__epsilon=3.0586566669785253;, score=-25.651 total time= 1.0min\n",
      "[CV 1/5; 22/50] START model__C=0.12681352169084595, model__epsilon=53.45166110646818\n",
      "[CV 1/5; 22/50] END model__C=0.12681352169084595, model__epsilon=53.45166110646818;, score=-57.006 total time=  18.5s\n",
      "[CV 2/5; 22/50] START model__C=0.12681352169084595, model__epsilon=53.45166110646818\n",
      "[CV 2/5; 22/50] END model__C=0.12681352169084595, model__epsilon=53.45166110646818;, score=-57.159 total time=  18.2s\n",
      "[CV 3/5; 22/50] START model__C=0.12681352169084595, model__epsilon=53.45166110646818\n",
      "[CV 3/5; 22/50] END model__C=0.12681352169084595, model__epsilon=53.45166110646818;, score=-56.985 total time=  18.5s\n",
      "[CV 4/5; 22/50] START model__C=0.12681352169084595, model__epsilon=53.45166110646818\n",
      "[CV 4/5; 22/50] END model__C=0.12681352169084595, model__epsilon=53.45166110646818;, score=-56.856 total time=  18.3s\n",
      "[CV 5/5; 22/50] START model__C=0.12681352169084595, model__epsilon=53.45166110646818\n",
      "[CV 5/5; 22/50] END model__C=0.12681352169084595, model__epsilon=53.45166110646818;, score=-57.360 total time=  18.4s\n",
      "[CV 1/5; 23/50] START model__C=0.5975027999960293, model__epsilon=9.717775305059629\n"
     ]
    },
    {
     "name": "stderr",
     "output_type": "stream",
     "text": [
      "/opt/anaconda3/lib/python3.9/site-packages/sklearn/svm/_base.py:299: ConvergenceWarning: Solver terminated early (max_iter=50000).  Consider pre-processing your data with StandardScaler or MinMaxScaler.\n",
      "  warnings.warn(\n"
     ]
    },
    {
     "name": "stdout",
     "output_type": "stream",
     "text": [
      "[CV 1/5; 23/50] END model__C=0.5975027999960293, model__epsilon=9.717775305059629;, score=-25.048 total time=  39.1s\n",
      "[CV 2/5; 23/50] START model__C=0.5975027999960293, model__epsilon=9.717775305059629\n"
     ]
    },
    {
     "name": "stderr",
     "output_type": "stream",
     "text": [
      "/opt/anaconda3/lib/python3.9/site-packages/sklearn/svm/_base.py:299: ConvergenceWarning: Solver terminated early (max_iter=50000).  Consider pre-processing your data with StandardScaler or MinMaxScaler.\n",
      "  warnings.warn(\n"
     ]
    },
    {
     "name": "stdout",
     "output_type": "stream",
     "text": [
      "[CV 2/5; 23/50] END model__C=0.5975027999960293, model__epsilon=9.717775305059629;, score=-25.517 total time=  38.9s\n",
      "[CV 3/5; 23/50] START model__C=0.5975027999960293, model__epsilon=9.717775305059629\n"
     ]
    },
    {
     "name": "stderr",
     "output_type": "stream",
     "text": [
      "/opt/anaconda3/lib/python3.9/site-packages/sklearn/svm/_base.py:299: ConvergenceWarning: Solver terminated early (max_iter=50000).  Consider pre-processing your data with StandardScaler or MinMaxScaler.\n",
      "  warnings.warn(\n"
     ]
    },
    {
     "name": "stdout",
     "output_type": "stream",
     "text": [
      "[CV 3/5; 23/50] END model__C=0.5975027999960293, model__epsilon=9.717775305059629;, score=-25.257 total time=  39.1s\n",
      "[CV 4/5; 23/50] START model__C=0.5975027999960293, model__epsilon=9.717775305059629\n"
     ]
    },
    {
     "name": "stderr",
     "output_type": "stream",
     "text": [
      "/opt/anaconda3/lib/python3.9/site-packages/sklearn/svm/_base.py:299: ConvergenceWarning: Solver terminated early (max_iter=50000).  Consider pre-processing your data with StandardScaler or MinMaxScaler.\n",
      "  warnings.warn(\n"
     ]
    },
    {
     "name": "stdout",
     "output_type": "stream",
     "text": [
      "[CV 4/5; 23/50] END model__C=0.5975027999960293, model__epsilon=9.717775305059629;, score=-24.761 total time=  38.5s\n",
      "[CV 5/5; 23/50] START model__C=0.5975027999960293, model__epsilon=9.717775305059629\n"
     ]
    },
    {
     "name": "stderr",
     "output_type": "stream",
     "text": [
      "/opt/anaconda3/lib/python3.9/site-packages/sklearn/svm/_base.py:299: ConvergenceWarning: Solver terminated early (max_iter=50000).  Consider pre-processing your data with StandardScaler or MinMaxScaler.\n",
      "  warnings.warn(\n"
     ]
    },
    {
     "name": "stdout",
     "output_type": "stream",
     "text": [
      "[CV 5/5; 23/50] END model__C=0.5975027999960293, model__epsilon=9.717775305059629;, score=-25.560 total time=  39.1s\n",
      "[CV 1/5; 24/50] START model__C=0.8612579192594884, model__epsilon=3.632486956676605\n"
     ]
    },
    {
     "name": "stderr",
     "output_type": "stream",
     "text": [
      "/opt/anaconda3/lib/python3.9/site-packages/sklearn/svm/_base.py:299: ConvergenceWarning: Solver terminated early (max_iter=50000).  Consider pre-processing your data with StandardScaler or MinMaxScaler.\n",
      "  warnings.warn(\n"
     ]
    },
    {
     "name": "stdout",
     "output_type": "stream",
     "text": [
      "[CV 1/5; 24/50] END model__C=0.8612579192594884, model__epsilon=3.632486956676605;, score=-23.555 total time= 1.0min\n",
      "[CV 2/5; 24/50] START model__C=0.8612579192594884, model__epsilon=3.632486956676605\n"
     ]
    },
    {
     "name": "stderr",
     "output_type": "stream",
     "text": [
      "/opt/anaconda3/lib/python3.9/site-packages/sklearn/svm/_base.py:299: ConvergenceWarning: Solver terminated early (max_iter=50000).  Consider pre-processing your data with StandardScaler or MinMaxScaler.\n",
      "  warnings.warn(\n"
     ]
    },
    {
     "name": "stdout",
     "output_type": "stream",
     "text": [
      "[CV 2/5; 24/50] END model__C=0.8612579192594884, model__epsilon=3.632486956676605;, score=-24.041 total time=  59.7s\n",
      "[CV 3/5; 24/50] START model__C=0.8612579192594884, model__epsilon=3.632486956676605\n"
     ]
    },
    {
     "name": "stderr",
     "output_type": "stream",
     "text": [
      "/opt/anaconda3/lib/python3.9/site-packages/sklearn/svm/_base.py:299: ConvergenceWarning: Solver terminated early (max_iter=50000).  Consider pre-processing your data with StandardScaler or MinMaxScaler.\n",
      "  warnings.warn(\n"
     ]
    },
    {
     "name": "stdout",
     "output_type": "stream",
     "text": [
      "[CV 3/5; 24/50] END model__C=0.8612579192594884, model__epsilon=3.632486956676605;, score=-23.746 total time= 1.0min\n",
      "[CV 4/5; 24/50] START model__C=0.8612579192594884, model__epsilon=3.632486956676605\n"
     ]
    },
    {
     "name": "stderr",
     "output_type": "stream",
     "text": [
      "/opt/anaconda3/lib/python3.9/site-packages/sklearn/svm/_base.py:299: ConvergenceWarning: Solver terminated early (max_iter=50000).  Consider pre-processing your data with StandardScaler or MinMaxScaler.\n",
      "  warnings.warn(\n"
     ]
    },
    {
     "name": "stdout",
     "output_type": "stream",
     "text": [
      "[CV 4/5; 24/50] END model__C=0.8612579192594884, model__epsilon=3.632486956676605;, score=-23.396 total time=  59.8s\n",
      "[CV 5/5; 24/50] START model__C=0.8612579192594884, model__epsilon=3.632486956676605\n"
     ]
    },
    {
     "name": "stderr",
     "output_type": "stream",
     "text": [
      "/opt/anaconda3/lib/python3.9/site-packages/sklearn/svm/_base.py:299: ConvergenceWarning: Solver terminated early (max_iter=50000).  Consider pre-processing your data with StandardScaler or MinMaxScaler.\n",
      "  warnings.warn(\n"
     ]
    },
    {
     "name": "stdout",
     "output_type": "stream",
     "text": [
      "[CV 5/5; 24/50] END model__C=0.8612579192594884, model__epsilon=3.632486956676605;, score=-24.047 total time= 1.0min\n",
      "[CV 1/5; 25/50] START model__C=4.366473592979633, model__epsilon=0.35856126103453967\n"
     ]
    },
    {
     "name": "stderr",
     "output_type": "stream",
     "text": [
      "/opt/anaconda3/lib/python3.9/site-packages/sklearn/svm/_base.py:299: ConvergenceWarning: Solver terminated early (max_iter=50000).  Consider pre-processing your data with StandardScaler or MinMaxScaler.\n",
      "  warnings.warn(\n"
     ]
    },
    {
     "name": "stdout",
     "output_type": "stream",
     "text": [
      "[CV 1/5; 25/50] END model__C=4.366473592979633, model__epsilon=0.35856126103453967;, score=-23.138 total time= 1.8min\n",
      "[CV 2/5; 25/50] START model__C=4.366473592979633, model__epsilon=0.35856126103453967\n"
     ]
    },
    {
     "name": "stderr",
     "output_type": "stream",
     "text": [
      "/opt/anaconda3/lib/python3.9/site-packages/sklearn/svm/_base.py:299: ConvergenceWarning: Solver terminated early (max_iter=50000).  Consider pre-processing your data with StandardScaler or MinMaxScaler.\n",
      "  warnings.warn(\n"
     ]
    },
    {
     "name": "stdout",
     "output_type": "stream",
     "text": [
      "[CV 2/5; 25/50] END model__C=4.366473592979633, model__epsilon=0.35856126103453967;, score=-23.560 total time= 1.8min\n",
      "[CV 3/5; 25/50] START model__C=4.366473592979633, model__epsilon=0.35856126103453967\n"
     ]
    },
    {
     "name": "stderr",
     "output_type": "stream",
     "text": [
      "/opt/anaconda3/lib/python3.9/site-packages/sklearn/svm/_base.py:299: ConvergenceWarning: Solver terminated early (max_iter=50000).  Consider pre-processing your data with StandardScaler or MinMaxScaler.\n",
      "  warnings.warn(\n"
     ]
    },
    {
     "name": "stdout",
     "output_type": "stream",
     "text": [
      "[CV 3/5; 25/50] END model__C=4.366473592979633, model__epsilon=0.35856126103453967;, score=-23.307 total time= 1.8min\n",
      "[CV 4/5; 25/50] START model__C=4.366473592979633, model__epsilon=0.35856126103453967\n"
     ]
    },
    {
     "name": "stderr",
     "output_type": "stream",
     "text": [
      "/opt/anaconda3/lib/python3.9/site-packages/sklearn/svm/_base.py:299: ConvergenceWarning: Solver terminated early (max_iter=50000).  Consider pre-processing your data with StandardScaler or MinMaxScaler.\n",
      "  warnings.warn(\n"
     ]
    },
    {
     "name": "stdout",
     "output_type": "stream",
     "text": [
      "[CV 4/5; 25/50] END model__C=4.366473592979633, model__epsilon=0.35856126103453967;, score=-23.041 total time= 1.8min\n",
      "[CV 5/5; 25/50] START model__C=4.366473592979633, model__epsilon=0.35856126103453967\n"
     ]
    },
    {
     "name": "stderr",
     "output_type": "stream",
     "text": [
      "/opt/anaconda3/lib/python3.9/site-packages/sklearn/svm/_base.py:299: ConvergenceWarning: Solver terminated early (max_iter=50000).  Consider pre-processing your data with StandardScaler or MinMaxScaler.\n",
      "  warnings.warn(\n"
     ]
    },
    {
     "name": "stdout",
     "output_type": "stream",
     "text": [
      "[CV 5/5; 25/50] END model__C=4.366473592979633, model__epsilon=0.35856126103453967;, score=-23.528 total time= 1.8min\n",
      "[CV 1/5; 26/50] START model__C=81.05016126411583, model__epsilon=21.154290797261208\n"
     ]
    },
    {
     "name": "stderr",
     "output_type": "stream",
     "text": [
      "/opt/anaconda3/lib/python3.9/site-packages/sklearn/svm/_base.py:299: ConvergenceWarning: Solver terminated early (max_iter=50000).  Consider pre-processing your data with StandardScaler or MinMaxScaler.\n",
      "  warnings.warn(\n"
     ]
    },
    {
     "name": "stdout",
     "output_type": "stream",
     "text": [
      "[CV 1/5; 26/50] END model__C=81.05016126411583, model__epsilon=21.154290797261208;, score=-28.733 total time=  48.2s\n",
      "[CV 2/5; 26/50] START model__C=81.05016126411583, model__epsilon=21.154290797261208\n"
     ]
    },
    {
     "name": "stderr",
     "output_type": "stream",
     "text": [
      "/opt/anaconda3/lib/python3.9/site-packages/sklearn/svm/_base.py:299: ConvergenceWarning: Solver terminated early (max_iter=50000).  Consider pre-processing your data with StandardScaler or MinMaxScaler.\n",
      "  warnings.warn(\n"
     ]
    },
    {
     "name": "stdout",
     "output_type": "stream",
     "text": [
      "[CV 2/5; 26/50] END model__C=81.05016126411583, model__epsilon=21.154290797261208;, score=-28.568 total time=  48.1s\n",
      "[CV 3/5; 26/50] START model__C=81.05016126411583, model__epsilon=21.154290797261208\n"
     ]
    },
    {
     "name": "stderr",
     "output_type": "stream",
     "text": [
      "/opt/anaconda3/lib/python3.9/site-packages/sklearn/svm/_base.py:299: ConvergenceWarning: Solver terminated early (max_iter=50000).  Consider pre-processing your data with StandardScaler or MinMaxScaler.\n",
      "  warnings.warn(\n"
     ]
    },
    {
     "name": "stdout",
     "output_type": "stream",
     "text": [
      "[CV 3/5; 26/50] END model__C=81.05016126411583, model__epsilon=21.154290797261208;, score=-29.075 total time=  47.7s\n",
      "[CV 4/5; 26/50] START model__C=81.05016126411583, model__epsilon=21.154290797261208\n"
     ]
    },
    {
     "name": "stderr",
     "output_type": "stream",
     "text": [
      "/opt/anaconda3/lib/python3.9/site-packages/sklearn/svm/_base.py:299: ConvergenceWarning: Solver terminated early (max_iter=50000).  Consider pre-processing your data with StandardScaler or MinMaxScaler.\n",
      "  warnings.warn(\n"
     ]
    },
    {
     "name": "stdout",
     "output_type": "stream",
     "text": [
      "[CV 4/5; 26/50] END model__C=81.05016126411583, model__epsilon=21.154290797261208;, score=-28.561 total time=  48.1s\n",
      "[CV 5/5; 26/50] START model__C=81.05016126411583, model__epsilon=21.154290797261208\n"
     ]
    },
    {
     "name": "stderr",
     "output_type": "stream",
     "text": [
      "/opt/anaconda3/lib/python3.9/site-packages/sklearn/svm/_base.py:299: ConvergenceWarning: Solver terminated early (max_iter=50000).  Consider pre-processing your data with StandardScaler or MinMaxScaler.\n",
      "  warnings.warn(\n"
     ]
    },
    {
     "name": "stdout",
     "output_type": "stream",
     "text": [
      "[CV 5/5; 26/50] END model__C=81.05016126411583, model__epsilon=21.154290797261208;, score=-29.253 total time=  48.2s\n",
      "[CV 1/5; 27/50] START model__C=65.84106160121607, model__epsilon=48.35952776465949\n"
     ]
    },
    {
     "name": "stderr",
     "output_type": "stream",
     "text": [
      "/opt/anaconda3/lib/python3.9/site-packages/sklearn/svm/_base.py:299: ConvergenceWarning: Solver terminated early (max_iter=50000).  Consider pre-processing your data with StandardScaler or MinMaxScaler.\n",
      "  warnings.warn(\n"
     ]
    },
    {
     "name": "stdout",
     "output_type": "stream",
     "text": [
      "[CV 1/5; 27/50] END model__C=65.84106160121607, model__epsilon=48.35952776465949;, score=-38.211 total time=  25.0s\n",
      "[CV 2/5; 27/50] START model__C=65.84106160121607, model__epsilon=48.35952776465949\n"
     ]
    },
    {
     "name": "stderr",
     "output_type": "stream",
     "text": [
      "/opt/anaconda3/lib/python3.9/site-packages/sklearn/svm/_base.py:299: ConvergenceWarning: Solver terminated early (max_iter=50000).  Consider pre-processing your data with StandardScaler or MinMaxScaler.\n",
      "  warnings.warn(\n"
     ]
    },
    {
     "name": "stdout",
     "output_type": "stream",
     "text": [
      "[CV 2/5; 27/50] END model__C=65.84106160121607, model__epsilon=48.35952776465949;, score=-38.057 total time=  25.1s\n",
      "[CV 3/5; 27/50] START model__C=65.84106160121607, model__epsilon=48.35952776465949\n"
     ]
    },
    {
     "name": "stderr",
     "output_type": "stream",
     "text": [
      "/opt/anaconda3/lib/python3.9/site-packages/sklearn/svm/_base.py:299: ConvergenceWarning: Solver terminated early (max_iter=50000).  Consider pre-processing your data with StandardScaler or MinMaxScaler.\n",
      "  warnings.warn(\n"
     ]
    },
    {
     "name": "stdout",
     "output_type": "stream",
     "text": [
      "[CV 3/5; 27/50] END model__C=65.84106160121607, model__epsilon=48.35952776465949;, score=-38.653 total time=  25.5s\n",
      "[CV 4/5; 27/50] START model__C=65.84106160121607, model__epsilon=48.35952776465949\n"
     ]
    },
    {
     "name": "stderr",
     "output_type": "stream",
     "text": [
      "/opt/anaconda3/lib/python3.9/site-packages/sklearn/svm/_base.py:299: ConvergenceWarning: Solver terminated early (max_iter=50000).  Consider pre-processing your data with StandardScaler or MinMaxScaler.\n",
      "  warnings.warn(\n"
     ]
    },
    {
     "name": "stdout",
     "output_type": "stream",
     "text": [
      "[CV 4/5; 27/50] END model__C=65.84106160121607, model__epsilon=48.35952776465949;, score=-37.371 total time=  24.7s\n",
      "[CV 5/5; 27/50] START model__C=65.84106160121607, model__epsilon=48.35952776465949\n"
     ]
    },
    {
     "name": "stderr",
     "output_type": "stream",
     "text": [
      "/opt/anaconda3/lib/python3.9/site-packages/sklearn/svm/_base.py:299: ConvergenceWarning: Solver terminated early (max_iter=50000).  Consider pre-processing your data with StandardScaler or MinMaxScaler.\n",
      "  warnings.warn(\n"
     ]
    },
    {
     "name": "stdout",
     "output_type": "stream",
     "text": [
      "[CV 5/5; 27/50] END model__C=65.84106160121607, model__epsilon=48.35952776465949;, score=-38.501 total time=  25.2s\n",
      "[CV 1/5; 28/50] START model__C=6.218704727769076, model__epsilon=58.293845429947346\n"
     ]
    },
    {
     "name": "stderr",
     "output_type": "stream",
     "text": [
      "/opt/anaconda3/lib/python3.9/site-packages/sklearn/svm/_base.py:299: ConvergenceWarning: Solver terminated early (max_iter=50000).  Consider pre-processing your data with StandardScaler or MinMaxScaler.\n",
      "  warnings.warn(\n"
     ]
    },
    {
     "name": "stdout",
     "output_type": "stream",
     "text": [
      "[CV 1/5; 28/50] END model__C=6.218704727769076, model__epsilon=58.293845429947346;, score=-42.830 total time=  14.2s\n",
      "[CV 2/5; 28/50] START model__C=6.218704727769076, model__epsilon=58.293845429947346\n"
     ]
    },
    {
     "name": "stderr",
     "output_type": "stream",
     "text": [
      "/opt/anaconda3/lib/python3.9/site-packages/sklearn/svm/_base.py:299: ConvergenceWarning: Solver terminated early (max_iter=50000).  Consider pre-processing your data with StandardScaler or MinMaxScaler.\n",
      "  warnings.warn(\n"
     ]
    },
    {
     "name": "stdout",
     "output_type": "stream",
     "text": [
      "[CV 2/5; 28/50] END model__C=6.218704727769076, model__epsilon=58.293845429947346;, score=-43.209 total time=  14.2s\n",
      "[CV 3/5; 28/50] START model__C=6.218704727769076, model__epsilon=58.293845429947346\n"
     ]
    },
    {
     "name": "stderr",
     "output_type": "stream",
     "text": [
      "/opt/anaconda3/lib/python3.9/site-packages/sklearn/svm/_base.py:299: ConvergenceWarning: Solver terminated early (max_iter=50000).  Consider pre-processing your data with StandardScaler or MinMaxScaler.\n",
      "  warnings.warn(\n"
     ]
    },
    {
     "name": "stdout",
     "output_type": "stream",
     "text": [
      "[CV 3/5; 28/50] END model__C=6.218704727769076, model__epsilon=58.293845429947346;, score=-43.788 total time=  14.6s\n",
      "[CV 4/5; 28/50] START model__C=6.218704727769076, model__epsilon=58.293845429947346\n"
     ]
    },
    {
     "name": "stderr",
     "output_type": "stream",
     "text": [
      "/opt/anaconda3/lib/python3.9/site-packages/sklearn/svm/_base.py:299: ConvergenceWarning: Solver terminated early (max_iter=50000).  Consider pre-processing your data with StandardScaler or MinMaxScaler.\n",
      "  warnings.warn(\n"
     ]
    },
    {
     "name": "stdout",
     "output_type": "stream",
     "text": [
      "[CV 4/5; 28/50] END model__C=6.218704727769076, model__epsilon=58.293845429947346;, score=-42.315 total time=  14.4s\n",
      "[CV 5/5; 28/50] START model__C=6.218704727769076, model__epsilon=58.293845429947346\n"
     ]
    },
    {
     "name": "stderr",
     "output_type": "stream",
     "text": [
      "/opt/anaconda3/lib/python3.9/site-packages/sklearn/svm/_base.py:299: ConvergenceWarning: Solver terminated early (max_iter=50000).  Consider pre-processing your data with StandardScaler or MinMaxScaler.\n",
      "  warnings.warn(\n"
     ]
    },
    {
     "name": "stdout",
     "output_type": "stream",
     "text": [
      "[CV 5/5; 28/50] END model__C=6.218704727769076, model__epsilon=58.293845429947346;, score=-43.092 total time=  14.3s\n",
      "[CV 1/5; 29/50] START model__C=0.18427970406864538, model__epsilon=0.3872118032174582\n"
     ]
    },
    {
     "name": "stderr",
     "output_type": "stream",
     "text": [
      "/opt/anaconda3/lib/python3.9/site-packages/sklearn/svm/_base.py:299: ConvergenceWarning: Solver terminated early (max_iter=50000).  Consider pre-processing your data with StandardScaler or MinMaxScaler.\n",
      "  warnings.warn(\n"
     ]
    },
    {
     "name": "stdout",
     "output_type": "stream",
     "text": [
      "[CV 1/5; 29/50] END model__C=0.18427970406864538, model__epsilon=0.3872118032174582;, score=-25.599 total time= 1.6min\n",
      "[CV 2/5; 29/50] START model__C=0.18427970406864538, model__epsilon=0.3872118032174582\n"
     ]
    },
    {
     "name": "stderr",
     "output_type": "stream",
     "text": [
      "/opt/anaconda3/lib/python3.9/site-packages/sklearn/svm/_base.py:299: ConvergenceWarning: Solver terminated early (max_iter=50000).  Consider pre-processing your data with StandardScaler or MinMaxScaler.\n",
      "  warnings.warn(\n"
     ]
    },
    {
     "name": "stdout",
     "output_type": "stream",
     "text": [
      "[CV 2/5; 29/50] END model__C=0.18427970406864538, model__epsilon=0.3872118032174582;, score=-26.038 total time= 1.6min\n",
      "[CV 3/5; 29/50] START model__C=0.18427970406864538, model__epsilon=0.3872118032174582\n"
     ]
    },
    {
     "name": "stderr",
     "output_type": "stream",
     "text": [
      "/opt/anaconda3/lib/python3.9/site-packages/sklearn/svm/_base.py:299: ConvergenceWarning: Solver terminated early (max_iter=50000).  Consider pre-processing your data with StandardScaler or MinMaxScaler.\n",
      "  warnings.warn(\n"
     ]
    },
    {
     "name": "stdout",
     "output_type": "stream",
     "text": [
      "[CV 3/5; 29/50] END model__C=0.18427970406864538, model__epsilon=0.3872118032174582;, score=-25.812 total time= 1.6min\n",
      "[CV 4/5; 29/50] START model__C=0.18427970406864538, model__epsilon=0.3872118032174582\n"
     ]
    },
    {
     "name": "stderr",
     "output_type": "stream",
     "text": [
      "/opt/anaconda3/lib/python3.9/site-packages/sklearn/svm/_base.py:299: ConvergenceWarning: Solver terminated early (max_iter=50000).  Consider pre-processing your data with StandardScaler or MinMaxScaler.\n",
      "  warnings.warn(\n"
     ]
    },
    {
     "name": "stdout",
     "output_type": "stream",
     "text": [
      "[CV 4/5; 29/50] END model__C=0.18427970406864538, model__epsilon=0.3872118032174582;, score=-25.508 total time= 1.6min\n",
      "[CV 5/5; 29/50] START model__C=0.18427970406864538, model__epsilon=0.3872118032174582\n"
     ]
    },
    {
     "name": "stderr",
     "output_type": "stream",
     "text": [
      "/opt/anaconda3/lib/python3.9/site-packages/sklearn/svm/_base.py:299: ConvergenceWarning: Solver terminated early (max_iter=50000).  Consider pre-processing your data with StandardScaler or MinMaxScaler.\n",
      "  warnings.warn(\n"
     ]
    },
    {
     "name": "stdout",
     "output_type": "stream",
     "text": [
      "[CV 5/5; 29/50] END model__C=0.18427970406864538, model__epsilon=0.3872118032174582;, score=-26.007 total time= 1.6min\n",
      "[CV 1/5; 30/50] START model__C=0.13667272915456222, model__epsilon=0.946217535646149\n",
      "[CV 1/5; 30/50] END model__C=0.13667272915456222, model__epsilon=0.946217535646149;, score=-26.299 total time= 1.4min\n",
      "[CV 2/5; 30/50] START model__C=0.13667272915456222, model__epsilon=0.946217535646149\n",
      "[CV 2/5; 30/50] END model__C=0.13667272915456222, model__epsilon=0.946217535646149;, score=-26.777 total time= 1.4min\n",
      "[CV 3/5; 30/50] START model__C=0.13667272915456222, model__epsilon=0.946217535646149\n",
      "[CV 3/5; 30/50] END model__C=0.13667272915456222, model__epsilon=0.946217535646149;, score=-26.528 total time= 1.4min\n",
      "[CV 4/5; 30/50] START model__C=0.13667272915456222, model__epsilon=0.946217535646149\n"
     ]
    },
    {
     "name": "stderr",
     "output_type": "stream",
     "text": [
      "/opt/anaconda3/lib/python3.9/site-packages/sklearn/svm/_base.py:299: ConvergenceWarning: Solver terminated early (max_iter=50000).  Consider pre-processing your data with StandardScaler or MinMaxScaler.\n",
      "  warnings.warn(\n"
     ]
    },
    {
     "name": "stdout",
     "output_type": "stream",
     "text": [
      "[CV 4/5; 30/50] END model__C=0.13667272915456222, model__epsilon=0.946217535646149;, score=-26.242 total time= 1.4min\n",
      "[CV 5/5; 30/50] START model__C=0.13667272915456222, model__epsilon=0.946217535646149\n",
      "[CV 5/5; 30/50] END model__C=0.13667272915456222, model__epsilon=0.946217535646149;, score=-26.712 total time= 1.4min\n",
      "[CV 1/5; 31/50] START model__C=1.4656553886225332, model__epsilon=0.6516990611177174\n"
     ]
    },
    {
     "name": "stderr",
     "output_type": "stream",
     "text": [
      "/opt/anaconda3/lib/python3.9/site-packages/sklearn/svm/_base.py:299: ConvergenceWarning: Solver terminated early (max_iter=50000).  Consider pre-processing your data with StandardScaler or MinMaxScaler.\n",
      "  warnings.warn(\n"
     ]
    },
    {
     "name": "stdout",
     "output_type": "stream",
     "text": [
      "[CV 1/5; 31/50] END model__C=1.4656553886225332, model__epsilon=0.6516990611177174;, score=-23.189 total time= 1.6min\n",
      "[CV 2/5; 31/50] START model__C=1.4656553886225332, model__epsilon=0.6516990611177174\n"
     ]
    },
    {
     "name": "stderr",
     "output_type": "stream",
     "text": [
      "/opt/anaconda3/lib/python3.9/site-packages/sklearn/svm/_base.py:299: ConvergenceWarning: Solver terminated early (max_iter=50000).  Consider pre-processing your data with StandardScaler or MinMaxScaler.\n",
      "  warnings.warn(\n"
     ]
    },
    {
     "name": "stdout",
     "output_type": "stream",
     "text": [
      "[CV 2/5; 31/50] END model__C=1.4656553886225332, model__epsilon=0.6516990611177174;, score=-23.638 total time= 1.6min\n",
      "[CV 3/5; 31/50] START model__C=1.4656553886225332, model__epsilon=0.6516990611177174\n"
     ]
    },
    {
     "name": "stderr",
     "output_type": "stream",
     "text": [
      "/opt/anaconda3/lib/python3.9/site-packages/sklearn/svm/_base.py:299: ConvergenceWarning: Solver terminated early (max_iter=50000).  Consider pre-processing your data with StandardScaler or MinMaxScaler.\n",
      "  warnings.warn(\n"
     ]
    },
    {
     "name": "stdout",
     "output_type": "stream",
     "text": [
      "[CV 3/5; 31/50] END model__C=1.4656553886225332, model__epsilon=0.6516990611177174;, score=-23.360 total time= 1.6min\n",
      "[CV 4/5; 31/50] START model__C=1.4656553886225332, model__epsilon=0.6516990611177174\n"
     ]
    },
    {
     "name": "stderr",
     "output_type": "stream",
     "text": [
      "/opt/anaconda3/lib/python3.9/site-packages/sklearn/svm/_base.py:299: ConvergenceWarning: Solver terminated early (max_iter=50000).  Consider pre-processing your data with StandardScaler or MinMaxScaler.\n",
      "  warnings.warn(\n"
     ]
    },
    {
     "name": "stdout",
     "output_type": "stream",
     "text": [
      "[CV 4/5; 31/50] END model__C=1.4656553886225332, model__epsilon=0.6516990611177174;, score=-23.058 total time= 1.6min\n",
      "[CV 5/5; 31/50] START model__C=1.4656553886225332, model__epsilon=0.6516990611177174\n"
     ]
    },
    {
     "name": "stderr",
     "output_type": "stream",
     "text": [
      "/opt/anaconda3/lib/python3.9/site-packages/sklearn/svm/_base.py:299: ConvergenceWarning: Solver terminated early (max_iter=50000).  Consider pre-processing your data with StandardScaler or MinMaxScaler.\n",
      "  warnings.warn(\n"
     ]
    },
    {
     "name": "stdout",
     "output_type": "stream",
     "text": [
      "[CV 5/5; 31/50] END model__C=1.4656553886225332, model__epsilon=0.6516990611177174;, score=-23.648 total time= 1.6min\n",
      "[CV 1/5; 32/50] START model__C=30.634622106220824, model__epsilon=1.1756010900231848\n"
     ]
    },
    {
     "name": "stderr",
     "output_type": "stream",
     "text": [
      "/opt/anaconda3/lib/python3.9/site-packages/sklearn/svm/_base.py:299: ConvergenceWarning: Solver terminated early (max_iter=50000).  Consider pre-processing your data with StandardScaler or MinMaxScaler.\n",
      "  warnings.warn(\n"
     ]
    },
    {
     "name": "stdout",
     "output_type": "stream",
     "text": [
      "[CV 1/5; 32/50] END model__C=30.634622106220824, model__epsilon=1.1756010900231848;, score=-23.825 total time= 1.5min\n",
      "[CV 2/5; 32/50] START model__C=30.634622106220824, model__epsilon=1.1756010900231848\n"
     ]
    },
    {
     "name": "stderr",
     "output_type": "stream",
     "text": [
      "/opt/anaconda3/lib/python3.9/site-packages/sklearn/svm/_base.py:299: ConvergenceWarning: Solver terminated early (max_iter=50000).  Consider pre-processing your data with StandardScaler or MinMaxScaler.\n",
      "  warnings.warn(\n"
     ]
    },
    {
     "name": "stdout",
     "output_type": "stream",
     "text": [
      "[CV 2/5; 32/50] END model__C=30.634622106220824, model__epsilon=1.1756010900231848;, score=-24.003 total time= 1.5min\n",
      "[CV 3/5; 32/50] START model__C=30.634622106220824, model__epsilon=1.1756010900231848\n"
     ]
    },
    {
     "name": "stderr",
     "output_type": "stream",
     "text": [
      "/opt/anaconda3/lib/python3.9/site-packages/sklearn/svm/_base.py:299: ConvergenceWarning: Solver terminated early (max_iter=50000).  Consider pre-processing your data with StandardScaler or MinMaxScaler.\n",
      "  warnings.warn(\n"
     ]
    },
    {
     "name": "stdout",
     "output_type": "stream",
     "text": [
      "[CV 3/5; 32/50] END model__C=30.634622106220824, model__epsilon=1.1756010900231848;, score=-23.917 total time= 1.5min\n",
      "[CV 4/5; 32/50] START model__C=30.634622106220824, model__epsilon=1.1756010900231848\n"
     ]
    },
    {
     "name": "stderr",
     "output_type": "stream",
     "text": [
      "/opt/anaconda3/lib/python3.9/site-packages/sklearn/svm/_base.py:299: ConvergenceWarning: Solver terminated early (max_iter=50000).  Consider pre-processing your data with StandardScaler or MinMaxScaler.\n",
      "  warnings.warn(\n"
     ]
    },
    {
     "name": "stdout",
     "output_type": "stream",
     "text": [
      "[CV 4/5; 32/50] END model__C=30.634622106220824, model__epsilon=1.1756010900231848;, score=-23.561 total time= 1.5min\n",
      "[CV 5/5; 32/50] START model__C=30.634622106220824, model__epsilon=1.1756010900231848\n"
     ]
    },
    {
     "name": "stderr",
     "output_type": "stream",
     "text": [
      "/opt/anaconda3/lib/python3.9/site-packages/sklearn/svm/_base.py:299: ConvergenceWarning: Solver terminated early (max_iter=50000).  Consider pre-processing your data with StandardScaler or MinMaxScaler.\n",
      "  warnings.warn(\n"
     ]
    },
    {
     "name": "stdout",
     "output_type": "stream",
     "text": [
      "[CV 5/5; 32/50] END model__C=30.634622106220824, model__epsilon=1.1756010900231848;, score=-24.315 total time= 1.5min\n",
      "[CV 1/5; 33/50] START model__C=0.6963114377829286, model__epsilon=4.247058562261868\n"
     ]
    },
    {
     "name": "stderr",
     "output_type": "stream",
     "text": [
      "/opt/anaconda3/lib/python3.9/site-packages/sklearn/svm/_base.py:299: ConvergenceWarning: Solver terminated early (max_iter=50000).  Consider pre-processing your data with StandardScaler or MinMaxScaler.\n",
      "  warnings.warn(\n"
     ]
    },
    {
     "name": "stdout",
     "output_type": "stream",
     "text": [
      "[CV 1/5; 33/50] END model__C=0.6963114377829286, model__epsilon=4.247058562261868;, score=-23.778 total time=  56.0s\n",
      "[CV 2/5; 33/50] START model__C=0.6963114377829286, model__epsilon=4.247058562261868\n"
     ]
    },
    {
     "name": "stderr",
     "output_type": "stream",
     "text": [
      "/opt/anaconda3/lib/python3.9/site-packages/sklearn/svm/_base.py:299: ConvergenceWarning: Solver terminated early (max_iter=50000).  Consider pre-processing your data with StandardScaler or MinMaxScaler.\n",
      "  warnings.warn(\n"
     ]
    },
    {
     "name": "stdout",
     "output_type": "stream",
     "text": [
      "[CV 2/5; 33/50] END model__C=0.6963114377829286, model__epsilon=4.247058562261868;, score=-24.268 total time=  55.8s\n",
      "[CV 3/5; 33/50] START model__C=0.6963114377829286, model__epsilon=4.247058562261868\n"
     ]
    },
    {
     "name": "stderr",
     "output_type": "stream",
     "text": [
      "/opt/anaconda3/lib/python3.9/site-packages/sklearn/svm/_base.py:299: ConvergenceWarning: Solver terminated early (max_iter=50000).  Consider pre-processing your data with StandardScaler or MinMaxScaler.\n",
      "  warnings.warn(\n"
     ]
    },
    {
     "name": "stdout",
     "output_type": "stream",
     "text": [
      "[CV 3/5; 33/50] END model__C=0.6963114377829286, model__epsilon=4.247058562261868;, score=-23.966 total time=  55.9s\n",
      "[CV 4/5; 33/50] START model__C=0.6963114377829286, model__epsilon=4.247058562261868\n"
     ]
    },
    {
     "name": "stderr",
     "output_type": "stream",
     "text": [
      "/opt/anaconda3/lib/python3.9/site-packages/sklearn/svm/_base.py:299: ConvergenceWarning: Solver terminated early (max_iter=50000).  Consider pre-processing your data with StandardScaler or MinMaxScaler.\n",
      "  warnings.warn(\n"
     ]
    },
    {
     "name": "stdout",
     "output_type": "stream",
     "text": [
      "[CV 4/5; 33/50] END model__C=0.6963114377829286, model__epsilon=4.247058562261868;, score=-23.604 total time=  55.5s\n",
      "[CV 5/5; 33/50] START model__C=0.6963114377829286, model__epsilon=4.247058562261868\n"
     ]
    },
    {
     "name": "stderr",
     "output_type": "stream",
     "text": [
      "/opt/anaconda3/lib/python3.9/site-packages/sklearn/svm/_base.py:299: ConvergenceWarning: Solver terminated early (max_iter=50000).  Consider pre-processing your data with StandardScaler or MinMaxScaler.\n",
      "  warnings.warn(\n"
     ]
    },
    {
     "name": "stdout",
     "output_type": "stream",
     "text": [
      "[CV 5/5; 33/50] END model__C=0.6963114377829286, model__epsilon=4.247058562261868;, score=-24.254 total time=  56.0s\n",
      "[CV 1/5; 34/50] START model__C=0.2647114182821816, model__epsilon=25.50298070162892\n",
      "[CV 1/5; 34/50] END model__C=0.2647114182821816, model__epsilon=25.50298070162892;, score=-32.700 total time=  23.5s\n",
      "[CV 2/5; 34/50] START model__C=0.2647114182821816, model__epsilon=25.50298070162892\n",
      "[CV 2/5; 34/50] END model__C=0.2647114182821816, model__epsilon=25.50298070162892;, score=-33.254 total time=  23.2s\n",
      "[CV 3/5; 34/50] START model__C=0.2647114182821816, model__epsilon=25.50298070162892\n",
      "[CV 3/5; 34/50] END model__C=0.2647114182821816, model__epsilon=25.50298070162892;, score=-33.030 total time=  23.3s\n",
      "[CV 4/5; 34/50] START model__C=0.2647114182821816, model__epsilon=25.50298070162892\n",
      "[CV 4/5; 34/50] END model__C=0.2647114182821816, model__epsilon=25.50298070162892;, score=-32.509 total time=  23.3s\n",
      "[CV 5/5; 34/50] START model__C=0.2647114182821816, model__epsilon=25.50298070162892\n",
      "[CV 5/5; 34/50] END model__C=0.2647114182821816, model__epsilon=25.50298070162892;, score=-33.128 total time=  23.4s\n",
      "[CV 1/5; 35/50] START model__C=0.16736010167825777, model__epsilon=91.33995846860967\n",
      "[CV 1/5; 35/50] END model__C=0.16736010167825777, model__epsilon=91.33995846860967;, score=-86.896 total time=  12.7s\n",
      "[CV 2/5; 35/50] START model__C=0.16736010167825777, model__epsilon=91.33995846860967\n",
      "[CV 2/5; 35/50] END model__C=0.16736010167825777, model__epsilon=91.33995846860967;, score=-86.901 total time=  12.6s\n",
      "[CV 3/5; 35/50] START model__C=0.16736010167825777, model__epsilon=91.33995846860967\n",
      "[CV 3/5; 35/50] END model__C=0.16736010167825777, model__epsilon=91.33995846860967;, score=-86.822 total time=  12.7s\n",
      "[CV 4/5; 35/50] START model__C=0.16736010167825777, model__epsilon=91.33995846860967\n",
      "[CV 4/5; 35/50] END model__C=0.16736010167825777, model__epsilon=91.33995846860967;, score=-86.667 total time=  12.5s\n",
      "[CV 5/5; 35/50] START model__C=0.16736010167825777, model__epsilon=91.33995846860967\n",
      "[CV 5/5; 35/50] END model__C=0.16736010167825777, model__epsilon=91.33995846860967;, score=-87.295 total time=  12.7s\n",
      "[CV 1/5; 36/50] START model__C=20.73644517790503, model__epsilon=0.39459088111..\n"
     ]
    },
    {
     "name": "stderr",
     "output_type": "stream",
     "text": [
      "/opt/anaconda3/lib/python3.9/site-packages/sklearn/svm/_base.py:299: ConvergenceWarning: Solver terminated early (max_iter=50000).  Consider pre-processing your data with StandardScaler or MinMaxScaler.\n",
      "  warnings.warn(\n"
     ]
    },
    {
     "name": "stdout",
     "output_type": "stream",
     "text": [
      "[CV 1/5; 36/50] END model__C=20.73644517790503, model__epsilon=0.39459088111;, score=-23.497 total time= 1.6min\n",
      "[CV 2/5; 36/50] START model__C=20.73644517790503, model__epsilon=0.39459088111..\n"
     ]
    },
    {
     "name": "stderr",
     "output_type": "stream",
     "text": [
      "/opt/anaconda3/lib/python3.9/site-packages/sklearn/svm/_base.py:299: ConvergenceWarning: Solver terminated early (max_iter=50000).  Consider pre-processing your data with StandardScaler or MinMaxScaler.\n",
      "  warnings.warn(\n"
     ]
    },
    {
     "name": "stdout",
     "output_type": "stream",
     "text": [
      "[CV 2/5; 36/50] END model__C=20.73644517790503, model__epsilon=0.39459088111;, score=-23.947 total time= 1.6min\n",
      "[CV 3/5; 36/50] START model__C=20.73644517790503, model__epsilon=0.39459088111..\n"
     ]
    },
    {
     "name": "stderr",
     "output_type": "stream",
     "text": [
      "/opt/anaconda3/lib/python3.9/site-packages/sklearn/svm/_base.py:299: ConvergenceWarning: Solver terminated early (max_iter=50000).  Consider pre-processing your data with StandardScaler or MinMaxScaler.\n",
      "  warnings.warn(\n"
     ]
    },
    {
     "name": "stdout",
     "output_type": "stream",
     "text": [
      "[CV 3/5; 36/50] END model__C=20.73644517790503, model__epsilon=0.39459088111;, score=-23.661 total time= 1.6min\n",
      "[CV 4/5; 36/50] START model__C=20.73644517790503, model__epsilon=0.39459088111..\n"
     ]
    },
    {
     "name": "stderr",
     "output_type": "stream",
     "text": [
      "/opt/anaconda3/lib/python3.9/site-packages/sklearn/svm/_base.py:299: ConvergenceWarning: Solver terminated early (max_iter=50000).  Consider pre-processing your data with StandardScaler or MinMaxScaler.\n",
      "  warnings.warn(\n"
     ]
    },
    {
     "name": "stdout",
     "output_type": "stream",
     "text": [
      "[CV 4/5; 36/50] END model__C=20.73644517790503, model__epsilon=0.39459088111;, score=-23.520 total time= 1.6min\n",
      "[CV 5/5; 36/50] START model__C=20.73644517790503, model__epsilon=0.39459088111..\n"
     ]
    },
    {
     "name": "stderr",
     "output_type": "stream",
     "text": [
      "/opt/anaconda3/lib/python3.9/site-packages/sklearn/svm/_base.py:299: ConvergenceWarning: Solver terminated early (max_iter=50000).  Consider pre-processing your data with StandardScaler or MinMaxScaler.\n",
      "  warnings.warn(\n"
     ]
    },
    {
     "name": "stdout",
     "output_type": "stream",
     "text": [
      "[CV 5/5; 36/50] END model__C=20.73644517790503, model__epsilon=0.39459088111;, score=-23.912 total time= 1.6min\n",
      "[CV 1/5; 37/50] START model__C=0.10388823104027935, model__epsilon=27.95015916508335\n",
      "[CV 1/5; 37/50] END model__C=0.10388823104027935, model__epsilon=27.95015916508335;, score=-38.798 total time=  26.1s\n",
      "[CV 2/5; 37/50] START model__C=0.10388823104027935, model__epsilon=27.95015916508335\n",
      "[CV 2/5; 37/50] END model__C=0.10388823104027935, model__epsilon=27.95015916508335;, score=-39.057 total time=  26.2s\n",
      "[CV 3/5; 37/50] START model__C=0.10388823104027935, model__epsilon=27.95015916508335\n",
      "[CV 3/5; 37/50] END model__C=0.10388823104027935, model__epsilon=27.95015916508335;, score=-38.841 total time=  26.0s\n",
      "[CV 4/5; 37/50] START model__C=0.10388823104027935, model__epsilon=27.95015916508335\n",
      "[CV 4/5; 37/50] END model__C=0.10388823104027935, model__epsilon=27.95015916508335;, score=-38.743 total time=  26.1s\n",
      "[CV 5/5; 37/50] START model__C=0.10388823104027935, model__epsilon=27.95015916508335\n",
      "[CV 5/5; 37/50] END model__C=0.10388823104027935, model__epsilon=27.95015916508335;, score=-39.187 total time=  26.0s\n",
      "[CV 1/5; 38/50] START model__C=13.199942261535016, model__epsilon=15.382308040278993\n"
     ]
    },
    {
     "name": "stderr",
     "output_type": "stream",
     "text": [
      "/opt/anaconda3/lib/python3.9/site-packages/sklearn/svm/_base.py:299: ConvergenceWarning: Solver terminated early (max_iter=50000).  Consider pre-processing your data with StandardScaler or MinMaxScaler.\n",
      "  warnings.warn(\n"
     ]
    },
    {
     "name": "stdout",
     "output_type": "stream",
     "text": [
      "[CV 1/5; 38/50] END model__C=13.199942261535016, model__epsilon=15.382308040278993;, score=-26.190 total time=  39.4s\n",
      "[CV 2/5; 38/50] START model__C=13.199942261535016, model__epsilon=15.382308040278993\n"
     ]
    },
    {
     "name": "stderr",
     "output_type": "stream",
     "text": [
      "/opt/anaconda3/lib/python3.9/site-packages/sklearn/svm/_base.py:299: ConvergenceWarning: Solver terminated early (max_iter=50000).  Consider pre-processing your data with StandardScaler or MinMaxScaler.\n",
      "  warnings.warn(\n"
     ]
    },
    {
     "name": "stdout",
     "output_type": "stream",
     "text": [
      "[CV 2/5; 38/50] END model__C=13.199942261535016, model__epsilon=15.382308040278993;, score=-26.480 total time=  39.3s\n",
      "[CV 3/5; 38/50] START model__C=13.199942261535016, model__epsilon=15.382308040278993\n"
     ]
    },
    {
     "name": "stderr",
     "output_type": "stream",
     "text": [
      "/opt/anaconda3/lib/python3.9/site-packages/sklearn/svm/_base.py:299: ConvergenceWarning: Solver terminated early (max_iter=50000).  Consider pre-processing your data with StandardScaler or MinMaxScaler.\n",
      "  warnings.warn(\n"
     ]
    },
    {
     "name": "stdout",
     "output_type": "stream",
     "text": [
      "[CV 3/5; 38/50] END model__C=13.199942261535016, model__epsilon=15.382308040278993;, score=-26.294 total time=  39.6s\n",
      "[CV 4/5; 38/50] START model__C=13.199942261535016, model__epsilon=15.382308040278993\n"
     ]
    },
    {
     "name": "stderr",
     "output_type": "stream",
     "text": [
      "/opt/anaconda3/lib/python3.9/site-packages/sklearn/svm/_base.py:299: ConvergenceWarning: Solver terminated early (max_iter=50000).  Consider pre-processing your data with StandardScaler or MinMaxScaler.\n",
      "  warnings.warn(\n"
     ]
    },
    {
     "name": "stdout",
     "output_type": "stream",
     "text": [
      "[CV 4/5; 38/50] END model__C=13.199942261535016, model__epsilon=15.382308040278993;, score=-25.918 total time=  39.2s\n",
      "[CV 5/5; 38/50] START model__C=13.199942261535016, model__epsilon=15.382308040278993\n"
     ]
    },
    {
     "name": "stderr",
     "output_type": "stream",
     "text": [
      "/opt/anaconda3/lib/python3.9/site-packages/sklearn/svm/_base.py:299: ConvergenceWarning: Solver terminated early (max_iter=50000).  Consider pre-processing your data with StandardScaler or MinMaxScaler.\n",
      "  warnings.warn(\n"
     ]
    },
    {
     "name": "stdout",
     "output_type": "stream",
     "text": [
      "[CV 5/5; 38/50] END model__C=13.199942261535016, model__epsilon=15.382308040278993;, score=-26.603 total time=  39.7s\n",
      "[CV 1/5; 39/50] START model__C=20.59733535743719, model__epsilon=0.16677615430197912\n"
     ]
    },
    {
     "name": "stderr",
     "output_type": "stream",
     "text": [
      "/opt/anaconda3/lib/python3.9/site-packages/sklearn/svm/_base.py:299: ConvergenceWarning: Solver terminated early (max_iter=50000).  Consider pre-processing your data with StandardScaler or MinMaxScaler.\n",
      "  warnings.warn(\n"
     ]
    },
    {
     "name": "stdout",
     "output_type": "stream",
     "text": [
      "[CV 1/5; 39/50] END model__C=20.59733535743719, model__epsilon=0.16677615430197912;, score=-23.513 total time= 1.6min\n",
      "[CV 2/5; 39/50] START model__C=20.59733535743719, model__epsilon=0.16677615430197912\n"
     ]
    },
    {
     "name": "stderr",
     "output_type": "stream",
     "text": [
      "/opt/anaconda3/lib/python3.9/site-packages/sklearn/svm/_base.py:299: ConvergenceWarning: Solver terminated early (max_iter=50000).  Consider pre-processing your data with StandardScaler or MinMaxScaler.\n",
      "  warnings.warn(\n"
     ]
    },
    {
     "name": "stdout",
     "output_type": "stream",
     "text": [
      "[CV 2/5; 39/50] END model__C=20.59733535743719, model__epsilon=0.16677615430197912;, score=-24.225 total time= 1.6min\n",
      "[CV 3/5; 39/50] START model__C=20.59733535743719, model__epsilon=0.16677615430197912\n"
     ]
    },
    {
     "name": "stderr",
     "output_type": "stream",
     "text": [
      "/opt/anaconda3/lib/python3.9/site-packages/sklearn/svm/_base.py:299: ConvergenceWarning: Solver terminated early (max_iter=50000).  Consider pre-processing your data with StandardScaler or MinMaxScaler.\n",
      "  warnings.warn(\n"
     ]
    },
    {
     "name": "stdout",
     "output_type": "stream",
     "text": [
      "[CV 3/5; 39/50] END model__C=20.59733535743719, model__epsilon=0.16677615430197912;, score=-23.644 total time= 1.6min\n",
      "[CV 4/5; 39/50] START model__C=20.59733535743719, model__epsilon=0.16677615430197912\n"
     ]
    },
    {
     "name": "stderr",
     "output_type": "stream",
     "text": [
      "/opt/anaconda3/lib/python3.9/site-packages/sklearn/svm/_base.py:299: ConvergenceWarning: Solver terminated early (max_iter=50000).  Consider pre-processing your data with StandardScaler or MinMaxScaler.\n",
      "  warnings.warn(\n"
     ]
    },
    {
     "name": "stdout",
     "output_type": "stream",
     "text": [
      "[CV 4/5; 39/50] END model__C=20.59733535743719, model__epsilon=0.16677615430197912;, score=-23.429 total time= 1.6min\n",
      "[CV 5/5; 39/50] START model__C=20.59733535743719, model__epsilon=0.16677615430197912\n"
     ]
    },
    {
     "name": "stderr",
     "output_type": "stream",
     "text": [
      "/opt/anaconda3/lib/python3.9/site-packages/sklearn/svm/_base.py:299: ConvergenceWarning: Solver terminated early (max_iter=50000).  Consider pre-processing your data with StandardScaler or MinMaxScaler.\n",
      "  warnings.warn(\n"
     ]
    },
    {
     "name": "stdout",
     "output_type": "stream",
     "text": [
      "[CV 5/5; 39/50] END model__C=20.59733535743719, model__epsilon=0.16677615430197912;, score=-23.910 total time= 1.6min\n",
      "[CV 1/5; 40/50] START model__C=1.1895896737553546, model__epsilon=0.22264204303769677\n"
     ]
    },
    {
     "name": "stderr",
     "output_type": "stream",
     "text": [
      "/opt/anaconda3/lib/python3.9/site-packages/sklearn/svm/_base.py:299: ConvergenceWarning: Solver terminated early (max_iter=50000).  Consider pre-processing your data with StandardScaler or MinMaxScaler.\n",
      "  warnings.warn(\n"
     ]
    },
    {
     "name": "stdout",
     "output_type": "stream",
     "text": [
      "[CV 1/5; 40/50] END model__C=1.1895896737553546, model__epsilon=0.22264204303769677;, score=-23.229 total time= 1.8min\n",
      "[CV 2/5; 40/50] START model__C=1.1895896737553546, model__epsilon=0.22264204303769677\n"
     ]
    },
    {
     "name": "stderr",
     "output_type": "stream",
     "text": [
      "/opt/anaconda3/lib/python3.9/site-packages/sklearn/svm/_base.py:299: ConvergenceWarning: Solver terminated early (max_iter=50000).  Consider pre-processing your data with StandardScaler or MinMaxScaler.\n",
      "  warnings.warn(\n"
     ]
    },
    {
     "name": "stdout",
     "output_type": "stream",
     "text": [
      "[CV 2/5; 40/50] END model__C=1.1895896737553546, model__epsilon=0.22264204303769677;, score=-23.690 total time= 1.8min\n",
      "[CV 3/5; 40/50] START model__C=1.1895896737553546, model__epsilon=0.22264204303769677\n"
     ]
    },
    {
     "name": "stderr",
     "output_type": "stream",
     "text": [
      "/opt/anaconda3/lib/python3.9/site-packages/sklearn/svm/_base.py:299: ConvergenceWarning: Solver terminated early (max_iter=50000).  Consider pre-processing your data with StandardScaler or MinMaxScaler.\n",
      "  warnings.warn(\n"
     ]
    },
    {
     "name": "stdout",
     "output_type": "stream",
     "text": [
      "[CV 3/5; 40/50] END model__C=1.1895896737553546, model__epsilon=0.22264204303769677;, score=-23.409 total time= 1.8min\n",
      "[CV 4/5; 40/50] START model__C=1.1895896737553546, model__epsilon=0.22264204303769677\n"
     ]
    },
    {
     "name": "stderr",
     "output_type": "stream",
     "text": [
      "/opt/anaconda3/lib/python3.9/site-packages/sklearn/svm/_base.py:299: ConvergenceWarning: Solver terminated early (max_iter=50000).  Consider pre-processing your data with StandardScaler or MinMaxScaler.\n",
      "  warnings.warn(\n"
     ]
    },
    {
     "name": "stdout",
     "output_type": "stream",
     "text": [
      "[CV 4/5; 40/50] END model__C=1.1895896737553546, model__epsilon=0.22264204303769677;, score=-23.094 total time= 1.8min\n",
      "[CV 5/5; 40/50] START model__C=1.1895896737553546, model__epsilon=0.22264204303769677\n"
     ]
    },
    {
     "name": "stderr",
     "output_type": "stream",
     "text": [
      "/opt/anaconda3/lib/python3.9/site-packages/sklearn/svm/_base.py:299: ConvergenceWarning: Solver terminated early (max_iter=50000).  Consider pre-processing your data with StandardScaler or MinMaxScaler.\n",
      "  warnings.warn(\n"
     ]
    },
    {
     "name": "stdout",
     "output_type": "stream",
     "text": [
      "[CV 5/5; 40/50] END model__C=1.1895896737553546, model__epsilon=0.22264204303769677;, score=-23.693 total time= 1.8min\n",
      "[CV 1/5; 41/50] START model__C=38.8427775470314, model__epsilon=7.41129978108324\n"
     ]
    },
    {
     "name": "stderr",
     "output_type": "stream",
     "text": [
      "/opt/anaconda3/lib/python3.9/site-packages/sklearn/svm/_base.py:299: ConvergenceWarning: Solver terminated early (max_iter=50000).  Consider pre-processing your data with StandardScaler or MinMaxScaler.\n",
      "  warnings.warn(\n"
     ]
    },
    {
     "name": "stdout",
     "output_type": "stream",
     "text": [
      "[CV 1/5; 41/50] END model__C=38.8427775470314, model__epsilon=7.41129978108324;, score=-24.268 total time= 1.1min\n",
      "[CV 2/5; 41/50] START model__C=38.8427775470314, model__epsilon=7.41129978108324\n"
     ]
    },
    {
     "name": "stderr",
     "output_type": "stream",
     "text": [
      "/opt/anaconda3/lib/python3.9/site-packages/sklearn/svm/_base.py:299: ConvergenceWarning: Solver terminated early (max_iter=50000).  Consider pre-processing your data with StandardScaler or MinMaxScaler.\n",
      "  warnings.warn(\n"
     ]
    },
    {
     "name": "stdout",
     "output_type": "stream",
     "text": [
      "[CV 2/5; 41/50] END model__C=38.8427775470314, model__epsilon=7.41129978108324;, score=-24.837 total time= 1.1min\n",
      "[CV 3/5; 41/50] START model__C=38.8427775470314, model__epsilon=7.41129978108324\n"
     ]
    },
    {
     "name": "stderr",
     "output_type": "stream",
     "text": [
      "/opt/anaconda3/lib/python3.9/site-packages/sklearn/svm/_base.py:299: ConvergenceWarning: Solver terminated early (max_iter=50000).  Consider pre-processing your data with StandardScaler or MinMaxScaler.\n",
      "  warnings.warn(\n"
     ]
    },
    {
     "name": "stdout",
     "output_type": "stream",
     "text": [
      "[CV 3/5; 41/50] END model__C=38.8427775470314, model__epsilon=7.41129978108324;, score=-24.309 total time= 1.1min\n",
      "[CV 4/5; 41/50] START model__C=38.8427775470314, model__epsilon=7.41129978108324\n"
     ]
    },
    {
     "name": "stderr",
     "output_type": "stream",
     "text": [
      "/opt/anaconda3/lib/python3.9/site-packages/sklearn/svm/_base.py:299: ConvergenceWarning: Solver terminated early (max_iter=50000).  Consider pre-processing your data with StandardScaler or MinMaxScaler.\n",
      "  warnings.warn(\n"
     ]
    },
    {
     "name": "stdout",
     "output_type": "stream",
     "text": [
      "[CV 4/5; 41/50] END model__C=38.8427775470314, model__epsilon=7.41129978108324;, score=-24.274 total time= 1.1min\n",
      "[CV 5/5; 41/50] START model__C=38.8427775470314, model__epsilon=7.41129978108324\n"
     ]
    },
    {
     "name": "stderr",
     "output_type": "stream",
     "text": [
      "/opt/anaconda3/lib/python3.9/site-packages/sklearn/svm/_base.py:299: ConvergenceWarning: Solver terminated early (max_iter=50000).  Consider pre-processing your data with StandardScaler or MinMaxScaler.\n",
      "  warnings.warn(\n"
     ]
    },
    {
     "name": "stdout",
     "output_type": "stream",
     "text": [
      "[CV 5/5; 41/50] END model__C=38.8427775470314, model__epsilon=7.41129978108324;, score=-24.873 total time= 1.1min\n",
      "[CV 1/5; 42/50] START model__C=0.9833181933644887, model__epsilon=0.15512259126484748\n"
     ]
    },
    {
     "name": "stderr",
     "output_type": "stream",
     "text": [
      "/opt/anaconda3/lib/python3.9/site-packages/sklearn/svm/_base.py:299: ConvergenceWarning: Solver terminated early (max_iter=50000).  Consider pre-processing your data with StandardScaler or MinMaxScaler.\n",
      "  warnings.warn(\n"
     ]
    },
    {
     "name": "stdout",
     "output_type": "stream",
     "text": [
      "[CV 1/5; 42/50] END model__C=0.9833181933644887, model__epsilon=0.15512259126484748;, score=-23.288 total time= 1.8min\n",
      "[CV 2/5; 42/50] START model__C=0.9833181933644887, model__epsilon=0.15512259126484748\n"
     ]
    },
    {
     "name": "stderr",
     "output_type": "stream",
     "text": [
      "/opt/anaconda3/lib/python3.9/site-packages/sklearn/svm/_base.py:299: ConvergenceWarning: Solver terminated early (max_iter=50000).  Consider pre-processing your data with StandardScaler or MinMaxScaler.\n",
      "  warnings.warn(\n"
     ]
    },
    {
     "name": "stdout",
     "output_type": "stream",
     "text": [
      "[CV 2/5; 42/50] END model__C=0.9833181933644887, model__epsilon=0.15512259126484748;, score=-23.788 total time= 1.8min\n",
      "[CV 3/5; 42/50] START model__C=0.9833181933644887, model__epsilon=0.15512259126484748\n"
     ]
    },
    {
     "name": "stderr",
     "output_type": "stream",
     "text": [
      "/opt/anaconda3/lib/python3.9/site-packages/sklearn/svm/_base.py:299: ConvergenceWarning: Solver terminated early (max_iter=50000).  Consider pre-processing your data with StandardScaler or MinMaxScaler.\n",
      "  warnings.warn(\n"
     ]
    },
    {
     "name": "stdout",
     "output_type": "stream",
     "text": [
      "[CV 3/5; 42/50] END model__C=0.9833181933644887, model__epsilon=0.15512259126484748;, score=-23.488 total time= 1.8min\n",
      "[CV 4/5; 42/50] START model__C=0.9833181933644887, model__epsilon=0.15512259126484748\n"
     ]
    },
    {
     "name": "stderr",
     "output_type": "stream",
     "text": [
      "/opt/anaconda3/lib/python3.9/site-packages/sklearn/svm/_base.py:299: ConvergenceWarning: Solver terminated early (max_iter=50000).  Consider pre-processing your data with StandardScaler or MinMaxScaler.\n",
      "  warnings.warn(\n"
     ]
    },
    {
     "name": "stdout",
     "output_type": "stream",
     "text": [
      "[CV 4/5; 42/50] END model__C=0.9833181933644887, model__epsilon=0.15512259126484748;, score=-23.160 total time= 1.8min\n",
      "[CV 5/5; 42/50] START model__C=0.9833181933644887, model__epsilon=0.15512259126484748\n"
     ]
    },
    {
     "name": "stderr",
     "output_type": "stream",
     "text": [
      "/opt/anaconda3/lib/python3.9/site-packages/sklearn/svm/_base.py:299: ConvergenceWarning: Solver terminated early (max_iter=50000).  Consider pre-processing your data with StandardScaler or MinMaxScaler.\n",
      "  warnings.warn(\n"
     ]
    },
    {
     "name": "stdout",
     "output_type": "stream",
     "text": [
      "[CV 5/5; 42/50] END model__C=0.9833181933644887, model__epsilon=0.15512259126484748;, score=-23.767 total time= 1.8min\n",
      "[CV 1/5; 43/50] START model__C=0.8569331925053982, model__epsilon=0.9452571391072306\n"
     ]
    },
    {
     "name": "stderr",
     "output_type": "stream",
     "text": [
      "/opt/anaconda3/lib/python3.9/site-packages/sklearn/svm/_base.py:299: ConvergenceWarning: Solver terminated early (max_iter=50000).  Consider pre-processing your data with StandardScaler or MinMaxScaler.\n",
      "  warnings.warn(\n"
     ]
    },
    {
     "name": "stdout",
     "output_type": "stream",
     "text": [
      "[CV 1/5; 43/50] END model__C=0.8569331925053982, model__epsilon=0.9452571391072306;, score=-23.355 total time= 1.5min\n",
      "[CV 2/5; 43/50] START model__C=0.8569331925053982, model__epsilon=0.9452571391072306\n"
     ]
    },
    {
     "name": "stderr",
     "output_type": "stream",
     "text": [
      "/opt/anaconda3/lib/python3.9/site-packages/sklearn/svm/_base.py:299: ConvergenceWarning: Solver terminated early (max_iter=50000).  Consider pre-processing your data with StandardScaler or MinMaxScaler.\n",
      "  warnings.warn(\n"
     ]
    },
    {
     "name": "stdout",
     "output_type": "stream",
     "text": [
      "[CV 2/5; 43/50] END model__C=0.8569331925053982, model__epsilon=0.9452571391072306;, score=-23.872 total time= 1.5min\n",
      "[CV 3/5; 43/50] START model__C=0.8569331925053982, model__epsilon=0.9452571391072306\n"
     ]
    },
    {
     "name": "stderr",
     "output_type": "stream",
     "text": [
      "/opt/anaconda3/lib/python3.9/site-packages/sklearn/svm/_base.py:299: ConvergenceWarning: Solver terminated early (max_iter=50000).  Consider pre-processing your data with StandardScaler or MinMaxScaler.\n",
      "  warnings.warn(\n"
     ]
    },
    {
     "name": "stdout",
     "output_type": "stream",
     "text": [
      "[CV 3/5; 43/50] END model__C=0.8569331925053982, model__epsilon=0.9452571391072306;, score=-23.568 total time= 1.5min\n",
      "[CV 4/5; 43/50] START model__C=0.8569331925053982, model__epsilon=0.9452571391072306\n"
     ]
    },
    {
     "name": "stderr",
     "output_type": "stream",
     "text": [
      "/opt/anaconda3/lib/python3.9/site-packages/sklearn/svm/_base.py:299: ConvergenceWarning: Solver terminated early (max_iter=50000).  Consider pre-processing your data with StandardScaler or MinMaxScaler.\n",
      "  warnings.warn(\n"
     ]
    },
    {
     "name": "stdout",
     "output_type": "stream",
     "text": [
      "[CV 4/5; 43/50] END model__C=0.8569331925053982, model__epsilon=0.9452571391072306;, score=-23.231 total time= 1.5min\n",
      "[CV 5/5; 43/50] START model__C=0.8569331925053982, model__epsilon=0.9452571391072306\n"
     ]
    },
    {
     "name": "stderr",
     "output_type": "stream",
     "text": [
      "/opt/anaconda3/lib/python3.9/site-packages/sklearn/svm/_base.py:299: ConvergenceWarning: Solver terminated early (max_iter=50000).  Consider pre-processing your data with StandardScaler or MinMaxScaler.\n",
      "  warnings.warn(\n"
     ]
    },
    {
     "name": "stdout",
     "output_type": "stream",
     "text": [
      "[CV 5/5; 43/50] END model__C=0.8569331925053982, model__epsilon=0.9452571391072306;, score=-23.850 total time= 1.5min\n",
      "[CV 1/5; 44/50] START model__C=15.446089075047073, model__epsilon=8.178476574339538\n"
     ]
    },
    {
     "name": "stderr",
     "output_type": "stream",
     "text": [
      "/opt/anaconda3/lib/python3.9/site-packages/sklearn/svm/_base.py:299: ConvergenceWarning: Solver terminated early (max_iter=50000).  Consider pre-processing your data with StandardScaler or MinMaxScaler.\n",
      "  warnings.warn(\n"
     ]
    },
    {
     "name": "stdout",
     "output_type": "stream",
     "text": [
      "[CV 1/5; 44/50] END model__C=15.446089075047073, model__epsilon=8.178476574339538;, score=-24.266 total time=  57.4s\n",
      "[CV 2/5; 44/50] START model__C=15.446089075047073, model__epsilon=8.178476574339538\n"
     ]
    },
    {
     "name": "stderr",
     "output_type": "stream",
     "text": [
      "/opt/anaconda3/lib/python3.9/site-packages/sklearn/svm/_base.py:299: ConvergenceWarning: Solver terminated early (max_iter=50000).  Consider pre-processing your data with StandardScaler or MinMaxScaler.\n",
      "  warnings.warn(\n"
     ]
    },
    {
     "name": "stdout",
     "output_type": "stream",
     "text": [
      "[CV 2/5; 44/50] END model__C=15.446089075047073, model__epsilon=8.178476574339538;, score=-24.564 total time=  57.2s\n",
      "[CV 3/5; 44/50] START model__C=15.446089075047073, model__epsilon=8.178476574339538\n"
     ]
    },
    {
     "name": "stderr",
     "output_type": "stream",
     "text": [
      "/opt/anaconda3/lib/python3.9/site-packages/sklearn/svm/_base.py:299: ConvergenceWarning: Solver terminated early (max_iter=50000).  Consider pre-processing your data with StandardScaler or MinMaxScaler.\n",
      "  warnings.warn(\n"
     ]
    },
    {
     "name": "stdout",
     "output_type": "stream",
     "text": [
      "[CV 3/5; 44/50] END model__C=15.446089075047073, model__epsilon=8.178476574339538;, score=-24.295 total time=  57.2s\n",
      "[CV 4/5; 44/50] START model__C=15.446089075047073, model__epsilon=8.178476574339538\n"
     ]
    },
    {
     "name": "stderr",
     "output_type": "stream",
     "text": [
      "/opt/anaconda3/lib/python3.9/site-packages/sklearn/svm/_base.py:299: ConvergenceWarning: Solver terminated early (max_iter=50000).  Consider pre-processing your data with StandardScaler or MinMaxScaler.\n",
      "  warnings.warn(\n"
     ]
    },
    {
     "name": "stdout",
     "output_type": "stream",
     "text": [
      "[CV 4/5; 44/50] END model__C=15.446089075047073, model__epsilon=8.178476574339538;, score=-24.039 total time=  57.2s\n",
      "[CV 5/5; 44/50] START model__C=15.446089075047073, model__epsilon=8.178476574339538\n"
     ]
    },
    {
     "name": "stderr",
     "output_type": "stream",
     "text": [
      "/opt/anaconda3/lib/python3.9/site-packages/sklearn/svm/_base.py:299: ConvergenceWarning: Solver terminated early (max_iter=50000).  Consider pre-processing your data with StandardScaler or MinMaxScaler.\n",
      "  warnings.warn(\n"
     ]
    },
    {
     "name": "stdout",
     "output_type": "stream",
     "text": [
      "[CV 5/5; 44/50] END model__C=15.446089075047073, model__epsilon=8.178476574339538;, score=-24.648 total time=  58.0s\n",
      "[CV 1/5; 45/50] START model__C=45.88156549160973, model__epsilon=2.610025650613476\n"
     ]
    },
    {
     "name": "stderr",
     "output_type": "stream",
     "text": [
      "/opt/anaconda3/lib/python3.9/site-packages/sklearn/svm/_base.py:299: ConvergenceWarning: Solver terminated early (max_iter=50000).  Consider pre-processing your data with StandardScaler or MinMaxScaler.\n",
      "  warnings.warn(\n"
     ]
    },
    {
     "name": "stdout",
     "output_type": "stream",
     "text": [
      "[CV 1/5; 45/50] END model__C=45.88156549160973, model__epsilon=2.610025650613476;, score=-24.244 total time= 1.3min\n",
      "[CV 2/5; 45/50] START model__C=45.88156549160973, model__epsilon=2.610025650613476\n"
     ]
    },
    {
     "name": "stderr",
     "output_type": "stream",
     "text": [
      "/opt/anaconda3/lib/python3.9/site-packages/sklearn/svm/_base.py:299: ConvergenceWarning: Solver terminated early (max_iter=50000).  Consider pre-processing your data with StandardScaler or MinMaxScaler.\n",
      "  warnings.warn(\n"
     ]
    },
    {
     "name": "stdout",
     "output_type": "stream",
     "text": [
      "[CV 2/5; 45/50] END model__C=45.88156549160973, model__epsilon=2.610025650613476;, score=-24.811 total time= 1.3min\n",
      "[CV 3/5; 45/50] START model__C=45.88156549160973, model__epsilon=2.610025650613476\n"
     ]
    },
    {
     "name": "stderr",
     "output_type": "stream",
     "text": [
      "/opt/anaconda3/lib/python3.9/site-packages/sklearn/svm/_base.py:299: ConvergenceWarning: Solver terminated early (max_iter=50000).  Consider pre-processing your data with StandardScaler or MinMaxScaler.\n",
      "  warnings.warn(\n"
     ]
    },
    {
     "name": "stdout",
     "output_type": "stream",
     "text": [
      "[CV 3/5; 45/50] END model__C=45.88156549160973, model__epsilon=2.610025650613476;, score=-24.294 total time= 1.3min\n",
      "[CV 4/5; 45/50] START model__C=45.88156549160973, model__epsilon=2.610025650613476\n"
     ]
    },
    {
     "name": "stderr",
     "output_type": "stream",
     "text": [
      "/opt/anaconda3/lib/python3.9/site-packages/sklearn/svm/_base.py:299: ConvergenceWarning: Solver terminated early (max_iter=50000).  Consider pre-processing your data with StandardScaler or MinMaxScaler.\n",
      "  warnings.warn(\n"
     ]
    },
    {
     "name": "stdout",
     "output_type": "stream",
     "text": [
      "[CV 4/5; 45/50] END model__C=45.88156549160973, model__epsilon=2.610025650613476;, score=-23.728 total time= 1.3min\n",
      "[CV 5/5; 45/50] START model__C=45.88156549160973, model__epsilon=2.610025650613476\n"
     ]
    },
    {
     "name": "stderr",
     "output_type": "stream",
     "text": [
      "/opt/anaconda3/lib/python3.9/site-packages/sklearn/svm/_base.py:299: ConvergenceWarning: Solver terminated early (max_iter=50000).  Consider pre-processing your data with StandardScaler or MinMaxScaler.\n",
      "  warnings.warn(\n"
     ]
    },
    {
     "name": "stdout",
     "output_type": "stream",
     "text": [
      "[CV 5/5; 45/50] END model__C=45.88156549160973, model__epsilon=2.610025650613476;, score=-24.164 total time= 1.3min\n",
      "[CV 1/5; 46/50] START model__C=0.22844556850020528, model__epsilon=13.795402040204177\n",
      "[CV 1/5; 46/50] END model__C=0.22844556850020528, model__epsilon=13.795402040204177;, score=-28.211 total time=  33.1s\n",
      "[CV 2/5; 46/50] START model__C=0.22844556850020528, model__epsilon=13.795402040204177\n",
      "[CV 2/5; 46/50] END model__C=0.22844556850020528, model__epsilon=13.795402040204177;, score=-28.693 total time=  32.9s\n",
      "[CV 3/5; 46/50] START model__C=0.22844556850020528, model__epsilon=13.795402040204177\n",
      "[CV 3/5; 46/50] END model__C=0.22844556850020528, model__epsilon=13.795402040204177;, score=-28.488 total time=  33.2s\n",
      "[CV 4/5; 46/50] START model__C=0.22844556850020528, model__epsilon=13.795402040204177\n",
      "[CV 4/5; 46/50] END model__C=0.22844556850020528, model__epsilon=13.795402040204177;, score=-27.998 total time=  33.1s\n",
      "[CV 5/5; 46/50] START model__C=0.22844556850020528, model__epsilon=13.795402040204177\n",
      "[CV 5/5; 46/50] END model__C=0.22844556850020528, model__epsilon=13.795402040204177;, score=-28.680 total time=  33.2s\n",
      "[CV 1/5; 47/50] START model__C=19.158219548093165, model__epsilon=4.8287152161792095\n"
     ]
    },
    {
     "name": "stderr",
     "output_type": "stream",
     "text": [
      "/opt/anaconda3/lib/python3.9/site-packages/sklearn/svm/_base.py:299: ConvergenceWarning: Solver terminated early (max_iter=50000).  Consider pre-processing your data with StandardScaler or MinMaxScaler.\n",
      "  warnings.warn(\n"
     ]
    },
    {
     "name": "stdout",
     "output_type": "stream",
     "text": [
      "[CV 1/5; 47/50] END model__C=19.158219548093165, model__epsilon=4.8287152161792095;, score=-23.635 total time= 1.2min\n",
      "[CV 2/5; 47/50] START model__C=19.158219548093165, model__epsilon=4.8287152161792095\n"
     ]
    },
    {
     "name": "stderr",
     "output_type": "stream",
     "text": [
      "/opt/anaconda3/lib/python3.9/site-packages/sklearn/svm/_base.py:299: ConvergenceWarning: Solver terminated early (max_iter=50000).  Consider pre-processing your data with StandardScaler or MinMaxScaler.\n",
      "  warnings.warn(\n"
     ]
    },
    {
     "name": "stdout",
     "output_type": "stream",
     "text": [
      "[CV 2/5; 47/50] END model__C=19.158219548093165, model__epsilon=4.8287152161792095;, score=-23.977 total time= 1.2min\n",
      "[CV 3/5; 47/50] START model__C=19.158219548093165, model__epsilon=4.8287152161792095\n"
     ]
    },
    {
     "name": "stderr",
     "output_type": "stream",
     "text": [
      "/opt/anaconda3/lib/python3.9/site-packages/sklearn/svm/_base.py:299: ConvergenceWarning: Solver terminated early (max_iter=50000).  Consider pre-processing your data with StandardScaler or MinMaxScaler.\n",
      "  warnings.warn(\n"
     ]
    },
    {
     "name": "stdout",
     "output_type": "stream",
     "text": [
      "[CV 3/5; 47/50] END model__C=19.158219548093165, model__epsilon=4.8287152161792095;, score=-23.734 total time= 1.2min\n",
      "[CV 4/5; 47/50] START model__C=19.158219548093165, model__epsilon=4.8287152161792095\n"
     ]
    },
    {
     "name": "stderr",
     "output_type": "stream",
     "text": [
      "/opt/anaconda3/lib/python3.9/site-packages/sklearn/svm/_base.py:299: ConvergenceWarning: Solver terminated early (max_iter=50000).  Consider pre-processing your data with StandardScaler or MinMaxScaler.\n",
      "  warnings.warn(\n"
     ]
    },
    {
     "name": "stdout",
     "output_type": "stream",
     "text": [
      "[CV 4/5; 47/50] END model__C=19.158219548093165, model__epsilon=4.8287152161792095;, score=-23.526 total time= 1.2min\n",
      "[CV 5/5; 47/50] START model__C=19.158219548093165, model__epsilon=4.8287152161792095\n"
     ]
    },
    {
     "name": "stderr",
     "output_type": "stream",
     "text": [
      "/opt/anaconda3/lib/python3.9/site-packages/sklearn/svm/_base.py:299: ConvergenceWarning: Solver terminated early (max_iter=50000).  Consider pre-processing your data with StandardScaler or MinMaxScaler.\n",
      "  warnings.warn(\n"
     ]
    },
    {
     "name": "stdout",
     "output_type": "stream",
     "text": [
      "[CV 5/5; 47/50] END model__C=19.158219548093165, model__epsilon=4.8287152161792095;, score=-23.992 total time= 1.2min\n",
      "[CV 1/5; 48/50] START model__C=20.55424552015074, model__epsilon=3.0296104428212476\n"
     ]
    },
    {
     "name": "stderr",
     "output_type": "stream",
     "text": [
      "/opt/anaconda3/lib/python3.9/site-packages/sklearn/svm/_base.py:299: ConvergenceWarning: Solver terminated early (max_iter=50000).  Consider pre-processing your data with StandardScaler or MinMaxScaler.\n",
      "  warnings.warn(\n"
     ]
    },
    {
     "name": "stdout",
     "output_type": "stream",
     "text": [
      "[CV 1/5; 48/50] END model__C=20.55424552015074, model__epsilon=3.0296104428212476;, score=-23.734 total time= 1.4min\n",
      "[CV 2/5; 48/50] START model__C=20.55424552015074, model__epsilon=3.0296104428212476\n"
     ]
    },
    {
     "name": "stderr",
     "output_type": "stream",
     "text": [
      "/opt/anaconda3/lib/python3.9/site-packages/sklearn/svm/_base.py:299: ConvergenceWarning: Solver terminated early (max_iter=50000).  Consider pre-processing your data with StandardScaler or MinMaxScaler.\n",
      "  warnings.warn(\n"
     ]
    },
    {
     "name": "stdout",
     "output_type": "stream",
     "text": [
      "[CV 2/5; 48/50] END model__C=20.55424552015074, model__epsilon=3.0296104428212476;, score=-23.826 total time= 1.3min\n",
      "[CV 3/5; 48/50] START model__C=20.55424552015074, model__epsilon=3.0296104428212476\n"
     ]
    },
    {
     "name": "stderr",
     "output_type": "stream",
     "text": [
      "/opt/anaconda3/lib/python3.9/site-packages/sklearn/svm/_base.py:299: ConvergenceWarning: Solver terminated early (max_iter=50000).  Consider pre-processing your data with StandardScaler or MinMaxScaler.\n",
      "  warnings.warn(\n"
     ]
    },
    {
     "name": "stdout",
     "output_type": "stream",
     "text": [
      "[CV 3/5; 48/50] END model__C=20.55424552015074, model__epsilon=3.0296104428212476;, score=-23.672 total time= 1.4min\n",
      "[CV 4/5; 48/50] START model__C=20.55424552015074, model__epsilon=3.0296104428212476\n"
     ]
    },
    {
     "name": "stderr",
     "output_type": "stream",
     "text": [
      "/opt/anaconda3/lib/python3.9/site-packages/sklearn/svm/_base.py:299: ConvergenceWarning: Solver terminated early (max_iter=50000).  Consider pre-processing your data with StandardScaler or MinMaxScaler.\n",
      "  warnings.warn(\n"
     ]
    },
    {
     "name": "stdout",
     "output_type": "stream",
     "text": [
      "[CV 4/5; 48/50] END model__C=20.55424552015074, model__epsilon=3.0296104428212476;, score=-23.326 total time= 1.4min\n",
      "[CV 5/5; 48/50] START model__C=20.55424552015074, model__epsilon=3.0296104428212476\n"
     ]
    },
    {
     "name": "stderr",
     "output_type": "stream",
     "text": [
      "/opt/anaconda3/lib/python3.9/site-packages/sklearn/svm/_base.py:299: ConvergenceWarning: Solver terminated early (max_iter=50000).  Consider pre-processing your data with StandardScaler or MinMaxScaler.\n",
      "  warnings.warn(\n"
     ]
    },
    {
     "name": "stdout",
     "output_type": "stream",
     "text": [
      "[CV 5/5; 48/50] END model__C=20.55424552015074, model__epsilon=3.0296104428212476;, score=-24.071 total time= 1.4min\n",
      "[CV 1/5; 49/50] START model__C=3.699972431463808, model__epsilon=1.9170041589170652\n"
     ]
    },
    {
     "name": "stderr",
     "output_type": "stream",
     "text": [
      "/opt/anaconda3/lib/python3.9/site-packages/sklearn/svm/_base.py:299: ConvergenceWarning: Solver terminated early (max_iter=50000).  Consider pre-processing your data with StandardScaler or MinMaxScaler.\n",
      "  warnings.warn(\n"
     ]
    },
    {
     "name": "stdout",
     "output_type": "stream",
     "text": [
      "[CV 1/5; 49/50] END model__C=3.699972431463808, model__epsilon=1.9170041589170652;, score=-23.174 total time= 1.4min\n",
      "[CV 2/5; 49/50] START model__C=3.699972431463808, model__epsilon=1.9170041589170652\n"
     ]
    },
    {
     "name": "stderr",
     "output_type": "stream",
     "text": [
      "/opt/anaconda3/lib/python3.9/site-packages/sklearn/svm/_base.py:299: ConvergenceWarning: Solver terminated early (max_iter=50000).  Consider pre-processing your data with StandardScaler or MinMaxScaler.\n",
      "  warnings.warn(\n"
     ]
    },
    {
     "name": "stdout",
     "output_type": "stream",
     "text": [
      "[CV 2/5; 49/50] END model__C=3.699972431463808, model__epsilon=1.9170041589170652;, score=-23.550 total time= 1.4min\n",
      "[CV 3/5; 49/50] START model__C=3.699972431463808, model__epsilon=1.9170041589170652\n"
     ]
    },
    {
     "name": "stderr",
     "output_type": "stream",
     "text": [
      "/opt/anaconda3/lib/python3.9/site-packages/sklearn/svm/_base.py:299: ConvergenceWarning: Solver terminated early (max_iter=50000).  Consider pre-processing your data with StandardScaler or MinMaxScaler.\n",
      "  warnings.warn(\n"
     ]
    },
    {
     "name": "stdout",
     "output_type": "stream",
     "text": [
      "[CV 3/5; 49/50] END model__C=3.699972431463808, model__epsilon=1.9170041589170652;, score=-23.292 total time= 1.4min\n",
      "[CV 4/5; 49/50] START model__C=3.699972431463808, model__epsilon=1.9170041589170652\n"
     ]
    },
    {
     "name": "stderr",
     "output_type": "stream",
     "text": [
      "/opt/anaconda3/lib/python3.9/site-packages/sklearn/svm/_base.py:299: ConvergenceWarning: Solver terminated early (max_iter=50000).  Consider pre-processing your data with StandardScaler or MinMaxScaler.\n",
      "  warnings.warn(\n"
     ]
    },
    {
     "name": "stdout",
     "output_type": "stream",
     "text": [
      "[CV 4/5; 49/50] END model__C=3.699972431463808, model__epsilon=1.9170041589170652;, score=-23.046 total time= 1.4min\n",
      "[CV 5/5; 49/50] START model__C=3.699972431463808, model__epsilon=1.9170041589170652\n"
     ]
    },
    {
     "name": "stderr",
     "output_type": "stream",
     "text": [
      "/opt/anaconda3/lib/python3.9/site-packages/sklearn/svm/_base.py:299: ConvergenceWarning: Solver terminated early (max_iter=50000).  Consider pre-processing your data with StandardScaler or MinMaxScaler.\n",
      "  warnings.warn(\n"
     ]
    },
    {
     "name": "stdout",
     "output_type": "stream",
     "text": [
      "[CV 5/5; 49/50] END model__C=3.699972431463808, model__epsilon=1.9170041589170652;, score=-23.574 total time= 1.4min\n",
      "[CV 1/5; 50/50] START model__C=0.11919481947918735, model__epsilon=0.21070472806578233\n",
      "[CV 1/5; 50/50] END model__C=0.11919481947918735, model__epsilon=0.21070472806578233;, score=-26.635 total time= 1.6min\n",
      "[CV 2/5; 50/50] START model__C=0.11919481947918735, model__epsilon=0.21070472806578233\n",
      "[CV 2/5; 50/50] END model__C=0.11919481947918735, model__epsilon=0.21070472806578233;, score=-27.088 total time= 1.6min\n",
      "[CV 3/5; 50/50] START model__C=0.11919481947918735, model__epsilon=0.21070472806578233\n",
      "[CV 3/5; 50/50] END model__C=0.11919481947918735, model__epsilon=0.21070472806578233;, score=-26.864 total time= 3.3min\n",
      "[CV 4/5; 50/50] START model__C=0.11919481947918735, model__epsilon=0.21070472806578233\n",
      "[CV 4/5; 50/50] END model__C=0.11919481947918735, model__epsilon=0.21070472806578233;, score=-26.582 total time= 1.6min\n",
      "[CV 5/5; 50/50] START model__C=0.11919481947918735, model__epsilon=0.21070472806578233\n",
      "[CV 5/5; 50/50] END model__C=0.11919481947918735, model__epsilon=0.21070472806578233;, score=-27.031 total time= 1.6min\n",
      "Best neg_mean_absolute_error Score was: -23.314748795048324\n",
      "The best hyper parameters for the model are:\n",
      "{'model__C': 4.366473592979633, 'model__epsilon': 0.35856126103453967}\n"
     ]
    },
    {
     "name": "stderr",
     "output_type": "stream",
     "text": [
      "/opt/anaconda3/lib/python3.9/site-packages/sklearn/svm/_base.py:299: ConvergenceWarning: Solver terminated early (max_iter=50000).  Consider pre-processing your data with StandardScaler or MinMaxScaler.\n",
      "  warnings.warn(\n"
     ]
    }
   ],
   "source": [
    "find_best_hyperparameters(pipeline, x_val, y_val, model_para, score = 'neg_mean_absolute_error', verbose=10)"
   ]
  },
  {
   "cell_type": "code",
   "execution_count": 19,
   "id": "f57c7973",
   "metadata": {},
   "outputs": [],
   "source": [
    "svr_lin_daily = SVR(kernel = 'linear',cache_size=15000, max_iter=50000,epsilon = 0.35856126103453967, C= 4.366473592979633,verbose = 10)"
   ]
  },
  {
   "cell_type": "code",
   "execution_count": 23,
   "id": "8b3afa9b",
   "metadata": {},
   "outputs": [
    {
     "name": "stderr",
     "output_type": "stream",
     "text": [
      "/opt/anaconda3/lib/python3.9/site-packages/sklearn/svm/_base.py:299: ConvergenceWarning: Solver terminated early (max_iter=50000).  Consider pre-processing your data with StandardScaler or MinMaxScaler.\n",
      "  warnings.warn(\n"
     ]
    },
    {
     "name": "stdout",
     "output_type": "stream",
     "text": [
      "MODEL SCORES:\n",
      "MAE:  24.244\n",
      "MSE:  4447.861\n",
      "RMSE:  66.692\n",
      "Accuracy: 38.5 %\n",
      "R2:  56.870 %\n",
      "Max Residual Error:  1436.930\n"
     ]
    }
   ],
   "source": [
    "pipeline = pipeline_fit_predict(svr_lin_daily, categoric, numeric, x_train, y_train, x_test, y_test)"
   ]
  },
  {
   "cell_type": "markdown",
   "id": "7a576bfe",
   "metadata": {},
   "source": [
    "<hr style=\"border: 0.5px solid #8888;\">\n",
    "\n",
    "\n",
    "## Hourly Demand - hexagon low resolution "
   ]
  },
  {
   "cell_type": "code",
   "execution_count": null,
   "id": "72a3a9e3",
   "metadata": {},
   "outputs": [],
   "source": [
    "train_val_test"
   ]
  },
  {
   "cell_type": "code",
   "execution_count": null,
   "id": "e87b8c72",
   "metadata": {},
   "outputs": [],
   "source": [
    "svr_lin_daily = SVR(kernel = 'linear',cache_size=15000, max_iter=50000,epsilon =, C= )"
   ]
  },
  {
   "cell_type": "code",
   "execution_count": null,
   "id": "d51b9e84",
   "metadata": {},
   "outputs": [],
   "source": [
    "pipeline = pipeline_fit_predict(svr_lin_daily, categoric, numeric, x_train_val, y_train_val, x_test, y_test)"
   ]
  },
  {
   "cell_type": "markdown",
   "id": "0a8a9fd3",
   "metadata": {},
   "source": [
    "<hr style=\"border: 0.5px solid #8888;\">\n",
    "\n",
    "\n",
    "## Hourly Demand - hexagon medium resolution"
   ]
  },
  {
   "cell_type": "code",
   "execution_count": null,
   "id": "a48cb846",
   "metadata": {},
   "outputs": [],
   "source": [
    "train_val_test"
   ]
  },
  {
   "cell_type": "code",
   "execution_count": null,
   "id": "96b24b0f",
   "metadata": {},
   "outputs": [],
   "source": [
    "svr_lin_daily = SVR(kernel = 'linear',cache_size=15000, max_iter=50000,epsilon =, C= )"
   ]
  },
  {
   "cell_type": "code",
   "execution_count": null,
   "id": "e15bf926",
   "metadata": {},
   "outputs": [],
   "source": [
    "pipeline = pipeline_fit_predict(svr_lin_daily, categoric, numeric, x_train, y_train, x_test, y_test)"
   ]
  },
  {
   "cell_type": "markdown",
   "id": "763893bd",
   "metadata": {},
   "source": [
    "<hr style=\"border: 0.5px solid #8888;\">\n",
    "\n",
    "\n",
    "## Hourly Demand - hexagon high resolution"
   ]
  },
  {
   "cell_type": "code",
   "execution_count": null,
   "id": "58e33059",
   "metadata": {},
   "outputs": [],
   "source": [
    "train_val_test"
   ]
  },
  {
   "cell_type": "code",
   "execution_count": null,
   "id": "2a1e39a2",
   "metadata": {},
   "outputs": [],
   "source": [
    "svr_lin_daily = SVR(kernel = 'linear',cache_size=15000, max_iter=50000,epsilon =, C= )"
   ]
  },
  {
   "cell_type": "code",
   "execution_count": null,
   "id": "256f4480",
   "metadata": {},
   "outputs": [],
   "source": [
    "pipeline = pipeline_fit_predict(svr_lin_daily, categoric, numeric, x_train, y_train, x_test, y_test)"
   ]
  }
 ],
 "metadata": {
  "kernelspec": {
   "display_name": "Python 3 (ipykernel)",
   "language": "python",
   "name": "python3"
  },
  "language_info": {
   "codemirror_mode": {
    "name": "ipython",
    "version": 3
   },
   "file_extension": ".py",
   "mimetype": "text/x-python",
   "name": "python",
   "nbconvert_exporter": "python",
   "pygments_lexer": "ipython3",
   "version": "3.9.12"
  }
 },
 "nbformat": 4,
 "nbformat_minor": 5
}
