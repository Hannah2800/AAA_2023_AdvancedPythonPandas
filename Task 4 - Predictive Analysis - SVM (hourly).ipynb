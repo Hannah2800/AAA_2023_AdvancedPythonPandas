{
 "cells": [
  {
   "cell_type": "code",
   "execution_count": 1,
   "id": "2ab5e5dd",
   "metadata": {},
   "outputs": [],
   "source": [
    "# import all necessary packages\n",
    "import pandas as pd\n",
    "import numpy as np\n",
    "import json\n",
    "import datetime\n",
    "import warnings\n",
    "from pandas.core.common import SettingWithCopyWarning\n",
    "\n",
    "#warnings.simplefilter(action=\"ignore\", category=SettingWithCopyWarning)\n",
    "#import seaborn as sns\n",
    "#import matplotlib as mlp\n",
    "import matplotlib.pyplot as plt\n",
    "#from datetime import datetime\n",
    "from sklearn.pipeline import Pipeline\n",
    "from sklearn.compose import ColumnTransformer\n",
    "from sklearn.preprocessing import OneHotEncoder, StandardScaler\n",
    "from sklearn.linear_model import LinearRegression\n",
    "from sklearn import metrics\n",
    "from sklearn.svm import SVR\n",
    "import math\n",
    "from sklearn import datasets\n",
    "from sklearn.metrics import mean_squared_error"
   ]
  },
  {
   "cell_type": "code",
   "execution_count": 2,
   "id": "69e6c3d2",
   "metadata": {
    "scrolled": false
   },
   "outputs": [
    {
     "name": "stdout",
     "output_type": "stream",
     "text": [
      "<class 'pandas.core.frame.DataFrame'>\n",
      "RangeIndex: 227660 entries, 0 to 227659\n",
      "Data columns (total 18 columns):\n",
      " #   Column                 Non-Null Count   Dtype  \n",
      "---  ------                 --------------   -----  \n",
      " 0   date_start             227660 non-null  object \n",
      " 1   start_stamp            227660 non-null  int64  \n",
      " 2   Pickup_Community_Area  227660 non-null  float64\n",
      " 3   numOfTaxis_area        227660 non-null  int64  \n",
      " 4   start_time_hourly      227660 non-null  int64  \n",
      " 5   dayOfWeek              227660 non-null  object \n",
      " 6   isHoliday              227660 non-null  bool   \n",
      " 7   isRushhour             227660 non-null  bool   \n",
      " 8   start_time_day         227660 non-null  int64  \n",
      " 9   start_time_week        227660 non-null  int64  \n",
      " 10  start_time_month       227660 non-null  int64  \n",
      " 11  pressure               227660 non-null  float64\n",
      " 12  humidity               227660 non-null  float64\n",
      " 13  wind_direction         227660 non-null  float64\n",
      " 14  wind_speed             227660 non-null  float64\n",
      " 15  description            227660 non-null  object \n",
      " 16  season                 227660 non-null  object \n",
      " 17  temperature_celsius    227660 non-null  float64\n",
      "dtypes: bool(2), float64(6), int64(6), object(4)\n",
      "memory usage: 28.2+ MB\n"
     ]
    }
   ],
   "source": [
    "# import datasets\n",
    "df_h_comar = pd.read_csv(\"data/datasets/df_h_comar.csv\")\n",
    "df_h_comar.info()"
   ]
  },
  {
   "cell_type": "code",
   "execution_count": 3,
   "id": "7b2ec951",
   "metadata": {},
   "outputs": [
    {
     "data": {
      "text/html": [
       "<div>\n",
       "<style scoped>\n",
       "    .dataframe tbody tr th:only-of-type {\n",
       "        vertical-align: middle;\n",
       "    }\n",
       "\n",
       "    .dataframe tbody tr th {\n",
       "        vertical-align: top;\n",
       "    }\n",
       "\n",
       "    .dataframe thead th {\n",
       "        text-align: right;\n",
       "    }\n",
       "</style>\n",
       "<table border=\"1\" class=\"dataframe\">\n",
       "  <thead>\n",
       "    <tr style=\"text-align: right;\">\n",
       "      <th></th>\n",
       "      <th>start_stamp</th>\n",
       "      <th>Pickup_Community_Area</th>\n",
       "      <th>numOfTaxis_area</th>\n",
       "      <th>start_time_hourly</th>\n",
       "      <th>dayOfWeek</th>\n",
       "      <th>isHoliday</th>\n",
       "      <th>isRushhour</th>\n",
       "      <th>start_time_day</th>\n",
       "      <th>start_time_week</th>\n",
       "      <th>start_time_month</th>\n",
       "      <th>pressure</th>\n",
       "      <th>humidity</th>\n",
       "      <th>wind_direction</th>\n",
       "      <th>wind_speed</th>\n",
       "      <th>description</th>\n",
       "      <th>season</th>\n",
       "      <th>temperature_celsius</th>\n",
       "    </tr>\n",
       "  </thead>\n",
       "  <tbody>\n",
       "    <tr>\n",
       "      <th>0</th>\n",
       "      <td>0</td>\n",
       "      <td>1.0</td>\n",
       "      <td>4</td>\n",
       "      <td>0</td>\n",
       "      <td>Tuesday</td>\n",
       "      <td>True</td>\n",
       "      <td>False</td>\n",
       "      <td>1</td>\n",
       "      <td>1</td>\n",
       "      <td>1</td>\n",
       "      <td>1024.0</td>\n",
       "      <td>64.0</td>\n",
       "      <td>200.0</td>\n",
       "      <td>4.0</td>\n",
       "      <td>overcast clouds</td>\n",
       "      <td>winter</td>\n",
       "      <td>-0.19</td>\n",
       "    </tr>\n",
       "    <tr>\n",
       "      <th>1</th>\n",
       "      <td>0</td>\n",
       "      <td>2.0</td>\n",
       "      <td>1</td>\n",
       "      <td>0</td>\n",
       "      <td>Tuesday</td>\n",
       "      <td>True</td>\n",
       "      <td>False</td>\n",
       "      <td>1</td>\n",
       "      <td>1</td>\n",
       "      <td>1</td>\n",
       "      <td>1024.0</td>\n",
       "      <td>64.0</td>\n",
       "      <td>200.0</td>\n",
       "      <td>4.0</td>\n",
       "      <td>overcast clouds</td>\n",
       "      <td>winter</td>\n",
       "      <td>-0.19</td>\n",
       "    </tr>\n",
       "    <tr>\n",
       "      <th>2</th>\n",
       "      <td>0</td>\n",
       "      <td>3.0</td>\n",
       "      <td>43</td>\n",
       "      <td>0</td>\n",
       "      <td>Tuesday</td>\n",
       "      <td>True</td>\n",
       "      <td>False</td>\n",
       "      <td>1</td>\n",
       "      <td>1</td>\n",
       "      <td>1</td>\n",
       "      <td>1024.0</td>\n",
       "      <td>64.0</td>\n",
       "      <td>200.0</td>\n",
       "      <td>4.0</td>\n",
       "      <td>overcast clouds</td>\n",
       "      <td>winter</td>\n",
       "      <td>-0.19</td>\n",
       "    </tr>\n",
       "    <tr>\n",
       "      <th>3</th>\n",
       "      <td>0</td>\n",
       "      <td>4.0</td>\n",
       "      <td>13</td>\n",
       "      <td>0</td>\n",
       "      <td>Tuesday</td>\n",
       "      <td>True</td>\n",
       "      <td>False</td>\n",
       "      <td>1</td>\n",
       "      <td>1</td>\n",
       "      <td>1</td>\n",
       "      <td>1024.0</td>\n",
       "      <td>64.0</td>\n",
       "      <td>200.0</td>\n",
       "      <td>4.0</td>\n",
       "      <td>overcast clouds</td>\n",
       "      <td>winter</td>\n",
       "      <td>-0.19</td>\n",
       "    </tr>\n",
       "    <tr>\n",
       "      <th>4</th>\n",
       "      <td>0</td>\n",
       "      <td>5.0</td>\n",
       "      <td>17</td>\n",
       "      <td>0</td>\n",
       "      <td>Tuesday</td>\n",
       "      <td>True</td>\n",
       "      <td>False</td>\n",
       "      <td>1</td>\n",
       "      <td>1</td>\n",
       "      <td>1</td>\n",
       "      <td>1024.0</td>\n",
       "      <td>64.0</td>\n",
       "      <td>200.0</td>\n",
       "      <td>4.0</td>\n",
       "      <td>overcast clouds</td>\n",
       "      <td>winter</td>\n",
       "      <td>-0.19</td>\n",
       "    </tr>\n",
       "    <tr>\n",
       "      <th>...</th>\n",
       "      <td>...</td>\n",
       "      <td>...</td>\n",
       "      <td>...</td>\n",
       "      <td>...</td>\n",
       "      <td>...</td>\n",
       "      <td>...</td>\n",
       "      <td>...</td>\n",
       "      <td>...</td>\n",
       "      <td>...</td>\n",
       "      <td>...</td>\n",
       "      <td>...</td>\n",
       "      <td>...</td>\n",
       "      <td>...</td>\n",
       "      <td>...</td>\n",
       "      <td>...</td>\n",
       "      <td>...</td>\n",
       "      <td>...</td>\n",
       "    </tr>\n",
       "    <tr>\n",
       "      <th>227655</th>\n",
       "      <td>23</td>\n",
       "      <td>59.0</td>\n",
       "      <td>1</td>\n",
       "      <td>23</td>\n",
       "      <td>Tuesday</td>\n",
       "      <td>False</td>\n",
       "      <td>False</td>\n",
       "      <td>31</td>\n",
       "      <td>1</td>\n",
       "      <td>12</td>\n",
       "      <td>1023.0</td>\n",
       "      <td>89.0</td>\n",
       "      <td>217.0</td>\n",
       "      <td>1.0</td>\n",
       "      <td>mist</td>\n",
       "      <td>winter</td>\n",
       "      <td>-11.00</td>\n",
       "    </tr>\n",
       "    <tr>\n",
       "      <th>227656</th>\n",
       "      <td>23</td>\n",
       "      <td>60.0</td>\n",
       "      <td>3</td>\n",
       "      <td>23</td>\n",
       "      <td>Tuesday</td>\n",
       "      <td>False</td>\n",
       "      <td>False</td>\n",
       "      <td>31</td>\n",
       "      <td>1</td>\n",
       "      <td>12</td>\n",
       "      <td>1023.0</td>\n",
       "      <td>89.0</td>\n",
       "      <td>217.0</td>\n",
       "      <td>1.0</td>\n",
       "      <td>mist</td>\n",
       "      <td>winter</td>\n",
       "      <td>-11.00</td>\n",
       "    </tr>\n",
       "    <tr>\n",
       "      <th>227657</th>\n",
       "      <td>23</td>\n",
       "      <td>61.0</td>\n",
       "      <td>1</td>\n",
       "      <td>23</td>\n",
       "      <td>Tuesday</td>\n",
       "      <td>False</td>\n",
       "      <td>False</td>\n",
       "      <td>31</td>\n",
       "      <td>1</td>\n",
       "      <td>12</td>\n",
       "      <td>1023.0</td>\n",
       "      <td>89.0</td>\n",
       "      <td>217.0</td>\n",
       "      <td>1.0</td>\n",
       "      <td>mist</td>\n",
       "      <td>winter</td>\n",
       "      <td>-11.00</td>\n",
       "    </tr>\n",
       "    <tr>\n",
       "      <th>227658</th>\n",
       "      <td>23</td>\n",
       "      <td>76.0</td>\n",
       "      <td>3</td>\n",
       "      <td>23</td>\n",
       "      <td>Tuesday</td>\n",
       "      <td>False</td>\n",
       "      <td>False</td>\n",
       "      <td>31</td>\n",
       "      <td>1</td>\n",
       "      <td>12</td>\n",
       "      <td>1023.0</td>\n",
       "      <td>89.0</td>\n",
       "      <td>217.0</td>\n",
       "      <td>1.0</td>\n",
       "      <td>mist</td>\n",
       "      <td>winter</td>\n",
       "      <td>-11.00</td>\n",
       "    </tr>\n",
       "    <tr>\n",
       "      <th>227659</th>\n",
       "      <td>23</td>\n",
       "      <td>77.0</td>\n",
       "      <td>45</td>\n",
       "      <td>23</td>\n",
       "      <td>Tuesday</td>\n",
       "      <td>False</td>\n",
       "      <td>False</td>\n",
       "      <td>31</td>\n",
       "      <td>1</td>\n",
       "      <td>12</td>\n",
       "      <td>1023.0</td>\n",
       "      <td>89.0</td>\n",
       "      <td>217.0</td>\n",
       "      <td>1.0</td>\n",
       "      <td>mist</td>\n",
       "      <td>winter</td>\n",
       "      <td>-11.00</td>\n",
       "    </tr>\n",
       "  </tbody>\n",
       "</table>\n",
       "<p>227660 rows × 17 columns</p>\n",
       "</div>"
      ],
      "text/plain": [
       "        start_stamp  Pickup_Community_Area  numOfTaxis_area  \\\n",
       "0                 0                    1.0                4   \n",
       "1                 0                    2.0                1   \n",
       "2                 0                    3.0               43   \n",
       "3                 0                    4.0               13   \n",
       "4                 0                    5.0               17   \n",
       "...             ...                    ...              ...   \n",
       "227655           23                   59.0                1   \n",
       "227656           23                   60.0                3   \n",
       "227657           23                   61.0                1   \n",
       "227658           23                   76.0                3   \n",
       "227659           23                   77.0               45   \n",
       "\n",
       "        start_time_hourly dayOfWeek  isHoliday  isRushhour  start_time_day  \\\n",
       "0                       0   Tuesday       True       False               1   \n",
       "1                       0   Tuesday       True       False               1   \n",
       "2                       0   Tuesday       True       False               1   \n",
       "3                       0   Tuesday       True       False               1   \n",
       "4                       0   Tuesday       True       False               1   \n",
       "...                   ...       ...        ...         ...             ...   \n",
       "227655                 23   Tuesday      False       False              31   \n",
       "227656                 23   Tuesday      False       False              31   \n",
       "227657                 23   Tuesday      False       False              31   \n",
       "227658                 23   Tuesday      False       False              31   \n",
       "227659                 23   Tuesday      False       False              31   \n",
       "\n",
       "        start_time_week  start_time_month  pressure  humidity  wind_direction  \\\n",
       "0                     1                 1    1024.0      64.0           200.0   \n",
       "1                     1                 1    1024.0      64.0           200.0   \n",
       "2                     1                 1    1024.0      64.0           200.0   \n",
       "3                     1                 1    1024.0      64.0           200.0   \n",
       "4                     1                 1    1024.0      64.0           200.0   \n",
       "...                 ...               ...       ...       ...             ...   \n",
       "227655                1                12    1023.0      89.0           217.0   \n",
       "227656                1                12    1023.0      89.0           217.0   \n",
       "227657                1                12    1023.0      89.0           217.0   \n",
       "227658                1                12    1023.0      89.0           217.0   \n",
       "227659                1                12    1023.0      89.0           217.0   \n",
       "\n",
       "        wind_speed      description  season  temperature_celsius  \n",
       "0              4.0  overcast clouds  winter                -0.19  \n",
       "1              4.0  overcast clouds  winter                -0.19  \n",
       "2              4.0  overcast clouds  winter                -0.19  \n",
       "3              4.0  overcast clouds  winter                -0.19  \n",
       "4              4.0  overcast clouds  winter                -0.19  \n",
       "...            ...              ...     ...                  ...  \n",
       "227655         1.0             mist  winter               -11.00  \n",
       "227656         1.0             mist  winter               -11.00  \n",
       "227657         1.0             mist  winter               -11.00  \n",
       "227658         1.0             mist  winter               -11.00  \n",
       "227659         1.0             mist  winter               -11.00  \n",
       "\n",
       "[227660 rows x 17 columns]"
      ]
     },
     "execution_count": 3,
     "metadata": {},
     "output_type": "execute_result"
    }
   ],
   "source": [
    "df_h_comar.drop(columns = ['date_start'])"
   ]
  },
  {
   "cell_type": "code",
   "execution_count": 4,
   "id": "02f8c5fa",
   "metadata": {},
   "outputs": [],
   "source": [
    "# defining categorical and numeric features of dfPhiladelphia\n",
    "\n",
    "categoric = ['start_stamp', 'Pickup_Community_Area','dayOfWeek','start_time_month','start_time_day','start_time_week',\n",
    "             'isHoliday','description','isRushhour', 'season']\n",
    "numeric = ['temperature_celsius','wind_speed','wind_direction','humidity','pressure']\n"
   ]
  },
  {
   "cell_type": "code",
   "execution_count": 5,
   "id": "50e5d8a0",
   "metadata": {},
   "outputs": [],
   "source": [
    "# function for normalize numeric and encode categorical features and for create pipeline\n",
    "\n",
    "def pipeline_for_prediction(categoric, numeric, model):\n",
    "    \n",
    "    numeric_transformer = Pipeline(steps=[(\"standard_scaler\", StandardScaler())])\n",
    "    categorical_transformer = Pipeline(\n",
    "        steps=[(\"one_hot_encoder\", OneHotEncoder(handle_unknown=\"ignore\"))]\n",
    "    )\n",
    "    preprocessor = ColumnTransformer(\n",
    "        transformers=[\n",
    "            (\"numerical scaler\", numeric_transformer, numeric),\n",
    "            (\"one hot encoder\", categorical_transformer, categoric),\n",
    "        ]\n",
    "    )\n",
    "    pipeline = Pipeline(\n",
    "        steps=[(\"preprocessor\", preprocessor), (\"model\", model)]\n",
    "    )\n",
    "    return pipeline"
   ]
  },
  {
   "cell_type": "code",
   "execution_count": 6,
   "id": "96acf6c5",
   "metadata": {},
   "outputs": [],
   "source": [
    "# function for getting different scores for a model\n",
    "\n",
    "def get_prediction_scores(y_true, y_predicted):\n",
    "    print(\"MODEL SCORES:\")\n",
    "    print(f\"MAE: {metrics.mean_absolute_error(y_true, y_predicted): .3f}\")\n",
    "    print(f\"MSE: {metrics.mean_squared_error(y_true, y_predicted): .3f}\")\n",
    "    print(f\"RMSE: {math.sqrt(metrics.mean_squared_error(y_true, y_predicted)): .3f}\")\n",
    "    print(f\"Accuracy:\", round((1-(metrics.mean_absolute_error(y_true, y_predicted)/df_h_comar[\"numOfTaxis_area\"].mean()))*100,2), \"%\")\n",
    "    print(f\"R2: {100 * metrics.r2_score(y_true, y_predicted): .3f} %\")\n",
    "    print(f\"Max Residual Error: {metrics.max_error(y_true, y_predicted): .3f}\")"
   ]
  },
  {
   "cell_type": "code",
   "execution_count": 7,
   "id": "59566075",
   "metadata": {},
   "outputs": [],
   "source": [
    "# function for creating pipeline and fitting model (created by the pipeline), predict and printing scores\n",
    "\n",
    "def pipeline_fit_predict(reg, categoric, numeric, x_train, y_train, x_val, y_val):\n",
    "    pipeline = pipeline_for_prediction(categoric, numeric, reg)\n",
    "    pipeline.fit(x_train, y_train)\n",
    "    y_predict = pipeline.predict(x_val)\n",
    "    get_prediction_scores(y_val, y_predict)"
   ]
  },
  {
   "cell_type": "code",
   "execution_count": 8,
   "id": "2410088d",
   "metadata": {},
   "outputs": [],
   "source": [
    "from sklearn.model_selection import train_test_split\n",
    "\n",
    "#split the data set in 70% training set and 30% testing set\n",
    "#x_train, x_test, y_train, y_test = train_test_split(x_norm, y, test_size=0.3,random_state=42)\n",
    "x_train, x_test, y_train, y_test = train_test_split(df_h_comar.drop('numOfTaxis_area', axis=1)\n",
    "                                                    , df_h_comar['numOfTaxis_area'], \n",
    "                                                    test_size=0.3,random_state=42)\n",
    "\n",
    "# save the combination of training and validation set in extra variables\n",
    "x_train_val = x_train\n",
    "y_train_val = y_train\n",
    "\n",
    "#split the training data set in 70% training set and 20% validation set to achieve a 50-20-30 split\n",
    "x_train, x_val, y_train, y_val = train_test_split(x_train, y_train, test_size=(0.2/0.7), random_state = 42)"
   ]
  },
  {
   "cell_type": "code",
   "execution_count": null,
   "id": "56104cab",
   "metadata": {},
   "outputs": [],
   "source": []
  },
  {
   "cell_type": "markdown",
   "id": "5824ffb1",
   "metadata": {},
   "source": [
    "## Linear Regression (as Benchmark)"
   ]
  },
  {
   "cell_type": "code",
   "execution_count": 9,
   "id": "4260c0e5",
   "metadata": {},
   "outputs": [],
   "source": [
    "# creating the regression model\n",
    "\n",
    "lin_reg = LinearRegression()"
   ]
  },
  {
   "cell_type": "code",
   "execution_count": 10,
   "id": "a87e1faf",
   "metadata": {},
   "outputs": [
    {
     "name": "stdout",
     "output_type": "stream",
     "text": [
      "MODEL SCORES:\n",
      "MAE:  30.758\n",
      "MSE:  3904.656\n",
      "RMSE:  62.487\n",
      "Accuracy: 21.97 %\n",
      "R2:  62.137 %\n",
      "Max Residual Error:  1339.486\n"
     ]
    }
   ],
   "source": [
    "pipeline = pipeline_fit_predict(lin_reg, categoric, numeric, x_train_val, y_train_val, x_test, y_test)"
   ]
  },
  {
   "cell_type": "code",
   "execution_count": null,
   "id": "9a77c668",
   "metadata": {},
   "outputs": [],
   "source": []
  },
  {
   "cell_type": "code",
   "execution_count": null,
   "id": "96fed9a7",
   "metadata": {},
   "outputs": [],
   "source": []
  },
  {
   "cell_type": "markdown",
   "id": "106ee7e5",
   "metadata": {},
   "source": [
    "## Support Vector Machine"
   ]
  },
  {
   "cell_type": "markdown",
   "id": "f021d5f4",
   "metadata": {},
   "source": [
    "### Checking for the best kernel"
   ]
  },
  {
   "cell_type": "markdown",
   "id": "ba51e804",
   "metadata": {},
   "source": [
    "#### Kernel: linear"
   ]
  },
  {
   "cell_type": "code",
   "execution_count": null,
   "id": "c24837e2",
   "metadata": {},
   "outputs": [],
   "source": []
  },
  {
   "cell_type": "code",
   "execution_count": 24,
   "id": "ec807ac1",
   "metadata": {},
   "outputs": [],
   "source": [
    "svr_lin = SVR(kernel = 'linear',verbose = 10,cache_size=15000, max_iter=50000)"
   ]
  },
  {
   "cell_type": "code",
   "execution_count": 12,
   "id": "4938d726",
   "metadata": {},
   "outputs": [
    {
     "name": "stdout",
     "output_type": "stream",
     "text": [
      "[LibSVM].................................................WARN: libsvm Solver reached max_iter\n",
      "optimization finished, #iter = 50000\n",
      "obj = -3363473.268517, rho = -11.201561\n",
      "nSV = 95981, nBSV = 95028\n"
     ]
    },
    {
     "name": "stderr",
     "output_type": "stream",
     "text": [
      "/opt/anaconda3/lib/python3.9/site-packages/sklearn/svm/_base.py:299: ConvergenceWarning: Solver terminated early (max_iter=50000).  Consider pre-processing your data with StandardScaler or MinMaxScaler.\n",
      "  warnings.warn(\n"
     ]
    },
    {
     "name": "stdout",
     "output_type": "stream",
     "text": [
      "MODEL SCORES:\n",
      "MAE:  23.337\n",
      "MSE:  4498.339\n",
      "RMSE:  67.070\n",
      "Accuracy: 40.8 %\n",
      "R2:  56.381 %\n",
      "Max Residual Error:  1446.159\n"
     ]
    }
   ],
   "source": [
    "pipeline = pipeline_fit_predict(svr_lin, categoric, numeric, x_train_val, y_train_val, x_test, y_test)"
   ]
  },
  {
   "cell_type": "markdown",
   "id": "41f345e3",
   "metadata": {},
   "source": [
    "#### Kernel: poly degree 2"
   ]
  },
  {
   "cell_type": "code",
   "execution_count": 18,
   "id": "4c2ff44d",
   "metadata": {},
   "outputs": [],
   "source": [
    "svr_poly2 = SVR(kernel = 'poly',degree = 2, verbose = 10,cache_size=15000, max_iter=50000)"
   ]
  },
  {
   "cell_type": "code",
   "execution_count": 19,
   "id": "8de7437a",
   "metadata": {},
   "outputs": [
    {
     "name": "stdout",
     "output_type": "stream",
     "text": [
      "[LibSVM].................................................WARN: libsvm Solver reached max_iter\n",
      "optimization finished, #iter = 50000\n",
      "obj = -4735355.356241, rho = -6.414818\n",
      "nSV = 99966, nBSV = 99966\n"
     ]
    },
    {
     "name": "stderr",
     "output_type": "stream",
     "text": [
      "/opt/anaconda3/lib/python3.9/site-packages/sklearn/svm/_base.py:299: ConvergenceWarning: Solver terminated early (max_iter=50000).  Consider pre-processing your data with StandardScaler or MinMaxScaler.\n",
      "  warnings.warn(\n"
     ]
    },
    {
     "name": "stdout",
     "output_type": "stream",
     "text": [
      "MODEL SCORES:\n",
      "MAE:  26.649\n",
      "MSE:  7286.713\n",
      "RMSE:  85.362\n",
      "Accuracy: 32.39 %\n",
      "R2:  29.343 %\n",
      "Max Residual Error:  1635.635\n"
     ]
    }
   ],
   "source": [
    "pipeline = pipeline_fit_predict(svr_poly, categoric, numeric, x_train_val, y_train_val, x_test, y_test)"
   ]
  },
  {
   "cell_type": "markdown",
   "id": "daba3fe2",
   "metadata": {},
   "source": [
    "#### Kernel: poly degree 3"
   ]
  },
  {
   "cell_type": "code",
   "execution_count": 13,
   "id": "cc73e48f",
   "metadata": {},
   "outputs": [],
   "source": [
    "svr_poly3 = SVR(kernel = 'poly',verbose = 10,cache_size=15000, max_iter=50000)"
   ]
  },
  {
   "cell_type": "code",
   "execution_count": 14,
   "id": "18bb26dc",
   "metadata": {},
   "outputs": [
    {
     "name": "stdout",
     "output_type": "stream",
     "text": [
      "[LibSVM].................................................WARN: libsvm Solver reached max_iter\n",
      "optimization finished, #iter = 50000\n",
      "obj = -5031586.430808, rho = 4.514757\n",
      "nSV = 99968, nBSV = 99968\n"
     ]
    },
    {
     "name": "stderr",
     "output_type": "stream",
     "text": [
      "/opt/anaconda3/lib/python3.9/site-packages/sklearn/svm/_base.py:299: ConvergenceWarning: Solver terminated early (max_iter=50000).  Consider pre-processing your data with StandardScaler or MinMaxScaler.\n",
      "  warnings.warn(\n"
     ]
    },
    {
     "name": "stdout",
     "output_type": "stream",
     "text": [
      "MODEL SCORES:\n",
      "MAE:  35.897\n",
      "MSE:  8870.264\n",
      "RMSE:  94.182\n",
      "Accuracy: 8.93 %\n",
      "R2:  13.987 %\n",
      "Max Residual Error:  1689.392\n"
     ]
    }
   ],
   "source": [
    "pipeline = pipeline_fit_predict(svr_poly3, categoric, numeric, x_train_val, y_train_val, x_test, y_test)"
   ]
  },
  {
   "cell_type": "markdown",
   "id": "46c78898",
   "metadata": {},
   "source": [
    "#### Kernel: rbf"
   ]
  },
  {
   "cell_type": "code",
   "execution_count": 16,
   "id": "9e3432ea",
   "metadata": {},
   "outputs": [],
   "source": [
    "svr_rbf = SVR(kernel = 'rbf',verbose = 10,cache_size=15000, max_iter=50000)"
   ]
  },
  {
   "cell_type": "code",
   "execution_count": 17,
   "id": "fee9dc37",
   "metadata": {},
   "outputs": [
    {
     "name": "stdout",
     "output_type": "stream",
     "text": [
      "[LibSVM].................................................WARN: libsvm Solver reached max_iter\n",
      "optimization finished, #iter = 50000\n",
      "obj = -4792854.643942, rho = -6.669636\n",
      "nSV = 99984, nBSV = 99984\n"
     ]
    },
    {
     "name": "stderr",
     "output_type": "stream",
     "text": [
      "/opt/anaconda3/lib/python3.9/site-packages/sklearn/svm/_base.py:299: ConvergenceWarning: Solver terminated early (max_iter=50000).  Consider pre-processing your data with StandardScaler or MinMaxScaler.\n",
      "  warnings.warn(\n"
     ]
    },
    {
     "name": "stdout",
     "output_type": "stream",
     "text": [
      "MODEL SCORES:\n",
      "MAE:  26.690\n",
      "MSE:  7261.736\n",
      "RMSE:  85.216\n",
      "Accuracy: 32.29 %\n",
      "R2:  29.585 %\n",
      "Max Residual Error:  1634.289\n"
     ]
    }
   ],
   "source": [
    "pipeline = pipeline_fit_predict(svr_rbf, categoric, numeric, x_train_val, y_train_val, x_test, y_test)"
   ]
  },
  {
   "cell_type": "code",
   "execution_count": null,
   "id": "0759d1f6",
   "metadata": {},
   "outputs": [],
   "source": []
  },
  {
   "cell_type": "code",
   "execution_count": null,
   "id": "0eabc7d4",
   "metadata": {},
   "outputs": [],
   "source": []
  },
  {
   "cell_type": "code",
   "execution_count": 20,
   "id": "061c1488",
   "metadata": {},
   "outputs": [],
   "source": [
    "# function for finding the best hyperparameter by using RandomizedSearchCV and RepeatedStratifiedKFold\n",
    "\"\"\"parameter:\n",
    "   - pipeline: used pipeline for grid search (the pipeline contains the model)\n",
    "   - x_val: data set (features) used for grid search\n",
    "   - y_val: data set (target value) used for grid search\n",
    "   - model_par: parameters for which the grid search is done\n",
    "   - score: used score measure \n",
    "   - n_iter: how often grid search will be done\n",
    "   - n_repeats: how often the data set is randomly splitted (by using the same random hyperparameter) in n_splits\n",
    "   - n_splits: number of splits in RepeatedStratifiedKFold\n",
    "   - verbose: getting information during the grid search\n",
    "\"\"\"\n",
    "\n",
    "\n",
    "from sklearn.model_selection import RandomizedSearchCV, RepeatedStratifiedKFold\n",
    "\n",
    "def find_best_hyperparameters(pipeline, x_val, y_val, model_par, score, n_iter = 50,  \n",
    "                                   n_repeats=3, n_splits=5, n_jobs=1, verbose=True):\n",
    "    \n",
    "    print(f\"Running grid search for the model based on {score}\")\n",
    "    grid_pipeline = RandomizedSearchCV(\n",
    "        estimator=pipeline,\n",
    "        param_distributions=model_par,\n",
    "        n_jobs=n_jobs,\n",
    "        n_iter=n_iter,\n",
    "        cv=RepeatedStratifiedKFold(n_splits=n_splits, n_repeats=n_repeats, random_state=42),\n",
    "        scoring=score,\n",
    "        random_state=42,\n",
    "        verbose=verbose,\n",
    "    )\n",
    "    grid_pipeline.fit(x_val, y_val)\n",
    "    print(f\"Best {score} Score was: {grid_pipeline.best_score_}\")\n",
    "    print(\"The best hyper parameters for the model are:\")\n",
    "    print(grid_pipeline.best_params_)"
   ]
  },
  {
   "cell_type": "code",
   "execution_count": 34,
   "id": "fb4bcae6",
   "metadata": {},
   "outputs": [],
   "source": [
    "# creating the ranges for model parameter to use in find_best_hyperparameters\n",
    "\n",
    "from scipy.stats import loguniform\n",
    "\n",
    "model_para = {'model__C':loguniform(1e-1, 1e2),        \n",
    "                'model__epsilon':loguniform(1e-1, 1e2)\n",
    "             }               "
   ]
  },
  {
   "cell_type": "code",
   "execution_count": 35,
   "id": "37f3abd8",
   "metadata": {},
   "outputs": [],
   "source": [
    "svr_lin = SVR(kernel = 'linear',cache_size=15000, max_iter=50000)"
   ]
  },
  {
   "cell_type": "code",
   "execution_count": 36,
   "id": "8c370ac4",
   "metadata": {},
   "outputs": [],
   "source": [
    "pipeline = pipeline_for_prediction(categoric, numeric, svr_lin)"
   ]
  },
  {
   "cell_type": "code",
   "execution_count": null,
   "id": "c9d802c2",
   "metadata": {
    "scrolled": true
   },
   "outputs": [
    {
     "name": "stdout",
     "output_type": "stream",
     "text": [
      "Running grid search for the model based on neg_mean_squared_error\n",
      "Fitting 15 folds for each of 50 candidates, totalling 750 fits\n",
      "[CV 1/15; 1/50] START model__C=1.3292918943162162, model__epsilon=71.14476009343417\n"
     ]
    },
    {
     "name": "stderr",
     "output_type": "stream",
     "text": [
      "/opt/anaconda3/lib/python3.9/site-packages/sklearn/model_selection/_split.py:700: UserWarning: The least populated class in y has only 1 members, which is less than n_splits=5.\n",
      "  warnings.warn(\n",
      "/opt/anaconda3/lib/python3.9/site-packages/sklearn/model_selection/_split.py:700: UserWarning: The least populated class in y has only 1 members, which is less than n_splits=5.\n",
      "  warnings.warn(\n",
      "/opt/anaconda3/lib/python3.9/site-packages/sklearn/model_selection/_split.py:700: UserWarning: The least populated class in y has only 1 members, which is less than n_splits=5.\n",
      "  warnings.warn(\n"
     ]
    },
    {
     "name": "stdout",
     "output_type": "stream",
     "text": [
      "[CV 1/15; 1/50] END model__C=1.3292918943162162, model__epsilon=71.14476009343417;, score=-5269.594 total time=  10.5s\n",
      "[CV 2/15; 1/50] START model__C=1.3292918943162162, model__epsilon=71.14476009343417\n",
      "[CV 2/15; 1/50] END model__C=1.3292918943162162, model__epsilon=71.14476009343417;, score=-5384.253 total time=  10.5s\n",
      "[CV 3/15; 1/50] START model__C=1.3292918943162162, model__epsilon=71.14476009343417\n",
      "[CV 3/15; 1/50] END model__C=1.3292918943162162, model__epsilon=71.14476009343417;, score=-5483.595 total time=  10.6s\n",
      "[CV 4/15; 1/50] START model__C=1.3292918943162162, model__epsilon=71.14476009343417\n",
      "[CV 4/15; 1/50] END model__C=1.3292918943162162, model__epsilon=71.14476009343417;, score=-5109.788 total time=  10.6s\n",
      "[CV 5/15; 1/50] START model__C=1.3292918943162162, model__epsilon=71.14476009343417\n",
      "[CV 5/15; 1/50] END model__C=1.3292918943162162, model__epsilon=71.14476009343417;, score=-5464.847 total time=  10.4s\n",
      "[CV 6/15; 1/50] START model__C=1.3292918943162162, model__epsilon=71.14476009343417\n",
      "[CV 6/15; 1/50] END model__C=1.3292918943162162, model__epsilon=71.14476009343417;, score=-5179.627 total time=  10.5s\n",
      "[CV 7/15; 1/50] START model__C=1.3292918943162162, model__epsilon=71.14476009343417\n",
      "[CV 7/15; 1/50] END model__C=1.3292918943162162, model__epsilon=71.14476009343417;, score=-5314.881 total time=  10.4s\n",
      "[CV 8/15; 1/50] START model__C=1.3292918943162162, model__epsilon=71.14476009343417\n",
      "[CV 8/15; 1/50] END model__C=1.3292918943162162, model__epsilon=71.14476009343417;, score=-5483.781 total time=  10.5s\n",
      "[CV 9/15; 1/50] START model__C=1.3292918943162162, model__epsilon=71.14476009343417\n",
      "[CV 9/15; 1/50] END model__C=1.3292918943162162, model__epsilon=71.14476009343417;, score=-5206.824 total time=  10.3s\n",
      "[CV 10/15; 1/50] START model__C=1.3292918943162162, model__epsilon=71.14476009343417\n",
      "[CV 10/15; 1/50] END model__C=1.3292918943162162, model__epsilon=71.14476009343417;, score=-5519.374 total time=  10.3s\n",
      "[CV 11/15; 1/50] START model__C=1.3292918943162162, model__epsilon=71.14476009343417\n",
      "[CV 11/15; 1/50] END model__C=1.3292918943162162, model__epsilon=71.14476009343417;, score=-5180.924 total time=  10.5s\n",
      "[CV 12/15; 1/50] START model__C=1.3292918943162162, model__epsilon=71.14476009343417\n",
      "[CV 12/15; 1/50] END model__C=1.3292918943162162, model__epsilon=71.14476009343417;, score=-5351.161 total time=  10.5s\n",
      "[CV 13/15; 1/50] START model__C=1.3292918943162162, model__epsilon=71.14476009343417\n",
      "[CV 13/15; 1/50] END model__C=1.3292918943162162, model__epsilon=71.14476009343417;, score=-5559.709 total time=  10.3s\n",
      "[CV 14/15; 1/50] START model__C=1.3292918943162162, model__epsilon=71.14476009343417\n",
      "[CV 14/15; 1/50] END model__C=1.3292918943162162, model__epsilon=71.14476009343417;, score=-5125.017 total time=  10.4s\n",
      "[CV 15/15; 1/50] START model__C=1.3292918943162162, model__epsilon=71.14476009343417\n",
      "[CV 15/15; 1/50] END model__C=1.3292918943162162, model__epsilon=71.14476009343417;, score=-5489.058 total time=  10.5s\n",
      "[CV 1/15; 2/50] START model__C=15.702970884055382, model__epsilon=6.251373574521747\n"
     ]
    },
    {
     "name": "stderr",
     "output_type": "stream",
     "text": [
      "/opt/anaconda3/lib/python3.9/site-packages/sklearn/svm/_base.py:299: ConvergenceWarning: Solver terminated early (max_iter=50000).  Consider pre-processing your data with StandardScaler or MinMaxScaler.\n",
      "  warnings.warn(\n"
     ]
    },
    {
     "name": "stdout",
     "output_type": "stream",
     "text": [
      "[CV 1/15; 2/50] END model__C=15.702970884055382, model__epsilon=6.251373574521747;, score=-4337.395 total time= 1.0min\n",
      "[CV 2/15; 2/50] START model__C=15.702970884055382, model__epsilon=6.251373574521747\n"
     ]
    },
    {
     "name": "stderr",
     "output_type": "stream",
     "text": [
      "/opt/anaconda3/lib/python3.9/site-packages/sklearn/svm/_base.py:299: ConvergenceWarning: Solver terminated early (max_iter=50000).  Consider pre-processing your data with StandardScaler or MinMaxScaler.\n",
      "  warnings.warn(\n"
     ]
    },
    {
     "name": "stdout",
     "output_type": "stream",
     "text": [
      "[CV 2/15; 2/50] END model__C=15.702970884055382, model__epsilon=6.251373574521747;, score=-4495.481 total time= 1.0min\n",
      "[CV 3/15; 2/50] START model__C=15.702970884055382, model__epsilon=6.251373574521747\n"
     ]
    },
    {
     "name": "stderr",
     "output_type": "stream",
     "text": [
      "/opt/anaconda3/lib/python3.9/site-packages/sklearn/svm/_base.py:299: ConvergenceWarning: Solver terminated early (max_iter=50000).  Consider pre-processing your data with StandardScaler or MinMaxScaler.\n",
      "  warnings.warn(\n"
     ]
    },
    {
     "name": "stdout",
     "output_type": "stream",
     "text": [
      "[CV 3/15; 2/50] END model__C=15.702970884055382, model__epsilon=6.251373574521747;, score=-4525.249 total time= 1.1min\n",
      "[CV 4/15; 2/50] START model__C=15.702970884055382, model__epsilon=6.251373574521747\n"
     ]
    },
    {
     "name": "stderr",
     "output_type": "stream",
     "text": [
      "/opt/anaconda3/lib/python3.9/site-packages/sklearn/svm/_base.py:299: ConvergenceWarning: Solver terminated early (max_iter=50000).  Consider pre-processing your data with StandardScaler or MinMaxScaler.\n",
      "  warnings.warn(\n"
     ]
    },
    {
     "name": "stdout",
     "output_type": "stream",
     "text": [
      "[CV 4/15; 2/50] END model__C=15.702970884055382, model__epsilon=6.251373574521747;, score=-4125.786 total time= 1.0min\n",
      "[CV 5/15; 2/50] START model__C=15.702970884055382, model__epsilon=6.251373574521747\n"
     ]
    },
    {
     "name": "stderr",
     "output_type": "stream",
     "text": [
      "/opt/anaconda3/lib/python3.9/site-packages/sklearn/svm/_base.py:299: ConvergenceWarning: Solver terminated early (max_iter=50000).  Consider pre-processing your data with StandardScaler or MinMaxScaler.\n",
      "  warnings.warn(\n"
     ]
    },
    {
     "name": "stdout",
     "output_type": "stream",
     "text": [
      "[CV 5/15; 2/50] END model__C=15.702970884055382, model__epsilon=6.251373574521747;, score=-4576.272 total time= 1.0min\n",
      "[CV 6/15; 2/50] START model__C=15.702970884055382, model__epsilon=6.251373574521747\n"
     ]
    },
    {
     "name": "stderr",
     "output_type": "stream",
     "text": [
      "/opt/anaconda3/lib/python3.9/site-packages/sklearn/svm/_base.py:299: ConvergenceWarning: Solver terminated early (max_iter=50000).  Consider pre-processing your data with StandardScaler or MinMaxScaler.\n",
      "  warnings.warn(\n"
     ]
    },
    {
     "name": "stdout",
     "output_type": "stream",
     "text": [
      "[CV 6/15; 2/50] END model__C=15.702970884055382, model__epsilon=6.251373574521747;, score=-4235.742 total time= 1.0min\n",
      "[CV 7/15; 2/50] START model__C=15.702970884055382, model__epsilon=6.251373574521747\n"
     ]
    },
    {
     "name": "stderr",
     "output_type": "stream",
     "text": [
      "/opt/anaconda3/lib/python3.9/site-packages/sklearn/svm/_base.py:299: ConvergenceWarning: Solver terminated early (max_iter=50000).  Consider pre-processing your data with StandardScaler or MinMaxScaler.\n",
      "  warnings.warn(\n"
     ]
    },
    {
     "name": "stdout",
     "output_type": "stream",
     "text": [
      "[CV 7/15; 2/50] END model__C=15.702970884055382, model__epsilon=6.251373574521747;, score=-4377.884 total time= 1.0min\n",
      "[CV 8/15; 2/50] START model__C=15.702970884055382, model__epsilon=6.251373574521747\n"
     ]
    },
    {
     "name": "stderr",
     "output_type": "stream",
     "text": [
      "/opt/anaconda3/lib/python3.9/site-packages/sklearn/svm/_base.py:299: ConvergenceWarning: Solver terminated early (max_iter=50000).  Consider pre-processing your data with StandardScaler or MinMaxScaler.\n",
      "  warnings.warn(\n"
     ]
    },
    {
     "name": "stdout",
     "output_type": "stream",
     "text": [
      "[CV 8/15; 2/50] END model__C=15.702970884055382, model__epsilon=6.251373574521747;, score=-4617.412 total time= 7.0min\n",
      "[CV 9/15; 2/50] START model__C=15.702970884055382, model__epsilon=6.251373574521747\n"
     ]
    },
    {
     "name": "stderr",
     "output_type": "stream",
     "text": [
      "/opt/anaconda3/lib/python3.9/site-packages/sklearn/svm/_base.py:299: ConvergenceWarning: Solver terminated early (max_iter=50000).  Consider pre-processing your data with StandardScaler or MinMaxScaler.\n",
      "  warnings.warn(\n"
     ]
    },
    {
     "name": "stdout",
     "output_type": "stream",
     "text": [
      "[CV 9/15; 2/50] END model__C=15.702970884055382, model__epsilon=6.251373574521747;, score=-4298.985 total time= 1.0min\n",
      "[CV 10/15; 2/50] START model__C=15.702970884055382, model__epsilon=6.251373574521747\n"
     ]
    },
    {
     "name": "stderr",
     "output_type": "stream",
     "text": [
      "/opt/anaconda3/lib/python3.9/site-packages/sklearn/svm/_base.py:299: ConvergenceWarning: Solver terminated early (max_iter=50000).  Consider pre-processing your data with StandardScaler or MinMaxScaler.\n",
      "  warnings.warn(\n"
     ]
    },
    {
     "name": "stdout",
     "output_type": "stream",
     "text": [
      "[CV 10/15; 2/50] END model__C=15.702970884055382, model__epsilon=6.251373574521747;, score=-4536.470 total time= 1.0min\n",
      "[CV 11/15; 2/50] START model__C=15.702970884055382, model__epsilon=6.251373574521747\n"
     ]
    },
    {
     "name": "stderr",
     "output_type": "stream",
     "text": [
      "/opt/anaconda3/lib/python3.9/site-packages/sklearn/svm/_base.py:299: ConvergenceWarning: Solver terminated early (max_iter=50000).  Consider pre-processing your data with StandardScaler or MinMaxScaler.\n",
      "  warnings.warn(\n"
     ]
    },
    {
     "name": "stdout",
     "output_type": "stream",
     "text": [
      "[CV 11/15; 2/50] END model__C=15.702970884055382, model__epsilon=6.251373574521747;, score=-4200.207 total time= 1.0min\n",
      "[CV 12/15; 2/50] START model__C=15.702970884055382, model__epsilon=6.251373574521747\n"
     ]
    },
    {
     "name": "stderr",
     "output_type": "stream",
     "text": [
      "/opt/anaconda3/lib/python3.9/site-packages/sklearn/svm/_base.py:299: ConvergenceWarning: Solver terminated early (max_iter=50000).  Consider pre-processing your data with StandardScaler or MinMaxScaler.\n",
      "  warnings.warn(\n"
     ]
    },
    {
     "name": "stdout",
     "output_type": "stream",
     "text": [
      "[CV 12/15; 2/50] END model__C=15.702970884055382, model__epsilon=6.251373574521747;, score=-4411.516 total time= 1.0min\n",
      "[CV 13/15; 2/50] START model__C=15.702970884055382, model__epsilon=6.251373574521747\n"
     ]
    },
    {
     "name": "stderr",
     "output_type": "stream",
     "text": [
      "/opt/anaconda3/lib/python3.9/site-packages/sklearn/svm/_base.py:299: ConvergenceWarning: Solver terminated early (max_iter=50000).  Consider pre-processing your data with StandardScaler or MinMaxScaler.\n",
      "  warnings.warn(\n"
     ]
    },
    {
     "name": "stdout",
     "output_type": "stream",
     "text": [
      "[CV 13/15; 2/50] END model__C=15.702970884055382, model__epsilon=6.251373574521747;, score=-4702.961 total time= 1.0min\n",
      "[CV 14/15; 2/50] START model__C=15.702970884055382, model__epsilon=6.251373574521747\n"
     ]
    },
    {
     "name": "stderr",
     "output_type": "stream",
     "text": [
      "/opt/anaconda3/lib/python3.9/site-packages/sklearn/svm/_base.py:299: ConvergenceWarning: Solver terminated early (max_iter=50000).  Consider pre-processing your data with StandardScaler or MinMaxScaler.\n",
      "  warnings.warn(\n"
     ]
    },
    {
     "name": "stdout",
     "output_type": "stream",
     "text": [
      "[CV 14/15; 2/50] END model__C=15.702970884055382, model__epsilon=6.251373574521747;, score=-4179.847 total time= 1.0min\n",
      "[CV 15/15; 2/50] START model__C=15.702970884055382, model__epsilon=6.251373574521747\n"
     ]
    },
    {
     "name": "stderr",
     "output_type": "stream",
     "text": [
      "/opt/anaconda3/lib/python3.9/site-packages/sklearn/svm/_base.py:299: ConvergenceWarning: Solver terminated early (max_iter=50000).  Consider pre-processing your data with StandardScaler or MinMaxScaler.\n",
      "  warnings.warn(\n"
     ]
    },
    {
     "name": "stdout",
     "output_type": "stream",
     "text": [
      "[CV 15/15; 2/50] END model__C=15.702970884055382, model__epsilon=6.251373574521747;, score=-4564.358 total time= 1.0min\n",
      "[CV 1/15; 3/50] START model__C=0.2938027938703535, model__epsilon=0.29375384576328284\n"
     ]
    },
    {
     "name": "stderr",
     "output_type": "stream",
     "text": [
      "/opt/anaconda3/lib/python3.9/site-packages/sklearn/svm/_base.py:299: ConvergenceWarning: Solver terminated early (max_iter=50000).  Consider pre-processing your data with StandardScaler or MinMaxScaler.\n",
      "  warnings.warn(\n"
     ]
    },
    {
     "name": "stdout",
     "output_type": "stream",
     "text": [
      "[CV 1/15; 3/50] END model__C=0.2938027938703535, model__epsilon=0.29375384576328284;, score=-5770.967 total time= 1.5min\n",
      "[CV 2/15; 3/50] START model__C=0.2938027938703535, model__epsilon=0.29375384576328284\n"
     ]
    },
    {
     "name": "stderr",
     "output_type": "stream",
     "text": [
      "/opt/anaconda3/lib/python3.9/site-packages/sklearn/svm/_base.py:299: ConvergenceWarning: Solver terminated early (max_iter=50000).  Consider pre-processing your data with StandardScaler or MinMaxScaler.\n",
      "  warnings.warn(\n"
     ]
    },
    {
     "name": "stdout",
     "output_type": "stream",
     "text": [
      "[CV 2/15; 3/50] END model__C=0.2938027938703535, model__epsilon=0.29375384576328284;, score=-5992.674 total time= 1.5min\n",
      "[CV 3/15; 3/50] START model__C=0.2938027938703535, model__epsilon=0.29375384576328284\n"
     ]
    },
    {
     "name": "stderr",
     "output_type": "stream",
     "text": [
      "/opt/anaconda3/lib/python3.9/site-packages/sklearn/svm/_base.py:299: ConvergenceWarning: Solver terminated early (max_iter=50000).  Consider pre-processing your data with StandardScaler or MinMaxScaler.\n",
      "  warnings.warn(\n"
     ]
    },
    {
     "name": "stdout",
     "output_type": "stream",
     "text": [
      "[CV 3/15; 3/50] END model__C=0.2938027938703535, model__epsilon=0.29375384576328284;, score=-6062.963 total time= 1.5min\n",
      "[CV 4/15; 3/50] START model__C=0.2938027938703535, model__epsilon=0.29375384576328284\n"
     ]
    },
    {
     "name": "stderr",
     "output_type": "stream",
     "text": [
      "/opt/anaconda3/lib/python3.9/site-packages/sklearn/svm/_base.py:299: ConvergenceWarning: Solver terminated early (max_iter=50000).  Consider pre-processing your data with StandardScaler or MinMaxScaler.\n",
      "  warnings.warn(\n"
     ]
    },
    {
     "name": "stdout",
     "output_type": "stream",
     "text": [
      "[CV 4/15; 3/50] END model__C=0.2938027938703535, model__epsilon=0.29375384576328284;, score=-5573.767 total time= 2.2min\n",
      "[CV 5/15; 3/50] START model__C=0.2938027938703535, model__epsilon=0.29375384576328284\n"
     ]
    },
    {
     "name": "stderr",
     "output_type": "stream",
     "text": [
      "/opt/anaconda3/lib/python3.9/site-packages/sklearn/svm/_base.py:299: ConvergenceWarning: Solver terminated early (max_iter=50000).  Consider pre-processing your data with StandardScaler or MinMaxScaler.\n",
      "  warnings.warn(\n"
     ]
    },
    {
     "name": "stdout",
     "output_type": "stream",
     "text": [
      "[CV 5/15; 3/50] END model__C=0.2938027938703535, model__epsilon=0.29375384576328284;, score=-6075.029 total time= 1.5min\n",
      "[CV 6/15; 3/50] START model__C=0.2938027938703535, model__epsilon=0.29375384576328284\n"
     ]
    },
    {
     "name": "stderr",
     "output_type": "stream",
     "text": [
      "/opt/anaconda3/lib/python3.9/site-packages/sklearn/svm/_base.py:299: ConvergenceWarning: Solver terminated early (max_iter=50000).  Consider pre-processing your data with StandardScaler or MinMaxScaler.\n",
      "  warnings.warn(\n"
     ]
    },
    {
     "name": "stdout",
     "output_type": "stream",
     "text": [
      "[CV 6/15; 3/50] END model__C=0.2938027938703535, model__epsilon=0.29375384576328284;, score=-5690.897 total time= 1.5min\n",
      "[CV 7/15; 3/50] START model__C=0.2938027938703535, model__epsilon=0.29375384576328284\n"
     ]
    },
    {
     "name": "stderr",
     "output_type": "stream",
     "text": [
      "/opt/anaconda3/lib/python3.9/site-packages/sklearn/svm/_base.py:299: ConvergenceWarning: Solver terminated early (max_iter=50000).  Consider pre-processing your data with StandardScaler or MinMaxScaler.\n",
      "  warnings.warn(\n"
     ]
    },
    {
     "name": "stdout",
     "output_type": "stream",
     "text": [
      "[CV 7/15; 3/50] END model__C=0.2938027938703535, model__epsilon=0.29375384576328284;, score=-5923.731 total time= 1.5min\n",
      "[CV 8/15; 3/50] START model__C=0.2938027938703535, model__epsilon=0.29375384576328284\n"
     ]
    },
    {
     "name": "stderr",
     "output_type": "stream",
     "text": [
      "/opt/anaconda3/lib/python3.9/site-packages/sklearn/svm/_base.py:299: ConvergenceWarning: Solver terminated early (max_iter=50000).  Consider pre-processing your data with StandardScaler or MinMaxScaler.\n",
      "  warnings.warn(\n"
     ]
    },
    {
     "name": "stdout",
     "output_type": "stream",
     "text": [
      "[CV 8/15; 3/50] END model__C=0.2938027938703535, model__epsilon=0.29375384576328284;, score=-6084.799 total time= 1.5min\n",
      "[CV 9/15; 3/50] START model__C=0.2938027938703535, model__epsilon=0.29375384576328284\n"
     ]
    },
    {
     "name": "stderr",
     "output_type": "stream",
     "text": [
      "/opt/anaconda3/lib/python3.9/site-packages/sklearn/svm/_base.py:299: ConvergenceWarning: Solver terminated early (max_iter=50000).  Consider pre-processing your data with StandardScaler or MinMaxScaler.\n",
      "  warnings.warn(\n"
     ]
    },
    {
     "name": "stdout",
     "output_type": "stream",
     "text": [
      "[CV 9/15; 3/50] END model__C=0.2938027938703535, model__epsilon=0.29375384576328284;, score=-5672.563 total time= 1.5min\n",
      "[CV 10/15; 3/50] START model__C=0.2938027938703535, model__epsilon=0.29375384576328284\n"
     ]
    },
    {
     "name": "stderr",
     "output_type": "stream",
     "text": [
      "/opt/anaconda3/lib/python3.9/site-packages/sklearn/svm/_base.py:299: ConvergenceWarning: Solver terminated early (max_iter=50000).  Consider pre-processing your data with StandardScaler or MinMaxScaler.\n",
      "  warnings.warn(\n"
     ]
    },
    {
     "name": "stdout",
     "output_type": "stream",
     "text": [
      "[CV 10/15; 3/50] END model__C=0.2938027938703535, model__epsilon=0.29375384576328284;, score=-6105.145 total time= 1.5min\n",
      "[CV 11/15; 3/50] START model__C=0.2938027938703535, model__epsilon=0.29375384576328284\n"
     ]
    },
    {
     "name": "stderr",
     "output_type": "stream",
     "text": [
      "/opt/anaconda3/lib/python3.9/site-packages/sklearn/svm/_base.py:299: ConvergenceWarning: Solver terminated early (max_iter=50000).  Consider pre-processing your data with StandardScaler or MinMaxScaler.\n",
      "  warnings.warn(\n"
     ]
    },
    {
     "name": "stdout",
     "output_type": "stream",
     "text": [
      "[CV 11/15; 3/50] END model__C=0.2938027938703535, model__epsilon=0.29375384576328284;, score=-5716.562 total time= 1.5min\n",
      "[CV 12/15; 3/50] START model__C=0.2938027938703535, model__epsilon=0.29375384576328284\n"
     ]
    },
    {
     "name": "stderr",
     "output_type": "stream",
     "text": [
      "/opt/anaconda3/lib/python3.9/site-packages/sklearn/svm/_base.py:299: ConvergenceWarning: Solver terminated early (max_iter=50000).  Consider pre-processing your data with StandardScaler or MinMaxScaler.\n",
      "  warnings.warn(\n"
     ]
    },
    {
     "name": "stdout",
     "output_type": "stream",
     "text": [
      "[CV 12/15; 3/50] END model__C=0.2938027938703535, model__epsilon=0.29375384576328284;, score=-5947.683 total time= 1.5min\n",
      "[CV 13/15; 3/50] START model__C=0.2938027938703535, model__epsilon=0.29375384576328284\n"
     ]
    },
    {
     "name": "stderr",
     "output_type": "stream",
     "text": [
      "/opt/anaconda3/lib/python3.9/site-packages/sklearn/svm/_base.py:299: ConvergenceWarning: Solver terminated early (max_iter=50000).  Consider pre-processing your data with StandardScaler or MinMaxScaler.\n",
      "  warnings.warn(\n"
     ]
    },
    {
     "name": "stdout",
     "output_type": "stream",
     "text": [
      "[CV 13/15; 3/50] END model__C=0.2938027938703535, model__epsilon=0.29375384576328284;, score=-6092.057 total time= 1.5min\n",
      "[CV 14/15; 3/50] START model__C=0.2938027938703535, model__epsilon=0.29375384576328284\n"
     ]
    },
    {
     "name": "stderr",
     "output_type": "stream",
     "text": [
      "/opt/anaconda3/lib/python3.9/site-packages/sklearn/svm/_base.py:299: ConvergenceWarning: Solver terminated early (max_iter=50000).  Consider pre-processing your data with StandardScaler or MinMaxScaler.\n",
      "  warnings.warn(\n"
     ]
    },
    {
     "name": "stdout",
     "output_type": "stream",
     "text": [
      "[CV 14/15; 3/50] END model__C=0.2938027938703535, model__epsilon=0.29375384576328284;, score=-5619.510 total time= 1.5min\n",
      "[CV 15/15; 3/50] START model__C=0.2938027938703535, model__epsilon=0.29375384576328284\n"
     ]
    },
    {
     "name": "stderr",
     "output_type": "stream",
     "text": [
      "/opt/anaconda3/lib/python3.9/site-packages/sklearn/svm/_base.py:299: ConvergenceWarning: Solver terminated early (max_iter=50000).  Consider pre-processing your data with StandardScaler or MinMaxScaler.\n",
      "  warnings.warn(\n"
     ]
    },
    {
     "name": "stdout",
     "output_type": "stream",
     "text": [
      "[CV 15/15; 3/50] END model__C=0.2938027938703535, model__epsilon=0.29375384576328284;, score=-6103.404 total time= 1.5min\n",
      "[CV 1/15; 4/50] START model__C=0.1493656855461763, model__epsilon=39.67605077052987\n",
      "[CV 1/15; 4/50] END model__C=0.1493656855461763, model__epsilon=39.67605077052987;, score=-6756.421 total time=  20.2s\n",
      "[CV 2/15; 4/50] START model__C=0.1493656855461763, model__epsilon=39.67605077052987\n",
      "[CV 2/15; 4/50] END model__C=0.1493656855461763, model__epsilon=39.67605077052987;, score=-6977.753 total time=  19.9s\n",
      "[CV 3/15; 4/50] START model__C=0.1493656855461763, model__epsilon=39.67605077052987\n",
      "[CV 3/15; 4/50] END model__C=0.1493656855461763, model__epsilon=39.67605077052987;, score=-7058.597 total time=  20.1s\n",
      "[CV 4/15; 4/50] START model__C=0.1493656855461763, model__epsilon=39.67605077052987\n",
      "[CV 4/15; 4/50] END model__C=0.1493656855461763, model__epsilon=39.67605077052987;, score=-6591.736 total time=  20.0s\n",
      "[CV 5/15; 4/50] START model__C=0.1493656855461763, model__epsilon=39.67605077052987\n",
      "[CV 5/15; 4/50] END model__C=0.1493656855461763, model__epsilon=39.67605077052987;, score=-7075.830 total time=  20.1s\n",
      "[CV 6/15; 4/50] START model__C=0.1493656855461763, model__epsilon=39.67605077052987\n",
      "[CV 6/15; 4/50] END model__C=0.1493656855461763, model__epsilon=39.67605077052987;, score=-6716.771 total time=  19.9s\n",
      "[CV 7/15; 4/50] START model__C=0.1493656855461763, model__epsilon=39.67605077052987\n",
      "[CV 7/15; 4/50] END model__C=0.1493656855461763, model__epsilon=39.67605077052987;, score=-6937.087 total time=  20.1s\n",
      "[CV 8/15; 4/50] START model__C=0.1493656855461763, model__epsilon=39.67605077052987\n",
      "[CV 8/15; 4/50] END model__C=0.1493656855461763, model__epsilon=39.67605077052987;, score=-7082.063 total time=  20.0s\n",
      "[CV 9/15; 4/50] START model__C=0.1493656855461763, model__epsilon=39.67605077052987\n",
      "[CV 9/15; 4/50] END model__C=0.1493656855461763, model__epsilon=39.67605077052987;, score=-6620.323 total time=  20.1s\n",
      "[CV 10/15; 4/50] START model__C=0.1493656855461763, model__epsilon=39.67605077052987\n",
      "[CV 10/15; 4/50] END model__C=0.1493656855461763, model__epsilon=39.67605077052987;, score=-7099.150 total time=  20.1s\n",
      "[CV 11/15; 4/50] START model__C=0.1493656855461763, model__epsilon=39.67605077052987\n",
      "[CV 11/15; 4/50] END model__C=0.1493656855461763, model__epsilon=39.67605077052987;, score=-6724.575 total time=  20.1s\n",
      "[CV 12/15; 4/50] START model__C=0.1493656855461763, model__epsilon=39.67605077052987\n",
      "[CV 12/15; 4/50] END model__C=0.1493656855461763, model__epsilon=39.67605077052987;, score=-6956.849 total time=  20.1s\n",
      "[CV 13/15; 4/50] START model__C=0.1493656855461763, model__epsilon=39.67605077052987\n",
      "[CV 13/15; 4/50] END model__C=0.1493656855461763, model__epsilon=39.67605077052987;, score=-7077.402 total time=  20.1s\n",
      "[CV 14/15; 4/50] START model__C=0.1493656855461763, model__epsilon=39.67605077052987\n",
      "[CV 14/15; 4/50] END model__C=0.1493656855461763, model__epsilon=39.67605077052987;, score=-6610.979 total time=  20.0s\n",
      "[CV 15/15; 4/50] START model__C=0.1493656855461763, model__epsilon=39.67605077052987\n",
      "[CV 15/15; 4/50] END model__C=0.1493656855461763, model__epsilon=39.67605077052987;, score=-7086.035 total time=  20.2s\n",
      "[CV 1/15; 5/50] START model__C=6.358358856676251, model__epsilon=13.311216080736882\n"
     ]
    },
    {
     "name": "stderr",
     "output_type": "stream",
     "text": [
      "/opt/anaconda3/lib/python3.9/site-packages/sklearn/svm/_base.py:299: ConvergenceWarning: Solver terminated early (max_iter=50000).  Consider pre-processing your data with StandardScaler or MinMaxScaler.\n",
      "  warnings.warn(\n"
     ]
    },
    {
     "name": "stdout",
     "output_type": "stream",
     "text": [
      "[CV 1/15; 5/50] END model__C=6.358358856676251, model__epsilon=13.311216080736882;, score=-4250.077 total time=  36.6s\n",
      "[CV 2/15; 5/50] START model__C=6.358358856676251, model__epsilon=13.311216080736882\n"
     ]
    },
    {
     "name": "stderr",
     "output_type": "stream",
     "text": [
      "/opt/anaconda3/lib/python3.9/site-packages/sklearn/svm/_base.py:299: ConvergenceWarning: Solver terminated early (max_iter=50000).  Consider pre-processing your data with StandardScaler or MinMaxScaler.\n",
      "  warnings.warn(\n"
     ]
    },
    {
     "name": "stdout",
     "output_type": "stream",
     "text": [
      "[CV 2/15; 5/50] END model__C=6.358358856676251, model__epsilon=13.311216080736882;, score=-4406.641 total time=  36.5s\n",
      "[CV 3/15; 5/50] START model__C=6.358358856676251, model__epsilon=13.311216080736882\n"
     ]
    },
    {
     "name": "stderr",
     "output_type": "stream",
     "text": [
      "/opt/anaconda3/lib/python3.9/site-packages/sklearn/svm/_base.py:299: ConvergenceWarning: Solver terminated early (max_iter=50000).  Consider pre-processing your data with StandardScaler or MinMaxScaler.\n",
      "  warnings.warn(\n"
     ]
    },
    {
     "name": "stdout",
     "output_type": "stream",
     "text": [
      "[CV 3/15; 5/50] END model__C=6.358358856676251, model__epsilon=13.311216080736882;, score=-4443.561 total time=  36.6s\n",
      "[CV 4/15; 5/50] START model__C=6.358358856676251, model__epsilon=13.311216080736882\n"
     ]
    },
    {
     "name": "stderr",
     "output_type": "stream",
     "text": [
      "/opt/anaconda3/lib/python3.9/site-packages/sklearn/svm/_base.py:299: ConvergenceWarning: Solver terminated early (max_iter=50000).  Consider pre-processing your data with StandardScaler or MinMaxScaler.\n",
      "  warnings.warn(\n"
     ]
    },
    {
     "name": "stdout",
     "output_type": "stream",
     "text": [
      "[CV 4/15; 5/50] END model__C=6.358358856676251, model__epsilon=13.311216080736882;, score=-4037.755 total time=  36.5s\n",
      "[CV 5/15; 5/50] START model__C=6.358358856676251, model__epsilon=13.311216080736882\n"
     ]
    },
    {
     "name": "stderr",
     "output_type": "stream",
     "text": [
      "/opt/anaconda3/lib/python3.9/site-packages/sklearn/svm/_base.py:299: ConvergenceWarning: Solver terminated early (max_iter=50000).  Consider pre-processing your data with StandardScaler or MinMaxScaler.\n",
      "  warnings.warn(\n"
     ]
    },
    {
     "name": "stdout",
     "output_type": "stream",
     "text": [
      "[CV 5/15; 5/50] END model__C=6.358358856676251, model__epsilon=13.311216080736882;, score=-4479.311 total time=  36.7s\n",
      "[CV 6/15; 5/50] START model__C=6.358358856676251, model__epsilon=13.311216080736882\n"
     ]
    },
    {
     "name": "stderr",
     "output_type": "stream",
     "text": [
      "/opt/anaconda3/lib/python3.9/site-packages/sklearn/svm/_base.py:299: ConvergenceWarning: Solver terminated early (max_iter=50000).  Consider pre-processing your data with StandardScaler or MinMaxScaler.\n",
      "  warnings.warn(\n"
     ]
    },
    {
     "name": "stdout",
     "output_type": "stream",
     "text": [
      "[CV 6/15; 5/50] END model__C=6.358358856676251, model__epsilon=13.311216080736882;, score=-4151.236 total time=  36.7s\n",
      "[CV 7/15; 5/50] START model__C=6.358358856676251, model__epsilon=13.311216080736882\n"
     ]
    },
    {
     "name": "stderr",
     "output_type": "stream",
     "text": [
      "/opt/anaconda3/lib/python3.9/site-packages/sklearn/svm/_base.py:299: ConvergenceWarning: Solver terminated early (max_iter=50000).  Consider pre-processing your data with StandardScaler or MinMaxScaler.\n",
      "  warnings.warn(\n"
     ]
    },
    {
     "name": "stdout",
     "output_type": "stream",
     "text": [
      "[CV 7/15; 5/50] END model__C=6.358358856676251, model__epsilon=13.311216080736882;, score=-4289.709 total time=  36.7s\n",
      "[CV 8/15; 5/50] START model__C=6.358358856676251, model__epsilon=13.311216080736882\n"
     ]
    },
    {
     "name": "stderr",
     "output_type": "stream",
     "text": [
      "/opt/anaconda3/lib/python3.9/site-packages/sklearn/svm/_base.py:299: ConvergenceWarning: Solver terminated early (max_iter=50000).  Consider pre-processing your data with StandardScaler or MinMaxScaler.\n",
      "  warnings.warn(\n"
     ]
    },
    {
     "name": "stdout",
     "output_type": "stream",
     "text": [
      "[CV 8/15; 5/50] END model__C=6.358358856676251, model__epsilon=13.311216080736882;, score=-4514.906 total time=  36.3s\n",
      "[CV 9/15; 5/50] START model__C=6.358358856676251, model__epsilon=13.311216080736882\n"
     ]
    },
    {
     "name": "stderr",
     "output_type": "stream",
     "text": [
      "/opt/anaconda3/lib/python3.9/site-packages/sklearn/svm/_base.py:299: ConvergenceWarning: Solver terminated early (max_iter=50000).  Consider pre-processing your data with StandardScaler or MinMaxScaler.\n",
      "  warnings.warn(\n"
     ]
    },
    {
     "name": "stdout",
     "output_type": "stream",
     "text": [
      "[CV 9/15; 5/50] END model__C=6.358358856676251, model__epsilon=13.311216080736882;, score=-4205.428 total time=  36.4s\n",
      "[CV 10/15; 5/50] START model__C=6.358358856676251, model__epsilon=13.311216080736882\n"
     ]
    },
    {
     "name": "stderr",
     "output_type": "stream",
     "text": [
      "/opt/anaconda3/lib/python3.9/site-packages/sklearn/svm/_base.py:299: ConvergenceWarning: Solver terminated early (max_iter=50000).  Consider pre-processing your data with StandardScaler or MinMaxScaler.\n",
      "  warnings.warn(\n"
     ]
    },
    {
     "name": "stdout",
     "output_type": "stream",
     "text": [
      "[CV 10/15; 5/50] END model__C=6.358358856676251, model__epsilon=13.311216080736882;, score=-4453.782 total time=  36.8s\n",
      "[CV 11/15; 5/50] START model__C=6.358358856676251, model__epsilon=13.311216080736882\n"
     ]
    },
    {
     "name": "stderr",
     "output_type": "stream",
     "text": [
      "/opt/anaconda3/lib/python3.9/site-packages/sklearn/svm/_base.py:299: ConvergenceWarning: Solver terminated early (max_iter=50000).  Consider pre-processing your data with StandardScaler or MinMaxScaler.\n",
      "  warnings.warn(\n"
     ]
    },
    {
     "name": "stdout",
     "output_type": "stream",
     "text": [
      "[CV 11/15; 5/50] END model__C=6.358358856676251, model__epsilon=13.311216080736882;, score=-4121.994 total time=  36.5s\n",
      "[CV 12/15; 5/50] START model__C=6.358358856676251, model__epsilon=13.311216080736882\n"
     ]
    },
    {
     "name": "stderr",
     "output_type": "stream",
     "text": [
      "/opt/anaconda3/lib/python3.9/site-packages/sklearn/svm/_base.py:299: ConvergenceWarning: Solver terminated early (max_iter=50000).  Consider pre-processing your data with StandardScaler or MinMaxScaler.\n",
      "  warnings.warn(\n"
     ]
    },
    {
     "name": "stdout",
     "output_type": "stream",
     "text": [
      "[CV 12/15; 5/50] END model__C=6.358358856676251, model__epsilon=13.311216080736882;, score=-4322.748 total time=  36.5s\n",
      "[CV 13/15; 5/50] START model__C=6.358358856676251, model__epsilon=13.311216080736882\n"
     ]
    },
    {
     "name": "stderr",
     "output_type": "stream",
     "text": [
      "/opt/anaconda3/lib/python3.9/site-packages/sklearn/svm/_base.py:299: ConvergenceWarning: Solver terminated early (max_iter=50000).  Consider pre-processing your data with StandardScaler or MinMaxScaler.\n",
      "  warnings.warn(\n"
     ]
    },
    {
     "name": "stdout",
     "output_type": "stream",
     "text": [
      "[CV 13/15; 5/50] END model__C=6.358358856676251, model__epsilon=13.311216080736882;, score=-4610.148 total time=  36.6s\n",
      "[CV 14/15; 5/50] START model__C=6.358358856676251, model__epsilon=13.311216080736882\n"
     ]
    },
    {
     "name": "stderr",
     "output_type": "stream",
     "text": [
      "/opt/anaconda3/lib/python3.9/site-packages/sklearn/svm/_base.py:299: ConvergenceWarning: Solver terminated early (max_iter=50000).  Consider pre-processing your data with StandardScaler or MinMaxScaler.\n",
      "  warnings.warn(\n"
     ]
    },
    {
     "name": "stdout",
     "output_type": "stream",
     "text": [
      "[CV 14/15; 5/50] END model__C=6.358358856676251, model__epsilon=13.311216080736882;, score=-4084.098 total time=  36.3s\n",
      "[CV 15/15; 5/50] START model__C=6.358358856676251, model__epsilon=13.311216080736882\n"
     ]
    },
    {
     "name": "stderr",
     "output_type": "stream",
     "text": [
      "/opt/anaconda3/lib/python3.9/site-packages/sklearn/svm/_base.py:299: ConvergenceWarning: Solver terminated early (max_iter=50000).  Consider pre-processing your data with StandardScaler or MinMaxScaler.\n",
      "  warnings.warn(\n"
     ]
    },
    {
     "name": "stdout",
     "output_type": "stream",
     "text": [
      "[CV 15/15; 5/50] END model__C=6.358358856676251, model__epsilon=13.311216080736882;, score=-4479.686 total time=  37.0s\n",
      "[CV 1/15; 6/50] START model__C=0.11527987128232398, model__epsilon=81.23245085588684\n",
      "[CV 1/15; 6/50] END model__C=0.11527987128232398, model__epsilon=81.23245085588684;, score=-10032.887 total time=  14.2s\n",
      "[CV 2/15; 6/50] START model__C=0.11527987128232398, model__epsilon=81.23245085588684\n",
      "[CV 2/15; 6/50] END model__C=0.11527987128232398, model__epsilon=81.23245085588684;, score=-10204.178 total time=  14.0s\n",
      "[CV 3/15; 6/50] START model__C=0.11527987128232398, model__epsilon=81.23245085588684\n",
      "[CV 3/15; 6/50] END model__C=0.11527987128232398, model__epsilon=81.23245085588684;, score=-10313.616 total time=  14.1s\n",
      "[CV 4/15; 6/50] START model__C=0.11527987128232398, model__epsilon=81.23245085588684\n",
      "[CV 4/15; 6/50] END model__C=0.11527987128232398, model__epsilon=81.23245085588684;, score=-9859.905 total time=  13.9s\n",
      "[CV 5/15; 6/50] START model__C=0.11527987128232398, model__epsilon=81.23245085588684\n",
      "[CV 5/15; 6/50] END model__C=0.11527987128232398, model__epsilon=81.23245085588684;, score=-10346.248 total time=  14.1s\n",
      "[CV 6/15; 6/50] START model__C=0.11527987128232398, model__epsilon=81.23245085588684\n",
      "[CV 6/15; 6/50] END model__C=0.11527987128232398, model__epsilon=81.23245085588684;, score=-10000.102 total time=  13.9s\n",
      "[CV 7/15; 6/50] START model__C=0.11527987128232398, model__epsilon=81.23245085588684\n",
      "[CV 7/15; 6/50] END model__C=0.11527987128232398, model__epsilon=81.23245085588684;, score=-10204.828 total time=  14.0s\n",
      "[CV 8/15; 6/50] START model__C=0.11527987128232398, model__epsilon=81.23245085588684\n",
      "[CV 8/15; 6/50] END model__C=0.11527987128232398, model__epsilon=81.23245085588684;, score=-10334.782 total time=  14.1s\n",
      "[CV 9/15; 6/50] START model__C=0.11527987128232398, model__epsilon=81.23245085588684\n",
      "[CV 9/15; 6/50] END model__C=0.11527987128232398, model__epsilon=81.23245085588684;, score=-9880.997 total time=  14.0s\n",
      "[CV 10/15; 6/50] START model__C=0.11527987128232398, model__epsilon=81.23245085588684\n",
      "[CV 10/15; 6/50] END model__C=0.11527987128232398, model__epsilon=81.23245085588684;, score=-10346.272 total time=  14.0s\n",
      "[CV 11/15; 6/50] START model__C=0.11527987128232398, model__epsilon=81.23245085588684\n",
      "[CV 11/15; 6/50] END model__C=0.11527987128232398, model__epsilon=81.23245085588684;, score=-9986.602 total time=  13.9s\n",
      "[CV 12/15; 6/50] START model__C=0.11527987128232398, model__epsilon=81.23245085588684\n"
     ]
    },
    {
     "name": "stderr",
     "output_type": "stream",
     "text": [
      "/opt/anaconda3/lib/python3.9/site-packages/sklearn/svm/_base.py:299: ConvergenceWarning: Solver terminated early (max_iter=50000).  Consider pre-processing your data with StandardScaler or MinMaxScaler.\n",
      "  warnings.warn(\n"
     ]
    },
    {
     "name": "stdout",
     "output_type": "stream",
     "text": [
      "[CV 12/15; 6/50] END model__C=0.11527987128232398, model__epsilon=81.23245085588684;, score=-10225.554 total time=  14.4s\n",
      "[CV 13/15; 6/50] START model__C=0.11527987128232398, model__epsilon=81.23245085588684\n",
      "[CV 13/15; 6/50] END model__C=0.11527987128232398, model__epsilon=81.23245085588684;, score=-10327.525 total time=  14.0s\n",
      "[CV 14/15; 6/50] START model__C=0.11527987128232398, model__epsilon=81.23245085588684\n"
     ]
    },
    {
     "name": "stderr",
     "output_type": "stream",
     "text": [
      "/opt/anaconda3/lib/python3.9/site-packages/sklearn/svm/_base.py:299: ConvergenceWarning: Solver terminated early (max_iter=50000).  Consider pre-processing your data with StandardScaler or MinMaxScaler.\n",
      "  warnings.warn(\n"
     ]
    },
    {
     "name": "stdout",
     "output_type": "stream",
     "text": [
      "[CV 14/15; 6/50] END model__C=0.11527987128232398, model__epsilon=81.23245085588684;, score=-9871.436 total time=  14.2s\n",
      "[CV 15/15; 6/50] START model__C=0.11527987128232398, model__epsilon=81.23245085588684\n",
      "[CV 15/15; 6/50] END model__C=0.11527987128232398, model__epsilon=81.23245085588684;, score=-10355.095 total time=  13.8s\n",
      "[CV 1/15; 7/50] START model__C=31.428808908401084, model__epsilon=0.4335281794951564\n"
     ]
    },
    {
     "name": "stderr",
     "output_type": "stream",
     "text": [
      "/opt/anaconda3/lib/python3.9/site-packages/sklearn/svm/_base.py:299: ConvergenceWarning: Solver terminated early (max_iter=50000).  Consider pre-processing your data with StandardScaler or MinMaxScaler.\n",
      "  warnings.warn(\n"
     ]
    },
    {
     "name": "stdout",
     "output_type": "stream",
     "text": [
      "[CV 1/15; 7/50] END model__C=31.428808908401084, model__epsilon=0.4335281794951564;, score=-4420.023 total time= 1.5min\n",
      "[CV 2/15; 7/50] START model__C=31.428808908401084, model__epsilon=0.4335281794951564\n"
     ]
    },
    {
     "name": "stderr",
     "output_type": "stream",
     "text": [
      "/opt/anaconda3/lib/python3.9/site-packages/sklearn/svm/_base.py:299: ConvergenceWarning: Solver terminated early (max_iter=50000).  Consider pre-processing your data with StandardScaler or MinMaxScaler.\n",
      "  warnings.warn(\n"
     ]
    },
    {
     "name": "stdout",
     "output_type": "stream",
     "text": [
      "[CV 2/15; 7/50] END model__C=31.428808908401084, model__epsilon=0.4335281794951564;, score=-4589.377 total time= 1.5min\n",
      "[CV 3/15; 7/50] START model__C=31.428808908401084, model__epsilon=0.4335281794951564\n"
     ]
    },
    {
     "name": "stderr",
     "output_type": "stream",
     "text": [
      "/opt/anaconda3/lib/python3.9/site-packages/sklearn/svm/_base.py:299: ConvergenceWarning: Solver terminated early (max_iter=50000).  Consider pre-processing your data with StandardScaler or MinMaxScaler.\n",
      "  warnings.warn(\n"
     ]
    },
    {
     "name": "stdout",
     "output_type": "stream",
     "text": [
      "[CV 3/15; 7/50] END model__C=31.428808908401084, model__epsilon=0.4335281794951564;, score=-4630.291 total time= 1.5min\n",
      "[CV 4/15; 7/50] START model__C=31.428808908401084, model__epsilon=0.4335281794951564\n"
     ]
    },
    {
     "name": "stderr",
     "output_type": "stream",
     "text": [
      "/opt/anaconda3/lib/python3.9/site-packages/sklearn/svm/_base.py:299: ConvergenceWarning: Solver terminated early (max_iter=50000).  Consider pre-processing your data with StandardScaler or MinMaxScaler.\n",
      "  warnings.warn(\n"
     ]
    },
    {
     "name": "stdout",
     "output_type": "stream",
     "text": [
      "[CV 4/15; 7/50] END model__C=31.428808908401084, model__epsilon=0.4335281794951564;, score=-4209.359 total time= 1.5min\n",
      "[CV 5/15; 7/50] START model__C=31.428808908401084, model__epsilon=0.4335281794951564\n"
     ]
    },
    {
     "name": "stderr",
     "output_type": "stream",
     "text": [
      "/opt/anaconda3/lib/python3.9/site-packages/sklearn/svm/_base.py:299: ConvergenceWarning: Solver terminated early (max_iter=50000).  Consider pre-processing your data with StandardScaler or MinMaxScaler.\n",
      "  warnings.warn(\n"
     ]
    },
    {
     "name": "stdout",
     "output_type": "stream",
     "text": [
      "[CV 5/15; 7/50] END model__C=31.428808908401084, model__epsilon=0.4335281794951564;, score=-4659.924 total time= 1.5min\n",
      "[CV 6/15; 7/50] START model__C=31.428808908401084, model__epsilon=0.4335281794951564\n"
     ]
    },
    {
     "name": "stderr",
     "output_type": "stream",
     "text": [
      "/opt/anaconda3/lib/python3.9/site-packages/sklearn/svm/_base.py:299: ConvergenceWarning: Solver terminated early (max_iter=50000).  Consider pre-processing your data with StandardScaler or MinMaxScaler.\n",
      "  warnings.warn(\n"
     ]
    },
    {
     "name": "stdout",
     "output_type": "stream",
     "text": [
      "[CV 6/15; 7/50] END model__C=31.428808908401084, model__epsilon=0.4335281794951564;, score=-4302.990 total time= 1.5min\n",
      "[CV 7/15; 7/50] START model__C=31.428808908401084, model__epsilon=0.4335281794951564\n"
     ]
    },
    {
     "name": "stderr",
     "output_type": "stream",
     "text": [
      "/opt/anaconda3/lib/python3.9/site-packages/sklearn/svm/_base.py:299: ConvergenceWarning: Solver terminated early (max_iter=50000).  Consider pre-processing your data with StandardScaler or MinMaxScaler.\n",
      "  warnings.warn(\n"
     ]
    },
    {
     "name": "stdout",
     "output_type": "stream",
     "text": [
      "[CV 7/15; 7/50] END model__C=31.428808908401084, model__epsilon=0.4335281794951564;, score=-4462.533 total time= 1.5min\n",
      "[CV 8/15; 7/50] START model__C=31.428808908401084, model__epsilon=0.4335281794951564\n"
     ]
    },
    {
     "name": "stderr",
     "output_type": "stream",
     "text": [
      "/opt/anaconda3/lib/python3.9/site-packages/sklearn/svm/_base.py:299: ConvergenceWarning: Solver terminated early (max_iter=50000).  Consider pre-processing your data with StandardScaler or MinMaxScaler.\n",
      "  warnings.warn(\n"
     ]
    },
    {
     "name": "stdout",
     "output_type": "stream",
     "text": [
      "[CV 8/15; 7/50] END model__C=31.428808908401084, model__epsilon=0.4335281794951564;, score=-4718.503 total time= 1.5min\n",
      "[CV 9/15; 7/50] START model__C=31.428808908401084, model__epsilon=0.4335281794951564\n"
     ]
    },
    {
     "name": "stderr",
     "output_type": "stream",
     "text": [
      "/opt/anaconda3/lib/python3.9/site-packages/sklearn/svm/_base.py:299: ConvergenceWarning: Solver terminated early (max_iter=50000).  Consider pre-processing your data with StandardScaler or MinMaxScaler.\n",
      "  warnings.warn(\n"
     ]
    },
    {
     "name": "stdout",
     "output_type": "stream",
     "text": [
      "[CV 9/15; 7/50] END model__C=31.428808908401084, model__epsilon=0.4335281794951564;, score=-4407.942 total time= 1.5min\n",
      "[CV 10/15; 7/50] START model__C=31.428808908401084, model__epsilon=0.4335281794951564\n"
     ]
    },
    {
     "name": "stderr",
     "output_type": "stream",
     "text": [
      "/opt/anaconda3/lib/python3.9/site-packages/sklearn/svm/_base.py:299: ConvergenceWarning: Solver terminated early (max_iter=50000).  Consider pre-processing your data with StandardScaler or MinMaxScaler.\n",
      "  warnings.warn(\n"
     ]
    },
    {
     "name": "stdout",
     "output_type": "stream",
     "text": [
      "[CV 10/15; 7/50] END model__C=31.428808908401084, model__epsilon=0.4335281794951564;, score=-4621.342 total time= 1.5min\n",
      "[CV 11/15; 7/50] START model__C=31.428808908401084, model__epsilon=0.4335281794951564\n"
     ]
    },
    {
     "name": "stderr",
     "output_type": "stream",
     "text": [
      "/opt/anaconda3/lib/python3.9/site-packages/sklearn/svm/_base.py:299: ConvergenceWarning: Solver terminated early (max_iter=50000).  Consider pre-processing your data with StandardScaler or MinMaxScaler.\n",
      "  warnings.warn(\n"
     ]
    },
    {
     "name": "stdout",
     "output_type": "stream",
     "text": [
      "[CV 11/15; 7/50] END model__C=31.428808908401084, model__epsilon=0.4335281794951564;, score=-4296.124 total time= 1.5min\n",
      "[CV 12/15; 7/50] START model__C=31.428808908401084, model__epsilon=0.4335281794951564\n"
     ]
    },
    {
     "name": "stderr",
     "output_type": "stream",
     "text": [
      "/opt/anaconda3/lib/python3.9/site-packages/sklearn/svm/_base.py:299: ConvergenceWarning: Solver terminated early (max_iter=50000).  Consider pre-processing your data with StandardScaler or MinMaxScaler.\n",
      "  warnings.warn(\n"
     ]
    },
    {
     "name": "stdout",
     "output_type": "stream",
     "text": [
      "[CV 12/15; 7/50] END model__C=31.428808908401084, model__epsilon=0.4335281794951564;, score=-4480.725 total time= 1.5min\n",
      "[CV 13/15; 7/50] START model__C=31.428808908401084, model__epsilon=0.4335281794951564\n"
     ]
    },
    {
     "name": "stderr",
     "output_type": "stream",
     "text": [
      "/opt/anaconda3/lib/python3.9/site-packages/sklearn/svm/_base.py:299: ConvergenceWarning: Solver terminated early (max_iter=50000).  Consider pre-processing your data with StandardScaler or MinMaxScaler.\n",
      "  warnings.warn(\n"
     ]
    },
    {
     "name": "stdout",
     "output_type": "stream",
     "text": [
      "[CV 13/15; 7/50] END model__C=31.428808908401084, model__epsilon=0.4335281794951564;, score=-4793.998 total time= 1.5min\n",
      "[CV 14/15; 7/50] START model__C=31.428808908401084, model__epsilon=0.4335281794951564\n"
     ]
    },
    {
     "name": "stderr",
     "output_type": "stream",
     "text": [
      "/opt/anaconda3/lib/python3.9/site-packages/sklearn/svm/_base.py:299: ConvergenceWarning: Solver terminated early (max_iter=50000).  Consider pre-processing your data with StandardScaler or MinMaxScaler.\n",
      "  warnings.warn(\n"
     ]
    },
    {
     "name": "stdout",
     "output_type": "stream",
     "text": [
      "[CV 14/15; 7/50] END model__C=31.428808908401084, model__epsilon=0.4335281794951564;, score=-4269.825 total time= 1.5min\n",
      "[CV 15/15; 7/50] START model__C=31.428808908401084, model__epsilon=0.4335281794951564\n"
     ]
    },
    {
     "name": "stderr",
     "output_type": "stream",
     "text": [
      "/opt/anaconda3/lib/python3.9/site-packages/sklearn/svm/_base.py:299: ConvergenceWarning: Solver terminated early (max_iter=50000).  Consider pre-processing your data with StandardScaler or MinMaxScaler.\n",
      "  warnings.warn(\n"
     ]
    },
    {
     "name": "stdout",
     "output_type": "stream",
     "text": [
      "[CV 15/15; 7/50] END model__C=31.428808908401084, model__epsilon=0.4335281794951564;, score=-4655.044 total time= 1.5min\n",
      "[CV 1/15; 8/50] START model__C=0.3511356313970406, model__epsilon=0.3549878832196502\n"
     ]
    },
    {
     "name": "stderr",
     "output_type": "stream",
     "text": [
      "/opt/anaconda3/lib/python3.9/site-packages/sklearn/svm/_base.py:299: ConvergenceWarning: Solver terminated early (max_iter=50000).  Consider pre-processing your data with StandardScaler or MinMaxScaler.\n",
      "  warnings.warn(\n"
     ]
    },
    {
     "name": "stdout",
     "output_type": "stream",
     "text": [
      "[CV 1/15; 8/50] END model__C=0.3511356313970406, model__epsilon=0.3549878832196502;, score=-5538.394 total time= 1.5min\n",
      "[CV 2/15; 8/50] START model__C=0.3511356313970406, model__epsilon=0.3549878832196502\n"
     ]
    },
    {
     "name": "stderr",
     "output_type": "stream",
     "text": [
      "/opt/anaconda3/lib/python3.9/site-packages/sklearn/svm/_base.py:299: ConvergenceWarning: Solver terminated early (max_iter=50000).  Consider pre-processing your data with StandardScaler or MinMaxScaler.\n",
      "  warnings.warn(\n"
     ]
    },
    {
     "name": "stdout",
     "output_type": "stream",
     "text": [
      "[CV 2/15; 8/50] END model__C=0.3511356313970406, model__epsilon=0.3549878832196502;, score=-5730.802 total time= 1.5min\n",
      "[CV 3/15; 8/50] START model__C=0.3511356313970406, model__epsilon=0.3549878832196502\n"
     ]
    },
    {
     "name": "stderr",
     "output_type": "stream",
     "text": [
      "/opt/anaconda3/lib/python3.9/site-packages/sklearn/svm/_base.py:299: ConvergenceWarning: Solver terminated early (max_iter=50000).  Consider pre-processing your data with StandardScaler or MinMaxScaler.\n",
      "  warnings.warn(\n"
     ]
    },
    {
     "name": "stdout",
     "output_type": "stream",
     "text": [
      "[CV 3/15; 8/50] END model__C=0.3511356313970406, model__epsilon=0.3549878832196502;, score=-5799.471 total time= 1.5min\n",
      "[CV 4/15; 8/50] START model__C=0.3511356313970406, model__epsilon=0.3549878832196502\n"
     ]
    },
    {
     "name": "stderr",
     "output_type": "stream",
     "text": [
      "/opt/anaconda3/lib/python3.9/site-packages/sklearn/svm/_base.py:299: ConvergenceWarning: Solver terminated early (max_iter=50000).  Consider pre-processing your data with StandardScaler or MinMaxScaler.\n",
      "  warnings.warn(\n"
     ]
    },
    {
     "name": "stdout",
     "output_type": "stream",
     "text": [
      "[CV 4/15; 8/50] END model__C=0.3511356313970406, model__epsilon=0.3549878832196502;, score=-5292.657 total time= 1.5min\n",
      "[CV 5/15; 8/50] START model__C=0.3511356313970406, model__epsilon=0.3549878832196502\n"
     ]
    },
    {
     "name": "stderr",
     "output_type": "stream",
     "text": [
      "/opt/anaconda3/lib/python3.9/site-packages/sklearn/svm/_base.py:299: ConvergenceWarning: Solver terminated early (max_iter=50000).  Consider pre-processing your data with StandardScaler or MinMaxScaler.\n",
      "  warnings.warn(\n"
     ]
    },
    {
     "name": "stdout",
     "output_type": "stream",
     "text": [
      "[CV 5/15; 8/50] END model__C=0.3511356313970406, model__epsilon=0.3549878832196502;, score=-5791.041 total time= 1.5min\n",
      "[CV 6/15; 8/50] START model__C=0.3511356313970406, model__epsilon=0.3549878832196502\n"
     ]
    },
    {
     "name": "stderr",
     "output_type": "stream",
     "text": [
      "/opt/anaconda3/lib/python3.9/site-packages/sklearn/svm/_base.py:299: ConvergenceWarning: Solver terminated early (max_iter=50000).  Consider pre-processing your data with StandardScaler or MinMaxScaler.\n",
      "  warnings.warn(\n"
     ]
    },
    {
     "name": "stdout",
     "output_type": "stream",
     "text": [
      "[CV 6/15; 8/50] END model__C=0.3511356313970406, model__epsilon=0.3549878832196502;, score=-5417.742 total time= 1.5min\n",
      "[CV 7/15; 8/50] START model__C=0.3511356313970406, model__epsilon=0.3549878832196502\n"
     ]
    },
    {
     "name": "stderr",
     "output_type": "stream",
     "text": [
      "/opt/anaconda3/lib/python3.9/site-packages/sklearn/svm/_base.py:299: ConvergenceWarning: Solver terminated early (max_iter=50000).  Consider pre-processing your data with StandardScaler or MinMaxScaler.\n",
      "  warnings.warn(\n"
     ]
    },
    {
     "name": "stdout",
     "output_type": "stream",
     "text": [
      "[CV 7/15; 8/50] END model__C=0.3511356313970406, model__epsilon=0.3549878832196502;, score=-5658.249 total time= 1.5min\n",
      "[CV 8/15; 8/50] START model__C=0.3511356313970406, model__epsilon=0.3549878832196502\n"
     ]
    },
    {
     "name": "stderr",
     "output_type": "stream",
     "text": [
      "/opt/anaconda3/lib/python3.9/site-packages/sklearn/svm/_base.py:299: ConvergenceWarning: Solver terminated early (max_iter=50000).  Consider pre-processing your data with StandardScaler or MinMaxScaler.\n",
      "  warnings.warn(\n"
     ]
    },
    {
     "name": "stdout",
     "output_type": "stream",
     "text": [
      "[CV 8/15; 8/50] END model__C=0.3511356313970406, model__epsilon=0.3549878832196502;, score=-5820.617 total time= 1.5min\n",
      "[CV 9/15; 8/50] START model__C=0.3511356313970406, model__epsilon=0.3549878832196502\n"
     ]
    },
    {
     "name": "stderr",
     "output_type": "stream",
     "text": [
      "/opt/anaconda3/lib/python3.9/site-packages/sklearn/svm/_base.py:299: ConvergenceWarning: Solver terminated early (max_iter=50000).  Consider pre-processing your data with StandardScaler or MinMaxScaler.\n",
      "  warnings.warn(\n"
     ]
    },
    {
     "name": "stdout",
     "output_type": "stream",
     "text": [
      "[CV 9/15; 8/50] END model__C=0.3511356313970406, model__epsilon=0.3549878832196502;, score=-5411.250 total time= 1.5min\n",
      "[CV 10/15; 8/50] START model__C=0.3511356313970406, model__epsilon=0.3549878832196502\n"
     ]
    },
    {
     "name": "stderr",
     "output_type": "stream",
     "text": [
      "/opt/anaconda3/lib/python3.9/site-packages/sklearn/svm/_base.py:299: ConvergenceWarning: Solver terminated early (max_iter=50000).  Consider pre-processing your data with StandardScaler or MinMaxScaler.\n",
      "  warnings.warn(\n"
     ]
    },
    {
     "name": "stdout",
     "output_type": "stream",
     "text": [
      "[CV 10/15; 8/50] END model__C=0.3511356313970406, model__epsilon=0.3549878832196502;, score=-5837.406 total time= 1.5min\n",
      "[CV 11/15; 8/50] START model__C=0.3511356313970406, model__epsilon=0.3549878832196502\n"
     ]
    },
    {
     "name": "stderr",
     "output_type": "stream",
     "text": [
      "/opt/anaconda3/lib/python3.9/site-packages/sklearn/svm/_base.py:299: ConvergenceWarning: Solver terminated early (max_iter=50000).  Consider pre-processing your data with StandardScaler or MinMaxScaler.\n",
      "  warnings.warn(\n"
     ]
    },
    {
     "name": "stdout",
     "output_type": "stream",
     "text": [
      "[CV 11/15; 8/50] END model__C=0.3511356313970406, model__epsilon=0.3549878832196502;, score=-5433.045 total time= 1.5min\n",
      "[CV 12/15; 8/50] START model__C=0.3511356313970406, model__epsilon=0.3549878832196502\n"
     ]
    },
    {
     "name": "stderr",
     "output_type": "stream",
     "text": [
      "/opt/anaconda3/lib/python3.9/site-packages/sklearn/svm/_base.py:299: ConvergenceWarning: Solver terminated early (max_iter=50000).  Consider pre-processing your data with StandardScaler or MinMaxScaler.\n",
      "  warnings.warn(\n"
     ]
    },
    {
     "name": "stdout",
     "output_type": "stream",
     "text": [
      "[CV 12/15; 8/50] END model__C=0.3511356313970406, model__epsilon=0.3549878832196502;, score=-5690.017 total time= 1.5min\n",
      "[CV 13/15; 8/50] START model__C=0.3511356313970406, model__epsilon=0.3549878832196502\n"
     ]
    },
    {
     "name": "stderr",
     "output_type": "stream",
     "text": [
      "/opt/anaconda3/lib/python3.9/site-packages/sklearn/svm/_base.py:299: ConvergenceWarning: Solver terminated early (max_iter=50000).  Consider pre-processing your data with StandardScaler or MinMaxScaler.\n",
      "  warnings.warn(\n"
     ]
    },
    {
     "name": "stdout",
     "output_type": "stream",
     "text": [
      "[CV 13/15; 8/50] END model__C=0.3511356313970406, model__epsilon=0.3549878832196502;, score=-5847.952 total time= 1.5min\n",
      "[CV 14/15; 8/50] START model__C=0.3511356313970406, model__epsilon=0.3549878832196502\n"
     ]
    }
   ],
   "source": [
    "find_best_hyperparameters(pipeline, x_val, y_val, model_para, score = 'neg_mean_squared_error', verbose=10)"
   ]
  },
  {
   "cell_type": "code",
   "execution_count": null,
   "id": "ab5b40ac",
   "metadata": {},
   "outputs": [],
   "source": []
  }
 ],
 "metadata": {
  "kernelspec": {
   "display_name": "Python 3 (ipykernel)",
   "language": "python",
   "name": "python3"
  },
  "language_info": {
   "codemirror_mode": {
    "name": "ipython",
    "version": 3
   },
   "file_extension": ".py",
   "mimetype": "text/x-python",
   "name": "python",
   "nbconvert_exporter": "python",
   "pygments_lexer": "ipython3",
   "version": "3.9.12"
  }
 },
 "nbformat": 4,
 "nbformat_minor": 5
}
