{
 "cells": [
  {
   "attachments": {},
   "cell_type": "markdown",
   "metadata": {},
   "source": [
    "# Descriptive (Spatial) Analytics\n",
    "\n",
    "Analyze taxi demand patterns for the relevant one-year period and \n",
    "city (please check carefully which year your team has been allocated). \n",
    "\n",
    "Specifically show how these\n",
    "patterns (start time, trip length, start and end location, price, average idle time between trips, and so \n",
    "on) for the given sample varies in different spatio-temporal resolution (i.e., census tract vs. varying\n",
    "hexagon diameter and/or temporal bin sizes). \n",
    "\n",
    "Give possible reasons for the observed patterns."
   ]
  },
  {
   "attachments": {},
   "cell_type": "markdown",
   "metadata": {},
   "source": [
    "## Start time"
   ]
  },
  {
   "attachments": {},
   "cell_type": "markdown",
   "metadata": {},
   "source": [
    "### Census tract vs. varying hexagon diameter"
   ]
  },
  {
   "attachments": {},
   "cell_type": "markdown",
   "metadata": {},
   "source": [
    "### Census tract vs. diff temporal bin sizes"
   ]
  },
  {
   "attachments": {},
   "cell_type": "markdown",
   "metadata": {},
   "source": [
    "## More features"
   ]
  }
 ],
 "metadata": {
  "language_info": {
   "name": "python"
  },
  "orig_nbformat": 4
 },
 "nbformat": 4,
 "nbformat_minor": 2
}
