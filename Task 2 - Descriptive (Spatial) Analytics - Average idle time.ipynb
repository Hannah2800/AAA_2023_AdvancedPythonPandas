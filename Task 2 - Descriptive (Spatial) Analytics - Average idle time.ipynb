{
 "cells": [
  {
   "attachments": {},
   "cell_type": "markdown",
   "metadata": {},
   "source": [
    "# Descriptive (Spatial) Analytics\n",
    "\n",
    "Analyze taxi demand patterns for the relevant one-year period and \n",
    "city (please check carefully which year your team has been allocated). \n",
    "\n",
    "Specifically show how these\n",
    "patterns (start time, trip length, start and end location, price, average idle time between trips, and so \n",
    "on) for the given sample varies in different spatio-temporal resolution (i.e., census tract vs. varying\n",
    "hexagon diameter and/or temporal bin sizes). \n",
    "\n",
    "Give possible reasons for the observed patterns."
   ]
  },
  {
   "attachments": {},
   "cell_type": "markdown",
   "metadata": {},
   "source": [
    "## 1.1 Average idle time"
   ]
  },
  {
   "cell_type": "markdown",
   "metadata": {},
   "source": [
    "To account for large time gaps when the driver does not work, we introduce a threshold of xx to consider only significant idle periods. In the following we present the steps we followed to calculate the average idle time:\n",
    "\n",
    "1. **Sorting the Trips in ascending order for each taxi:** We sort the trips in ascending order for each taxi and start time.\n",
    "\n",
    "2. **Identifying the Idle Periods:** For each driver, we find the time gap between the end time of one trip and the start time of the next trip. \n",
    "\n",
    "3. **Introducing a threshold of xx hours:** If the time gap exceeds the defined threshold of xx minutes (i.e., xx hours), we can ignore this time gaps, because the driver is not working at that time. By introducing a threshold, you can exclude the large time gaps when the driver does not work from the calculation of the average idle time. This approach provides a more accurate representation of the idle time during active working periods.\n",
    "\n",
    "4. **Summing Idle Times up:** We add up all the significant idle times calculated after step 3 for all drivers to get the total idle time.\n",
    "\n",
    "5. **Counting the Idle Periods:** We count the number of significant idle periods observed in step 2. This will be the total number of significant idle periods for all drivers.\n",
    "\n",
    "6. **Calculating the Average:** We divide the total idle time by the number of significant idle periods to find the average idle time per significant idle period.\n"
   ]
  },
  {
   "cell_type": "code",
   "execution_count": 1,
   "metadata": {},
   "outputs": [],
   "source": [
    "import matplotlib.pyplot as plt\n",
    "import pandas as pd\n",
    "import seaborn as sns\n",
    "from datetime import datetime\n",
    "import numpy as np\n"
   ]
  },
  {
   "cell_type": "code",
   "execution_count": 2,
   "metadata": {},
   "outputs": [],
   "source": [
    "# import datasets\n",
    "dfChicago = pd.read_csv(\"data\\datasets\\df_chicago.csv.zip\")\n",
    "dfChicago_hourly = pd.read_csv(\"data\\datasets\\df_chicago_hourly.csv\")"
   ]
  },
  {
   "cell_type": "code",
   "execution_count": 3,
   "metadata": {},
   "outputs": [],
   "source": [
    "# Sort trip data by start time\n",
    "dfChicago_avg_idle_time = dfChicago.sort_values(by=['Taxi_ID', 'Original_Trip_Start_Timestamp'])\n",
    "\n",
    "# Reset index\n",
    "dfChicago_avg_idle_time.reset_index(drop=True, inplace=True)\n",
    "\n",
    "# defining a threshold in minutes\n",
    "threshold_minutes = 480\n",
    "\n",
    "# Calculate time differences using vectorized operations\n",
    "time_diff = (\n",
    "    pd.to_datetime(dfChicago_avg_idle_time[\"Original_Trip_Start_Timestamp\"]) -\n",
    "    pd.to_datetime(dfChicago_avg_idle_time[\"Original_Trip_End_Timestamp\"].shift())\n",
    ").dt.total_seconds() / 60\n",
    "\n",
    "# Set \"Idle Time Minutes\" column based on the threshold\n",
    "dfChicago_avg_idle_time[\"Idle Time Minutes\"] = np.where(\n",
    "    (time_diff > threshold_minutes) & \n",
    "    (dfChicago_avg_idle_time[\"Taxi_ID\"] == dfChicago_avg_idle_time[\"Taxi_ID\"].shift()), time_diff, 0)\n",
    "\n",
    "# Set \"Idle Period\" column based on condition using np.where\n",
    "dfChicago_avg_idle_time[\"Idle Period\"] = np.where(\n",
    "    (dfChicago_avg_idle_time[\"Idle Time Minutes\"] < threshold_minutes) &\n",
    "    (dfChicago_avg_idle_time[\"Taxi_ID\"] == dfChicago_avg_idle_time[\"Taxi_ID\"].shift()),\n",
    "    1, 0\n",
    ")\n",
    "\n",
    "# Set \"Idle Time Minutes\" column based on the threshold\n",
    "dfChicago_avg_idle_time[\"Idle Time Minutes\"] = np.where(\n",
    "    (time_diff <= threshold_minutes) &\n",
    "    (dfChicago_avg_idle_time[\"Taxi_ID\"] == dfChicago_avg_idle_time[\"Taxi_ID\"].shift()), time_diff, 0)\n"
   ]
  },
  {
   "cell_type": "code",
   "execution_count": null,
   "metadata": {},
   "outputs": [],
   "source": [
    "average_idle_time = dfChicago_avg_idle_time[\"Idle Time Minutes\"].sum() / dfChicago_avg_idle_time[\"Idle Period\"].sum()\n",
    "average_idle_time"
   ]
  },
  {
   "cell_type": "code",
   "execution_count": null,
   "metadata": {},
   "outputs": [],
   "source": [
    "import matplotlib.pyplot as plt\n",
    "\n",
    "# Assuming dfChicago_avg_idle_time[\"Idle Time Minutes\"] is a numeric column\n",
    "idle_time_minutes = dfChicago_avg_idle_time[\"Idle Time Minutes\"]\n",
    "\n",
    "# Set the figure size (width, height) in inches\n",
    "plt.figure(figsize=(10, 6))\n",
    "\n",
    "# Plot the histogram and get bin edges\n",
    "hist, bin_edges, _ = plt.hist(idle_time_minutes, bins=20, edgecolor='black', align='mid')\n",
    "\n",
    "# Calculate the center positions of each bin\n",
    "bin_centers = (bin_edges[:-1] + bin_edges[1:]) / 2\n",
    "\n",
    "# Plot the bin intervals\n",
    "plt.bar(bin_centers, hist, width=(bin_edges[1] - bin_edges[0]), align='center', edgecolor='black')\n",
    "\n",
    "plt.xlabel(\"Idle Time Minutes\")\n",
    "plt.ylabel(\"Frequency\")\n",
    "plt.title(\"Histogram of Idle Time Minutes\")\n",
    "\n",
    "# Add a border around the note\n",
    "border_props = dict(boxstyle='round, pad=0.5', fc='lightgray', ec='black', lw=2)\n",
    "\n",
    "# Add the note with the specified coordinates and border properties\n",
    "plt.text(420, 5.5e6, f\"The bin size is {bin_edges[1] - bin_edges[0]}.\", fontsize=12, ha='center', va='center', color='black', bbox=border_props)\n",
    "\n",
    "plt.show()\n"
   ]
  },
  {
   "attachments": {},
   "cell_type": "markdown",
   "metadata": {},
   "source": [
    "### Census tract vs. varying hexagon diameter"
   ]
  },
  {
   "attachments": {},
   "cell_type": "markdown",
   "metadata": {},
   "source": [
    "### Census tract vs. diff temporal bin sizes"
   ]
  },
  {
   "attachments": {},
   "cell_type": "markdown",
   "metadata": {},
   "source": [
    "## More features"
   ]
  }
 ],
 "metadata": {
  "kernelspec": {
   "display_name": "Python 3",
   "language": "python",
   "name": "python3"
  },
  "language_info": {
   "codemirror_mode": {
    "name": "ipython",
    "version": 3
   },
   "file_extension": ".py",
   "mimetype": "text/x-python",
   "name": "python",
   "nbconvert_exporter": "python",
   "pygments_lexer": "ipython3",
   "version": "3.11.4"
  },
  "orig_nbformat": 4
 },
 "nbformat": 4,
 "nbformat_minor": 2
}
